{
 "cells": [
  {
   "cell_type": "code",
   "execution_count": 1,
   "metadata": {},
   "outputs": [
    {
     "name": "stdout",
     "output_type": "stream",
     "text": [
      "Reading package lists... Done\n",
      "E: List directory /var/lib/apt/lists/partial is missing. - Acquire (13: Permission denied)\n",
      "E: Could not open lock file /var/lib/dpkg/lock-frontend - open (13: Permission denied)\n",
      "E: Unable to acquire the dpkg frontend lock (/var/lib/dpkg/lock-frontend), are you root?\n",
      "Requirement already satisfied: pip in /usr/local/python/3.12.1/lib/python3.12/site-packages (24.3.1)\n",
      "Requirement already satisfied: pysus in /usr/local/python/3.12.1/lib/python3.12/site-packages (0.15.0)\n",
      "Requirement already satisfied: Unidecode<2.0.0,>=1.3.6 in /usr/local/python/3.12.1/lib/python3.12/site-packages (from pysus) (1.3.8)\n",
      "Requirement already satisfied: aioftp<0.22.0,>=0.21.4 in /usr/local/python/3.12.1/lib/python3.12/site-packages (from pysus) (0.21.4)\n",
      "Requirement already satisfied: bigtree<0.13.0,>=0.12.2 in /usr/local/python/3.12.1/lib/python3.12/site-packages (from pysus) (0.12.5)\n",
      "Requirement already satisfied: cffi==1.15.1 in /usr/local/python/3.12.1/lib/python3.12/site-packages (from pysus) (1.15.1)\n",
      "Requirement already satisfied: dateparser<2.0.0,>=1.1.8 in /usr/local/python/3.12.1/lib/python3.12/site-packages (from pysus) (1.2.0)\n",
      "Requirement already satisfied: dbfread==2.0.7 in /usr/local/python/3.12.1/lib/python3.12/site-packages (from pysus) (2.0.7)\n",
      "Requirement already satisfied: elasticsearch==7.16.2 in /usr/local/python/3.12.1/lib/python3.12/site-packages (from elasticsearch[preprocessing]==7.16.2->pysus) (7.16.2)\n",
      "Requirement already satisfied: fastparquet>=2023.10.1 in /usr/local/python/3.12.1/lib/python3.12/site-packages (from pysus) (2024.11.0)\n",
      "Requirement already satisfied: humanize<5.0.0,>=4.8.0 in /usr/local/python/3.12.1/lib/python3.12/site-packages (from pysus) (4.11.0)\n",
      "Requirement already satisfied: loguru<0.7.0,>=0.6.0 in /usr/local/python/3.12.1/lib/python3.12/site-packages (from pysus) (0.6.0)\n",
      "Requirement already satisfied: numpy==1.26.2 in /usr/local/python/3.12.1/lib/python3.12/site-packages (from pysus) (1.26.2)\n",
      "Requirement already satisfied: pandas<3.0.0,>=2.2.2 in /home/codespace/.local/lib/python3.12/site-packages (from pysus) (2.2.3)\n",
      "Requirement already satisfied: pyarrow>=11.0.0 in /usr/local/python/3.12.1/lib/python3.12/site-packages (from pysus) (18.1.0)\n",
      "Requirement already satisfied: pycparser==2.21 in /usr/local/python/3.12.1/lib/python3.12/site-packages (from pysus) (2.21)\n",
      "Requirement already satisfied: pyreaddbc>=1.1.0 in /usr/local/python/3.12.1/lib/python3.12/site-packages (from pysus) (1.2.0)\n",
      "Requirement already satisfied: python-dateutil==2.8.2 in /usr/local/python/3.12.1/lib/python3.12/site-packages (from pysus) (2.8.2)\n",
      "Requirement already satisfied: tqdm==4.64.0 in /usr/local/python/3.12.1/lib/python3.12/site-packages (from pysus) (4.64.0)\n",
      "Requirement already satisfied: typing-extensions<5.0.0,>=4.9.0 in /home/codespace/.local/lib/python3.12/site-packages (from pysus) (4.12.2)\n",
      "Requirement already satisfied: urwid<3.0.0,>=2.1.2 in /usr/local/python/3.12.1/lib/python3.12/site-packages (from pysus) (2.6.16)\n",
      "Requirement already satisfied: wget<4.0,>=3.2 in /usr/local/python/3.12.1/lib/python3.12/site-packages (from pysus) (3.2)\n",
      "Requirement already satisfied: urllib3<2,>=1.21.1 in /usr/local/python/3.12.1/lib/python3.12/site-packages (from elasticsearch==7.16.2->elasticsearch[preprocessing]==7.16.2->pysus) (1.26.20)\n",
      "Requirement already satisfied: certifi in /home/codespace/.local/lib/python3.12/site-packages (from elasticsearch==7.16.2->elasticsearch[preprocessing]==7.16.2->pysus) (2024.8.30)\n",
      "\u001b[33mWARNING: elasticsearch 7.16.2 does not provide the extra 'preprocessing'\u001b[0m\u001b[33m\n",
      "\u001b[0mRequirement already satisfied: six>=1.5 in /home/codespace/.local/lib/python3.12/site-packages (from python-dateutil==2.8.2->pysus) (1.17.0)\n",
      "Requirement already satisfied: pytz in /home/codespace/.local/lib/python3.12/site-packages (from dateparser<2.0.0,>=1.1.8->pysus) (2024.2)\n",
      "Requirement already satisfied: regex!=2019.02.19,!=2021.8.27 in /usr/local/python/3.12.1/lib/python3.12/site-packages (from dateparser<2.0.0,>=1.1.8->pysus) (2024.11.6)\n",
      "Requirement already satisfied: tzlocal in /usr/local/python/3.12.1/lib/python3.12/site-packages (from dateparser<2.0.0,>=1.1.8->pysus) (5.2)\n",
      "Requirement already satisfied: cramjam>=2.3 in /usr/local/python/3.12.1/lib/python3.12/site-packages (from fastparquet>=2023.10.1->pysus) (2.9.1)\n",
      "Requirement already satisfied: fsspec in /home/codespace/.local/lib/python3.12/site-packages (from fastparquet>=2023.10.1->pysus) (2024.2.0)\n",
      "Requirement already satisfied: packaging in /home/codespace/.local/lib/python3.12/site-packages (from fastparquet>=2023.10.1->pysus) (24.2)\n",
      "Requirement already satisfied: tzdata>=2022.7 in /home/codespace/.local/lib/python3.12/site-packages (from pandas<3.0.0,>=2.2.2->pysus) (2024.2)\n",
      "Requirement already satisfied: pyyaml>=6 in /home/codespace/.local/lib/python3.12/site-packages (from pyreaddbc>=1.1.0->pysus) (6.0.2)\n",
      "Requirement already satisfied: wcwidth in /home/codespace/.local/lib/python3.12/site-packages (from urwid<3.0.0,>=2.1.2->pysus) (0.2.13)\n",
      "Requirement already satisfied: gdown in /usr/local/python/3.12.1/lib/python3.12/site-packages (5.2.0)\n",
      "Requirement already satisfied: beautifulsoup4 in /home/codespace/.local/lib/python3.12/site-packages (from gdown) (4.12.3)\n",
      "Requirement already satisfied: filelock in /home/codespace/.local/lib/python3.12/site-packages (from gdown) (3.13.1)\n",
      "Requirement already satisfied: requests[socks] in /home/codespace/.local/lib/python3.12/site-packages (from gdown) (2.32.3)\n",
      "Requirement already satisfied: tqdm in /usr/local/python/3.12.1/lib/python3.12/site-packages (from gdown) (4.64.0)\n",
      "Requirement already satisfied: soupsieve>1.2 in /home/codespace/.local/lib/python3.12/site-packages (from beautifulsoup4->gdown) (2.6)\n",
      "Requirement already satisfied: charset-normalizer<4,>=2 in /home/codespace/.local/lib/python3.12/site-packages (from requests[socks]->gdown) (3.4.0)\n",
      "Requirement already satisfied: idna<4,>=2.5 in /home/codespace/.local/lib/python3.12/site-packages (from requests[socks]->gdown) (3.10)\n",
      "Requirement already satisfied: urllib3<3,>=1.21.1 in /usr/local/python/3.12.1/lib/python3.12/site-packages (from requests[socks]->gdown) (1.26.20)\n",
      "Requirement already satisfied: certifi>=2017.4.17 in /home/codespace/.local/lib/python3.12/site-packages (from requests[socks]->gdown) (2024.8.30)\n",
      "Requirement already satisfied: PySocks!=1.5.7,>=1.5.6 in /usr/local/python/3.12.1/lib/python3.12/site-packages (from requests[socks]->gdown) (1.7.1)\n",
      "Requirement already satisfied: pylance in /usr/local/python/3.12.1/lib/python3.12/site-packages (0.21.0)\n",
      "Requirement already satisfied: pyarrow>=14 in /usr/local/python/3.12.1/lib/python3.12/site-packages (from pylance) (18.1.0)\n",
      "Requirement already satisfied: numpy>=1.22 in /usr/local/python/3.12.1/lib/python3.12/site-packages (from pylance) (1.26.2)\n"
     ]
    }
   ],
   "source": [
    "# Costuma ser exigida a instalação destas bibliotecas no primeiro acesso ao Pysus\n",
    "!apt-get update  \n",
    "!apt-get install libffi-dev  # Install libffi-dev\n",
    "!pip install --upgrade pip  # Ensure pip is up to date\n",
    "!pip install pysus # Exa\n",
    "!pip install gdown\n",
    "!pip install pylance"
   ]
  },
  {
   "cell_type": "code",
   "execution_count": 2,
   "metadata": {},
   "outputs": [
    {
     "name": "stdout",
     "output_type": "stream",
     "text": [
      "Requirement already satisfied: pylance in /home/codespace/.python/current/lib/python3.12/site-packages (0.21.0)\n",
      "Requirement already satisfied: pyarrow>=14 in /home/codespace/.python/current/lib/python3.12/site-packages (from pylance) (18.1.0)\n",
      "Requirement already satisfied: numpy>=1.22 in /home/codespace/.python/current/lib/python3.12/site-packages (from pylance) (1.26.2)\n",
      "Note: you may need to restart the kernel to use updated packages.\n"
     ]
    }
   ],
   "source": [
    "pip install pylance"
   ]
  },
  {
   "cell_type": "code",
   "execution_count": 1,
   "metadata": {},
   "outputs": [],
   "source": [
    "# importar bibliotecas para carga dos dados\n",
    "import pysus\n",
    "import os\n",
    "import sidrapy\n",
    "import requests # para carga de endereços web - api\n",
    "from pysus import SIM\n",
    "from pysus.online_data.SIM import download\n",
    "from pysus.preprocessing.decoders import translate_variables_SIM\n",
    "from pysus.preprocessing.SIM import group_and_count, redistribute_missing, redistribute_cid_chapter\n",
    "from pysus.online_data.SIM import get_CID9_table, get_CID10_table, get_municipios, get_ocupations\n",
    "from ftplib import FTP\n",
    "from pathlib import Path  "
   ]
  },
  {
   "cell_type": "code",
   "execution_count": null,
   "metadata": {},
   "outputs": [],
   "source": []
  },
  {
   "cell_type": "code",
   "execution_count": 12,
   "metadata": {},
   "outputs": [
    {
     "ename": "NameError",
     "evalue": "name 'sim' is not defined",
     "output_type": "error",
     "traceback": [
      "\u001b[0;31m---------------------------------------------------------------------------\u001b[0m",
      "\u001b[0;31mNameError\u001b[0m                                 Traceback (most recent call last)",
      "Cell \u001b[0;32mIn[12], line 1\u001b[0m\n\u001b[0;32m----> 1\u001b[0m dobr2010 \u001b[38;5;241m=\u001b[39m \u001b[43msim\u001b[49m\u001b[38;5;241m.\u001b[39mget_files(\u001b[38;5;124m\"\u001b[39m\u001b[38;5;124mCID10\u001b[39m\u001b[38;5;124m\"\u001b[39m, uf\u001b[38;5;241m=\u001b[39m[\u001b[38;5;124m\"\u001b[39m\u001b[38;5;124mBR\u001b[39m\u001b[38;5;124m\"\u001b[39m], year\u001b[38;5;241m=\u001b[39m[\u001b[38;5;241m2010\u001b[39m])\n\u001b[1;32m      2\u001b[0m dobr2010\n",
      "\u001b[0;31mNameError\u001b[0m: name 'sim' is not defined"
     ]
    }
   ],
   "source": [
    "\n",
    "dobr2010 = sim.get_files(\"CID10\", uf=[\"BR\"], year=[2010])\n",
    "dobr2010"
   ]
  },
  {
   "cell_type": "code",
   "execution_count": 9,
   "metadata": {},
   "outputs": [
    {
     "data": {
      "text/plain": [
       "<function pysus.preprocessing.decoders.translate_variables_SIM(dataframe: pandas.core.frame.DataFrame, age_unit: str = 'Y', age_classes=None, classify_args: dict = {}, classify_cid10_chapters=False, geocode_dv=True, nan_marker=None, category_columns=True)>"
      ]
     },
     "execution_count": 9,
     "metadata": {},
     "output_type": "execute_result"
    }
   ],
   "source": [
    "translate_variables_SIM"
   ]
  },
  {
   "cell_type": "code",
   "execution_count": 7,
   "metadata": {},
   "outputs": [
    {
     "name": "stderr",
     "output_type": "stream",
     "text": [
      "2024-12-26 16:45:33.102 | DEBUG    | pysus.online_data.SIM:get_CID10_table:116 - Stablishing connection with ftp.datasus.gov.br.\n",
      "220 Microsoft FTP Service\n",
      "2024-12-26 16:45:33.139 | DEBUG    | pysus.online_data.SIM:get_CID10_table:120 - Changing FTP work dir to: /dissemin/publicos/SIM/CID10/TABELAS\n",
      "2024-12-26 16:45:33.740 | INFO     | pysus.online_data.SIM:get_CID10_table:146 - Data stored as parquet at /home/codespace/pysus/SIM_CID10_.parquet\n",
      "2024-12-26 16:45:33.743 | DEBUG    | pysus.online_data.SIM:get_CID10_table:149 - CID10.DBF removed\n"
     ]
    },
    {
     "data": {
      "text/html": [
       "<div>\n",
       "<style scoped>\n",
       "    .dataframe tbody tr th:only-of-type {\n",
       "        vertical-align: middle;\n",
       "    }\n",
       "\n",
       "    .dataframe tbody tr th {\n",
       "        vertical-align: top;\n",
       "    }\n",
       "\n",
       "    .dataframe thead th {\n",
       "        text-align: right;\n",
       "    }\n",
       "</style>\n",
       "<table border=\"1\" class=\"dataframe\">\n",
       "  <thead>\n",
       "    <tr style=\"text-align: right;\">\n",
       "      <th></th>\n",
       "      <th>CID10</th>\n",
       "      <th>OPC</th>\n",
       "      <th>CAT</th>\n",
       "      <th>SUBCAT</th>\n",
       "      <th>DESCR</th>\n",
       "      <th>RESTRSEXO</th>\n",
       "    </tr>\n",
       "  </thead>\n",
       "  <tbody>\n",
       "    <tr>\n",
       "      <th>0</th>\n",
       "      <td>A00</td>\n",
       "      <td></td>\n",
       "      <td>S</td>\n",
       "      <td>N</td>\n",
       "      <td>A00   Colera</td>\n",
       "      <td>5</td>\n",
       "    </tr>\n",
       "    <tr>\n",
       "      <th>1</th>\n",
       "      <td>A000</td>\n",
       "      <td></td>\n",
       "      <td>N</td>\n",
       "      <td>S</td>\n",
       "      <td>A00.0 Colera dev Vibrio cholerae 01 biot cholerae</td>\n",
       "      <td>5</td>\n",
       "    </tr>\n",
       "    <tr>\n",
       "      <th>2</th>\n",
       "      <td>A001</td>\n",
       "      <td></td>\n",
       "      <td>N</td>\n",
       "      <td>S</td>\n",
       "      <td>A00.1 Colera dev Vibrio cholerae 01 biot El Tor</td>\n",
       "      <td>5</td>\n",
       "    </tr>\n",
       "    <tr>\n",
       "      <th>3</th>\n",
       "      <td>A009</td>\n",
       "      <td></td>\n",
       "      <td>N</td>\n",
       "      <td>S</td>\n",
       "      <td>A00.9 Colera NE</td>\n",
       "      <td>5</td>\n",
       "    </tr>\n",
       "    <tr>\n",
       "      <th>4</th>\n",
       "      <td>A01</td>\n",
       "      <td></td>\n",
       "      <td>S</td>\n",
       "      <td>N</td>\n",
       "      <td>A01   Febres tifoide e paratifoide</td>\n",
       "      <td>5</td>\n",
       "    </tr>\n",
       "    <tr>\n",
       "      <th>...</th>\n",
       "      <td>...</td>\n",
       "      <td>...</td>\n",
       "      <td>...</td>\n",
       "      <td>...</td>\n",
       "      <td>...</td>\n",
       "      <td>...</td>\n",
       "    </tr>\n",
       "    <tr>\n",
       "      <th>14252</th>\n",
       "      <td>Z926</td>\n",
       "      <td></td>\n",
       "      <td>N</td>\n",
       "      <td>S</td>\n",
       "      <td>Z92.6 História pessoal de quimioterapia para d...</td>\n",
       "      <td>5</td>\n",
       "    </tr>\n",
       "    <tr>\n",
       "      <th>14253</th>\n",
       "      <td>U070</td>\n",
       "      <td></td>\n",
       "      <td>N</td>\n",
       "      <td>S</td>\n",
       "      <td>U07.0 Doença por cigarro eletrônico</td>\n",
       "      <td>5</td>\n",
       "    </tr>\n",
       "    <tr>\n",
       "      <th>14254</th>\n",
       "      <td>U071</td>\n",
       "      <td></td>\n",
       "      <td>N</td>\n",
       "      <td>S</td>\n",
       "      <td>U07.1 Infecção pelo novo Coronavírus (COVID-19)</td>\n",
       "      <td>5</td>\n",
       "    </tr>\n",
       "    <tr>\n",
       "      <th>14255</th>\n",
       "      <td>U072</td>\n",
       "      <td></td>\n",
       "      <td>N</td>\n",
       "      <td>S</td>\n",
       "      <td>U07.2 COVID-19, vírus não identificado</td>\n",
       "      <td>5</td>\n",
       "    </tr>\n",
       "    <tr>\n",
       "      <th>14256</th>\n",
       "      <td>U07</td>\n",
       "      <td></td>\n",
       "      <td>S</td>\n",
       "      <td>N</td>\n",
       "      <td>U07 Uso emergencial do U07</td>\n",
       "      <td>5</td>\n",
       "    </tr>\n",
       "  </tbody>\n",
       "</table>\n",
       "<p>14257 rows × 6 columns</p>\n",
       "</div>"
      ],
      "text/plain": [
       "      CID10 OPC CAT SUBCAT                                              DESCR  \\\n",
       "0       A00       S      N                                       A00   Colera   \n",
       "1      A000       N      S  A00.0 Colera dev Vibrio cholerae 01 biot cholerae   \n",
       "2      A001       N      S    A00.1 Colera dev Vibrio cholerae 01 biot El Tor   \n",
       "3      A009       N      S                                    A00.9 Colera NE   \n",
       "4       A01       S      N                 A01   Febres tifoide e paratifoide   \n",
       "...     ...  ..  ..    ...                                                ...   \n",
       "14252  Z926       N      S  Z92.6 História pessoal de quimioterapia para d...   \n",
       "14253  U070       N      S                U07.0 Doença por cigarro eletrônico   \n",
       "14254  U071       N      S    U07.1 Infecção pelo novo Coronavírus (COVID-19)   \n",
       "14255  U072       N      S             U07.2 COVID-19, vírus não identificado   \n",
       "14256   U07       S      N                         U07 Uso emergencial do U07   \n",
       "\n",
       "      RESTRSEXO  \n",
       "0             5  \n",
       "1             5  \n",
       "2             5  \n",
       "3             5  \n",
       "4             5  \n",
       "...         ...  \n",
       "14252         5  \n",
       "14253         5  \n",
       "14254         5  \n",
       "14255         5  \n",
       "14256         5  \n",
       "\n",
       "[14257 rows x 6 columns]"
      ]
     },
     "execution_count": 7,
     "metadata": {},
     "output_type": "execute_result"
    }
   ],
   "source": [
    "cid10 = get_CID10_table()\n",
    "cid10"
   ]
  }
 ],
 "metadata": {
  "kernelspec": {
   "display_name": "Python 3",
   "language": "python",
   "name": "python3"
  },
  "language_info": {
   "codemirror_mode": {
    "name": "ipython",
    "version": 3
   },
   "file_extension": ".py",
   "mimetype": "text/x-python",
   "name": "python",
   "nbconvert_exporter": "python",
   "pygments_lexer": "ipython3",
   "version": "3.12.1"
  }
 },
 "nbformat": 4,
 "nbformat_minor": 2
}
