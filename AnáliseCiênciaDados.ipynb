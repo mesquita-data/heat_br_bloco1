{
 "cells": [
  {
   "cell_type": "markdown",
   "metadata": {},
   "source": [
    "## Análises de Dados comparativos"
   ]
  },
  {
   "cell_type": "markdown",
   "metadata": {},
   "source": [
    "### Biblioteca de data science"
   ]
  },
  {
   "cell_type": "code",
   "execution_count": 18,
   "metadata": {},
   "outputs": [],
   "source": [
    "import pandas as pd\n",
    "import matplotlib.pyplot as plt\n",
    "import numpy as np\n",
    "import seaborn as sns\n",
    "import statsmodels.api as sm\n",
    "from scipy import stats # Para testes ANOVA, comparação entre médias\n",
    "from tabulate import tabulate"
   ]
  },
  {
   "cell_type": "code",
   "execution_count": 95,
   "metadata": {},
   "outputs": [
    {
     "name": "stdout",
     "output_type": "stream",
     "text": [
      "\u001b[33m ==> Este texto será impresso em amarelo!\u001b[0m\n",
      "Este em normal!\n"
     ]
    }
   ],
   "source": [
    "# Para organizar resultados, gerar prints em amarelo\n",
    "\n",
    "def print_y(text):\n",
    "  \"\"\"Imprime o texto fornecido na cor amarela.\n",
    "\n",
    "  Args:\n",
    "    text: O texto a ser impresso.\n",
    "  \"\"\"\n",
    "  print(f\"\\033[33m ==> {text}\\033[0m\")\n",
    "\n",
    "# Exemplo de uso:\n",
    "print_y(\"Este texto será impresso em amarelo!\")\n",
    "print(\"Este em normal!\")"
   ]
  },
  {
   "cell_type": "markdown",
   "metadata": {},
   "source": [
    "### Gerar dados gerais de população"
   ]
  },
  {
   "cell_type": "code",
   "execution_count": null,
   "metadata": {},
   "outputs": [
    {
     "name": "stdout",
     "output_type": "stream",
     "text": [
      "Registro da tabela : 54\n",
      "Contagem de pop : 379903191\n",
      "+----+-------+----------+-------------+---------------+---------+\n",
      "|    |   Ano | uf_no    |   pop_total |   pop_under74 | uf_co   |\n",
      "|----+-------+----------+-------------+---------------+---------|\n",
      "|  0 |  2010 | Rondônia |     1562409 |       1537395 | _11     |\n",
      "|  1 |  2010 | Acre     |      733559 |        721559 | _12     |\n",
      "|  2 |  2010 | Amazonas |     3483985 |       3431598 | _13     |\n",
      "|  3 |  2010 | Roraima  |      450479 |        445050 | _14     |\n",
      "|  4 |  2010 | Pará     |     7581051 |       7450082 | _15     |\n",
      "+----+-------+----------+-------------+---------------+---------+\n"
     ]
    }
   ],
   "source": [
    "# Verificar população para 2022 under74\n",
    "df_pop_under_temp = pd.read_parquet('files__temp/AvoidMort_v4_censo_pop_uf.parquet')\n",
    "\n",
    "# mostrar dados gerais da tabela após transformações\n",
    "tab = df_pop_under_temp\n",
    "print(f'Registro da tabela : {tab.shape[0]}')\n",
    "print(f'Contagem de pop : {tab.pop_under74.sum()}')\n",
    "# print(f'Contagem de óbitos : {tab.CONTADOR.sum()}')\n",
    "print(tabulate(tab.head(), headers='keys', tablefmt='psql'))\n"
   ]
  },
  {
   "cell_type": "code",
   "execution_count": null,
   "metadata": {},
   "outputs": [
    {
     "name": "stdout",
     "output_type": "stream",
     "text": [
      "Registro da tabela : 27\n",
      "Contagem de pop : 194646423\n",
      "+----+-------+----------+-------------+---------------+---------+\n",
      "|    |   Ano | uf_no    |   pop_total |   pop_under74 | uf_co   |\n",
      "|----+-------+----------+-------------+---------------+---------|\n",
      "| 27 |  2022 | Rondônia |     1581196 |       1537185 | _11     |\n",
      "| 28 |  2022 | Acre     |      830018 |        810919 | _12     |\n",
      "| 29 |  2022 | Amazonas |     3941613 |       3861307 | _13     |\n",
      "| 30 |  2022 | Roraima  |      636707 |        626444 | _14     |\n",
      "| 31 |  2022 | Pará     |     8120131 |       7905418 | _15     |\n",
      "+----+-------+----------+-------------+---------------+---------+\n"
     ]
    }
   ],
   "source": [
    "\n",
    "df_pop_under_temp01 = df_pop_under_temp[df_pop_under_temp['Ano']=='2022']\n",
    "\n",
    "# mostrar dados gerais da tabela após transformações\n",
    "tab = df_pop_under_temp01\n",
    "popunder74_2022 = df_pop_under_temp01.pop_under74.sum()\n",
    "print(f'Registro da tabela : {tab.shape[0]}')\n",
    "print(f'Contagem de pop : {popunder74_2022}')\n",
    "# print(f'Contagem de óbitos : {tab.CONTADOR.sum()}')\n",
    "print(tabulate(tab.head(), headers='keys', tablefmt='psql'))"
   ]
  },
  {
   "cell_type": "markdown",
   "metadata": {},
   "source": [
    "## Base por UF"
   ]
  },
  {
   "cell_type": "markdown",
   "metadata": {},
   "source": [
    "### Preparação do dataframe"
   ]
  },
  {
   "cell_type": "code",
   "execution_count": 187,
   "metadata": {},
   "outputs": [
    {
     "name": "stdout",
     "output_type": "stream",
     "text": [
      "<class 'pandas.core.frame.DataFrame'>\n",
      "RangeIndex: 47498 entries, 0 to 47497\n",
      "Data columns (total 7 columns):\n",
      " #   Column         Non-Null Count  Dtype \n",
      "---  ------         --------------  ----- \n",
      " 0   ANO_OBITO      47498 non-null  object\n",
      " 1   uf             47498 non-null  object\n",
      " 2   causes_deaths  47498 non-null  object\n",
      " 3   Sexo           47498 non-null  object\n",
      " 4   Cor ou raça    47498 non-null  object\n",
      " 5   pop_under74    47498 non-null  int64 \n",
      " 6   CONTADOR       47498 non-null  int64 \n",
      "dtypes: int64(2), object(5)\n",
      "memory usage: 2.5+ MB\n"
     ]
    }
   ],
   "source": [
    "do_temp = pd.read_parquet('files__temp/AvoidMort_v5_dobr_merged.parquet')\n",
    "do_temp.info()"
   ]
  },
  {
   "cell_type": "code",
   "execution_count": 188,
   "metadata": {},
   "outputs": [
    {
     "name": "stdout",
     "output_type": "stream",
     "text": [
      "Registro da tabela : 47498\n",
      "Contagem de óbitos : 4312347\n",
      "+----+-------------+----------+-------------------------------------------+--------+---------------+---------------+------------+\n",
      "|    |   ANO_OBITO | uf       | causes_deaths                             | Sexo   | Cor ou raça   |   pop_under74 |   CONTADOR |\n",
      "|----+-------------+----------+-------------------------------------------+--------+---------------+---------------+------------|\n",
      "|  0 |        2019 | Rondônia | Abscess of lung and mediastinum pyothorax | Homens | Branca        |        228640 |          1 |\n",
      "|  1 |        2019 | Rondônia | Accidental Injuries                       | Homens | Branca        |        228640 |         47 |\n",
      "|  2 |        2019 | Rondônia | Acute lower respiratory infections        | Homens | Branca        |        228640 |          1 |\n",
      "|  3 |        2019 | Rondônia | Acute pancreatitis                        | Homens | Branca        |        228640 |          3 |\n",
      "|  4 |        2019 | Rondônia | Alcohol-specific disorders and poisonings | Homens | Branca        |        228640 |         12 |\n",
      "+----+-------------+----------+-------------------------------------------+--------+---------------+---------------+------------+\n"
     ]
    }
   ],
   "source": [
    "# mostrar dados gerais da tabela\n",
    "tab = do_temp\n",
    "print(f'Registro da tabela : {tab.shape[0]}')\n",
    "print(f'Contagem de óbitos : {tab.CONTADOR.sum()}')\n",
    "print(tabulate(tab.head(), headers='keys', tablefmt='psql'))"
   ]
  },
  {
   "cell_type": "code",
   "execution_count": 189,
   "metadata": {},
   "outputs": [
    {
     "data": {
      "text/plain": [
       "array(['2019', '2020', '2021', '2022', '2010'], dtype=object)"
      ]
     },
     "execution_count": 189,
     "metadata": {},
     "output_type": "execute_result"
    }
   ],
   "source": [
    "do_temp.ANO_OBITO.unique()"
   ]
  },
  {
   "cell_type": "code",
   "execution_count": 190,
   "metadata": {},
   "outputs": [
    {
     "name": "stdout",
     "output_type": "stream",
     "text": [
      "Registro da tabela : 9898\n",
      "Contagem de óbitos : 860089\n",
      "+-----+-------------+----------+-------------------------------------------+--------+---------------+---------------+------------+\n",
      "|     |   ANO_OBITO | uf       | causes_deaths                             | Sexo   | Cor ou raça   |   pop_under74 |   CONTADOR |\n",
      "|-----+-------------+----------+-------------------------------------------+--------+---------------+---------------+------------|\n",
      "| 145 |        2022 | Rondônia | Abdominal hernia                          | Homens | Branca        |        228640 |          1 |\n",
      "| 146 |        2022 | Rondônia | Abscess of lung and mediastinum pyothorax | Homens | Branca        |        228640 |          2 |\n",
      "| 147 |        2022 | Rondônia | Accidental Injuries                       | Homens | Branca        |        228640 |         46 |\n",
      "| 148 |        2022 | Rondônia | Acute lower respiratory infections        | Homens | Branca        |        228640 |          2 |\n",
      "| 149 |        2022 | Rondônia | Acute pancreatitis                        | Homens | Branca        |        228640 |          5 |\n",
      "+-----+-------------+----------+-------------------------------------------+--------+---------------+---------------+------------+\n"
     ]
    }
   ],
   "source": [
    "# Filtrar o ano de 2022\n",
    "do_temp01 = do_temp.loc[do_temp['ANO_OBITO'] =='2022']\n",
    "\n",
    "# mostrar dados gerais da tabela após transformações\n",
    "tab = do_temp01\n",
    "print(f'Registro da tabela : {tab.shape[0]}')\n",
    "print(f'Contagem de óbitos : {tab.CONTADOR.sum()}')\n",
    "print(tabulate(tab.head(), headers='keys', tablefmt='psql'))"
   ]
  },
  {
   "cell_type": "code",
   "execution_count": 191,
   "metadata": {},
   "outputs": [
    {
     "name": "stdout",
     "output_type": "stream",
     "text": [
      "Registro da tabela : 9898\n",
      "Contagem de óbitos : 860089\n",
      "+-----+-------------+----------+-------------------------------------------+--------+---------------+---------------+------------+--------------+\n",
      "|     |   ANO_OBITO | uf       | causes_deaths                             | Sexo   | Cor ou raça   |   pop_under74 |   CONTADOR | avoid_flag   |\n",
      "|-----+-------------+----------+-------------------------------------------+--------+---------------+---------------+------------+--------------|\n",
      "| 145 |        2022 | Rondônia | Abdominal hernia                          | Homens | Branca        |        228640 |          1 | avoid        |\n",
      "| 146 |        2022 | Rondônia | Abscess of lung and mediastinum pyothorax | Homens | Branca        |        228640 |          2 | avoid        |\n",
      "| 147 |        2022 | Rondônia | Accidental Injuries                       | Homens | Branca        |        228640 |         46 | avoid        |\n",
      "| 148 |        2022 | Rondônia | Acute lower respiratory infections        | Homens | Branca        |        228640 |          2 | avoid        |\n",
      "| 149 |        2022 | Rondônia | Acute pancreatitis                        | Homens | Branca        |        228640 |          5 | avoid        |\n",
      "+-----+-------------+----------+-------------------------------------------+--------+---------------+---------------+------------+--------------+\n"
     ]
    }
   ],
   "source": [
    "do_temp02 = do_temp01.copy()\n",
    "\n",
    "# Incluir campo de flag de doença evitável ou não\n",
    "do_temp02['avoid_flag'] = np.where(do_temp02['causes_deaths'].str.startswith('causa não evitável'), 'not_avoid', 'avoid')\n",
    "\n",
    "# mostrar dados gerais da tabela após transformações\n",
    "tab = do_temp02\n",
    "print(f'Registro da tabela : {tab.shape[0]}')\n",
    "print(f'Contagem de óbitos : {tab.CONTADOR.sum()}')\n",
    "print(tabulate(tab.head(), headers='keys', tablefmt='psql'))"
   ]
  },
  {
   "cell_type": "code",
   "execution_count": 192,
   "metadata": {},
   "outputs": [
    {
     "name": "stdout",
     "output_type": "stream",
     "text": [
      "Registro da tabela : 9633\n",
      "Contagem de pop : 12108855399\n",
      "Contagem de óbitos : 525676\n",
      "+-----+-------------+----------+-------------------------------------------+--------+---------------+---------------+------------+--------------+\n",
      "|     |   ANO_OBITO | uf       | causes_deaths                             | Sexo   | Cor ou raça   |   pop_under74 |   CONTADOR | avoid_flag   |\n",
      "|-----+-------------+----------+-------------------------------------------+--------+---------------+---------------+------------+--------------|\n",
      "| 145 |        2022 | Rondônia | Abdominal hernia                          | Homens | Branca        |        228640 |          1 | avoid        |\n",
      "| 146 |        2022 | Rondônia | Abscess of lung and mediastinum pyothorax | Homens | Branca        |        228640 |          2 | avoid        |\n",
      "| 147 |        2022 | Rondônia | Accidental Injuries                       | Homens | Branca        |        228640 |         46 | avoid        |\n",
      "| 148 |        2022 | Rondônia | Acute lower respiratory infections        | Homens | Branca        |        228640 |          2 | avoid        |\n",
      "| 149 |        2022 | Rondônia | Acute pancreatitis                        | Homens | Branca        |        228640 |          5 | avoid        |\n",
      "+-----+-------------+----------+-------------------------------------------+--------+---------------+---------------+------------+--------------+\n"
     ]
    }
   ],
   "source": [
    "do_temp03 = do_temp02[do_temp02['avoid_flag'] == 'avoid']\n",
    "\n",
    "# mostrar dados gerais da tabela após transformações\n",
    "tab = do_temp03\n",
    "print(f'Registro da tabela : {tab.shape[0]}')\n",
    "print(f'Contagem de pop : {tab.pop_under74.sum()}')\n",
    "print(f'Contagem de óbitos : {tab.CONTADOR.sum()}')\n",
    "print(tabulate(tab.head(), headers='keys', tablefmt='psql'))"
   ]
  },
  {
   "cell_type": "code",
   "execution_count": 193,
   "metadata": {},
   "outputs": [
    {
     "name": "stdout",
     "output_type": "stream",
     "text": [
      "Registro da tabela : 269\n",
      "Contagem de pop : 194635294\n",
      "Contagem de óbitos : 525676\n",
      "+----+------+--------+---------------+------------+---------------+------------+\n",
      "|    | uf   | Sexo   | Cor ou raça   |   CONTADOR |   pop_under74 |   mort_ind |\n",
      "|----+------+--------+---------------+------------+---------------+------------|\n",
      "|  0 | Acre | Homens | Amarela       |          6 |           802 |    748.13  |\n",
      "|  1 | Acre | Homens | Branca        |        145 |         83918 |    172.788 |\n",
      "|  2 | Acre | Homens | Indígena      |         26 |         14524 |    179.014 |\n",
      "|  3 | Acre | Homens | Parda         |        896 |        268648 |    333.522 |\n",
      "|  4 | Acre | Homens | Preta         |         52 |         38401 |    135.413 |\n",
      "+----+------+--------+---------------+------------+---------------+------------+\n"
     ]
    }
   ],
   "source": [
    "# Agrupar por UF\n",
    "do_temp04 = do_temp03.groupby([\n",
    "                                   #       'Ano',\n",
    "                                         'uf',\n",
    "                                        #  'causes_deaths',\n",
    "                                         'Sexo',\n",
    "                                         'Cor ou raça',\n",
    "                                        #  'pop_under74',\n",
    "                                        #  'CONTADOR',\n",
    "                                        #  'mort_ind',\n",
    "                                   #       'avoid_flag'\n",
    "                                         ]\n",
    "                                        ).agg({'CONTADOR': 'sum',\n",
    "                                               'pop_under74': 'max'}\n",
    "                                               ).reset_index()\n",
    "\n",
    "do_temp04['mort_ind'] = (do_temp04['CONTADOR']/do_temp04['pop_under74'])*100000\n",
    "\n",
    "# mostrar dados gerais da tabela após transformações\n",
    "tab = do_temp04\n",
    "print(f'Registro da tabela : {tab.shape[0]}')\n",
    "print(f'Contagem de pop : {tab.pop_under74.sum()}')\n",
    "print(f'Contagem de óbitos : {tab.CONTADOR.sum()}')\n",
    "print(tabulate(tab.head(), headers='keys', tablefmt='psql'))"
   ]
  },
  {
   "cell_type": "markdown",
   "metadata": {},
   "source": [
    "### Dataframe Pronto"
   ]
  },
  {
   "cell_type": "code",
   "execution_count": 194,
   "metadata": {},
   "outputs": [
    {
     "name": "stdout",
     "output_type": "stream",
     "text": [
      "Registro da tabela : 269\n",
      "Contagem de pop : 194635294\n",
      "Contagem de óbitos : 525676\n",
      "+----+------+--------+---------------+------------+---------------+------------+\n",
      "|    | uf   | Sexo   | Cor ou raça   |   CONTADOR |   pop_under74 |   mort_ind |\n",
      "|----+------+--------+---------------+------------+---------------+------------|\n",
      "|  0 | Acre | Homens | Amarela       |          6 |           802 |    748.13  |\n",
      "|  1 | Acre | Homens | Branca        |        145 |         83918 |    172.788 |\n",
      "|  2 | Acre | Homens | Indígena      |         26 |         14524 |    179.014 |\n",
      "|  3 | Acre | Homens | Parda         |        896 |        268648 |    333.522 |\n",
      "|  4 | Acre | Homens | Preta         |         52 |         38401 |    135.413 |\n",
      "+----+------+--------+---------------+------------+---------------+------------+\n"
     ]
    }
   ],
   "source": [
    "# mostrar dados gerais da tabela após transformações\n",
    "tab = do_temp04\n",
    "print(f'Registro da tabela : {tab.shape[0]}')\n",
    "print(f'Contagem de pop : {tab.pop_under74.sum()}')\n",
    "print(f'Contagem de óbitos : {tab.CONTADOR.sum()}')\n",
    "print(tabulate(tab.head(), headers='keys', tablefmt='psql'))"
   ]
  },
  {
   "cell_type": "code",
   "execution_count": 195,
   "metadata": {},
   "outputs": [
    {
     "name": "stdout",
     "output_type": "stream",
     "text": [
      "Registro da tabela : 27\n",
      "Contagem de pop : 194635294\n",
      "Contagem de óbitos : 525676\n",
      "+----+----------+------------+---------------+---------------+\n",
      "|    | uf       |   CONTADOR |   pop_under74 |   mort_ind_uf |\n",
      "|----+----------+------------+---------------+---------------|\n",
      "|  0 | Acre     |       1691 |        810909 |       208.531 |\n",
      "|  1 | Alagoas  |       8753 |       3023813 |       289.469 |\n",
      "|  2 | Amapá    |       1718 |        719508 |       238.774 |\n",
      "|  3 | Amazonas |       9021 |       3861194 |       233.632 |\n",
      "|  4 | Bahia    |      36341 |      13527983 |       268.636 |\n",
      "+----+----------+------------+---------------+---------------+\n"
     ]
    }
   ],
   "source": [
    "# Excluir - só para teste\n",
    "# Agrupar por UF\n",
    "do_temp04_1 = do_temp04.groupby([\n",
    "                                   #       'Ano',\n",
    "                                        # 'CODMUNRES',   \n",
    "                                         'uf',\n",
    "                                        #  'causes_deaths',\n",
    "                                        #  'Sexo',\n",
    "                                        #  'Cor ou raça',\n",
    "                                        #  'pop_under74',\n",
    "                                        #  'CONTADOR',\n",
    "                                        #  'mort_ind',\n",
    "                                   #       'avoid_flag'\n",
    "\n",
    "                                         ]\n",
    "                                        ).agg({'CONTADOR': 'sum',\n",
    "                                               'pop_under74': 'sum'}\n",
    "                                               ).reset_index()\n",
    "\n",
    "do_temp04_1['mort_ind_uf'] = (do_temp04_1['CONTADOR']/do_temp04_1['pop_under74'])*100000\n",
    "\n",
    "# mostrar dados gerais da tabela após transformações\n",
    "tab = do_temp04_1\n",
    "print(f'Registro da tabela : {tab.shape[0]}')\n",
    "print(f'Contagem de pop : {tab.pop_under74.sum()}')\n",
    "print(f'Contagem de óbitos : {tab.CONTADOR.sum()}')\n",
    "print(tabulate(tab.head(), headers='keys', tablefmt='psql'))"
   ]
  },
  {
   "cell_type": "markdown",
   "metadata": {},
   "source": [
    "### UF - análise de variância (ANOVA)"
   ]
  },
  {
   "cell_type": "code",
   "execution_count": 197,
   "metadata": {},
   "outputs": [
    {
     "name": "stdout",
     "output_type": "stream",
     "text": [
      "P-valor: nan\n",
      "\u001b[33m ==> Não há evidência de diferença significativa entre as médias dos grupos.\u001b[0m\n"
     ]
    },
    {
     "name": "stderr",
     "output_type": "stream",
     "text": [
      "/home/codespace/.local/lib/python3.12/site-packages/scipy/stats/_axis_nan_policy.py:567: SmallSampleWarning: all input arrays have length 1.  f_oneway requires that at least one input has length greater than 1.\n",
      "  if is_too_small(samples, kwds):\n",
      "/tmp/ipykernel_2173/176855359.py:6: SmallSampleWarning: One or more sample arguments is too small; all returned values will be NaN. See documentation for sample size requirements.\n",
      "  f_stat, p_val = stats.f_oneway(*[group['mort_ind_uf'] for name, group in df.groupby('uf')])\n"
     ]
    }
   ],
   "source": [
    "# Criando um DataFrame com os dados\n",
    "\n",
    "df = do_temp04_1\n",
    "\n",
    "# Realizando a ANOVA e armazenando o p-valor\n",
    "f_stat, p_val = stats.f_oneway(*[group['mort_ind_uf'] for name, group in df.groupby('uf')])\n",
    "\n",
    "# Imprimindo o resultado\n",
    "print(\"P-valor:\", p_val)\n",
    "\n",
    "# Interpretação do resultado (exemplo)\n",
    "if p_val < 0.05:\n",
    "    print_y(\"Existe diferença significativa entre as médias dos grupos.\")\n",
    "else:\n",
    "    print_y(\"Não há evidência de diferença significativa entre as médias dos grupos.\")"
   ]
  },
  {
   "cell_type": "markdown",
   "metadata": {},
   "source": [
    "### Cor ou raça - análise de variância (ANOVA)"
   ]
  },
  {
   "cell_type": "code",
   "execution_count": 134,
   "metadata": {},
   "outputs": [
    {
     "name": "stdout",
     "output_type": "stream",
     "text": [
      "P-valor: 2.238488862238828e-18\n",
      "\u001b[33m ==> Existe diferença significativa entre as médias dos grupos.\u001b[0m\n"
     ]
    }
   ],
   "source": [
    "# Criando um DataFrame com os dados\n",
    "\n",
    "df = do_temp04\n",
    "\n",
    "# Realizando a ANOVA e armazenando o p-valor\n",
    "f_stat, p_val = stats.f_oneway(*[group['mort_ind'] for name, group in df.groupby('Cor ou raça')])\n",
    "\n",
    "# Imprimindo o resultado\n",
    "print(\"P-valor:\", p_val)\n",
    "\n",
    "# Interpretação do resultado (exemplo)\n",
    "if p_val < 0.05:\n",
    "    print_y(\"Existe diferença significativa entre as médias dos grupos.\")\n",
    "else:\n",
    "    print(\"Não há evidência de diferença significativa entre as médias dos grupos.\")"
   ]
  },
  {
   "cell_type": "markdown",
   "metadata": {},
   "source": [
    "### Sexo - análise de variãncia (t-student)"
   ]
  },
  {
   "cell_type": "code",
   "execution_count": 135,
   "metadata": {},
   "outputs": [
    {
     "name": "stdout",
     "output_type": "stream",
     "text": [
      "Estatística t: 7.843379348617597\n",
      "P-valor: 2.2896883820905516e-13\n",
      "\u001b[33m ==> Existe diferença significativa entre as médias dos grupos.\u001b[0m\n"
     ]
    }
   ],
   "source": [
    "\n",
    "# Criando um DataFrame com os dados\n",
    "df = do_temp04\n",
    "\n",
    "# Separando os dados em dois grupos\n",
    "grupo_A = df[df['Sexo'] == 'Homens']['mort_ind']\n",
    "grupo_B = df[df['Sexo'] == 'Mulheres']['mort_ind']\n",
    "\n",
    "# Realizando o teste t\n",
    "t_stat, p_val = stats.ttest_ind(grupo_A, grupo_B, equal_var=False)\n",
    "\n",
    "print(\"Estatística t:\", t_stat)\n",
    "print(\"P-valor:\", p_val)\n",
    "\n",
    "# Interpretando o resultado (exemplo)\n",
    "if p_val < 0.05:\n",
    "    print_y(\"Existe diferença significativa entre as médias dos grupos.\")\n",
    "else:\n",
    "    print(\"Não há evidência de diferença significativa entre as médias dos grupos.\")"
   ]
  },
  {
   "cell_type": "markdown",
   "metadata": {},
   "source": [
    "## Base por Município"
   ]
  },
  {
   "cell_type": "markdown",
   "metadata": {},
   "source": [
    "### Preparação do dataframe"
   ]
  },
  {
   "cell_type": "code",
   "execution_count": 176,
   "metadata": {},
   "outputs": [
    {
     "name": "stdout",
     "output_type": "stream",
     "text": [
      "<class 'pandas.core.frame.DataFrame'>\n",
      "RangeIndex: 472557 entries, 0 to 472556\n",
      "Data columns (total 8 columns):\n",
      " #   Column         Non-Null Count   Dtype  \n",
      "---  ------         --------------   -----  \n",
      " 0   CODMUNRES      472557 non-null  object \n",
      " 1   ANO_OBITO      472557 non-null  object \n",
      " 2   POP_MERGE      472557 non-null  object \n",
      " 3   causes_deaths  472557 non-null  object \n",
      " 4   CONTADOR       472557 non-null  int64  \n",
      " 5   pop_under74    472557 non-null  float64\n",
      " 6   UF             472557 non-null  object \n",
      " 7   mun_no         472557 non-null  object \n",
      "dtypes: float64(1), int64(1), object(6)\n",
      "memory usage: 28.8+ MB\n"
     ]
    }
   ],
   "source": [
    "dom_temp = pd.read_parquet('files__temp/AvoidMort_v4_dobr_merged.parquet')\n",
    "dom_temp.info()"
   ]
  },
  {
   "cell_type": "code",
   "execution_count": 177,
   "metadata": {},
   "outputs": [
    {
     "name": "stdout",
     "output_type": "stream",
     "text": [
      "Registro da tabela : 472557\n",
      "Contagem de pop : 39154073698.0\n",
      "Contagem de óbitos : 4440843\n",
      "+----+-------------+-------------+--------------+-------------------------------------------+------------+---------------+------+----------------------------+\n",
      "|    | CODMUNRES   | ANO_OBITO   | POP_MERGE    | causes_deaths                             |   CONTADOR |   pop_under74 | UF   | mun_no                     |\n",
      "|----+-------------+-------------+--------------+-------------------------------------------+------------+---------------+------+----------------------------|\n",
      "|  0 | _110001     | _2010       | _2010_110001 | Accidental Injuries                       |          1 |         23948 | RO   | Alta Floresta D'Oeste (RO) |\n",
      "|  1 | _110001     | _2010       | _2010_110001 | Alcohol-specific disorders and poisonings |          2 |         23948 | RO   | Alta Floresta D'Oeste (RO) |\n",
      "|  2 | _110001     | _2010       | _2010_110001 | Appendicitis                              |          1 |         23948 | RO   | Alta Floresta D'Oeste (RO) |\n",
      "|  3 | _110001     | _2010       | _2010_110001 | Assault                                   |          7 |         23948 | RO   | Alta Floresta D'Oeste (RO) |\n",
      "|  4 | _110001     | _2010       | _2010_110001 | Cerebrovascular diseases                  |          3 |         23948 | RO   | Alta Floresta D'Oeste (RO) |\n",
      "+----+-------------+-------------+--------------+-------------------------------------------+------------+---------------+------+----------------------------+\n"
     ]
    }
   ],
   "source": [
    "# mostrar dados gerais da tabela\n",
    "tab = dom_temp\n",
    "print(f'Registro da tabela : {tab.shape[0]}')\n",
    "print(f'Contagem de pop : {tab.pop_under74.sum()}')\n",
    "print(f'Contagem de óbitos : {tab.CONTADOR.sum()}')\n",
    "print(tabulate(tab.head(), headers='keys', tablefmt='psql'))"
   ]
  },
  {
   "cell_type": "code",
   "execution_count": 115,
   "metadata": {},
   "outputs": [
    {
     "name": "stdout",
     "output_type": "stream",
     "text": [
      "Registro da tabela : 99406\n",
      "Contagem de óbitos : 875522\n",
      "+----+-------------+-------------+--------------+-------------------------------------------+------------+---------------+------+----------------------------+\n",
      "|    | CODMUNRES   | ANO_OBITO   | POP_MERGE    | causes_deaths                             |   CONTADOR |   pop_under74 | UF   | mun_no                     |\n",
      "|----+-------------+-------------+--------------+-------------------------------------------+------------+---------------+------+----------------------------|\n",
      "| 80 | _110001     | _2022       | _2022_110001 | Accidental Injuries                       |          1 |         20742 | RO   | Alta Floresta D'Oeste (RO) |\n",
      "| 81 | _110001     | _2022       | _2022_110001 | Alcohol-specific disorders and poisonings |          1 |         20742 | RO   | Alta Floresta D'Oeste (RO) |\n",
      "| 82 | _110001     | _2022       | _2022_110001 | Assault                                   |          3 |         20742 | RO   | Alta Floresta D'Oeste (RO) |\n",
      "| 83 | _110001     | _2022       | _2022_110001 | Benign neoplasm                           |          1 |         20742 | RO   | Alta Floresta D'Oeste (RO) |\n",
      "| 84 | _110001     | _2022       | _2022_110001 | Cerebrovascular diseases                  |          9 |         20742 | RO   | Alta Floresta D'Oeste (RO) |\n",
      "+----+-------------+-------------+--------------+-------------------------------------------+------------+---------------+------+----------------------------+\n"
     ]
    }
   ],
   "source": [
    "# Filtrar o ano de 2022\n",
    "dom_temp01 = dom_temp.loc[dom_temp['ANO_OBITO'] =='_2022']\n",
    "\n",
    "# mostrar dados gerais da tabela após transformações\n",
    "tab = dom_temp01\n",
    "print(f'Registro da tabela : {tab.shape[0]}')\n",
    "print(f'Contagem de óbitos : {tab.CONTADOR.sum()}')\n",
    "print(tabulate(tab.head(), headers='keys', tablefmt='psql'))"
   ]
  },
  {
   "cell_type": "code",
   "execution_count": 175,
   "metadata": {},
   "outputs": [
    {
     "name": "stdout",
     "output_type": "stream",
     "text": [
      "Registro da tabela : 99406\n",
      "Contagem de óbitos : 875522\n",
      "+----+-------------+-------------+--------------+-------------------------------------------+------------+---------------+------+----------------------------+--------------+\n",
      "|    | CODMUNRES   | ANO_OBITO   | POP_MERGE    | causes_deaths                             |   CONTADOR |   pop_under74 | UF   | mun_no                     | avoid_flag   |\n",
      "|----+-------------+-------------+--------------+-------------------------------------------+------------+---------------+------+----------------------------+--------------|\n",
      "| 80 | _110001     | _2022       | _2022_110001 | Accidental Injuries                       |          1 |         20742 | RO   | Alta Floresta D'Oeste (RO) | avoid        |\n",
      "| 81 | _110001     | _2022       | _2022_110001 | Alcohol-specific disorders and poisonings |          1 |         20742 | RO   | Alta Floresta D'Oeste (RO) | avoid        |\n",
      "| 82 | _110001     | _2022       | _2022_110001 | Assault                                   |          3 |         20742 | RO   | Alta Floresta D'Oeste (RO) | avoid        |\n",
      "| 83 | _110001     | _2022       | _2022_110001 | Benign neoplasm                           |          1 |         20742 | RO   | Alta Floresta D'Oeste (RO) | avoid        |\n",
      "| 84 | _110001     | _2022       | _2022_110001 | Cerebrovascular diseases                  |          9 |         20742 | RO   | Alta Floresta D'Oeste (RO) | avoid        |\n",
      "+----+-------------+-------------+--------------+-------------------------------------------+------------+---------------+------+----------------------------+--------------+\n"
     ]
    }
   ],
   "source": [
    "dom_temp02 = dom_temp01.copy()\n",
    "\n",
    "# Incluir campo de flag de doença evitável ou não\n",
    "dom_temp02['avoid_flag'] = np.where(dom_temp02['causes_deaths'].str.startswith('causa não evitável'), 'not_avoid', 'avoid')\n",
    "\n",
    "# mostrar dados gerais da tabela após transformações\n",
    "tab = dom_temp02\n",
    "print(f'Registro da tabela : {tab.shape[0]}')\n",
    "print(f'Contagem de óbitos : {tab.CONTADOR.sum()}')\n",
    "print(tabulate(tab.head(), headers='keys', tablefmt='psql'))"
   ]
  },
  {
   "cell_type": "code",
   "execution_count": 174,
   "metadata": {},
   "outputs": [
    {
     "name": "stdout",
     "output_type": "stream",
     "text": [
      "Registro da tabela : 93853\n",
      "Contagem de pop : 7951778491.0\n",
      "Contagem de óbitos : 534729\n",
      "+----+-------------+-------------+--------------+-------------------------------------------+------------+---------------+------+----------------------------+--------------+\n",
      "|    | CODMUNRES   | ANO_OBITO   | POP_MERGE    | causes_deaths                             |   CONTADOR |   pop_under74 | UF   | mun_no                     | avoid_flag   |\n",
      "|----+-------------+-------------+--------------+-------------------------------------------+------------+---------------+------+----------------------------+--------------|\n",
      "| 80 | _110001     | _2022       | _2022_110001 | Accidental Injuries                       |          1 |         20742 | RO   | Alta Floresta D'Oeste (RO) | avoid        |\n",
      "| 81 | _110001     | _2022       | _2022_110001 | Alcohol-specific disorders and poisonings |          1 |         20742 | RO   | Alta Floresta D'Oeste (RO) | avoid        |\n",
      "| 82 | _110001     | _2022       | _2022_110001 | Assault                                   |          3 |         20742 | RO   | Alta Floresta D'Oeste (RO) | avoid        |\n",
      "| 83 | _110001     | _2022       | _2022_110001 | Benign neoplasm                           |          1 |         20742 | RO   | Alta Floresta D'Oeste (RO) | avoid        |\n",
      "| 84 | _110001     | _2022       | _2022_110001 | Cerebrovascular diseases                  |          9 |         20742 | RO   | Alta Floresta D'Oeste (RO) | avoid        |\n",
      "+----+-------------+-------------+--------------+-------------------------------------------+------------+---------------+------+----------------------------+--------------+\n"
     ]
    }
   ],
   "source": [
    "dom_temp03 = dom_temp02[dom_temp02['avoid_flag'] == 'avoid']\n",
    "\n",
    "# mostrar dados gerais da tabela após transformações\n",
    "tab = dom_temp03\n",
    "print(f'Registro da tabela : {tab.shape[0]}')\n",
    "print(f'Contagem de pop : {tab.pop_under74.sum()}')\n",
    "print(f'Contagem de óbitos : {tab.CONTADOR.sum()}')\n",
    "print(tabulate(tab.head(), headers='keys', tablefmt='psql'))"
   ]
  },
  {
   "cell_type": "code",
   "execution_count": 204,
   "metadata": {},
   "outputs": [],
   "source": [
    "dom_temp03['mort_ind'] = (dom_temp03['CONTADOR']/dom_temp03['pop_under74'])*100000\n"
   ]
  },
  {
   "cell_type": "code",
   "execution_count": null,
   "metadata": {},
   "outputs": [
    {
     "name": "stdout",
     "output_type": "stream",
     "text": [
      "Registro da tabela : 5569\n",
      "Contagem de pop : 194644474.0\n",
      "Contagem de óbitos : 534729\n",
      "+----+-------------+------+------------+---------------+------------+\n",
      "|    | CODMUNRES   | UF   |   CONTADOR |   pop_under74 |   mort_ind |\n",
      "|----+-------------+------+------------+---------------+------------|\n",
      "|  0 | _110001     | RO   |         64 |         20742 |    308.553 |\n",
      "|  1 | _110002     | RO   |        306 |         94271 |    324.596 |\n",
      "|  2 | _110003     | RO   |         13 |          5093 |    255.252 |\n",
      "|  3 | _110004     | RO   |        201 |         84146 |    238.871 |\n",
      "|  4 | _110005     | RO   |         39 |         15292 |    255.035 |\n",
      "+----+-------------+------+------------+---------------+------------+\n"
     ]
    }
   ],
   "source": [
    "# Agrupar por município\n",
    "dom_temp04_1 = dom_temp03.groupby([\n",
    "                                   #       'Ano',\n",
    "                                        'CODMUNRES',   \n",
    "                                         'UF',\n",
    "                                        #  'causes_deaths',\n",
    "                                        #  'Sexo',\n",
    "                                        #  'Cor ou raça',\n",
    "                                        #  'pop_under74',\n",
    "                                        #  'CONTADOR',\n",
    "                                        #  'mort_ind',\n",
    "                                   #       'avoid_flag'\n",
    "\n",
    "                                         ]\n",
    "                                        ).agg({'CONTADOR': 'sum',\n",
    "                                               'pop_under74': 'min'}\n",
    "                                               ).reset_index()\n",
    "\n",
    "\n",
    "\n",
    "dom_temp04_1['mort_ind'] = (dom_temp04_1['CONTADOR']/dom_temp04_1['pop_under74'])*100000\n",
    "\n",
    "# mostrar dados gerais da tabela após transformações\n",
    "tab = dom_temp04_1\n",
    "print(f'Registro da tabela : {tab.shape[0]}')\n",
    "print(f'Contagem de pop : {tab.pop_under74.sum()}')\n",
    "print(f'Contagem de óbitos : {tab.CONTADOR.sum()}')\n",
    "print(tabulate(tab.head(), headers='keys', tablefmt='psql'))"
   ]
  },
  {
   "cell_type": "markdown",
   "metadata": {},
   "source": [
    "### Dataframe Pronto"
   ]
  },
  {
   "cell_type": "code",
   "execution_count": 185,
   "metadata": {},
   "outputs": [
    {
     "name": "stdout",
     "output_type": "stream",
     "text": [
      "Registro da tabela : 5569\n",
      "Contagem de pop : 194644474.0\n",
      "Contagem de óbitos : 534729\n",
      "+----+-------------+------+------------+---------------+------------+\n",
      "|    | CODMUNRES   | UF   |   CONTADOR |   pop_under74 |   mort_ind |\n",
      "|----+-------------+------+------------+---------------+------------|\n",
      "|  0 | _110001     | RO   |         64 |         20742 |    308.553 |\n",
      "|  1 | _110002     | RO   |        306 |         94271 |    324.596 |\n",
      "|  2 | _110003     | RO   |         13 |          5093 |    255.252 |\n",
      "|  3 | _110004     | RO   |        201 |         84146 |    238.871 |\n",
      "|  4 | _110005     | RO   |         39 |         15292 |    255.035 |\n",
      "+----+-------------+------+------------+---------------+------------+\n"
     ]
    }
   ],
   "source": [
    "\n",
    "dom_temp04 = dom_temp04_1.copy()\n",
    "dom_temp04['mort_ind'] = (dom_temp04['CONTADOR']/dom_temp04['pop_under74'])*100000\n",
    "\n",
    "\n",
    "# mostrar dados gerais da tabela após transformações\n",
    "tab = dom_temp04\n",
    "print(f'Registro da tabela : {tab.shape[0]}')\n",
    "print(f'Contagem de pop : {tab.pop_under74.sum()}')\n",
    "print(f'Contagem de óbitos : {tab.CONTADOR.sum()}')\n",
    "print(tabulate(tab.head(), headers='keys', tablefmt='psql'))"
   ]
  },
  {
   "cell_type": "markdown",
   "metadata": {},
   "source": [
    "### Município - análise de variância (ANOVA)"
   ]
  },
  {
   "cell_type": "code",
   "execution_count": 205,
   "metadata": {},
   "outputs": [
    {
     "name": "stdout",
     "output_type": "stream",
     "text": [
      "P-valor: 0.0\n",
      "\u001b[33m ==> Existe diferença significativa entre as médias dos grupos.\u001b[0m\n"
     ]
    }
   ],
   "source": [
    "# Criando um DataFrame com os dados\n",
    "\n",
    "df = dom_temp03\n",
    "\n",
    "# Realizando a ANOVA e armazenando o p-valor\n",
    "f_stat, p_val = stats.f_oneway(*[group['mort_ind'] for name, group in df.groupby('CODMUNRES')])\n",
    "\n",
    "# Imprimindo o resultado\n",
    "print(\"P-valor:\", p_val)\n",
    "\n",
    "# Interpretação do resultado (exemplo)\n",
    "if p_val < 0.05:\n",
    "    print_y(\"Existe diferença significativa entre as médias dos grupos.\")\n",
    "else:\n",
    "    print(\"Não há evidência de diferença significativa entre as médias dos grupos.\")"
   ]
  },
  {
   "cell_type": "code",
   "execution_count": 201,
   "metadata": {},
   "outputs": [
    {
     "name": "stdout",
     "output_type": "stream",
     "text": [
      "Registro da tabela : 27\n",
      "Contagem de pop : 194644474.0\n",
      "Contagem de óbitos : 534729\n",
      "+----+------+------------+------------------+------------+\n",
      "|    | UF   |   CONTADOR |      pop_under74 |   mort_ind |\n",
      "|----+------+------------+------------------+------------|\n",
      "|  0 | AC   |       1747 | 810919           |    215.435 |\n",
      "|  1 | AL   |       9194 |      3.02392e+06 |    304.043 |\n",
      "|  2 | AM   |       9133 |      3.86131e+06 |    236.526 |\n",
      "|  3 | AP   |       1798 | 719520           |    249.889 |\n",
      "|  4 | BA   |      37646 |      1.35284e+07 |    278.273 |\n",
      "+----+------+------------+------------------+------------+\n"
     ]
    }
   ],
   "source": [
    "# Agrupar por município\n",
    "dom_temp04_2 = dom_temp04_1.groupby([\n",
    "                                   #       'Ano',\n",
    "                                        # 'CODMUNRES',   \n",
    "                                         'UF',\n",
    "                                        #  'causes_deaths',\n",
    "                                        #  'Sexo',\n",
    "                                        #  'Cor ou raça',\n",
    "                                        #  'pop_under74',\n",
    "                                        #  'CONTADOR',\n",
    "                                        #  'mort_ind',\n",
    "                                   #       'avoid_flag'\n",
    "\n",
    "                                         ]\n",
    "                                        ).agg({'CONTADOR': 'sum',\n",
    "                                               'pop_under74': 'sum'}\n",
    "                                               ).reset_index()\n",
    "\n",
    "\n",
    "\n",
    "dom_temp04_2['mort_ind'] = (dom_temp04_2['CONTADOR']/dom_temp04_2['pop_under74'])*100000\n",
    "\n",
    "# mostrar dados gerais da tabela após transformações\n",
    "tab = dom_temp04_2\n",
    "print(f'Registro da tabela : {tab.shape[0]}')\n",
    "print(f'Contagem de pop : {tab.pop_under74.sum()}')\n",
    "print(f'Contagem de óbitos : {tab.CONTADOR.sum()}')\n",
    "print(tabulate(tab.head(), headers='keys', tablefmt='psql'))"
   ]
  },
  {
   "cell_type": "markdown",
   "metadata": {},
   "source": [
    "### UF - análise de variância (ANOVA)"
   ]
  },
  {
   "cell_type": "code",
   "execution_count": 206,
   "metadata": {},
   "outputs": [
    {
     "name": "stdout",
     "output_type": "stream",
     "text": [
      "P-valor: 0.0\n",
      "\u001b[33m ==> Existe diferença significativa entre as médias dos grupos.\u001b[0m\n"
     ]
    }
   ],
   "source": [
    "# Criando um DataFrame com os dados\n",
    "\n",
    "df = dom_temp03\n",
    "\n",
    "# Realizando a ANOVA e armazenando o p-valor\n",
    "f_stat, p_val = stats.f_oneway(*[group['mort_ind'] for name, group in df.groupby('UF')])\n",
    "\n",
    "# Imprimindo o resultado\n",
    "print(\"P-valor:\", p_val)\n",
    "\n",
    "# Interpretação do resultado (exemplo)\n",
    "if p_val < 0.05:\n",
    "    print_y(\"Existe diferença significativa entre as médias dos grupos.\")\n",
    "else:\n",
    "    print(\"Não há evidência de diferença significativa entre as médias dos grupos.\")"
   ]
  },
  {
   "cell_type": "markdown",
   "metadata": {},
   "source": [
    "## Outros Módulos"
   ]
  },
  {
   "cell_type": "code",
   "execution_count": null,
   "metadata": {},
   "outputs": [],
   "source": [
    "import statsmodels.api as sm\n",
    "df1 = dobr\n",
    "var_cat = 'SEXO'\n",
    "valor = 'mort_ind'\n",
    "\n",
    "\n",
    "\n",
    "# Criando variáveis dummy para as categorias\n",
    "df = pd.get_dummies(df1, columns=[var_cat])\n",
    "\n",
    "# Modelo de regressão linear\n",
    "model = sm.OLS(df[valor], df[var_cat])\n",
    "results = model.fit()\n",
    "print(results.summary())"
   ]
  },
  {
   "cell_type": "code",
   "execution_count": null,
   "metadata": {},
   "outputs": [],
   "source": [
    "# ### Exemplo Completo para Análise de Catetorias\n",
    "# import pandas as pd\n",
    "# import seaborn as sns\n",
    "\n",
    "\n",
    "# # Análise exploratória\n",
    "# print(df.groupby('categoria')['valor'].describe())\n",
    "\n",
    "# # Visualização\n",
    "# sns.boxplot(x='categoria', y='valor', data=df)\n",
    "\n",
    "# # Teste ANOVA\n",
    "# from scipy import stats\n",
    "# grupos = df.groupby('categoria')['valor'].apply(list)\n",
    "# stats.f_oneway(*grupos)"
   ]
  },
  {
   "cell_type": "code",
   "execution_count": null,
   "metadata": {},
   "outputs": [],
   "source": [
    "### Exemplo Completo para Análise de Catetorias\n",
    "df = dobr\n",
    "var_cat = 'SEXO'\n",
    "valor = 'mort_ind'\n",
    "\n",
    "# Análise exploratória\n",
    "print(df.groupby(var_cat)[valor].describe())\n",
    "\n",
    "# Visualização\n",
    "sns.boxplot(x=var_cat, y=valor, data=df)\n",
    "\n",
    "# Teste ANOVA\n",
    "from scipy import stats\n",
    "grupos = dobr.groupby(var_cat)[valor].apply(list)\n",
    "stats.f_oneway(*grupos)"
   ]
  },
  {
   "cell_type": "code",
   "execution_count": null,
   "metadata": {},
   "outputs": [],
   "source": [
    "# Calcular ANOVA\n",
    "stats.f_oneway(valores_categoria1, valores_categoria2, ...)"
   ]
  },
  {
   "cell_type": "code",
   "execution_count": null,
   "metadata": {},
   "outputs": [],
   "source": [
    "#Ajustar um tamanho para o gráfico (1000x1000)\n",
    "plt.figure(figsize=(10, 10))\n",
    "\n",
    "#Matriz de correlação\n",
    "dataplot = sns.heatmap(dobr.corr(),\n",
    "                       annot=True,\n",
    "                       fmt='.1f') #annot são anotações e fmt a formatação dos valores"
   ]
  },
  {
   "cell_type": "markdown",
   "metadata": {},
   "source": [
    "### Exemplos do gemini"
   ]
  },
  {
   "cell_type": "code",
   "execution_count": 87,
   "metadata": {},
   "outputs": [
    {
     "name": "stdout",
     "output_type": "stream",
     "text": [
      "F-statistic: 28.000000000000036\n",
      "p-value: 0.0009063139874458697\n"
     ]
    }
   ],
   "source": [
    "import pandas as pd\n",
    "from scipy import stats\n",
    "\n",
    "# Criando um DataFrame com os dados\n",
    "data = {'Fertilizante': ['A', 'A', 'A', 'B', 'B', 'B', 'C', 'C', 'C'],\n",
    "        'Altura': [10, 12, 11, 15, 14, 16, 8, 9, 10]}\n",
    "df = pd.DataFrame(data)\n",
    "\n",
    "# Realizando a ANOVA\n",
    "f_statistic, p_value = stats.f_oneway(df['Altura'][df['Fertilizante'] == 'A'],\n",
    "                                   df['Altura'][df['Fertilizante'] == 'B'],\n",
    "                                   df['Altura'][df['Fertilizante'] == 'C'])\n",
    "\n",
    "# Imprimindo os resultados\n",
    "print('F-statistic:', f_statistic)\n",
    "print('p-value:', p_value)"
   ]
  }
 ],
 "metadata": {
  "kernelspec": {
   "display_name": "Python 3",
   "language": "python",
   "name": "python3"
  },
  "language_info": {
   "codemirror_mode": {
    "name": "ipython",
    "version": 3
   },
   "file_extension": ".py",
   "mimetype": "text/x-python",
   "name": "python",
   "nbconvert_exporter": "python",
   "pygments_lexer": "ipython3",
   "version": "3.12.1"
  }
 },
 "nbformat": 4,
 "nbformat_minor": 2
}
