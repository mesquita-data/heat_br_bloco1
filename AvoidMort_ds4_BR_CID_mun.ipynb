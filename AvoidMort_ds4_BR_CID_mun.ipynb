{
 "cells": [
  {
   "cell_type": "markdown",
   "metadata": {},
   "source": [
    "# Elementos do dataset\n",
    "\n",
    "Antes mesmo de falar do projeto, ao longo do desenvolvimento, vamos explicitando qual o objetivo de cada versão de trabalho do arquivo principal.\n",
    "\n",
    "O objetivo desta AvoidMort_ds4 é criar um dataset de mortalidades gerais para servir de comparação para a mortalidade evitável.\n",
    "\n",
    "O dataset final deverá ter as seguintes características:\n",
    "\n",
    "\n",
    "* setting: Brasil [poderemos encontrar um sufixo a Brasil que permita a sua subclassificação e carga deste dataset junto a outros]\n",
    "* dimension: UF\n",
    "* subgroup: municípios\n",
    "* estimate: mortalidade por CIDs evitáveis e município\n",
    "* setting-average: mortalidade por CIDs evitáveis por Brasil"
   ]
  },
  {
   "cell_type": "markdown",
   "metadata": {},
   "source": [
    "# Projeto de Análise de Desigualdade em Saúde no modelo HEAT/OMS\n",
    "\n",
    "## Bloco 2025/1 (mortalidade evitável)\n",
    "\n",
    "Análise do sistema de mortalidade do SUS com agregação por unidades federativas"
   ]
  },
  {
   "cell_type": "markdown",
   "metadata": {},
   "source": [
    "### Instalação e importação de bibliotecas"
   ]
  },
  {
   "cell_type": "code",
   "execution_count": 2,
   "metadata": {},
   "outputs": [],
   "source": [
    "# importar biblioteca básicas para manipulação de dados\n",
    "import pandas as pd\n",
    "import numpy as np\n",
    "import os\n",
    "import sidrapy\n",
    "import requests # para carga de endereços web - api\n",
    "import gdown\n",
    "import openpyxl\n",
    "from tabulate import tabulate"
   ]
  },
  {
   "cell_type": "code",
   "execution_count": 3,
   "metadata": {},
   "outputs": [
    {
     "name": "stdout",
     "output_type": "stream",
     "text": [
      "\u001b[33m ==> Este texto será impresso em amarelo!\u001b[0m\n",
      "Este em normal!\n"
     ]
    }
   ],
   "source": [
    "# Para organizar resultados, gerar prints em amarelo\n",
    "\n",
    "def print_y(text):\n",
    "  \"\"\"Imprime o texto fornecido na cor amarela.\n",
    "\n",
    "  Args:\n",
    "    text: O texto a ser impresso.\n",
    "  \"\"\"\n",
    "  print(f\"\\033[33m ==> {text}\\033[0m\")\n",
    "\n",
    "# Exemplo de uso:\n",
    "print_y(\"Este texto será impresso em amarelo!\")\n",
    "print(\"Este em normal!\")"
   ]
  },
  {
   "cell_type": "markdown",
   "metadata": {},
   "source": [
    "# Merge de dados de CID e População no arquivo principal"
   ]
  },
  {
   "cell_type": "markdown",
   "metadata": {},
   "source": [
    "### Merge de dados de CID"
   ]
  },
  {
   "cell_type": "code",
   "execution_count": 5,
   "metadata": {},
   "outputs": [
    {
     "name": "stdout",
     "output_type": "stream",
     "text": [
      "<class 'pandas.core.frame.DataFrame'>\n",
      "RangeIndex: 346 entries, 0 to 345\n",
      "Data columns (total 8 columns):\n",
      " #   Column                   Non-Null Count  Dtype \n",
      "---  ------                   --------------  ----- \n",
      " 0   avoid_flag               346 non-null    object\n",
      " 1   prevent_flag             189 non-null    object\n",
      " 2   treat_flag               184 non-null    object\n",
      " 3   Group                    346 non-null    object\n",
      " 4   Causes of deaths         346 non-null    object\n",
      " 5   Rationale for inclusion  346 non-null    object\n",
      " 6   Range                    346 non-null    object\n",
      " 7   cid_pai                  346 non-null    object\n",
      "dtypes: object(8)\n",
      "memory usage: 21.8+ KB\n"
     ]
    }
   ],
   "source": [
    "ocde_evit_temp = pd.read_csv('files_in_geral/cid10_evit_ocde.csv')\n",
    "ocde_evit_temp.info()"
   ]
  },
  {
   "cell_type": "code",
   "execution_count": 6,
   "metadata": {
    "vscode": {
     "languageId": "powershell"
    }
   },
   "outputs": [
    {
     "name": "stdout",
     "output_type": "stream",
     "text": [
      "<class 'pandas.core.frame.DataFrame'>\n",
      "RangeIndex: 11895 entries, 0 to 11894\n",
      "Data columns (total 1 columns):\n",
      " #   Column    Non-Null Count  Dtype \n",
      "---  ------    --------------  ----- \n",
      " 0   CAUSABAS  11895 non-null  object\n",
      "dtypes: object(1)\n",
      "memory usage: 93.1+ KB\n"
     ]
    }
   ],
   "source": [
    "# Gerar nova tabela com valores únicos de CAUSABAS\n",
    "dobr_evit_merged_temp = pd.read_parquet('files_in_geral/dobr_10_19a22_u75.parquet')\n",
    "causas_unicas = dobr_evit_merged_temp['CAUSABAS'].unique()\n",
    "\n",
    "# Converter para DataFrame\n",
    "df_causas_unicas = pd.DataFrame(causas_unicas, columns=['CAUSABAS'])\n",
    "\n",
    "# Exibir as primeiras linhas do DataFrame\n",
    "df_causas_unicas.info()"
   ]
  },
  {
   "cell_type": "markdown",
   "metadata": {},
   "source": [
    "##########         Etapa diferenciada da versão          ##########\n",
    "\n",
    "Utilizar 'Causes of deaths' de CID evitáveis e as demais como \"Causa não evitável\""
   ]
  },
  {
   "cell_type": "code",
   "execution_count": 7,
   "metadata": {},
   "outputs": [
    {
     "name": "stdout",
     "output_type": "stream",
     "text": [
      "-  ----  -------------------\n",
      "0  A049  Intestinal diseases\n",
      "1  A09   Intestinal diseases\n",
      "2  A162  Tuberculosis\n",
      "3  A169  Tuberculosis\n",
      "4  A199  Tuberculosis\n",
      "-  ----  -------------------\n"
     ]
    }
   ],
   "source": [
    "# Fazer merge da lista de causas_unicas com a lista de causas evitáveis\n",
    "\n",
    "df_a = df_causas_unicas\n",
    "column_a = 'CAUSABAS'\n",
    "df_b = ocde_evit_temp\n",
    "column_b = 'cid_pai'\n",
    "column_return = 'Causes of deaths'\n",
    "\n",
    "\n",
    "\n",
    "# Função para verificar a correspondência e retornar a classificação\n",
    "def verificar_correspondencia(row):\n",
    "    for index, row_b in df_b.iterrows():\n",
    "        if row[column_a].startswith(row_b[column_b]):\n",
    "            return row_b[column_return]\n",
    "    return 'causa não evitável'\n",
    "\n",
    "# Aplicando a função a cada linha do DataFrame A\n",
    "df_a['causes_deaths'] = df_a.apply(verificar_correspondencia, axis=1)\n",
    "\n",
    "print(tabulate(df_a.head()))"
   ]
  },
  {
   "cell_type": "code",
   "execution_count": 8,
   "metadata": {},
   "outputs": [
    {
     "name": "stdout",
     "output_type": "stream",
     "text": [
      "Registro da tabela : 4427475\n",
      "+----+------------+-------------+--------+-----------+--------------+-------------+---------------------+\n",
      "|    | CAUSABAS   | CODMUNRES   |   SEXO |   RACACOR |   OBITO_SOMA | ANO_OBITO   | causes_deaths       |\n",
      "|----+------------+-------------+--------+-----------+--------------+-------------+---------------------|\n",
      "|  0 | A049       | _355080     |      1 |         1 |            1 | _2019       | Intestinal diseases |\n",
      "|  1 | A09        | _320520     |      1 |         1 |            1 | _2019       | Intestinal diseases |\n",
      "|  2 | A09        | _330040     |      1 |         1 |            1 | _2019       | Intestinal diseases |\n",
      "|  3 | A09        | _350970     |      1 |         4 |            1 | _2019       | Intestinal diseases |\n",
      "|  4 | A09        | _355100     |      2 |         1 |            1 | _2019       | Intestinal diseases |\n",
      "+----+------------+-------------+--------+-----------+--------------+-------------+---------------------+\n"
     ]
    }
   ],
   "source": [
    "# Merge dobr_merged_pop_clean and df_a by CAUSABAS\n",
    "dobr_evit_merged_temp01 = pd.merge(dobr_evit_merged_temp, df_a, on='CAUSABAS', how='left')\n",
    "\n",
    "# mostrar dados gerais da tabela após transformações\n",
    "tab = dobr_evit_merged_temp01\n",
    "print(f'Registro da tabela : {tab.shape[0]}')\n",
    "print(tabulate(tab.head(), headers='keys', tablefmt='psql'))"
   ]
  },
  {
   "cell_type": "code",
   "execution_count": 9,
   "metadata": {},
   "outputs": [
    {
     "data": {
      "text/html": [
       "<div>\n",
       "<style scoped>\n",
       "    .dataframe tbody tr th:only-of-type {\n",
       "        vertical-align: middle;\n",
       "    }\n",
       "\n",
       "    .dataframe tbody tr th {\n",
       "        vertical-align: top;\n",
       "    }\n",
       "\n",
       "    .dataframe thead th {\n",
       "        text-align: right;\n",
       "    }\n",
       "</style>\n",
       "<table border=\"1\" class=\"dataframe\">\n",
       "  <thead>\n",
       "    <tr style=\"text-align: right;\">\n",
       "      <th></th>\n",
       "      <th>CAUSABAS</th>\n",
       "      <th>CODMUNRES</th>\n",
       "      <th>SEXO</th>\n",
       "      <th>RACACOR</th>\n",
       "      <th>OBITO_SOMA</th>\n",
       "      <th>ANO_OBITO</th>\n",
       "    </tr>\n",
       "    <tr>\n",
       "      <th>causes_deaths</th>\n",
       "      <th></th>\n",
       "      <th></th>\n",
       "      <th></th>\n",
       "      <th></th>\n",
       "      <th></th>\n",
       "      <th></th>\n",
       "    </tr>\n",
       "  </thead>\n",
       "  <tbody>\n",
       "    <tr>\n",
       "      <th>Abdominal hernia</th>\n",
       "      <td>5886</td>\n",
       "      <td>5886</td>\n",
       "      <td>5886</td>\n",
       "      <td>5886</td>\n",
       "      <td>5886</td>\n",
       "      <td>5886</td>\n",
       "    </tr>\n",
       "    <tr>\n",
       "      <th>Abscess of lung and mediastinum pyothorax</th>\n",
       "      <td>2512</td>\n",
       "      <td>2512</td>\n",
       "      <td>2512</td>\n",
       "      <td>2512</td>\n",
       "      <td>2512</td>\n",
       "      <td>2512</td>\n",
       "    </tr>\n",
       "    <tr>\n",
       "      <th>Accidental Injuries</th>\n",
       "      <td>101006</td>\n",
       "      <td>101006</td>\n",
       "      <td>101006</td>\n",
       "      <td>101006</td>\n",
       "      <td>101006</td>\n",
       "      <td>101006</td>\n",
       "    </tr>\n",
       "    <tr>\n",
       "      <th>Acute lower respiratory infections</th>\n",
       "      <td>3261</td>\n",
       "      <td>3261</td>\n",
       "      <td>3261</td>\n",
       "      <td>3261</td>\n",
       "      <td>3261</td>\n",
       "      <td>3261</td>\n",
       "    </tr>\n",
       "    <tr>\n",
       "      <th>Acute pancreatitis</th>\n",
       "      <td>11836</td>\n",
       "      <td>11836</td>\n",
       "      <td>11836</td>\n",
       "      <td>11836</td>\n",
       "      <td>11836</td>\n",
       "      <td>11836</td>\n",
       "    </tr>\n",
       "    <tr>\n",
       "      <th>...</th>\n",
       "      <td>...</td>\n",
       "      <td>...</td>\n",
       "      <td>...</td>\n",
       "      <td>...</td>\n",
       "      <td>...</td>\n",
       "      <td>...</td>\n",
       "    </tr>\n",
       "    <tr>\n",
       "      <th>Varicella</th>\n",
       "      <td>270</td>\n",
       "      <td>270</td>\n",
       "      <td>270</td>\n",
       "      <td>270</td>\n",
       "      <td>270</td>\n",
       "      <td>270</td>\n",
       "    </tr>\n",
       "    <tr>\n",
       "      <th>Venous thromboembolism</th>\n",
       "      <td>24533</td>\n",
       "      <td>24533</td>\n",
       "      <td>24533</td>\n",
       "      <td>24533</td>\n",
       "      <td>24533</td>\n",
       "      <td>24533</td>\n",
       "    </tr>\n",
       "    <tr>\n",
       "      <th>Viral Hepatitis</th>\n",
       "      <td>8688</td>\n",
       "      <td>8688</td>\n",
       "      <td>8688</td>\n",
       "      <td>8688</td>\n",
       "      <td>8688</td>\n",
       "      <td>8688</td>\n",
       "    </tr>\n",
       "    <tr>\n",
       "      <th>Whooping cough</th>\n",
       "      <td>29</td>\n",
       "      <td>29</td>\n",
       "      <td>29</td>\n",
       "      <td>29</td>\n",
       "      <td>29</td>\n",
       "      <td>29</td>\n",
       "    </tr>\n",
       "    <tr>\n",
       "      <th>causa não evitável</th>\n",
       "      <td>1893718</td>\n",
       "      <td>1893718</td>\n",
       "      <td>1893718</td>\n",
       "      <td>1893718</td>\n",
       "      <td>1893718</td>\n",
       "      <td>1893718</td>\n",
       "    </tr>\n",
       "  </tbody>\n",
       "</table>\n",
       "<p>81 rows × 6 columns</p>\n",
       "</div>"
      ],
      "text/plain": [
       "                                           CAUSABAS  CODMUNRES     SEXO  \\\n",
       "causes_deaths                                                             \n",
       "Abdominal hernia                               5886       5886     5886   \n",
       "Abscess of lung and mediastinum pyothorax      2512       2512     2512   \n",
       "Accidental Injuries                          101006     101006   101006   \n",
       "Acute lower respiratory infections             3261       3261     3261   \n",
       "Acute pancreatitis                            11836      11836    11836   \n",
       "...                                             ...        ...      ...   \n",
       "Varicella                                       270        270      270   \n",
       "Venous thromboembolism                        24533      24533    24533   \n",
       "Viral Hepatitis                                8688       8688     8688   \n",
       "Whooping cough                                   29         29       29   \n",
       "causa não evitável                          1893718    1893718  1893718   \n",
       "\n",
       "                                           RACACOR  OBITO_SOMA  ANO_OBITO  \n",
       "causes_deaths                                                              \n",
       "Abdominal hernia                              5886        5886       5886  \n",
       "Abscess of lung and mediastinum pyothorax     2512        2512       2512  \n",
       "Accidental Injuries                         101006      101006     101006  \n",
       "Acute lower respiratory infections            3261        3261       3261  \n",
       "Acute pancreatitis                           11836       11836      11836  \n",
       "...                                            ...         ...        ...  \n",
       "Varicella                                      270         270        270  \n",
       "Venous thromboembolism                       24533       24533      24533  \n",
       "Viral Hepatitis                               8688        8688       8688  \n",
       "Whooping cough                                  29          29         29  \n",
       "causa não evitável                         1893718     1893718    1893718  \n",
       "\n",
       "[81 rows x 6 columns]"
      ]
     },
     "execution_count": 9,
     "metadata": {},
     "output_type": "execute_result"
    }
   ],
   "source": [
    "# Mostrar resultados de classificacao\n",
    "dobr_evit_merged_temp01.groupby('causes_deaths').count()"
   ]
  },
  {
   "cell_type": "markdown",
   "metadata": {},
   "source": [
    "########## Etapa diferenciada da versão ##########\n",
    "\n",
    "Não serão excluídos os registros com CID de doenças não evitáveis"
   ]
  },
  {
   "cell_type": "code",
   "execution_count": null,
   "metadata": {},
   "outputs": [],
   "source": [
    "# # Manter na base só dados de CID evitáveis\n",
    "# dobr_evit_merged_temp02 = dobr_evit_merged_temp01[dobr_evit_merged_temp01['classificacao']=='Avoidable mortality']\n",
    "\n",
    "# # mostrar dados gerais da tabela após transformações\n",
    "# tab = dobr_evit_merged_temp02\n",
    "# print(f'Registro da tabela : {tab.shape[0]}')\n",
    "# print(tabulate(tab.head(), headers='keys', tablefmt='psql'))"
   ]
  },
  {
   "cell_type": "markdown",
   "metadata": {},
   "source": [
    "#### Resultados do merge de cid_avoid e dobr"
   ]
  },
  {
   "cell_type": "markdown",
   "metadata": {},
   "source": [
    "##########       Atenção      ##########\n",
    "\n",
    "Atenção para etapa de salvar arquivo, para não sobrescrever outra versão"
   ]
  },
  {
   "cell_type": "code",
   "execution_count": 10,
   "metadata": {},
   "outputs": [],
   "source": [
    "# Salvar arquivo final de DOBR\n",
    "\n",
    "dobr_evit_merged_temp01.to_parquet('files_temp/ds4_dobr_evit_merged.parquet')"
   ]
  },
  {
   "cell_type": "code",
   "execution_count": 11,
   "metadata": {},
   "outputs": [
    {
     "name": "stdout",
     "output_type": "stream",
     "text": [
      "\u001b[33m ==>  O número de óbitos após a limpeza e que constituía a base de dados de DO era de 4427475 óbitos \u001b[0m\n",
      "\u001b[33m ==>  O número de registros excluídos por apresentar CIDs NÃO EVITÁVEIS foi de 0 óbitos \u001b[0m\n",
      "\u001b[33m ==>  O número de óbitos por CID EVITÁVEIS é de 4427475 óbitos \u001b[0m\n"
     ]
    }
   ],
   "source": [
    "# Contador\n",
    "\n",
    "shape_origin = dobr_evit_merged_temp.CAUSABAS.count()\n",
    "shape_filt = dobr_evit_merged_temp01.CAUSABAS.count()\n",
    "dif = shape_origin - shape_filt\n",
    "\n",
    "\n",
    "print_y(f\" O número de óbitos após a limpeza e que constituía a base de dados de DO era de {shape_origin} óbitos \")\n",
    "print_y(f\" O número de registros excluídos por apresentar CIDs NÃO EVITÁVEIS foi de {dif} óbitos \")\n",
    "print_y(f\" O número de óbitos por CID EVITÁVEIS é de {shape_filt} óbitos \")"
   ]
  },
  {
   "cell_type": "markdown",
   "metadata": {},
   "source": [
    "### Merge de dados de Municípios ao arquivo principal do SIM\n",
    "\n",
    "Serão utilizados os arquivos:\n",
    "\n",
    "* população: 'files_clean/censo_pop_clean.csv'\n",
    "\n",
    "* sim: 'files_clean/dobr_clean.csv'\n",
    "\n",
    "Como a população está clivada em Município, Idade (previamente, todos abaixo de 75 anos), Sexo e Raça, estes campos serão utilizados de maneira conjunta para realizar o merge."
   ]
  },
  {
   "cell_type": "code",
   "execution_count": 4,
   "metadata": {},
   "outputs": [
    {
     "name": "stdout",
     "output_type": "stream",
     "text": [
      "Registro da tabela : 4427475\n",
      "+----+------------+-------------+--------+-----------+--------------+-------------+---------------------+\n",
      "|    | CAUSABAS   | CODMUNRES   |   SEXO |   RACACOR |   OBITO_SOMA | ANO_OBITO   | causes_deaths       |\n",
      "|----+------------+-------------+--------+-----------+--------------+-------------+---------------------|\n",
      "|  0 | A049       | _355080     |      1 |         1 |            1 | _2019       | Intestinal diseases |\n",
      "|  1 | A09        | _320520     |      1 |         1 |            1 | _2019       | Intestinal diseases |\n",
      "|  2 | A09        | _330040     |      1 |         1 |            1 | _2019       | Intestinal diseases |\n",
      "|  3 | A09        | _350970     |      1 |         4 |            1 | _2019       | Intestinal diseases |\n",
      "|  4 | A09        | _355100     |      2 |         1 |            1 | _2019       | Intestinal diseases |\n",
      "+----+------------+-------------+--------+-----------+--------------+-------------+---------------------+\n"
     ]
    }
   ],
   "source": [
    "# Exibir arquivo dobr_clean\n",
    "dobr_merged_temp = pd.read_parquet('files_temp/ds4_dobr_evit_merged.parquet')\n",
    "\n",
    "# mostrar dados gerais da tabela após transformações\n",
    "tab = dobr_merged_temp\n",
    "print(f'Registro da tabela : {tab.shape[0]}')\n",
    "print(tabulate(tab.head(), headers='keys', tablefmt='psql'))"
   ]
  },
  {
   "cell_type": "code",
   "execution_count": 5,
   "metadata": {},
   "outputs": [
    {
     "name": "stdout",
     "output_type": "stream",
     "text": [
      "Registros da tabela : 4427475\n",
      "Soma de óbitos : 4446922\n",
      "+----+------------+-------------+--------+-----------+--------------+-------------+---------------------+-------------+\n",
      "|    | CAUSABAS   | CODMUNRES   |   SEXO |   RACACOR |   OBITO_SOMA | ANO_OBITO   | causes_deaths       | ANO_PROXY   |\n",
      "|----+------------+-------------+--------+-----------+--------------+-------------+---------------------+-------------|\n",
      "|  0 | A049       | _355080     |      1 |         1 |            1 | _2019       | Intestinal diseases | _2022       |\n",
      "|  1 | A09        | _320520     |      1 |         1 |            1 | _2019       | Intestinal diseases | _2022       |\n",
      "|  2 | A09        | _330040     |      1 |         1 |            1 | _2019       | Intestinal diseases | _2022       |\n",
      "|  3 | A09        | _350970     |      1 |         4 |            1 | _2019       | Intestinal diseases | _2022       |\n",
      "|  4 | A09        | _355100     |      2 |         1 |            1 | _2019       | Intestinal diseases | _2022       |\n",
      "+----+------------+-------------+--------+-----------+--------------+-------------+---------------------+-------------+\n"
     ]
    }
   ],
   "source": [
    "# # Gerar um campo de ano para proxy de 2022 (para ser aplicados aos anos de 19 a 22)\n",
    "dobr_merged_temp01 = dobr_merged_temp.copy()\n",
    "\n",
    "dobr_merged_temp01['ANO_PROXY'] = dobr_merged_temp01['ANO_OBITO'].apply(lambda x: '_2010' if x == '_2010' else '_2022')\n",
    "\n",
    "# # Criar um campo string que concatene ANO, CODMUNRES\n",
    "# dobr_merged_temp01['POP_MERGE'] = dobr_merged_temp01['ANO_PROXY'].astype(str) + dobr_merged_temp['CODMUNRES']\n",
    "\n",
    "# mostrar dados gerais da tabela após transformações\n",
    "tab = dobr_merged_temp01\n",
    "print(f'Registros da tabela : {tab.shape[0]}')\n",
    "print(f'Soma de óbitos : {tab.OBITO_SOMA.sum()}')\n",
    "print(tabulate(tab.head(), headers='keys', tablefmt='psql')) "
   ]
  },
  {
   "cell_type": "code",
   "execution_count": 6,
   "metadata": {},
   "outputs": [
    {
     "name": "stdout",
     "output_type": "stream",
     "text": [
      "Anos de ANO_OBITO ['_2019' '_2020' '_2021' '_2022' '_2010']\n",
      "Anos de ANO_PROXY ['_2022' '_2010']\n"
     ]
    },
    {
     "ename": "NameError",
     "evalue": "name 'censo_4merge_temp' is not defined",
     "output_type": "error",
     "traceback": [
      "\u001b[0;31m---------------------------------------------------------------------------\u001b[0m",
      "\u001b[0;31mNameError\u001b[0m                                 Traceback (most recent call last)",
      "Cell \u001b[0;32mIn[6], line 4\u001b[0m\n\u001b[1;32m      2\u001b[0m \u001b[38;5;28mprint\u001b[39m(\u001b[38;5;124mf\u001b[39m\u001b[38;5;124m'\u001b[39m\u001b[38;5;124mAnos de ANO_OBITO \u001b[39m\u001b[38;5;132;01m{\u001b[39;00mdobr_merged_temp01[\u001b[38;5;124m'\u001b[39m\u001b[38;5;124mANO_OBITO\u001b[39m\u001b[38;5;124m'\u001b[39m]\u001b[38;5;241m.\u001b[39munique()\u001b[38;5;132;01m}\u001b[39;00m\u001b[38;5;124m'\u001b[39m)\n\u001b[1;32m      3\u001b[0m \u001b[38;5;28mprint\u001b[39m(\u001b[38;5;124mf\u001b[39m\u001b[38;5;124m'\u001b[39m\u001b[38;5;124mAnos de ANO_PROXY \u001b[39m\u001b[38;5;132;01m{\u001b[39;00mdobr_merged_temp01[\u001b[38;5;124m'\u001b[39m\u001b[38;5;124mANO_PROXY\u001b[39m\u001b[38;5;124m'\u001b[39m]\u001b[38;5;241m.\u001b[39munique()\u001b[38;5;132;01m}\u001b[39;00m\u001b[38;5;124m'\u001b[39m)\n\u001b[0;32m----> 4\u001b[0m \u001b[38;5;28mprint\u001b[39m(\u001b[38;5;124mf\u001b[39m\u001b[38;5;124m'\u001b[39m\u001b[38;5;124mAnos de Censo \u001b[39m\u001b[38;5;132;01m{\u001b[39;00m\u001b[43mcenso_4merge_temp\u001b[49m[\u001b[38;5;124m'\u001b[39m\u001b[38;5;124mAno\u001b[39m\u001b[38;5;124m'\u001b[39m]\u001b[38;5;241m.\u001b[39munique()\u001b[38;5;132;01m}\u001b[39;00m\u001b[38;5;124m'\u001b[39m)\n",
      "\u001b[0;31mNameError\u001b[0m: name 'censo_4merge_temp' is not defined"
     ]
    }
   ],
   "source": [
    "# # Verificar operação acima\n",
    "print(f'Anos de ANO_OBITO {dobr_merged_temp01['ANO_OBITO'].unique()}')\n",
    "print(f'Anos de ANO_PROXY {dobr_merged_temp01['ANO_PROXY'].unique()}')\n",
    "# print(f'Anos de Censo {censo_4merge_temp['Ano'].unique()}')"
   ]
  },
  {
   "cell_type": "markdown",
   "metadata": {},
   "source": [
    "##########       Atenção      ##########\n",
    "\n",
    "Iremos excluir o CAUSABAS, mas agrupar por município, ano e cause_deaths.\n",
    "O contador de mortes portanto está atrelado ao cause_deaths."
   ]
  },
  {
   "cell_type": "code",
   "execution_count": 7,
   "metadata": {
    "vscode": {
     "languageId": "shellscript"
    }
   },
   "outputs": [
    {
     "name": "stdout",
     "output_type": "stream",
     "text": [
      "Registros da tabela : 473555\n",
      "Soma de óbitos : 4446922\n",
      "+----+------------------+-------------+-------------+-------------+--------------+\n",
      "|    | causes_deaths    | CODMUNRES   | ANO_OBITO   | ANO_PROXY   |   OBITO_SOMA |\n",
      "|----+------------------+-------------+-------------+-------------+--------------|\n",
      "|  0 | Abdominal hernia | _110009     | _2019       | _2022       |            1 |\n",
      "|  1 | Abdominal hernia | _110010     | _2022       | _2022       |            1 |\n",
      "|  2 | Abdominal hernia | _110011     | _2020       | _2022       |            1 |\n",
      "|  3 | Abdominal hernia | _110012     | _2022       | _2022       |            1 |\n",
      "|  4 | Abdominal hernia | _110015     | _2010       | _2010       |            1 |\n",
      "+----+------------------+-------------+-------------+-------------+--------------+\n"
     ]
    }
   ],
   "source": [
    "# Agrupar por POP_MERGE e somar os registros, não contabilizando mais por CAUSABAS\n",
    "col_group= [\n",
    "            'causes_deaths', \n",
    "            'CODMUNRES',\n",
    "            # 'SEXO',\n",
    "            # 'RACACOR',\n",
    "            'ANO_OBITO',\n",
    "            'ANO_PROXY'\n",
    "            ]\n",
    "\n",
    "dobr_merged_temp02 = dobr_merged_temp01.groupby(col_group)['OBITO_SOMA'].sum().reset_index()\n",
    "\n",
    "\n",
    "\n",
    "# mostrar dados gerais da tabela após transformações\n",
    "tab = dobr_merged_temp02\n",
    "print(f'Registros da tabela : {tab.shape[0]}')\n",
    "print(f'Soma de óbitos : {tab.OBITO_SOMA.sum()}')\n",
    "print(tabulate(tab.head(), headers='keys', tablefmt='psql')) "
   ]
  },
  {
   "cell_type": "code",
   "execution_count": 8,
   "metadata": {},
   "outputs": [
    {
     "name": "stdout",
     "output_type": "stream",
     "text": [
      "Registro da tabela : 111400\n",
      "População em 2022: 203069637\n",
      "+----+-------+----------+----------------------------+--------+---------------+-------------+---------------+------+---------+----------+\n",
      "|    | Ano   | mun_co   | mun_no                     | Sexo   | Cor ou raça   |   pop_total |   pop_under74 | uf   | uf_co   | uf_no    |\n",
      "|----+-------+----------+----------------------------+--------+---------------+-------------+---------------+------+---------+----------|\n",
      "|  0 | _2010 | _110001  | Alta Floresta D'Oeste (RO) | Homens | Branca        |        5311 |          5202 | RO   | _11     | Rondônia |\n",
      "|  1 | _2010 | _110001  | Alta Floresta D'Oeste (RO) | Homens | Preta         |         693 |           673 | RO   | _11     | Rondônia |\n",
      "|  2 | _2010 | _110001  | Alta Floresta D'Oeste (RO) | Homens | Amarela       |          96 |            94 | RO   | _11     | Rondônia |\n",
      "|  3 | _2010 | _110001  | Alta Floresta D'Oeste (RO) | Homens | Parda         |        6323 |          6206 | RO   | _11     | Rondônia |\n",
      "|  4 | _2010 | _110001  | Alta Floresta D'Oeste (RO) | Homens | Indígena      |         233 |           229 | RO   | _11     | Rondônia |\n",
      "+----+-------+----------+----------------------------+--------+---------------+-------------+---------------+------+---------+----------+\n"
     ]
    }
   ],
   "source": [
    "# Verificar colunas de população no arquivo censo_pop_clean\n",
    "censo_4merge_temp = pd.read_parquet('files_in_geral/censo_mun.parquet')\n",
    "\n",
    "# mostrar dados gerais da tabela após transformações\n",
    "tab = censo_4merge_temp\n",
    "print(f'Registro da tabela : {tab.shape[0]}')\n",
    "print(f'População em 2022: {tab[tab.Ano == '_2022'].pop_total.sum()}')\n",
    "print(tabulate(tab.head(), headers='keys', tablefmt='psql'))"
   ]
  },
  {
   "cell_type": "code",
   "execution_count": 9,
   "metadata": {
    "vscode": {
     "languageId": "shellscript"
    }
   },
   "outputs": [
    {
     "data": {
      "text/plain": [
       "Index(['Ano', 'mun_co', 'mun_no', 'Sexo', 'Cor ou raça', 'pop_total',\n",
       "       'pop_under74', 'uf', 'uf_co', 'uf_no'],\n",
       "      dtype='object')"
      ]
     },
     "execution_count": 9,
     "metadata": {},
     "output_type": "execute_result"
    }
   ],
   "source": [
    "# Verificação dos nomes das colunas\n",
    "censo_4merge_temp.columns"
   ]
  },
  {
   "cell_type": "code",
   "execution_count": 10,
   "metadata": {},
   "outputs": [
    {
     "name": "stdout",
     "output_type": "stream",
     "text": [
      "Registros da tabela : 11140\n",
      "População em 2022: 203069637\n",
      "+----+-------+----------+----------------------------+------+----------+-------------+---------------+\n",
      "|    | Ano   | mun_co   | mun_no                     | uf   | uf_no    |   pop_total |   pop_under74 |\n",
      "|----+-------+----------+----------------------------+------+----------+-------------+---------------|\n",
      "|  0 | _2010 | _110001  | Alta Floresta D'Oeste (RO) | RO   | Rondônia |       24392 |         23948 |\n",
      "|  1 | _2010 | _110002  | Ariquemes (RO)             | RO   | Rondônia |       90347 |         89031 |\n",
      "|  2 | _2010 | _110003  | Cabixi (RO)                | RO   | Rondônia |        6313 |          6180 |\n",
      "|  3 | _2010 | _110004  | Cacoal (RO)                | RO   | Rondônia |       78574 |         76947 |\n",
      "|  4 | _2010 | _110005  | Cerejeiras (RO)            | RO   | Rondônia |       17029 |         16646 |\n",
      "+----+-------+----------+----------------------------+------+----------+-------------+---------------+\n"
     ]
    }
   ],
   "source": [
    "# Agrupar por POP_MERGE e somar os registros, não contabilizando mais por CAUSABAS\n",
    "col_group= [\n",
    "            'Ano',\n",
    "            'mun_co',\n",
    "            'mun_no',\n",
    "            # 'Sexo',\n",
    "            # 'Cor ou raça',\n",
    "            # 'pop_total',\n",
    "            # 'pop_under74',\n",
    "            'uf',\n",
    "            # 'uf_co',\n",
    "            'uf_no'\n",
    "            ]\n",
    "\n",
    "censo_4merge_temp01 = censo_4merge_temp.groupby(col_group).agg({ 'pop_total':'sum',\n",
    "                                                                'pop_under74':'sum',}).reset_index()\n",
    "\n",
    "\n",
    "\n",
    "# mostrar dados gerais da tabela após transformações\n",
    "tab = censo_4merge_temp01\n",
    "print(f'Registros da tabela : {tab.shape[0]}')\n",
    "print(f'População em 2022: {tab[tab.Ano == '_2022'].pop_total.sum()}')\n",
    "print(tabulate(tab.head(), headers='keys', tablefmt='psql')) \n",
    "\n"
   ]
  },
  {
   "cell_type": "code",
   "execution_count": 15,
   "metadata": {},
   "outputs": [],
   "source": [
    "censo_4merge_temp01['pop_merge'] = censo_4merge_temp01['Ano']+censo_4merge_temp01['mun_co']\n",
    "dobr_merged_temp02['pop_merge'] = dobr_merged_temp02['ANO_PROXY']+dobr_merged_temp02['CODMUNRES']\n"
   ]
  },
  {
   "cell_type": "code",
   "execution_count": 16,
   "metadata": {},
   "outputs": [],
   "source": [
    "\n",
    "# Realizar o merge dos dataframes\n",
    "dobr_merged_temp03 = pd.merge(dobr_merged_temp02, censo_4merge_temp01, \n",
    "                              on = 'pop_merge',\n",
    "                            #   left_on=['ANO_PROXY','CODMUNRES'],\n",
    "                            #   right_on=['Ano','mun_co'],\n",
    "                              how='left')\n"
   ]
  },
  {
   "cell_type": "code",
   "execution_count": 17,
   "metadata": {},
   "outputs": [
    {
     "name": "stdout",
     "output_type": "stream",
     "text": [
      "Registros da tabela : 473555\n",
      "Soma de óbitos : 4446922\n",
      "+----+------------------+-------------+-------------+-------------+--------------+--------------+-------+----------+--------------------------+------+----------+-------------+---------------+\n",
      "|    | causes_deaths    | CODMUNRES   | ANO_OBITO   | ANO_PROXY   |   OBITO_SOMA | pop_merge    | Ano   | mun_co   | mun_no                   | uf   | uf_no    |   pop_total |   pop_under74 |\n",
      "|----+------------------+-------------+-------------+-------------+--------------+--------------+-------+----------+--------------------------+------+----------+-------------+---------------|\n",
      "|  0 | Abdominal hernia | _110009     | _2019       | _2022       |            1 | _2022_110009 | _2022 | _110009  | Espigão D'Oeste (RO)     | RO   | Rondônia |       29414 |         28491 |\n",
      "|  1 | Abdominal hernia | _110010     | _2022       | _2022       |            1 | _2022_110010 | _2022 | _110010  | Guajará-Mirim (RO)       | RO   | Rondônia |       39387 |         38368 |\n",
      "|  2 | Abdominal hernia | _110011     | _2020       | _2022       |            1 | _2022_110011 | _2022 | _110011  | Jaru (RO)                | RO   | Rondônia |       50589 |         48848 |\n",
      "|  3 | Abdominal hernia | _110012     | _2022       | _2022       |            1 | _2022_110012 | _2022 | _110012  | Ji-Paraná (RO)           | RO   | Rondônia |      124333 |        120643 |\n",
      "|  4 | Abdominal hernia | _110015     | _2010       | _2010       |            1 | _2010_110015 | _2010 | _110015  | Ouro Preto do Oeste (RO) | RO   | Rondônia |       37928 |         37114 |\n",
      "+----+------------------+-------------+-------------+-------------+--------------+--------------+-------+----------+--------------------------+------+----------+-------------+---------------+\n"
     ]
    }
   ],
   "source": [
    "\n",
    "# mostrar dados gerais da tabela após transformações\n",
    "tab = dobr_merged_temp03\n",
    "print(f'Registros da tabela : {tab.shape[0]}')\n",
    "print(f'Soma de óbitos : {tab.OBITO_SOMA.sum()}')\n",
    "print(tabulate(tab.head(), headers='keys', tablefmt='psql')) "
   ]
  },
  {
   "cell_type": "code",
   "execution_count": 19,
   "metadata": {},
   "outputs": [
    {
     "name": "stdout",
     "output_type": "stream",
     "text": [
      "Registros da tabela : 472557\n",
      "Soma de óbitos : 4440843\n",
      "+----+------------------+-------------+-------------+-------------+--------------+--------------+-------+----------+--------------------------+------+----------+-------------+---------------+\n",
      "|    | causes_deaths    | CODMUNRES   | ANO_OBITO   | ANO_PROXY   |   OBITO_SOMA | pop_merge    | Ano   | mun_co   | mun_no                   | uf   | uf_no    |   pop_total |   pop_under74 |\n",
      "|----+------------------+-------------+-------------+-------------+--------------+--------------+-------+----------+--------------------------+------+----------+-------------+---------------|\n",
      "|  0 | Abdominal hernia | _110009     | _2019       | _2022       |            1 | _2022_110009 | _2022 | _110009  | Espigão D'Oeste (RO)     | RO   | Rondônia |       29414 |         28491 |\n",
      "|  1 | Abdominal hernia | _110010     | _2022       | _2022       |            1 | _2022_110010 | _2022 | _110010  | Guajará-Mirim (RO)       | RO   | Rondônia |       39387 |         38368 |\n",
      "|  2 | Abdominal hernia | _110011     | _2020       | _2022       |            1 | _2022_110011 | _2022 | _110011  | Jaru (RO)                | RO   | Rondônia |       50589 |         48848 |\n",
      "|  3 | Abdominal hernia | _110012     | _2022       | _2022       |            1 | _2022_110012 | _2022 | _110012  | Ji-Paraná (RO)           | RO   | Rondônia |      124333 |        120643 |\n",
      "|  4 | Abdominal hernia | _110015     | _2010       | _2010       |            1 | _2010_110015 | _2010 | _110015  | Ouro Preto do Oeste (RO) | RO   | Rondônia |       37928 |         37114 |\n",
      "+----+------------------+-------------+-------------+-------------+--------------+--------------+-------+----------+--------------------------+------+----------+-------------+---------------+\n"
     ]
    }
   ],
   "source": [
    "# Filtrar registros onde pop_under74 não é nulo\n",
    "dobr_merged_temp04 = dobr_merged_temp03.dropna(subset=['pop_under74']).reset_index(drop=True)\n",
    "\n",
    "# mostrar dados gerais da tabela após transformações\n",
    "tab = dobr_merged_temp04\n",
    "print(f'Registros da tabela : {tab.shape[0]}')\n",
    "print(f'Soma de óbitos : {tab.OBITO_SOMA.sum()}')\n",
    "print(tabulate(tab.head(), headers='keys', tablefmt='psql'))"
   ]
  },
  {
   "cell_type": "markdown",
   "metadata": {},
   "source": [
    "##### Arquivo tratado final"
   ]
  },
  {
   "cell_type": "code",
   "execution_count": 20,
   "metadata": {},
   "outputs": [],
   "source": [
    "dobr_merged_temp04.to_parquet('files_temp/ds4_dobr_merged.parquet')"
   ]
  },
  {
   "cell_type": "code",
   "execution_count": 22,
   "metadata": {
    "vscode": {
     "languageId": "powershell"
    }
   },
   "outputs": [
    {
     "name": "stdout",
     "output_type": "stream",
     "text": [
      "\u001b[33m ==>  O número de óbitos após merge com tabela de CIDs evitáveis era de 4427475 óbitos \u001b[0m\n",
      "\u001b[33m ==>  Foram excluídos, por apresentar problemas para carga de informações de município, -13368 óbitos \u001b[0m\n",
      "\u001b[33m ==>  O número de óbitos total após filtro de CID evitáveis e inclusão de população do censo é de 4440843 óbitos \u001b[0m\n"
     ]
    }
   ],
   "source": [
    "# Resultados\n",
    "\n",
    "obito_origin = dobr_merged_temp.CAUSABAS.count()\n",
    "obito_final = dobr_merged_temp04.OBITO_SOMA.sum()\n",
    "dif = obito_origin - obito_final\n",
    "\n",
    "\n",
    "print_y(f\" O número de óbitos após merge com tabela de CIDs evitáveis era de {obito_origin} óbitos \")\n",
    "print_y(f\" Foram excluídos, por apresentar problemas para carga de informações de município, {dif} óbitos \")\n",
    "print_y(f\" O número de óbitos total após filtro de CID evitáveis e inclusão de população do censo é de {obito_final} óbitos \")\n",
    "\n",
    "\n",
    "# # Filtrar registros onde pop_under74 é null\n",
    "# dobr_merged_pop_nulos = dobr_merged_pop[dobr_merged_pop['pop_under74'].isnull()]\n",
    "\n",
    "# # Exibir os registros filtrados\n",
    "# dobr_merged_pop_nulos['obito_count'].sum()"
   ]
  },
  {
   "cell_type": "markdown",
   "metadata": {},
   "source": [
    "# Etapa 3 - Aplicação de Modelo do HEAT ao Bloco"
   ]
  },
  {
   "cell_type": "markdown",
   "metadata": {},
   "source": [
    "O modelo HEAT apresenta um framework bem rígido e objetivo para carga de dados.\n",
    "\n",
    "O dataset precisa estar organizado com os labels e de acordo com a definição presente no template.\n",
    "\n",
    "E depois precisa ser validado em planilha excel disponibilizada pela organização.\n",
    "\n",
    "Ajustes: com a identificação da população por sexo e raça, encontramos 37 registros com população 0. Tivemos que excluir estes registros (incluindo os óbitos) no momento da preparação do dataset do heat em razão do modelo não aceitar estes valores."
   ]
  },
  {
   "cell_type": "markdown",
   "metadata": {},
   "source": [
    "## Dataset 4 - BR/CIDs/uf/Mun\n",
    "\n",
    "\n",
    "O primeiro dataset que iremos construir tem as seguintes características:\n",
    "\n",
    "* set = Brasil\n",
    "* indicador = causes_deaths\n",
    "* dimen = UF\n",
    "* subgroup = município\n",
    "* estimate = mortalidade por ano, causa (indicador) e subgroup\n",
    "* set-avg = mortalidade por ano e causa (indicador)\n",
    "\n",
    "Estas escolhas implicam em podermos disponibilizar ao usuário do HEAT a possibilidade de ver os municípios (dimensões) de maneira agregada por UF. \n"
   ]
  },
  {
   "cell_type": "code",
   "execution_count": 3,
   "metadata": {
    "vscode": {
     "languageId": "powershell"
    }
   },
   "outputs": [],
   "source": [
    "# Define the URL and the destination path\n",
    "url = \"https://srhdpeuwpubsa.blob.core.windows.net/whdh/HIDR/heat_plus_template_validation.xlsm\"\n",
    "destination_path = \"downloads_outros/heat_plus_template_validation.xlsm\"\n",
    "\n",
    "# Download the file\n",
    "response = requests.get(url)\n",
    "with open(destination_path, 'wb') as file:\n",
    "    file.write(response.content)\n",
    "\n",
    "# Note: Enabling macros programmatically is not recommended due to security risks.\n",
    "# Macros should be enabled manually in Excel settings."
   ]
  },
  {
   "cell_type": "code",
   "execution_count": 24,
   "metadata": {},
   "outputs": [
    {
     "name": "stdout",
     "output_type": "stream",
     "text": [
      "Registros da tabela : 472557\n",
      "Total de óbitos : 4440843\n",
      "+----+------------------+-------------+-------------+-------------+--------------+--------------+-------+----------+--------------------------+------+----------+-------------+---------------+\n",
      "|    | causes_deaths    | CODMUNRES   | ANO_OBITO   | ANO_PROXY   |   OBITO_SOMA | pop_merge    | Ano   | mun_co   | mun_no                   | uf   | uf_no    |   pop_total |   pop_under74 |\n",
      "|----+------------------+-------------+-------------+-------------+--------------+--------------+-------+----------+--------------------------+------+----------+-------------+---------------|\n",
      "|  0 | Abdominal hernia | _110009     | _2019       | _2022       |            1 | _2022_110009 | _2022 | _110009  | Espigão D'Oeste (RO)     | RO   | Rondônia |       29414 |         28491 |\n",
      "|  1 | Abdominal hernia | _110010     | _2022       | _2022       |            1 | _2022_110010 | _2022 | _110010  | Guajará-Mirim (RO)       | RO   | Rondônia |       39387 |         38368 |\n",
      "|  2 | Abdominal hernia | _110011     | _2020       | _2022       |            1 | _2022_110011 | _2022 | _110011  | Jaru (RO)                | RO   | Rondônia |       50589 |         48848 |\n",
      "|  3 | Abdominal hernia | _110012     | _2022       | _2022       |            1 | _2022_110012 | _2022 | _110012  | Ji-Paraná (RO)           | RO   | Rondônia |      124333 |        120643 |\n",
      "|  4 | Abdominal hernia | _110015     | _2010       | _2010       |            1 | _2010_110015 | _2010 | _110015  | Ouro Preto do Oeste (RO) | RO   | Rondônia |       37928 |         37114 |\n",
      "+----+------------------+-------------+-------------+-------------+--------------+--------------+-------+----------+--------------------------+------+----------+-------------+---------------+\n"
     ]
    }
   ],
   "source": [
    "# Abrir arquivo final de DO após tratamento\n",
    "heatds_temp = pd.read_parquet('files_temp/ds4_dobr_merged.parquet')\n",
    "\n",
    "# mostrar dados gerais da tabela após transformações\n",
    "tab = heatds_temp\n",
    "print(f'Registros da tabela : {tab.shape[0]}')\n",
    "print(f'Total de óbitos : {tab.OBITO_SOMA.sum()}')\n",
    "print(tabulate(tab.head(), headers='keys', tablefmt='psql'))"
   ]
  },
  {
   "cell_type": "code",
   "execution_count": 38,
   "metadata": {
    "vscode": {
     "languageId": "ruby"
    }
   },
   "outputs": [],
   "source": [
    "# # Agregar os dados sem CID e gerar colunas de soma de obito_count e pop_under74\n",
    "# heat_semCID = heat_.groupby(['UF', 'mun_nome', 'CODMUNRES', 'SEXO', 'RACACOR', 'ANO']).agg({\n",
    "#     'obito_count': 'sum',\n",
    "#     'pop_under74': 'sum'\n",
    "# }).reset_index()"
   ]
  },
  {
   "cell_type": "markdown",
   "metadata": {},
   "source": [
    "########## __Atenção__ ##########\n",
    "\n",
    "Para melhor registro, utilizamos o label mort_ind_mun_causedeath para deixar claro que o indicador é relativo a município e causa de morte"
   ]
  },
  {
   "cell_type": "code",
   "execution_count": 27,
   "metadata": {
    "vscode": {
     "languageId": "ruby"
    }
   },
   "outputs": [
    {
     "name": "stdout",
     "output_type": "stream",
     "text": [
      "Registros da tabela : 472557\n",
      "Total de óbitos : 4440843\n",
      "+----+------------------+-------------+-------------+-------------+--------------+--------------+-------+----------+--------------------------+------+----------+-------------+---------------+---------------------------+\n",
      "|    | causes_deaths    | CODMUNRES   | ANO_OBITO   | ANO_PROXY   |   OBITO_SOMA | pop_merge    | Ano   | mun_co   | mun_no                   | uf   | uf_no    |   pop_total |   pop_under74 |   mort_ind_mun_causedeath |\n",
      "|----+------------------+-------------+-------------+-------------+--------------+--------------+-------+----------+--------------------------+------+----------+-------------+---------------+---------------------------|\n",
      "|  0 | Abdominal hernia | _110009     | _2019       | _2022       |            1 | _2022_110009 | _2022 | _110009  | Espigão D'Oeste (RO)     | RO   | Rondônia |       29414 |         28491 |                  3.50988  |\n",
      "|  1 | Abdominal hernia | _110010     | _2022       | _2022       |            1 | _2022_110010 | _2022 | _110010  | Guajará-Mirim (RO)       | RO   | Rondônia |       39387 |         38368 |                  2.60634  |\n",
      "|  2 | Abdominal hernia | _110011     | _2020       | _2022       |            1 | _2022_110011 | _2022 | _110011  | Jaru (RO)                | RO   | Rondônia |       50589 |         48848 |                  2.04717  |\n",
      "|  3 | Abdominal hernia | _110012     | _2022       | _2022       |            1 | _2022_110012 | _2022 | _110012  | Ji-Paraná (RO)           | RO   | Rondônia |      124333 |        120643 |                  0.828892 |\n",
      "|  4 | Abdominal hernia | _110015     | _2010       | _2010       |            1 | _2010_110015 | _2010 | _110015  | Ouro Preto do Oeste (RO) | RO   | Rondônia |       37928 |         37114 |                  2.6944   |\n",
      "+----+------------------+-------------+-------------+-------------+--------------+--------------+-------+----------+--------------------------+------+----------+-------------+---------------+---------------------------+\n"
     ]
    }
   ],
   "source": [
    "# Gerar o indicador de mortalidade (por 100 mil habitantes) e exibir as primeiras linhas do DataFrame\n",
    "heatds_temp01 = heatds_temp.copy()\n",
    "\n",
    "heatds_temp01['mort_ind_mun_causedeath'] = (heatds_temp01['OBITO_SOMA']/heatds_temp01['pop_under74'])*100000\n",
    "\n",
    "# mostrar dados gerais da tabela após transformações\n",
    "tab = heatds_temp01\n",
    "print(f'Registros da tabela : {tab.shape[0]}')\n",
    "print(f'Total de óbitos : {tab.OBITO_SOMA.sum()}')\n",
    "print(tabulate(tab.head(), headers='keys', tablefmt='psql'))"
   ]
  },
  {
   "cell_type": "code",
   "execution_count": 28,
   "metadata": {},
   "outputs": [
    {
     "name": "stdout",
     "output_type": "stream",
     "text": [
      "Número de valores infinitos em mort_ind_mun: 0\n",
      "Valores nulos em 'mort_ind_mun': 0\n"
     ]
    }
   ],
   "source": [
    "# Contar e gerar tabela de indicador de mortalidade infinitos [inf]\n",
    "registros_inf = heatds_temp01[np.isinf(heatds_temp01['mort_ind_mun_causedeath'])]\n",
    "inf_count = np.isinf(heatds_temp01['mort_ind_mun_causedeath']).sum()\n",
    "nulos_mort_ind_mun = heatds_temp01['mort_ind_mun_causedeath'].isnull().sum()\n",
    "\n",
    "\n",
    "# Exibir os registros filtrados\n",
    "print(f\"Número de valores infinitos em mort_ind_mun: {inf_count}\")\n",
    "print(f\"Valores nulos em 'mort_ind_mun': {nulos_mort_ind_mun}\")\n",
    "\n",
    "\n",
    "\n",
    "# Exportar registros de indicador de mortalidade infinitos [inf]\n",
    "# registros_inf.to_csv('exportar/relatorio_reg_mort_ind_inf.csv')"
   ]
  },
  {
   "cell_type": "code",
   "execution_count": null,
   "metadata": {},
   "outputs": [],
   "source": [
    "# # Limpar a base de registros de indicador de mortalidade infinitos [inf]\n",
    "# heat_ds_treat2 = heat_ds_treat.copy()\n",
    "\n",
    "# # Substituir valores infinitos por NaN\n",
    "# heat_ds_treat2['mort_ind_mun'].replace([np.inf, -np.inf], np.nan, inplace=True)"
   ]
  },
  {
   "cell_type": "code",
   "execution_count": null,
   "metadata": {},
   "outputs": [],
   "source": [
    "# # Rodar se for necessário excluir valores nulos\n",
    "# heatds_temp02 = heatds_temp01.copy()\n",
    "\n",
    "# # Excluir registros com NaN na coluna mort_ind_mun\n",
    "# heatds_temp02.dropna(subset=['mort_ind_mun'], inplace=True)\n",
    "\n",
    "# # Mudar o nome da coluna mort_ind para mort_ind_mun\n",
    "# # heat_ds_treat2.rename(columns={'mort_ind':'mort_ind_mun'}, inplace=True)\n",
    "\n",
    "\n",
    "# # Verificar as primeiras linhas do DataFrame atualizado\n",
    "# heat_ds_treat1.head()"
   ]
  },
  {
   "cell_type": "code",
   "execution_count": 29,
   "metadata": {},
   "outputs": [
    {
     "data": {
      "text/html": [
       "<div>\n",
       "<style scoped>\n",
       "    .dataframe tbody tr th:only-of-type {\n",
       "        vertical-align: middle;\n",
       "    }\n",
       "\n",
       "    .dataframe tbody tr th {\n",
       "        vertical-align: top;\n",
       "    }\n",
       "\n",
       "    .dataframe thead th {\n",
       "        text-align: right;\n",
       "    }\n",
       "</style>\n",
       "<table border=\"1\" class=\"dataframe\">\n",
       "  <thead>\n",
       "    <tr style=\"text-align: right;\">\n",
       "      <th></th>\n",
       "      <th>OBITO_SOMA</th>\n",
       "      <th>pop_total</th>\n",
       "      <th>pop_under74</th>\n",
       "      <th>mort_ind_mun_causedeath</th>\n",
       "    </tr>\n",
       "  </thead>\n",
       "  <tbody>\n",
       "    <tr>\n",
       "      <th>count</th>\n",
       "      <td>472557.000000</td>\n",
       "      <td>4.725570e+05</td>\n",
       "      <td>4.725570e+05</td>\n",
       "      <td>472557.000000</td>\n",
       "    </tr>\n",
       "    <tr>\n",
       "      <th>mean</th>\n",
       "      <td>9.397476</td>\n",
       "      <td>8.621225e+04</td>\n",
       "      <td>8.285124e+04</td>\n",
       "      <td>26.701832</td>\n",
       "    </tr>\n",
       "    <tr>\n",
       "      <th>std</th>\n",
       "      <td>117.927717</td>\n",
       "      <td>4.057112e+05</td>\n",
       "      <td>3.874540e+05</td>\n",
       "      <td>49.169391</td>\n",
       "    </tr>\n",
       "    <tr>\n",
       "      <th>min</th>\n",
       "      <td>1.000000</td>\n",
       "      <td>8.050000e+02</td>\n",
       "      <td>7.820000e+02</td>\n",
       "      <td>0.009178</td>\n",
       "    </tr>\n",
       "    <tr>\n",
       "      <th>25%</th>\n",
       "      <td>1.000000</td>\n",
       "      <td>1.002300e+04</td>\n",
       "      <td>9.544000e+03</td>\n",
       "      <td>4.990393</td>\n",
       "    </tr>\n",
       "    <tr>\n",
       "      <th>50%</th>\n",
       "      <td>2.000000</td>\n",
       "      <td>2.069400e+04</td>\n",
       "      <td>1.975300e+04</td>\n",
       "      <td>12.059817</td>\n",
       "    </tr>\n",
       "    <tr>\n",
       "      <th>75%</th>\n",
       "      <td>5.000000</td>\n",
       "      <td>5.184500e+04</td>\n",
       "      <td>4.993700e+04</td>\n",
       "      <td>26.271166</td>\n",
       "    </tr>\n",
       "    <tr>\n",
       "      <th>max</th>\n",
       "      <td>35890.000000</td>\n",
       "      <td>1.145115e+07</td>\n",
       "      <td>1.089595e+07</td>\n",
       "      <td>870.195794</td>\n",
       "    </tr>\n",
       "  </tbody>\n",
       "</table>\n",
       "</div>"
      ],
      "text/plain": [
       "          OBITO_SOMA     pop_total   pop_under74  mort_ind_mun_causedeath\n",
       "count  472557.000000  4.725570e+05  4.725570e+05            472557.000000\n",
       "mean        9.397476  8.621225e+04  8.285124e+04                26.701832\n",
       "std       117.927717  4.057112e+05  3.874540e+05                49.169391\n",
       "min         1.000000  8.050000e+02  7.820000e+02                 0.009178\n",
       "25%         1.000000  1.002300e+04  9.544000e+03                 4.990393\n",
       "50%         2.000000  2.069400e+04  1.975300e+04                12.059817\n",
       "75%         5.000000  5.184500e+04  4.993700e+04                26.271166\n",
       "max     35890.000000  1.145115e+07  1.089595e+07               870.195794"
      ]
     },
     "execution_count": 29,
     "metadata": {},
     "output_type": "execute_result"
    }
   ],
   "source": [
    "# Verificar se existe valor infinito ou negativo na coluna mort_ind_mun\n",
    "heatds_temp01.describe()"
   ]
  },
  {
   "cell_type": "markdown",
   "metadata": {},
   "source": [
    "##### Agrupar por UF para gerar setting e setting-average\n",
    "\n",
    "De acordo com o template do HEAT, o setting average: \"must be consistent for the same combinantion of: setting, year, source and indicator\".\n",
    "\n",
    "Isto implica que os valores para cada setting (UF) não traz interferência nem da dimensão (município) e nem do subgrupo (sexo-raça-cor)."
   ]
  },
  {
   "cell_type": "code",
   "execution_count": null,
   "metadata": {
    "vscode": {
     "languageId": "ruby"
    }
   },
   "outputs": [],
   "source": [
    "# # Agrupar por 'UF', 'ANO', e calcular a média de 'mort_ind'\n",
    "# dobr_grouped_uf = heat_ds_treat2.groupby(['UF',\n",
    "#                                              'ANO_OBITO',\n",
    "#                                             #  'SEXO',\n",
    "#                                             #  'RACACOR'\n",
    "#                                              ]).agg({'CONTADOR': 'sum',\n",
    "#                                                     'pop_under74': 'sum',\n",
    "#                                                     'mort_ind_mun': 'mean'\n",
    "#                                                 }).reset_index()\n",
    "# dobr_grouped_uf.rename(columns={'mort_ind_mun': 'mort_ind_uf',\n",
    "#                                 'CONTADOR': 'obito_count_uf',\n",
    "#                                 'pop_under74': 'pop_under74_uf',\n",
    "#                                 }, inplace=True)\n",
    "\n",
    "\n",
    "# # Exibir as primeiras linhas do DataFrame resultante\n",
    "# dobr_grouped_uf.head()"
   ]
  },
  {
   "cell_type": "code",
   "execution_count": null,
   "metadata": {
    "vscode": {
     "languageId": "ruby"
    }
   },
   "outputs": [],
   "source": [
    "# dobr_grouped_uf.describe()"
   ]
  },
  {
   "cell_type": "code",
   "execution_count": null,
   "metadata": {
    "vscode": {
     "languageId": "ruby"
    }
   },
   "outputs": [],
   "source": [
    "# Salvar arquivo por UF para exportação\n",
    "# dobr_grouped_uf.to_excel('exportar/dobr_grouped_uf_v2.xlsx', index=False)"
   ]
  },
  {
   "cell_type": "code",
   "execution_count": null,
   "metadata": {
    "vscode": {
     "languageId": "ruby"
    }
   },
   "outputs": [],
   "source": [
    "# heat_ds_treat2.columns"
   ]
  },
  {
   "cell_type": "code",
   "execution_count": null,
   "metadata": {},
   "outputs": [],
   "source": [
    "# # Trazer dados por UF (setting e setting_average)\n",
    "\n",
    "# # Realizar o merge entre heat_ e uf_sett\n",
    "# heat_treat00 = pd.merge(heat_ds_treat2, dobr_grouped_uf, on=['UF',\n",
    "#                                                                 'ANO_OBITO',\n",
    "#                                                                 # 'SEXO',\n",
    "#                                                                 # 'RACACOR'\n",
    "#                                                                 ], how='left')\n",
    "\n",
    "# # Exibir as primeiras linhas do dataframe resultante\n",
    "# heat_treat00.head()"
   ]
  },
  {
   "cell_type": "code",
   "execution_count": null,
   "metadata": {},
   "outputs": [],
   "source": [
    "# # Teste de aplicação de setting_average (médias por UF)\n",
    "# filtered_data = heat_treat00[   (heat_treat00['ANO_OBITO'] == '_2022') &\n",
    "#                                 (heat_treat00['UF'] == 'AC') \n",
    "#                                 # & (heat_treat00['SEXO'] == '_1') &\n",
    "#                                 #(heat_treat00['RACACOR'] == '_4')\n",
    "#                               ]\n",
    "# filtered_data.head()"
   ]
  },
  {
   "cell_type": "code",
   "execution_count": null,
   "metadata": {},
   "outputs": [],
   "source": [
    "# heat_treat00.columns"
   ]
  },
  {
   "cell_type": "code",
   "execution_count": null,
   "metadata": {},
   "outputs": [],
   "source": [
    "# heat_treat00.pop_under74_uf.sum()"
   ]
  },
  {
   "cell_type": "code",
   "execution_count": null,
   "metadata": {},
   "outputs": [],
   "source": [
    "# obito_num = heat_treat00.CONTADOR.sum()\n",
    "# pop_under74 = heat_treat00.pop_under74.sum()\n",
    "\n",
    "# print(f\"\\033[33m ==> Número de mortes: {obito_num} \\033[0m\")\n",
    "# print(f\"\\033[33m ==> Número de população abaixo de 75 anos é de {pop_under74} \\033[0m\")  \n"
   ]
  },
  {
   "cell_type": "code",
   "execution_count": null,
   "metadata": {},
   "outputs": [],
   "source": [
    "# heat_template = row\n",
    "# heat_template"
   ]
  },
  {
   "cell_type": "markdown",
   "metadata": {},
   "source": [
    "##### Criar colunas do dataset"
   ]
  },
  {
   "cell_type": "markdown",
   "metadata": {},
   "source": [
    "##########       Etapa diferenciada da versão      ##########\n",
    "\n",
    "Esta etapa precisa bastante atenção.\n",
    "\n",
    "Se considerarmos causes_deaths como dimensão, ela precisa ser ignorada na criação so set-avg.\n",
    "\n",
    "Pelo contrário, se formos tratar causes_deaths como indicador, ele precisa ser considerado na criação do set-avg.\n",
    "\n",
    "Vamos realizar abaixo causes_deaths como indicador."
   ]
  },
  {
   "cell_type": "code",
   "execution_count": 30,
   "metadata": {},
   "outputs": [
    {
     "data": {
      "text/plain": [
       "Index(['causes_deaths', 'CODMUNRES', 'ANO_OBITO', 'ANO_PROXY', 'OBITO_SOMA',\n",
       "       'pop_merge', 'Ano', 'mun_co', 'mun_no', 'uf', 'uf_no', 'pop_total',\n",
       "       'pop_under74', 'mort_ind_mun_causedeath'],\n",
       "      dtype='object')"
      ]
     },
     "execution_count": 30,
     "metadata": {},
     "output_type": "execute_result"
    }
   ],
   "source": [
    "heatds_temp01.columns"
   ]
  },
  {
   "cell_type": "code",
   "execution_count": 31,
   "metadata": {},
   "outputs": [
    {
     "name": "stdout",
     "output_type": "stream",
     "text": [
      "    ANO_OBITO                              causes_deaths  set_avg_BR\n",
      "0       _2010                           Abdominal hernia    0.903182\n",
      "1       _2010  Abscess of lung and mediastinum pyothorax    0.673781\n",
      "2       _2010                        Accidental Injuries   11.020761\n",
      "3       _2010         Acute lower respiratory infections    0.579969\n",
      "4       _2010                         Acute pancreatitis    1.917004\n",
      "..        ...                                        ...         ...\n",
      "393     _2022               Upper respiratory infections    0.653991\n",
      "394     _2022                                  Varicella    0.409445\n",
      "395     _2022                     Venous thromboembolism    4.069469\n",
      "396     _2022                            Viral Hepatitis    1.232398\n",
      "397     _2022                         causa não evitável  175.127151\n",
      "\n",
      "[398 rows x 3 columns]\n"
     ]
    },
    {
     "name": "stderr",
     "output_type": "stream",
     "text": [
      "/tmp/ipykernel_9265/1189972450.py:8: DeprecationWarning: DataFrameGroupBy.apply operated on the grouping columns. This behavior is deprecated, and in a future version of pandas the grouping columns will be excluded from the operation. Either pass `include_groups=False` to exclude the groupings or explicitly select the grouping columns after groupby to silence this warning.\n",
      "  weighted_avg_per_year = heatds_temp01.groupby(['ANO_OBITO','causes_deaths']).apply(weighted_avg).reset_index()\n"
     ]
    }
   ],
   "source": [
    "# Na média ponderada de mortalidade evitável, pegamos os valores de mortalidade para cada município e dividimos pela população, para conseguir o valor para o Brasil e por ano\n",
    "\n",
    "# Função para calcular a média ponderada\n",
    "def weighted_avg(group):\n",
    "    return np.average(group['mort_ind_mun_causedeath'], weights=group['pop_under74'])\n",
    "\n",
    "# Agrupar os dados pelo ano e aplicar a função de média ponderada\n",
    "weighted_avg_per_year = heatds_temp01.groupby(['ANO_OBITO','causes_deaths']).apply(weighted_avg).reset_index()\n",
    "\n",
    "# Renomear as colunas para melhor entendimento\n",
    "weighted_avg_per_year.columns = ['ANO_OBITO','causes_deaths','set_avg_BR']\n",
    "\n",
    "# Exibir o resultado\n",
    "print(weighted_avg_per_year)"
   ]
  },
  {
   "cell_type": "code",
   "execution_count": 32,
   "metadata": {},
   "outputs": [
    {
     "name": "stdout",
     "output_type": "stream",
     "text": [
      "Registros da tabela : 472557\n",
      "Total de óbitos : 4440843\n"
     ]
    },
    {
     "data": {
      "text/html": [
       "<div>\n",
       "<style scoped>\n",
       "    .dataframe tbody tr th:only-of-type {\n",
       "        vertical-align: middle;\n",
       "    }\n",
       "\n",
       "    .dataframe tbody tr th {\n",
       "        vertical-align: top;\n",
       "    }\n",
       "\n",
       "    .dataframe thead th {\n",
       "        text-align: right;\n",
       "    }\n",
       "</style>\n",
       "<table border=\"1\" class=\"dataframe\">\n",
       "  <thead>\n",
       "    <tr style=\"text-align: right;\">\n",
       "      <th></th>\n",
       "      <th>causes_deaths</th>\n",
       "      <th>CODMUNRES</th>\n",
       "      <th>ANO_OBITO</th>\n",
       "      <th>ANO_PROXY</th>\n",
       "      <th>OBITO_SOMA</th>\n",
       "      <th>pop_merge</th>\n",
       "      <th>Ano</th>\n",
       "      <th>mun_co</th>\n",
       "      <th>mun_no</th>\n",
       "      <th>uf</th>\n",
       "      <th>uf_no</th>\n",
       "      <th>pop_total</th>\n",
       "      <th>pop_under74</th>\n",
       "      <th>mort_ind_mun_causedeath</th>\n",
       "      <th>set_avg_BR</th>\n",
       "    </tr>\n",
       "  </thead>\n",
       "  <tbody>\n",
       "    <tr>\n",
       "      <th>0</th>\n",
       "      <td>Abdominal hernia</td>\n",
       "      <td>_110009</td>\n",
       "      <td>_2019</td>\n",
       "      <td>_2022</td>\n",
       "      <td>1</td>\n",
       "      <td>_2022_110009</td>\n",
       "      <td>_2022</td>\n",
       "      <td>_110009</td>\n",
       "      <td>Espigão D'Oeste (RO)</td>\n",
       "      <td>RO</td>\n",
       "      <td>Rondônia</td>\n",
       "      <td>29414.0</td>\n",
       "      <td>28491.0</td>\n",
       "      <td>3.509880</td>\n",
       "      <td>1.136874</td>\n",
       "    </tr>\n",
       "    <tr>\n",
       "      <th>1</th>\n",
       "      <td>Abdominal hernia</td>\n",
       "      <td>_110010</td>\n",
       "      <td>_2022</td>\n",
       "      <td>_2022</td>\n",
       "      <td>1</td>\n",
       "      <td>_2022_110010</td>\n",
       "      <td>_2022</td>\n",
       "      <td>_110010</td>\n",
       "      <td>Guajará-Mirim (RO)</td>\n",
       "      <td>RO</td>\n",
       "      <td>Rondônia</td>\n",
       "      <td>39387.0</td>\n",
       "      <td>38368.0</td>\n",
       "      <td>2.606339</td>\n",
       "      <td>1.243599</td>\n",
       "    </tr>\n",
       "    <tr>\n",
       "      <th>2</th>\n",
       "      <td>Abdominal hernia</td>\n",
       "      <td>_110011</td>\n",
       "      <td>_2020</td>\n",
       "      <td>_2022</td>\n",
       "      <td>1</td>\n",
       "      <td>_2022_110011</td>\n",
       "      <td>_2022</td>\n",
       "      <td>_110011</td>\n",
       "      <td>Jaru (RO)</td>\n",
       "      <td>RO</td>\n",
       "      <td>Rondônia</td>\n",
       "      <td>50589.0</td>\n",
       "      <td>48848.0</td>\n",
       "      <td>2.047167</td>\n",
       "      <td>1.050270</td>\n",
       "    </tr>\n",
       "    <tr>\n",
       "      <th>3</th>\n",
       "      <td>Abdominal hernia</td>\n",
       "      <td>_110012</td>\n",
       "      <td>_2022</td>\n",
       "      <td>_2022</td>\n",
       "      <td>1</td>\n",
       "      <td>_2022_110012</td>\n",
       "      <td>_2022</td>\n",
       "      <td>_110012</td>\n",
       "      <td>Ji-Paraná (RO)</td>\n",
       "      <td>RO</td>\n",
       "      <td>Rondônia</td>\n",
       "      <td>124333.0</td>\n",
       "      <td>120643.0</td>\n",
       "      <td>0.828892</td>\n",
       "      <td>1.243599</td>\n",
       "    </tr>\n",
       "    <tr>\n",
       "      <th>4</th>\n",
       "      <td>Abdominal hernia</td>\n",
       "      <td>_110015</td>\n",
       "      <td>_2010</td>\n",
       "      <td>_2010</td>\n",
       "      <td>1</td>\n",
       "      <td>_2010_110015</td>\n",
       "      <td>_2010</td>\n",
       "      <td>_110015</td>\n",
       "      <td>Ouro Preto do Oeste (RO)</td>\n",
       "      <td>RO</td>\n",
       "      <td>Rondônia</td>\n",
       "      <td>37928.0</td>\n",
       "      <td>37114.0</td>\n",
       "      <td>2.694401</td>\n",
       "      <td>0.903182</td>\n",
       "    </tr>\n",
       "  </tbody>\n",
       "</table>\n",
       "</div>"
      ],
      "text/plain": [
       "      causes_deaths CODMUNRES ANO_OBITO ANO_PROXY  OBITO_SOMA     pop_merge  \\\n",
       "0  Abdominal hernia   _110009     _2019     _2022           1  _2022_110009   \n",
       "1  Abdominal hernia   _110010     _2022     _2022           1  _2022_110010   \n",
       "2  Abdominal hernia   _110011     _2020     _2022           1  _2022_110011   \n",
       "3  Abdominal hernia   _110012     _2022     _2022           1  _2022_110012   \n",
       "4  Abdominal hernia   _110015     _2010     _2010           1  _2010_110015   \n",
       "\n",
       "     Ano   mun_co                    mun_no  uf     uf_no  pop_total  \\\n",
       "0  _2022  _110009      Espigão D'Oeste (RO)  RO  Rondônia    29414.0   \n",
       "1  _2022  _110010        Guajará-Mirim (RO)  RO  Rondônia    39387.0   \n",
       "2  _2022  _110011                 Jaru (RO)  RO  Rondônia    50589.0   \n",
       "3  _2022  _110012            Ji-Paraná (RO)  RO  Rondônia   124333.0   \n",
       "4  _2010  _110015  Ouro Preto do Oeste (RO)  RO  Rondônia    37928.0   \n",
       "\n",
       "   pop_under74  mort_ind_mun_causedeath  set_avg_BR  \n",
       "0      28491.0                 3.509880    1.136874  \n",
       "1      38368.0                 2.606339    1.243599  \n",
       "2      48848.0                 2.047167    1.050270  \n",
       "3     120643.0                 0.828892    1.243599  \n",
       "4      37114.0                 2.694401    0.903182  "
      ]
     },
     "execution_count": 32,
     "metadata": {},
     "output_type": "execute_result"
    }
   ],
   "source": [
    "# Realizar o merge entre heat_ds_treat2 e grouped_data usando a coluna ANO_OBITO\n",
    "heatds_temp02 = pd.merge(heatds_temp01, weighted_avg_per_year, on=['ANO_OBITO','causes_deaths'], how='left')\n",
    "\n",
    "# mostrar dados gerais da tabela após transformações\n",
    "tab = heatds_temp02\n",
    "print(f'Registros da tabela : {tab.shape[0]}')\n",
    "print(f'Total de óbitos : {tab.OBITO_SOMA.sum()}')\n",
    "tab.head()\n",
    "# print(tabulate(tab.head(), headers='keys', tablefmt='psql'))"
   ]
  },
  {
   "cell_type": "markdown",
   "metadata": {},
   "source": [
    "##########       Etapa diferenciada da versão      ##########\n",
    "\n",
    "Para esta versão\n",
    "* set = Brasil\n",
    "* indicador = causes_deaths\n",
    "* dimen = UF\n",
    "* subgroup = município\n",
    "* estimate = mortalidade por ano, causa (indicador) e subgroup\n",
    "* set-avg = mortalidade por ano e causa (indicador)"
   ]
  },
  {
   "cell_type": "code",
   "execution_count": 33,
   "metadata": {},
   "outputs": [
    {
     "data": {
      "text/html": [
       "<div>\n",
       "<style scoped>\n",
       "    .dataframe tbody tr th:only-of-type {\n",
       "        vertical-align: middle;\n",
       "    }\n",
       "\n",
       "    .dataframe tbody tr th {\n",
       "        vertical-align: top;\n",
       "    }\n",
       "\n",
       "    .dataframe thead th {\n",
       "        text-align: right;\n",
       "    }\n",
       "</style>\n",
       "<table border=\"1\" class=\"dataframe\">\n",
       "  <thead>\n",
       "    <tr style=\"text-align: right;\">\n",
       "      <th></th>\n",
       "      <th>causes_deaths</th>\n",
       "      <th>indicator_abbr</th>\n",
       "    </tr>\n",
       "  </thead>\n",
       "  <tbody>\n",
       "    <tr>\n",
       "      <th>0</th>\n",
       "      <td>Abdominal hernia</td>\n",
       "      <td>Abdom</td>\n",
       "    </tr>\n",
       "    <tr>\n",
       "      <th>1</th>\n",
       "      <td>Abscess of lung and mediastinum pyothorax</td>\n",
       "      <td>Absce</td>\n",
       "    </tr>\n",
       "    <tr>\n",
       "      <th>2</th>\n",
       "      <td>Accidental Injuries</td>\n",
       "      <td>Accid</td>\n",
       "    </tr>\n",
       "    <tr>\n",
       "      <th>3</th>\n",
       "      <td>Acute lower respiratory infections</td>\n",
       "      <td>Acute</td>\n",
       "    </tr>\n",
       "    <tr>\n",
       "      <th>4</th>\n",
       "      <td>Acute pancreatitis</td>\n",
       "      <td>Acute1</td>\n",
       "    </tr>\n",
       "    <tr>\n",
       "      <th>...</th>\n",
       "      <td>...</td>\n",
       "      <td>...</td>\n",
       "    </tr>\n",
       "    <tr>\n",
       "      <th>76</th>\n",
       "      <td>Varicella</td>\n",
       "      <td>Varic</td>\n",
       "    </tr>\n",
       "    <tr>\n",
       "      <th>77</th>\n",
       "      <td>Venous thromboembolism</td>\n",
       "      <td>Venou</td>\n",
       "    </tr>\n",
       "    <tr>\n",
       "      <th>78</th>\n",
       "      <td>Viral Hepatitis</td>\n",
       "      <td>Viral</td>\n",
       "    </tr>\n",
       "    <tr>\n",
       "      <th>79</th>\n",
       "      <td>Whooping cough</td>\n",
       "      <td>Whoop</td>\n",
       "    </tr>\n",
       "    <tr>\n",
       "      <th>80</th>\n",
       "      <td>causa não evitável</td>\n",
       "      <td>causa</td>\n",
       "    </tr>\n",
       "  </tbody>\n",
       "</table>\n",
       "<p>81 rows × 2 columns</p>\n",
       "</div>"
      ],
      "text/plain": [
       "                                causes_deaths indicator_abbr\n",
       "0                            Abdominal hernia          Abdom\n",
       "1   Abscess of lung and mediastinum pyothorax          Absce\n",
       "2                         Accidental Injuries          Accid\n",
       "3          Acute lower respiratory infections          Acute\n",
       "4                          Acute pancreatitis         Acute1\n",
       "..                                        ...            ...\n",
       "76                                  Varicella          Varic\n",
       "77                     Venous thromboembolism          Venou\n",
       "78                            Viral Hepatitis          Viral\n",
       "79                             Whooping cough          Whoop\n",
       "80                         causa não evitável          causa\n",
       "\n",
       "[81 rows x 2 columns]"
      ]
     },
     "execution_count": 33,
     "metadata": {},
     "output_type": "execute_result"
    }
   ],
   "source": [
    "# Etapas para gerar indicator_abbr exclusivos\n",
    "\n",
    "# Etapa 1 - Gerar uma tabela apenas com valores exclusivos de heatds_temp02.causes_deaths, em ordem crescente\n",
    "unique_causes_deaths = heatds_temp02[['causes_deaths']].drop_duplicates().sort_values(by='causes_deaths').reset_index(drop=True)\n",
    "\n",
    "# Etapa 2 - Criar coluna indicator_abbr com os primeiros 5 caracteres de causes_deaths\n",
    "unique_causes_deaths['indicator_abbr'] = unique_causes_deaths['causes_deaths'].str[:5]\n",
    "\n",
    "# Etapa 3 - Para aqueles indicator_abbr que tiverem o mesmo nome, gerar sufixo incremental a partir de 1\n",
    "unique_causes_deaths['indicator_abbr'] = unique_causes_deaths.groupby('indicator_abbr').cumcount().astype(str).radd(unique_causes_deaths['indicator_abbr'])\n",
    "\n",
    "# Etapa 3.1 - excluir valores que terminam com 0\n",
    "unique_causes_deaths['indicator_abbr'] = unique_causes_deaths['indicator_abbr'].str.replace('0', '')\n",
    "\n",
    "# Exibir a tabela resultante\n",
    "unique_causes_deaths"
   ]
  },
  {
   "cell_type": "code",
   "execution_count": 35,
   "metadata": {},
   "outputs": [
    {
     "name": "stdout",
     "output_type": "stream",
     "text": [
      "Registros da tabela : 472557\n",
      "Total de óbitos : 4440843\n"
     ]
    },
    {
     "data": {
      "text/html": [
       "<div>\n",
       "<style scoped>\n",
       "    .dataframe tbody tr th:only-of-type {\n",
       "        vertical-align: middle;\n",
       "    }\n",
       "\n",
       "    .dataframe tbody tr th {\n",
       "        vertical-align: top;\n",
       "    }\n",
       "\n",
       "    .dataframe thead th {\n",
       "        text-align: right;\n",
       "    }\n",
       "</style>\n",
       "<table border=\"1\" class=\"dataframe\">\n",
       "  <thead>\n",
       "    <tr style=\"text-align: right;\">\n",
       "      <th></th>\n",
       "      <th>causes_deaths</th>\n",
       "      <th>CODMUNRES</th>\n",
       "      <th>ANO_OBITO</th>\n",
       "      <th>ANO_PROXY</th>\n",
       "      <th>OBITO_SOMA</th>\n",
       "      <th>pop_merge</th>\n",
       "      <th>Ano</th>\n",
       "      <th>mun_co</th>\n",
       "      <th>mun_no</th>\n",
       "      <th>uf</th>\n",
       "      <th>uf_no</th>\n",
       "      <th>pop_total</th>\n",
       "      <th>pop_under74</th>\n",
       "      <th>mort_ind_mun_causedeath</th>\n",
       "      <th>set_avg_BR</th>\n",
       "      <th>indicator_abbr</th>\n",
       "    </tr>\n",
       "  </thead>\n",
       "  <tbody>\n",
       "    <tr>\n",
       "      <th>0</th>\n",
       "      <td>Abdominal hernia</td>\n",
       "      <td>_110009</td>\n",
       "      <td>_2019</td>\n",
       "      <td>_2022</td>\n",
       "      <td>1</td>\n",
       "      <td>_2022_110009</td>\n",
       "      <td>_2022</td>\n",
       "      <td>_110009</td>\n",
       "      <td>Espigão D'Oeste (RO)</td>\n",
       "      <td>RO</td>\n",
       "      <td>Rondônia</td>\n",
       "      <td>29414.0</td>\n",
       "      <td>28491.0</td>\n",
       "      <td>3.509880</td>\n",
       "      <td>1.136874</td>\n",
       "      <td>Abdom</td>\n",
       "    </tr>\n",
       "    <tr>\n",
       "      <th>1</th>\n",
       "      <td>Abdominal hernia</td>\n",
       "      <td>_110010</td>\n",
       "      <td>_2022</td>\n",
       "      <td>_2022</td>\n",
       "      <td>1</td>\n",
       "      <td>_2022_110010</td>\n",
       "      <td>_2022</td>\n",
       "      <td>_110010</td>\n",
       "      <td>Guajará-Mirim (RO)</td>\n",
       "      <td>RO</td>\n",
       "      <td>Rondônia</td>\n",
       "      <td>39387.0</td>\n",
       "      <td>38368.0</td>\n",
       "      <td>2.606339</td>\n",
       "      <td>1.243599</td>\n",
       "      <td>Abdom</td>\n",
       "    </tr>\n",
       "    <tr>\n",
       "      <th>2</th>\n",
       "      <td>Abdominal hernia</td>\n",
       "      <td>_110011</td>\n",
       "      <td>_2020</td>\n",
       "      <td>_2022</td>\n",
       "      <td>1</td>\n",
       "      <td>_2022_110011</td>\n",
       "      <td>_2022</td>\n",
       "      <td>_110011</td>\n",
       "      <td>Jaru (RO)</td>\n",
       "      <td>RO</td>\n",
       "      <td>Rondônia</td>\n",
       "      <td>50589.0</td>\n",
       "      <td>48848.0</td>\n",
       "      <td>2.047167</td>\n",
       "      <td>1.050270</td>\n",
       "      <td>Abdom</td>\n",
       "    </tr>\n",
       "    <tr>\n",
       "      <th>3</th>\n",
       "      <td>Abdominal hernia</td>\n",
       "      <td>_110012</td>\n",
       "      <td>_2022</td>\n",
       "      <td>_2022</td>\n",
       "      <td>1</td>\n",
       "      <td>_2022_110012</td>\n",
       "      <td>_2022</td>\n",
       "      <td>_110012</td>\n",
       "      <td>Ji-Paraná (RO)</td>\n",
       "      <td>RO</td>\n",
       "      <td>Rondônia</td>\n",
       "      <td>124333.0</td>\n",
       "      <td>120643.0</td>\n",
       "      <td>0.828892</td>\n",
       "      <td>1.243599</td>\n",
       "      <td>Abdom</td>\n",
       "    </tr>\n",
       "    <tr>\n",
       "      <th>4</th>\n",
       "      <td>Abdominal hernia</td>\n",
       "      <td>_110015</td>\n",
       "      <td>_2010</td>\n",
       "      <td>_2010</td>\n",
       "      <td>1</td>\n",
       "      <td>_2010_110015</td>\n",
       "      <td>_2010</td>\n",
       "      <td>_110015</td>\n",
       "      <td>Ouro Preto do Oeste (RO)</td>\n",
       "      <td>RO</td>\n",
       "      <td>Rondônia</td>\n",
       "      <td>37928.0</td>\n",
       "      <td>37114.0</td>\n",
       "      <td>2.694401</td>\n",
       "      <td>0.903182</td>\n",
       "      <td>Abdom</td>\n",
       "    </tr>\n",
       "  </tbody>\n",
       "</table>\n",
       "</div>"
      ],
      "text/plain": [
       "      causes_deaths CODMUNRES ANO_OBITO ANO_PROXY  OBITO_SOMA     pop_merge  \\\n",
       "0  Abdominal hernia   _110009     _2019     _2022           1  _2022_110009   \n",
       "1  Abdominal hernia   _110010     _2022     _2022           1  _2022_110010   \n",
       "2  Abdominal hernia   _110011     _2020     _2022           1  _2022_110011   \n",
       "3  Abdominal hernia   _110012     _2022     _2022           1  _2022_110012   \n",
       "4  Abdominal hernia   _110015     _2010     _2010           1  _2010_110015   \n",
       "\n",
       "     Ano   mun_co                    mun_no  uf     uf_no  pop_total  \\\n",
       "0  _2022  _110009      Espigão D'Oeste (RO)  RO  Rondônia    29414.0   \n",
       "1  _2022  _110010        Guajará-Mirim (RO)  RO  Rondônia    39387.0   \n",
       "2  _2022  _110011                 Jaru (RO)  RO  Rondônia    50589.0   \n",
       "3  _2022  _110012            Ji-Paraná (RO)  RO  Rondônia   124333.0   \n",
       "4  _2010  _110015  Ouro Preto do Oeste (RO)  RO  Rondônia    37928.0   \n",
       "\n",
       "   pop_under74  mort_ind_mun_causedeath  set_avg_BR indicator_abbr  \n",
       "0      28491.0                 3.509880    1.136874          Abdom  \n",
       "1      38368.0                 2.606339    1.243599          Abdom  \n",
       "2      48848.0                 2.047167    1.050270          Abdom  \n",
       "3     120643.0                 0.828892    1.243599          Abdom  \n",
       "4      37114.0                 2.694401    0.903182          Abdom  "
      ]
     },
     "execution_count": 35,
     "metadata": {},
     "output_type": "execute_result"
    }
   ],
   "source": [
    "# Fazer merge com informações de indicator_abbr exclusivos\n",
    "heatds_temp03 = pd.merge(heatds_temp02,unique_causes_deaths,on='causes_deaths', how='left')\n",
    "\n",
    "# mostrar dados gerais da tabela após transformações\n",
    "tab = heatds_temp03\n",
    "print(f'Registros da tabela : {tab.shape[0]}')\n",
    "print(f'Total de óbitos : {tab.OBITO_SOMA.sum()}')\n",
    "# print(tabulate(tab.head(), headers='keys', tablefmt='psql'))\n",
    "tab.head()"
   ]
  },
  {
   "cell_type": "code",
   "execution_count": 41,
   "metadata": {},
   "outputs": [
    {
     "name": "stdout",
     "output_type": "stream",
     "text": [
      "Registros da tabela : 472557\n",
      "Total de óbitos : 4440843\n"
     ]
    },
    {
     "data": {
      "text/html": [
       "<div>\n",
       "<style scoped>\n",
       "    .dataframe tbody tr th:only-of-type {\n",
       "        vertical-align: middle;\n",
       "    }\n",
       "\n",
       "    .dataframe tbody tr th {\n",
       "        vertical-align: top;\n",
       "    }\n",
       "\n",
       "    .dataframe thead th {\n",
       "        text-align: right;\n",
       "    }\n",
       "</style>\n",
       "<table border=\"1\" class=\"dataframe\">\n",
       "  <thead>\n",
       "    <tr style=\"text-align: right;\">\n",
       "      <th></th>\n",
       "      <th>causes_deaths</th>\n",
       "      <th>CODMUNRES</th>\n",
       "      <th>date</th>\n",
       "      <th>ANO_PROXY</th>\n",
       "      <th>OBITO_SOMA</th>\n",
       "      <th>pop_merge</th>\n",
       "      <th>Ano</th>\n",
       "      <th>mun_co</th>\n",
       "      <th>subgroup</th>\n",
       "      <th>dimension</th>\n",
       "      <th>...</th>\n",
       "      <th>favourable_indicator</th>\n",
       "      <th>indicator_scale</th>\n",
       "      <th>ordered_dimension</th>\n",
       "      <th>subgroup_order</th>\n",
       "      <th>reference_subgroup</th>\n",
       "      <th>note</th>\n",
       "      <th>se</th>\n",
       "      <th>ci_lb</th>\n",
       "      <th>ci_ub</th>\n",
       "      <th>iso3</th>\n",
       "    </tr>\n",
       "  </thead>\n",
       "  <tbody>\n",
       "    <tr>\n",
       "      <th>0</th>\n",
       "      <td>Abdominal hernia</td>\n",
       "      <td>_110009</td>\n",
       "      <td>2019</td>\n",
       "      <td>_2022</td>\n",
       "      <td>1</td>\n",
       "      <td>_2022_110009</td>\n",
       "      <td>_2022</td>\n",
       "      <td>_110009</td>\n",
       "      <td>Espigão D'Oeste (RO)</td>\n",
       "      <td>RO</td>\n",
       "      <td>...</td>\n",
       "      <td>0</td>\n",
       "      <td>100000</td>\n",
       "      <td>0</td>\n",
       "      <td>0</td>\n",
       "      <td>0</td>\n",
       "      <td></td>\n",
       "      <td></td>\n",
       "      <td></td>\n",
       "      <td></td>\n",
       "      <td>BRA</td>\n",
       "    </tr>\n",
       "    <tr>\n",
       "      <th>1</th>\n",
       "      <td>Abdominal hernia</td>\n",
       "      <td>_110010</td>\n",
       "      <td>2022</td>\n",
       "      <td>_2022</td>\n",
       "      <td>1</td>\n",
       "      <td>_2022_110010</td>\n",
       "      <td>_2022</td>\n",
       "      <td>_110010</td>\n",
       "      <td>Guajará-Mirim (RO)</td>\n",
       "      <td>RO</td>\n",
       "      <td>...</td>\n",
       "      <td>0</td>\n",
       "      <td>100000</td>\n",
       "      <td>0</td>\n",
       "      <td>0</td>\n",
       "      <td>0</td>\n",
       "      <td></td>\n",
       "      <td></td>\n",
       "      <td></td>\n",
       "      <td></td>\n",
       "      <td>BRA</td>\n",
       "    </tr>\n",
       "    <tr>\n",
       "      <th>2</th>\n",
       "      <td>Abdominal hernia</td>\n",
       "      <td>_110011</td>\n",
       "      <td>2020</td>\n",
       "      <td>_2022</td>\n",
       "      <td>1</td>\n",
       "      <td>_2022_110011</td>\n",
       "      <td>_2022</td>\n",
       "      <td>_110011</td>\n",
       "      <td>Jaru (RO)</td>\n",
       "      <td>RO</td>\n",
       "      <td>...</td>\n",
       "      <td>0</td>\n",
       "      <td>100000</td>\n",
       "      <td>0</td>\n",
       "      <td>0</td>\n",
       "      <td>0</td>\n",
       "      <td></td>\n",
       "      <td></td>\n",
       "      <td></td>\n",
       "      <td></td>\n",
       "      <td>BRA</td>\n",
       "    </tr>\n",
       "    <tr>\n",
       "      <th>3</th>\n",
       "      <td>Abdominal hernia</td>\n",
       "      <td>_110012</td>\n",
       "      <td>2022</td>\n",
       "      <td>_2022</td>\n",
       "      <td>1</td>\n",
       "      <td>_2022_110012</td>\n",
       "      <td>_2022</td>\n",
       "      <td>_110012</td>\n",
       "      <td>Ji-Paraná (RO)</td>\n",
       "      <td>RO</td>\n",
       "      <td>...</td>\n",
       "      <td>0</td>\n",
       "      <td>100000</td>\n",
       "      <td>0</td>\n",
       "      <td>0</td>\n",
       "      <td>0</td>\n",
       "      <td></td>\n",
       "      <td></td>\n",
       "      <td></td>\n",
       "      <td></td>\n",
       "      <td>BRA</td>\n",
       "    </tr>\n",
       "    <tr>\n",
       "      <th>4</th>\n",
       "      <td>Abdominal hernia</td>\n",
       "      <td>_110015</td>\n",
       "      <td>2010</td>\n",
       "      <td>_2010</td>\n",
       "      <td>1</td>\n",
       "      <td>_2010_110015</td>\n",
       "      <td>_2010</td>\n",
       "      <td>_110015</td>\n",
       "      <td>Ouro Preto do Oeste (RO)</td>\n",
       "      <td>RO</td>\n",
       "      <td>...</td>\n",
       "      <td>0</td>\n",
       "      <td>100000</td>\n",
       "      <td>0</td>\n",
       "      <td>0</td>\n",
       "      <td>0</td>\n",
       "      <td></td>\n",
       "      <td></td>\n",
       "      <td></td>\n",
       "      <td></td>\n",
       "      <td>BRA</td>\n",
       "    </tr>\n",
       "  </tbody>\n",
       "</table>\n",
       "<p>5 rows × 29 columns</p>\n",
       "</div>"
      ],
      "text/plain": [
       "      causes_deaths CODMUNRES  date ANO_PROXY  OBITO_SOMA     pop_merge  \\\n",
       "0  Abdominal hernia   _110009  2019     _2022           1  _2022_110009   \n",
       "1  Abdominal hernia   _110010  2022     _2022           1  _2022_110010   \n",
       "2  Abdominal hernia   _110011  2020     _2022           1  _2022_110011   \n",
       "3  Abdominal hernia   _110012  2022     _2022           1  _2022_110012   \n",
       "4  Abdominal hernia   _110015  2010     _2010           1  _2010_110015   \n",
       "\n",
       "     Ano   mun_co                  subgroup dimension  ...  \\\n",
       "0  _2022  _110009      Espigão D'Oeste (RO)        RO  ...   \n",
       "1  _2022  _110010        Guajará-Mirim (RO)        RO  ...   \n",
       "2  _2022  _110011                 Jaru (RO)        RO  ...   \n",
       "3  _2022  _110012            Ji-Paraná (RO)        RO  ...   \n",
       "4  _2010  _110015  Ouro Preto do Oeste (RO)        RO  ...   \n",
       "\n",
       "  favourable_indicator  indicator_scale  ordered_dimension  subgroup_order  \\\n",
       "0                    0           100000                  0               0   \n",
       "1                    0           100000                  0               0   \n",
       "2                    0           100000                  0               0   \n",
       "3                    0           100000                  0               0   \n",
       "4                    0           100000                  0               0   \n",
       "\n",
       "   reference_subgroup note se ci_lb ci_ub  iso3  \n",
       "0                   0                       BRA  \n",
       "1                   0                       BRA  \n",
       "2                   0                       BRA  \n",
       "3                   0                       BRA  \n",
       "4                   0                       BRA  \n",
       "\n",
       "[5 rows x 29 columns]"
      ]
     },
     "execution_count": 41,
     "metadata": {},
     "output_type": "execute_result"
    }
   ],
   "source": [
    "# Gerar colunas sem informação ou com informação padronizada\n",
    "\n",
    "# heat_treat01 = heat_semCID_clean # caso não seja agrupado por UF anteriormente\n",
    "heatds_temp04 = heatds_temp03.copy() # caso seja agrupado por UF anteriormente\n",
    "\n",
    "heatds_temp04['setting'] = 'Brasil'\n",
    "# heat_treat01['setting_average'] = set_avg_BR\n",
    "\n",
    "# heatds_temp03['indicator_abbr'] = 'AVM'\n",
    "# heatds_temp03['indicator_abbr'] = heatds_temp03['causes_deaths'].str.slice(0, 5)\n",
    "# heatds_temp03['indicator_name'] = 'Avoidable mortality (deaths per 100 000 population)'\n",
    "heatds_temp04['indicator_name'] = heatds_temp04['causes_deaths'] + '(deaths per 100 000 population)'\n",
    "heatds_temp04['source'] = 'SIM/SUS & Censo/IBGE'\n",
    "heatds_temp04['favourable_indicator'] = 0\n",
    "heatds_temp04['indicator_scale'] = 100000\n",
    "heatds_temp04['ordered_dimension'] = 0\n",
    "heatds_temp04['subgroup_order'] = 0\n",
    "heatds_temp04['reference_subgroup'] = 0\n",
    "heatds_temp04['note'] = ''\n",
    "heatds_temp04['se'] = ''\n",
    "heatds_temp04['ci_lb'] = ''\n",
    "heatds_temp04['ci_ub'] = ''\n",
    "heatds_temp04['iso3'] = 'BRA'\n",
    "\n",
    "# Renomear colunas de heat_treat01\n",
    "heatds_temp04 = heatds_temp04.rename(columns={\n",
    "    'ANO_OBITO':'date',\n",
    "    'pop_under74':'population',\n",
    "    'uf':'dimension',\n",
    "    'mun_no':'subgroup',\n",
    "    # 'mort_ind_mun':'estimate',\n",
    "    'mort_ind_mun_causedeath':'estimate',\n",
    "    'set_avg_BR':'setting_average',\n",
    "    # 'mort_ind_uf':'setting_average'\n",
    "})\n",
    "\n",
    "# Ajustar coluna de ano\n",
    "heatds_temp04['date'] = heatds_temp04['date'].str.replace('_','').astype(int)\n",
    "\n",
    "\n",
    "# mostrar dados gerais da tabela após transformações\n",
    "tab = heatds_temp04\n",
    "print(f'Registros da tabela : {tab.shape[0]}')\n",
    "print(f'Total de óbitos : {tab.OBITO_SOMA.sum()}')\n",
    "# print(tabulate(tab.head(), headers='keys', tablefmt='psql'))\n",
    "tab.head()\n"
   ]
  },
  {
   "cell_type": "code",
   "execution_count": 285,
   "metadata": {},
   "outputs": [],
   "source": [
    "# # Trazer labels para sexo e raçacor\n",
    "# heat_treat02 = heat_treat01.copy()\n",
    "\n",
    "# heat_treat02['SEXO'] = heat_treat02['SEXO'].map({\n",
    "#                                             '_1':'Homens',\n",
    "#                                             '_2':'Mulheres'\n",
    "#                                             })\n",
    "# heat_treat02['RACACOR'] = heat_treat02['RACACOR'].map({\n",
    "#                                             '_1':'Branca',\n",
    "#                                             '_2':'Preta',\n",
    "#                                             '_3':'Amarela',\n",
    "#                                             '_4':'Parda',\n",
    "#                                             '_5':'Indígena',\n",
    "#                                             '_9':'Sem declaração'\n",
    "#                                             })\n",
    "\n",
    "# heat_treat02['subgroup'] = heat_treat02['SEXO'] + ' - raça/cor '  +  heat_treat02['RACACOR']\n"
   ]
  },
  {
   "cell_type": "code",
   "execution_count": null,
   "metadata": {},
   "outputs": [],
   "source": [
    "# heat_treat02['subgroup'].unique()"
   ]
  },
  {
   "cell_type": "code",
   "execution_count": null,
   "metadata": {},
   "outputs": [],
   "source": [
    "# heat_treat02.columns"
   ]
  },
  {
   "cell_type": "code",
   "execution_count": 42,
   "metadata": {},
   "outputs": [],
   "source": [
    "# Define the order of columns\n",
    "column_order = [\n",
    "    'setting',\n",
    "    'date',\n",
    "    'source',\n",
    "    'indicator_abbr',\n",
    "    'indicator_name',\n",
    "    'dimension',\n",
    "    'subgroup',\n",
    "    'estimate',\n",
    "    'se',\n",
    "    'ci_lb',\n",
    "    'ci_ub',\n",
    "    'population',\n",
    "    'note',\n",
    "    'setting_average',\n",
    "    'iso3',\n",
    "    'favourable_indicator',\n",
    "    'indicator_scale',\n",
    "    'ordered_dimension',\n",
    "    'subgroup_order',\n",
    "    'reference_subgroup'\n",
    "    ]  \n",
    "\n",
    "\n",
    "# Reorder the columns in the DataFrame\n",
    "heatds_temp05 = heatds_temp04[column_order]\n"
   ]
  },
  {
   "cell_type": "code",
   "execution_count": 43,
   "metadata": {},
   "outputs": [
    {
     "name": "stdout",
     "output_type": "stream",
     "text": [
      "Registros da tabela : 472557\n"
     ]
    },
    {
     "data": {
      "text/html": [
       "<div>\n",
       "<style scoped>\n",
       "    .dataframe tbody tr th:only-of-type {\n",
       "        vertical-align: middle;\n",
       "    }\n",
       "\n",
       "    .dataframe tbody tr th {\n",
       "        vertical-align: top;\n",
       "    }\n",
       "\n",
       "    .dataframe thead th {\n",
       "        text-align: right;\n",
       "    }\n",
       "</style>\n",
       "<table border=\"1\" class=\"dataframe\">\n",
       "  <thead>\n",
       "    <tr style=\"text-align: right;\">\n",
       "      <th></th>\n",
       "      <th>setting</th>\n",
       "      <th>date</th>\n",
       "      <th>source</th>\n",
       "      <th>indicator_abbr</th>\n",
       "      <th>indicator_name</th>\n",
       "      <th>dimension</th>\n",
       "      <th>subgroup</th>\n",
       "      <th>estimate</th>\n",
       "      <th>se</th>\n",
       "      <th>ci_lb</th>\n",
       "      <th>ci_ub</th>\n",
       "      <th>population</th>\n",
       "      <th>note</th>\n",
       "      <th>setting_average</th>\n",
       "      <th>iso3</th>\n",
       "      <th>favourable_indicator</th>\n",
       "      <th>indicator_scale</th>\n",
       "      <th>ordered_dimension</th>\n",
       "      <th>subgroup_order</th>\n",
       "      <th>reference_subgroup</th>\n",
       "    </tr>\n",
       "  </thead>\n",
       "  <tbody>\n",
       "    <tr>\n",
       "      <th>0</th>\n",
       "      <td>Brasil</td>\n",
       "      <td>2019</td>\n",
       "      <td>SIM/SUS &amp; Censo/IBGE</td>\n",
       "      <td>Abdom</td>\n",
       "      <td>Abdominal hernia(deaths per 100 000 population)</td>\n",
       "      <td>RO</td>\n",
       "      <td>Espigão D'Oeste (RO)</td>\n",
       "      <td>3</td>\n",
       "      <td></td>\n",
       "      <td></td>\n",
       "      <td></td>\n",
       "      <td>28491.0</td>\n",
       "      <td></td>\n",
       "      <td>1</td>\n",
       "      <td>BRA</td>\n",
       "      <td>0</td>\n",
       "      <td>100000</td>\n",
       "      <td>0</td>\n",
       "      <td>0</td>\n",
       "      <td>0</td>\n",
       "    </tr>\n",
       "    <tr>\n",
       "      <th>1</th>\n",
       "      <td>Brasil</td>\n",
       "      <td>2022</td>\n",
       "      <td>SIM/SUS &amp; Censo/IBGE</td>\n",
       "      <td>Abdom</td>\n",
       "      <td>Abdominal hernia(deaths per 100 000 population)</td>\n",
       "      <td>RO</td>\n",
       "      <td>Guajará-Mirim (RO)</td>\n",
       "      <td>2</td>\n",
       "      <td></td>\n",
       "      <td></td>\n",
       "      <td></td>\n",
       "      <td>38368.0</td>\n",
       "      <td></td>\n",
       "      <td>1</td>\n",
       "      <td>BRA</td>\n",
       "      <td>0</td>\n",
       "      <td>100000</td>\n",
       "      <td>0</td>\n",
       "      <td>0</td>\n",
       "      <td>0</td>\n",
       "    </tr>\n",
       "    <tr>\n",
       "      <th>2</th>\n",
       "      <td>Brasil</td>\n",
       "      <td>2020</td>\n",
       "      <td>SIM/SUS &amp; Censo/IBGE</td>\n",
       "      <td>Abdom</td>\n",
       "      <td>Abdominal hernia(deaths per 100 000 population)</td>\n",
       "      <td>RO</td>\n",
       "      <td>Jaru (RO)</td>\n",
       "      <td>2</td>\n",
       "      <td></td>\n",
       "      <td></td>\n",
       "      <td></td>\n",
       "      <td>48848.0</td>\n",
       "      <td></td>\n",
       "      <td>1</td>\n",
       "      <td>BRA</td>\n",
       "      <td>0</td>\n",
       "      <td>100000</td>\n",
       "      <td>0</td>\n",
       "      <td>0</td>\n",
       "      <td>0</td>\n",
       "    </tr>\n",
       "    <tr>\n",
       "      <th>3</th>\n",
       "      <td>Brasil</td>\n",
       "      <td>2022</td>\n",
       "      <td>SIM/SUS &amp; Censo/IBGE</td>\n",
       "      <td>Abdom</td>\n",
       "      <td>Abdominal hernia(deaths per 100 000 population)</td>\n",
       "      <td>RO</td>\n",
       "      <td>Ji-Paraná (RO)</td>\n",
       "      <td>0</td>\n",
       "      <td></td>\n",
       "      <td></td>\n",
       "      <td></td>\n",
       "      <td>120643.0</td>\n",
       "      <td></td>\n",
       "      <td>1</td>\n",
       "      <td>BRA</td>\n",
       "      <td>0</td>\n",
       "      <td>100000</td>\n",
       "      <td>0</td>\n",
       "      <td>0</td>\n",
       "      <td>0</td>\n",
       "    </tr>\n",
       "    <tr>\n",
       "      <th>4</th>\n",
       "      <td>Brasil</td>\n",
       "      <td>2010</td>\n",
       "      <td>SIM/SUS &amp; Censo/IBGE</td>\n",
       "      <td>Abdom</td>\n",
       "      <td>Abdominal hernia(deaths per 100 000 population)</td>\n",
       "      <td>RO</td>\n",
       "      <td>Ouro Preto do Oeste (RO)</td>\n",
       "      <td>2</td>\n",
       "      <td></td>\n",
       "      <td></td>\n",
       "      <td></td>\n",
       "      <td>37114.0</td>\n",
       "      <td></td>\n",
       "      <td>0</td>\n",
       "      <td>BRA</td>\n",
       "      <td>0</td>\n",
       "      <td>100000</td>\n",
       "      <td>0</td>\n",
       "      <td>0</td>\n",
       "      <td>0</td>\n",
       "    </tr>\n",
       "  </tbody>\n",
       "</table>\n",
       "</div>"
      ],
      "text/plain": [
       "  setting  date                source indicator_abbr  \\\n",
       "0  Brasil  2019  SIM/SUS & Censo/IBGE          Abdom   \n",
       "1  Brasil  2022  SIM/SUS & Censo/IBGE          Abdom   \n",
       "2  Brasil  2020  SIM/SUS & Censo/IBGE          Abdom   \n",
       "3  Brasil  2022  SIM/SUS & Censo/IBGE          Abdom   \n",
       "4  Brasil  2010  SIM/SUS & Censo/IBGE          Abdom   \n",
       "\n",
       "                                    indicator_name dimension  \\\n",
       "0  Abdominal hernia(deaths per 100 000 population)        RO   \n",
       "1  Abdominal hernia(deaths per 100 000 population)        RO   \n",
       "2  Abdominal hernia(deaths per 100 000 population)        RO   \n",
       "3  Abdominal hernia(deaths per 100 000 population)        RO   \n",
       "4  Abdominal hernia(deaths per 100 000 population)        RO   \n",
       "\n",
       "                   subgroup  estimate se ci_lb ci_ub  population note  \\\n",
       "0      Espigão D'Oeste (RO)         3                    28491.0        \n",
       "1        Guajará-Mirim (RO)         2                    38368.0        \n",
       "2                 Jaru (RO)         2                    48848.0        \n",
       "3            Ji-Paraná (RO)         0                   120643.0        \n",
       "4  Ouro Preto do Oeste (RO)         2                    37114.0        \n",
       "\n",
       "   setting_average iso3  favourable_indicator  indicator_scale  \\\n",
       "0                1  BRA                     0           100000   \n",
       "1                1  BRA                     0           100000   \n",
       "2                1  BRA                     0           100000   \n",
       "3                1  BRA                     0           100000   \n",
       "4                0  BRA                     0           100000   \n",
       "\n",
       "   ordered_dimension  subgroup_order  reference_subgroup  \n",
       "0                  0               0                   0  \n",
       "1                  0               0                   0  \n",
       "2                  0               0                   0  \n",
       "3                  0               0                   0  \n",
       "4                  0               0                   0  "
      ]
     },
     "execution_count": 43,
     "metadata": {},
     "output_type": "execute_result"
    }
   ],
   "source": [
    "# Transformar estimate e setting_average em int\n",
    "heatds_temp06 = heatds_temp05.copy()\n",
    "\n",
    "heatds_temp06['estimate'] = heatds_temp06['estimate'].astype(int)\n",
    "heatds_temp06['setting_average'] = heatds_temp06['setting_average'].astype(int)\n",
    "\n",
    "# mostrar dados gerais da tabela após transformações\n",
    "tab = heatds_temp06\n",
    "print(f'Registros da tabela : {tab.shape[0]}')\n",
    "# print(f'Total de óbitos : {tab.CONTADOR.sum()}')\n",
    "# print(tabulate(tab.head(), headers='keys', tablefmt='psql'))\n",
    "tab.head()"
   ]
  },
  {
   "cell_type": "markdown",
   "metadata": {},
   "source": [
    "##########       Etapa diferenciada da versão      ##########\n",
    "\n",
    "Atenção da hora de salvar o arquivo, com as informações corretas de versão"
   ]
  },
  {
   "cell_type": "code",
   "execution_count": 44,
   "metadata": {},
   "outputs": [],
   "source": [
    "### Arquivo pronto para exportação\n",
    "heatds_temp06.to_excel('files_out/ds4_BR_CID_mun.xlsx', index=False)"
   ]
  },
  {
   "cell_type": "code",
   "execution_count": 95,
   "metadata": {},
   "outputs": [],
   "source": [
    "# Gerar arquivo dataset diretamente no arquivo de validação do HEAT\n",
    "\n",
    "# Carregar o arquivo original\n",
    "workbook = openpyxl.load_workbook('files_out/heat_plus_template_validation.xlsm', keep_vba=True)\n",
    "\n",
    "# Apagar a aba 'template'\n",
    "if 'template' in workbook.sheetnames:\n",
    "    del workbook['template']\n",
    "\n",
    "# Carregar o arquivo que será copiado como nova aba\n",
    "workbook_to_copy = openpyxl.load_workbook('files_out/AvoidMort_v4_ds_4val.xlsx')\n",
    "sheet_to_copy = workbook_to_copy.active\n",
    "\n",
    "# Copiar a aba para o workbook original\n",
    "new_sheet = workbook.create_sheet('template')\n",
    "\n",
    "for row in sheet_to_copy.iter_rows(values_only=True):\n",
    "    new_sheet.append(row)\n",
    "\n",
    "# Salvar o arquivo com o novo nome\n",
    "workbook.save('files_out/AvoidMort_v4_heat_plus_template_ds_4val.xlsm')"
   ]
  },
  {
   "cell_type": "markdown",
   "metadata": {},
   "source": [
    "# Etapa 4 - Reunião de alinhamento - ajustes"
   ]
  },
  {
   "cell_type": "markdown",
   "metadata": {},
   "source": [
    "# Etapa 5 - Preparação para publicação de resultados"
   ]
  }
 ],
 "metadata": {
  "kernelspec": {
   "display_name": "Python 3",
   "language": "python",
   "name": "python3"
  },
  "language_info": {
   "codemirror_mode": {
    "name": "ipython",
    "version": 3
   },
   "file_extension": ".py",
   "mimetype": "text/x-python",
   "name": "python",
   "nbconvert_exporter": "python",
   "pygments_lexer": "ipython3",
   "version": "3.13.1"
  }
 },
 "nbformat": 4,
 "nbformat_minor": 2
}
