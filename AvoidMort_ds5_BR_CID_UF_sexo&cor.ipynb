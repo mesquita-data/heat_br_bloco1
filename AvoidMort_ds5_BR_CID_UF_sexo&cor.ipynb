{
 "cells": [
  {
   "cell_type": "markdown",
   "metadata": {},
   "source": [
    "# Elementos do dataset\n",
    "\n",
    "Antes mesmo de falar do projeto, ao longo do desenvolvimento, vamos explicitando qual o objetivo de cada versão de trabalho do arquivo principal.\n",
    "\n",
    "O objetivo desta AvoidMort_v5_BR_CID_UF é criar um dataset de mortalidades gerais para servir de comparação para a mortalidade evitável.\n",
    "\n",
    "O dataset final deverá ter as seguintes características:\n",
    "\n",
    "* setting: Brasil [poderemos encontrar um sufixo a Brasil que permita a sua subclassificação e carga deste dataset junto a outros]\n",
    "* dimension: UF\n",
    "* subgroup: sexo & raça\n",
    "* estimate: mortalidade por CIDs evitáveis e município\n",
    "* setting-average: mortalidade por CIDs evitáveis por Brasil"
   ]
  },
  {
   "cell_type": "markdown",
   "metadata": {},
   "source": [
    "# Projeto de Análise de Desigualdade em Saúde no modelo HEAT/OMS\n",
    "## Bloco 2025/1 = análise do sistema de mortalidade do SUS com agregação por unidades federativas\n",
    "\n",
    "\n"
   ]
  },
  {
   "cell_type": "markdown",
   "metadata": {},
   "source": [
    "### Instalação e importação de bibliotecas"
   ]
  },
  {
   "cell_type": "code",
   "execution_count": 1,
   "metadata": {},
   "outputs": [],
   "source": [
    "# importar biblioteca básicas para manipulação de dados\n",
    "import pandas as pd\n",
    "import numpy as np\n",
    "import os\n",
    "import sidrapy\n",
    "import requests # para carga de endereços web - api\n",
    "import gdown\n",
    "import openpyxl\n",
    "from tabulate import tabulate"
   ]
  },
  {
   "cell_type": "code",
   "execution_count": 2,
   "metadata": {},
   "outputs": [
    {
     "name": "stdout",
     "output_type": "stream",
     "text": [
      "\u001b[33m ==> Este texto será impresso em amarelo!\u001b[0m\n",
      "Este em normal!\n"
     ]
    }
   ],
   "source": [
    "# Para organizar resultados, gerar prints em amarelo\n",
    "\n",
    "def print_y(text):\n",
    "  \"\"\"Imprime o texto fornecido na cor amarela.\n",
    "\n",
    "  Args:\n",
    "    text: O texto a ser impresso.\n",
    "  \"\"\"\n",
    "  print(f\"\\033[33m ==> {text}\\033[0m\")\n",
    "\n",
    "# Exemplo de uso:\n",
    "print_y(\"Este texto será impresso em amarelo!\")\n",
    "print(\"Este em normal!\")"
   ]
  },
  {
   "cell_type": "markdown",
   "metadata": {},
   "source": [
    "# Merge de dados de CID e População no arquivo principal"
   ]
  },
  {
   "cell_type": "markdown",
   "metadata": {},
   "source": [
    "### Merge de dados de CID"
   ]
  },
  {
   "cell_type": "code",
   "execution_count": null,
   "metadata": {},
   "outputs": [],
   "source": [
    "# # Download de tabela tratada de CIDs evitáveis de acordo com documentos da OCDE\n",
    "# url = 'https://docs.google.com/spreadsheets/d/1X8AH0zs4PNc_bUpZ3tBvFw2HGpgb9CjShOkwXQ0so_I/edit?usp=sharing'\n",
    "# # Convert the Google Sheets URL to a CSV export URL\n",
    "# csv_url = url.replace('/edit?usp=sharing', '/export?format=csv')\n",
    "\n",
    "# # Read the CSV data into a pandas DataFrame\n",
    "# ocde_evit = pd.read_csv(csv_url)\n",
    "\n",
    "# # Now you can work with the DataFrame 'df'\n",
    "# ocde_evit.head()"
   ]
  },
  {
   "cell_type": "code",
   "execution_count": 3,
   "metadata": {},
   "outputs": [
    {
     "name": "stdout",
     "output_type": "stream",
     "text": [
      "Registro da tabela : 346\n",
      "+----+---------------------+-----------------------+--------------+---------------------+------------------------------------+---------------------------------------------------+-----------------+-----------+\n",
      "|    | avoid_flag          | prevent_flag          |   treat_flag | Group               | Causes of deaths                   | Rationale for inclusion                           | Range           | cid_pai   |\n",
      "|----+---------------------+-----------------------+--------------+---------------------+------------------------------------+---------------------------------------------------+-----------------+-----------|\n",
      "|  0 | Avoidable mortality | Preventable mortality |          nan | Infectious diseases | Intestinal diseases                | Most of these infections can be prevented through | (A00-A09)       | A0        |\n",
      "|    |                     |                       |              |                     |                                    | prevention measures (e.g. improve water and food  |                 |           |\n",
      "|    |                     |                       |              |                     |                                    | safety)                                           |                 |           |\n",
      "|  1 | Avoidable mortality | Preventable mortality |          nan | Infectious diseases | Diphtheria, Tetanus, Poliomyelitis | Most of these infections can be prevented through | (A35, A36, A80) | A35       |\n",
      "|    |                     |                       |              |                     |                                    | vaccination.                                      |                 |           |\n",
      "|  2 | Avoidable mortality | Preventable mortality |          nan | Infectious diseases | Diphtheria, Tetanus, Poliomyelitis | Most of these infections can be prevented through | (A35, A36, A80) | A36       |\n",
      "|    |                     |                       |              |                     |                                    | vaccination.                                      |                 |           |\n",
      "|  3 | Avoidable mortality | Preventable mortality |          nan | Infectious diseases | Diphtheria, Tetanus, Poliomyelitis | Most of these infections can be prevented through | (A35, A36, A80) | A80       |\n",
      "|    |                     |                       |              |                     |                                    | vaccination.                                      |                 |           |\n",
      "|  4 | Avoidable mortality | Preventable mortality |          nan | Infectious diseases | Whooping cough                     | Most of these infections can be prevented through | (A37)           | A37       |\n",
      "|    |                     |                       |              |                     |                                    | vaccination.                                      |                 |           |\n",
      "+----+---------------------+-----------------------+--------------+---------------------+------------------------------------+---------------------------------------------------+-----------------+-----------+\n"
     ]
    }
   ],
   "source": [
    "ocde_evit_temp = pd.read_csv('files_in_geral/cid10_evit_ocde.csv')\n",
    "\n",
    "# mostrar dados gerais da tabela após transformações\n",
    "tab = ocde_evit_temp\n",
    "print(f'Registro da tabela : {tab.shape[0]}')\n",
    "print(tabulate(tab.head(), headers='keys', tablefmt='psql', maxcolwidths=50))"
   ]
  },
  {
   "cell_type": "code",
   "execution_count": 4,
   "metadata": {
    "vscode": {
     "languageId": "powershell"
    }
   },
   "outputs": [
    {
     "name": "stdout",
     "output_type": "stream",
     "text": [
      "<class 'pandas.core.frame.DataFrame'>\n",
      "RangeIndex: 11895 entries, 0 to 11894\n",
      "Data columns (total 1 columns):\n",
      " #   Column    Non-Null Count  Dtype \n",
      "---  ------    --------------  ----- \n",
      " 0   CAUSABAS  11895 non-null  object\n",
      "dtypes: object(1)\n",
      "memory usage: 93.1+ KB\n"
     ]
    }
   ],
   "source": [
    "# Gerar nova tabela com valores únicos de CAUSABAS\n",
    "dobr_evit_merged_temp = pd.read_parquet('files_in_geral/dobr_10_19a22_u75.parquet')\n",
    "causas_unicas = dobr_evit_merged_temp['CAUSABAS'].unique()\n",
    "\n",
    "# Converter para DataFrame\n",
    "df_causas_unicas = pd.DataFrame(causas_unicas, columns=['CAUSABAS'])\n",
    "\n",
    "# Exibir as primeiras linhas do DataFrame\n",
    "df_causas_unicas.info()"
   ]
  },
  {
   "cell_type": "markdown",
   "metadata": {},
   "source": [
    "##########         Etapa diferenciada da versão          ##########\n",
    "\n",
    "Utilizar 'Causes of deaths' de CID evitáveis e as demais como \"Causa não evitável\""
   ]
  },
  {
   "cell_type": "code",
   "execution_count": 5,
   "metadata": {},
   "outputs": [
    {
     "name": "stdout",
     "output_type": "stream",
     "text": [
      "-  ----  -------------------\n",
      "0  A049  Intestinal diseases\n",
      "1  A09   Intestinal diseases\n",
      "2  A162  Tuberculosis\n",
      "3  A169  Tuberculosis\n",
      "4  A199  Tuberculosis\n",
      "-  ----  -------------------\n"
     ]
    }
   ],
   "source": [
    "# Fazer merge da lista de causas_unicas com a lista de causas evitáveis\n",
    "\n",
    "df_a = df_causas_unicas\n",
    "column_a = 'CAUSABAS'\n",
    "df_b = ocde_evit_temp\n",
    "column_b = 'cid_pai'\n",
    "column_return = 'Causes of deaths'\n",
    "\n",
    "\n",
    "\n",
    "# Função para verificar a correspondência e retornar a classificação\n",
    "def verificar_correspondencia(row):\n",
    "    for index, row_b in df_b.iterrows():\n",
    "        if row[column_a].startswith(row_b[column_b]):\n",
    "            return row_b[column_return]\n",
    "    return 'causa não evitável'\n",
    "\n",
    "# Aplicando a função a cada linha do DataFrame A\n",
    "df_a['causes_deaths'] = df_a.apply(verificar_correspondencia, axis=1)\n",
    "\n",
    "print(tabulate(df_a.head()))"
   ]
  },
  {
   "cell_type": "code",
   "execution_count": 6,
   "metadata": {},
   "outputs": [
    {
     "name": "stdout",
     "output_type": "stream",
     "text": [
      "Registro da tabela : 4427475\n",
      "+----+------------+-------------+--------+-----------+--------------+-------------+---------------------+\n",
      "|    | CAUSABAS   | CODMUNRES   |   SEXO |   RACACOR |   OBITO_SOMA | ANO_OBITO   | causes_deaths       |\n",
      "|----+------------+-------------+--------+-----------+--------------+-------------+---------------------|\n",
      "|  0 | A049       | _355080     |      1 |         1 |            1 | _2019       | Intestinal diseases |\n",
      "|  1 | A09        | _320520     |      1 |         1 |            1 | _2019       | Intestinal diseases |\n",
      "|  2 | A09        | _330040     |      1 |         1 |            1 | _2019       | Intestinal diseases |\n",
      "|  3 | A09        | _350970     |      1 |         4 |            1 | _2019       | Intestinal diseases |\n",
      "|  4 | A09        | _355100     |      2 |         1 |            1 | _2019       | Intestinal diseases |\n",
      "+----+------------+-------------+--------+-----------+--------------+-------------+---------------------+\n"
     ]
    }
   ],
   "source": [
    "# Merge dobr_merged_pop_clean and df_a by CAUSABAS\n",
    "dobr_evit_merged_temp01 = pd.merge(dobr_evit_merged_temp, df_a, on='CAUSABAS', how='left')\n",
    "\n",
    "# mostrar dados gerais da tabela após transformações\n",
    "tab = dobr_evit_merged_temp01\n",
    "print(f'Registro da tabela : {tab.shape[0]}')\n",
    "print(tabulate(tab.head(), headers='keys', tablefmt='psql'))"
   ]
  },
  {
   "cell_type": "code",
   "execution_count": 7,
   "metadata": {},
   "outputs": [
    {
     "data": {
      "text/html": [
       "<div>\n",
       "<style scoped>\n",
       "    .dataframe tbody tr th:only-of-type {\n",
       "        vertical-align: middle;\n",
       "    }\n",
       "\n",
       "    .dataframe tbody tr th {\n",
       "        vertical-align: top;\n",
       "    }\n",
       "\n",
       "    .dataframe thead th {\n",
       "        text-align: right;\n",
       "    }\n",
       "</style>\n",
       "<table border=\"1\" class=\"dataframe\">\n",
       "  <thead>\n",
       "    <tr style=\"text-align: right;\">\n",
       "      <th></th>\n",
       "      <th>CAUSABAS</th>\n",
       "      <th>CODMUNRES</th>\n",
       "      <th>SEXO</th>\n",
       "      <th>RACACOR</th>\n",
       "      <th>OBITO_SOMA</th>\n",
       "      <th>ANO_OBITO</th>\n",
       "    </tr>\n",
       "    <tr>\n",
       "      <th>causes_deaths</th>\n",
       "      <th></th>\n",
       "      <th></th>\n",
       "      <th></th>\n",
       "      <th></th>\n",
       "      <th></th>\n",
       "      <th></th>\n",
       "    </tr>\n",
       "  </thead>\n",
       "  <tbody>\n",
       "    <tr>\n",
       "      <th>Abdominal hernia</th>\n",
       "      <td>5886</td>\n",
       "      <td>5886</td>\n",
       "      <td>5886</td>\n",
       "      <td>5886</td>\n",
       "      <td>5886</td>\n",
       "      <td>5886</td>\n",
       "    </tr>\n",
       "    <tr>\n",
       "      <th>Abscess of lung and mediastinum pyothorax</th>\n",
       "      <td>2512</td>\n",
       "      <td>2512</td>\n",
       "      <td>2512</td>\n",
       "      <td>2512</td>\n",
       "      <td>2512</td>\n",
       "      <td>2512</td>\n",
       "    </tr>\n",
       "    <tr>\n",
       "      <th>Accidental Injuries</th>\n",
       "      <td>101006</td>\n",
       "      <td>101006</td>\n",
       "      <td>101006</td>\n",
       "      <td>101006</td>\n",
       "      <td>101006</td>\n",
       "      <td>101006</td>\n",
       "    </tr>\n",
       "    <tr>\n",
       "      <th>Acute lower respiratory infections</th>\n",
       "      <td>3261</td>\n",
       "      <td>3261</td>\n",
       "      <td>3261</td>\n",
       "      <td>3261</td>\n",
       "      <td>3261</td>\n",
       "      <td>3261</td>\n",
       "    </tr>\n",
       "    <tr>\n",
       "      <th>Acute pancreatitis</th>\n",
       "      <td>11836</td>\n",
       "      <td>11836</td>\n",
       "      <td>11836</td>\n",
       "      <td>11836</td>\n",
       "      <td>11836</td>\n",
       "      <td>11836</td>\n",
       "    </tr>\n",
       "    <tr>\n",
       "      <th>...</th>\n",
       "      <td>...</td>\n",
       "      <td>...</td>\n",
       "      <td>...</td>\n",
       "      <td>...</td>\n",
       "      <td>...</td>\n",
       "      <td>...</td>\n",
       "    </tr>\n",
       "    <tr>\n",
       "      <th>Varicella</th>\n",
       "      <td>270</td>\n",
       "      <td>270</td>\n",
       "      <td>270</td>\n",
       "      <td>270</td>\n",
       "      <td>270</td>\n",
       "      <td>270</td>\n",
       "    </tr>\n",
       "    <tr>\n",
       "      <th>Venous thromboembolism</th>\n",
       "      <td>24533</td>\n",
       "      <td>24533</td>\n",
       "      <td>24533</td>\n",
       "      <td>24533</td>\n",
       "      <td>24533</td>\n",
       "      <td>24533</td>\n",
       "    </tr>\n",
       "    <tr>\n",
       "      <th>Viral Hepatitis</th>\n",
       "      <td>8688</td>\n",
       "      <td>8688</td>\n",
       "      <td>8688</td>\n",
       "      <td>8688</td>\n",
       "      <td>8688</td>\n",
       "      <td>8688</td>\n",
       "    </tr>\n",
       "    <tr>\n",
       "      <th>Whooping cough</th>\n",
       "      <td>29</td>\n",
       "      <td>29</td>\n",
       "      <td>29</td>\n",
       "      <td>29</td>\n",
       "      <td>29</td>\n",
       "      <td>29</td>\n",
       "    </tr>\n",
       "    <tr>\n",
       "      <th>causa não evitável</th>\n",
       "      <td>1893718</td>\n",
       "      <td>1893718</td>\n",
       "      <td>1893718</td>\n",
       "      <td>1893718</td>\n",
       "      <td>1893718</td>\n",
       "      <td>1893718</td>\n",
       "    </tr>\n",
       "  </tbody>\n",
       "</table>\n",
       "<p>81 rows × 6 columns</p>\n",
       "</div>"
      ],
      "text/plain": [
       "                                           CAUSABAS  CODMUNRES     SEXO  \\\n",
       "causes_deaths                                                             \n",
       "Abdominal hernia                               5886       5886     5886   \n",
       "Abscess of lung and mediastinum pyothorax      2512       2512     2512   \n",
       "Accidental Injuries                          101006     101006   101006   \n",
       "Acute lower respiratory infections             3261       3261     3261   \n",
       "Acute pancreatitis                            11836      11836    11836   \n",
       "...                                             ...        ...      ...   \n",
       "Varicella                                       270        270      270   \n",
       "Venous thromboembolism                        24533      24533    24533   \n",
       "Viral Hepatitis                                8688       8688     8688   \n",
       "Whooping cough                                   29         29       29   \n",
       "causa não evitável                          1893718    1893718  1893718   \n",
       "\n",
       "                                           RACACOR  OBITO_SOMA  ANO_OBITO  \n",
       "causes_deaths                                                              \n",
       "Abdominal hernia                              5886        5886       5886  \n",
       "Abscess of lung and mediastinum pyothorax     2512        2512       2512  \n",
       "Accidental Injuries                         101006      101006     101006  \n",
       "Acute lower respiratory infections            3261        3261       3261  \n",
       "Acute pancreatitis                           11836       11836      11836  \n",
       "...                                            ...         ...        ...  \n",
       "Varicella                                      270         270        270  \n",
       "Venous thromboembolism                       24533       24533      24533  \n",
       "Viral Hepatitis                               8688        8688       8688  \n",
       "Whooping cough                                  29          29         29  \n",
       "causa não evitável                         1893718     1893718    1893718  \n",
       "\n",
       "[81 rows x 6 columns]"
      ]
     },
     "execution_count": 7,
     "metadata": {},
     "output_type": "execute_result"
    }
   ],
   "source": [
    "# Mostrar resultados de classificacao\n",
    "dobr_evit_merged_temp01.groupby('causes_deaths').count()"
   ]
  },
  {
   "cell_type": "markdown",
   "metadata": {},
   "source": [
    "########## Etapa diferenciada da versão ##########\n",
    "\n",
    "Não serão excluídos os registros com CID de doenças não evitáveis"
   ]
  },
  {
   "cell_type": "code",
   "execution_count": null,
   "metadata": {},
   "outputs": [],
   "source": [
    "# # Manter na base só dados de CID evitáveis\n",
    "# dobr_evit_merged_temp02 = dobr_evit_merged_temp01[dobr_evit_merged_temp01['classificacao']=='Avoidable mortality']\n",
    "\n",
    "# # mostrar dados gerais da tabela após transformações\n",
    "# tab = dobr_evit_merged_temp02\n",
    "# print(f'Registro da tabela : {tab.shape[0]}')\n",
    "# print(tabulate(tab.head(), headers='keys', tablefmt='psql'))"
   ]
  },
  {
   "cell_type": "markdown",
   "metadata": {},
   "source": [
    "#### Resultados do merge de cid_avoid e dobr"
   ]
  },
  {
   "cell_type": "markdown",
   "metadata": {},
   "source": [
    "##########       Etapa diferenciada da versão      ##########\n",
    "\n",
    "Atenção para etapa de salvar arquivo, para não sobrescrever outra versão"
   ]
  },
  {
   "cell_type": "code",
   "execution_count": 8,
   "metadata": {},
   "outputs": [],
   "source": [
    "# Salvar arquivo final de DOBR\n",
    "\n",
    "dobr_evit_merged_temp01.to_parquet('files_temp/ds5_dobr_evit_merged.parquet')"
   ]
  },
  {
   "cell_type": "code",
   "execution_count": 9,
   "metadata": {},
   "outputs": [
    {
     "name": "stdout",
     "output_type": "stream",
     "text": [
      "\u001b[33m ==>  O número de óbitos após a limpeza e que constituía a base de dados de DO era de 4427475 óbitos \u001b[0m\n",
      "\u001b[33m ==>  O número de registros excluídos por apresentar CIDs NÃO EVITÁVEIS foi de 0 óbitos \u001b[0m\n",
      "\u001b[33m ==>  O número de óbitos por CID EVITÁVEIS é de 4427475 óbitos \u001b[0m\n"
     ]
    }
   ],
   "source": [
    "# Contador\n",
    "\n",
    "shape_origin = dobr_evit_merged_temp.CAUSABAS.count()\n",
    "shape_filt = dobr_evit_merged_temp01.CAUSABAS.count()\n",
    "dif = shape_origin - shape_filt\n",
    "\n",
    "\n",
    "print_y(f\" O número de óbitos após a limpeza e que constituía a base de dados de DO era de {shape_origin} óbitos \")\n",
    "print_y(f\" O número de registros excluídos por apresentar CIDs NÃO EVITÁVEIS foi de {dif} óbitos \")\n",
    "print_y(f\" O número de óbitos por CID EVITÁVEIS é de {shape_filt} óbitos \")"
   ]
  },
  {
   "cell_type": "markdown",
   "metadata": {},
   "source": [
    "### Merge de dados de Municípios ao arquivo principal do SIM\n",
    "\n",
    "Serão utilizados os arquivos:\n",
    "\n",
    "* população: 'files_clean/censo_pop_clean.csv'\n",
    "\n",
    "* sim: 'files_clean/dobr_clean.csv'\n",
    "\n",
    "Como a população está clivada em Município, Idade (previamente, todos abaixo de 75 anos), Sexo e Raça, estes campos serão utilizados de maneira conjunta para realizar o merge."
   ]
  },
  {
   "cell_type": "code",
   "execution_count": 10,
   "metadata": {},
   "outputs": [
    {
     "name": "stdout",
     "output_type": "stream",
     "text": [
      "Registro da tabela : 540\n",
      "+----+-------+---------+----------+--------+---------------+-------------+---------------+\n",
      "|    | Ano   | uf_co   | uf_no    | Sexo   | Cor ou raça   |   pop_total |   pop_under74 |\n",
      "|----+-------+---------+----------+--------+---------------+-------------+---------------|\n",
      "|  0 | _2010 | _11     | Rondônia | Homens | Branca        |      274670 |        269314 |\n",
      "|  1 | _2010 | _11     | Rondônia | Homens | Preta         |       60563 |         59252 |\n",
      "|  2 | _2010 | _11     | Rondônia | Homens | Amarela       |       10126 |          9986 |\n",
      "|  3 | _2010 | _11     | Rondônia | Homens | Parda         |      443524 |        437401 |\n",
      "|  4 | _2010 | _11     | Rondônia | Homens | Indígena      |        6143 |          6037 |\n",
      "+----+-------+---------+----------+--------+---------------+-------------+---------------+\n"
     ]
    }
   ],
   "source": [
    "# Verificar colunas de população no arquivo censo_pop_clean\n",
    "censo_temp = pd.read_parquet('files_in_geral/censo_uf.parquet')\n",
    "\n",
    "# mostrar dados gerais da tabela após transformações\n",
    "tab = censo_temp\n",
    "print(f'Registro da tabela : {tab.shape[0]}')\n",
    "print(tabulate(tab.head(), headers='keys', tablefmt='psql'))"
   ]
  },
  {
   "cell_type": "code",
   "execution_count": 37,
   "metadata": {},
   "outputs": [
    {
     "name": "stdout",
     "output_type": "stream",
     "text": [
      "Código de sexo: ['_1' '_2']\n",
      "Código de racacor: ['_1' '_2' '_3' '_4' '_5']\n",
      "Código de ANO: ['_2010' '_2022']\n"
     ]
    }
   ],
   "source": [
    "# Transformar campos de cor e sexo em código\n",
    "censo_temp01 = censo_temp.copy()\n",
    "\n",
    "# Transformar valores de sexo em código (utilizado pelo SIM)\n",
    "censo_temp01['SEXO'] = censo_temp01['Sexo'].map({'Homens':'_1',\n",
    "                                                    'Mulheres':'_2'})\n",
    "# Transformar valores nan em 0\n",
    "censo_temp01['RACACOR'] = censo_temp01['Cor ou raça'].fillna('_0')\n",
    "\n",
    "# Transformar valores de racacor em código (utilizado pelo SIM)\n",
    "censo_temp01['RACACOR'] = censo_temp01['RACACOR'].map({'Branca':'_1',\n",
    "                                                        'Preta':'_2',\n",
    "                                                        'Amarela':'_3',\n",
    "                                                        'Parda':'_4',\n",
    "                                                        'Indígena':'_5',\n",
    "                                                        'Sem declaração':'_9'})\n",
    "\n",
    "\n",
    "\n",
    "# Exibir resultados\n",
    "print(f'Código de sexo: {censo_temp01['SEXO'].unique()}')\n",
    "print(f'Código de racacor: {censo_temp01['RACACOR'].unique()}')\n",
    "print(f'Código de ANO: {censo_temp01['Ano'].unique()}')"
   ]
  },
  {
   "cell_type": "code",
   "execution_count": 38,
   "metadata": {},
   "outputs": [
    {
     "name": "stdout",
     "output_type": "stream",
     "text": [
      "Registro da tabela : 540\n",
      "+----+-------+---------+----------+--------+---------------+-------------+---------------+--------+-----------+\n",
      "|    | Ano   | uf_co   | uf_no    | Sexo   | Cor ou raça   |   pop_total |   pop_under74 | SEXO   | RACACOR   |\n",
      "|----+-------+---------+----------+--------+---------------+-------------+---------------+--------+-----------|\n",
      "|  0 | _2010 | _11     | Rondônia | Homens | Branca        |      274670 |        269314 | _1     | _1        |\n",
      "|  1 | _2010 | _11     | Rondônia | Homens | Preta         |       60563 |         59252 | _1     | _2        |\n",
      "|  2 | _2010 | _11     | Rondônia | Homens | Amarela       |       10126 |          9986 | _1     | _3        |\n",
      "|  3 | _2010 | _11     | Rondônia | Homens | Parda         |      443524 |        437401 | _1     | _4        |\n",
      "|  4 | _2010 | _11     | Rondônia | Homens | Indígena      |        6143 |          6037 | _1     | _5        |\n",
      "+----+-------+---------+----------+--------+---------------+-------------+---------------+--------+-----------+\n"
     ]
    }
   ],
   "source": [
    "\n",
    "# mostrar dados gerais da tabela após transformações\n",
    "tab = censo_temp01\n",
    "print(f'Registro da tabela : {tab.shape[0]}')\n",
    "print(tabulate(tab.head(), headers='keys', tablefmt='psql'))"
   ]
  },
  {
   "cell_type": "code",
   "execution_count": null,
   "metadata": {},
   "outputs": [],
   "source": [
    "# # Criar um campo string que concatene ANO, CODMUN_SIM, Sexo e cor\n",
    "# censo_pop_mun_4merge_temp02 = censo_pop_mun_4merge_temp01.copy()\n",
    "\n",
    "# censo_pop_mun_4merge_temp02['POP_MERGE'] = '_' + censo_pop_mun_4merge_temp02['Ano'].astype(str) + censo_pop_mun_4merge_temp02['uf_co'] + censo_pop_mun_4merge_temp02['sexo'] + censo_pop_mun_4merge_temp02['racacor']\n",
    "\n",
    "\n",
    "# # mostrar dados gerais da tabela após transformações\n",
    "# tab = censo_pop_mun_4merge_temp02\n",
    "# print(f'Registro da tabela : {tab.shape[0]}')\n",
    "# print(tabulate(tab.head(), headers='keys', tablefmt='psql'))"
   ]
  },
  {
   "cell_type": "code",
   "execution_count": null,
   "metadata": {},
   "outputs": [],
   "source": [
    "# # Contar quantos valores são repetidos na coluna 'POP_MERGE'\n",
    "# repeated_values = censo_pop_mun_4merge_temp01['POP_MERGE'].value_counts()\n",
    "\n",
    "# # Filtrar os valores que aparecem mais de uma vez\n",
    "# repeated_more_than_once = repeated_values[repeated_values > 1]\n",
    "\n",
    "# # Exibir os valores repetidos\n",
    "# print(repeated_more_than_once)"
   ]
  },
  {
   "cell_type": "code",
   "execution_count": 16,
   "metadata": {},
   "outputs": [
    {
     "name": "stdout",
     "output_type": "stream",
     "text": [
      "Registro da tabela : 4427475\n",
      "+----+------------+-------------+--------+-----------+--------------+-------------+---------------------+\n",
      "|    | CAUSABAS   | CODMUNRES   |   SEXO |   RACACOR |   OBITO_SOMA | ANO_OBITO   | causes_deaths       |\n",
      "|----+------------+-------------+--------+-----------+--------------+-------------+---------------------|\n",
      "|  0 | A049       | _355080     |      1 |         1 |            1 | _2019       | Intestinal diseases |\n",
      "|  1 | A09        | _320520     |      1 |         1 |            1 | _2019       | Intestinal diseases |\n",
      "|  2 | A09        | _330040     |      1 |         1 |            1 | _2019       | Intestinal diseases |\n",
      "|  3 | A09        | _350970     |      1 |         4 |            1 | _2019       | Intestinal diseases |\n",
      "|  4 | A09        | _355100     |      2 |         1 |            1 | _2019       | Intestinal diseases |\n",
      "+----+------------+-------------+--------+-----------+--------------+-------------+---------------------+\n"
     ]
    }
   ],
   "source": [
    "# Exibir arquivo dobr_clean\n",
    "dobr_merged_temp = pd.read_parquet('files_temp/ds5_dobr_evit_merged.parquet')\n",
    "\n",
    "# mostrar dados gerais da tabela após transformações\n",
    "tab = dobr_merged_temp\n",
    "print(f'Registro da tabela : {tab.shape[0]}')\n",
    "print(tabulate(tab.head(), headers='keys', tablefmt='psql'))"
   ]
  },
  {
   "cell_type": "markdown",
   "metadata": {},
   "source": [
    "##########       Etapa diferenciada da versão      ##########\n",
    "\n",
    "Como só temos dados de população de Censo de 2010 e 2022, esta etapa do código aplicamos a todos os anos que não são de 2010 um ano proxy de 2023 (serão carregados dados populacionais do Censo de 2010 para o ano de 2010 e para os demais anos, Censo de 2022)."
   ]
  },
  {
   "cell_type": "code",
   "execution_count": 20,
   "metadata": {},
   "outputs": [
    {
     "name": "stdout",
     "output_type": "stream",
     "text": [
      "Registro da tabela : 4427475\n",
      "Total de óbitos : 4446922\n",
      "+----+------------+-------------+--------+-----------+--------------+-------------+---------------------+-------------+\n",
      "|    | CAUSABAS   | CODMUNRES   |   SEXO |   RACACOR |   OBITO_SOMA | ANO_OBITO   | causes_deaths       | ANO_PROXY   |\n",
      "|----+------------+-------------+--------+-----------+--------------+-------------+---------------------+-------------|\n",
      "|  0 | A049       | _355080     |      1 |         1 |            1 | _2019       | Intestinal diseases | _2022       |\n",
      "|  1 | A09        | _320520     |      1 |         1 |            1 | _2019       | Intestinal diseases | _2022       |\n",
      "|  2 | A09        | _330040     |      1 |         1 |            1 | _2019       | Intestinal diseases | _2022       |\n",
      "|  3 | A09        | _350970     |      1 |         4 |            1 | _2019       | Intestinal diseases | _2022       |\n",
      "|  4 | A09        | _355100     |      2 |         1 |            1 | _2019       | Intestinal diseases | _2022       |\n",
      "+----+------------+-------------+--------+-----------+--------------+-------------+---------------------+-------------+\n"
     ]
    }
   ],
   "source": [
    "# # Gerar um campo de ano para proxy de 2022 (para ser aplicados aos anos de 19 a 22)\n",
    "dobr_merged_temp01 = dobr_merged_temp.copy()\n",
    "\n",
    "dobr_merged_temp01['ANO_PROXY'] = dobr_merged_temp01['ANO_OBITO'].apply(lambda x: '_2010' if x == '_2010' else '_2022')\n",
    "\n",
    "# # # Criar um campo string que concatene ANO, CODMUNRES\n",
    "# dobr_merged_temp01['POP_MERGE'] = dobr_merged_temp01['ANO_PROXY'].astype(str) + dobr_merged_temp['CODMUNRES']\n",
    "\n",
    "# # mostrar dados gerais da tabela após transformações\n",
    "tab = dobr_merged_temp01\n",
    "print(f'Registro da tabela : {tab.shape[0]}')\n",
    "print(f'Total de óbitos : {dobr_merged_temp01.OBITO_SOMA.sum()}')\n",
    "print(tabulate(tab.head(), headers='keys', tablefmt='psql'))"
   ]
  },
  {
   "cell_type": "code",
   "execution_count": 21,
   "metadata": {},
   "outputs": [
    {
     "name": "stdout",
     "output_type": "stream",
     "text": [
      "Código de ANO: ['_2019' '_2020' '_2021' '_2022' '_2010']\n",
      "Código de ANO_PROXY: ['_2022' '_2010']\n",
      "Total de óbitos : 4446922\n"
     ]
    }
   ],
   "source": [
    "# # Verificar operação acima\n",
    "print(f'Código de ANO: {dobr_merged_temp01['ANO_OBITO'].unique()}')\n",
    "print(f'Código de ANO_PROXY: {dobr_merged_temp01['ANO_PROXY'].unique()}')\n",
    "print(f'Total de óbitos : {dobr_merged_temp01.OBITO_SOMA.sum()}')"
   ]
  },
  {
   "cell_type": "code",
   "execution_count": 43,
   "metadata": {},
   "outputs": [
    {
     "name": "stdout",
     "output_type": "stream",
     "text": [
      "Número de registros de dobr com 'POP_MERGE' maior que 12 caracteres: 0\n",
      "Número de registros de censo_pop_mun com 'POP_MERGE' maior que 12 caracteres: 0\n"
     ]
    }
   ],
   "source": [
    "# # Contar o número de caracteres de cada valor na coluna 'POP_MERGE'\n",
    "# lengths = dobr_merged_temp01['POP_MERGE'].str.len()\n",
    "# num_records = lengths[lengths > 12].count()\n",
    "# print(f\"Número de registros de dobr com 'POP_MERGE' maior que 12 caracteres: {num_records}\")\n",
    "# lengths2 = censo_pop_mun_4merge_temp01['POP_MERGE'].str.len()\n",
    "# num_records2 = lengths2[lengths2 > 12].count()\n",
    "# print(f\"Número de registros de censo_pop_mun com 'POP_MERGE' maior que 12 caracteres: {num_records2}\")"
   ]
  },
  {
   "cell_type": "markdown",
   "metadata": {},
   "source": [
    "##########       Etapa diferenciada da versão      ##########\n",
    "\n",
    "Iremos excluir o CAUSABAS, mas agrupar por UF, ano e cause_deaths.\n",
    "O contador de mortes portanto está atrelado ao cause_deaths.\n",
    "\n",
    "Atenção também porque, como nesta versão não trabalhamos com município, iremos agregar os dados por UF"
   ]
  },
  {
   "cell_type": "code",
   "execution_count": 22,
   "metadata": {},
   "outputs": [
    {
     "data": {
      "text/plain": [
       "Index(['CAUSABAS', 'CODMUNRES', 'SEXO', 'RACACOR', 'OBITO_SOMA', 'ANO_OBITO',\n",
       "       'causes_deaths', 'ANO_PROXY'],\n",
       "      dtype='object')"
      ]
     },
     "execution_count": 22,
     "metadata": {},
     "output_type": "execute_result"
    }
   ],
   "source": [
    "dobr_merged_temp01.columns"
   ]
  },
  {
   "cell_type": "code",
   "execution_count": 23,
   "metadata": {},
   "outputs": [
    {
     "name": "stdout",
     "output_type": "stream",
     "text": [
      "Registro da tabela : 4427475\n",
      "+----+------------+-------------+--------+-----------+--------------+-------------+---------------------+-------------+---------+\n",
      "|    | CAUSABAS   | CODMUNRES   |   SEXO |   RACACOR |   OBITO_SOMA | ANO_OBITO   | causes_deaths       | ANO_PROXY   | uf_co   |\n",
      "|----+------------+-------------+--------+-----------+--------------+-------------+---------------------+-------------+---------|\n",
      "|  0 | A049       | _355080     |      1 |         1 |            1 | _2019       | Intestinal diseases | _2022       | _35     |\n",
      "|  1 | A09        | _320520     |      1 |         1 |            1 | _2019       | Intestinal diseases | _2022       | _32     |\n",
      "|  2 | A09        | _330040     |      1 |         1 |            1 | _2019       | Intestinal diseases | _2022       | _33     |\n",
      "|  3 | A09        | _350970     |      1 |         4 |            1 | _2019       | Intestinal diseases | _2022       | _35     |\n",
      "|  4 | A09        | _355100     |      2 |         1 |            1 | _2019       | Intestinal diseases | _2022       | _35     |\n",
      "+----+------------+-------------+--------+-----------+--------------+-------------+---------------------+-------------+---------+\n"
     ]
    }
   ],
   "source": [
    "dobr_merged_temp01['uf_co'] = dobr_merged_temp01['CODMUNRES'].str[:3]\n",
    "# # mostrar dados gerais da tabela após transformações\n",
    "tab = dobr_merged_temp01\n",
    "print(f'Registro da tabela : {tab.shape[0]}')\n",
    "print(tabulate(tab.head(), headers='keys', tablefmt='psql'))\n"
   ]
  },
  {
   "cell_type": "code",
   "execution_count": 24,
   "metadata": {
    "vscode": {
     "languageId": "shellscript"
    }
   },
   "outputs": [
    {
     "name": "stdout",
     "output_type": "stream",
     "text": [
      "Registros da tabela : 56415\n",
      "Total de óbitos : 4427475\n",
      "+----+---------+--------+-----------+-------------+--------------------------------+-------------+------------+\n",
      "|    | uf_co   |   SEXO | RACACOR   | ANO_OBITO   | causes_deaths                  | ANO_PROXY   |   CONTADOR |\n",
      "|----+---------+--------+-----------+-------------+--------------------------------+-------------+------------|\n",
      "|  0 | _11     |      0 |           | _2019       | causa não evitável             | _2022       |          1 |\n",
      "|  1 | _11     |      0 |           | _2020       | Certain conditions originating | _2022       |          1 |\n",
      "|    |         |        |           |             | in the perinatal period        |             |            |\n",
      "|  2 | _11     |      0 |           | _2021       | causa não evitável             | _2022       |          1 |\n",
      "|  3 | _11     |      0 | 1         | _2019       | Cerebrovascular diseases       | _2022       |          1 |\n",
      "|  4 | _11     |      0 | 1         | _2019       | Certain conditions originating | _2022       |          1 |\n",
      "|    |         |        |           |             | in the perinatal period        |             |            |\n",
      "+----+---------+--------+-----------+-------------+--------------------------------+-------------+------------+\n"
     ]
    }
   ],
   "source": [
    "# Agrupar por POP_MERGE e somar os registros, não contabilizando mais por CAUSABAS\n",
    "\n",
    "col_group= ['uf_co', 'SEXO', 'RACACOR', 'ANO_OBITO', 'causes_deaths', 'ANO_PROXY']\n",
    "dobr_merged_temp02 = dobr_merged_temp01.groupby(col_group)['CAUSABAS'].count().reset_index()\n",
    "\n",
    "# Renomear o campo CAUSABAS para CONTADOR\n",
    "dobr_merged_temp02.rename(columns={'CAUSABAS':'CONTADOR'}, inplace=True)\n",
    "\n",
    "\n",
    "# mostrar dados gerais da tabela após transformações\n",
    "tab = dobr_merged_temp02\n",
    "print(f'Registros da tabela : {tab.shape[0]}')\n",
    "\n",
    "print(f'Total de óbitos : {tab.CONTADOR.sum()}')\n",
    "print(tabulate(tab.head(), headers='keys', tablefmt='psql', maxcolwidths=30))"
   ]
  },
  {
   "cell_type": "code",
   "execution_count": 25,
   "metadata": {
    "vscode": {
     "languageId": "shellscript"
    }
   },
   "outputs": [
    {
     "name": "stdout",
     "output_type": "stream",
     "text": [
      "Código de sexo: ['0' '1' '1   ' '2' '2   ' '9   ']\n",
      "Código de racacor: [' ' '1' '2' '4' '3' '5' '       ' '1      ' '2      ' '3      ' '4      '\n",
      " '5      ']\n"
     ]
    }
   ],
   "source": [
    "# Tratamento de códigos de dobr para merge\n",
    "print(f'Código de sexo: {dobr_merged_temp02['SEXO'].unique()}')\n",
    "print(f'Código de racacor: {dobr_merged_temp02['RACACOR'].unique()}')"
   ]
  },
  {
   "cell_type": "code",
   "execution_count": 26,
   "metadata": {
    "vscode": {
     "languageId": "shellscript"
    }
   },
   "outputs": [
    {
     "name": "stdout",
     "output_type": "stream",
     "text": [
      "Código de RACACOR: ['_9' '_1' '_2' '_4' '_3' '_5']\n",
      "Código de SEXO: ['_9' '_1' '_2']\n",
      "Total de óbitos : 4427475\n"
     ]
    }
   ],
   "source": [
    "# Transformar valores RACACOR e SEXO\n",
    "dobr_merged_temp03 = dobr_merged_temp02.copy()\n",
    "\n",
    "# Transformar valores RACACOR\n",
    "# dobr_merged_temp03['RACACOR'] = dobr_merged_temp03['RACACOR'].replace([' ', ''], '0')\n",
    "# dobr_merged_temp03['RACACOR'] = dobr_merged_temp03['RACACOR'].fillna('0')\n",
    "dobr_merged_temp03['RACACOR'] = dobr_merged_temp03['RACACOR'].astype(str)\n",
    "dobr_merged_temp03['RACACOR'] = dobr_merged_temp03['RACACOR'].str[:1]\n",
    "dobr_merged_temp03['RACACOR'] = dobr_merged_temp03['RACACOR'].replace(' ','9')\n",
    "dobr_merged_temp03['RACACOR'] = '_' + dobr_merged_temp03['RACACOR'].astype(str)\n",
    "\n",
    "# Transformar valores SEXO\n",
    "dobr_merged_temp03['SEXO'] = dobr_merged_temp03['SEXO'].astype(str)\n",
    "dobr_merged_temp03['SEXO'] = dobr_merged_temp03['SEXO'].str[:1]\n",
    "dobr_merged_temp03['SEXO'] = dobr_merged_temp03['SEXO'].replace('0','9')\n",
    "dobr_merged_temp03['SEXO'] = '_' + dobr_merged_temp03['SEXO'].astype(str)\n",
    "\n",
    "\n",
    "\n",
    "print(f'Código de RACACOR: {dobr_merged_temp03[\"RACACOR\"].unique()}')\n",
    "print(f'Código de SEXO: {dobr_merged_temp03[\"SEXO\"].unique()}')\n",
    "print(f'Total de óbitos : {tab.CONTADOR.sum()}')\n"
   ]
  },
  {
   "cell_type": "code",
   "execution_count": 27,
   "metadata": {
    "vscode": {
     "languageId": "shellscript"
    }
   },
   "outputs": [
    {
     "name": "stdout",
     "output_type": "stream",
     "text": [
      "Registros de RACACOR sem qualidade : 133486\n",
      "Registros de SEXO sem qualidade : 1264\n",
      "Registros total sem qualidade : 134455\n",
      "\u001b[33m ==> Total de óbitos sem dados de qualidade em SEXO e RACACOR: 134455\u001b[0m\n",
      "\u001b[33m ==> Percentual de óbitos sem dados de qualidade em SEXO e RACACOR: 3.0368325061124004\u001b[0m\n"
     ]
    }
   ],
   "source": [
    "# Apresentar total de registros de DOBR sem identificação de SEXO e RACACOR\n",
    "dobr_merged_temp03_fault = dobr_merged_temp03.loc[(dobr_merged_temp03['SEXO'] == '_9') | (dobr_merged_temp03['RACACOR'] == '_9')]\n",
    "sexo_fault = dobr_merged_temp03.loc[(dobr_merged_temp03['SEXO']== '_9')]\n",
    "racacor_fault = dobr_merged_temp03.loc[(dobr_merged_temp03['RACACOR']== '_9')]\n",
    "\n",
    "# mostrar dados gerais da tabela após transformações\n",
    "tab = dobr_merged_temp03_fault\n",
    "print(f'Registros de RACACOR sem qualidade : {racacor_fault.CONTADOR.sum()}')\n",
    "print(f'Registros de SEXO sem qualidade : {sexo_fault.CONTADOR.sum()}')\n",
    "print(f'Registros total sem qualidade : {tab.CONTADOR.sum()}')\n",
    "\n",
    "faults_perc = (tab.CONTADOR.sum()/dobr_merged_temp03.CONTADOR.sum())*100\n",
    "\n",
    "print_y(f'Total de óbitos sem dados de qualidade em SEXO e RACACOR: {tab.CONTADOR.sum()}')\n",
    "print_y(f'Percentual de óbitos sem dados de qualidade em SEXO e RACACOR: {faults_perc}')\n",
    "# print(tabulate(tab.head(), headers='keys', tablefmt='psql', maxcolwidths=30))"
   ]
  },
  {
   "cell_type": "code",
   "execution_count": 28,
   "metadata": {},
   "outputs": [
    {
     "name": "stdout",
     "output_type": "stream",
     "text": [
      "Registros da tabela : 47498\n",
      "Total de óbitos : 4293020\n",
      "+----+---------+--------+-----------+-------------+--------------------------------+-------------+------------+\n",
      "|    | uf_co   | SEXO   | RACACOR   | ANO_OBITO   | causes_deaths                  | ANO_PROXY   |   CONTADOR |\n",
      "|----+---------+--------+-----------+-------------+--------------------------------+-------------+------------|\n",
      "| 88 | _11     | _1     | _1        | _2019       | Abscess of lung and            | _2022       |          1 |\n",
      "|    |         |        |           |             | mediastinum pyothorax          |             |            |\n",
      "| 89 | _11     | _1     | _1        | _2019       | Accidental Injuries            | _2022       |         47 |\n",
      "| 90 | _11     | _1     | _1        | _2019       | Acute lower respiratory        | _2022       |          1 |\n",
      "|    |         |        |           |             | infections                     |             |            |\n",
      "| 91 | _11     | _1     | _1        | _2019       | Acute pancreatitis             | _2022       |          3 |\n",
      "| 92 | _11     | _1     | _1        | _2019       | Alcohol-specific disorders and | _2022       |         12 |\n",
      "|    |         |        |           |             | poisonings                     |             |            |\n",
      "+----+---------+--------+-----------+-------------+--------------------------------+-------------+------------+\n"
     ]
    }
   ],
   "source": [
    "# Excluir valores sem qualidade da tabela\n",
    "dobr_merged_temp04 = dobr_merged_temp03[(dobr_merged_temp03['RACACOR'] != '_9') & (dobr_merged_temp03['SEXO'] != '_9')]\n",
    "\n",
    "# mostrar dados gerais da tabela após transformações\n",
    "tab = dobr_merged_temp04\n",
    "print(f'Registros da tabela : {tab.shape[0]}')\n",
    "\n",
    "print(f'Total de óbitos : {tab.CONTADOR.sum()}')\n",
    "print(tabulate(tab.head(), headers='keys', tablefmt='psql', maxcolwidths=30))"
   ]
  },
  {
   "cell_type": "code",
   "execution_count": 30,
   "metadata": {
    "vscode": {
     "languageId": "shellscript"
    }
   },
   "outputs": [
    {
     "name": "stdout",
     "output_type": "stream",
     "text": [
      "Registros da tabela : 47498\n",
      "+----+---------+--------+-----------+-------------+--------------------------------+-------------+------------+\n",
      "|    | uf_co   | SEXO   | RACACOR   | ANO_OBITO   | causes_deaths                  | ANO_PROXY   |   CONTADOR |\n",
      "|----+---------+--------+-----------+-------------+--------------------------------+-------------+------------|\n",
      "| 88 | _11     | _1     | _1        | _2019       | Abscess of lung and            | _2022       |          1 |\n",
      "|    |         |        |           |             | mediastinum pyothorax          |             |            |\n",
      "| 89 | _11     | _1     | _1        | _2019       | Accidental Injuries            | _2022       |         47 |\n",
      "| 90 | _11     | _1     | _1        | _2019       | Acute lower respiratory        | _2022       |          1 |\n",
      "|    |         |        |           |             | infections                     |             |            |\n",
      "| 91 | _11     | _1     | _1        | _2019       | Acute pancreatitis             | _2022       |          3 |\n",
      "| 92 | _11     | _1     | _1        | _2019       | Alcohol-specific disorders and | _2022       |         12 |\n",
      "|    |         |        |           |             | poisonings                     |             |            |\n",
      "+----+---------+--------+-----------+-------------+--------------------------------+-------------+------------+\n"
     ]
    }
   ],
   "source": [
    "# mostrar dados gerais da tabela após transformações\n",
    "tab = dobr_merged_temp04\n",
    "print(f'Registros da tabela : {tab.shape[0]}')\n",
    "print(tabulate(tab.head(), headers='keys', tablefmt='psql', maxcolwidths=30))"
   ]
  },
  {
   "cell_type": "code",
   "execution_count": 39,
   "metadata": {
    "vscode": {
     "languageId": "shellscript"
    }
   },
   "outputs": [
    {
     "data": {
      "text/plain": [
       "Index(['Ano', 'uf_co', 'uf_no', 'Sexo', 'Cor ou raça', 'pop_total',\n",
       "       'pop_under74', 'SEXO', 'RACACOR'],\n",
       "      dtype='object')"
      ]
     },
     "execution_count": 39,
     "metadata": {},
     "output_type": "execute_result"
    }
   ],
   "source": [
    "censo_temp01.columns"
   ]
  },
  {
   "cell_type": "code",
   "execution_count": 40,
   "metadata": {},
   "outputs": [
    {
     "name": "stdout",
     "output_type": "stream",
     "text": [
      "Registros da tabela : 47498\n",
      "Total de óbitos : 4293020\n"
     ]
    },
    {
     "data": {
      "text/html": [
       "<div>\n",
       "<style scoped>\n",
       "    .dataframe tbody tr th:only-of-type {\n",
       "        vertical-align: middle;\n",
       "    }\n",
       "\n",
       "    .dataframe tbody tr th {\n",
       "        vertical-align: top;\n",
       "    }\n",
       "\n",
       "    .dataframe thead th {\n",
       "        text-align: right;\n",
       "    }\n",
       "</style>\n",
       "<table border=\"1\" class=\"dataframe\">\n",
       "  <thead>\n",
       "    <tr style=\"text-align: right;\">\n",
       "      <th></th>\n",
       "      <th>uf_co</th>\n",
       "      <th>SEXO</th>\n",
       "      <th>RACACOR</th>\n",
       "      <th>ANO_OBITO</th>\n",
       "      <th>causes_deaths</th>\n",
       "      <th>ANO_PROXY</th>\n",
       "      <th>CONTADOR</th>\n",
       "      <th>Ano</th>\n",
       "      <th>uf_no</th>\n",
       "      <th>Sexo</th>\n",
       "      <th>Cor ou raça</th>\n",
       "      <th>pop_total</th>\n",
       "      <th>pop_under74</th>\n",
       "    </tr>\n",
       "  </thead>\n",
       "  <tbody>\n",
       "    <tr>\n",
       "      <th>0</th>\n",
       "      <td>_11</td>\n",
       "      <td>_1</td>\n",
       "      <td>_1</td>\n",
       "      <td>_2019</td>\n",
       "      <td>Abscess of lung and mediastinum pyothorax</td>\n",
       "      <td>_2022</td>\n",
       "      <td>1</td>\n",
       "      <td>_2022</td>\n",
       "      <td>Rondônia</td>\n",
       "      <td>Homens</td>\n",
       "      <td>Branca</td>\n",
       "      <td>236680</td>\n",
       "      <td>228640</td>\n",
       "    </tr>\n",
       "    <tr>\n",
       "      <th>1</th>\n",
       "      <td>_11</td>\n",
       "      <td>_1</td>\n",
       "      <td>_1</td>\n",
       "      <td>_2019</td>\n",
       "      <td>Accidental Injuries</td>\n",
       "      <td>_2022</td>\n",
       "      <td>47</td>\n",
       "      <td>_2022</td>\n",
       "      <td>Rondônia</td>\n",
       "      <td>Homens</td>\n",
       "      <td>Branca</td>\n",
       "      <td>236680</td>\n",
       "      <td>228640</td>\n",
       "    </tr>\n",
       "    <tr>\n",
       "      <th>2</th>\n",
       "      <td>_11</td>\n",
       "      <td>_1</td>\n",
       "      <td>_1</td>\n",
       "      <td>_2019</td>\n",
       "      <td>Acute lower respiratory infections</td>\n",
       "      <td>_2022</td>\n",
       "      <td>1</td>\n",
       "      <td>_2022</td>\n",
       "      <td>Rondônia</td>\n",
       "      <td>Homens</td>\n",
       "      <td>Branca</td>\n",
       "      <td>236680</td>\n",
       "      <td>228640</td>\n",
       "    </tr>\n",
       "    <tr>\n",
       "      <th>3</th>\n",
       "      <td>_11</td>\n",
       "      <td>_1</td>\n",
       "      <td>_1</td>\n",
       "      <td>_2019</td>\n",
       "      <td>Acute pancreatitis</td>\n",
       "      <td>_2022</td>\n",
       "      <td>3</td>\n",
       "      <td>_2022</td>\n",
       "      <td>Rondônia</td>\n",
       "      <td>Homens</td>\n",
       "      <td>Branca</td>\n",
       "      <td>236680</td>\n",
       "      <td>228640</td>\n",
       "    </tr>\n",
       "    <tr>\n",
       "      <th>4</th>\n",
       "      <td>_11</td>\n",
       "      <td>_1</td>\n",
       "      <td>_1</td>\n",
       "      <td>_2019</td>\n",
       "      <td>Alcohol-specific disorders and poisonings</td>\n",
       "      <td>_2022</td>\n",
       "      <td>12</td>\n",
       "      <td>_2022</td>\n",
       "      <td>Rondônia</td>\n",
       "      <td>Homens</td>\n",
       "      <td>Branca</td>\n",
       "      <td>236680</td>\n",
       "      <td>228640</td>\n",
       "    </tr>\n",
       "  </tbody>\n",
       "</table>\n",
       "</div>"
      ],
      "text/plain": [
       "  uf_co SEXO RACACOR ANO_OBITO                              causes_deaths  \\\n",
       "0   _11   _1      _1     _2019  Abscess of lung and mediastinum pyothorax   \n",
       "1   _11   _1      _1     _2019                        Accidental Injuries   \n",
       "2   _11   _1      _1     _2019         Acute lower respiratory infections   \n",
       "3   _11   _1      _1     _2019                         Acute pancreatitis   \n",
       "4   _11   _1      _1     _2019  Alcohol-specific disorders and poisonings   \n",
       "\n",
       "  ANO_PROXY  CONTADOR    Ano     uf_no    Sexo Cor ou raça  pop_total  \\\n",
       "0     _2022         1  _2022  Rondônia  Homens      Branca     236680   \n",
       "1     _2022        47  _2022  Rondônia  Homens      Branca     236680   \n",
       "2     _2022         1  _2022  Rondônia  Homens      Branca     236680   \n",
       "3     _2022         3  _2022  Rondônia  Homens      Branca     236680   \n",
       "4     _2022        12  _2022  Rondônia  Homens      Branca     236680   \n",
       "\n",
       "   pop_under74  \n",
       "0       228640  \n",
       "1       228640  \n",
       "2       228640  \n",
       "3       228640  \n",
       "4       228640  "
      ]
     },
     "execution_count": 40,
     "metadata": {},
     "output_type": "execute_result"
    }
   ],
   "source": [
    "# Definir campos de censo_pop para merge\n",
    "# censo_pop_mun_4merge_temp02 = censo_pop_mun_4merge_temp01[['ano_cod',\n",
    "#                                                            'uf_co',\n",
    "#                                                            'sexo_cod',\n",
    "#                                                            'Sexo',\n",
    "#                                                            'racacor_cod',\n",
    "#                                                            'Cor ou Raça',\n",
    "#                                                            'pop_under74','UF','mun_no']]\n",
    "\n",
    "# Realizar o merge dos dataframes\n",
    "dobr_merged_temp05 = pd.merge(dobr_merged_temp04, censo_temp01, \n",
    "                              left_on=['ANO_PROXY','uf_co','SEXO','RACACOR'],\n",
    "                              right_on=['Ano','uf_co','SEXO','RACACOR'],\n",
    "                              how='left')\n",
    "\n",
    "# mostrar dados gerais da tabela após transformações\n",
    "tab = dobr_merged_temp05\n",
    "print(f'Registros da tabela : {tab.shape[0]}')\n",
    "print(f'Total de óbitos : {tab.CONTADOR.sum()}')\n",
    "tab.head()"
   ]
  },
  {
   "cell_type": "code",
   "execution_count": 41,
   "metadata": {},
   "outputs": [
    {
     "data": {
      "text/plain": [
       "0"
      ]
     },
     "execution_count": 41,
     "metadata": {},
     "output_type": "execute_result"
    }
   ],
   "source": [
    "# Contar quantos erros do merge\n",
    "merged_faults = dobr_merged_temp05['pop_under74'].isna().sum()\n",
    "merged_faults"
   ]
  },
  {
   "cell_type": "code",
   "execution_count": 42,
   "metadata": {},
   "outputs": [],
   "source": [
    "# Ajustar dados de ano\n",
    "dobr_merged_temp05['ANO_OBITO'] = dobr_merged_temp05['ANO_OBITO'].str[1:5]"
   ]
  },
  {
   "cell_type": "code",
   "execution_count": 44,
   "metadata": {},
   "outputs": [
    {
     "name": "stdout",
     "output_type": "stream",
     "text": [
      "Registros da tabela : 47498\n",
      "Total de óbitos : 4293020\n",
      "+----+-------------+----------+-------------------------------------------+--------+---------------+---------------+------------+\n",
      "|    |   ANO_OBITO | uf_no    | causes_deaths                             | Sexo   | Cor ou raça   |   pop_under74 |   CONTADOR |\n",
      "|----+-------------+----------+-------------------------------------------+--------+---------------+---------------+------------|\n",
      "|  0 |        2019 | Rondônia | Abscess of lung and mediastinum pyothorax | Homens | Branca        |        228640 |          1 |\n",
      "|  1 |        2019 | Rondônia | Accidental Injuries                       | Homens | Branca        |        228640 |         47 |\n",
      "|  2 |        2019 | Rondônia | Acute lower respiratory infections        | Homens | Branca        |        228640 |          1 |\n",
      "|  3 |        2019 | Rondônia | Acute pancreatitis                        | Homens | Branca        |        228640 |          3 |\n",
      "|  4 |        2019 | Rondônia | Alcohol-specific disorders and poisonings | Homens | Branca        |        228640 |         12 |\n",
      "+----+-------------+----------+-------------------------------------------+--------+---------------+---------------+------------+\n"
     ]
    }
   ],
   "source": [
    "# Filtra colunas\n",
    "column_order = [\n",
    "                #  'uf_co',\n",
    "                #  'SEXO',\n",
    "                #  'RACACOR',\n",
    "                 'ANO_OBITO',\n",
    "                #  'ANO_PROXY',\n",
    "                # 'Ano',\n",
    "                'uf_no',\n",
    "                'causes_deaths',\n",
    "                'Sexo',\n",
    "                'Cor ou raça',\n",
    "                #  'pop_total',\n",
    "                'pop_under74',\n",
    "                'CONTADOR',\n",
    "                #  'sexo_cod',\n",
    "                #  'racacor_cod',\n",
    "                #  'ano_cod'\n",
    "                ]\n",
    "\n",
    "# Reorder the columns in the DataFrame\n",
    "dobr_merged_temp06 = dobr_merged_temp05[column_order]\n",
    "\n",
    "\n",
    "# mostrar dados gerais da tabela após transformações\n",
    "tab = dobr_merged_temp06\n",
    "print(f'Registros da tabela : {tab.shape[0]}')\n",
    "print(f'Total de óbitos : {tab.CONTADOR.sum()}')\n",
    "print(tabulate(tab.head(), headers='keys', tablefmt='psql', maxcolwidths=50))\n"
   ]
  },
  {
   "cell_type": "markdown",
   "metadata": {},
   "source": [
    "##### Arquivo tratado final"
   ]
  },
  {
   "cell_type": "markdown",
   "metadata": {},
   "source": [
    "##########       Etapa diferenciada da versão      ##########\n",
    "\n",
    "Atenção na hora de salvar o arquivo temporário com versão, formato e local"
   ]
  },
  {
   "cell_type": "code",
   "execution_count": 45,
   "metadata": {},
   "outputs": [],
   "source": [
    "dobr_merged_temp06.to_parquet('files_temp/ds5_dobr_merged.parquet')"
   ]
  },
  {
   "cell_type": "code",
   "execution_count": 46,
   "metadata": {
    "vscode": {
     "languageId": "powershell"
    }
   },
   "outputs": [
    {
     "name": "stdout",
     "output_type": "stream",
     "text": [
      "\u001b[33m ==>  O número de óbitos após merge com tabela de CIDs evitáveis era de 4427475 óbitos \u001b[0m\n",
      "\u001b[33m ==>  Foram excluídos, por apresentar problemas para carga de informações de município, 134455 óbitos \u001b[0m\n",
      "\u001b[33m ==>  O número de óbitos total após filtro de CID evitáveis e inclusão de população do censo é de 4293020 óbitos \u001b[0m\n"
     ]
    }
   ],
   "source": [
    "# Resultados\n",
    "\n",
    "obito_origin = dobr_merged_temp.CAUSABAS.count()\n",
    "obito_final = dobr_merged_temp06.CONTADOR.sum()\n",
    "dif = obito_origin - obito_final\n",
    "\n",
    "\n",
    "print_y(f\" O número de óbitos após merge com tabela de CIDs evitáveis era de {obito_origin} óbitos \")\n",
    "print_y(f\" Foram excluídos, por apresentar problemas para carga de informações de município, {dif} óbitos \")\n",
    "print_y(f\" O número de óbitos total após filtro de CID evitáveis e inclusão de população do censo é de {obito_final} óbitos \")\n",
    "\n",
    "\n",
    "# # Filtrar registros onde pop_under74 é null\n",
    "# dobr_merged_pop_nulos = dobr_merged_pop[dobr_merged_pop['pop_under74'].isnull()]\n",
    "\n",
    "# # Exibir os registros filtrados\n",
    "# dobr_merged_pop_nulos['obito_count'].sum()"
   ]
  },
  {
   "cell_type": "markdown",
   "metadata": {},
   "source": [
    "# Etapa 3 - Aplicação de Modelo do HEAT ao Bloco"
   ]
  },
  {
   "cell_type": "markdown",
   "metadata": {},
   "source": [
    "O modelo HEAT apresenta um framework bem rígido e objetivo para carga de dados.\n",
    "\n",
    "O dataset precisa estar organizado com os labels e de acordo com a definição presente no template.\n",
    "\n",
    "E depois precisa ser validado em planilha excel disponibilizada pela organização.\n",
    "\n",
    "Ajustes: com a identificação da população por sexo e raça, encontramos 37 registros com população 0. Tivemos que excluir estes registros (incluindo os óbitos) no momento da preparação do dataset do heat em razão do modelo não aceitar estes valores."
   ]
  },
  {
   "cell_type": "markdown",
   "metadata": {},
   "source": [
    "## Dataset 4 - BR/CIDs/uf/Mun\n",
    "\n",
    "\n",
    "O primeiro dataset que iremos construir tem as seguintes características:\n",
    "\n",
    "* set = Brasil\n",
    "* indicador = causes_deaths\n",
    "* dimen = UF\n",
    "* subgroup = município\n",
    "* estimate = mortalidade por ano, causa (indicador) e subgroup\n",
    "* set-avg = mortalidade por ano e causa (indicador)\n",
    "\n",
    "Estas escolhas implicam em podermos disponibilizar ao usuário do HEAT a possibilidade de ver os municípios (dimensões) de maneira agregada por UF. \n"
   ]
  },
  {
   "cell_type": "code",
   "execution_count": 3,
   "metadata": {
    "vscode": {
     "languageId": "powershell"
    }
   },
   "outputs": [],
   "source": [
    "# Define the URL and the destination path\n",
    "url = \"https://srhdpeuwpubsa.blob.core.windows.net/whdh/HIDR/heat_plus_template_validation.xlsm\"\n",
    "destination_path = \"downloads_outros/heat_plus_template_validation.xlsm\"\n",
    "\n",
    "# Download the file\n",
    "response = requests.get(url)\n",
    "with open(destination_path, 'wb') as file:\n",
    "    file.write(response.content)\n",
    "\n",
    "# Note: Enabling macros programmatically is not recommended due to security risks.\n",
    "# Macros should be enabled manually in Excel settings."
   ]
  },
  {
   "cell_type": "code",
   "execution_count": 47,
   "metadata": {},
   "outputs": [
    {
     "name": "stdout",
     "output_type": "stream",
     "text": [
      "Registros da tabela : 47498\n",
      "Total de óbitos : 4293020\n",
      "+----+-------------+----------+-------------------------------------------+--------+---------------+---------------+------------+\n",
      "|    |   ANO_OBITO | uf_no    | causes_deaths                             | Sexo   | Cor ou raça   |   pop_under74 |   CONTADOR |\n",
      "|----+-------------+----------+-------------------------------------------+--------+---------------+---------------+------------|\n",
      "|  0 |        2019 | Rondônia | Abscess of lung and mediastinum pyothorax | Homens | Branca        |        228640 |          1 |\n",
      "|  1 |        2019 | Rondônia | Accidental Injuries                       | Homens | Branca        |        228640 |         47 |\n",
      "|  2 |        2019 | Rondônia | Acute lower respiratory infections        | Homens | Branca        |        228640 |          1 |\n",
      "|  3 |        2019 | Rondônia | Acute pancreatitis                        | Homens | Branca        |        228640 |          3 |\n",
      "|  4 |        2019 | Rondônia | Alcohol-specific disorders and poisonings | Homens | Branca        |        228640 |         12 |\n",
      "+----+-------------+----------+-------------------------------------------+--------+---------------+---------------+------------+\n"
     ]
    }
   ],
   "source": [
    "# Abrir arquivo final de DO após tratamento\n",
    "heatds_temp = pd.read_parquet('files_temp/ds5_dobr_merged.parquet')\n",
    "\n",
    "# mostrar dados gerais da tabela após transformações\n",
    "tab = heatds_temp\n",
    "print(f'Registros da tabela : {tab.shape[0]}')\n",
    "print(f'Total de óbitos : {tab.CONTADOR.sum()}')\n",
    "print(tabulate(tab.head(), headers='keys', tablefmt='psql'))"
   ]
  },
  {
   "cell_type": "code",
   "execution_count": 38,
   "metadata": {
    "vscode": {
     "languageId": "ruby"
    }
   },
   "outputs": [],
   "source": [
    "# # Agregar os dados sem CID e gerar colunas de soma de obito_count e pop_under74\n",
    "# heat_semCID = heat_.groupby(['UF', 'mun_nome', 'CODMUNRES', 'SEXO', 'RACACOR', 'ANO']).agg({\n",
    "#     'obito_count': 'sum',\n",
    "#     'pop_under74': 'sum'\n",
    "# }).reset_index()"
   ]
  },
  {
   "cell_type": "markdown",
   "metadata": {},
   "source": [
    "##########       Etapa diferenciada da versão      ##########\n",
    "\n",
    "Para melhor registro, utilizamos o label mort_ind_uf para deixar claro que o indicador é relativo a UF e causa de morte"
   ]
  },
  {
   "cell_type": "code",
   "execution_count": 48,
   "metadata": {
    "vscode": {
     "languageId": "ruby"
    }
   },
   "outputs": [
    {
     "name": "stdout",
     "output_type": "stream",
     "text": [
      "Registros da tabela : 47498\n",
      "Total de óbitos : 4293020\n",
      "+----+-------------+----------+---------------------+--------+---------------+---------------+------------+---------------+\n",
      "|    |   ANO_OBITO | uf_no    | causes_deaths       | Sexo   | Cor ou raça   |   pop_under74 |   CONTADOR |   mort_ind_uf |\n",
      "|----+-------------+----------+---------------------+--------+---------------+---------------+------------+---------------|\n",
      "|  0 |        2019 | Rondônia | Abscess of lung and | Homens | Branca        |        228640 |          1 |      0.437369 |\n",
      "|    |             |          | mediastinum         |        |               |               |            |               |\n",
      "|    |             |          | pyothorax           |        |               |               |            |               |\n",
      "|  1 |        2019 | Rondônia | Accidental Injuries | Homens | Branca        |        228640 |         47 |     20.5563   |\n",
      "|  2 |        2019 | Rondônia | Acute lower         | Homens | Branca        |        228640 |          1 |      0.437369 |\n",
      "|    |             |          | respiratory         |        |               |               |            |               |\n",
      "|    |             |          | infections          |        |               |               |            |               |\n",
      "|  3 |        2019 | Rondônia | Acute pancreatitis  | Homens | Branca        |        228640 |          3 |      1.31211  |\n",
      "|  4 |        2019 | Rondônia | Alcohol-specific    | Homens | Branca        |        228640 |         12 |      5.24843  |\n",
      "|    |             |          | disorders and       |        |               |               |            |               |\n",
      "|    |             |          | poisonings          |        |               |               |            |               |\n",
      "+----+-------------+----------+---------------------+--------+---------------+---------------+------------+---------------+\n"
     ]
    }
   ],
   "source": [
    "# Gerar o indicador de mortalidade (por 100 mil habitantes) e exibir as primeiras linhas do DataFrame\n",
    "heatds_temp01 = heatds_temp.copy()\n",
    "\n",
    "heatds_temp01['mort_ind_uf'] = (heatds_temp01['CONTADOR']/heatds_temp01['pop_under74'])*100000\n",
    "\n",
    "# mostrar dados gerais da tabela após transformações\n",
    "tab = heatds_temp01\n",
    "print(f'Registros da tabela : {tab.shape[0]}')\n",
    "print(f'Total de óbitos : {tab.CONTADOR.sum()}')\n",
    "print(tabulate(tab.head(), headers='keys', tablefmt='psql',maxcolwidths=20))"
   ]
  },
  {
   "cell_type": "code",
   "execution_count": 49,
   "metadata": {},
   "outputs": [
    {
     "name": "stdout",
     "output_type": "stream",
     "text": [
      "Número de valores infinitos em mort_ind_mun: 0\n",
      "Valores nulos em 'mort_ind_mun': 0\n"
     ]
    }
   ],
   "source": [
    "# Contar e gerar tabela de indicador de mortalidade infinitos [inf]\n",
    "registros_inf = heatds_temp01[np.isinf(heatds_temp01['mort_ind_uf'])]\n",
    "inf_count = np.isinf(heatds_temp01['mort_ind_uf']).sum()\n",
    "nulos_mort_ind_mun = heatds_temp01['mort_ind_uf'].isnull().sum()\n",
    "\n",
    "\n",
    "# Exibir os registros filtrados\n",
    "print(f\"Número de valores infinitos em mort_ind_mun: {inf_count}\")\n",
    "print(f\"Valores nulos em 'mort_ind_mun': {nulos_mort_ind_mun}\")\n",
    "\n",
    "\n",
    "\n",
    "# Exportar registros de indicador de mortalidade infinitos [inf]\n",
    "# registros_inf.to_csv('exportar/relatorio_reg_mort_ind_inf.csv')"
   ]
  },
  {
   "cell_type": "code",
   "execution_count": null,
   "metadata": {},
   "outputs": [],
   "source": [
    "# # Limpar a base de registros de indicador de mortalidade infinitos [inf]\n",
    "# heat_ds_treat2 = heat_ds_treat.copy()\n",
    "\n",
    "# # Substituir valores infinitos por NaN\n",
    "# heat_ds_treat2['mort_ind_mun'].replace([np.inf, -np.inf], np.nan, inplace=True)"
   ]
  },
  {
   "cell_type": "code",
   "execution_count": null,
   "metadata": {},
   "outputs": [],
   "source": [
    "# # Rodar se for necessário excluir valores nulos\n",
    "# heatds_temp02 = heatds_temp01.copy()\n",
    "\n",
    "# # Excluir registros com NaN na coluna mort_ind_mun\n",
    "# heatds_temp02.dropna(subset=['mort_ind_mun'], inplace=True)\n",
    "\n",
    "# # Mudar o nome da coluna mort_ind para mort_ind_mun\n",
    "# # heat_ds_treat2.rename(columns={'mort_ind':'mort_ind_mun'}, inplace=True)\n",
    "\n",
    "\n",
    "# # Verificar as primeiras linhas do DataFrame atualizado\n",
    "# heat_ds_treat1.head()"
   ]
  },
  {
   "cell_type": "code",
   "execution_count": 50,
   "metadata": {},
   "outputs": [
    {
     "data": {
      "text/html": [
       "<div>\n",
       "<style scoped>\n",
       "    .dataframe tbody tr th:only-of-type {\n",
       "        vertical-align: middle;\n",
       "    }\n",
       "\n",
       "    .dataframe tbody tr th {\n",
       "        vertical-align: top;\n",
       "    }\n",
       "\n",
       "    .dataframe thead th {\n",
       "        text-align: right;\n",
       "    }\n",
       "</style>\n",
       "<table border=\"1\" class=\"dataframe\">\n",
       "  <thead>\n",
       "    <tr style=\"text-align: right;\">\n",
       "      <th></th>\n",
       "      <th>pop_under74</th>\n",
       "      <th>CONTADOR</th>\n",
       "      <th>mort_ind_uf</th>\n",
       "    </tr>\n",
       "  </thead>\n",
       "  <tbody>\n",
       "    <tr>\n",
       "      <th>count</th>\n",
       "      <td>4.749800e+04</td>\n",
       "      <td>47498.000000</td>\n",
       "      <td>47498.000000</td>\n",
       "    </tr>\n",
       "    <tr>\n",
       "      <th>mean</th>\n",
       "      <td>1.264342e+06</td>\n",
       "      <td>90.383174</td>\n",
       "      <td>12.773144</td>\n",
       "    </tr>\n",
       "    <tr>\n",
       "      <th>std</th>\n",
       "      <td>1.904628e+06</td>\n",
       "      <td>672.551160</td>\n",
       "      <td>54.835053</td>\n",
       "    </tr>\n",
       "    <tr>\n",
       "      <th>min</th>\n",
       "      <td>3.390000e+02</td>\n",
       "      <td>1.000000</td>\n",
       "      <td>0.007602</td>\n",
       "    </tr>\n",
       "    <tr>\n",
       "      <th>25%</th>\n",
       "      <td>1.697760e+05</td>\n",
       "      <td>2.000000</td>\n",
       "      <td>0.467549</td>\n",
       "    </tr>\n",
       "    <tr>\n",
       "      <th>50%</th>\n",
       "      <td>6.289610e+05</td>\n",
       "      <td>6.000000</td>\n",
       "      <td>1.694513</td>\n",
       "    </tr>\n",
       "    <tr>\n",
       "      <th>75%</th>\n",
       "      <td>1.445480e+06</td>\n",
       "      <td>27.000000</td>\n",
       "      <td>7.913271</td>\n",
       "    </tr>\n",
       "    <tr>\n",
       "      <th>max</th>\n",
       "      <td>1.315425e+07</td>\n",
       "      <td>56500.000000</td>\n",
       "      <td>4424.778761</td>\n",
       "    </tr>\n",
       "  </tbody>\n",
       "</table>\n",
       "</div>"
      ],
      "text/plain": [
       "        pop_under74      CONTADOR   mort_ind_uf\n",
       "count  4.749800e+04  47498.000000  47498.000000\n",
       "mean   1.264342e+06     90.383174     12.773144\n",
       "std    1.904628e+06    672.551160     54.835053\n",
       "min    3.390000e+02      1.000000      0.007602\n",
       "25%    1.697760e+05      2.000000      0.467549\n",
       "50%    6.289610e+05      6.000000      1.694513\n",
       "75%    1.445480e+06     27.000000      7.913271\n",
       "max    1.315425e+07  56500.000000   4424.778761"
      ]
     },
     "execution_count": 50,
     "metadata": {},
     "output_type": "execute_result"
    }
   ],
   "source": [
    "# Verificar se existe valor infinito ou negativo na coluna mort_ind_mun\n",
    "heatds_temp01.describe()"
   ]
  },
  {
   "cell_type": "markdown",
   "metadata": {},
   "source": [
    "##### Agrupar por UF para gerar setting e setting-average\n",
    "\n",
    "De acordo com o template do HEAT, o setting average: \"must be consistent for the same combinantion of: setting, year, source and indicator\".\n",
    "\n",
    "Isto implica que os valores para cada setting (UF) não traz interferência nem da dimensão (município) e nem do subgrupo (sexo-raça-cor)."
   ]
  },
  {
   "cell_type": "code",
   "execution_count": null,
   "metadata": {
    "vscode": {
     "languageId": "ruby"
    }
   },
   "outputs": [],
   "source": [
    "# # Agrupar por 'UF', 'ANO', e calcular a média de 'mort_ind'\n",
    "# dobr_grouped_uf = heat_ds_treat2.groupby(['UF',\n",
    "#                                              'ANO_OBITO',\n",
    "#                                             #  'SEXO',\n",
    "#                                             #  'RACACOR'\n",
    "#                                              ]).agg({'CONTADOR': 'sum',\n",
    "#                                                     'pop_under74': 'sum',\n",
    "#                                                     'mort_ind_mun': 'mean'\n",
    "#                                                 }).reset_index()\n",
    "# dobr_grouped_uf.rename(columns={'mort_ind_mun': 'mort_ind_uf',\n",
    "#                                 'CONTADOR': 'obito_count_uf',\n",
    "#                                 'pop_under74': 'pop_under74_uf',\n",
    "#                                 }, inplace=True)\n",
    "\n",
    "\n",
    "# # Exibir as primeiras linhas do DataFrame resultante\n",
    "# dobr_grouped_uf.head()"
   ]
  },
  {
   "cell_type": "code",
   "execution_count": null,
   "metadata": {
    "vscode": {
     "languageId": "ruby"
    }
   },
   "outputs": [],
   "source": [
    "# dobr_grouped_uf.describe()"
   ]
  },
  {
   "cell_type": "code",
   "execution_count": null,
   "metadata": {
    "vscode": {
     "languageId": "ruby"
    }
   },
   "outputs": [],
   "source": [
    "# Salvar arquivo por UF para exportação\n",
    "# dobr_grouped_uf.to_excel('exportar/dobr_grouped_uf_v2.xlsx', index=False)"
   ]
  },
  {
   "cell_type": "code",
   "execution_count": null,
   "metadata": {
    "vscode": {
     "languageId": "ruby"
    }
   },
   "outputs": [],
   "source": [
    "# heat_ds_treat2.columns"
   ]
  },
  {
   "cell_type": "code",
   "execution_count": null,
   "metadata": {},
   "outputs": [],
   "source": [
    "# # Trazer dados por UF (setting e setting_average)\n",
    "\n",
    "# # Realizar o merge entre heat_ e uf_sett\n",
    "# heat_treat00 = pd.merge(heat_ds_treat2, dobr_grouped_uf, on=['UF',\n",
    "#                                                                 'ANO_OBITO',\n",
    "#                                                                 # 'SEXO',\n",
    "#                                                                 # 'RACACOR'\n",
    "#                                                                 ], how='left')\n",
    "\n",
    "# # Exibir as primeiras linhas do dataframe resultante\n",
    "# heat_treat00.head()"
   ]
  },
  {
   "cell_type": "code",
   "execution_count": null,
   "metadata": {},
   "outputs": [],
   "source": [
    "# # Teste de aplicação de setting_average (médias por UF)\n",
    "# filtered_data = heat_treat00[   (heat_treat00['ANO_OBITO'] == '_2022') &\n",
    "#                                 (heat_treat00['UF'] == 'AC') \n",
    "#                                 # & (heat_treat00['SEXO'] == '_1') &\n",
    "#                                 #(heat_treat00['RACACOR'] == '_4')\n",
    "#                               ]\n",
    "# filtered_data.head()"
   ]
  },
  {
   "cell_type": "code",
   "execution_count": null,
   "metadata": {},
   "outputs": [],
   "source": [
    "# heat_treat00.columns"
   ]
  },
  {
   "cell_type": "code",
   "execution_count": null,
   "metadata": {},
   "outputs": [],
   "source": [
    "# heat_treat00.pop_under74_uf.sum()"
   ]
  },
  {
   "cell_type": "code",
   "execution_count": null,
   "metadata": {},
   "outputs": [],
   "source": [
    "# obito_num = heat_treat00.CONTADOR.sum()\n",
    "# pop_under74 = heat_treat00.pop_under74.sum()\n",
    "\n",
    "# print(f\"\\033[33m ==> Número de mortes: {obito_num} \\033[0m\")\n",
    "# print(f\"\\033[33m ==> Número de população abaixo de 75 anos é de {pop_under74} \\033[0m\")  \n"
   ]
  },
  {
   "cell_type": "code",
   "execution_count": null,
   "metadata": {},
   "outputs": [],
   "source": [
    "# heat_template = row\n",
    "# heat_template"
   ]
  },
  {
   "cell_type": "markdown",
   "metadata": {},
   "source": [
    "##### Criar colunas do dataset"
   ]
  },
  {
   "cell_type": "markdown",
   "metadata": {},
   "source": [
    "##########       Etapa diferenciada da versão      ##########\n",
    "\n",
    "Esta etapa precisa bastante atenção.\n",
    "\n",
    "Se considerarmos causes_deaths como dimensão, ela precisa ser ignorada na criação so set-avg.\n",
    "\n",
    "Pelo contrário, se formos tratar causes_deaths como indicador, ele precisa ser considerado na criação do set-avg.\n",
    "\n",
    "Vamos realizar abaixo causes_deaths como indicador."
   ]
  },
  {
   "cell_type": "code",
   "execution_count": 51,
   "metadata": {},
   "outputs": [
    {
     "data": {
      "text/plain": [
       "Index(['ANO_OBITO', 'uf_no', 'causes_deaths', 'Sexo', 'Cor ou raça',\n",
       "       'pop_under74', 'CONTADOR', 'mort_ind_uf'],\n",
       "      dtype='object')"
      ]
     },
     "execution_count": 51,
     "metadata": {},
     "output_type": "execute_result"
    }
   ],
   "source": [
    "heatds_temp01.columns"
   ]
  },
  {
   "cell_type": "code",
   "execution_count": 53,
   "metadata": {},
   "outputs": [
    {
     "name": "stdout",
     "output_type": "stream",
     "text": [
      "    ANO_OBITO                              causes_deaths  set_avg_BR\n",
      "0        2010                           Abdominal hernia    0.435484\n",
      "1        2010  Abscess of lung and mediastinum pyothorax    0.303694\n",
      "2        2010                        Accidental Injuries    9.582480\n",
      "3        2010         Acute lower respiratory infections    0.228161\n",
      "4        2010                         Acute pancreatitis    1.178403\n",
      "..        ...                                        ...         ...\n",
      "393      2022               Upper respiratory infections    0.306096\n",
      "394      2022                                  Varicella    0.052776\n",
      "395      2022                     Venous thromboembolism    3.074914\n",
      "396      2022                            Viral Hepatitis    0.718961\n",
      "397      2022                         causa não evitável  171.615930\n",
      "\n",
      "[398 rows x 3 columns]\n"
     ]
    },
    {
     "name": "stderr",
     "output_type": "stream",
     "text": [
      "/tmp/ipykernel_2983/606829036.py:8: DeprecationWarning: DataFrameGroupBy.apply operated on the grouping columns. This behavior is deprecated, and in a future version of pandas the grouping columns will be excluded from the operation. Either pass `include_groups=False` to exclude the groupings or explicitly select the grouping columns after groupby to silence this warning.\n",
      "  weighted_avg_per_year = heatds_temp01.groupby(['ANO_OBITO','causes_deaths']).apply(weighted_avg).reset_index()\n"
     ]
    }
   ],
   "source": [
    "# Na média ponderada de mortalidade evitável, pegamos os valores de mortalidade para cada município e dividimos pela população, para conseguir o valor para o Brasil e por ano\n",
    "\n",
    "# Função para calcular a média ponderada\n",
    "def weighted_avg(group):\n",
    "    return np.average(group['mort_ind_uf'], weights=group['pop_under74'])\n",
    "\n",
    "# Agrupar os dados pelo ano e aplicar a função de média ponderada\n",
    "weighted_avg_per_year = heatds_temp01.groupby(['ANO_OBITO','causes_deaths']).apply(weighted_avg).reset_index()\n",
    "\n",
    "# Renomear as colunas para melhor entendimento\n",
    "weighted_avg_per_year.columns = ['ANO_OBITO','causes_deaths','set_avg_BR']\n",
    "\n",
    "# Exibir o resultado\n",
    "print(weighted_avg_per_year)"
   ]
  },
  {
   "cell_type": "code",
   "execution_count": 54,
   "metadata": {},
   "outputs": [
    {
     "name": "stdout",
     "output_type": "stream",
     "text": [
      "Registros da tabela : 47498\n",
      "Total de óbitos : 4293020\n"
     ]
    },
    {
     "data": {
      "text/html": [
       "<div>\n",
       "<style scoped>\n",
       "    .dataframe tbody tr th:only-of-type {\n",
       "        vertical-align: middle;\n",
       "    }\n",
       "\n",
       "    .dataframe tbody tr th {\n",
       "        vertical-align: top;\n",
       "    }\n",
       "\n",
       "    .dataframe thead th {\n",
       "        text-align: right;\n",
       "    }\n",
       "</style>\n",
       "<table border=\"1\" class=\"dataframe\">\n",
       "  <thead>\n",
       "    <tr style=\"text-align: right;\">\n",
       "      <th></th>\n",
       "      <th>ANO_OBITO</th>\n",
       "      <th>uf_no</th>\n",
       "      <th>causes_deaths</th>\n",
       "      <th>Sexo</th>\n",
       "      <th>Cor ou raça</th>\n",
       "      <th>pop_under74</th>\n",
       "      <th>CONTADOR</th>\n",
       "      <th>mort_ind_uf</th>\n",
       "      <th>set_avg_BR</th>\n",
       "    </tr>\n",
       "  </thead>\n",
       "  <tbody>\n",
       "    <tr>\n",
       "      <th>0</th>\n",
       "      <td>2019</td>\n",
       "      <td>Rondônia</td>\n",
       "      <td>Abscess of lung and mediastinum pyothorax</td>\n",
       "      <td>Homens</td>\n",
       "      <td>Branca</td>\n",
       "      <td>228640</td>\n",
       "      <td>1</td>\n",
       "      <td>0.437369</td>\n",
       "      <td>0.319505</td>\n",
       "    </tr>\n",
       "    <tr>\n",
       "      <th>1</th>\n",
       "      <td>2019</td>\n",
       "      <td>Rondônia</td>\n",
       "      <td>Accidental Injuries</td>\n",
       "      <td>Homens</td>\n",
       "      <td>Branca</td>\n",
       "      <td>228640</td>\n",
       "      <td>47</td>\n",
       "      <td>20.556333</td>\n",
       "      <td>9.804835</td>\n",
       "    </tr>\n",
       "    <tr>\n",
       "      <th>2</th>\n",
       "      <td>2019</td>\n",
       "      <td>Rondônia</td>\n",
       "      <td>Acute lower respiratory infections</td>\n",
       "      <td>Homens</td>\n",
       "      <td>Branca</td>\n",
       "      <td>228640</td>\n",
       "      <td>1</td>\n",
       "      <td>0.437369</td>\n",
       "      <td>0.337507</td>\n",
       "    </tr>\n",
       "    <tr>\n",
       "      <th>3</th>\n",
       "      <td>2019</td>\n",
       "      <td>Rondônia</td>\n",
       "      <td>Acute pancreatitis</td>\n",
       "      <td>Homens</td>\n",
       "      <td>Branca</td>\n",
       "      <td>228640</td>\n",
       "      <td>3</td>\n",
       "      <td>1.312106</td>\n",
       "      <td>1.215954</td>\n",
       "    </tr>\n",
       "    <tr>\n",
       "      <th>4</th>\n",
       "      <td>2019</td>\n",
       "      <td>Rondônia</td>\n",
       "      <td>Alcohol-specific disorders and poisonings</td>\n",
       "      <td>Homens</td>\n",
       "      <td>Branca</td>\n",
       "      <td>228640</td>\n",
       "      <td>12</td>\n",
       "      <td>5.248425</td>\n",
       "      <td>8.368542</td>\n",
       "    </tr>\n",
       "  </tbody>\n",
       "</table>\n",
       "</div>"
      ],
      "text/plain": [
       "  ANO_OBITO     uf_no                              causes_deaths    Sexo  \\\n",
       "0      2019  Rondônia  Abscess of lung and mediastinum pyothorax  Homens   \n",
       "1      2019  Rondônia                        Accidental Injuries  Homens   \n",
       "2      2019  Rondônia         Acute lower respiratory infections  Homens   \n",
       "3      2019  Rondônia                         Acute pancreatitis  Homens   \n",
       "4      2019  Rondônia  Alcohol-specific disorders and poisonings  Homens   \n",
       "\n",
       "  Cor ou raça  pop_under74  CONTADOR  mort_ind_uf  set_avg_BR  \n",
       "0      Branca       228640         1     0.437369    0.319505  \n",
       "1      Branca       228640        47    20.556333    9.804835  \n",
       "2      Branca       228640         1     0.437369    0.337507  \n",
       "3      Branca       228640         3     1.312106    1.215954  \n",
       "4      Branca       228640        12     5.248425    8.368542  "
      ]
     },
     "execution_count": 54,
     "metadata": {},
     "output_type": "execute_result"
    }
   ],
   "source": [
    "# Realizar o merge entre heat_ds_treat2 e grouped_data usando a coluna ANO_OBITO\n",
    "heatds_temp02 = pd.merge(heatds_temp01, weighted_avg_per_year, on=['ANO_OBITO','causes_deaths'], how='left')\n",
    "\n",
    "# mostrar dados gerais da tabela após transformações\n",
    "tab = heatds_temp02\n",
    "print(f'Registros da tabela : {tab.shape[0]}')\n",
    "print(f'Total de óbitos : {tab.CONTADOR.sum()}')\n",
    "tab.head()\n",
    "# print(tabulate(tab.head(), headers='keys', tablefmt='psql'))"
   ]
  },
  {
   "cell_type": "markdown",
   "metadata": {},
   "source": [
    "##########       Etapa diferenciada da versão      ##########\n",
    "\n",
    "Para esta versão\n",
    "* set = Brasil\n",
    "* indicador = causes_deaths\n",
    "* dimen = UF\n",
    "* subgroup = Sexo & Cor ou raça\n",
    "* estimate = mortalidade por ano, causa (indicador) e subgroup\n",
    "* set-avg = mortalidade por ano e causa (indicador)"
   ]
  },
  {
   "cell_type": "code",
   "execution_count": 55,
   "metadata": {},
   "outputs": [
    {
     "data": {
      "text/html": [
       "<div>\n",
       "<style scoped>\n",
       "    .dataframe tbody tr th:only-of-type {\n",
       "        vertical-align: middle;\n",
       "    }\n",
       "\n",
       "    .dataframe tbody tr th {\n",
       "        vertical-align: top;\n",
       "    }\n",
       "\n",
       "    .dataframe thead th {\n",
       "        text-align: right;\n",
       "    }\n",
       "</style>\n",
       "<table border=\"1\" class=\"dataframe\">\n",
       "  <thead>\n",
       "    <tr style=\"text-align: right;\">\n",
       "      <th></th>\n",
       "      <th>causes_deaths</th>\n",
       "      <th>indicator_abbr</th>\n",
       "    </tr>\n",
       "  </thead>\n",
       "  <tbody>\n",
       "    <tr>\n",
       "      <th>0</th>\n",
       "      <td>Abdominal hernia</td>\n",
       "      <td>Abdom</td>\n",
       "    </tr>\n",
       "    <tr>\n",
       "      <th>1</th>\n",
       "      <td>Abscess of lung and mediastinum pyothorax</td>\n",
       "      <td>Absce</td>\n",
       "    </tr>\n",
       "    <tr>\n",
       "      <th>2</th>\n",
       "      <td>Accidental Injuries</td>\n",
       "      <td>Accid</td>\n",
       "    </tr>\n",
       "    <tr>\n",
       "      <th>3</th>\n",
       "      <td>Acute lower respiratory infections</td>\n",
       "      <td>Acute</td>\n",
       "    </tr>\n",
       "    <tr>\n",
       "      <th>4</th>\n",
       "      <td>Acute pancreatitis</td>\n",
       "      <td>Acute1</td>\n",
       "    </tr>\n",
       "    <tr>\n",
       "      <th>...</th>\n",
       "      <td>...</td>\n",
       "      <td>...</td>\n",
       "    </tr>\n",
       "    <tr>\n",
       "      <th>76</th>\n",
       "      <td>Varicella</td>\n",
       "      <td>Varic</td>\n",
       "    </tr>\n",
       "    <tr>\n",
       "      <th>77</th>\n",
       "      <td>Venous thromboembolism</td>\n",
       "      <td>Venou</td>\n",
       "    </tr>\n",
       "    <tr>\n",
       "      <th>78</th>\n",
       "      <td>Viral Hepatitis</td>\n",
       "      <td>Viral</td>\n",
       "    </tr>\n",
       "    <tr>\n",
       "      <th>79</th>\n",
       "      <td>Whooping cough</td>\n",
       "      <td>Whoop</td>\n",
       "    </tr>\n",
       "    <tr>\n",
       "      <th>80</th>\n",
       "      <td>causa não evitável</td>\n",
       "      <td>causa</td>\n",
       "    </tr>\n",
       "  </tbody>\n",
       "</table>\n",
       "<p>81 rows × 2 columns</p>\n",
       "</div>"
      ],
      "text/plain": [
       "                                causes_deaths indicator_abbr\n",
       "0                            Abdominal hernia          Abdom\n",
       "1   Abscess of lung and mediastinum pyothorax          Absce\n",
       "2                         Accidental Injuries          Accid\n",
       "3          Acute lower respiratory infections          Acute\n",
       "4                          Acute pancreatitis         Acute1\n",
       "..                                        ...            ...\n",
       "76                                  Varicella          Varic\n",
       "77                     Venous thromboembolism          Venou\n",
       "78                            Viral Hepatitis          Viral\n",
       "79                             Whooping cough          Whoop\n",
       "80                         causa não evitável          causa\n",
       "\n",
       "[81 rows x 2 columns]"
      ]
     },
     "execution_count": 55,
     "metadata": {},
     "output_type": "execute_result"
    }
   ],
   "source": [
    "# Etapas para gerar indicator_abbr exclusivos\n",
    "\n",
    "# Etapa 1 - Gerar uma tabela apenas com valores exclusivos de heatds_temp02.causes_deaths, em ordem crescente\n",
    "unique_causes_deaths = heatds_temp02[['causes_deaths']].drop_duplicates().sort_values(by='causes_deaths').reset_index(drop=True)\n",
    "\n",
    "# Etapa 2 - Criar coluna indicator_abbr com os primeiros 5 caracteres de causes_deaths\n",
    "unique_causes_deaths['indicator_abbr'] = unique_causes_deaths['causes_deaths'].str[:5]\n",
    "\n",
    "# Etapa 3 - Para aqueles indicator_abbr que tiverem o mesmo nome, gerar sufixo incremental a partir de 1\n",
    "unique_causes_deaths['indicator_abbr'] = unique_causes_deaths.groupby('indicator_abbr').cumcount().astype(str).radd(unique_causes_deaths['indicator_abbr'])\n",
    "\n",
    "# Etapa 3.1 - excluir valores que terminam com 0\n",
    "unique_causes_deaths['indicator_abbr'] = unique_causes_deaths['indicator_abbr'].str.replace('0', '')\n",
    "\n",
    "# Exibir a tabela resultante\n",
    "unique_causes_deaths"
   ]
  },
  {
   "cell_type": "code",
   "execution_count": 56,
   "metadata": {},
   "outputs": [
    {
     "name": "stdout",
     "output_type": "stream",
     "text": [
      "Registros da tabela : 47498\n",
      "Total de óbitos : 4293020\n"
     ]
    },
    {
     "data": {
      "text/html": [
       "<div>\n",
       "<style scoped>\n",
       "    .dataframe tbody tr th:only-of-type {\n",
       "        vertical-align: middle;\n",
       "    }\n",
       "\n",
       "    .dataframe tbody tr th {\n",
       "        vertical-align: top;\n",
       "    }\n",
       "\n",
       "    .dataframe thead th {\n",
       "        text-align: right;\n",
       "    }\n",
       "</style>\n",
       "<table border=\"1\" class=\"dataframe\">\n",
       "  <thead>\n",
       "    <tr style=\"text-align: right;\">\n",
       "      <th></th>\n",
       "      <th>ANO_OBITO</th>\n",
       "      <th>uf_no</th>\n",
       "      <th>causes_deaths</th>\n",
       "      <th>Sexo</th>\n",
       "      <th>Cor ou raça</th>\n",
       "      <th>pop_under74</th>\n",
       "      <th>CONTADOR</th>\n",
       "      <th>mort_ind_uf</th>\n",
       "      <th>set_avg_BR</th>\n",
       "      <th>indicator_abbr</th>\n",
       "    </tr>\n",
       "  </thead>\n",
       "  <tbody>\n",
       "    <tr>\n",
       "      <th>0</th>\n",
       "      <td>2019</td>\n",
       "      <td>Rondônia</td>\n",
       "      <td>Abscess of lung and mediastinum pyothorax</td>\n",
       "      <td>Homens</td>\n",
       "      <td>Branca</td>\n",
       "      <td>228640</td>\n",
       "      <td>1</td>\n",
       "      <td>0.437369</td>\n",
       "      <td>0.319505</td>\n",
       "      <td>Absce</td>\n",
       "    </tr>\n",
       "    <tr>\n",
       "      <th>1</th>\n",
       "      <td>2019</td>\n",
       "      <td>Rondônia</td>\n",
       "      <td>Accidental Injuries</td>\n",
       "      <td>Homens</td>\n",
       "      <td>Branca</td>\n",
       "      <td>228640</td>\n",
       "      <td>47</td>\n",
       "      <td>20.556333</td>\n",
       "      <td>9.804835</td>\n",
       "      <td>Accid</td>\n",
       "    </tr>\n",
       "    <tr>\n",
       "      <th>2</th>\n",
       "      <td>2019</td>\n",
       "      <td>Rondônia</td>\n",
       "      <td>Acute lower respiratory infections</td>\n",
       "      <td>Homens</td>\n",
       "      <td>Branca</td>\n",
       "      <td>228640</td>\n",
       "      <td>1</td>\n",
       "      <td>0.437369</td>\n",
       "      <td>0.337507</td>\n",
       "      <td>Acute</td>\n",
       "    </tr>\n",
       "    <tr>\n",
       "      <th>3</th>\n",
       "      <td>2019</td>\n",
       "      <td>Rondônia</td>\n",
       "      <td>Acute pancreatitis</td>\n",
       "      <td>Homens</td>\n",
       "      <td>Branca</td>\n",
       "      <td>228640</td>\n",
       "      <td>3</td>\n",
       "      <td>1.312106</td>\n",
       "      <td>1.215954</td>\n",
       "      <td>Acute1</td>\n",
       "    </tr>\n",
       "    <tr>\n",
       "      <th>4</th>\n",
       "      <td>2019</td>\n",
       "      <td>Rondônia</td>\n",
       "      <td>Alcohol-specific disorders and poisonings</td>\n",
       "      <td>Homens</td>\n",
       "      <td>Branca</td>\n",
       "      <td>228640</td>\n",
       "      <td>12</td>\n",
       "      <td>5.248425</td>\n",
       "      <td>8.368542</td>\n",
       "      <td>Alcoh</td>\n",
       "    </tr>\n",
       "  </tbody>\n",
       "</table>\n",
       "</div>"
      ],
      "text/plain": [
       "  ANO_OBITO     uf_no                              causes_deaths    Sexo  \\\n",
       "0      2019  Rondônia  Abscess of lung and mediastinum pyothorax  Homens   \n",
       "1      2019  Rondônia                        Accidental Injuries  Homens   \n",
       "2      2019  Rondônia         Acute lower respiratory infections  Homens   \n",
       "3      2019  Rondônia                         Acute pancreatitis  Homens   \n",
       "4      2019  Rondônia  Alcohol-specific disorders and poisonings  Homens   \n",
       "\n",
       "  Cor ou raça  pop_under74  CONTADOR  mort_ind_uf  set_avg_BR indicator_abbr  \n",
       "0      Branca       228640         1     0.437369    0.319505          Absce  \n",
       "1      Branca       228640        47    20.556333    9.804835          Accid  \n",
       "2      Branca       228640         1     0.437369    0.337507          Acute  \n",
       "3      Branca       228640         3     1.312106    1.215954         Acute1  \n",
       "4      Branca       228640        12     5.248425    8.368542          Alcoh  "
      ]
     },
     "execution_count": 56,
     "metadata": {},
     "output_type": "execute_result"
    }
   ],
   "source": [
    "# Fazer merge com informações de indicator_abbr exclusivos\n",
    "heatds_temp03 = pd.merge(heatds_temp02,unique_causes_deaths,on='causes_deaths', how='left')\n",
    "\n",
    "# mostrar dados gerais da tabela após transformações\n",
    "tab = heatds_temp03\n",
    "print(f'Registros da tabela : {tab.shape[0]}')\n",
    "print(f'Total de óbitos : {tab.CONTADOR.sum()}')\n",
    "# print(tabulate(tab.head(), headers='keys', tablefmt='psql'))\n",
    "tab.head()"
   ]
  },
  {
   "cell_type": "code",
   "execution_count": 59,
   "metadata": {},
   "outputs": [
    {
     "name": "stdout",
     "output_type": "stream",
     "text": [
      "Registros da tabela : 47498\n",
      "Total de óbitos : 4293020\n"
     ]
    },
    {
     "data": {
      "text/html": [
       "<div>\n",
       "<style scoped>\n",
       "    .dataframe tbody tr th:only-of-type {\n",
       "        vertical-align: middle;\n",
       "    }\n",
       "\n",
       "    .dataframe tbody tr th {\n",
       "        vertical-align: top;\n",
       "    }\n",
       "\n",
       "    .dataframe thead th {\n",
       "        text-align: right;\n",
       "    }\n",
       "</style>\n",
       "<table border=\"1\" class=\"dataframe\">\n",
       "  <thead>\n",
       "    <tr style=\"text-align: right;\">\n",
       "      <th></th>\n",
       "      <th>date</th>\n",
       "      <th>dimension</th>\n",
       "      <th>causes_deaths</th>\n",
       "      <th>Sexo</th>\n",
       "      <th>Cor ou raça</th>\n",
       "      <th>population</th>\n",
       "      <th>CONTADOR</th>\n",
       "      <th>estimate</th>\n",
       "      <th>setting_average</th>\n",
       "      <th>indicator_abbr</th>\n",
       "      <th>...</th>\n",
       "      <th>favourable_indicator</th>\n",
       "      <th>indicator_scale</th>\n",
       "      <th>ordered_dimension</th>\n",
       "      <th>subgroup_order</th>\n",
       "      <th>reference_subgroup</th>\n",
       "      <th>note</th>\n",
       "      <th>se</th>\n",
       "      <th>ci_lb</th>\n",
       "      <th>ci_ub</th>\n",
       "      <th>iso3</th>\n",
       "    </tr>\n",
       "  </thead>\n",
       "  <tbody>\n",
       "    <tr>\n",
       "      <th>0</th>\n",
       "      <td>2019</td>\n",
       "      <td>Rondônia</td>\n",
       "      <td>Abscess of lung and mediastinum pyothorax</td>\n",
       "      <td>Homens</td>\n",
       "      <td>Branca</td>\n",
       "      <td>228640</td>\n",
       "      <td>1</td>\n",
       "      <td>0.437369</td>\n",
       "      <td>0.319505</td>\n",
       "      <td>Absce</td>\n",
       "      <td>...</td>\n",
       "      <td>0</td>\n",
       "      <td>100000</td>\n",
       "      <td>0</td>\n",
       "      <td>0</td>\n",
       "      <td>0</td>\n",
       "      <td></td>\n",
       "      <td></td>\n",
       "      <td></td>\n",
       "      <td></td>\n",
       "      <td>BRA</td>\n",
       "    </tr>\n",
       "    <tr>\n",
       "      <th>1</th>\n",
       "      <td>2019</td>\n",
       "      <td>Rondônia</td>\n",
       "      <td>Accidental Injuries</td>\n",
       "      <td>Homens</td>\n",
       "      <td>Branca</td>\n",
       "      <td>228640</td>\n",
       "      <td>47</td>\n",
       "      <td>20.556333</td>\n",
       "      <td>9.804835</td>\n",
       "      <td>Accid</td>\n",
       "      <td>...</td>\n",
       "      <td>0</td>\n",
       "      <td>100000</td>\n",
       "      <td>0</td>\n",
       "      <td>0</td>\n",
       "      <td>0</td>\n",
       "      <td></td>\n",
       "      <td></td>\n",
       "      <td></td>\n",
       "      <td></td>\n",
       "      <td>BRA</td>\n",
       "    </tr>\n",
       "    <tr>\n",
       "      <th>2</th>\n",
       "      <td>2019</td>\n",
       "      <td>Rondônia</td>\n",
       "      <td>Acute lower respiratory infections</td>\n",
       "      <td>Homens</td>\n",
       "      <td>Branca</td>\n",
       "      <td>228640</td>\n",
       "      <td>1</td>\n",
       "      <td>0.437369</td>\n",
       "      <td>0.337507</td>\n",
       "      <td>Acute</td>\n",
       "      <td>...</td>\n",
       "      <td>0</td>\n",
       "      <td>100000</td>\n",
       "      <td>0</td>\n",
       "      <td>0</td>\n",
       "      <td>0</td>\n",
       "      <td></td>\n",
       "      <td></td>\n",
       "      <td></td>\n",
       "      <td></td>\n",
       "      <td>BRA</td>\n",
       "    </tr>\n",
       "    <tr>\n",
       "      <th>3</th>\n",
       "      <td>2019</td>\n",
       "      <td>Rondônia</td>\n",
       "      <td>Acute pancreatitis</td>\n",
       "      <td>Homens</td>\n",
       "      <td>Branca</td>\n",
       "      <td>228640</td>\n",
       "      <td>3</td>\n",
       "      <td>1.312106</td>\n",
       "      <td>1.215954</td>\n",
       "      <td>Acute1</td>\n",
       "      <td>...</td>\n",
       "      <td>0</td>\n",
       "      <td>100000</td>\n",
       "      <td>0</td>\n",
       "      <td>0</td>\n",
       "      <td>0</td>\n",
       "      <td></td>\n",
       "      <td></td>\n",
       "      <td></td>\n",
       "      <td></td>\n",
       "      <td>BRA</td>\n",
       "    </tr>\n",
       "    <tr>\n",
       "      <th>4</th>\n",
       "      <td>2019</td>\n",
       "      <td>Rondônia</td>\n",
       "      <td>Alcohol-specific disorders and poisonings</td>\n",
       "      <td>Homens</td>\n",
       "      <td>Branca</td>\n",
       "      <td>228640</td>\n",
       "      <td>12</td>\n",
       "      <td>5.248425</td>\n",
       "      <td>8.368542</td>\n",
       "      <td>Alcoh</td>\n",
       "      <td>...</td>\n",
       "      <td>0</td>\n",
       "      <td>100000</td>\n",
       "      <td>0</td>\n",
       "      <td>0</td>\n",
       "      <td>0</td>\n",
       "      <td></td>\n",
       "      <td></td>\n",
       "      <td></td>\n",
       "      <td></td>\n",
       "      <td>BRA</td>\n",
       "    </tr>\n",
       "  </tbody>\n",
       "</table>\n",
       "<p>5 rows × 24 columns</p>\n",
       "</div>"
      ],
      "text/plain": [
       "   date dimension                              causes_deaths    Sexo  \\\n",
       "0  2019  Rondônia  Abscess of lung and mediastinum pyothorax  Homens   \n",
       "1  2019  Rondônia                        Accidental Injuries  Homens   \n",
       "2  2019  Rondônia         Acute lower respiratory infections  Homens   \n",
       "3  2019  Rondônia                         Acute pancreatitis  Homens   \n",
       "4  2019  Rondônia  Alcohol-specific disorders and poisonings  Homens   \n",
       "\n",
       "  Cor ou raça  population  CONTADOR   estimate  setting_average  \\\n",
       "0      Branca      228640         1   0.437369         0.319505   \n",
       "1      Branca      228640        47  20.556333         9.804835   \n",
       "2      Branca      228640         1   0.437369         0.337507   \n",
       "3      Branca      228640         3   1.312106         1.215954   \n",
       "4      Branca      228640        12   5.248425         8.368542   \n",
       "\n",
       "  indicator_abbr  ... favourable_indicator indicator_scale ordered_dimension  \\\n",
       "0          Absce  ...                    0          100000                 0   \n",
       "1          Accid  ...                    0          100000                 0   \n",
       "2          Acute  ...                    0          100000                 0   \n",
       "3         Acute1  ...                    0          100000                 0   \n",
       "4          Alcoh  ...                    0          100000                 0   \n",
       "\n",
       "  subgroup_order  reference_subgroup  note  se  ci_lb  ci_ub iso3  \n",
       "0              0                   0                          BRA  \n",
       "1              0                   0                          BRA  \n",
       "2              0                   0                          BRA  \n",
       "3              0                   0                          BRA  \n",
       "4              0                   0                          BRA  \n",
       "\n",
       "[5 rows x 24 columns]"
      ]
     },
     "execution_count": 59,
     "metadata": {},
     "output_type": "execute_result"
    }
   ],
   "source": [
    "# Gerar colunas sem informação ou com informação padronizada\n",
    "\n",
    "# heat_treat01 = heat_semCID_clean # caso não seja agrupado por UF anteriormente\n",
    "heatds_temp04 = heatds_temp03.copy() # caso seja agrupado por UF anteriormente\n",
    "\n",
    "heatds_temp04['setting'] = 'Brasil'\n",
    "# heat_treat01['setting_average'] = set_avg_BR\n",
    "\n",
    "# heatds_temp03['indicator_abbr'] = 'AVM'\n",
    "# heatds_temp03['indicator_abbr'] = heatds_temp03['causes_deaths'].str.slice(0, 5)\n",
    "# heatds_temp03['indicator_name'] = 'Avoidable mortality (deaths per 100 000 population)'\n",
    "heatds_temp04['indicator_name'] = heatds_temp04['causes_deaths'] + '(deaths per 100 000 population)'\n",
    "\n",
    "heatds_temp04['subgroup'] = heatds_temp04['Sexo'] + ' - cor/raça ' + heatds_temp04['Cor ou raça']\n",
    "heatds_temp04['source'] = 'SIM/SUS & Censo/IBGE'\n",
    "heatds_temp04['favourable_indicator'] = 0\n",
    "heatds_temp04['indicator_scale'] = 100000\n",
    "heatds_temp04['ordered_dimension'] = 0\n",
    "heatds_temp04['subgroup_order'] = 0\n",
    "heatds_temp04['reference_subgroup'] = 0\n",
    "heatds_temp04['note'] = ''\n",
    "heatds_temp04['se'] = ''\n",
    "heatds_temp04['ci_lb'] = ''\n",
    "heatds_temp04['ci_ub'] = ''\n",
    "heatds_temp04['iso3'] = 'BRA'\n",
    "\n",
    "# Renomear colunas de heat_treat01\n",
    "heatds_temp04 = heatds_temp04.rename(columns={\n",
    "    'ANO_OBITO':'date',\n",
    "    'pop_under74':'population',\n",
    "    'uf_no':'dimension',\n",
    "    # 'mun_no':'subgroup',\n",
    "    # 'mort_ind_mun':'estimate',\n",
    "    'mort_ind_uf':'estimate',\n",
    "    'set_avg_BR':'setting_average',\n",
    "    # 'mort_ind_uf':'setting_average'\n",
    "})\n",
    "\n",
    "# Ajustar coluna de ano\n",
    "heatds_temp04['date'] = heatds_temp04['date'].str.replace('_','').astype(int)\n",
    "\n",
    "\n",
    "# mostrar dados gerais da tabela após transformações\n",
    "tab = heatds_temp04\n",
    "print(f'Registros da tabela : {tab.shape[0]}')\n",
    "print(f'Total de óbitos : {tab.CONTADOR.sum()}')\n",
    "# print(tabulate(tab.head(), headers='keys', tablefmt='psql'))\n",
    "tab.head()\n"
   ]
  },
  {
   "cell_type": "code",
   "execution_count": 285,
   "metadata": {},
   "outputs": [],
   "source": [
    "# # Trazer labels para sexo e raçacor\n",
    "# heat_treat02 = heat_treat01.copy()\n",
    "\n",
    "# heat_treat02['SEXO'] = heat_treat02['SEXO'].map({\n",
    "#                                             '_1':'Homens',\n",
    "#                                             '_2':'Mulheres'\n",
    "#                                             })\n",
    "# heat_treat02['RACACOR'] = heat_treat02['RACACOR'].map({\n",
    "#                                             '_1':'Branca',\n",
    "#                                             '_2':'Preta',\n",
    "#                                             '_3':'Amarela',\n",
    "#                                             '_4':'Parda',\n",
    "#                                             '_5':'Indígena',\n",
    "#                                             '_9':'Sem declaração'\n",
    "#                                             })\n",
    "\n",
    "# heat_treat02['subgroup'] = heat_treat02['SEXO'] + ' - raça/cor '  +  heat_treat02['RACACOR']\n"
   ]
  },
  {
   "cell_type": "code",
   "execution_count": null,
   "metadata": {},
   "outputs": [],
   "source": [
    "# heat_treat02['subgroup'].unique()"
   ]
  },
  {
   "cell_type": "code",
   "execution_count": null,
   "metadata": {},
   "outputs": [],
   "source": [
    "# heat_treat02.columns"
   ]
  },
  {
   "cell_type": "code",
   "execution_count": 60,
   "metadata": {},
   "outputs": [],
   "source": [
    "# Define the order of columns\n",
    "column_order = [\n",
    "    'setting',\n",
    "    'date',\n",
    "    'source',\n",
    "    'indicator_abbr',\n",
    "    'indicator_name',\n",
    "    'dimension',\n",
    "    'subgroup',\n",
    "    'estimate',\n",
    "    'se',\n",
    "    'ci_lb',\n",
    "    'ci_ub',\n",
    "    'population',\n",
    "    'note',\n",
    "    'setting_average',\n",
    "    'iso3',\n",
    "    'favourable_indicator',\n",
    "    'indicator_scale',\n",
    "    'ordered_dimension',\n",
    "    'subgroup_order',\n",
    "    'reference_subgroup'\n",
    "    ]  \n",
    "\n",
    "\n",
    "# Reorder the columns in the DataFrame\n",
    "heatds_temp05 = heatds_temp04[column_order]\n"
   ]
  },
  {
   "cell_type": "code",
   "execution_count": 61,
   "metadata": {},
   "outputs": [
    {
     "name": "stdout",
     "output_type": "stream",
     "text": [
      "Registros da tabela : 47498\n"
     ]
    },
    {
     "data": {
      "text/html": [
       "<div>\n",
       "<style scoped>\n",
       "    .dataframe tbody tr th:only-of-type {\n",
       "        vertical-align: middle;\n",
       "    }\n",
       "\n",
       "    .dataframe tbody tr th {\n",
       "        vertical-align: top;\n",
       "    }\n",
       "\n",
       "    .dataframe thead th {\n",
       "        text-align: right;\n",
       "    }\n",
       "</style>\n",
       "<table border=\"1\" class=\"dataframe\">\n",
       "  <thead>\n",
       "    <tr style=\"text-align: right;\">\n",
       "      <th></th>\n",
       "      <th>setting</th>\n",
       "      <th>date</th>\n",
       "      <th>source</th>\n",
       "      <th>indicator_abbr</th>\n",
       "      <th>indicator_name</th>\n",
       "      <th>dimension</th>\n",
       "      <th>subgroup</th>\n",
       "      <th>estimate</th>\n",
       "      <th>se</th>\n",
       "      <th>ci_lb</th>\n",
       "      <th>ci_ub</th>\n",
       "      <th>population</th>\n",
       "      <th>note</th>\n",
       "      <th>setting_average</th>\n",
       "      <th>iso3</th>\n",
       "      <th>favourable_indicator</th>\n",
       "      <th>indicator_scale</th>\n",
       "      <th>ordered_dimension</th>\n",
       "      <th>subgroup_order</th>\n",
       "      <th>reference_subgroup</th>\n",
       "    </tr>\n",
       "  </thead>\n",
       "  <tbody>\n",
       "    <tr>\n",
       "      <th>0</th>\n",
       "      <td>Brasil</td>\n",
       "      <td>2019</td>\n",
       "      <td>SIM/SUS &amp; Censo/IBGE</td>\n",
       "      <td>Absce</td>\n",
       "      <td>Abscess of lung and mediastinum pyothorax(deat...</td>\n",
       "      <td>Rondônia</td>\n",
       "      <td>Homens - cor/raça Branca</td>\n",
       "      <td>0</td>\n",
       "      <td></td>\n",
       "      <td></td>\n",
       "      <td></td>\n",
       "      <td>228640</td>\n",
       "      <td></td>\n",
       "      <td>0</td>\n",
       "      <td>BRA</td>\n",
       "      <td>0</td>\n",
       "      <td>100000</td>\n",
       "      <td>0</td>\n",
       "      <td>0</td>\n",
       "      <td>0</td>\n",
       "    </tr>\n",
       "    <tr>\n",
       "      <th>1</th>\n",
       "      <td>Brasil</td>\n",
       "      <td>2019</td>\n",
       "      <td>SIM/SUS &amp; Censo/IBGE</td>\n",
       "      <td>Accid</td>\n",
       "      <td>Accidental Injuries(deaths per 100 000 populat...</td>\n",
       "      <td>Rondônia</td>\n",
       "      <td>Homens - cor/raça Branca</td>\n",
       "      <td>20</td>\n",
       "      <td></td>\n",
       "      <td></td>\n",
       "      <td></td>\n",
       "      <td>228640</td>\n",
       "      <td></td>\n",
       "      <td>9</td>\n",
       "      <td>BRA</td>\n",
       "      <td>0</td>\n",
       "      <td>100000</td>\n",
       "      <td>0</td>\n",
       "      <td>0</td>\n",
       "      <td>0</td>\n",
       "    </tr>\n",
       "    <tr>\n",
       "      <th>2</th>\n",
       "      <td>Brasil</td>\n",
       "      <td>2019</td>\n",
       "      <td>SIM/SUS &amp; Censo/IBGE</td>\n",
       "      <td>Acute</td>\n",
       "      <td>Acute lower respiratory infections(deaths per ...</td>\n",
       "      <td>Rondônia</td>\n",
       "      <td>Homens - cor/raça Branca</td>\n",
       "      <td>0</td>\n",
       "      <td></td>\n",
       "      <td></td>\n",
       "      <td></td>\n",
       "      <td>228640</td>\n",
       "      <td></td>\n",
       "      <td>0</td>\n",
       "      <td>BRA</td>\n",
       "      <td>0</td>\n",
       "      <td>100000</td>\n",
       "      <td>0</td>\n",
       "      <td>0</td>\n",
       "      <td>0</td>\n",
       "    </tr>\n",
       "    <tr>\n",
       "      <th>3</th>\n",
       "      <td>Brasil</td>\n",
       "      <td>2019</td>\n",
       "      <td>SIM/SUS &amp; Censo/IBGE</td>\n",
       "      <td>Acute1</td>\n",
       "      <td>Acute pancreatitis(deaths per 100 000 population)</td>\n",
       "      <td>Rondônia</td>\n",
       "      <td>Homens - cor/raça Branca</td>\n",
       "      <td>1</td>\n",
       "      <td></td>\n",
       "      <td></td>\n",
       "      <td></td>\n",
       "      <td>228640</td>\n",
       "      <td></td>\n",
       "      <td>1</td>\n",
       "      <td>BRA</td>\n",
       "      <td>0</td>\n",
       "      <td>100000</td>\n",
       "      <td>0</td>\n",
       "      <td>0</td>\n",
       "      <td>0</td>\n",
       "    </tr>\n",
       "    <tr>\n",
       "      <th>4</th>\n",
       "      <td>Brasil</td>\n",
       "      <td>2019</td>\n",
       "      <td>SIM/SUS &amp; Censo/IBGE</td>\n",
       "      <td>Alcoh</td>\n",
       "      <td>Alcohol-specific disorders and poisonings(deat...</td>\n",
       "      <td>Rondônia</td>\n",
       "      <td>Homens - cor/raça Branca</td>\n",
       "      <td>5</td>\n",
       "      <td></td>\n",
       "      <td></td>\n",
       "      <td></td>\n",
       "      <td>228640</td>\n",
       "      <td></td>\n",
       "      <td>8</td>\n",
       "      <td>BRA</td>\n",
       "      <td>0</td>\n",
       "      <td>100000</td>\n",
       "      <td>0</td>\n",
       "      <td>0</td>\n",
       "      <td>0</td>\n",
       "    </tr>\n",
       "  </tbody>\n",
       "</table>\n",
       "</div>"
      ],
      "text/plain": [
       "  setting  date                source indicator_abbr  \\\n",
       "0  Brasil  2019  SIM/SUS & Censo/IBGE          Absce   \n",
       "1  Brasil  2019  SIM/SUS & Censo/IBGE          Accid   \n",
       "2  Brasil  2019  SIM/SUS & Censo/IBGE          Acute   \n",
       "3  Brasil  2019  SIM/SUS & Censo/IBGE         Acute1   \n",
       "4  Brasil  2019  SIM/SUS & Censo/IBGE          Alcoh   \n",
       "\n",
       "                                      indicator_name dimension  \\\n",
       "0  Abscess of lung and mediastinum pyothorax(deat...  Rondônia   \n",
       "1  Accidental Injuries(deaths per 100 000 populat...  Rondônia   \n",
       "2  Acute lower respiratory infections(deaths per ...  Rondônia   \n",
       "3  Acute pancreatitis(deaths per 100 000 population)  Rondônia   \n",
       "4  Alcohol-specific disorders and poisonings(deat...  Rondônia   \n",
       "\n",
       "                   subgroup  estimate se ci_lb ci_ub  population note  \\\n",
       "0  Homens - cor/raça Branca         0                     228640        \n",
       "1  Homens - cor/raça Branca        20                     228640        \n",
       "2  Homens - cor/raça Branca         0                     228640        \n",
       "3  Homens - cor/raça Branca         1                     228640        \n",
       "4  Homens - cor/raça Branca         5                     228640        \n",
       "\n",
       "   setting_average iso3  favourable_indicator  indicator_scale  \\\n",
       "0                0  BRA                     0           100000   \n",
       "1                9  BRA                     0           100000   \n",
       "2                0  BRA                     0           100000   \n",
       "3                1  BRA                     0           100000   \n",
       "4                8  BRA                     0           100000   \n",
       "\n",
       "   ordered_dimension  subgroup_order  reference_subgroup  \n",
       "0                  0               0                   0  \n",
       "1                  0               0                   0  \n",
       "2                  0               0                   0  \n",
       "3                  0               0                   0  \n",
       "4                  0               0                   0  "
      ]
     },
     "execution_count": 61,
     "metadata": {},
     "output_type": "execute_result"
    }
   ],
   "source": [
    "# Transformar estimate e setting_average em int\n",
    "heatds_temp06 = heatds_temp05.copy()\n",
    "\n",
    "heatds_temp06['estimate'] = heatds_temp06['estimate'].astype(int)\n",
    "heatds_temp06['setting_average'] = heatds_temp06['setting_average'].astype(int)\n",
    "\n",
    "# mostrar dados gerais da tabela após transformações\n",
    "tab = heatds_temp06\n",
    "print(f'Registros da tabela : {tab.shape[0]}')\n",
    "# print(f'Total de óbitos : {tab.CONTADOR.sum()}')\n",
    "# print(tabulate(tab.head(), headers='keys', tablefmt='psql'))\n",
    "tab.head()"
   ]
  },
  {
   "cell_type": "markdown",
   "metadata": {},
   "source": [
    "##########       Etapa diferenciada da versão      ##########\n",
    "\n",
    "Atenção da hora de salvar o arquivo, com as informações corretas de versão"
   ]
  },
  {
   "cell_type": "code",
   "execution_count": 62,
   "metadata": {},
   "outputs": [],
   "source": [
    "### Arquivo pronto para exportação\n",
    "heatds_temp06.to_excel('files_out/ds5_BR_CID_UF_sexo&cor.xlsx', index=False)"
   ]
  },
  {
   "cell_type": "code",
   "execution_count": 63,
   "metadata": {},
   "outputs": [],
   "source": [
    "# Gerar arquivo dataset diretamente no arquivo de validação do HEAT\n",
    "\n",
    "# Carregar o arquivo original\n",
    "workbook = openpyxl.load_workbook('files_in_geral/heat_plus_template_validation.xlsm', keep_vba=True)\n",
    "\n",
    "# Apagar a aba 'template'\n",
    "if 'template' in workbook.sheetnames:\n",
    "    del workbook['template']\n",
    "\n",
    "# Carregar o arquivo que será copiado como nova aba\n",
    "workbook_to_copy = openpyxl.load_workbook('files_out/ds5_BR_CID_UF_sexo&cor.xlsx')\n",
    "sheet_to_copy = workbook_to_copy.active\n",
    "\n",
    "# Copiar a aba para o workbook original\n",
    "new_sheet = workbook.create_sheet('template')\n",
    "\n",
    "for row in sheet_to_copy.iter_rows(values_only=True):\n",
    "    new_sheet.append(row)\n",
    "\n",
    "# Salvar o arquivo com o novo nome\n",
    "workbook.save('files_out/ds5_BR_CID_UF_sexo&cor.xlsm')"
   ]
  },
  {
   "cell_type": "markdown",
   "metadata": {},
   "source": [
    "# Etapa 4 - Reunião de alinhamento - ajustes"
   ]
  },
  {
   "cell_type": "markdown",
   "metadata": {},
   "source": [
    "# Etapa 5 - Preparação para publicação de resultados"
   ]
  }
 ],
 "metadata": {
  "kernelspec": {
   "display_name": "Python 3",
   "language": "python",
   "name": "python3"
  },
  "language_info": {
   "codemirror_mode": {
    "name": "ipython",
    "version": 3
   },
   "file_extension": ".py",
   "mimetype": "text/x-python",
   "name": "python",
   "nbconvert_exporter": "python",
   "pygments_lexer": "ipython3",
   "version": "3.12.1"
  }
 },
 "nbformat": 4,
 "nbformat_minor": 2
}
