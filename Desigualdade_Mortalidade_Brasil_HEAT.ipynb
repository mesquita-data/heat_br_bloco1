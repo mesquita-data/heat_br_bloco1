{
 "cells": [
  {
   "cell_type": "markdown",
   "metadata": {},
   "source": [
    "# Projeto de Análise de Desigualdade em Saúde no modelo HEAT/OMS\n",
    "## Bloco 2025/1 = análise do sistema de mortalidade do SUS com agregação por unidades federativas\n",
    "\n",
    "\n"
   ]
  },
  {
   "cell_type": "markdown",
   "metadata": {},
   "source": [
    "#### Aspectos gerais e participantes"
   ]
  },
  {
   "cell_type": "markdown",
   "metadata": {},
   "source": [
    "Projeto Desenvolvido em parceria da MS/SECTICS/DESID com a Organização Mundial de Saúde\n",
    "\n",
    "Elaborado em linguagem Python, utilizando a biblioteca pysus para acesso ao SIM (Sistema de Informações de Mortalidade do SUS)\n",
    "\n",
    "Coordenador-geral:\n",
    "\n",
    "Coordenadores: \n",
    "\n",
    "Cientista de dados: Marcos Mesquita\n",
    "\n",
    "Outros participantes:\n",
    "\n",
    "Data: 06/12/2024\n"
   ]
  },
  {
   "cell_type": "markdown",
   "metadata": {},
   "source": [
    "#### Objetivos"
   ]
  },
  {
   "cell_type": "markdown",
   "metadata": {},
   "source": [
    "O principal objetivo desse projeto é realizar a avaliação de desigualdade na saúde no Brasil com ênfase para a dimensão de unidades subnacionais, estados e municípios brasileiros, a partir da aplicação do modelo do HEAT, tendo como objetivos específicos:\n",
    "\n",
    "- Apresentar indicadores de saúde no Brasil desagregados por subunidades nacionais em uma visualização interativa a partir do modelo do HEAT Plus;\n",
    "- Oferecer um repositório comum e atualizado com dados de desigualdade da saúde no Brasil desagregados por estados e municípios em um modelo sob reconhecimento internacional;\n",
    "- Permitir exploração e acesso dos dados e da metodologia para outros tipos de análises."
   ]
  },
  {
   "cell_type": "markdown",
   "metadata": {},
   "source": [
    "# Etapa 1 - Definição do Bloco\n",
    "\n",
    "O projeto ocorrerá em blocos sucessivos, nos quais serão definidos o problema e os indicadores a serem analisados."
   ]
  },
  {
   "cell_type": "markdown",
   "metadata": {},
   "source": [
    "### Definição do problema do bloco\n"
   ]
  },
  {
   "cell_type": "markdown",
   "metadata": {},
   "source": [
    "\n",
    " H0 - as unidades federativa são variáveis determinantes para mortalidade no país"
   ]
  },
  {
   "cell_type": "markdown",
   "metadata": {},
   "source": [
    "### Escopo do Bloco 1"
   ]
  },
  {
   "cell_type": "markdown",
   "metadata": {},
   "source": [
    "\n",
    "* indicador: mortalidade (número de mortes por população, dados de morte do SIM/SUS e dados populacionais pelo Censos de 2010 e 2022)\n",
    "* localização: todo o Brasil, com agregação de mortalidade por Estados e Municípios\n",
    "* período: 2010 e 2022 \n",
    "* doenças: “doenças evitáveis” conforme definido pelo OCDE\n",
    "* outros critérios de filtro: até 74 anos de idade (em razão da aplicação do critério de \"doenças evitáveis\")"
   ]
  },
  {
   "cell_type": "markdown",
   "metadata": {},
   "source": [
    "# Etapa 2 - Análise primária dos dados por bloco"
   ]
  },
  {
   "cell_type": "markdown",
   "metadata": {},
   "source": [
    "## Aspectos teóricos e técnicos das fontes"
   ]
  },
  {
   "cell_type": "markdown",
   "metadata": {},
   "source": [
    "\n",
    "#### Aspectos técnicos - ambiente, linguagem e ferramentas principais\n",
    "\n",
    "A análise será feita utilizando a linguagem Python e a biblioteca Pysus que permite acesso às principais bases do SUS de forma direta.\n",
    "O Pysus exige um ambiente linux para execução de alguns comandos o que foi possível, mesmo em uma máquina Windows, a partir do WSL do Windows.\n",
    "Foi criado um ambiente em WSL e o conjunto da extração, tratamento e análise dos dados foi realizado no formato Notebook em um editor VSCode, dentro de um Dev Container: Default Linux Universal.\n",
    "\n",
    "\n",
    "#### Morte e mortalidade no HEAT\n",
    "\n",
    "Para entendermos como o HEAT trata a mortalidade, fizemos uma busca de indicadores de mortalidade no WHO Health Inequality Data Repository.\n",
    "\n",
    "O repositório traz dados e metadados de todos os indicadores utilizados pelo HEAT.\n",
    "Apresenta um total de 3915 indicadores, distribuídos entre 14 seções.\n",
    "\n",
    "Foi feita uma revisão geral dos indicadores relacionados à mortalidade, que depois foi refinada pela busca das seguintes palavras : “death”, “mortality”, “fatal”, ‘fatality” ,“Probability of dying”, “suicide”. E foram encontrados 388 indicadores que trazem uma destas expressões na sua descrição.\n",
    "\n",
    "\n",
    "#### SIM (Sistema de Informações de Mortalidade do SUS)\n",
    "\n",
    "A mortalidade e os indicadores de morte serão buscados no SIM (Sistema de Informações de Mortalidade do SUS).\n",
    "O SIM disponibiliza dados de mortes no Brasil desde 1996 por ocorrências, gerido pelo Departamento de Análise de Situação de Saúde, da Secretaria de Vigilância em Saúde do Ministério da Saúde, em conjunto com as Secretarias Estaduais e Municipais de Saúde. Estas últimas responsáveis efetivamente pela coleta dos dados.\n",
    "\n",
    "O SIM traz informações do indivíduo, como sexo, idade, localidade e causas da morte, classificadas de acordo com o CID (Classificação Internacional de Doenças e Problemas Relacionadas à Saúde).\n",
    "\n",
    "\n",
    "#### CID (Classificação Internacional de Doenças e Problemas Relacionadas à Saúde)\n",
    "\n",
    "Com o intuito de padronizar a nomenclatura de patologias e com abrangência para todo o mundo, foi elaborado pela Organização Mundial da Saúde (OMS) uma  classificação internacional de doenças, a CID (Classificação Internacional de Doenças e Problemas Relacionadas à Saúde). \n",
    "\n",
    "A Classificação é atualizada periodicamente. A versão mais atual é a CID11, publicada em janeiro de 2022.\n",
    "\n",
    "No entanto, por se tratar de revisão que traz impactos nos registros e que exige considerável atualização das ferramentas de captura das informações, o SIM utiliza versões anteriores da CID.\n",
    "- CID9 - dados até 1995\n",
    "- CID10 - a partir de 1996 até a data atual\n",
    "\n",
    "Em razão do recorte temporal dos dados, de 1998 a 2022, iremos utilizar somente a CID10.\n",
    "A CID10 é organizada em 22 capítulos e possui, além da classificação de doenças, descrição de códigos que permitem identificar sinais, sintomas, queixas, causas externas e circunstâncias sociais.\n",
    "\n",
    "\n",
    "#### CID de doenças evitáveis\n",
    "\n",
    "Como elemento do escopo deste trabalho iremos tratar de doenças evitáveis.\n",
    "\n",
    "O Brasil, a partir da Secretaria de Vigilância em Saúde apresenta uma classificação de doenças evitáveis. \n",
    "\n",
    "Lista de causas evitáveis pode ser encontrada nos links: http://tabnet.datasus.gov.br/cgi/sim/Obitos_Evitaveis_0_a_4_anos.pdf\n",
    "\n",
    "\n",
    "\n",
    "\n",
    "#### População (Censo)\n",
    "\n",
    "\n",
    "Os dados de população são os do Censo, acessados pelo site do IBGE, https://sidra.ibge.gov.br/Tabela/9606\n",
    "\n",
    "\n",
    "\n",
    "\n"
   ]
  },
  {
   "cell_type": "markdown",
   "metadata": {},
   "source": [
    "### Instalação e importação de bibliotecas"
   ]
  },
  {
   "cell_type": "markdown",
   "metadata": {},
   "source": [
    "#### Instalação de bibliotecas"
   ]
  },
  {
   "cell_type": "code",
   "execution_count": 7,
   "metadata": {},
   "outputs": [
    {
     "name": "stdout",
     "output_type": "stream",
     "text": [
      "Requirement already satisfied: pylance in /usr/local/python/3.12.1/lib/python3.12/site-packages (0.21.0)\n",
      "Requirement already satisfied: pyarrow>=14 in /usr/local/python/3.12.1/lib/python3.12/site-packages (from pylance) (18.1.0)\n",
      "Requirement already satisfied: numpy>=1.22 in /usr/local/python/3.12.1/lib/python3.12/site-packages (from pylance) (1.26.2)\n"
     ]
    }
   ],
   "source": [
    "# # Costuma ser exigida a instalação destas bibliotecas no primeiro acesso ao Pysus\n",
    "# !apt-get update  \n",
    "# !apt-get install libffi-dev  # Install libffi-dev\n",
    "# !pip install --upgrade pip  # Ensure pip is up to date\n",
    "# !pip install pysus # Exa\n",
    "# !pip install gdown\n",
    "!pip install pylance"
   ]
  },
  {
   "cell_type": "markdown",
   "metadata": {},
   "source": [
    "#### Importação de bibliotecas"
   ]
  },
  {
   "cell_type": "code",
   "execution_count": 1,
   "metadata": {},
   "outputs": [],
   "source": [
    "# importar biblioteca básica para manipulação de dados\n",
    "import pandas as pd\n",
    "import numpy\n",
    "import os\n",
    "import sidrapy\n",
    "import requests # para carga de endereços web - api\n",
    "import gdown\n",
    "\n"
   ]
  },
  {
   "cell_type": "code",
   "execution_count": 9,
   "metadata": {},
   "outputs": [
    {
     "ename": "ModuleNotFoundError",
     "evalue": "No module named 'pylance'",
     "output_type": "error",
     "traceback": [
      "\u001b[0;31m---------------------------------------------------------------------------\u001b[0m",
      "\u001b[0;31mModuleNotFoundError\u001b[0m                       Traceback (most recent call last)",
      "Cell \u001b[0;32mIn[9], line 3\u001b[0m\n\u001b[1;32m      1\u001b[0m \u001b[38;5;66;03m# importar bibliotecas para carga dos dados\u001b[39;00m\n\u001b[1;32m      2\u001b[0m \u001b[38;5;28;01mimport\u001b[39;00m \u001b[38;5;21;01mpysus\u001b[39;00m\n\u001b[0;32m----> 3\u001b[0m \u001b[38;5;28;01mimport\u001b[39;00m \u001b[38;5;21;01mpylance\u001b[39;00m\n\u001b[1;32m      5\u001b[0m \u001b[38;5;28;01mfrom\u001b[39;00m \u001b[38;5;21;01mpysus\u001b[39;00m \u001b[38;5;28;01mimport\u001b[39;00m SIM\n\u001b[1;32m      6\u001b[0m \u001b[38;5;28;01mfrom\u001b[39;00m \u001b[38;5;21;01mpysus\u001b[39;00m\u001b[38;5;21;01m.\u001b[39;00m\u001b[38;5;21;01monline_data\u001b[39;00m\u001b[38;5;21;01m.\u001b[39;00m\u001b[38;5;21;01mSIM\u001b[39;00m \u001b[38;5;28;01mimport\u001b[39;00m download\n",
      "\u001b[0;31mModuleNotFoundError\u001b[0m: No module named 'pylance'"
     ]
    }
   ],
   "source": [
    "# importar bibliotecas para carga dos dados\n",
    "import pysus\n",
    "import pylance\n",
    "\n",
    "from pysus import SIM\n",
    "from pysus.online_data.SIM import download\n",
    "from pysus.preprocessing.decoders import translate_variables_SIM\n",
    "from pysus.preprocessing.SIM import group_and_count, redistribute_missing, redistribute_cid_chapter\n",
    "from pysus.online_data.SIM import get_CID9_table, get_CID10_table, get_municipios, get_ocupations\n",
    "from ftplib import FTP\n",
    "from pathlib import Path  "
   ]
  },
  {
   "cell_type": "markdown",
   "metadata": {},
   "source": [
    "#### Diretórios - configuração"
   ]
  },
  {
   "cell_type": "code",
   "execution_count": 83,
   "metadata": {},
   "outputs": [],
   "source": [
    "# Definir diretório padrão para pysus\n",
    "pysus.online_data.SIM.CACHEPATH=\"./downloads_sim_original\"\n",
    "# Definir pasta para download de arquivos csv e parquet\n",
    "import os \n",
    "\n",
    "# Define diretório para armazenar arquivos do sim (carregados por pysus) quando o SIM.CACHEPATH não funcionar\n",
    "os.makedirs('downloads_sim_original', exist_ok=True)  \n",
    "downloads_sim = \"downloads_sim_original\"\n",
    "\n",
    "# Define diretório para armazenar outros arquivos\n",
    "os.makedirs('downloads_outros', exist_ok=True)  \n",
    "\n",
    "# Define diretório para armazenar arquivos trabalhados\n",
    "os.makedirs('files_clean', exist_ok=True)  "
   ]
  },
  {
   "cell_type": "markdown",
   "metadata": {},
   "source": [
    "#### Acesso ao SIM"
   ]
  },
  {
   "cell_type": "code",
   "execution_count": 84,
   "metadata": {},
   "outputs": [],
   "source": [
    "sim = SIM().load() # Loads the files from DATASUS"
   ]
  },
  {
   "cell_type": "code",
   "execution_count": 87,
   "metadata": {},
   "outputs": [
    {
     "data": {
      "text/plain": [
       "(/dissemin/publicos/SIM/CID10/DORES, /dissemin/publicos/SIM/CID9/DORES)"
      ]
     },
     "execution_count": 87,
     "metadata": {},
     "output_type": "execute_result"
    }
   ],
   "source": [
    "sim.paths"
   ]
  },
  {
   "cell_type": "markdown",
   "metadata": {},
   "source": [
    "## Coleta e estruturação dos dados"
   ]
  },
  {
   "cell_type": "markdown",
   "metadata": {},
   "source": [
    "### Carga de dados SIM"
   ]
  },
  {
   "cell_type": "markdown",
   "metadata": {},
   "source": [
    "#### Carga SIM principal"
   ]
  },
  {
   "cell_type": "code",
   "execution_count": 99,
   "metadata": {},
   "outputs": [
    {
     "name": "stderr",
     "output_type": "stream",
     "text": [
      "DOBR2022.parquet: 100%|██████████| 3.78M/3.78M [01:22<00:00, 45.6kB/s]\n"
     ]
    },
    {
     "data": {
      "text/plain": [
       "downloads_sim_original/DOBR2022.parquet"
      ]
     },
     "execution_count": 99,
     "metadata": {},
     "output_type": "execute_result"
    }
   ],
   "source": [
    "# Carrega os dados do SIM\n",
    "# Definição de variáveis\n",
    "grupo = \"CID10\" # Agrupamento por CID10\n",
    "uf = \"BR\" # A sigla BR carrega dados de todos as unidades federativas\n",
    "ano = [2010] # Anos do escopo, 2010 e 2022\n",
    "local = downloads_sim # Local para armazenar os arquivos, definido nas etapas anteriores\n",
    "\n",
    "dobr = download(grupo,uf,ano,local) # Carrega os dados do SIM\n",
    "#dobr2010 = download(\"cid10\",\"br\",2022,downloads_sim)\n",
    "dobr2010 "
   ]
  },
  {
   "cell_type": "markdown",
   "metadata": {},
   "source": [
    "#### Carga SIM auxiliar\n",
    "\n",
    "O SIM traz algumas tabelas auxiliares de CID10 e municípios. Trazemos estas informações para algum tipo de batimento, mas para estas informações iremos utilizar fontes externas."
   ]
  },
  {
   "cell_type": "code",
   "execution_count": 10,
   "metadata": {},
   "outputs": [
    {
     "name": "stderr",
     "output_type": "stream",
     "text": [
      "2024-12-26 13:54:33.967 | DEBUG    | pysus.online_data.SIM:get_CID10_table:116 - Stablishing connection with ftp.datasus.gov.br.\n",
      "220 Microsoft FTP Service\n",
      "2024-12-26 13:54:33.997 | DEBUG    | pysus.online_data.SIM:get_CID10_table:120 - Changing FTP work dir to: /dissemin/publicos/SIM/CID10/TABELAS\n",
      "2024-12-26 13:54:34.602 | INFO     | pysus.online_data.SIM:get_CID10_table:146 - Data stored as parquet at ./downloads_sim_original/SIM_CID10_.parquet\n",
      "2024-12-26 13:54:34.603 | DEBUG    | pysus.online_data.SIM:get_CID10_table:149 - CID10.DBF removed\n"
     ]
    },
    {
     "ename": "ModuleNotFoundError",
     "evalue": "No module named 'numpy.rec'",
     "output_type": "error",
     "traceback": [
      "\u001b[0;31m---------------------------------------------------------------------------\u001b[0m",
      "\u001b[0;31mModuleNotFoundError\u001b[0m                       Traceback (most recent call last)",
      "File \u001b[0;32m~/.local/lib/python3.12/site-packages/IPython/core/formatters.py:770\u001b[0m, in \u001b[0;36mPlainTextFormatter.__call__\u001b[0;34m(self, obj)\u001b[0m\n\u001b[1;32m    763\u001b[0m stream \u001b[38;5;241m=\u001b[39m StringIO()\n\u001b[1;32m    764\u001b[0m printer \u001b[38;5;241m=\u001b[39m pretty\u001b[38;5;241m.\u001b[39mRepresentationPrinter(stream, \u001b[38;5;28mself\u001b[39m\u001b[38;5;241m.\u001b[39mverbose,\n\u001b[1;32m    765\u001b[0m     \u001b[38;5;28mself\u001b[39m\u001b[38;5;241m.\u001b[39mmax_width, \u001b[38;5;28mself\u001b[39m\u001b[38;5;241m.\u001b[39mnewline,\n\u001b[1;32m    766\u001b[0m     max_seq_length\u001b[38;5;241m=\u001b[39m\u001b[38;5;28mself\u001b[39m\u001b[38;5;241m.\u001b[39mmax_seq_length,\n\u001b[1;32m    767\u001b[0m     singleton_pprinters\u001b[38;5;241m=\u001b[39m\u001b[38;5;28mself\u001b[39m\u001b[38;5;241m.\u001b[39msingleton_printers,\n\u001b[1;32m    768\u001b[0m     type_pprinters\u001b[38;5;241m=\u001b[39m\u001b[38;5;28mself\u001b[39m\u001b[38;5;241m.\u001b[39mtype_printers,\n\u001b[1;32m    769\u001b[0m     deferred_pprinters\u001b[38;5;241m=\u001b[39m\u001b[38;5;28mself\u001b[39m\u001b[38;5;241m.\u001b[39mdeferred_printers)\n\u001b[0;32m--> 770\u001b[0m \u001b[43mprinter\u001b[49m\u001b[38;5;241;43m.\u001b[39;49m\u001b[43mpretty\u001b[49m\u001b[43m(\u001b[49m\u001b[43mobj\u001b[49m\u001b[43m)\u001b[49m\n\u001b[1;32m    771\u001b[0m printer\u001b[38;5;241m.\u001b[39mflush()\n\u001b[1;32m    772\u001b[0m \u001b[38;5;28;01mreturn\u001b[39;00m stream\u001b[38;5;241m.\u001b[39mgetvalue()\n",
      "File \u001b[0;32m~/.local/lib/python3.12/site-packages/IPython/lib/pretty.py:419\u001b[0m, in \u001b[0;36mRepresentationPrinter.pretty\u001b[0;34m(self, obj)\u001b[0m\n\u001b[1;32m    408\u001b[0m                         \u001b[38;5;28;01mreturn\u001b[39;00m meth(obj, \u001b[38;5;28mself\u001b[39m, cycle)\n\u001b[1;32m    409\u001b[0m                 \u001b[38;5;28;01mif\u001b[39;00m (\n\u001b[1;32m    410\u001b[0m                     \u001b[38;5;28mcls\u001b[39m \u001b[38;5;129;01mis\u001b[39;00m \u001b[38;5;129;01mnot\u001b[39;00m \u001b[38;5;28mobject\u001b[39m\n\u001b[1;32m    411\u001b[0m                     \u001b[38;5;66;03m# check if cls defines __repr__\u001b[39;00m\n\u001b[0;32m   (...)\u001b[0m\n\u001b[1;32m    417\u001b[0m                     \u001b[38;5;129;01mand\u001b[39;00m \u001b[38;5;28mcallable\u001b[39m(_safe_getattr(\u001b[38;5;28mcls\u001b[39m, \u001b[38;5;124m\"\u001b[39m\u001b[38;5;124m__repr__\u001b[39m\u001b[38;5;124m\"\u001b[39m, \u001b[38;5;28;01mNone\u001b[39;00m))\n\u001b[1;32m    418\u001b[0m                 ):\n\u001b[0;32m--> 419\u001b[0m                     \u001b[38;5;28;01mreturn\u001b[39;00m \u001b[43m_repr_pprint\u001b[49m\u001b[43m(\u001b[49m\u001b[43mobj\u001b[49m\u001b[43m,\u001b[49m\u001b[43m \u001b[49m\u001b[38;5;28;43mself\u001b[39;49m\u001b[43m,\u001b[49m\u001b[43m \u001b[49m\u001b[43mcycle\u001b[49m\u001b[43m)\u001b[49m\n\u001b[1;32m    421\u001b[0m     \u001b[38;5;28;01mreturn\u001b[39;00m _default_pprint(obj, \u001b[38;5;28mself\u001b[39m, cycle)\n\u001b[1;32m    422\u001b[0m \u001b[38;5;28;01mfinally\u001b[39;00m:\n",
      "File \u001b[0;32m~/.local/lib/python3.12/site-packages/IPython/lib/pretty.py:794\u001b[0m, in \u001b[0;36m_repr_pprint\u001b[0;34m(obj, p, cycle)\u001b[0m\n\u001b[1;32m    792\u001b[0m \u001b[38;5;250m\u001b[39m\u001b[38;5;124;03m\"\"\"A pprint that just redirects to the normal repr function.\"\"\"\u001b[39;00m\n\u001b[1;32m    793\u001b[0m \u001b[38;5;66;03m# Find newlines and replace them with p.break_()\u001b[39;00m\n\u001b[0;32m--> 794\u001b[0m output \u001b[38;5;241m=\u001b[39m \u001b[38;5;28;43mrepr\u001b[39;49m\u001b[43m(\u001b[49m\u001b[43mobj\u001b[49m\u001b[43m)\u001b[49m\n\u001b[1;32m    795\u001b[0m lines \u001b[38;5;241m=\u001b[39m output\u001b[38;5;241m.\u001b[39msplitlines()\n\u001b[1;32m    796\u001b[0m \u001b[38;5;28;01mwith\u001b[39;00m p\u001b[38;5;241m.\u001b[39mgroup():\n",
      "File \u001b[0;32m~/.local/lib/python3.12/site-packages/pandas/core/frame.py:1214\u001b[0m, in \u001b[0;36mDataFrame.__repr__\u001b[0;34m(self)\u001b[0m\n\u001b[1;32m   1211\u001b[0m     \u001b[38;5;28;01mreturn\u001b[39;00m buf\u001b[38;5;241m.\u001b[39mgetvalue()\n\u001b[1;32m   1213\u001b[0m repr_params \u001b[38;5;241m=\u001b[39m fmt\u001b[38;5;241m.\u001b[39mget_dataframe_repr_params()\n\u001b[0;32m-> 1214\u001b[0m \u001b[38;5;28;01mreturn\u001b[39;00m \u001b[38;5;28;43mself\u001b[39;49m\u001b[38;5;241;43m.\u001b[39;49m\u001b[43mto_string\u001b[49m\u001b[43m(\u001b[49m\u001b[38;5;241;43m*\u001b[39;49m\u001b[38;5;241;43m*\u001b[39;49m\u001b[43mrepr_params\u001b[49m\u001b[43m)\u001b[49m\n",
      "File \u001b[0;32m~/.local/lib/python3.12/site-packages/pandas/util/_decorators.py:333\u001b[0m, in \u001b[0;36mdeprecate_nonkeyword_arguments.<locals>.decorate.<locals>.wrapper\u001b[0;34m(*args, **kwargs)\u001b[0m\n\u001b[1;32m    327\u001b[0m \u001b[38;5;28;01mif\u001b[39;00m \u001b[38;5;28mlen\u001b[39m(args) \u001b[38;5;241m>\u001b[39m num_allow_args:\n\u001b[1;32m    328\u001b[0m     warnings\u001b[38;5;241m.\u001b[39mwarn(\n\u001b[1;32m    329\u001b[0m         msg\u001b[38;5;241m.\u001b[39mformat(arguments\u001b[38;5;241m=\u001b[39m_format_argument_list(allow_args)),\n\u001b[1;32m    330\u001b[0m         \u001b[38;5;167;01mFutureWarning\u001b[39;00m,\n\u001b[1;32m    331\u001b[0m         stacklevel\u001b[38;5;241m=\u001b[39mfind_stack_level(),\n\u001b[1;32m    332\u001b[0m     )\n\u001b[0;32m--> 333\u001b[0m \u001b[38;5;28;01mreturn\u001b[39;00m \u001b[43mfunc\u001b[49m\u001b[43m(\u001b[49m\u001b[38;5;241;43m*\u001b[39;49m\u001b[43margs\u001b[49m\u001b[43m,\u001b[49m\u001b[43m \u001b[49m\u001b[38;5;241;43m*\u001b[39;49m\u001b[38;5;241;43m*\u001b[39;49m\u001b[43mkwargs\u001b[49m\u001b[43m)\u001b[49m\n",
      "File \u001b[0;32m~/.local/lib/python3.12/site-packages/pandas/core/frame.py:1394\u001b[0m, in \u001b[0;36mDataFrame.to_string\u001b[0;34m(self, buf, columns, col_space, header, index, na_rep, formatters, float_format, sparsify, index_names, justify, max_rows, max_cols, show_dimensions, decimal, line_width, min_rows, max_colwidth, encoding)\u001b[0m\n\u001b[1;32m   1375\u001b[0m \u001b[38;5;28;01mwith\u001b[39;00m option_context(\u001b[38;5;124m\"\u001b[39m\u001b[38;5;124mdisplay.max_colwidth\u001b[39m\u001b[38;5;124m\"\u001b[39m, max_colwidth):\n\u001b[1;32m   1376\u001b[0m     formatter \u001b[38;5;241m=\u001b[39m fmt\u001b[38;5;241m.\u001b[39mDataFrameFormatter(\n\u001b[1;32m   1377\u001b[0m         \u001b[38;5;28mself\u001b[39m,\n\u001b[1;32m   1378\u001b[0m         columns\u001b[38;5;241m=\u001b[39mcolumns,\n\u001b[0;32m   (...)\u001b[0m\n\u001b[1;32m   1392\u001b[0m         decimal\u001b[38;5;241m=\u001b[39mdecimal,\n\u001b[1;32m   1393\u001b[0m     )\n\u001b[0;32m-> 1394\u001b[0m     \u001b[38;5;28;01mreturn\u001b[39;00m \u001b[43mfmt\u001b[49m\u001b[38;5;241;43m.\u001b[39;49m\u001b[43mDataFrameRenderer\u001b[49m\u001b[43m(\u001b[49m\u001b[43mformatter\u001b[49m\u001b[43m)\u001b[49m\u001b[38;5;241;43m.\u001b[39;49m\u001b[43mto_string\u001b[49m\u001b[43m(\u001b[49m\n\u001b[1;32m   1395\u001b[0m \u001b[43m        \u001b[49m\u001b[43mbuf\u001b[49m\u001b[38;5;241;43m=\u001b[39;49m\u001b[43mbuf\u001b[49m\u001b[43m,\u001b[49m\n\u001b[1;32m   1396\u001b[0m \u001b[43m        \u001b[49m\u001b[43mencoding\u001b[49m\u001b[38;5;241;43m=\u001b[39;49m\u001b[43mencoding\u001b[49m\u001b[43m,\u001b[49m\n\u001b[1;32m   1397\u001b[0m \u001b[43m        \u001b[49m\u001b[43mline_width\u001b[49m\u001b[38;5;241;43m=\u001b[39;49m\u001b[43mline_width\u001b[49m\u001b[43m,\u001b[49m\n\u001b[1;32m   1398\u001b[0m \u001b[43m    \u001b[49m\u001b[43m)\u001b[49m\n",
      "File \u001b[0;32m~/.local/lib/python3.12/site-packages/pandas/io/formats/format.py:962\u001b[0m, in \u001b[0;36mDataFrameRenderer.to_string\u001b[0;34m(self, buf, encoding, line_width)\u001b[0m\n\u001b[1;32m    959\u001b[0m \u001b[38;5;28;01mfrom\u001b[39;00m \u001b[38;5;21;01mpandas\u001b[39;00m\u001b[38;5;21;01m.\u001b[39;00m\u001b[38;5;21;01mio\u001b[39;00m\u001b[38;5;21;01m.\u001b[39;00m\u001b[38;5;21;01mformats\u001b[39;00m\u001b[38;5;21;01m.\u001b[39;00m\u001b[38;5;21;01mstring\u001b[39;00m \u001b[38;5;28;01mimport\u001b[39;00m StringFormatter\n\u001b[1;32m    961\u001b[0m string_formatter \u001b[38;5;241m=\u001b[39m StringFormatter(\u001b[38;5;28mself\u001b[39m\u001b[38;5;241m.\u001b[39mfmt, line_width\u001b[38;5;241m=\u001b[39mline_width)\n\u001b[0;32m--> 962\u001b[0m string \u001b[38;5;241m=\u001b[39m \u001b[43mstring_formatter\u001b[49m\u001b[38;5;241;43m.\u001b[39;49m\u001b[43mto_string\u001b[49m\u001b[43m(\u001b[49m\u001b[43m)\u001b[49m\n\u001b[1;32m    963\u001b[0m \u001b[38;5;28;01mreturn\u001b[39;00m save_to_buffer(string, buf\u001b[38;5;241m=\u001b[39mbuf, encoding\u001b[38;5;241m=\u001b[39mencoding)\n",
      "File \u001b[0;32m~/.local/lib/python3.12/site-packages/pandas/io/formats/string.py:29\u001b[0m, in \u001b[0;36mStringFormatter.to_string\u001b[0;34m(self)\u001b[0m\n\u001b[1;32m     28\u001b[0m \u001b[38;5;28;01mdef\u001b[39;00m \u001b[38;5;21mto_string\u001b[39m(\u001b[38;5;28mself\u001b[39m) \u001b[38;5;241m-\u001b[39m\u001b[38;5;241m>\u001b[39m \u001b[38;5;28mstr\u001b[39m:\n\u001b[0;32m---> 29\u001b[0m     text \u001b[38;5;241m=\u001b[39m \u001b[38;5;28;43mself\u001b[39;49m\u001b[38;5;241;43m.\u001b[39;49m\u001b[43m_get_string_representation\u001b[49m\u001b[43m(\u001b[49m\u001b[43m)\u001b[49m\n\u001b[1;32m     30\u001b[0m     \u001b[38;5;28;01mif\u001b[39;00m \u001b[38;5;28mself\u001b[39m\u001b[38;5;241m.\u001b[39mfmt\u001b[38;5;241m.\u001b[39mshould_show_dimensions:\n\u001b[1;32m     31\u001b[0m         text \u001b[38;5;241m=\u001b[39m \u001b[38;5;124mf\u001b[39m\u001b[38;5;124m\"\u001b[39m\u001b[38;5;132;01m{\u001b[39;00mtext\u001b[38;5;132;01m}\u001b[39;00m\u001b[38;5;132;01m{\u001b[39;00m\u001b[38;5;28mself\u001b[39m\u001b[38;5;241m.\u001b[39mfmt\u001b[38;5;241m.\u001b[39mdimensions_info\u001b[38;5;132;01m}\u001b[39;00m\u001b[38;5;124m\"\u001b[39m\n",
      "File \u001b[0;32m~/.local/lib/python3.12/site-packages/pandas/io/formats/string.py:44\u001b[0m, in \u001b[0;36mStringFormatter._get_string_representation\u001b[0;34m(self)\u001b[0m\n\u001b[1;32m     41\u001b[0m \u001b[38;5;28;01mif\u001b[39;00m \u001b[38;5;28mself\u001b[39m\u001b[38;5;241m.\u001b[39mfmt\u001b[38;5;241m.\u001b[39mframe\u001b[38;5;241m.\u001b[39mempty:\n\u001b[1;32m     42\u001b[0m     \u001b[38;5;28;01mreturn\u001b[39;00m \u001b[38;5;28mself\u001b[39m\u001b[38;5;241m.\u001b[39m_empty_info_line\n\u001b[0;32m---> 44\u001b[0m strcols \u001b[38;5;241m=\u001b[39m \u001b[38;5;28;43mself\u001b[39;49m\u001b[38;5;241;43m.\u001b[39;49m\u001b[43m_get_strcols\u001b[49m\u001b[43m(\u001b[49m\u001b[43m)\u001b[49m\n\u001b[1;32m     46\u001b[0m \u001b[38;5;28;01mif\u001b[39;00m \u001b[38;5;28mself\u001b[39m\u001b[38;5;241m.\u001b[39mline_width \u001b[38;5;129;01mis\u001b[39;00m \u001b[38;5;28;01mNone\u001b[39;00m:\n\u001b[1;32m     47\u001b[0m     \u001b[38;5;66;03m# no need to wrap around just print the whole frame\u001b[39;00m\n\u001b[1;32m     48\u001b[0m     \u001b[38;5;28;01mreturn\u001b[39;00m \u001b[38;5;28mself\u001b[39m\u001b[38;5;241m.\u001b[39madj\u001b[38;5;241m.\u001b[39madjoin(\u001b[38;5;241m1\u001b[39m, \u001b[38;5;241m*\u001b[39mstrcols)\n",
      "File \u001b[0;32m~/.local/lib/python3.12/site-packages/pandas/io/formats/string.py:35\u001b[0m, in \u001b[0;36mStringFormatter._get_strcols\u001b[0;34m(self)\u001b[0m\n\u001b[1;32m     34\u001b[0m \u001b[38;5;28;01mdef\u001b[39;00m \u001b[38;5;21m_get_strcols\u001b[39m(\u001b[38;5;28mself\u001b[39m) \u001b[38;5;241m-\u001b[39m\u001b[38;5;241m>\u001b[39m \u001b[38;5;28mlist\u001b[39m[\u001b[38;5;28mlist\u001b[39m[\u001b[38;5;28mstr\u001b[39m]]:\n\u001b[0;32m---> 35\u001b[0m     strcols \u001b[38;5;241m=\u001b[39m \u001b[38;5;28;43mself\u001b[39;49m\u001b[38;5;241;43m.\u001b[39;49m\u001b[43mfmt\u001b[49m\u001b[38;5;241;43m.\u001b[39;49m\u001b[43mget_strcols\u001b[49m\u001b[43m(\u001b[49m\u001b[43m)\u001b[49m\n\u001b[1;32m     36\u001b[0m     \u001b[38;5;28;01mif\u001b[39;00m \u001b[38;5;28mself\u001b[39m\u001b[38;5;241m.\u001b[39mfmt\u001b[38;5;241m.\u001b[39mis_truncated:\n\u001b[1;32m     37\u001b[0m         strcols \u001b[38;5;241m=\u001b[39m \u001b[38;5;28mself\u001b[39m\u001b[38;5;241m.\u001b[39m_insert_dot_separators(strcols)\n",
      "File \u001b[0;32m~/.local/lib/python3.12/site-packages/pandas/io/formats/format.py:476\u001b[0m, in \u001b[0;36mDataFrameFormatter.get_strcols\u001b[0;34m(self)\u001b[0m\n\u001b[1;32m    472\u001b[0m \u001b[38;5;28;01mdef\u001b[39;00m \u001b[38;5;21mget_strcols\u001b[39m(\u001b[38;5;28mself\u001b[39m) \u001b[38;5;241m-\u001b[39m\u001b[38;5;241m>\u001b[39m \u001b[38;5;28mlist\u001b[39m[\u001b[38;5;28mlist\u001b[39m[\u001b[38;5;28mstr\u001b[39m]]:\n\u001b[1;32m    473\u001b[0m \u001b[38;5;250m    \u001b[39m\u001b[38;5;124;03m\"\"\"\u001b[39;00m\n\u001b[1;32m    474\u001b[0m \u001b[38;5;124;03m    Render a DataFrame to a list of columns (as lists of strings).\u001b[39;00m\n\u001b[1;32m    475\u001b[0m \u001b[38;5;124;03m    \"\"\"\u001b[39;00m\n\u001b[0;32m--> 476\u001b[0m     strcols \u001b[38;5;241m=\u001b[39m \u001b[38;5;28;43mself\u001b[39;49m\u001b[38;5;241;43m.\u001b[39;49m\u001b[43m_get_strcols_without_index\u001b[49m\u001b[43m(\u001b[49m\u001b[43m)\u001b[49m\n\u001b[1;32m    478\u001b[0m     \u001b[38;5;28;01mif\u001b[39;00m \u001b[38;5;28mself\u001b[39m\u001b[38;5;241m.\u001b[39mindex:\n\u001b[1;32m    479\u001b[0m         str_index \u001b[38;5;241m=\u001b[39m \u001b[38;5;28mself\u001b[39m\u001b[38;5;241m.\u001b[39m_get_formatted_index(\u001b[38;5;28mself\u001b[39m\u001b[38;5;241m.\u001b[39mtr_frame)\n",
      "File \u001b[0;32m~/.local/lib/python3.12/site-packages/pandas/io/formats/format.py:729\u001b[0m, in \u001b[0;36mDataFrameFormatter._get_strcols_without_index\u001b[0;34m(self)\u001b[0m\n\u001b[1;32m    727\u001b[0m     str_columns \u001b[38;5;241m=\u001b[39m [[label] \u001b[38;5;28;01mfor\u001b[39;00m label \u001b[38;5;129;01min\u001b[39;00m \u001b[38;5;28mself\u001b[39m\u001b[38;5;241m.\u001b[39mheader]\n\u001b[1;32m    728\u001b[0m \u001b[38;5;28;01melse\u001b[39;00m:\n\u001b[0;32m--> 729\u001b[0m     str_columns \u001b[38;5;241m=\u001b[39m \u001b[38;5;28;43mself\u001b[39;49m\u001b[38;5;241;43m.\u001b[39;49m\u001b[43m_get_formatted_column_labels\u001b[49m\u001b[43m(\u001b[49m\u001b[38;5;28;43mself\u001b[39;49m\u001b[38;5;241;43m.\u001b[39;49m\u001b[43mtr_frame\u001b[49m\u001b[43m)\u001b[49m\n\u001b[1;32m    731\u001b[0m \u001b[38;5;28;01mif\u001b[39;00m \u001b[38;5;28mself\u001b[39m\u001b[38;5;241m.\u001b[39mshow_row_idx_names:\n\u001b[1;32m    732\u001b[0m     \u001b[38;5;28;01mfor\u001b[39;00m x \u001b[38;5;129;01min\u001b[39;00m str_columns:\n",
      "File \u001b[0;32m~/.local/lib/python3.12/site-packages/pandas/io/formats/format.py:807\u001b[0m, in \u001b[0;36mDataFrameFormatter._get_formatted_column_labels\u001b[0;34m(self, frame)\u001b[0m\n\u001b[1;32m    805\u001b[0m     str_columns \u001b[38;5;241m=\u001b[39m [\u001b[38;5;28mlist\u001b[39m(x) \u001b[38;5;28;01mfor\u001b[39;00m x \u001b[38;5;129;01min\u001b[39;00m \u001b[38;5;28mzip\u001b[39m(\u001b[38;5;241m*\u001b[39mstr_columns_tuple)]\n\u001b[1;32m    806\u001b[0m \u001b[38;5;28;01melse\u001b[39;00m:\n\u001b[0;32m--> 807\u001b[0m     fmt_columns \u001b[38;5;241m=\u001b[39m \u001b[43mcolumns\u001b[49m\u001b[38;5;241;43m.\u001b[39;49m\u001b[43m_format_flat\u001b[49m\u001b[43m(\u001b[49m\u001b[43minclude_name\u001b[49m\u001b[38;5;241;43m=\u001b[39;49m\u001b[38;5;28;43;01mFalse\u001b[39;49;00m\u001b[43m)\u001b[49m\n\u001b[1;32m    808\u001b[0m     dtypes \u001b[38;5;241m=\u001b[39m \u001b[38;5;28mself\u001b[39m\u001b[38;5;241m.\u001b[39mframe\u001b[38;5;241m.\u001b[39mdtypes\n\u001b[1;32m    809\u001b[0m     need_leadsp \u001b[38;5;241m=\u001b[39m \u001b[38;5;28mdict\u001b[39m(\u001b[38;5;28mzip\u001b[39m(fmt_columns, \u001b[38;5;28mmap\u001b[39m(is_numeric_dtype, dtypes)))\n",
      "File \u001b[0;32m~/.local/lib/python3.12/site-packages/pandas/core/indexes/base.py:1446\u001b[0m, in \u001b[0;36mIndex._format_flat\u001b[0;34m(self, include_name, formatter)\u001b[0m\n\u001b[1;32m   1443\u001b[0m \u001b[38;5;28;01mif\u001b[39;00m formatter \u001b[38;5;129;01mis\u001b[39;00m \u001b[38;5;129;01mnot\u001b[39;00m \u001b[38;5;28;01mNone\u001b[39;00m:\n\u001b[1;32m   1444\u001b[0m     \u001b[38;5;28;01mreturn\u001b[39;00m header \u001b[38;5;241m+\u001b[39m \u001b[38;5;28mlist\u001b[39m(\u001b[38;5;28mself\u001b[39m\u001b[38;5;241m.\u001b[39mmap(formatter))\n\u001b[0;32m-> 1446\u001b[0m \u001b[38;5;28;01mreturn\u001b[39;00m \u001b[38;5;28;43mself\u001b[39;49m\u001b[38;5;241;43m.\u001b[39;49m\u001b[43m_format_with_header\u001b[49m\u001b[43m(\u001b[49m\u001b[43mheader\u001b[49m\u001b[38;5;241;43m=\u001b[39;49m\u001b[43mheader\u001b[49m\u001b[43m,\u001b[49m\u001b[43m \u001b[49m\u001b[43mna_rep\u001b[49m\u001b[38;5;241;43m=\u001b[39;49m\u001b[38;5;28;43mself\u001b[39;49m\u001b[38;5;241;43m.\u001b[39;49m\u001b[43m_default_na_rep\u001b[49m\u001b[43m)\u001b[49m\n",
      "File \u001b[0;32m~/.local/lib/python3.12/site-packages/pandas/core/indexes/base.py:1465\u001b[0m, in \u001b[0;36mIndex._format_with_header\u001b[0;34m(self, header, na_rep)\u001b[0m\n\u001b[1;32m   1461\u001b[0m     justify \u001b[38;5;241m=\u001b[39m \u001b[38;5;124m\"\u001b[39m\u001b[38;5;124mleft\u001b[39m\u001b[38;5;124m\"\u001b[39m\n\u001b[1;32m   1462\u001b[0m \u001b[38;5;66;03m# passing leading_space=False breaks test_format_missing,\u001b[39;00m\n\u001b[1;32m   1463\u001b[0m \u001b[38;5;66;03m#  test_index_repr_in_frame_with_nan, but would otherwise make\u001b[39;00m\n\u001b[1;32m   1464\u001b[0m \u001b[38;5;66;03m#  trim_front unnecessary\u001b[39;00m\n\u001b[0;32m-> 1465\u001b[0m formatted \u001b[38;5;241m=\u001b[39m \u001b[43mformat_array\u001b[49m\u001b[43m(\u001b[49m\u001b[43mvalues\u001b[49m\u001b[43m,\u001b[49m\u001b[43m \u001b[49m\u001b[38;5;28;43;01mNone\u001b[39;49;00m\u001b[43m,\u001b[49m\u001b[43m \u001b[49m\u001b[43mjustify\u001b[49m\u001b[38;5;241;43m=\u001b[39;49m\u001b[43mjustify\u001b[49m\u001b[43m)\u001b[49m\n\u001b[1;32m   1466\u001b[0m result \u001b[38;5;241m=\u001b[39m trim_front(formatted)\n\u001b[1;32m   1467\u001b[0m \u001b[38;5;28;01mreturn\u001b[39;00m header \u001b[38;5;241m+\u001b[39m result\n",
      "File \u001b[0;32m~/.local/lib/python3.12/site-packages/pandas/io/formats/format.py:1161\u001b[0m, in \u001b[0;36mformat_array\u001b[0;34m(values, formatter, float_format, na_rep, digits, space, justify, decimal, leading_space, quoting, fallback_formatter)\u001b[0m\n\u001b[1;32m   1145\u001b[0m     digits \u001b[38;5;241m=\u001b[39m get_option(\u001b[38;5;124m\"\u001b[39m\u001b[38;5;124mdisplay.precision\u001b[39m\u001b[38;5;124m\"\u001b[39m)\n\u001b[1;32m   1147\u001b[0m fmt_obj \u001b[38;5;241m=\u001b[39m fmt_klass(\n\u001b[1;32m   1148\u001b[0m     values,\n\u001b[1;32m   1149\u001b[0m     digits\u001b[38;5;241m=\u001b[39mdigits,\n\u001b[0;32m   (...)\u001b[0m\n\u001b[1;32m   1158\u001b[0m     fallback_formatter\u001b[38;5;241m=\u001b[39mfallback_formatter,\n\u001b[1;32m   1159\u001b[0m )\n\u001b[0;32m-> 1161\u001b[0m \u001b[38;5;28;01mreturn\u001b[39;00m \u001b[43mfmt_obj\u001b[49m\u001b[38;5;241;43m.\u001b[39;49m\u001b[43mget_result\u001b[49m\u001b[43m(\u001b[49m\u001b[43m)\u001b[49m\n",
      "File \u001b[0;32m~/.local/lib/python3.12/site-packages/pandas/io/formats/format.py:1194\u001b[0m, in \u001b[0;36m_GenericArrayFormatter.get_result\u001b[0;34m(self)\u001b[0m\n\u001b[1;32m   1193\u001b[0m \u001b[38;5;28;01mdef\u001b[39;00m \u001b[38;5;21mget_result\u001b[39m(\u001b[38;5;28mself\u001b[39m) \u001b[38;5;241m-\u001b[39m\u001b[38;5;241m>\u001b[39m \u001b[38;5;28mlist\u001b[39m[\u001b[38;5;28mstr\u001b[39m]:\n\u001b[0;32m-> 1194\u001b[0m     fmt_values \u001b[38;5;241m=\u001b[39m \u001b[38;5;28;43mself\u001b[39;49m\u001b[38;5;241;43m.\u001b[39;49m\u001b[43m_format_strings\u001b[49m\u001b[43m(\u001b[49m\u001b[43m)\u001b[49m\n\u001b[1;32m   1195\u001b[0m     \u001b[38;5;28;01mreturn\u001b[39;00m _make_fixed_width(fmt_values, \u001b[38;5;28mself\u001b[39m\u001b[38;5;241m.\u001b[39mjustify)\n",
      "File \u001b[0;32m~/.local/lib/python3.12/site-packages/pandas/io/formats/format.py:1250\u001b[0m, in \u001b[0;36m_GenericArrayFormatter._format_strings\u001b[0;34m(self)\u001b[0m\n\u001b[1;32m   1243\u001b[0m     \u001b[38;5;28;01mraise\u001b[39;00m \u001b[38;5;167;01mTypeError\u001b[39;00m(\n\u001b[1;32m   1244\u001b[0m         \u001b[38;5;124m\"\u001b[39m\u001b[38;5;124mExtensionArray formatting should use _ExtensionArrayFormatter\u001b[39m\u001b[38;5;124m\"\u001b[39m\n\u001b[1;32m   1245\u001b[0m     )\n\u001b[1;32m   1246\u001b[0m inferred \u001b[38;5;241m=\u001b[39m lib\u001b[38;5;241m.\u001b[39mmap_infer(vals, is_float)\n\u001b[1;32m   1247\u001b[0m is_float_type \u001b[38;5;241m=\u001b[39m (\n\u001b[1;32m   1248\u001b[0m     inferred\n\u001b[1;32m   1249\u001b[0m     \u001b[38;5;66;03m# vals may have 2 or more dimensions\u001b[39;00m\n\u001b[0;32m-> 1250\u001b[0m     \u001b[38;5;241m&\u001b[39m np\u001b[38;5;241m.\u001b[39mall(\u001b[43mnotna\u001b[49m\u001b[43m(\u001b[49m\u001b[43mvals\u001b[49m\u001b[43m)\u001b[49m, axis\u001b[38;5;241m=\u001b[39m\u001b[38;5;28mtuple\u001b[39m(\u001b[38;5;28mrange\u001b[39m(\u001b[38;5;241m1\u001b[39m, \u001b[38;5;28mlen\u001b[39m(vals\u001b[38;5;241m.\u001b[39mshape))))\n\u001b[1;32m   1251\u001b[0m )\n\u001b[1;32m   1252\u001b[0m leading_space \u001b[38;5;241m=\u001b[39m \u001b[38;5;28mself\u001b[39m\u001b[38;5;241m.\u001b[39mleading_space\n\u001b[1;32m   1253\u001b[0m \u001b[38;5;28;01mif\u001b[39;00m leading_space \u001b[38;5;129;01mis\u001b[39;00m \u001b[38;5;28;01mNone\u001b[39;00m:\n",
      "File \u001b[0;32m~/.local/lib/python3.12/site-packages/pandas/core/dtypes/missing.py:457\u001b[0m, in \u001b[0;36mnotna\u001b[0;34m(obj)\u001b[0m\n\u001b[1;32m    380\u001b[0m \u001b[38;5;28;01mdef\u001b[39;00m \u001b[38;5;21mnotna\u001b[39m(obj: \u001b[38;5;28mobject\u001b[39m) \u001b[38;5;241m-\u001b[39m\u001b[38;5;241m>\u001b[39m \u001b[38;5;28mbool\u001b[39m \u001b[38;5;241m|\u001b[39m npt\u001b[38;5;241m.\u001b[39mNDArray[np\u001b[38;5;241m.\u001b[39mbool_] \u001b[38;5;241m|\u001b[39m NDFrame:\n\u001b[1;32m    381\u001b[0m \u001b[38;5;250m    \u001b[39m\u001b[38;5;124;03m\"\"\"\u001b[39;00m\n\u001b[1;32m    382\u001b[0m \u001b[38;5;124;03m    Detect non-missing values for an array-like object.\u001b[39;00m\n\u001b[1;32m    383\u001b[0m \n\u001b[0;32m   (...)\u001b[0m\n\u001b[1;32m    455\u001b[0m \u001b[38;5;124;03m    Name: 1, dtype: bool\u001b[39;00m\n\u001b[1;32m    456\u001b[0m \u001b[38;5;124;03m    \"\"\"\u001b[39;00m\n\u001b[0;32m--> 457\u001b[0m     res \u001b[38;5;241m=\u001b[39m \u001b[43misna\u001b[49m\u001b[43m(\u001b[49m\u001b[43mobj\u001b[49m\u001b[43m)\u001b[49m\n\u001b[1;32m    458\u001b[0m     \u001b[38;5;28;01mif\u001b[39;00m \u001b[38;5;28misinstance\u001b[39m(res, \u001b[38;5;28mbool\u001b[39m):\n\u001b[1;32m    459\u001b[0m         \u001b[38;5;28;01mreturn\u001b[39;00m \u001b[38;5;129;01mnot\u001b[39;00m res\n",
      "File \u001b[0;32m~/.local/lib/python3.12/site-packages/pandas/core/dtypes/missing.py:178\u001b[0m, in \u001b[0;36misna\u001b[0;34m(obj)\u001b[0m\n\u001b[1;32m    101\u001b[0m \u001b[38;5;28;01mdef\u001b[39;00m \u001b[38;5;21misna\u001b[39m(obj: \u001b[38;5;28mobject\u001b[39m) \u001b[38;5;241m-\u001b[39m\u001b[38;5;241m>\u001b[39m \u001b[38;5;28mbool\u001b[39m \u001b[38;5;241m|\u001b[39m npt\u001b[38;5;241m.\u001b[39mNDArray[np\u001b[38;5;241m.\u001b[39mbool_] \u001b[38;5;241m|\u001b[39m NDFrame:\n\u001b[1;32m    102\u001b[0m \u001b[38;5;250m    \u001b[39m\u001b[38;5;124;03m\"\"\"\u001b[39;00m\n\u001b[1;32m    103\u001b[0m \u001b[38;5;124;03m    Detect missing values for an array-like object.\u001b[39;00m\n\u001b[1;32m    104\u001b[0m \n\u001b[0;32m   (...)\u001b[0m\n\u001b[1;32m    176\u001b[0m \u001b[38;5;124;03m    Name: 1, dtype: bool\u001b[39;00m\n\u001b[1;32m    177\u001b[0m \u001b[38;5;124;03m    \"\"\"\u001b[39;00m\n\u001b[0;32m--> 178\u001b[0m     \u001b[38;5;28;01mreturn\u001b[39;00m \u001b[43m_isna\u001b[49m\u001b[43m(\u001b[49m\u001b[43mobj\u001b[49m\u001b[43m)\u001b[49m\n",
      "File \u001b[0;32m~/.local/lib/python3.12/site-packages/pandas/core/dtypes/missing.py:207\u001b[0m, in \u001b[0;36m_isna\u001b[0;34m(obj, inf_as_na)\u001b[0m\n\u001b[1;32m    205\u001b[0m     \u001b[38;5;28;01mreturn\u001b[39;00m \u001b[38;5;28;01mFalse\u001b[39;00m\n\u001b[1;32m    206\u001b[0m \u001b[38;5;28;01melif\u001b[39;00m \u001b[38;5;28misinstance\u001b[39m(obj, (np\u001b[38;5;241m.\u001b[39mndarray, ABCExtensionArray)):\n\u001b[0;32m--> 207\u001b[0m     \u001b[38;5;28;01mreturn\u001b[39;00m \u001b[43m_isna_array\u001b[49m\u001b[43m(\u001b[49m\u001b[43mobj\u001b[49m\u001b[43m,\u001b[49m\u001b[43m \u001b[49m\u001b[43minf_as_na\u001b[49m\u001b[38;5;241;43m=\u001b[39;49m\u001b[43minf_as_na\u001b[49m\u001b[43m)\u001b[49m\n\u001b[1;32m    208\u001b[0m \u001b[38;5;28;01melif\u001b[39;00m \u001b[38;5;28misinstance\u001b[39m(obj, ABCIndex):\n\u001b[1;32m    209\u001b[0m     \u001b[38;5;66;03m# Try to use cached isna, which also short-circuits for integer dtypes\u001b[39;00m\n\u001b[1;32m    210\u001b[0m     \u001b[38;5;66;03m#  and avoids materializing RangeIndex._values\u001b[39;00m\n\u001b[1;32m    211\u001b[0m     \u001b[38;5;28;01mif\u001b[39;00m \u001b[38;5;129;01mnot\u001b[39;00m obj\u001b[38;5;241m.\u001b[39m_can_hold_na:\n",
      "File \u001b[0;32m~/.local/lib/python3.12/site-packages/pandas/core/dtypes/missing.py:288\u001b[0m, in \u001b[0;36m_isna_array\u001b[0;34m(values, inf_as_na)\u001b[0m\n\u001b[1;32m    283\u001b[0m     \u001b[38;5;28;01melse\u001b[39;00m:\n\u001b[1;32m    284\u001b[0m         \u001b[38;5;66;03m# error: Incompatible types in assignment (expression has type\u001b[39;00m\n\u001b[1;32m    285\u001b[0m         \u001b[38;5;66;03m# \"Union[ndarray[Any, Any], ExtensionArraySupportsAnyAll]\", variable has\u001b[39;00m\n\u001b[1;32m    286\u001b[0m         \u001b[38;5;66;03m# type \"ndarray[Any, dtype[bool_]]\")\u001b[39;00m\n\u001b[1;32m    287\u001b[0m         result \u001b[38;5;241m=\u001b[39m values\u001b[38;5;241m.\u001b[39misna()  \u001b[38;5;66;03m# type: ignore[assignment]\u001b[39;00m\n\u001b[0;32m--> 288\u001b[0m \u001b[38;5;28;01melif\u001b[39;00m \u001b[38;5;28misinstance\u001b[39m(values, \u001b[43mnp\u001b[49m\u001b[38;5;241;43m.\u001b[39;49m\u001b[43mrec\u001b[49m\u001b[38;5;241m.\u001b[39mrecarray):\n\u001b[1;32m    289\u001b[0m     \u001b[38;5;66;03m# GH 48526\u001b[39;00m\n\u001b[1;32m    290\u001b[0m     result \u001b[38;5;241m=\u001b[39m _isna_recarray_dtype(values, inf_as_na\u001b[38;5;241m=\u001b[39minf_as_na)\n\u001b[1;32m    291\u001b[0m \u001b[38;5;28;01melif\u001b[39;00m is_string_or_object_np_dtype(values\u001b[38;5;241m.\u001b[39mdtype):\n",
      "File \u001b[0;32m~/.local/lib/python3.12/site-packages/numpy/__init__.py:367\u001b[0m, in \u001b[0;36m__getattr__\u001b[0;34m(attr)\u001b[0m\n",
      "\u001b[0;31mModuleNotFoundError\u001b[0m: No module named 'numpy.rec'"
     ]
    },
    {
     "ename": "ModuleNotFoundError",
     "evalue": "No module named 'numpy.rec'",
     "output_type": "error",
     "traceback": [
      "\u001b[0;31m---------------------------------------------------------------------------\u001b[0m",
      "\u001b[0;31mModuleNotFoundError\u001b[0m                       Traceback (most recent call last)",
      "File \u001b[0;32m~/.local/lib/python3.12/site-packages/IPython/core/formatters.py:406\u001b[0m, in \u001b[0;36mBaseFormatter.__call__\u001b[0;34m(self, obj)\u001b[0m\n\u001b[1;32m    404\u001b[0m     method \u001b[38;5;241m=\u001b[39m get_real_method(obj, \u001b[38;5;28mself\u001b[39m\u001b[38;5;241m.\u001b[39mprint_method)\n\u001b[1;32m    405\u001b[0m     \u001b[38;5;28;01mif\u001b[39;00m method \u001b[38;5;129;01mis\u001b[39;00m \u001b[38;5;129;01mnot\u001b[39;00m \u001b[38;5;28;01mNone\u001b[39;00m:\n\u001b[0;32m--> 406\u001b[0m         \u001b[38;5;28;01mreturn\u001b[39;00m \u001b[43mmethod\u001b[49m\u001b[43m(\u001b[49m\u001b[43m)\u001b[49m\n\u001b[1;32m    407\u001b[0m     \u001b[38;5;28;01mreturn\u001b[39;00m \u001b[38;5;28;01mNone\u001b[39;00m\n\u001b[1;32m    408\u001b[0m \u001b[38;5;28;01melse\u001b[39;00m:\n",
      "File \u001b[0;32m~/.local/lib/python3.12/site-packages/pandas/core/frame.py:1256\u001b[0m, in \u001b[0;36mDataFrame._repr_html_\u001b[0;34m(self)\u001b[0m\n\u001b[1;32m   1234\u001b[0m     show_dimensions \u001b[38;5;241m=\u001b[39m get_option(\u001b[38;5;124m\"\u001b[39m\u001b[38;5;124mdisplay.show_dimensions\u001b[39m\u001b[38;5;124m\"\u001b[39m)\n\u001b[1;32m   1236\u001b[0m     formatter \u001b[38;5;241m=\u001b[39m fmt\u001b[38;5;241m.\u001b[39mDataFrameFormatter(\n\u001b[1;32m   1237\u001b[0m         \u001b[38;5;28mself\u001b[39m,\n\u001b[1;32m   1238\u001b[0m         columns\u001b[38;5;241m=\u001b[39m\u001b[38;5;28;01mNone\u001b[39;00m,\n\u001b[0;32m   (...)\u001b[0m\n\u001b[1;32m   1254\u001b[0m         decimal\u001b[38;5;241m=\u001b[39m\u001b[38;5;124m\"\u001b[39m\u001b[38;5;124m.\u001b[39m\u001b[38;5;124m\"\u001b[39m,\n\u001b[1;32m   1255\u001b[0m     )\n\u001b[0;32m-> 1256\u001b[0m     \u001b[38;5;28;01mreturn\u001b[39;00m \u001b[43mfmt\u001b[49m\u001b[38;5;241;43m.\u001b[39;49m\u001b[43mDataFrameRenderer\u001b[49m\u001b[43m(\u001b[49m\u001b[43mformatter\u001b[49m\u001b[43m)\u001b[49m\u001b[38;5;241;43m.\u001b[39;49m\u001b[43mto_html\u001b[49m\u001b[43m(\u001b[49m\u001b[43mnotebook\u001b[49m\u001b[38;5;241;43m=\u001b[39;49m\u001b[38;5;28;43;01mTrue\u001b[39;49;00m\u001b[43m)\u001b[49m\n\u001b[1;32m   1257\u001b[0m \u001b[38;5;28;01melse\u001b[39;00m:\n\u001b[1;32m   1258\u001b[0m     \u001b[38;5;28;01mreturn\u001b[39;00m \u001b[38;5;28;01mNone\u001b[39;00m\n",
      "File \u001b[0;32m~/.local/lib/python3.12/site-packages/pandas/io/formats/format.py:936\u001b[0m, in \u001b[0;36mDataFrameRenderer.to_html\u001b[0;34m(self, buf, encoding, classes, notebook, border, table_id, render_links)\u001b[0m\n\u001b[1;32m    927\u001b[0m Klass \u001b[38;5;241m=\u001b[39m NotebookFormatter \u001b[38;5;28;01mif\u001b[39;00m notebook \u001b[38;5;28;01melse\u001b[39;00m HTMLFormatter\n\u001b[1;32m    929\u001b[0m html_formatter \u001b[38;5;241m=\u001b[39m Klass(\n\u001b[1;32m    930\u001b[0m     \u001b[38;5;28mself\u001b[39m\u001b[38;5;241m.\u001b[39mfmt,\n\u001b[1;32m    931\u001b[0m     classes\u001b[38;5;241m=\u001b[39mclasses,\n\u001b[0;32m   (...)\u001b[0m\n\u001b[1;32m    934\u001b[0m     render_links\u001b[38;5;241m=\u001b[39mrender_links,\n\u001b[1;32m    935\u001b[0m )\n\u001b[0;32m--> 936\u001b[0m string \u001b[38;5;241m=\u001b[39m \u001b[43mhtml_formatter\u001b[49m\u001b[38;5;241;43m.\u001b[39;49m\u001b[43mto_string\u001b[49m\u001b[43m(\u001b[49m\u001b[43m)\u001b[49m\n\u001b[1;32m    937\u001b[0m \u001b[38;5;28;01mreturn\u001b[39;00m save_to_buffer(string, buf\u001b[38;5;241m=\u001b[39mbuf, encoding\u001b[38;5;241m=\u001b[39mencoding)\n",
      "File \u001b[0;32m~/.local/lib/python3.12/site-packages/pandas/io/formats/html.py:88\u001b[0m, in \u001b[0;36mHTMLFormatter.to_string\u001b[0;34m(self)\u001b[0m\n\u001b[1;32m     87\u001b[0m \u001b[38;5;28;01mdef\u001b[39;00m \u001b[38;5;21mto_string\u001b[39m(\u001b[38;5;28mself\u001b[39m) \u001b[38;5;241m-\u001b[39m\u001b[38;5;241m>\u001b[39m \u001b[38;5;28mstr\u001b[39m:\n\u001b[0;32m---> 88\u001b[0m     lines \u001b[38;5;241m=\u001b[39m \u001b[38;5;28;43mself\u001b[39;49m\u001b[38;5;241;43m.\u001b[39;49m\u001b[43mrender\u001b[49m\u001b[43m(\u001b[49m\u001b[43m)\u001b[49m\n\u001b[1;32m     89\u001b[0m     \u001b[38;5;28;01mif\u001b[39;00m \u001b[38;5;28many\u001b[39m(\u001b[38;5;28misinstance\u001b[39m(x, \u001b[38;5;28mstr\u001b[39m) \u001b[38;5;28;01mfor\u001b[39;00m x \u001b[38;5;129;01min\u001b[39;00m lines):\n\u001b[1;32m     90\u001b[0m         lines \u001b[38;5;241m=\u001b[39m [\u001b[38;5;28mstr\u001b[39m(x) \u001b[38;5;28;01mfor\u001b[39;00m x \u001b[38;5;129;01min\u001b[39;00m lines]\n",
      "File \u001b[0;32m~/.local/lib/python3.12/site-packages/pandas/io/formats/html.py:644\u001b[0m, in \u001b[0;36mNotebookFormatter.render\u001b[0;34m(self)\u001b[0m\n\u001b[1;32m    642\u001b[0m \u001b[38;5;28mself\u001b[39m\u001b[38;5;241m.\u001b[39mwrite(\u001b[38;5;124m\"\u001b[39m\u001b[38;5;124m<div>\u001b[39m\u001b[38;5;124m\"\u001b[39m)\n\u001b[1;32m    643\u001b[0m \u001b[38;5;28mself\u001b[39m\u001b[38;5;241m.\u001b[39mwrite_style()\n\u001b[0;32m--> 644\u001b[0m \u001b[38;5;28;43msuper\u001b[39;49m\u001b[43m(\u001b[49m\u001b[43m)\u001b[49m\u001b[38;5;241;43m.\u001b[39;49m\u001b[43mrender\u001b[49m\u001b[43m(\u001b[49m\u001b[43m)\u001b[49m\n\u001b[1;32m    645\u001b[0m \u001b[38;5;28mself\u001b[39m\u001b[38;5;241m.\u001b[39mwrite(\u001b[38;5;124m\"\u001b[39m\u001b[38;5;124m</div>\u001b[39m\u001b[38;5;124m\"\u001b[39m)\n\u001b[1;32m    646\u001b[0m \u001b[38;5;28;01mreturn\u001b[39;00m \u001b[38;5;28mself\u001b[39m\u001b[38;5;241m.\u001b[39melements\n",
      "File \u001b[0;32m~/.local/lib/python3.12/site-packages/pandas/io/formats/html.py:94\u001b[0m, in \u001b[0;36mHTMLFormatter.render\u001b[0;34m(self)\u001b[0m\n\u001b[1;32m     93\u001b[0m \u001b[38;5;28;01mdef\u001b[39;00m \u001b[38;5;21mrender\u001b[39m(\u001b[38;5;28mself\u001b[39m) \u001b[38;5;241m-\u001b[39m\u001b[38;5;241m>\u001b[39m \u001b[38;5;28mlist\u001b[39m[\u001b[38;5;28mstr\u001b[39m]:\n\u001b[0;32m---> 94\u001b[0m     \u001b[38;5;28;43mself\u001b[39;49m\u001b[38;5;241;43m.\u001b[39;49m\u001b[43m_write_table\u001b[49m\u001b[43m(\u001b[49m\u001b[43m)\u001b[49m\n\u001b[1;32m     96\u001b[0m     \u001b[38;5;28;01mif\u001b[39;00m \u001b[38;5;28mself\u001b[39m\u001b[38;5;241m.\u001b[39mshould_show_dimensions:\n\u001b[1;32m     97\u001b[0m         by \u001b[38;5;241m=\u001b[39m \u001b[38;5;28mchr\u001b[39m(\u001b[38;5;241m215\u001b[39m)  \u001b[38;5;66;03m# ×  # noqa: RUF003\u001b[39;00m\n",
      "File \u001b[0;32m~/.local/lib/python3.12/site-packages/pandas/io/formats/html.py:267\u001b[0m, in \u001b[0;36mHTMLFormatter._write_table\u001b[0;34m(self, indent)\u001b[0m\n\u001b[1;32m    261\u001b[0m \u001b[38;5;28mself\u001b[39m\u001b[38;5;241m.\u001b[39mwrite(\n\u001b[1;32m    262\u001b[0m     \u001b[38;5;124mf\u001b[39m\u001b[38;5;124m'\u001b[39m\u001b[38;5;124m<table\u001b[39m\u001b[38;5;132;01m{\u001b[39;00mborder_attr\u001b[38;5;132;01m}\u001b[39;00m\u001b[38;5;124m class=\u001b[39m\u001b[38;5;124m\"\u001b[39m\u001b[38;5;132;01m{\u001b[39;00m\u001b[38;5;124m\"\u001b[39m\u001b[38;5;124m \u001b[39m\u001b[38;5;124m\"\u001b[39m\u001b[38;5;241m.\u001b[39mjoin(_classes)\u001b[38;5;132;01m}\u001b[39;00m\u001b[38;5;124m\"\u001b[39m\u001b[38;5;132;01m{\u001b[39;00mid_section\u001b[38;5;132;01m}\u001b[39;00m\u001b[38;5;124m>\u001b[39m\u001b[38;5;124m'\u001b[39m,\n\u001b[1;32m    263\u001b[0m     indent,\n\u001b[1;32m    264\u001b[0m )\n\u001b[1;32m    266\u001b[0m \u001b[38;5;28;01mif\u001b[39;00m \u001b[38;5;28mself\u001b[39m\u001b[38;5;241m.\u001b[39mfmt\u001b[38;5;241m.\u001b[39mheader \u001b[38;5;129;01mor\u001b[39;00m \u001b[38;5;28mself\u001b[39m\u001b[38;5;241m.\u001b[39mshow_row_idx_names:\n\u001b[0;32m--> 267\u001b[0m     \u001b[38;5;28;43mself\u001b[39;49m\u001b[38;5;241;43m.\u001b[39;49m\u001b[43m_write_header\u001b[49m\u001b[43m(\u001b[49m\u001b[43mindent\u001b[49m\u001b[43m \u001b[49m\u001b[38;5;241;43m+\u001b[39;49m\u001b[43m \u001b[49m\u001b[38;5;28;43mself\u001b[39;49m\u001b[38;5;241;43m.\u001b[39;49m\u001b[43mindent_delta\u001b[49m\u001b[43m)\u001b[49m\n\u001b[1;32m    269\u001b[0m \u001b[38;5;28mself\u001b[39m\u001b[38;5;241m.\u001b[39m_write_body(indent \u001b[38;5;241m+\u001b[39m \u001b[38;5;28mself\u001b[39m\u001b[38;5;241m.\u001b[39mindent_delta)\n\u001b[1;32m    271\u001b[0m \u001b[38;5;28mself\u001b[39m\u001b[38;5;241m.\u001b[39mwrite(\u001b[38;5;124m\"\u001b[39m\u001b[38;5;124m</table>\u001b[39m\u001b[38;5;124m\"\u001b[39m, indent)\n",
      "File \u001b[0;32m~/.local/lib/python3.12/site-packages/pandas/io/formats/html.py:403\u001b[0m, in \u001b[0;36mHTMLFormatter._write_header\u001b[0;34m(self, indent)\u001b[0m\n\u001b[1;32m    400\u001b[0m \u001b[38;5;28mself\u001b[39m\u001b[38;5;241m.\u001b[39mwrite(\u001b[38;5;124m\"\u001b[39m\u001b[38;5;124m<thead>\u001b[39m\u001b[38;5;124m\"\u001b[39m, indent)\n\u001b[1;32m    402\u001b[0m \u001b[38;5;28;01mif\u001b[39;00m \u001b[38;5;28mself\u001b[39m\u001b[38;5;241m.\u001b[39mfmt\u001b[38;5;241m.\u001b[39mheader:\n\u001b[0;32m--> 403\u001b[0m     \u001b[38;5;28;43mself\u001b[39;49m\u001b[38;5;241;43m.\u001b[39;49m\u001b[43m_write_col_header\u001b[49m\u001b[43m(\u001b[49m\u001b[43mindent\u001b[49m\u001b[43m \u001b[49m\u001b[38;5;241;43m+\u001b[39;49m\u001b[43m \u001b[49m\u001b[38;5;28;43mself\u001b[39;49m\u001b[38;5;241;43m.\u001b[39;49m\u001b[43mindent_delta\u001b[49m\u001b[43m)\u001b[49m\n\u001b[1;32m    405\u001b[0m \u001b[38;5;28;01mif\u001b[39;00m \u001b[38;5;28mself\u001b[39m\u001b[38;5;241m.\u001b[39mshow_row_idx_names:\n\u001b[1;32m    406\u001b[0m     \u001b[38;5;28mself\u001b[39m\u001b[38;5;241m.\u001b[39m_write_row_header(indent \u001b[38;5;241m+\u001b[39m \u001b[38;5;28mself\u001b[39m\u001b[38;5;241m.\u001b[39mindent_delta)\n",
      "File \u001b[0;32m~/.local/lib/python3.12/site-packages/pandas/io/formats/html.py:383\u001b[0m, in \u001b[0;36mHTMLFormatter._write_col_header\u001b[0;34m(self, indent)\u001b[0m\n\u001b[1;32m    381\u001b[0m     \u001b[38;5;28;01melse\u001b[39;00m:\n\u001b[1;32m    382\u001b[0m         row\u001b[38;5;241m.\u001b[39mappend(\u001b[38;5;124m\"\u001b[39m\u001b[38;5;124m\"\u001b[39m)\n\u001b[0;32m--> 383\u001b[0m row\u001b[38;5;241m.\u001b[39mextend(\u001b[38;5;28;43mself\u001b[39;49m\u001b[38;5;241;43m.\u001b[39;49m\u001b[43m_get_columns_formatted_values\u001b[49m\u001b[43m(\u001b[49m\u001b[43m)\u001b[49m)\n\u001b[1;32m    384\u001b[0m align \u001b[38;5;241m=\u001b[39m \u001b[38;5;28mself\u001b[39m\u001b[38;5;241m.\u001b[39mfmt\u001b[38;5;241m.\u001b[39mjustify\n\u001b[1;32m    386\u001b[0m \u001b[38;5;28;01mif\u001b[39;00m is_truncated_horizontally:\n",
      "File \u001b[0;32m~/.local/lib/python3.12/site-packages/pandas/io/formats/html.py:611\u001b[0m, in \u001b[0;36mNotebookFormatter._get_columns_formatted_values\u001b[0;34m(self)\u001b[0m\n\u001b[1;32m    609\u001b[0m \u001b[38;5;28;01mdef\u001b[39;00m \u001b[38;5;21m_get_columns_formatted_values\u001b[39m(\u001b[38;5;28mself\u001b[39m) \u001b[38;5;241m-\u001b[39m\u001b[38;5;241m>\u001b[39m \u001b[38;5;28mlist\u001b[39m[\u001b[38;5;28mstr\u001b[39m]:\n\u001b[1;32m    610\u001b[0m     \u001b[38;5;66;03m# only reached with non-Multi Index\u001b[39;00m\n\u001b[0;32m--> 611\u001b[0m     \u001b[38;5;28;01mreturn\u001b[39;00m \u001b[38;5;28;43mself\u001b[39;49m\u001b[38;5;241;43m.\u001b[39;49m\u001b[43mcolumns\u001b[49m\u001b[38;5;241;43m.\u001b[39;49m\u001b[43m_format_flat\u001b[49m\u001b[43m(\u001b[49m\u001b[43minclude_name\u001b[49m\u001b[38;5;241;43m=\u001b[39;49m\u001b[38;5;28;43;01mFalse\u001b[39;49;00m\u001b[43m)\u001b[49m\n",
      "File \u001b[0;32m~/.local/lib/python3.12/site-packages/pandas/core/indexes/base.py:1446\u001b[0m, in \u001b[0;36mIndex._format_flat\u001b[0;34m(self, include_name, formatter)\u001b[0m\n\u001b[1;32m   1443\u001b[0m \u001b[38;5;28;01mif\u001b[39;00m formatter \u001b[38;5;129;01mis\u001b[39;00m \u001b[38;5;129;01mnot\u001b[39;00m \u001b[38;5;28;01mNone\u001b[39;00m:\n\u001b[1;32m   1444\u001b[0m     \u001b[38;5;28;01mreturn\u001b[39;00m header \u001b[38;5;241m+\u001b[39m \u001b[38;5;28mlist\u001b[39m(\u001b[38;5;28mself\u001b[39m\u001b[38;5;241m.\u001b[39mmap(formatter))\n\u001b[0;32m-> 1446\u001b[0m \u001b[38;5;28;01mreturn\u001b[39;00m \u001b[38;5;28;43mself\u001b[39;49m\u001b[38;5;241;43m.\u001b[39;49m\u001b[43m_format_with_header\u001b[49m\u001b[43m(\u001b[49m\u001b[43mheader\u001b[49m\u001b[38;5;241;43m=\u001b[39;49m\u001b[43mheader\u001b[49m\u001b[43m,\u001b[49m\u001b[43m \u001b[49m\u001b[43mna_rep\u001b[49m\u001b[38;5;241;43m=\u001b[39;49m\u001b[38;5;28;43mself\u001b[39;49m\u001b[38;5;241;43m.\u001b[39;49m\u001b[43m_default_na_rep\u001b[49m\u001b[43m)\u001b[49m\n",
      "File \u001b[0;32m~/.local/lib/python3.12/site-packages/pandas/core/indexes/base.py:1465\u001b[0m, in \u001b[0;36mIndex._format_with_header\u001b[0;34m(self, header, na_rep)\u001b[0m\n\u001b[1;32m   1461\u001b[0m     justify \u001b[38;5;241m=\u001b[39m \u001b[38;5;124m\"\u001b[39m\u001b[38;5;124mleft\u001b[39m\u001b[38;5;124m\"\u001b[39m\n\u001b[1;32m   1462\u001b[0m \u001b[38;5;66;03m# passing leading_space=False breaks test_format_missing,\u001b[39;00m\n\u001b[1;32m   1463\u001b[0m \u001b[38;5;66;03m#  test_index_repr_in_frame_with_nan, but would otherwise make\u001b[39;00m\n\u001b[1;32m   1464\u001b[0m \u001b[38;5;66;03m#  trim_front unnecessary\u001b[39;00m\n\u001b[0;32m-> 1465\u001b[0m formatted \u001b[38;5;241m=\u001b[39m \u001b[43mformat_array\u001b[49m\u001b[43m(\u001b[49m\u001b[43mvalues\u001b[49m\u001b[43m,\u001b[49m\u001b[43m \u001b[49m\u001b[38;5;28;43;01mNone\u001b[39;49;00m\u001b[43m,\u001b[49m\u001b[43m \u001b[49m\u001b[43mjustify\u001b[49m\u001b[38;5;241;43m=\u001b[39;49m\u001b[43mjustify\u001b[49m\u001b[43m)\u001b[49m\n\u001b[1;32m   1466\u001b[0m result \u001b[38;5;241m=\u001b[39m trim_front(formatted)\n\u001b[1;32m   1467\u001b[0m \u001b[38;5;28;01mreturn\u001b[39;00m header \u001b[38;5;241m+\u001b[39m result\n",
      "File \u001b[0;32m~/.local/lib/python3.12/site-packages/pandas/io/formats/format.py:1161\u001b[0m, in \u001b[0;36mformat_array\u001b[0;34m(values, formatter, float_format, na_rep, digits, space, justify, decimal, leading_space, quoting, fallback_formatter)\u001b[0m\n\u001b[1;32m   1145\u001b[0m     digits \u001b[38;5;241m=\u001b[39m get_option(\u001b[38;5;124m\"\u001b[39m\u001b[38;5;124mdisplay.precision\u001b[39m\u001b[38;5;124m\"\u001b[39m)\n\u001b[1;32m   1147\u001b[0m fmt_obj \u001b[38;5;241m=\u001b[39m fmt_klass(\n\u001b[1;32m   1148\u001b[0m     values,\n\u001b[1;32m   1149\u001b[0m     digits\u001b[38;5;241m=\u001b[39mdigits,\n\u001b[0;32m   (...)\u001b[0m\n\u001b[1;32m   1158\u001b[0m     fallback_formatter\u001b[38;5;241m=\u001b[39mfallback_formatter,\n\u001b[1;32m   1159\u001b[0m )\n\u001b[0;32m-> 1161\u001b[0m \u001b[38;5;28;01mreturn\u001b[39;00m \u001b[43mfmt_obj\u001b[49m\u001b[38;5;241;43m.\u001b[39;49m\u001b[43mget_result\u001b[49m\u001b[43m(\u001b[49m\u001b[43m)\u001b[49m\n",
      "File \u001b[0;32m~/.local/lib/python3.12/site-packages/pandas/io/formats/format.py:1194\u001b[0m, in \u001b[0;36m_GenericArrayFormatter.get_result\u001b[0;34m(self)\u001b[0m\n\u001b[1;32m   1193\u001b[0m \u001b[38;5;28;01mdef\u001b[39;00m \u001b[38;5;21mget_result\u001b[39m(\u001b[38;5;28mself\u001b[39m) \u001b[38;5;241m-\u001b[39m\u001b[38;5;241m>\u001b[39m \u001b[38;5;28mlist\u001b[39m[\u001b[38;5;28mstr\u001b[39m]:\n\u001b[0;32m-> 1194\u001b[0m     fmt_values \u001b[38;5;241m=\u001b[39m \u001b[38;5;28;43mself\u001b[39;49m\u001b[38;5;241;43m.\u001b[39;49m\u001b[43m_format_strings\u001b[49m\u001b[43m(\u001b[49m\u001b[43m)\u001b[49m\n\u001b[1;32m   1195\u001b[0m     \u001b[38;5;28;01mreturn\u001b[39;00m _make_fixed_width(fmt_values, \u001b[38;5;28mself\u001b[39m\u001b[38;5;241m.\u001b[39mjustify)\n",
      "File \u001b[0;32m~/.local/lib/python3.12/site-packages/pandas/io/formats/format.py:1250\u001b[0m, in \u001b[0;36m_GenericArrayFormatter._format_strings\u001b[0;34m(self)\u001b[0m\n\u001b[1;32m   1243\u001b[0m     \u001b[38;5;28;01mraise\u001b[39;00m \u001b[38;5;167;01mTypeError\u001b[39;00m(\n\u001b[1;32m   1244\u001b[0m         \u001b[38;5;124m\"\u001b[39m\u001b[38;5;124mExtensionArray formatting should use _ExtensionArrayFormatter\u001b[39m\u001b[38;5;124m\"\u001b[39m\n\u001b[1;32m   1245\u001b[0m     )\n\u001b[1;32m   1246\u001b[0m inferred \u001b[38;5;241m=\u001b[39m lib\u001b[38;5;241m.\u001b[39mmap_infer(vals, is_float)\n\u001b[1;32m   1247\u001b[0m is_float_type \u001b[38;5;241m=\u001b[39m (\n\u001b[1;32m   1248\u001b[0m     inferred\n\u001b[1;32m   1249\u001b[0m     \u001b[38;5;66;03m# vals may have 2 or more dimensions\u001b[39;00m\n\u001b[0;32m-> 1250\u001b[0m     \u001b[38;5;241m&\u001b[39m np\u001b[38;5;241m.\u001b[39mall(\u001b[43mnotna\u001b[49m\u001b[43m(\u001b[49m\u001b[43mvals\u001b[49m\u001b[43m)\u001b[49m, axis\u001b[38;5;241m=\u001b[39m\u001b[38;5;28mtuple\u001b[39m(\u001b[38;5;28mrange\u001b[39m(\u001b[38;5;241m1\u001b[39m, \u001b[38;5;28mlen\u001b[39m(vals\u001b[38;5;241m.\u001b[39mshape))))\n\u001b[1;32m   1251\u001b[0m )\n\u001b[1;32m   1252\u001b[0m leading_space \u001b[38;5;241m=\u001b[39m \u001b[38;5;28mself\u001b[39m\u001b[38;5;241m.\u001b[39mleading_space\n\u001b[1;32m   1253\u001b[0m \u001b[38;5;28;01mif\u001b[39;00m leading_space \u001b[38;5;129;01mis\u001b[39;00m \u001b[38;5;28;01mNone\u001b[39;00m:\n",
      "File \u001b[0;32m~/.local/lib/python3.12/site-packages/pandas/core/dtypes/missing.py:457\u001b[0m, in \u001b[0;36mnotna\u001b[0;34m(obj)\u001b[0m\n\u001b[1;32m    380\u001b[0m \u001b[38;5;28;01mdef\u001b[39;00m \u001b[38;5;21mnotna\u001b[39m(obj: \u001b[38;5;28mobject\u001b[39m) \u001b[38;5;241m-\u001b[39m\u001b[38;5;241m>\u001b[39m \u001b[38;5;28mbool\u001b[39m \u001b[38;5;241m|\u001b[39m npt\u001b[38;5;241m.\u001b[39mNDArray[np\u001b[38;5;241m.\u001b[39mbool_] \u001b[38;5;241m|\u001b[39m NDFrame:\n\u001b[1;32m    381\u001b[0m \u001b[38;5;250m    \u001b[39m\u001b[38;5;124;03m\"\"\"\u001b[39;00m\n\u001b[1;32m    382\u001b[0m \u001b[38;5;124;03m    Detect non-missing values for an array-like object.\u001b[39;00m\n\u001b[1;32m    383\u001b[0m \n\u001b[0;32m   (...)\u001b[0m\n\u001b[1;32m    455\u001b[0m \u001b[38;5;124;03m    Name: 1, dtype: bool\u001b[39;00m\n\u001b[1;32m    456\u001b[0m \u001b[38;5;124;03m    \"\"\"\u001b[39;00m\n\u001b[0;32m--> 457\u001b[0m     res \u001b[38;5;241m=\u001b[39m \u001b[43misna\u001b[49m\u001b[43m(\u001b[49m\u001b[43mobj\u001b[49m\u001b[43m)\u001b[49m\n\u001b[1;32m    458\u001b[0m     \u001b[38;5;28;01mif\u001b[39;00m \u001b[38;5;28misinstance\u001b[39m(res, \u001b[38;5;28mbool\u001b[39m):\n\u001b[1;32m    459\u001b[0m         \u001b[38;5;28;01mreturn\u001b[39;00m \u001b[38;5;129;01mnot\u001b[39;00m res\n",
      "File \u001b[0;32m~/.local/lib/python3.12/site-packages/pandas/core/dtypes/missing.py:178\u001b[0m, in \u001b[0;36misna\u001b[0;34m(obj)\u001b[0m\n\u001b[1;32m    101\u001b[0m \u001b[38;5;28;01mdef\u001b[39;00m \u001b[38;5;21misna\u001b[39m(obj: \u001b[38;5;28mobject\u001b[39m) \u001b[38;5;241m-\u001b[39m\u001b[38;5;241m>\u001b[39m \u001b[38;5;28mbool\u001b[39m \u001b[38;5;241m|\u001b[39m npt\u001b[38;5;241m.\u001b[39mNDArray[np\u001b[38;5;241m.\u001b[39mbool_] \u001b[38;5;241m|\u001b[39m NDFrame:\n\u001b[1;32m    102\u001b[0m \u001b[38;5;250m    \u001b[39m\u001b[38;5;124;03m\"\"\"\u001b[39;00m\n\u001b[1;32m    103\u001b[0m \u001b[38;5;124;03m    Detect missing values for an array-like object.\u001b[39;00m\n\u001b[1;32m    104\u001b[0m \n\u001b[0;32m   (...)\u001b[0m\n\u001b[1;32m    176\u001b[0m \u001b[38;5;124;03m    Name: 1, dtype: bool\u001b[39;00m\n\u001b[1;32m    177\u001b[0m \u001b[38;5;124;03m    \"\"\"\u001b[39;00m\n\u001b[0;32m--> 178\u001b[0m     \u001b[38;5;28;01mreturn\u001b[39;00m \u001b[43m_isna\u001b[49m\u001b[43m(\u001b[49m\u001b[43mobj\u001b[49m\u001b[43m)\u001b[49m\n",
      "File \u001b[0;32m~/.local/lib/python3.12/site-packages/pandas/core/dtypes/missing.py:207\u001b[0m, in \u001b[0;36m_isna\u001b[0;34m(obj, inf_as_na)\u001b[0m\n\u001b[1;32m    205\u001b[0m     \u001b[38;5;28;01mreturn\u001b[39;00m \u001b[38;5;28;01mFalse\u001b[39;00m\n\u001b[1;32m    206\u001b[0m \u001b[38;5;28;01melif\u001b[39;00m \u001b[38;5;28misinstance\u001b[39m(obj, (np\u001b[38;5;241m.\u001b[39mndarray, ABCExtensionArray)):\n\u001b[0;32m--> 207\u001b[0m     \u001b[38;5;28;01mreturn\u001b[39;00m \u001b[43m_isna_array\u001b[49m\u001b[43m(\u001b[49m\u001b[43mobj\u001b[49m\u001b[43m,\u001b[49m\u001b[43m \u001b[49m\u001b[43minf_as_na\u001b[49m\u001b[38;5;241;43m=\u001b[39;49m\u001b[43minf_as_na\u001b[49m\u001b[43m)\u001b[49m\n\u001b[1;32m    208\u001b[0m \u001b[38;5;28;01melif\u001b[39;00m \u001b[38;5;28misinstance\u001b[39m(obj, ABCIndex):\n\u001b[1;32m    209\u001b[0m     \u001b[38;5;66;03m# Try to use cached isna, which also short-circuits for integer dtypes\u001b[39;00m\n\u001b[1;32m    210\u001b[0m     \u001b[38;5;66;03m#  and avoids materializing RangeIndex._values\u001b[39;00m\n\u001b[1;32m    211\u001b[0m     \u001b[38;5;28;01mif\u001b[39;00m \u001b[38;5;129;01mnot\u001b[39;00m obj\u001b[38;5;241m.\u001b[39m_can_hold_na:\n",
      "File \u001b[0;32m~/.local/lib/python3.12/site-packages/pandas/core/dtypes/missing.py:288\u001b[0m, in \u001b[0;36m_isna_array\u001b[0;34m(values, inf_as_na)\u001b[0m\n\u001b[1;32m    283\u001b[0m     \u001b[38;5;28;01melse\u001b[39;00m:\n\u001b[1;32m    284\u001b[0m         \u001b[38;5;66;03m# error: Incompatible types in assignment (expression has type\u001b[39;00m\n\u001b[1;32m    285\u001b[0m         \u001b[38;5;66;03m# \"Union[ndarray[Any, Any], ExtensionArraySupportsAnyAll]\", variable has\u001b[39;00m\n\u001b[1;32m    286\u001b[0m         \u001b[38;5;66;03m# type \"ndarray[Any, dtype[bool_]]\")\u001b[39;00m\n\u001b[1;32m    287\u001b[0m         result \u001b[38;5;241m=\u001b[39m values\u001b[38;5;241m.\u001b[39misna()  \u001b[38;5;66;03m# type: ignore[assignment]\u001b[39;00m\n\u001b[0;32m--> 288\u001b[0m \u001b[38;5;28;01melif\u001b[39;00m \u001b[38;5;28misinstance\u001b[39m(values, \u001b[43mnp\u001b[49m\u001b[38;5;241;43m.\u001b[39;49m\u001b[43mrec\u001b[49m\u001b[38;5;241m.\u001b[39mrecarray):\n\u001b[1;32m    289\u001b[0m     \u001b[38;5;66;03m# GH 48526\u001b[39;00m\n\u001b[1;32m    290\u001b[0m     result \u001b[38;5;241m=\u001b[39m _isna_recarray_dtype(values, inf_as_na\u001b[38;5;241m=\u001b[39minf_as_na)\n\u001b[1;32m    291\u001b[0m \u001b[38;5;28;01melif\u001b[39;00m is_string_or_object_np_dtype(values\u001b[38;5;241m.\u001b[39mdtype):\n",
      "File \u001b[0;32m~/.local/lib/python3.12/site-packages/numpy/__init__.py:367\u001b[0m, in \u001b[0;36m__getattr__\u001b[0;34m(attr)\u001b[0m\n",
      "\u001b[0;31mModuleNotFoundError\u001b[0m: No module named 'numpy.rec'"
     ]
    }
   ],
   "source": [
    "# Download de tabela auxiliar de CID10\n",
    "cid10 = get_CID10_table()\n",
    "cid10.head()"
   ]
  },
  {
   "cell_type": "code",
   "execution_count": 11,
   "metadata": {},
   "outputs": [
    {
     "name": "stderr",
     "output_type": "stream",
     "text": [
      "2024-12-26 13:55:15.591 | DEBUG    | pysus.online_data.SIM:get_municipios:208 - Stablishing connection with ftp.datasus.gov.br.\n",
      "220 Microsoft FTP Service\n",
      "2024-12-26 13:55:15.623 | DEBUG    | pysus.online_data.SIM:get_municipios:212 - Changing FTP work dir to: /dissemin/publicos/SIM/CID10/TABELAS\n",
      "2024-12-26 13:55:16.535 | INFO     | pysus.online_data.SIM:get_municipios:238 - Data stored as parquet at ./downloads_sim_original/SIM_CADMUN_.parquet\n",
      "2024-12-26 13:55:16.536 | DEBUG    | pysus.online_data.SIM:get_municipios:241 - CADMUN.DBF removed\n"
     ]
    },
    {
     "ename": "ModuleNotFoundError",
     "evalue": "No module named 'numpy.rec'",
     "output_type": "error",
     "traceback": [
      "\u001b[0;31m---------------------------------------------------------------------------\u001b[0m",
      "\u001b[0;31mModuleNotFoundError\u001b[0m                       Traceback (most recent call last)",
      "Cell \u001b[0;32mIn[11], line 3\u001b[0m\n\u001b[1;32m      1\u001b[0m \u001b[38;5;66;03m# Download de tabela auxiliar de CID10\u001b[39;00m\n\u001b[1;32m      2\u001b[0m munic \u001b[38;5;241m=\u001b[39m get_municipios()\n\u001b[0;32m----> 3\u001b[0m \u001b[38;5;28;43mprint\u001b[39;49m\u001b[43m(\u001b[49m\u001b[43mmunic\u001b[49m\u001b[38;5;241;43m.\u001b[39;49m\u001b[43mhead\u001b[49m\u001b[43m(\u001b[49m\u001b[43m)\u001b[49m\u001b[43m)\u001b[49m\n",
      "File \u001b[0;32m~/.local/lib/python3.12/site-packages/pandas/core/frame.py:1214\u001b[0m, in \u001b[0;36mDataFrame.__repr__\u001b[0;34m(self)\u001b[0m\n\u001b[1;32m   1211\u001b[0m     \u001b[38;5;28;01mreturn\u001b[39;00m buf\u001b[38;5;241m.\u001b[39mgetvalue()\n\u001b[1;32m   1213\u001b[0m repr_params \u001b[38;5;241m=\u001b[39m fmt\u001b[38;5;241m.\u001b[39mget_dataframe_repr_params()\n\u001b[0;32m-> 1214\u001b[0m \u001b[38;5;28;01mreturn\u001b[39;00m \u001b[38;5;28;43mself\u001b[39;49m\u001b[38;5;241;43m.\u001b[39;49m\u001b[43mto_string\u001b[49m\u001b[43m(\u001b[49m\u001b[38;5;241;43m*\u001b[39;49m\u001b[38;5;241;43m*\u001b[39;49m\u001b[43mrepr_params\u001b[49m\u001b[43m)\u001b[49m\n",
      "File \u001b[0;32m~/.local/lib/python3.12/site-packages/pandas/util/_decorators.py:333\u001b[0m, in \u001b[0;36mdeprecate_nonkeyword_arguments.<locals>.decorate.<locals>.wrapper\u001b[0;34m(*args, **kwargs)\u001b[0m\n\u001b[1;32m    327\u001b[0m \u001b[38;5;28;01mif\u001b[39;00m \u001b[38;5;28mlen\u001b[39m(args) \u001b[38;5;241m>\u001b[39m num_allow_args:\n\u001b[1;32m    328\u001b[0m     warnings\u001b[38;5;241m.\u001b[39mwarn(\n\u001b[1;32m    329\u001b[0m         msg\u001b[38;5;241m.\u001b[39mformat(arguments\u001b[38;5;241m=\u001b[39m_format_argument_list(allow_args)),\n\u001b[1;32m    330\u001b[0m         \u001b[38;5;167;01mFutureWarning\u001b[39;00m,\n\u001b[1;32m    331\u001b[0m         stacklevel\u001b[38;5;241m=\u001b[39mfind_stack_level(),\n\u001b[1;32m    332\u001b[0m     )\n\u001b[0;32m--> 333\u001b[0m \u001b[38;5;28;01mreturn\u001b[39;00m \u001b[43mfunc\u001b[49m\u001b[43m(\u001b[49m\u001b[38;5;241;43m*\u001b[39;49m\u001b[43margs\u001b[49m\u001b[43m,\u001b[49m\u001b[43m \u001b[49m\u001b[38;5;241;43m*\u001b[39;49m\u001b[38;5;241;43m*\u001b[39;49m\u001b[43mkwargs\u001b[49m\u001b[43m)\u001b[49m\n",
      "File \u001b[0;32m~/.local/lib/python3.12/site-packages/pandas/core/frame.py:1394\u001b[0m, in \u001b[0;36mDataFrame.to_string\u001b[0;34m(self, buf, columns, col_space, header, index, na_rep, formatters, float_format, sparsify, index_names, justify, max_rows, max_cols, show_dimensions, decimal, line_width, min_rows, max_colwidth, encoding)\u001b[0m\n\u001b[1;32m   1375\u001b[0m \u001b[38;5;28;01mwith\u001b[39;00m option_context(\u001b[38;5;124m\"\u001b[39m\u001b[38;5;124mdisplay.max_colwidth\u001b[39m\u001b[38;5;124m\"\u001b[39m, max_colwidth):\n\u001b[1;32m   1376\u001b[0m     formatter \u001b[38;5;241m=\u001b[39m fmt\u001b[38;5;241m.\u001b[39mDataFrameFormatter(\n\u001b[1;32m   1377\u001b[0m         \u001b[38;5;28mself\u001b[39m,\n\u001b[1;32m   1378\u001b[0m         columns\u001b[38;5;241m=\u001b[39mcolumns,\n\u001b[0;32m   (...)\u001b[0m\n\u001b[1;32m   1392\u001b[0m         decimal\u001b[38;5;241m=\u001b[39mdecimal,\n\u001b[1;32m   1393\u001b[0m     )\n\u001b[0;32m-> 1394\u001b[0m     \u001b[38;5;28;01mreturn\u001b[39;00m \u001b[43mfmt\u001b[49m\u001b[38;5;241;43m.\u001b[39;49m\u001b[43mDataFrameRenderer\u001b[49m\u001b[43m(\u001b[49m\u001b[43mformatter\u001b[49m\u001b[43m)\u001b[49m\u001b[38;5;241;43m.\u001b[39;49m\u001b[43mto_string\u001b[49m\u001b[43m(\u001b[49m\n\u001b[1;32m   1395\u001b[0m \u001b[43m        \u001b[49m\u001b[43mbuf\u001b[49m\u001b[38;5;241;43m=\u001b[39;49m\u001b[43mbuf\u001b[49m\u001b[43m,\u001b[49m\n\u001b[1;32m   1396\u001b[0m \u001b[43m        \u001b[49m\u001b[43mencoding\u001b[49m\u001b[38;5;241;43m=\u001b[39;49m\u001b[43mencoding\u001b[49m\u001b[43m,\u001b[49m\n\u001b[1;32m   1397\u001b[0m \u001b[43m        \u001b[49m\u001b[43mline_width\u001b[49m\u001b[38;5;241;43m=\u001b[39;49m\u001b[43mline_width\u001b[49m\u001b[43m,\u001b[49m\n\u001b[1;32m   1398\u001b[0m \u001b[43m    \u001b[49m\u001b[43m)\u001b[49m\n",
      "File \u001b[0;32m~/.local/lib/python3.12/site-packages/pandas/io/formats/format.py:962\u001b[0m, in \u001b[0;36mDataFrameRenderer.to_string\u001b[0;34m(self, buf, encoding, line_width)\u001b[0m\n\u001b[1;32m    959\u001b[0m \u001b[38;5;28;01mfrom\u001b[39;00m \u001b[38;5;21;01mpandas\u001b[39;00m\u001b[38;5;21;01m.\u001b[39;00m\u001b[38;5;21;01mio\u001b[39;00m\u001b[38;5;21;01m.\u001b[39;00m\u001b[38;5;21;01mformats\u001b[39;00m\u001b[38;5;21;01m.\u001b[39;00m\u001b[38;5;21;01mstring\u001b[39;00m \u001b[38;5;28;01mimport\u001b[39;00m StringFormatter\n\u001b[1;32m    961\u001b[0m string_formatter \u001b[38;5;241m=\u001b[39m StringFormatter(\u001b[38;5;28mself\u001b[39m\u001b[38;5;241m.\u001b[39mfmt, line_width\u001b[38;5;241m=\u001b[39mline_width)\n\u001b[0;32m--> 962\u001b[0m string \u001b[38;5;241m=\u001b[39m \u001b[43mstring_formatter\u001b[49m\u001b[38;5;241;43m.\u001b[39;49m\u001b[43mto_string\u001b[49m\u001b[43m(\u001b[49m\u001b[43m)\u001b[49m\n\u001b[1;32m    963\u001b[0m \u001b[38;5;28;01mreturn\u001b[39;00m save_to_buffer(string, buf\u001b[38;5;241m=\u001b[39mbuf, encoding\u001b[38;5;241m=\u001b[39mencoding)\n",
      "File \u001b[0;32m~/.local/lib/python3.12/site-packages/pandas/io/formats/string.py:29\u001b[0m, in \u001b[0;36mStringFormatter.to_string\u001b[0;34m(self)\u001b[0m\n\u001b[1;32m     28\u001b[0m \u001b[38;5;28;01mdef\u001b[39;00m \u001b[38;5;21mto_string\u001b[39m(\u001b[38;5;28mself\u001b[39m) \u001b[38;5;241m-\u001b[39m\u001b[38;5;241m>\u001b[39m \u001b[38;5;28mstr\u001b[39m:\n\u001b[0;32m---> 29\u001b[0m     text \u001b[38;5;241m=\u001b[39m \u001b[38;5;28;43mself\u001b[39;49m\u001b[38;5;241;43m.\u001b[39;49m\u001b[43m_get_string_representation\u001b[49m\u001b[43m(\u001b[49m\u001b[43m)\u001b[49m\n\u001b[1;32m     30\u001b[0m     \u001b[38;5;28;01mif\u001b[39;00m \u001b[38;5;28mself\u001b[39m\u001b[38;5;241m.\u001b[39mfmt\u001b[38;5;241m.\u001b[39mshould_show_dimensions:\n\u001b[1;32m     31\u001b[0m         text \u001b[38;5;241m=\u001b[39m \u001b[38;5;124mf\u001b[39m\u001b[38;5;124m\"\u001b[39m\u001b[38;5;132;01m{\u001b[39;00mtext\u001b[38;5;132;01m}\u001b[39;00m\u001b[38;5;132;01m{\u001b[39;00m\u001b[38;5;28mself\u001b[39m\u001b[38;5;241m.\u001b[39mfmt\u001b[38;5;241m.\u001b[39mdimensions_info\u001b[38;5;132;01m}\u001b[39;00m\u001b[38;5;124m\"\u001b[39m\n",
      "File \u001b[0;32m~/.local/lib/python3.12/site-packages/pandas/io/formats/string.py:44\u001b[0m, in \u001b[0;36mStringFormatter._get_string_representation\u001b[0;34m(self)\u001b[0m\n\u001b[1;32m     41\u001b[0m \u001b[38;5;28;01mif\u001b[39;00m \u001b[38;5;28mself\u001b[39m\u001b[38;5;241m.\u001b[39mfmt\u001b[38;5;241m.\u001b[39mframe\u001b[38;5;241m.\u001b[39mempty:\n\u001b[1;32m     42\u001b[0m     \u001b[38;5;28;01mreturn\u001b[39;00m \u001b[38;5;28mself\u001b[39m\u001b[38;5;241m.\u001b[39m_empty_info_line\n\u001b[0;32m---> 44\u001b[0m strcols \u001b[38;5;241m=\u001b[39m \u001b[38;5;28;43mself\u001b[39;49m\u001b[38;5;241;43m.\u001b[39;49m\u001b[43m_get_strcols\u001b[49m\u001b[43m(\u001b[49m\u001b[43m)\u001b[49m\n\u001b[1;32m     46\u001b[0m \u001b[38;5;28;01mif\u001b[39;00m \u001b[38;5;28mself\u001b[39m\u001b[38;5;241m.\u001b[39mline_width \u001b[38;5;129;01mis\u001b[39;00m \u001b[38;5;28;01mNone\u001b[39;00m:\n\u001b[1;32m     47\u001b[0m     \u001b[38;5;66;03m# no need to wrap around just print the whole frame\u001b[39;00m\n\u001b[1;32m     48\u001b[0m     \u001b[38;5;28;01mreturn\u001b[39;00m \u001b[38;5;28mself\u001b[39m\u001b[38;5;241m.\u001b[39madj\u001b[38;5;241m.\u001b[39madjoin(\u001b[38;5;241m1\u001b[39m, \u001b[38;5;241m*\u001b[39mstrcols)\n",
      "File \u001b[0;32m~/.local/lib/python3.12/site-packages/pandas/io/formats/string.py:35\u001b[0m, in \u001b[0;36mStringFormatter._get_strcols\u001b[0;34m(self)\u001b[0m\n\u001b[1;32m     34\u001b[0m \u001b[38;5;28;01mdef\u001b[39;00m \u001b[38;5;21m_get_strcols\u001b[39m(\u001b[38;5;28mself\u001b[39m) \u001b[38;5;241m-\u001b[39m\u001b[38;5;241m>\u001b[39m \u001b[38;5;28mlist\u001b[39m[\u001b[38;5;28mlist\u001b[39m[\u001b[38;5;28mstr\u001b[39m]]:\n\u001b[0;32m---> 35\u001b[0m     strcols \u001b[38;5;241m=\u001b[39m \u001b[38;5;28;43mself\u001b[39;49m\u001b[38;5;241;43m.\u001b[39;49m\u001b[43mfmt\u001b[49m\u001b[38;5;241;43m.\u001b[39;49m\u001b[43mget_strcols\u001b[49m\u001b[43m(\u001b[49m\u001b[43m)\u001b[49m\n\u001b[1;32m     36\u001b[0m     \u001b[38;5;28;01mif\u001b[39;00m \u001b[38;5;28mself\u001b[39m\u001b[38;5;241m.\u001b[39mfmt\u001b[38;5;241m.\u001b[39mis_truncated:\n\u001b[1;32m     37\u001b[0m         strcols \u001b[38;5;241m=\u001b[39m \u001b[38;5;28mself\u001b[39m\u001b[38;5;241m.\u001b[39m_insert_dot_separators(strcols)\n",
      "File \u001b[0;32m~/.local/lib/python3.12/site-packages/pandas/io/formats/format.py:476\u001b[0m, in \u001b[0;36mDataFrameFormatter.get_strcols\u001b[0;34m(self)\u001b[0m\n\u001b[1;32m    472\u001b[0m \u001b[38;5;28;01mdef\u001b[39;00m \u001b[38;5;21mget_strcols\u001b[39m(\u001b[38;5;28mself\u001b[39m) \u001b[38;5;241m-\u001b[39m\u001b[38;5;241m>\u001b[39m \u001b[38;5;28mlist\u001b[39m[\u001b[38;5;28mlist\u001b[39m[\u001b[38;5;28mstr\u001b[39m]]:\n\u001b[1;32m    473\u001b[0m \u001b[38;5;250m    \u001b[39m\u001b[38;5;124;03m\"\"\"\u001b[39;00m\n\u001b[1;32m    474\u001b[0m \u001b[38;5;124;03m    Render a DataFrame to a list of columns (as lists of strings).\u001b[39;00m\n\u001b[1;32m    475\u001b[0m \u001b[38;5;124;03m    \"\"\"\u001b[39;00m\n\u001b[0;32m--> 476\u001b[0m     strcols \u001b[38;5;241m=\u001b[39m \u001b[38;5;28;43mself\u001b[39;49m\u001b[38;5;241;43m.\u001b[39;49m\u001b[43m_get_strcols_without_index\u001b[49m\u001b[43m(\u001b[49m\u001b[43m)\u001b[49m\n\u001b[1;32m    478\u001b[0m     \u001b[38;5;28;01mif\u001b[39;00m \u001b[38;5;28mself\u001b[39m\u001b[38;5;241m.\u001b[39mindex:\n\u001b[1;32m    479\u001b[0m         str_index \u001b[38;5;241m=\u001b[39m \u001b[38;5;28mself\u001b[39m\u001b[38;5;241m.\u001b[39m_get_formatted_index(\u001b[38;5;28mself\u001b[39m\u001b[38;5;241m.\u001b[39mtr_frame)\n",
      "File \u001b[0;32m~/.local/lib/python3.12/site-packages/pandas/io/formats/format.py:729\u001b[0m, in \u001b[0;36mDataFrameFormatter._get_strcols_without_index\u001b[0;34m(self)\u001b[0m\n\u001b[1;32m    727\u001b[0m     str_columns \u001b[38;5;241m=\u001b[39m [[label] \u001b[38;5;28;01mfor\u001b[39;00m label \u001b[38;5;129;01min\u001b[39;00m \u001b[38;5;28mself\u001b[39m\u001b[38;5;241m.\u001b[39mheader]\n\u001b[1;32m    728\u001b[0m \u001b[38;5;28;01melse\u001b[39;00m:\n\u001b[0;32m--> 729\u001b[0m     str_columns \u001b[38;5;241m=\u001b[39m \u001b[38;5;28;43mself\u001b[39;49m\u001b[38;5;241;43m.\u001b[39;49m\u001b[43m_get_formatted_column_labels\u001b[49m\u001b[43m(\u001b[49m\u001b[38;5;28;43mself\u001b[39;49m\u001b[38;5;241;43m.\u001b[39;49m\u001b[43mtr_frame\u001b[49m\u001b[43m)\u001b[49m\n\u001b[1;32m    731\u001b[0m \u001b[38;5;28;01mif\u001b[39;00m \u001b[38;5;28mself\u001b[39m\u001b[38;5;241m.\u001b[39mshow_row_idx_names:\n\u001b[1;32m    732\u001b[0m     \u001b[38;5;28;01mfor\u001b[39;00m x \u001b[38;5;129;01min\u001b[39;00m str_columns:\n",
      "File \u001b[0;32m~/.local/lib/python3.12/site-packages/pandas/io/formats/format.py:807\u001b[0m, in \u001b[0;36mDataFrameFormatter._get_formatted_column_labels\u001b[0;34m(self, frame)\u001b[0m\n\u001b[1;32m    805\u001b[0m     str_columns \u001b[38;5;241m=\u001b[39m [\u001b[38;5;28mlist\u001b[39m(x) \u001b[38;5;28;01mfor\u001b[39;00m x \u001b[38;5;129;01min\u001b[39;00m \u001b[38;5;28mzip\u001b[39m(\u001b[38;5;241m*\u001b[39mstr_columns_tuple)]\n\u001b[1;32m    806\u001b[0m \u001b[38;5;28;01melse\u001b[39;00m:\n\u001b[0;32m--> 807\u001b[0m     fmt_columns \u001b[38;5;241m=\u001b[39m \u001b[43mcolumns\u001b[49m\u001b[38;5;241;43m.\u001b[39;49m\u001b[43m_format_flat\u001b[49m\u001b[43m(\u001b[49m\u001b[43minclude_name\u001b[49m\u001b[38;5;241;43m=\u001b[39;49m\u001b[38;5;28;43;01mFalse\u001b[39;49;00m\u001b[43m)\u001b[49m\n\u001b[1;32m    808\u001b[0m     dtypes \u001b[38;5;241m=\u001b[39m \u001b[38;5;28mself\u001b[39m\u001b[38;5;241m.\u001b[39mframe\u001b[38;5;241m.\u001b[39mdtypes\n\u001b[1;32m    809\u001b[0m     need_leadsp \u001b[38;5;241m=\u001b[39m \u001b[38;5;28mdict\u001b[39m(\u001b[38;5;28mzip\u001b[39m(fmt_columns, \u001b[38;5;28mmap\u001b[39m(is_numeric_dtype, dtypes)))\n",
      "File \u001b[0;32m~/.local/lib/python3.12/site-packages/pandas/core/indexes/base.py:1446\u001b[0m, in \u001b[0;36mIndex._format_flat\u001b[0;34m(self, include_name, formatter)\u001b[0m\n\u001b[1;32m   1443\u001b[0m \u001b[38;5;28;01mif\u001b[39;00m formatter \u001b[38;5;129;01mis\u001b[39;00m \u001b[38;5;129;01mnot\u001b[39;00m \u001b[38;5;28;01mNone\u001b[39;00m:\n\u001b[1;32m   1444\u001b[0m     \u001b[38;5;28;01mreturn\u001b[39;00m header \u001b[38;5;241m+\u001b[39m \u001b[38;5;28mlist\u001b[39m(\u001b[38;5;28mself\u001b[39m\u001b[38;5;241m.\u001b[39mmap(formatter))\n\u001b[0;32m-> 1446\u001b[0m \u001b[38;5;28;01mreturn\u001b[39;00m \u001b[38;5;28;43mself\u001b[39;49m\u001b[38;5;241;43m.\u001b[39;49m\u001b[43m_format_with_header\u001b[49m\u001b[43m(\u001b[49m\u001b[43mheader\u001b[49m\u001b[38;5;241;43m=\u001b[39;49m\u001b[43mheader\u001b[49m\u001b[43m,\u001b[49m\u001b[43m \u001b[49m\u001b[43mna_rep\u001b[49m\u001b[38;5;241;43m=\u001b[39;49m\u001b[38;5;28;43mself\u001b[39;49m\u001b[38;5;241;43m.\u001b[39;49m\u001b[43m_default_na_rep\u001b[49m\u001b[43m)\u001b[49m\n",
      "File \u001b[0;32m~/.local/lib/python3.12/site-packages/pandas/core/indexes/base.py:1465\u001b[0m, in \u001b[0;36mIndex._format_with_header\u001b[0;34m(self, header, na_rep)\u001b[0m\n\u001b[1;32m   1461\u001b[0m     justify \u001b[38;5;241m=\u001b[39m \u001b[38;5;124m\"\u001b[39m\u001b[38;5;124mleft\u001b[39m\u001b[38;5;124m\"\u001b[39m\n\u001b[1;32m   1462\u001b[0m \u001b[38;5;66;03m# passing leading_space=False breaks test_format_missing,\u001b[39;00m\n\u001b[1;32m   1463\u001b[0m \u001b[38;5;66;03m#  test_index_repr_in_frame_with_nan, but would otherwise make\u001b[39;00m\n\u001b[1;32m   1464\u001b[0m \u001b[38;5;66;03m#  trim_front unnecessary\u001b[39;00m\n\u001b[0;32m-> 1465\u001b[0m formatted \u001b[38;5;241m=\u001b[39m \u001b[43mformat_array\u001b[49m\u001b[43m(\u001b[49m\u001b[43mvalues\u001b[49m\u001b[43m,\u001b[49m\u001b[43m \u001b[49m\u001b[38;5;28;43;01mNone\u001b[39;49;00m\u001b[43m,\u001b[49m\u001b[43m \u001b[49m\u001b[43mjustify\u001b[49m\u001b[38;5;241;43m=\u001b[39;49m\u001b[43mjustify\u001b[49m\u001b[43m)\u001b[49m\n\u001b[1;32m   1466\u001b[0m result \u001b[38;5;241m=\u001b[39m trim_front(formatted)\n\u001b[1;32m   1467\u001b[0m \u001b[38;5;28;01mreturn\u001b[39;00m header \u001b[38;5;241m+\u001b[39m result\n",
      "File \u001b[0;32m~/.local/lib/python3.12/site-packages/pandas/io/formats/format.py:1161\u001b[0m, in \u001b[0;36mformat_array\u001b[0;34m(values, formatter, float_format, na_rep, digits, space, justify, decimal, leading_space, quoting, fallback_formatter)\u001b[0m\n\u001b[1;32m   1145\u001b[0m     digits \u001b[38;5;241m=\u001b[39m get_option(\u001b[38;5;124m\"\u001b[39m\u001b[38;5;124mdisplay.precision\u001b[39m\u001b[38;5;124m\"\u001b[39m)\n\u001b[1;32m   1147\u001b[0m fmt_obj \u001b[38;5;241m=\u001b[39m fmt_klass(\n\u001b[1;32m   1148\u001b[0m     values,\n\u001b[1;32m   1149\u001b[0m     digits\u001b[38;5;241m=\u001b[39mdigits,\n\u001b[0;32m   (...)\u001b[0m\n\u001b[1;32m   1158\u001b[0m     fallback_formatter\u001b[38;5;241m=\u001b[39mfallback_formatter,\n\u001b[1;32m   1159\u001b[0m )\n\u001b[0;32m-> 1161\u001b[0m \u001b[38;5;28;01mreturn\u001b[39;00m \u001b[43mfmt_obj\u001b[49m\u001b[38;5;241;43m.\u001b[39;49m\u001b[43mget_result\u001b[49m\u001b[43m(\u001b[49m\u001b[43m)\u001b[49m\n",
      "File \u001b[0;32m~/.local/lib/python3.12/site-packages/pandas/io/formats/format.py:1194\u001b[0m, in \u001b[0;36m_GenericArrayFormatter.get_result\u001b[0;34m(self)\u001b[0m\n\u001b[1;32m   1193\u001b[0m \u001b[38;5;28;01mdef\u001b[39;00m \u001b[38;5;21mget_result\u001b[39m(\u001b[38;5;28mself\u001b[39m) \u001b[38;5;241m-\u001b[39m\u001b[38;5;241m>\u001b[39m \u001b[38;5;28mlist\u001b[39m[\u001b[38;5;28mstr\u001b[39m]:\n\u001b[0;32m-> 1194\u001b[0m     fmt_values \u001b[38;5;241m=\u001b[39m \u001b[38;5;28;43mself\u001b[39;49m\u001b[38;5;241;43m.\u001b[39;49m\u001b[43m_format_strings\u001b[49m\u001b[43m(\u001b[49m\u001b[43m)\u001b[49m\n\u001b[1;32m   1195\u001b[0m     \u001b[38;5;28;01mreturn\u001b[39;00m _make_fixed_width(fmt_values, \u001b[38;5;28mself\u001b[39m\u001b[38;5;241m.\u001b[39mjustify)\n",
      "File \u001b[0;32m~/.local/lib/python3.12/site-packages/pandas/io/formats/format.py:1250\u001b[0m, in \u001b[0;36m_GenericArrayFormatter._format_strings\u001b[0;34m(self)\u001b[0m\n\u001b[1;32m   1243\u001b[0m     \u001b[38;5;28;01mraise\u001b[39;00m \u001b[38;5;167;01mTypeError\u001b[39;00m(\n\u001b[1;32m   1244\u001b[0m         \u001b[38;5;124m\"\u001b[39m\u001b[38;5;124mExtensionArray formatting should use _ExtensionArrayFormatter\u001b[39m\u001b[38;5;124m\"\u001b[39m\n\u001b[1;32m   1245\u001b[0m     )\n\u001b[1;32m   1246\u001b[0m inferred \u001b[38;5;241m=\u001b[39m lib\u001b[38;5;241m.\u001b[39mmap_infer(vals, is_float)\n\u001b[1;32m   1247\u001b[0m is_float_type \u001b[38;5;241m=\u001b[39m (\n\u001b[1;32m   1248\u001b[0m     inferred\n\u001b[1;32m   1249\u001b[0m     \u001b[38;5;66;03m# vals may have 2 or more dimensions\u001b[39;00m\n\u001b[0;32m-> 1250\u001b[0m     \u001b[38;5;241m&\u001b[39m np\u001b[38;5;241m.\u001b[39mall(\u001b[43mnotna\u001b[49m\u001b[43m(\u001b[49m\u001b[43mvals\u001b[49m\u001b[43m)\u001b[49m, axis\u001b[38;5;241m=\u001b[39m\u001b[38;5;28mtuple\u001b[39m(\u001b[38;5;28mrange\u001b[39m(\u001b[38;5;241m1\u001b[39m, \u001b[38;5;28mlen\u001b[39m(vals\u001b[38;5;241m.\u001b[39mshape))))\n\u001b[1;32m   1251\u001b[0m )\n\u001b[1;32m   1252\u001b[0m leading_space \u001b[38;5;241m=\u001b[39m \u001b[38;5;28mself\u001b[39m\u001b[38;5;241m.\u001b[39mleading_space\n\u001b[1;32m   1253\u001b[0m \u001b[38;5;28;01mif\u001b[39;00m leading_space \u001b[38;5;129;01mis\u001b[39;00m \u001b[38;5;28;01mNone\u001b[39;00m:\n",
      "File \u001b[0;32m~/.local/lib/python3.12/site-packages/pandas/core/dtypes/missing.py:457\u001b[0m, in \u001b[0;36mnotna\u001b[0;34m(obj)\u001b[0m\n\u001b[1;32m    380\u001b[0m \u001b[38;5;28;01mdef\u001b[39;00m \u001b[38;5;21mnotna\u001b[39m(obj: \u001b[38;5;28mobject\u001b[39m) \u001b[38;5;241m-\u001b[39m\u001b[38;5;241m>\u001b[39m \u001b[38;5;28mbool\u001b[39m \u001b[38;5;241m|\u001b[39m npt\u001b[38;5;241m.\u001b[39mNDArray[np\u001b[38;5;241m.\u001b[39mbool_] \u001b[38;5;241m|\u001b[39m NDFrame:\n\u001b[1;32m    381\u001b[0m \u001b[38;5;250m    \u001b[39m\u001b[38;5;124;03m\"\"\"\u001b[39;00m\n\u001b[1;32m    382\u001b[0m \u001b[38;5;124;03m    Detect non-missing values for an array-like object.\u001b[39;00m\n\u001b[1;32m    383\u001b[0m \n\u001b[0;32m   (...)\u001b[0m\n\u001b[1;32m    455\u001b[0m \u001b[38;5;124;03m    Name: 1, dtype: bool\u001b[39;00m\n\u001b[1;32m    456\u001b[0m \u001b[38;5;124;03m    \"\"\"\u001b[39;00m\n\u001b[0;32m--> 457\u001b[0m     res \u001b[38;5;241m=\u001b[39m \u001b[43misna\u001b[49m\u001b[43m(\u001b[49m\u001b[43mobj\u001b[49m\u001b[43m)\u001b[49m\n\u001b[1;32m    458\u001b[0m     \u001b[38;5;28;01mif\u001b[39;00m \u001b[38;5;28misinstance\u001b[39m(res, \u001b[38;5;28mbool\u001b[39m):\n\u001b[1;32m    459\u001b[0m         \u001b[38;5;28;01mreturn\u001b[39;00m \u001b[38;5;129;01mnot\u001b[39;00m res\n",
      "File \u001b[0;32m~/.local/lib/python3.12/site-packages/pandas/core/dtypes/missing.py:178\u001b[0m, in \u001b[0;36misna\u001b[0;34m(obj)\u001b[0m\n\u001b[1;32m    101\u001b[0m \u001b[38;5;28;01mdef\u001b[39;00m \u001b[38;5;21misna\u001b[39m(obj: \u001b[38;5;28mobject\u001b[39m) \u001b[38;5;241m-\u001b[39m\u001b[38;5;241m>\u001b[39m \u001b[38;5;28mbool\u001b[39m \u001b[38;5;241m|\u001b[39m npt\u001b[38;5;241m.\u001b[39mNDArray[np\u001b[38;5;241m.\u001b[39mbool_] \u001b[38;5;241m|\u001b[39m NDFrame:\n\u001b[1;32m    102\u001b[0m \u001b[38;5;250m    \u001b[39m\u001b[38;5;124;03m\"\"\"\u001b[39;00m\n\u001b[1;32m    103\u001b[0m \u001b[38;5;124;03m    Detect missing values for an array-like object.\u001b[39;00m\n\u001b[1;32m    104\u001b[0m \n\u001b[0;32m   (...)\u001b[0m\n\u001b[1;32m    176\u001b[0m \u001b[38;5;124;03m    Name: 1, dtype: bool\u001b[39;00m\n\u001b[1;32m    177\u001b[0m \u001b[38;5;124;03m    \"\"\"\u001b[39;00m\n\u001b[0;32m--> 178\u001b[0m     \u001b[38;5;28;01mreturn\u001b[39;00m \u001b[43m_isna\u001b[49m\u001b[43m(\u001b[49m\u001b[43mobj\u001b[49m\u001b[43m)\u001b[49m\n",
      "File \u001b[0;32m~/.local/lib/python3.12/site-packages/pandas/core/dtypes/missing.py:207\u001b[0m, in \u001b[0;36m_isna\u001b[0;34m(obj, inf_as_na)\u001b[0m\n\u001b[1;32m    205\u001b[0m     \u001b[38;5;28;01mreturn\u001b[39;00m \u001b[38;5;28;01mFalse\u001b[39;00m\n\u001b[1;32m    206\u001b[0m \u001b[38;5;28;01melif\u001b[39;00m \u001b[38;5;28misinstance\u001b[39m(obj, (np\u001b[38;5;241m.\u001b[39mndarray, ABCExtensionArray)):\n\u001b[0;32m--> 207\u001b[0m     \u001b[38;5;28;01mreturn\u001b[39;00m \u001b[43m_isna_array\u001b[49m\u001b[43m(\u001b[49m\u001b[43mobj\u001b[49m\u001b[43m,\u001b[49m\u001b[43m \u001b[49m\u001b[43minf_as_na\u001b[49m\u001b[38;5;241;43m=\u001b[39;49m\u001b[43minf_as_na\u001b[49m\u001b[43m)\u001b[49m\n\u001b[1;32m    208\u001b[0m \u001b[38;5;28;01melif\u001b[39;00m \u001b[38;5;28misinstance\u001b[39m(obj, ABCIndex):\n\u001b[1;32m    209\u001b[0m     \u001b[38;5;66;03m# Try to use cached isna, which also short-circuits for integer dtypes\u001b[39;00m\n\u001b[1;32m    210\u001b[0m     \u001b[38;5;66;03m#  and avoids materializing RangeIndex._values\u001b[39;00m\n\u001b[1;32m    211\u001b[0m     \u001b[38;5;28;01mif\u001b[39;00m \u001b[38;5;129;01mnot\u001b[39;00m obj\u001b[38;5;241m.\u001b[39m_can_hold_na:\n",
      "File \u001b[0;32m~/.local/lib/python3.12/site-packages/pandas/core/dtypes/missing.py:288\u001b[0m, in \u001b[0;36m_isna_array\u001b[0;34m(values, inf_as_na)\u001b[0m\n\u001b[1;32m    283\u001b[0m     \u001b[38;5;28;01melse\u001b[39;00m:\n\u001b[1;32m    284\u001b[0m         \u001b[38;5;66;03m# error: Incompatible types in assignment (expression has type\u001b[39;00m\n\u001b[1;32m    285\u001b[0m         \u001b[38;5;66;03m# \"Union[ndarray[Any, Any], ExtensionArraySupportsAnyAll]\", variable has\u001b[39;00m\n\u001b[1;32m    286\u001b[0m         \u001b[38;5;66;03m# type \"ndarray[Any, dtype[bool_]]\")\u001b[39;00m\n\u001b[1;32m    287\u001b[0m         result \u001b[38;5;241m=\u001b[39m values\u001b[38;5;241m.\u001b[39misna()  \u001b[38;5;66;03m# type: ignore[assignment]\u001b[39;00m\n\u001b[0;32m--> 288\u001b[0m \u001b[38;5;28;01melif\u001b[39;00m \u001b[38;5;28misinstance\u001b[39m(values, \u001b[43mnp\u001b[49m\u001b[38;5;241;43m.\u001b[39;49m\u001b[43mrec\u001b[49m\u001b[38;5;241m.\u001b[39mrecarray):\n\u001b[1;32m    289\u001b[0m     \u001b[38;5;66;03m# GH 48526\u001b[39;00m\n\u001b[1;32m    290\u001b[0m     result \u001b[38;5;241m=\u001b[39m _isna_recarray_dtype(values, inf_as_na\u001b[38;5;241m=\u001b[39minf_as_na)\n\u001b[1;32m    291\u001b[0m \u001b[38;5;28;01melif\u001b[39;00m is_string_or_object_np_dtype(values\u001b[38;5;241m.\u001b[39mdtype):\n",
      "File \u001b[0;32m~/.local/lib/python3.12/site-packages/numpy/__init__.py:367\u001b[0m, in \u001b[0;36m__getattr__\u001b[0;34m(attr)\u001b[0m\n",
      "\u001b[0;31mModuleNotFoundError\u001b[0m: No module named 'numpy.rec'"
     ]
    }
   ],
   "source": [
    "# Download de tabela auxiliar de CID10\n",
    "munic = get_municipios()\n",
    "print(munic.head())"
   ]
  },
  {
   "cell_type": "markdown",
   "metadata": {},
   "source": [
    "### Carga externa ao SIM\n",
    "\n",
    "Iremos carregar informações de fontes externas.\n",
    "\n"
   ]
  },
  {
   "cell_type": "markdown",
   "metadata": {},
   "source": [
    "##### CIDs doenças evitáveis - SVS"
   ]
  },
  {
   "cell_type": "code",
   "execution_count": 14,
   "metadata": {},
   "outputs": [
    {
     "data": {
      "text/html": [
       "<div>\n",
       "<style scoped>\n",
       "    .dataframe tbody tr th:only-of-type {\n",
       "        vertical-align: middle;\n",
       "    }\n",
       "\n",
       "    .dataframe tbody tr th {\n",
       "        vertical-align: top;\n",
       "    }\n",
       "\n",
       "    .dataframe thead th {\n",
       "        text-align: right;\n",
       "    }\n",
       "</style>\n",
       "<table border=\"1\" class=\"dataframe\">\n",
       "  <thead>\n",
       "    <tr style=\"text-align: right;\">\n",
       "      <th></th>\n",
       "      <th>CID10_EVIT</th>\n",
       "      <th>CID10_EVIT_CLASS</th>\n",
       "      <th>cid10_evit_nome</th>\n",
       "      <th>cid10_evit_atributo</th>\n",
       "      <th>cid10_evit_cod_pai</th>\n",
       "    </tr>\n",
       "  </thead>\n",
       "  <tbody>\n",
       "    <tr>\n",
       "      <th>0</th>\n",
       "      <td>Causas Evitáveis</td>\n",
       "      <td>Reduzíveis pelas ações de imunoprevenção</td>\n",
       "      <td>Tuberculose do sistema nervoso</td>\n",
       "      <td>(A17)</td>\n",
       "      <td>A17</td>\n",
       "    </tr>\n",
       "    <tr>\n",
       "      <th>1</th>\n",
       "      <td>Causas Evitáveis</td>\n",
       "      <td>Reduzíveis pelas ações de imunoprevenção</td>\n",
       "      <td>Tuberculose  miliar</td>\n",
       "      <td>(A19)</td>\n",
       "      <td>A19</td>\n",
       "    </tr>\n",
       "    <tr>\n",
       "      <th>2</th>\n",
       "      <td>Causas Evitáveis</td>\n",
       "      <td>Reduzíveis pelas ações de imunoprevenção</td>\n",
       "      <td>Tétano obstétrico</td>\n",
       "      <td>(A34)</td>\n",
       "      <td>A34</td>\n",
       "    </tr>\n",
       "    <tr>\n",
       "      <th>3</th>\n",
       "      <td>Causas Evitáveis</td>\n",
       "      <td>Reduzíveis pelas ações de imunoprevenção</td>\n",
       "      <td>Outros tipos de tétano</td>\n",
       "      <td>(A35)</td>\n",
       "      <td>A35</td>\n",
       "    </tr>\n",
       "    <tr>\n",
       "      <th>4</th>\n",
       "      <td>Causas Evitáveis</td>\n",
       "      <td>Reduzíveis pelas ações de imunoprevenção</td>\n",
       "      <td>Difteria</td>\n",
       "      <td>(A36)</td>\n",
       "      <td>A36</td>\n",
       "    </tr>\n",
       "  </tbody>\n",
       "</table>\n",
       "</div>"
      ],
      "text/plain": [
       "         CID10_EVIT                          CID10_EVIT_CLASS  \\\n",
       "0  Causas Evitáveis  Reduzíveis pelas ações de imunoprevenção   \n",
       "1  Causas Evitáveis  Reduzíveis pelas ações de imunoprevenção   \n",
       "2  Causas Evitáveis  Reduzíveis pelas ações de imunoprevenção   \n",
       "3  Causas Evitáveis  Reduzíveis pelas ações de imunoprevenção   \n",
       "4  Causas Evitáveis  Reduzíveis pelas ações de imunoprevenção   \n",
       "\n",
       "                   cid10_evit_nome cid10_evit_atributo cid10_evit_cod_pai  \n",
       "0  Tuberculose do sistema nervoso                (A17)                A17  \n",
       "1             Tuberculose  miliar                (A19)                A19  \n",
       "2               Tétano obstétrico                (A34)                A34  \n",
       "3          Outros tipos de tétano                (A35)                A35  \n",
       "4                        Difteria                (A36)                A36  "
      ]
     },
     "execution_count": 14,
     "metadata": {},
     "output_type": "execute_result"
    }
   ],
   "source": [
    "# Download de tabela tratada de CIDs evitáveis de acordo com documentos da SVS\n",
    "\n",
    "url = 'https://docs.google.com/spreadsheets/d/1YWurDqnBDMz4ACOEctY9uuQkEm7uSRAogzZETQrLCXk/edit?usp=drive_link'\n",
    "# Convert the Google Sheets URL to a CSV export URL\n",
    "csv_url = url.replace('/edit?usp=drive_link', '/export?format=csv')\n",
    "\n",
    "# Read the CSV data into a pandas DataFrame\n",
    "df = pd.read_csv(csv_url)\n",
    "\n",
    "# Now you can work with the DataFrame 'df'\n",
    "df.head()\n"
   ]
  },
  {
   "cell_type": "code",
   "execution_count": 6,
   "metadata": {},
   "outputs": [],
   "source": [
    "# Salvar arquivo csv\n",
    "df.to_csv('downloads_outros/cid10_evit_svs.csv', index=False)"
   ]
  },
  {
   "cell_type": "code",
   "execution_count": 135,
   "metadata": {},
   "outputs": [
    {
     "name": "stdout",
     "output_type": "stream",
     "text": [
      "<class 'pandas.core.frame.DataFrame'>\n",
      "RangeIndex: 390 entries, 0 to 389\n",
      "Data columns (total 5 columns):\n",
      " #   Column               Non-Null Count  Dtype \n",
      "---  ------               --------------  ----- \n",
      " 0   CID10_EVIT           322 non-null    object\n",
      " 1   CID10_EVIT_CLASS     321 non-null    object\n",
      " 2   cid10_evit_nome      321 non-null    object\n",
      " 3   cid10_evit_atributo  321 non-null    object\n",
      " 4   cid10_evit_cod_pai   321 non-null    object\n",
      "dtypes: object(5)\n",
      "memory usage: 15.4+ KB\n"
     ]
    }
   ],
   "source": [
    "cid_evit_ocde = pd.read_csv('downloads_outros/cid10_evit_svs.csv')\n",
    "cid_evit_ocde.info()    "
   ]
  },
  {
   "cell_type": "markdown",
   "metadata": {},
   "source": [
    "##### CIDs doenças evitáveis - OCDE"
   ]
  },
  {
   "cell_type": "code",
   "execution_count": 129,
   "metadata": {},
   "outputs": [
    {
     "data": {
      "text/html": [
       "<div>\n",
       "<style scoped>\n",
       "    .dataframe tbody tr th:only-of-type {\n",
       "        vertical-align: middle;\n",
       "    }\n",
       "\n",
       "    .dataframe tbody tr th {\n",
       "        vertical-align: top;\n",
       "    }\n",
       "\n",
       "    .dataframe thead th {\n",
       "        text-align: right;\n",
       "    }\n",
       "</style>\n",
       "<table border=\"1\" class=\"dataframe\">\n",
       "  <thead>\n",
       "    <tr style=\"text-align: right;\">\n",
       "      <th></th>\n",
       "      <th>avoid_flag</th>\n",
       "      <th>prevent_flag</th>\n",
       "      <th>treat_flag</th>\n",
       "      <th>Group</th>\n",
       "      <th>Causes of deaths</th>\n",
       "      <th>Rationale for inclusion</th>\n",
       "      <th>Range</th>\n",
       "      <th>cid_pai</th>\n",
       "    </tr>\n",
       "  </thead>\n",
       "  <tbody>\n",
       "    <tr>\n",
       "      <th>0</th>\n",
       "      <td>Avoidable mortality</td>\n",
       "      <td>Preventable mortality</td>\n",
       "      <td>NaN</td>\n",
       "      <td>Infectious diseases</td>\n",
       "      <td>Intestinal diseases</td>\n",
       "      <td>Most of these infections can be prevented thro...</td>\n",
       "      <td>(A00-A09)</td>\n",
       "      <td>A0</td>\n",
       "    </tr>\n",
       "    <tr>\n",
       "      <th>1</th>\n",
       "      <td>Avoidable mortality</td>\n",
       "      <td>Preventable mortality</td>\n",
       "      <td>NaN</td>\n",
       "      <td>Infectious diseases</td>\n",
       "      <td>Diphtheria, Tetanus, Poliomyelitis</td>\n",
       "      <td>Most of these infections can be prevented thro...</td>\n",
       "      <td>(A35, A36, A80)</td>\n",
       "      <td>A35</td>\n",
       "    </tr>\n",
       "    <tr>\n",
       "      <th>2</th>\n",
       "      <td>Avoidable mortality</td>\n",
       "      <td>Preventable mortality</td>\n",
       "      <td>NaN</td>\n",
       "      <td>Infectious diseases</td>\n",
       "      <td>Diphtheria, Tetanus, Poliomyelitis</td>\n",
       "      <td>Most of these infections can be prevented thro...</td>\n",
       "      <td>(A35, A36, A80)</td>\n",
       "      <td>A36</td>\n",
       "    </tr>\n",
       "    <tr>\n",
       "      <th>3</th>\n",
       "      <td>Avoidable mortality</td>\n",
       "      <td>Preventable mortality</td>\n",
       "      <td>NaN</td>\n",
       "      <td>Infectious diseases</td>\n",
       "      <td>Diphtheria, Tetanus, Poliomyelitis</td>\n",
       "      <td>Most of these infections can be prevented thro...</td>\n",
       "      <td>(A35, A36, A80)</td>\n",
       "      <td>A80</td>\n",
       "    </tr>\n",
       "    <tr>\n",
       "      <th>4</th>\n",
       "      <td>Avoidable mortality</td>\n",
       "      <td>Preventable mortality</td>\n",
       "      <td>NaN</td>\n",
       "      <td>Infectious diseases</td>\n",
       "      <td>Whooping cough</td>\n",
       "      <td>Most of these infections can be prevented thro...</td>\n",
       "      <td>(A37)</td>\n",
       "      <td>A37</td>\n",
       "    </tr>\n",
       "  </tbody>\n",
       "</table>\n",
       "</div>"
      ],
      "text/plain": [
       "            avoid_flag           prevent_flag treat_flag                Group  \\\n",
       "0  Avoidable mortality  Preventable mortality        NaN  Infectious diseases   \n",
       "1  Avoidable mortality  Preventable mortality        NaN  Infectious diseases   \n",
       "2  Avoidable mortality  Preventable mortality        NaN  Infectious diseases   \n",
       "3  Avoidable mortality  Preventable mortality        NaN  Infectious diseases   \n",
       "4  Avoidable mortality  Preventable mortality        NaN  Infectious diseases   \n",
       "\n",
       "                     Causes of deaths  \\\n",
       "0                 Intestinal diseases   \n",
       "1  Diphtheria, Tetanus, Poliomyelitis   \n",
       "2  Diphtheria, Tetanus, Poliomyelitis   \n",
       "3  Diphtheria, Tetanus, Poliomyelitis   \n",
       "4                      Whooping cough   \n",
       "\n",
       "                             Rationale for inclusion            Range cid_pai  \n",
       "0  Most of these infections can be prevented thro...        (A00-A09)      A0  \n",
       "1  Most of these infections can be prevented thro...  (A35, A36, A80)     A35  \n",
       "2  Most of these infections can be prevented thro...  (A35, A36, A80)     A36  \n",
       "3  Most of these infections can be prevented thro...  (A35, A36, A80)     A80  \n",
       "4  Most of these infections can be prevented thro...            (A37)     A37  "
      ]
     },
     "execution_count": 129,
     "metadata": {},
     "output_type": "execute_result"
    }
   ],
   "source": [
    "# Download de tabela tratada de CIDs evitáveis de acordo com documentos da OCDE\n",
    "url = 'https://docs.google.com/spreadsheets/d/1X8AH0zs4PNc_bUpZ3tBvFw2HGpgb9CjShOkwXQ0so_I/edit?usp=sharing'\n",
    "# Convert the Google Sheets URL to a CSV export URL\n",
    "csv_url = url.replace('/edit?usp=sharing', '/export?format=csv')\n",
    "\n",
    "# Read the CSV data into a pandas DataFrame\n",
    "ocde_evit = pd.read_csv(csv_url)\n",
    "\n",
    "# Now you can work with the DataFrame 'df'\n",
    "ocde_evit.head()"
   ]
  },
  {
   "cell_type": "code",
   "execution_count": 136,
   "metadata": {},
   "outputs": [
    {
     "name": "stdout",
     "output_type": "stream",
     "text": [
      "<class 'pandas.core.frame.DataFrame'>\n",
      "RangeIndex: 346 entries, 0 to 345\n",
      "Data columns (total 8 columns):\n",
      " #   Column                   Non-Null Count  Dtype \n",
      "---  ------                   --------------  ----- \n",
      " 0   avoid_flag               346 non-null    object\n",
      " 1   prevent_flag             189 non-null    object\n",
      " 2   treat_flag               184 non-null    object\n",
      " 3   Group                    346 non-null    object\n",
      " 4   Causes of deaths         346 non-null    object\n",
      " 5   Rationale for inclusion  346 non-null    object\n",
      " 6   Range                    346 non-null    object\n",
      " 7   cid_pai                  346 non-null    object\n",
      "dtypes: object(8)\n",
      "memory usage: 21.8+ KB\n"
     ]
    }
   ],
   "source": [
    "ocde_evit.info()"
   ]
  },
  {
   "cell_type": "code",
   "execution_count": 18,
   "metadata": {},
   "outputs": [],
   "source": [
    "# Salvar arquivo csv\n",
    "ocde_evit.to_csv('downloads_outros/cid10_evit_ocde.csv', index=False)"
   ]
  },
  {
   "cell_type": "markdown",
   "metadata": {},
   "source": [
    "##### População Censo "
   ]
  },
  {
   "cell_type": "code",
   "execution_count": 26,
   "metadata": {},
   "outputs": [
    {
     "name": "stderr",
     "output_type": "stream",
     "text": [
      "Downloading...\n",
      "From: https://drive.google.com/uc?id=1ohplLORDk_TaAQNQwW7TUjZ10OLxiA2f\n",
      "To: /workspaces/heat_br_bloco1/downloaded_file.csv\n",
      "100%|██████████| 11.0M/11.0M [00:00<00:00, 19.0MB/s]\n",
      "/tmp/ipykernel_3561/3438096824.py:9: DtypeWarning: Columns (0) have mixed types. Specify dtype option on import or set low_memory=False.\n",
      "  censo_pop = pd.read_csv(output_file, skiprows=3)\n"
     ]
    }
   ],
   "source": [
    "# Os dados populacionais são os dos Censos de 2010 e 2022\n",
    "# Coletamos variáveis de sexo, raça e faixa etária, o que não excedeu os limites do uso do API do SIDRA, então iremos carregar o download feito a posteriori\n",
    "\n",
    "# ID do arquivo no Google Drive\n",
    "file_id = '1ohplLORDk_TaAQNQwW7TUjZ10OLxiA2f'\n",
    "\n",
    "# Baixa o arquivo para o ambiente de execução do Colab\n",
    "output_file = 'downloaded_file.csv' \n",
    "gdown.download(id=file_id, output=output_file, quiet=False)\n",
    "\n",
    "# Lê o arquivo CSV usando o pandas, pulando as 4 primeiras linhas\n",
    "censo_pop = pd.read_csv(output_file, skiprows=3)"
   ]
  },
  {
   "cell_type": "code",
   "execution_count": 27,
   "metadata": {},
   "outputs": [
    {
     "data": {
      "text/html": [
       "<div>\n",
       "<style scoped>\n",
       "    .dataframe tbody tr th:only-of-type {\n",
       "        vertical-align: middle;\n",
       "    }\n",
       "\n",
       "    .dataframe tbody tr th {\n",
       "        vertical-align: top;\n",
       "    }\n",
       "\n",
       "    .dataframe thead th {\n",
       "        text-align: right;\n",
       "    }\n",
       "</style>\n",
       "<table border=\"1\" class=\"dataframe\">\n",
       "  <thead>\n",
       "    <tr style=\"text-align: right;\">\n",
       "      <th></th>\n",
       "      <th>Ano</th>\n",
       "      <th>Nível</th>\n",
       "      <th>Cód.</th>\n",
       "      <th>Município</th>\n",
       "      <th>Cor ou raça</th>\n",
       "      <th>Sexo</th>\n",
       "      <th>Total</th>\n",
       "      <th>0 a 4 anos</th>\n",
       "      <th>75 a 79 anos</th>\n",
       "      <th>80 a 84 anos</th>\n",
       "      <th>85 a 89 anos</th>\n",
       "      <th>90 a 94 anos</th>\n",
       "      <th>95 a 99 anos</th>\n",
       "      <th>100 anos ou mais</th>\n",
       "    </tr>\n",
       "  </thead>\n",
       "  <tbody>\n",
       "    <tr>\n",
       "      <th>0</th>\n",
       "      <td>2010</td>\n",
       "      <td>MU</td>\n",
       "      <td>1100015.0</td>\n",
       "      <td>Alta Floresta D'Oeste (RO)</td>\n",
       "      <td>Branca</td>\n",
       "      <td>Homens</td>\n",
       "      <td>5311</td>\n",
       "      <td>430</td>\n",
       "      <td>63</td>\n",
       "      <td>33</td>\n",
       "      <td>11</td>\n",
       "      <td>2</td>\n",
       "      <td>-</td>\n",
       "      <td>-</td>\n",
       "    </tr>\n",
       "    <tr>\n",
       "      <th>1</th>\n",
       "      <td>2010</td>\n",
       "      <td>MU</td>\n",
       "      <td>1100015.0</td>\n",
       "      <td>Alta Floresta D'Oeste (RO)</td>\n",
       "      <td>Branca</td>\n",
       "      <td>Mulheres</td>\n",
       "      <td>5038</td>\n",
       "      <td>446</td>\n",
       "      <td>62</td>\n",
       "      <td>26</td>\n",
       "      <td>14</td>\n",
       "      <td>2</td>\n",
       "      <td>2</td>\n",
       "      <td>-</td>\n",
       "    </tr>\n",
       "    <tr>\n",
       "      <th>2</th>\n",
       "      <td>2010</td>\n",
       "      <td>MU</td>\n",
       "      <td>1100015.0</td>\n",
       "      <td>Alta Floresta D'Oeste (RO)</td>\n",
       "      <td>Preta</td>\n",
       "      <td>Homens</td>\n",
       "      <td>693</td>\n",
       "      <td>23</td>\n",
       "      <td>9</td>\n",
       "      <td>7</td>\n",
       "      <td>2</td>\n",
       "      <td>1</td>\n",
       "      <td>1</td>\n",
       "      <td>-</td>\n",
       "    </tr>\n",
       "    <tr>\n",
       "      <th>3</th>\n",
       "      <td>2010</td>\n",
       "      <td>MU</td>\n",
       "      <td>1100015.0</td>\n",
       "      <td>Alta Floresta D'Oeste (RO)</td>\n",
       "      <td>Preta</td>\n",
       "      <td>Mulheres</td>\n",
       "      <td>466</td>\n",
       "      <td>21</td>\n",
       "      <td>4</td>\n",
       "      <td>3</td>\n",
       "      <td>1</td>\n",
       "      <td>-</td>\n",
       "      <td>-</td>\n",
       "      <td>-</td>\n",
       "    </tr>\n",
       "    <tr>\n",
       "      <th>4</th>\n",
       "      <td>2010</td>\n",
       "      <td>MU</td>\n",
       "      <td>1100015.0</td>\n",
       "      <td>Alta Floresta D'Oeste (RO)</td>\n",
       "      <td>Amarela</td>\n",
       "      <td>Homens</td>\n",
       "      <td>96</td>\n",
       "      <td>4</td>\n",
       "      <td>2</td>\n",
       "      <td>-</td>\n",
       "      <td>-</td>\n",
       "      <td>-</td>\n",
       "      <td>-</td>\n",
       "      <td>-</td>\n",
       "    </tr>\n",
       "  </tbody>\n",
       "</table>\n",
       "</div>"
      ],
      "text/plain": [
       "    Ano Nível       Cód.                   Município Cor ou raça      Sexo  \\\n",
       "0  2010    MU  1100015.0  Alta Floresta D'Oeste (RO)      Branca    Homens   \n",
       "1  2010    MU  1100015.0  Alta Floresta D'Oeste (RO)      Branca  Mulheres   \n",
       "2  2010    MU  1100015.0  Alta Floresta D'Oeste (RO)       Preta    Homens   \n",
       "3  2010    MU  1100015.0  Alta Floresta D'Oeste (RO)       Preta  Mulheres   \n",
       "4  2010    MU  1100015.0  Alta Floresta D'Oeste (RO)     Amarela    Homens   \n",
       "\n",
       "  Total 0 a 4 anos 75 a 79 anos 80 a 84 anos 85 a 89 anos 90 a 94 anos  \\\n",
       "0  5311        430           63           33           11            2   \n",
       "1  5038        446           62           26           14            2   \n",
       "2   693         23            9            7            2            1   \n",
       "3   466         21            4            3            1            -   \n",
       "4    96          4            2            -            -            -   \n",
       "\n",
       "  95 a 99 anos 100 anos ou mais  \n",
       "0            -                -  \n",
       "1            2                -  \n",
       "2            1                -  \n",
       "3            -                -  \n",
       "4            -                -  "
      ]
     },
     "execution_count": 27,
     "metadata": {},
     "output_type": "execute_result"
    }
   ],
   "source": [
    "censo_pop.head()\n"
   ]
  },
  {
   "cell_type": "code",
   "execution_count": 28,
   "metadata": {},
   "outputs": [],
   "source": [
    "# Salvar arquivo de população do Censo\n",
    "censo_pop.to_csv('downloads_outros/censo_pop.csv')"
   ]
  },
  {
   "cell_type": "markdown",
   "metadata": {},
   "source": [
    "## Tratamento de Dados"
   ]
  },
  {
   "cell_type": "markdown",
   "metadata": {},
   "source": [
    "#### Tratamento de População Censo"
   ]
  },
  {
   "cell_type": "code",
   "execution_count": 14,
   "metadata": {},
   "outputs": [
    {
     "name": "stderr",
     "output_type": "stream",
     "text": [
      "/tmp/ipykernel_2461/3371380752.py:2: DtypeWarning: Columns (1) have mixed types. Specify dtype option on import or set low_memory=False.\n",
      "  censo_pop = pd.read_csv('downloads_outros/censo_pop.csv')\n"
     ]
    }
   ],
   "source": [
    "# Carga de arquivo de População do Censo\n",
    "censo_pop = pd.read_csv('downloads_outros/censo_pop.csv')"
   ]
  },
  {
   "cell_type": "code",
   "execution_count": 15,
   "metadata": {},
   "outputs": [
    {
     "name": "stdout",
     "output_type": "stream",
     "text": [
      "<class 'pandas.core.frame.DataFrame'>\n",
      "RangeIndex: 111420 entries, 0 to 111419\n",
      "Data columns (total 15 columns):\n",
      " #   Column            Non-Null Count   Dtype  \n",
      "---  ------            --------------   -----  \n",
      " 0   Unnamed: 0        111420 non-null  int64  \n",
      " 1   Ano               111419 non-null  object \n",
      " 2   Nível             111407 non-null  object \n",
      " 3   Cód.              111400 non-null  float64\n",
      " 4   Município         111400 non-null  object \n",
      " 5   Cor ou raça       111400 non-null  object \n",
      " 6   Sexo              111400 non-null  object \n",
      " 7   Total             111400 non-null  object \n",
      " 8   0 a 4 anos        111400 non-null  object \n",
      " 9   75 a 79 anos      111400 non-null  object \n",
      " 10  80 a 84 anos      111400 non-null  object \n",
      " 11  85 a 89 anos      111400 non-null  object \n",
      " 12  90 a 94 anos      111400 non-null  object \n",
      " 13  95 a 99 anos      111400 non-null  object \n",
      " 14  100 anos ou mais  111400 non-null  object \n",
      "dtypes: float64(1), int64(1), object(13)\n",
      "memory usage: 12.8+ MB\n"
     ]
    }
   ],
   "source": [
    "censo_pop.info()"
   ]
  },
  {
   "cell_type": "code",
   "execution_count": 17,
   "metadata": {},
   "outputs": [
    {
     "name": "stdout",
     "output_type": "stream",
     "text": [
      "<class 'pandas.core.frame.DataFrame'>\n",
      "Index: 111400 entries, 0 to 111399\n",
      "Data columns (total 15 columns):\n",
      " #   Column            Non-Null Count   Dtype  \n",
      "---  ------            --------------   -----  \n",
      " 0   Unnamed: 0        111400 non-null  int64  \n",
      " 1   Ano               111400 non-null  object \n",
      " 2   Nível             111400 non-null  object \n",
      " 3   Cód.              111400 non-null  float64\n",
      " 4   Município         111400 non-null  object \n",
      " 5   Cor ou raça       111400 non-null  object \n",
      " 6   Sexo              111400 non-null  object \n",
      " 7   Total             111400 non-null  object \n",
      " 8   0 a 4 anos        111400 non-null  object \n",
      " 9   75 a 79 anos      111400 non-null  object \n",
      " 10  80 a 84 anos      111400 non-null  object \n",
      " 11  85 a 89 anos      111400 non-null  object \n",
      " 12  90 a 94 anos      111400 non-null  object \n",
      " 13  95 a 99 anos      111400 non-null  object \n",
      " 14  100 anos ou mais  111400 non-null  object \n",
      "dtypes: float64(1), int64(1), object(13)\n",
      "memory usage: 13.6+ MB\n"
     ]
    }
   ],
   "source": [
    "# Excluir registros de mun_cod null\n",
    "censo_pop = censo_pop[censo_pop['Município'].notnull()]\n",
    "censo_pop.info()"
   ]
  },
  {
   "cell_type": "code",
   "execution_count": 18,
   "metadata": {},
   "outputs": [
    {
     "data": {
      "text/plain": [
       "Index(['Unnamed: 0', 'Ano', 'Nível', 'Cód.', 'Município', 'Cor ou raça',\n",
       "       'Sexo', 'Total', '0 a 4 anos', '75 a 79 anos', '80 a 84 anos',\n",
       "       '85 a 89 anos', '90 a 94 anos', '95 a 99 anos', '100 anos ou mais'],\n",
       "      dtype='object')"
      ]
     },
     "execution_count": 18,
     "metadata": {},
     "output_type": "execute_result"
    }
   ],
   "source": [
    "censo_pop.columns"
   ]
  },
  {
   "cell_type": "code",
   "execution_count": 19,
   "metadata": {},
   "outputs": [
    {
     "name": "stdout",
     "output_type": "stream",
     "text": [
      "<class 'pandas.core.frame.DataFrame'>\n",
      "Index: 111400 entries, 0 to 111399\n",
      "Data columns (total 15 columns):\n",
      " #   Column            Non-Null Count   Dtype  \n",
      "---  ------            --------------   -----  \n",
      " 0   Unnamed: 0        111400 non-null  int64  \n",
      " 1   Ano               111400 non-null  object \n",
      " 2   Nível             111400 non-null  object \n",
      " 3   Cód.              111400 non-null  float64\n",
      " 4   Município         111400 non-null  object \n",
      " 5   Cor ou raça       111400 non-null  object \n",
      " 6   Sexo              111400 non-null  object \n",
      " 7   Total             111400 non-null  int64  \n",
      " 8   0 a 4 anos        111400 non-null  int64  \n",
      " 9   75 a 79 anos      111400 non-null  int64  \n",
      " 10  80 a 84 anos      111400 non-null  int64  \n",
      " 11  85 a 89 anos      111400 non-null  int64  \n",
      " 12  90 a 94 anos      111400 non-null  int64  \n",
      " 13  95 a 99 anos      111400 non-null  int64  \n",
      " 14  100 anos ou mais  111400 non-null  int64  \n",
      "dtypes: float64(1), int64(9), object(5)\n",
      "memory usage: 13.6+ MB\n"
     ]
    }
   ],
   "source": [
    "# Colunas para transformar em inteiro\n",
    "cols_age = ['Total','0 a 4 anos', '75 a 79 anos', '80 a 84 anos', '85 a 89 anos','90 a 94 anos', '95 a 99 anos', '100 anos ou mais']\n",
    "# para todas as colunas identificar substituir '-' por 0\n",
    "censo_pop_clean01 = censo_pop.copy()\n",
    "censo_pop_clean01[cols_age] = censo_pop_clean01[cols_age].replace('-',0)\n",
    "\n",
    "# transformar todas as colunas definidas para formato integer\n",
    "censo_pop_clean01[cols_age] = censo_pop_clean01[cols_age].apply(pd.to_numeric, errors='coerce').fillna(0).astype(int)\n",
    "censo_pop_clean01.info()\n"
   ]
  },
  {
   "cell_type": "code",
   "execution_count": 20,
   "metadata": {},
   "outputs": [
    {
     "data": {
      "text/html": [
       "<div>\n",
       "<style scoped>\n",
       "    .dataframe tbody tr th:only-of-type {\n",
       "        vertical-align: middle;\n",
       "    }\n",
       "\n",
       "    .dataframe tbody tr th {\n",
       "        vertical-align: top;\n",
       "    }\n",
       "\n",
       "    .dataframe thead th {\n",
       "        text-align: right;\n",
       "    }\n",
       "</style>\n",
       "<table border=\"1\" class=\"dataframe\">\n",
       "  <thead>\n",
       "    <tr style=\"text-align: right;\">\n",
       "      <th></th>\n",
       "      <th>Unnamed: 0</th>\n",
       "      <th>Ano</th>\n",
       "      <th>Nível</th>\n",
       "      <th>Cód.</th>\n",
       "      <th>Município</th>\n",
       "      <th>Cor ou raça</th>\n",
       "      <th>Sexo</th>\n",
       "      <th>Total</th>\n",
       "      <th>0 a 4 anos</th>\n",
       "      <th>pop_under74</th>\n",
       "    </tr>\n",
       "  </thead>\n",
       "  <tbody>\n",
       "    <tr>\n",
       "      <th>0</th>\n",
       "      <td>0</td>\n",
       "      <td>2010</td>\n",
       "      <td>MU</td>\n",
       "      <td>1100015.0</td>\n",
       "      <td>Alta Floresta D'Oeste (RO)</td>\n",
       "      <td>Branca</td>\n",
       "      <td>Homens</td>\n",
       "      <td>5311</td>\n",
       "      <td>430</td>\n",
       "      <td>5202</td>\n",
       "    </tr>\n",
       "    <tr>\n",
       "      <th>1</th>\n",
       "      <td>1</td>\n",
       "      <td>2010</td>\n",
       "      <td>MU</td>\n",
       "      <td>1100015.0</td>\n",
       "      <td>Alta Floresta D'Oeste (RO)</td>\n",
       "      <td>Branca</td>\n",
       "      <td>Mulheres</td>\n",
       "      <td>5038</td>\n",
       "      <td>446</td>\n",
       "      <td>4932</td>\n",
       "    </tr>\n",
       "    <tr>\n",
       "      <th>2</th>\n",
       "      <td>2</td>\n",
       "      <td>2010</td>\n",
       "      <td>MU</td>\n",
       "      <td>1100015.0</td>\n",
       "      <td>Alta Floresta D'Oeste (RO)</td>\n",
       "      <td>Preta</td>\n",
       "      <td>Homens</td>\n",
       "      <td>693</td>\n",
       "      <td>23</td>\n",
       "      <td>673</td>\n",
       "    </tr>\n",
       "    <tr>\n",
       "      <th>3</th>\n",
       "      <td>3</td>\n",
       "      <td>2010</td>\n",
       "      <td>MU</td>\n",
       "      <td>1100015.0</td>\n",
       "      <td>Alta Floresta D'Oeste (RO)</td>\n",
       "      <td>Preta</td>\n",
       "      <td>Mulheres</td>\n",
       "      <td>466</td>\n",
       "      <td>21</td>\n",
       "      <td>458</td>\n",
       "    </tr>\n",
       "    <tr>\n",
       "      <th>4</th>\n",
       "      <td>4</td>\n",
       "      <td>2010</td>\n",
       "      <td>MU</td>\n",
       "      <td>1100015.0</td>\n",
       "      <td>Alta Floresta D'Oeste (RO)</td>\n",
       "      <td>Amarela</td>\n",
       "      <td>Homens</td>\n",
       "      <td>96</td>\n",
       "      <td>4</td>\n",
       "      <td>94</td>\n",
       "    </tr>\n",
       "  </tbody>\n",
       "</table>\n",
       "</div>"
      ],
      "text/plain": [
       "   Unnamed: 0   Ano Nível       Cód.                   Município Cor ou raça  \\\n",
       "0           0  2010    MU  1100015.0  Alta Floresta D'Oeste (RO)      Branca   \n",
       "1           1  2010    MU  1100015.0  Alta Floresta D'Oeste (RO)      Branca   \n",
       "2           2  2010    MU  1100015.0  Alta Floresta D'Oeste (RO)       Preta   \n",
       "3           3  2010    MU  1100015.0  Alta Floresta D'Oeste (RO)       Preta   \n",
       "4           4  2010    MU  1100015.0  Alta Floresta D'Oeste (RO)     Amarela   \n",
       "\n",
       "       Sexo  Total  0 a 4 anos  pop_under74  \n",
       "0    Homens   5311         430         5202  \n",
       "1  Mulheres   5038         446         4932  \n",
       "2    Homens    693          23          673  \n",
       "3  Mulheres    466          21          458  \n",
       "4    Homens     96           4           94  "
      ]
     },
     "execution_count": 20,
     "metadata": {},
     "output_type": "execute_result"
    }
   ],
   "source": [
    "# Gerar coluna de população total até 74 anos\n",
    "cols_age_over75 = ['75 a 79 anos', '80 a 84 anos', '85 a 89 anos','90 a 94 anos', '95 a 99 anos', '100 anos ou mais']\n",
    "\n",
    "censo_pop_clean02 = censo_pop_clean01.copy()\n",
    "\n",
    "# Subtrair a população de 75 anos ou mais da população total\n",
    "censo_pop_clean02['pop_under74'] = censo_pop_clean02['Total'] - censo_pop_clean02[cols_age_over75].sum(axis=1)\n",
    "\n",
    "# Excluir colunar cols_age_over75 e 0 a 4 anos\n",
    "censo_pop_clean02.drop(columns=cols_age_over75, inplace=True)\n",
    "\n",
    "censo_pop_clean02.head()\n"
   ]
  },
  {
   "cell_type": "code",
   "execution_count": 21,
   "metadata": {},
   "outputs": [
    {
     "data": {
      "text/html": [
       "<div>\n",
       "<style scoped>\n",
       "    .dataframe tbody tr th:only-of-type {\n",
       "        vertical-align: middle;\n",
       "    }\n",
       "\n",
       "    .dataframe tbody tr th {\n",
       "        vertical-align: top;\n",
       "    }\n",
       "\n",
       "    .dataframe thead th {\n",
       "        text-align: right;\n",
       "    }\n",
       "</style>\n",
       "<table border=\"1\" class=\"dataframe\">\n",
       "  <thead>\n",
       "    <tr style=\"text-align: right;\">\n",
       "      <th></th>\n",
       "      <th>Unnamed: 0</th>\n",
       "      <th>Ano</th>\n",
       "      <th>Nível</th>\n",
       "      <th>Cód.</th>\n",
       "      <th>Município</th>\n",
       "      <th>Cor ou raça</th>\n",
       "      <th>Sexo</th>\n",
       "      <th>Total</th>\n",
       "      <th>0 a 4 anos</th>\n",
       "      <th>pop_under74</th>\n",
       "      <th>UF</th>\n",
       "    </tr>\n",
       "  </thead>\n",
       "  <tbody>\n",
       "    <tr>\n",
       "      <th>0</th>\n",
       "      <td>0</td>\n",
       "      <td>2010</td>\n",
       "      <td>MU</td>\n",
       "      <td>1100015.0</td>\n",
       "      <td>Alta Floresta D'Oeste</td>\n",
       "      <td>Branca</td>\n",
       "      <td>Homens</td>\n",
       "      <td>5311</td>\n",
       "      <td>430</td>\n",
       "      <td>5202</td>\n",
       "      <td>RO</td>\n",
       "    </tr>\n",
       "    <tr>\n",
       "      <th>1</th>\n",
       "      <td>1</td>\n",
       "      <td>2010</td>\n",
       "      <td>MU</td>\n",
       "      <td>1100015.0</td>\n",
       "      <td>Alta Floresta D'Oeste</td>\n",
       "      <td>Branca</td>\n",
       "      <td>Mulheres</td>\n",
       "      <td>5038</td>\n",
       "      <td>446</td>\n",
       "      <td>4932</td>\n",
       "      <td>RO</td>\n",
       "    </tr>\n",
       "    <tr>\n",
       "      <th>2</th>\n",
       "      <td>2</td>\n",
       "      <td>2010</td>\n",
       "      <td>MU</td>\n",
       "      <td>1100015.0</td>\n",
       "      <td>Alta Floresta D'Oeste</td>\n",
       "      <td>Preta</td>\n",
       "      <td>Homens</td>\n",
       "      <td>693</td>\n",
       "      <td>23</td>\n",
       "      <td>673</td>\n",
       "      <td>RO</td>\n",
       "    </tr>\n",
       "    <tr>\n",
       "      <th>3</th>\n",
       "      <td>3</td>\n",
       "      <td>2010</td>\n",
       "      <td>MU</td>\n",
       "      <td>1100015.0</td>\n",
       "      <td>Alta Floresta D'Oeste</td>\n",
       "      <td>Preta</td>\n",
       "      <td>Mulheres</td>\n",
       "      <td>466</td>\n",
       "      <td>21</td>\n",
       "      <td>458</td>\n",
       "      <td>RO</td>\n",
       "    </tr>\n",
       "    <tr>\n",
       "      <th>4</th>\n",
       "      <td>4</td>\n",
       "      <td>2010</td>\n",
       "      <td>MU</td>\n",
       "      <td>1100015.0</td>\n",
       "      <td>Alta Floresta D'Oeste</td>\n",
       "      <td>Amarela</td>\n",
       "      <td>Homens</td>\n",
       "      <td>96</td>\n",
       "      <td>4</td>\n",
       "      <td>94</td>\n",
       "      <td>RO</td>\n",
       "    </tr>\n",
       "  </tbody>\n",
       "</table>\n",
       "</div>"
      ],
      "text/plain": [
       "   Unnamed: 0   Ano Nível       Cód.               Município Cor ou raça  \\\n",
       "0           0  2010    MU  1100015.0  Alta Floresta D'Oeste       Branca   \n",
       "1           1  2010    MU  1100015.0  Alta Floresta D'Oeste       Branca   \n",
       "2           2  2010    MU  1100015.0  Alta Floresta D'Oeste        Preta   \n",
       "3           3  2010    MU  1100015.0  Alta Floresta D'Oeste        Preta   \n",
       "4           4  2010    MU  1100015.0  Alta Floresta D'Oeste      Amarela   \n",
       "\n",
       "       Sexo  Total  0 a 4 anos  pop_under74  UF  \n",
       "0    Homens   5311         430         5202  RO  \n",
       "1  Mulheres   5038         446         4932  RO  \n",
       "2    Homens    693          23          673  RO  \n",
       "3  Mulheres    466          21          458  RO  \n",
       "4    Homens     96           4           94  RO  "
      ]
     },
     "execution_count": 21,
     "metadata": {},
     "output_type": "execute_result"
    }
   ],
   "source": [
    "# Gerar informação de UF a partir do split de 'Município', com o dividor '('\n",
    "censo_pop_clean03 = censo_pop_clean02.copy()\n",
    "censo_pop_clean03['UF'] = censo_pop_clean03['Município'].str.split('(', expand=True)[1].str.replace(')','')\n",
    "censo_pop_clean03['Município'] = censo_pop_clean03['Município'].str.split('(', expand=True)[0]\n",
    "censo_pop_clean03.head()\n"
   ]
  },
  {
   "cell_type": "code",
   "execution_count": 27,
   "metadata": {},
   "outputs": [
    {
     "name": "stdout",
     "output_type": "stream",
     "text": [
      "<class 'pandas.core.frame.DataFrame'>\n",
      "Index: 111400 entries, 0 to 111399\n",
      "Data columns (total 9 columns):\n",
      " #   Column       Non-Null Count   Dtype  \n",
      "---  ------       --------------   -----  \n",
      " 0   Ano          111400 non-null  object \n",
      " 1   mun_cod      111400 non-null  float64\n",
      " 2   mun_nome     111400 non-null  object \n",
      " 3   cor          111400 non-null  object \n",
      " 4   Sexo         111400 non-null  object \n",
      " 5   pop_total    111400 non-null  int64  \n",
      " 6   pop_under5   111400 non-null  int64  \n",
      " 7   pop_under74  111400 non-null  int64  \n",
      " 8   UF           111400 non-null  object \n",
      "dtypes: float64(1), int64(3), object(5)\n",
      "memory usage: 8.5+ MB\n"
     ]
    }
   ],
   "source": [
    "# Excluir colunas Unnamed, Nivel\n",
    "censo_pop_clean04 = censo_pop_clean03.copy()\n",
    "\n",
    "# Alterar nome da coluna Município para mun_nome, Cód para mun_cod\n",
    "censo_pop_clean04.rename(columns={'Município':'mun_nome','Cód.':'mun_cod','Total':'pop_total','0 a 4 anos':'pop_under5','Cor ou raça':'cor'}, inplace=True)\n",
    "\n",
    "# Excluir colunas Unnamed, Nivel\n",
    "censo_pop_clean04.drop(columns=['Unnamed: 0','Nível'], inplace=True)\n",
    "censo_pop_clean04.info()\n"
   ]
  },
  {
   "cell_type": "code",
   "execution_count": 28,
   "metadata": {},
   "outputs": [
    {
     "data": {
      "text/html": [
       "<div>\n",
       "<style scoped>\n",
       "    .dataframe tbody tr th:only-of-type {\n",
       "        vertical-align: middle;\n",
       "    }\n",
       "\n",
       "    .dataframe tbody tr th {\n",
       "        vertical-align: top;\n",
       "    }\n",
       "\n",
       "    .dataframe thead th {\n",
       "        text-align: right;\n",
       "    }\n",
       "</style>\n",
       "<table border=\"1\" class=\"dataframe\">\n",
       "  <thead>\n",
       "    <tr style=\"text-align: right;\">\n",
       "      <th></th>\n",
       "      <th>Ano</th>\n",
       "      <th>mun_cod</th>\n",
       "      <th>mun_nome</th>\n",
       "      <th>cor</th>\n",
       "      <th>Sexo</th>\n",
       "      <th>pop_total</th>\n",
       "      <th>pop_under5</th>\n",
       "      <th>pop_under74</th>\n",
       "      <th>UF</th>\n",
       "      <th>mun_cod_sim</th>\n",
       "    </tr>\n",
       "  </thead>\n",
       "  <tbody>\n",
       "    <tr>\n",
       "      <th>0</th>\n",
       "      <td>2010</td>\n",
       "      <td>1100015.0</td>\n",
       "      <td>Alta Floresta D'Oeste</td>\n",
       "      <td>Branca</td>\n",
       "      <td>Homens</td>\n",
       "      <td>5311</td>\n",
       "      <td>430</td>\n",
       "      <td>5202</td>\n",
       "      <td>RO</td>\n",
       "      <td>_110001</td>\n",
       "    </tr>\n",
       "    <tr>\n",
       "      <th>1</th>\n",
       "      <td>2010</td>\n",
       "      <td>1100015.0</td>\n",
       "      <td>Alta Floresta D'Oeste</td>\n",
       "      <td>Branca</td>\n",
       "      <td>Mulheres</td>\n",
       "      <td>5038</td>\n",
       "      <td>446</td>\n",
       "      <td>4932</td>\n",
       "      <td>RO</td>\n",
       "      <td>_110001</td>\n",
       "    </tr>\n",
       "    <tr>\n",
       "      <th>2</th>\n",
       "      <td>2010</td>\n",
       "      <td>1100015.0</td>\n",
       "      <td>Alta Floresta D'Oeste</td>\n",
       "      <td>Preta</td>\n",
       "      <td>Homens</td>\n",
       "      <td>693</td>\n",
       "      <td>23</td>\n",
       "      <td>673</td>\n",
       "      <td>RO</td>\n",
       "      <td>_110001</td>\n",
       "    </tr>\n",
       "    <tr>\n",
       "      <th>3</th>\n",
       "      <td>2010</td>\n",
       "      <td>1100015.0</td>\n",
       "      <td>Alta Floresta D'Oeste</td>\n",
       "      <td>Preta</td>\n",
       "      <td>Mulheres</td>\n",
       "      <td>466</td>\n",
       "      <td>21</td>\n",
       "      <td>458</td>\n",
       "      <td>RO</td>\n",
       "      <td>_110001</td>\n",
       "    </tr>\n",
       "    <tr>\n",
       "      <th>4</th>\n",
       "      <td>2010</td>\n",
       "      <td>1100015.0</td>\n",
       "      <td>Alta Floresta D'Oeste</td>\n",
       "      <td>Amarela</td>\n",
       "      <td>Homens</td>\n",
       "      <td>96</td>\n",
       "      <td>4</td>\n",
       "      <td>94</td>\n",
       "      <td>RO</td>\n",
       "      <td>_110001</td>\n",
       "    </tr>\n",
       "  </tbody>\n",
       "</table>\n",
       "</div>"
      ],
      "text/plain": [
       "    Ano    mun_cod                mun_nome      cor      Sexo  pop_total  \\\n",
       "0  2010  1100015.0  Alta Floresta D'Oeste    Branca    Homens       5311   \n",
       "1  2010  1100015.0  Alta Floresta D'Oeste    Branca  Mulheres       5038   \n",
       "2  2010  1100015.0  Alta Floresta D'Oeste     Preta    Homens        693   \n",
       "3  2010  1100015.0  Alta Floresta D'Oeste     Preta  Mulheres        466   \n",
       "4  2010  1100015.0  Alta Floresta D'Oeste   Amarela    Homens         96   \n",
       "\n",
       "   pop_under5  pop_under74  UF mun_cod_sim  \n",
       "0         430         5202  RO     _110001  \n",
       "1         446         4932  RO     _110001  \n",
       "2          23          673  RO     _110001  \n",
       "3          21          458  RO     _110001  \n",
       "4           4           94  RO     _110001  "
      ]
     },
     "execution_count": 28,
     "metadata": {},
     "output_type": "execute_result"
    }
   ],
   "source": [
    "# Mudar o formato de mun_cod para string e extrair os primeiros 7 dígitos\n",
    "censo_pop_clean04['mun_cod_sim'] = censo_pop_clean04['mun_cod'].astype(str).str[:6]\n",
    "\n",
    "# Acrescentar um '_' no início do valor da coluna mun_cod\n",
    "censo_pop_clean04['mun_cod_sim'] = '_' + censo_pop_clean04['mun_cod_sim'].astype(str)\n",
    "\n",
    "# Verificar as primeiras linhas do DataFrame atualizado\n",
    "censo_pop_clean04.head()"
   ]
  },
  {
   "cell_type": "code",
   "execution_count": 85,
   "metadata": {},
   "outputs": [
    {
     "data": {
      "text/plain": [
       "Sexo\n",
       "Homens      55700\n",
       "Mulheres    55700\n",
       "Name: count, dtype: int64"
      ]
     },
     "execution_count": 85,
     "metadata": {},
     "output_type": "execute_result"
    }
   ],
   "source": [
    "censo_pop_clean04['Sexo'].value_counts()"
   ]
  },
  {
   "cell_type": "code",
   "execution_count": 36,
   "metadata": {},
   "outputs": [
    {
     "data": {
      "text/plain": [
       "array(['_1', '_2'], dtype=object)"
      ]
     },
     "execution_count": 36,
     "metadata": {},
     "output_type": "execute_result"
    }
   ],
   "source": [
    "# Transformar campos de cor e sexo em código\n",
    "censo_pop_clean05 = censo_pop_clean04.copy()\n",
    "\n",
    "# Transformar valores nan em 0\n",
    "censo_pop_clean05['cor'] = censo_pop_clean05['cor'].fillna('_0')\n",
    "censo_pop_clean05['Sexo'] = censo_pop_clean05['Sexo'].map({'Homens':'_1', 'Mulheres':'_2'})\n",
    "censo_pop_clean05['Sexo'].unique()"
   ]
  },
  {
   "cell_type": "code",
   "execution_count": 37,
   "metadata": {},
   "outputs": [
    {
     "data": {
      "text/plain": [
       "cor\n",
       "Branca      22280\n",
       "Preta       22280\n",
       "Amarela     22280\n",
       "Parda       22280\n",
       "Indígena    22280\n",
       "Name: count, dtype: int64"
      ]
     },
     "execution_count": 37,
     "metadata": {},
     "output_type": "execute_result"
    }
   ],
   "source": [
    "# mostrar distribuição de sexo\n",
    "censo_pop_clean04['cor'].value_counts()"
   ]
  },
  {
   "cell_type": "code",
   "execution_count": 38,
   "metadata": {},
   "outputs": [
    {
     "data": {
      "text/plain": [
       "cor\n",
       "_1    22280\n",
       "_2    22280\n",
       "_3    22280\n",
       "_4    22280\n",
       "_5    22280\n",
       "Name: count, dtype: int64"
      ]
     },
     "execution_count": 38,
     "metadata": {},
     "output_type": "execute_result"
    }
   ],
   "source": [
    "censo_pop_clean05['cor'] = censo_pop_clean05['cor'].map({'Branca':'_1', 'Preta':'_2', 'Amarela':'_3', 'Parda':'_4', 'Indígena':'_5', 'Sem declaração':'_9'})\n",
    "# mostrar distribuição de sexo\n",
    "censo_pop_clean05['cor'].value_counts()"
   ]
  },
  {
   "cell_type": "code",
   "execution_count": 39,
   "metadata": {},
   "outputs": [
    {
     "data": {
      "text/html": [
       "<div>\n",
       "<style scoped>\n",
       "    .dataframe tbody tr th:only-of-type {\n",
       "        vertical-align: middle;\n",
       "    }\n",
       "\n",
       "    .dataframe tbody tr th {\n",
       "        vertical-align: top;\n",
       "    }\n",
       "\n",
       "    .dataframe thead th {\n",
       "        text-align: right;\n",
       "    }\n",
       "</style>\n",
       "<table border=\"1\" class=\"dataframe\">\n",
       "  <thead>\n",
       "    <tr style=\"text-align: right;\">\n",
       "      <th></th>\n",
       "      <th>Ano</th>\n",
       "      <th>mun_cod</th>\n",
       "      <th>mun_nome</th>\n",
       "      <th>cor</th>\n",
       "      <th>Sexo</th>\n",
       "      <th>pop_total</th>\n",
       "      <th>pop_under5</th>\n",
       "      <th>pop_under74</th>\n",
       "      <th>UF</th>\n",
       "      <th>mun_cod_sim</th>\n",
       "    </tr>\n",
       "  </thead>\n",
       "  <tbody>\n",
       "    <tr>\n",
       "      <th>0</th>\n",
       "      <td>2010</td>\n",
       "      <td>1100015.0</td>\n",
       "      <td>Alta Floresta D'Oeste</td>\n",
       "      <td>_1</td>\n",
       "      <td>_1</td>\n",
       "      <td>5311</td>\n",
       "      <td>430</td>\n",
       "      <td>5202</td>\n",
       "      <td>RO</td>\n",
       "      <td>_110001</td>\n",
       "    </tr>\n",
       "    <tr>\n",
       "      <th>1</th>\n",
       "      <td>2010</td>\n",
       "      <td>1100015.0</td>\n",
       "      <td>Alta Floresta D'Oeste</td>\n",
       "      <td>_1</td>\n",
       "      <td>_2</td>\n",
       "      <td>5038</td>\n",
       "      <td>446</td>\n",
       "      <td>4932</td>\n",
       "      <td>RO</td>\n",
       "      <td>_110001</td>\n",
       "    </tr>\n",
       "    <tr>\n",
       "      <th>2</th>\n",
       "      <td>2010</td>\n",
       "      <td>1100015.0</td>\n",
       "      <td>Alta Floresta D'Oeste</td>\n",
       "      <td>_2</td>\n",
       "      <td>_1</td>\n",
       "      <td>693</td>\n",
       "      <td>23</td>\n",
       "      <td>673</td>\n",
       "      <td>RO</td>\n",
       "      <td>_110001</td>\n",
       "    </tr>\n",
       "    <tr>\n",
       "      <th>3</th>\n",
       "      <td>2010</td>\n",
       "      <td>1100015.0</td>\n",
       "      <td>Alta Floresta D'Oeste</td>\n",
       "      <td>_2</td>\n",
       "      <td>_2</td>\n",
       "      <td>466</td>\n",
       "      <td>21</td>\n",
       "      <td>458</td>\n",
       "      <td>RO</td>\n",
       "      <td>_110001</td>\n",
       "    </tr>\n",
       "    <tr>\n",
       "      <th>4</th>\n",
       "      <td>2010</td>\n",
       "      <td>1100015.0</td>\n",
       "      <td>Alta Floresta D'Oeste</td>\n",
       "      <td>_3</td>\n",
       "      <td>_1</td>\n",
       "      <td>96</td>\n",
       "      <td>4</td>\n",
       "      <td>94</td>\n",
       "      <td>RO</td>\n",
       "      <td>_110001</td>\n",
       "    </tr>\n",
       "  </tbody>\n",
       "</table>\n",
       "</div>"
      ],
      "text/plain": [
       "    Ano    mun_cod                mun_nome cor Sexo  pop_total  pop_under5  \\\n",
       "0  2010  1100015.0  Alta Floresta D'Oeste   _1   _1       5311         430   \n",
       "1  2010  1100015.0  Alta Floresta D'Oeste   _1   _2       5038         446   \n",
       "2  2010  1100015.0  Alta Floresta D'Oeste   _2   _1        693          23   \n",
       "3  2010  1100015.0  Alta Floresta D'Oeste   _2   _2        466          21   \n",
       "4  2010  1100015.0  Alta Floresta D'Oeste   _3   _1         96           4   \n",
       "\n",
       "   pop_under74  UF mun_cod_sim  \n",
       "0         5202  RO     _110001  \n",
       "1         4932  RO     _110001  \n",
       "2          673  RO     _110001  \n",
       "3          458  RO     _110001  \n",
       "4           94  RO     _110001  "
      ]
     },
     "execution_count": 39,
     "metadata": {},
     "output_type": "execute_result"
    }
   ],
   "source": [
    "censo_pop_clean05.head()"
   ]
  },
  {
   "cell_type": "markdown",
   "metadata": {},
   "source": [
    "##### Arquivo pronto\n"
   ]
  },
  {
   "cell_type": "code",
   "execution_count": 40,
   "metadata": {},
   "outputs": [],
   "source": [
    "# Arquivo de População Censo Tratado (pronto para merge)\n",
    "censo_pop_clean = censo_pop_clean05.to_csv('files_clean/censo_pop_clean.csv', index=False)"
   ]
  },
  {
   "cell_type": "markdown",
   "metadata": {},
   "source": [
    "#### Tratamento do arquivo principal\n",
    "\n",
    "O dicionário do SIM está em \"./Estrutura_SIM_para_CD.pdf\"\n",
    "\n",
    "Trabalhamos o CID presente no campo CAUSABAS.\n",
    "\n",
    "Em razão do escopo da População Estimada (que apresenta dados por Município, mas não de outras variáveis de desigualdade) a primeira versão será um recorte da base DOBR com os dados de CID ('CAUSABAS'), idade (a partir do tratamento de 'DTNASC'), e de Município (a partir do tratamento de 'CODMUNRES').\n",
    "\n"
   ]
  },
  {
   "cell_type": "code",
   "execution_count": 44,
   "metadata": {},
   "outputs": [
    {
     "data": {
      "text/html": [
       "<div>\n",
       "<style scoped>\n",
       "    .dataframe tbody tr th:only-of-type {\n",
       "        vertical-align: middle;\n",
       "    }\n",
       "\n",
       "    .dataframe tbody tr th {\n",
       "        vertical-align: top;\n",
       "    }\n",
       "\n",
       "    .dataframe thead th {\n",
       "        text-align: right;\n",
       "    }\n",
       "</style>\n",
       "<table border=\"1\" class=\"dataframe\">\n",
       "  <thead>\n",
       "    <tr style=\"text-align: right;\">\n",
       "      <th></th>\n",
       "      <th>ORIGEM</th>\n",
       "      <th>TIPOBITO</th>\n",
       "      <th>DTOBITO</th>\n",
       "      <th>HORAOBITO</th>\n",
       "      <th>NATURAL</th>\n",
       "      <th>CODMUNNATU</th>\n",
       "      <th>DTNASC</th>\n",
       "      <th>IDADE</th>\n",
       "      <th>SEXO</th>\n",
       "      <th>RACACOR</th>\n",
       "      <th>...</th>\n",
       "      <th>TPRESGINFO</th>\n",
       "      <th>TPNIVELINV</th>\n",
       "      <th>NUDIASINF</th>\n",
       "      <th>DTCADINF</th>\n",
       "      <th>MORTEPARTO</th>\n",
       "      <th>DTCONCASO</th>\n",
       "      <th>FONTESINF</th>\n",
       "      <th>ALTCAUSA</th>\n",
       "      <th>CONTADOR</th>\n",
       "      <th>ANO</th>\n",
       "    </tr>\n",
       "  </thead>\n",
       "  <tbody>\n",
       "    <tr>\n",
       "      <th>0</th>\n",
       "      <td>1</td>\n",
       "      <td>2</td>\n",
       "      <td>13052022</td>\n",
       "      <td>2000</td>\n",
       "      <td>815</td>\n",
       "      <td>150330</td>\n",
       "      <td>22102000</td>\n",
       "      <td>421</td>\n",
       "      <td>1</td>\n",
       "      <td>4</td>\n",
       "      <td>...</td>\n",
       "      <td></td>\n",
       "      <td></td>\n",
       "      <td></td>\n",
       "      <td></td>\n",
       "      <td></td>\n",
       "      <td></td>\n",
       "      <td></td>\n",
       "      <td></td>\n",
       "      <td>390001</td>\n",
       "      <td>2022</td>\n",
       "    </tr>\n",
       "    <tr>\n",
       "      <th>1</th>\n",
       "      <td>1</td>\n",
       "      <td>2</td>\n",
       "      <td>13052022</td>\n",
       "      <td>2004</td>\n",
       "      <td></td>\n",
       "      <td></td>\n",
       "      <td>02071997</td>\n",
       "      <td>424</td>\n",
       "      <td>1</td>\n",
       "      <td>1</td>\n",
       "      <td>...</td>\n",
       "      <td></td>\n",
       "      <td></td>\n",
       "      <td></td>\n",
       "      <td></td>\n",
       "      <td></td>\n",
       "      <td></td>\n",
       "      <td></td>\n",
       "      <td></td>\n",
       "      <td>390002</td>\n",
       "      <td>2022</td>\n",
       "    </tr>\n",
       "    <tr>\n",
       "      <th>2</th>\n",
       "      <td>1</td>\n",
       "      <td>2</td>\n",
       "      <td>13052022</td>\n",
       "      <td>1830</td>\n",
       "      <td>815</td>\n",
       "      <td>150330</td>\n",
       "      <td>15032001</td>\n",
       "      <td>421</td>\n",
       "      <td>1</td>\n",
       "      <td>4</td>\n",
       "      <td>...</td>\n",
       "      <td></td>\n",
       "      <td></td>\n",
       "      <td></td>\n",
       "      <td></td>\n",
       "      <td></td>\n",
       "      <td></td>\n",
       "      <td></td>\n",
       "      <td></td>\n",
       "      <td>390003</td>\n",
       "      <td>2022</td>\n",
       "    </tr>\n",
       "    <tr>\n",
       "      <th>3</th>\n",
       "      <td>1</td>\n",
       "      <td>2</td>\n",
       "      <td>13052022</td>\n",
       "      <td>0300</td>\n",
       "      <td>815</td>\n",
       "      <td>150020</td>\n",
       "      <td>16121998</td>\n",
       "      <td>423</td>\n",
       "      <td>1</td>\n",
       "      <td>2</td>\n",
       "      <td>...</td>\n",
       "      <td></td>\n",
       "      <td></td>\n",
       "      <td></td>\n",
       "      <td></td>\n",
       "      <td></td>\n",
       "      <td></td>\n",
       "      <td></td>\n",
       "      <td></td>\n",
       "      <td>390004</td>\n",
       "      <td>2022</td>\n",
       "    </tr>\n",
       "    <tr>\n",
       "      <th>4</th>\n",
       "      <td>1</td>\n",
       "      <td>2</td>\n",
       "      <td>13052022</td>\n",
       "      <td>0200</td>\n",
       "      <td>815</td>\n",
       "      <td>150020</td>\n",
       "      <td>21101992</td>\n",
       "      <td>429</td>\n",
       "      <td>1</td>\n",
       "      <td>4</td>\n",
       "      <td>...</td>\n",
       "      <td></td>\n",
       "      <td></td>\n",
       "      <td></td>\n",
       "      <td></td>\n",
       "      <td></td>\n",
       "      <td></td>\n",
       "      <td></td>\n",
       "      <td></td>\n",
       "      <td>390005</td>\n",
       "      <td>2022</td>\n",
       "    </tr>\n",
       "  </tbody>\n",
       "</table>\n",
       "<p>5 rows × 88 columns</p>\n",
       "</div>"
      ],
      "text/plain": [
       "  ORIGEM TIPOBITO   DTOBITO HORAOBITO NATURAL CODMUNNATU    DTNASC IDADE SEXO  \\\n",
       "0      1        2  13052022     2000      815    150330   22102000   421    1   \n",
       "1      1        2  13052022     2004                      02071997   424    1   \n",
       "2      1        2  13052022     1830      815    150330   15032001   421    1   \n",
       "3      1        2  13052022     0300      815    150020   16121998   423    1   \n",
       "4      1        2  13052022     0200      815    150020   21101992   429    1   \n",
       "\n",
       "  RACACOR  ... TPRESGINFO TPNIVELINV NUDIASINF  DTCADINF MORTEPARTO DTCONCASO  \\\n",
       "0       4  ...                                                                  \n",
       "1       1  ...                                                                  \n",
       "2       4  ...                                                                  \n",
       "3       2  ...                                                                  \n",
       "4       4  ...                                                                  \n",
       "\n",
       "  FONTESINF ALTCAUSA  CONTADOR   ANO  \n",
       "0                     390001    2022  \n",
       "1                     390002    2022  \n",
       "2                     390003    2022  \n",
       "3                     390004    2022  \n",
       "4                     390005    2022  \n",
       "\n",
       "[5 rows x 88 columns]"
      ]
     },
     "execution_count": 44,
     "metadata": {},
     "output_type": "execute_result"
    }
   ],
   "source": [
    "# Função para adicionar o campo de ano\n",
    "def add_year_column(file_path):\n",
    "    year = file_path[-12:-8]\n",
    "    df = pd.read_parquet(file_path)\n",
    "    df['ANO'] = year\n",
    "    return df\n",
    "\n",
    "# Lista de arquivos parquet\n",
    "arquivos_parquet = ['downloads_sim_original/DOBR2022.parquet']\n",
    "\n",
    "# Ler, adicionar o campo de ano e concatenar os arquivos parquet\n",
    "dobr_df = pd.concat([add_year_column(arquivo) for arquivo in arquivos_parquet])\n",
    "\n",
    "# Resetar o índice\n",
    "dobr_df.reset_index(drop=True, inplace=True)\n",
    "\n",
    "# Exibir as primeiras linhas do DataFrame atualizado\n",
    "dobr_df.head()"
   ]
  },
  {
   "cell_type": "markdown",
   "metadata": {},
   "source": [
    "##### Reduzir o arquivo principal apenas para campos referenciados para População Estimada"
   ]
  },
  {
   "cell_type": "code",
   "execution_count": 45,
   "metadata": {},
   "outputs": [
    {
     "data": {
      "text/html": [
       "<div>\n",
       "<style scoped>\n",
       "    .dataframe tbody tr th:only-of-type {\n",
       "        vertical-align: middle;\n",
       "    }\n",
       "\n",
       "    .dataframe tbody tr th {\n",
       "        vertical-align: top;\n",
       "    }\n",
       "\n",
       "    .dataframe thead th {\n",
       "        text-align: right;\n",
       "    }\n",
       "</style>\n",
       "<table border=\"1\" class=\"dataframe\">\n",
       "  <thead>\n",
       "    <tr style=\"text-align: right;\">\n",
       "      <th></th>\n",
       "      <th>CAUSABAS</th>\n",
       "      <th>DTNASC</th>\n",
       "      <th>DTOBITO</th>\n",
       "      <th>CODMUNRES</th>\n",
       "      <th>SEXO</th>\n",
       "      <th>RACACOR</th>\n",
       "      <th>ANO</th>\n",
       "    </tr>\n",
       "  </thead>\n",
       "  <tbody>\n",
       "    <tr>\n",
       "      <th>0</th>\n",
       "      <td>V629</td>\n",
       "      <td>22102000</td>\n",
       "      <td>13052022</td>\n",
       "      <td>150330</td>\n",
       "      <td>1</td>\n",
       "      <td>4</td>\n",
       "      <td>2022</td>\n",
       "    </tr>\n",
       "    <tr>\n",
       "      <th>1</th>\n",
       "      <td>X990</td>\n",
       "      <td>02071997</td>\n",
       "      <td>13052022</td>\n",
       "      <td>150010</td>\n",
       "      <td>1</td>\n",
       "      <td>1</td>\n",
       "      <td>2022</td>\n",
       "    </tr>\n",
       "    <tr>\n",
       "      <th>2</th>\n",
       "      <td>X939</td>\n",
       "      <td>15032001</td>\n",
       "      <td>13052022</td>\n",
       "      <td>150330</td>\n",
       "      <td>1</td>\n",
       "      <td>4</td>\n",
       "      <td>2022</td>\n",
       "    </tr>\n",
       "    <tr>\n",
       "      <th>3</th>\n",
       "      <td>X930</td>\n",
       "      <td>16121998</td>\n",
       "      <td>13052022</td>\n",
       "      <td>150020</td>\n",
       "      <td>1</td>\n",
       "      <td>2</td>\n",
       "      <td>2022</td>\n",
       "    </tr>\n",
       "    <tr>\n",
       "      <th>4</th>\n",
       "      <td>X959</td>\n",
       "      <td>21101992</td>\n",
       "      <td>13052022</td>\n",
       "      <td>150020</td>\n",
       "      <td>1</td>\n",
       "      <td>4</td>\n",
       "      <td>2022</td>\n",
       "    </tr>\n",
       "  </tbody>\n",
       "</table>\n",
       "</div>"
      ],
      "text/plain": [
       "  CAUSABAS    DTNASC   DTOBITO CODMUNRES SEXO RACACOR   ANO\n",
       "0     V629  22102000  13052022   150330     1       4  2022\n",
       "1     X990  02071997  13052022   150010     1       1  2022\n",
       "2     X939  15032001  13052022   150330     1       4  2022\n",
       "3     X930  16121998  13052022   150020     1       2  2022\n",
       "4     X959  21101992  13052022   150020     1       4  2022"
      ]
     },
     "execution_count": 45,
     "metadata": {},
     "output_type": "execute_result"
    }
   ],
   "source": [
    "# Filtro de campos a serem utilizados - versão 1\n",
    "dobr_cid_mun_idade = dobr_df[['CAUSABAS','DTNASC', 'DTOBITO','CODMUNRES','SEXO','RACACOR','ANO']]\n",
    "dobr_cid_mun_idade.head()\n"
   ]
  },
  {
   "cell_type": "markdown",
   "metadata": {},
   "source": [
    "##### Tratamento de datas"
   ]
  },
  {
   "cell_type": "code",
   "execution_count": 46,
   "metadata": {},
   "outputs": [
    {
     "name": "stderr",
     "output_type": "stream",
     "text": [
      "/tmp/ipykernel_2439/3653329788.py:8: SettingWithCopyWarning: \n",
      "A value is trying to be set on a copy of a slice from a DataFrame.\n",
      "Try using .loc[row_indexer,col_indexer] = value instead\n",
      "\n",
      "See the caveats in the documentation: https://pandas.pydata.org/pandas-docs/stable/user_guide/indexing.html#returning-a-view-versus-a-copy\n",
      "  df.at[index, f'{date_column}_trat'] = pd.to_datetime(row[date_column], format='%d%m%Y').strftime('%d/%m/%Y')\n",
      "/tmp/ipykernel_2439/3653329788.py:8: SettingWithCopyWarning: \n",
      "A value is trying to be set on a copy of a slice from a DataFrame.\n",
      "Try using .loc[row_indexer,col_indexer] = value instead\n",
      "\n",
      "See the caveats in the documentation: https://pandas.pydata.org/pandas-docs/stable/user_guide/indexing.html#returning-a-view-versus-a-copy\n",
      "  df.at[index, f'{date_column}_trat'] = pd.to_datetime(row[date_column], format='%d%m%Y').strftime('%d/%m/%Y')\n"
     ]
    },
    {
     "name": "stdout",
     "output_type": "stream",
     "text": [
      "Linhas com erro: 3343\n",
      "<class 'pandas.core.frame.DataFrame'>\n",
      "Index: 1540923 entries, 0 to 1544265\n",
      "Data columns (total 9 columns):\n",
      " #   Column        Non-Null Count    Dtype \n",
      "---  ------        --------------    ----- \n",
      " 0   CAUSABAS      1540923 non-null  object\n",
      " 1   DTNASC        1540923 non-null  object\n",
      " 2   DTOBITO       1540923 non-null  object\n",
      " 3   CODMUNRES     1540923 non-null  object\n",
      " 4   SEXO          1540923 non-null  object\n",
      " 5   RACACOR       1540923 non-null  object\n",
      " 6   ANO           1540923 non-null  object\n",
      " 7   DTNASC_trat   1540923 non-null  object\n",
      " 8   DTOBITO_trat  1540923 non-null  object\n",
      "dtypes: object(9)\n",
      "memory usage: 117.6+ MB\n",
      "None\n"
     ]
    },
    {
     "data": {
      "text/html": [
       "<div>\n",
       "<style scoped>\n",
       "    .dataframe tbody tr th:only-of-type {\n",
       "        vertical-align: middle;\n",
       "    }\n",
       "\n",
       "    .dataframe tbody tr th {\n",
       "        vertical-align: top;\n",
       "    }\n",
       "\n",
       "    .dataframe thead th {\n",
       "        text-align: right;\n",
       "    }\n",
       "</style>\n",
       "<table border=\"1\" class=\"dataframe\">\n",
       "  <thead>\n",
       "    <tr style=\"text-align: right;\">\n",
       "      <th></th>\n",
       "      <th>CAUSABAS</th>\n",
       "      <th>DTNASC</th>\n",
       "      <th>DTOBITO</th>\n",
       "      <th>CODMUNRES</th>\n",
       "      <th>SEXO</th>\n",
       "      <th>RACACOR</th>\n",
       "      <th>ANO</th>\n",
       "      <th>DTNASC_trat</th>\n",
       "      <th>DTOBITO_trat</th>\n",
       "    </tr>\n",
       "  </thead>\n",
       "  <tbody>\n",
       "    <tr>\n",
       "      <th>0</th>\n",
       "      <td>V629</td>\n",
       "      <td>22102000</td>\n",
       "      <td>13052022</td>\n",
       "      <td>150330</td>\n",
       "      <td>1</td>\n",
       "      <td>4</td>\n",
       "      <td>2022</td>\n",
       "      <td>22/10/2000</td>\n",
       "      <td>13/05/2022</td>\n",
       "    </tr>\n",
       "    <tr>\n",
       "      <th>1</th>\n",
       "      <td>X990</td>\n",
       "      <td>02071997</td>\n",
       "      <td>13052022</td>\n",
       "      <td>150010</td>\n",
       "      <td>1</td>\n",
       "      <td>1</td>\n",
       "      <td>2022</td>\n",
       "      <td>02/07/1997</td>\n",
       "      <td>13/05/2022</td>\n",
       "    </tr>\n",
       "    <tr>\n",
       "      <th>2</th>\n",
       "      <td>X939</td>\n",
       "      <td>15032001</td>\n",
       "      <td>13052022</td>\n",
       "      <td>150330</td>\n",
       "      <td>1</td>\n",
       "      <td>4</td>\n",
       "      <td>2022</td>\n",
       "      <td>15/03/2001</td>\n",
       "      <td>13/05/2022</td>\n",
       "    </tr>\n",
       "    <tr>\n",
       "      <th>3</th>\n",
       "      <td>X930</td>\n",
       "      <td>16121998</td>\n",
       "      <td>13052022</td>\n",
       "      <td>150020</td>\n",
       "      <td>1</td>\n",
       "      <td>2</td>\n",
       "      <td>2022</td>\n",
       "      <td>16/12/1998</td>\n",
       "      <td>13/05/2022</td>\n",
       "    </tr>\n",
       "    <tr>\n",
       "      <th>4</th>\n",
       "      <td>X959</td>\n",
       "      <td>21101992</td>\n",
       "      <td>13052022</td>\n",
       "      <td>150020</td>\n",
       "      <td>1</td>\n",
       "      <td>4</td>\n",
       "      <td>2022</td>\n",
       "      <td>21/10/1992</td>\n",
       "      <td>13/05/2022</td>\n",
       "    </tr>\n",
       "  </tbody>\n",
       "</table>\n",
       "</div>"
      ],
      "text/plain": [
       "  CAUSABAS    DTNASC   DTOBITO CODMUNRES SEXO RACACOR   ANO DTNASC_trat  \\\n",
       "0     V629  22102000  13052022   150330     1       4  2022  22/10/2000   \n",
       "1     X990  02071997  13052022   150010     1       1  2022  02/07/1997   \n",
       "2     X939  15032001  13052022   150330     1       4  2022  15/03/2001   \n",
       "3     X930  16121998  13052022   150020     1       2  2022  16/12/1998   \n",
       "4     X959  21101992  13052022   150020     1       4  2022  21/10/1992   \n",
       "\n",
       "  DTOBITO_trat  \n",
       "0   13/05/2022  \n",
       "1   13/05/2022  \n",
       "2   13/05/2022  \n",
       "3   13/05/2022  \n",
       "4   13/05/2022  "
      ]
     },
     "execution_count": 46,
     "metadata": {},
     "output_type": "execute_result"
    }
   ],
   "source": [
    "# Função para transformar datas e excluir registros inválidos\n",
    "def transform_date_columns(df, date_columns):\n",
    "    invalid_rows = []\n",
    "    \n",
    "    for date_column in date_columns:\n",
    "        for index, row in df.iterrows():\n",
    "            try:\n",
    "                df.at[index, f'{date_column}_trat'] = pd.to_datetime(row[date_column], format='%d%m%Y').strftime('%d/%m/%Y')\n",
    "            except ValueError:\n",
    "                invalid_rows.append(index)\n",
    "    \n",
    "    # Excluir as linhas identificadas em invalid_rows\n",
    "    df = df.drop(invalid_rows)\n",
    "    \n",
    "    # Apresentar a conta das linhas com erros\n",
    "    print(f\"Linhas com erro: {len(invalid_rows)}\")\n",
    "    \n",
    "    return df\n",
    "\n",
    "# Transformar os campos DTNASC e DTOBITO\n",
    "dobr_cid_mun_idade = transform_date_columns(dobr_cid_mun_idade, ['DTNASC', 'DTOBITO'])\n",
    "\n",
    "# Verificar a nova base\n",
    "print(dobr_cid_mun_idade.info())\n",
    "dobr_cid_mun_idade.head()"
   ]
  },
  {
   "cell_type": "code",
   "execution_count": 47,
   "metadata": {},
   "outputs": [],
   "source": [
    "# Salvar arquivo após seleção de colunas e transformação de idade\n",
    "dobr_treat_parcial = dobr_cid_mun_idade.to_parquet('files_clean/dobr_treat_parcial.parquet')"
   ]
  },
  {
   "cell_type": "code",
   "execution_count": 48,
   "metadata": {},
   "outputs": [
    {
     "data": {
      "text/html": [
       "<div>\n",
       "<style scoped>\n",
       "    .dataframe tbody tr th:only-of-type {\n",
       "        vertical-align: middle;\n",
       "    }\n",
       "\n",
       "    .dataframe tbody tr th {\n",
       "        vertical-align: top;\n",
       "    }\n",
       "\n",
       "    .dataframe thead th {\n",
       "        text-align: right;\n",
       "    }\n",
       "</style>\n",
       "<table border=\"1\" class=\"dataframe\">\n",
       "  <thead>\n",
       "    <tr style=\"text-align: right;\">\n",
       "      <th></th>\n",
       "      <th>CAUSABAS</th>\n",
       "      <th>DTNASC</th>\n",
       "      <th>DTOBITO</th>\n",
       "      <th>CODMUNRES</th>\n",
       "      <th>SEXO</th>\n",
       "      <th>RACACOR</th>\n",
       "      <th>ANO</th>\n",
       "      <th>DTNASC_trat</th>\n",
       "      <th>DTOBITO_trat</th>\n",
       "    </tr>\n",
       "  </thead>\n",
       "  <tbody>\n",
       "    <tr>\n",
       "      <th>1017448</th>\n",
       "      <td>J960</td>\n",
       "      <td>14121952</td>\n",
       "      <td>01022022</td>\n",
       "      <td>330350</td>\n",
       "      <td>2</td>\n",
       "      <td>4</td>\n",
       "      <td>2022</td>\n",
       "      <td>14/12/1952</td>\n",
       "      <td>01/02/2022</td>\n",
       "    </tr>\n",
       "    <tr>\n",
       "      <th>1078585</th>\n",
       "      <td>F102</td>\n",
       "      <td>30111983</td>\n",
       "      <td>14122022</td>\n",
       "      <td>520800</td>\n",
       "      <td>1</td>\n",
       "      <td>4</td>\n",
       "      <td>2022</td>\n",
       "      <td>30/11/1983</td>\n",
       "      <td>14/12/2022</td>\n",
       "    </tr>\n",
       "    <tr>\n",
       "      <th>1391682</th>\n",
       "      <td>E149</td>\n",
       "      <td>10111948</td>\n",
       "      <td>04022022</td>\n",
       "      <td>250750</td>\n",
       "      <td>1</td>\n",
       "      <td>4</td>\n",
       "      <td>2022</td>\n",
       "      <td>10/11/1948</td>\n",
       "      <td>04/02/2022</td>\n",
       "    </tr>\n",
       "    <tr>\n",
       "      <th>1427174</th>\n",
       "      <td>N390</td>\n",
       "      <td>15081945</td>\n",
       "      <td>23092022</td>\n",
       "      <td>260410</td>\n",
       "      <td>1</td>\n",
       "      <td>4</td>\n",
       "      <td>2022</td>\n",
       "      <td>15/08/1945</td>\n",
       "      <td>23/09/2022</td>\n",
       "    </tr>\n",
       "    <tr>\n",
       "      <th>368173</th>\n",
       "      <td>E115</td>\n",
       "      <td>10111934</td>\n",
       "      <td>26012022</td>\n",
       "      <td>330490</td>\n",
       "      <td>2</td>\n",
       "      <td>2</td>\n",
       "      <td>2022</td>\n",
       "      <td>10/11/1934</td>\n",
       "      <td>26/01/2022</td>\n",
       "    </tr>\n",
       "    <tr>\n",
       "      <th>179522</th>\n",
       "      <td>E102</td>\n",
       "      <td>16051951</td>\n",
       "      <td>16012022</td>\n",
       "      <td>353390</td>\n",
       "      <td>2</td>\n",
       "      <td>1</td>\n",
       "      <td>2022</td>\n",
       "      <td>16/05/1951</td>\n",
       "      <td>16/01/2022</td>\n",
       "    </tr>\n",
       "    <tr>\n",
       "      <th>116254</th>\n",
       "      <td>I500</td>\n",
       "      <td>16031966</td>\n",
       "      <td>17122022</td>\n",
       "      <td>351210</td>\n",
       "      <td>2</td>\n",
       "      <td>1</td>\n",
       "      <td>2022</td>\n",
       "      <td>16/03/1966</td>\n",
       "      <td>17/12/2022</td>\n",
       "    </tr>\n",
       "    <tr>\n",
       "      <th>339816</th>\n",
       "      <td>G20</td>\n",
       "      <td>09041956</td>\n",
       "      <td>14092022</td>\n",
       "      <td>520870</td>\n",
       "      <td>2</td>\n",
       "      <td>4</td>\n",
       "      <td>2022</td>\n",
       "      <td>09/04/1956</td>\n",
       "      <td>14/09/2022</td>\n",
       "    </tr>\n",
       "    <tr>\n",
       "      <th>315365</th>\n",
       "      <td>E149</td>\n",
       "      <td>24071944</td>\n",
       "      <td>10112022</td>\n",
       "      <td>261160</td>\n",
       "      <td>2</td>\n",
       "      <td>1</td>\n",
       "      <td>2022</td>\n",
       "      <td>24/07/1944</td>\n",
       "      <td>10/11/2022</td>\n",
       "    </tr>\n",
       "    <tr>\n",
       "      <th>404151</th>\n",
       "      <td>V234</td>\n",
       "      <td>26021985</td>\n",
       "      <td>15072022</td>\n",
       "      <td>421230</td>\n",
       "      <td>1</td>\n",
       "      <td>1</td>\n",
       "      <td>2022</td>\n",
       "      <td>26/02/1985</td>\n",
       "      <td>15/07/2022</td>\n",
       "    </tr>\n",
       "    <tr>\n",
       "      <th>501811</th>\n",
       "      <td>C61</td>\n",
       "      <td>12061963</td>\n",
       "      <td>21112022</td>\n",
       "      <td>355250</td>\n",
       "      <td>1</td>\n",
       "      <td>1</td>\n",
       "      <td>2022</td>\n",
       "      <td>12/06/1963</td>\n",
       "      <td>21/11/2022</td>\n",
       "    </tr>\n",
       "    <tr>\n",
       "      <th>274780</th>\n",
       "      <td>J960</td>\n",
       "      <td>25031972</td>\n",
       "      <td>26082022</td>\n",
       "      <td>210660</td>\n",
       "      <td>2</td>\n",
       "      <td>4</td>\n",
       "      <td>2022</td>\n",
       "      <td>25/03/1972</td>\n",
       "      <td>26/08/2022</td>\n",
       "    </tr>\n",
       "    <tr>\n",
       "      <th>504371</th>\n",
       "      <td>K920</td>\n",
       "      <td>15051943</td>\n",
       "      <td>06082022</td>\n",
       "      <td>310010</td>\n",
       "      <td>1</td>\n",
       "      <td>1</td>\n",
       "      <td>2022</td>\n",
       "      <td>15/05/1943</td>\n",
       "      <td>06/08/2022</td>\n",
       "    </tr>\n",
       "    <tr>\n",
       "      <th>454805</th>\n",
       "      <td>K709</td>\n",
       "      <td>18011975</td>\n",
       "      <td>18012022</td>\n",
       "      <td>270450</td>\n",
       "      <td>1</td>\n",
       "      <td>4</td>\n",
       "      <td>2022</td>\n",
       "      <td>18/01/1975</td>\n",
       "      <td>18/01/2022</td>\n",
       "    </tr>\n",
       "    <tr>\n",
       "      <th>1015604</th>\n",
       "      <td>I678</td>\n",
       "      <td>18051956</td>\n",
       "      <td>29062022</td>\n",
       "      <td>330285</td>\n",
       "      <td>1</td>\n",
       "      <td>1</td>\n",
       "      <td>2022</td>\n",
       "      <td>18/05/1956</td>\n",
       "      <td>29/06/2022</td>\n",
       "    </tr>\n",
       "    <tr>\n",
       "      <th>75133</th>\n",
       "      <td>X954</td>\n",
       "      <td>25092003</td>\n",
       "      <td>05042022</td>\n",
       "      <td>411370</td>\n",
       "      <td>1</td>\n",
       "      <td>4</td>\n",
       "      <td>2022</td>\n",
       "      <td>25/09/2003</td>\n",
       "      <td>05/04/2022</td>\n",
       "    </tr>\n",
       "    <tr>\n",
       "      <th>689789</th>\n",
       "      <td>C56</td>\n",
       "      <td>03111964</td>\n",
       "      <td>16022022</td>\n",
       "      <td>412810</td>\n",
       "      <td>2</td>\n",
       "      <td>1</td>\n",
       "      <td>2022</td>\n",
       "      <td>03/11/1964</td>\n",
       "      <td>16/02/2022</td>\n",
       "    </tr>\n",
       "    <tr>\n",
       "      <th>1515360</th>\n",
       "      <td>I132</td>\n",
       "      <td>26111938</td>\n",
       "      <td>12022022</td>\n",
       "      <td>410690</td>\n",
       "      <td>1</td>\n",
       "      <td>1</td>\n",
       "      <td>2022</td>\n",
       "      <td>26/11/1938</td>\n",
       "      <td>12/02/2022</td>\n",
       "    </tr>\n",
       "    <tr>\n",
       "      <th>920444</th>\n",
       "      <td>W089</td>\n",
       "      <td>21011964</td>\n",
       "      <td>08062022</td>\n",
       "      <td>410240</td>\n",
       "      <td>1</td>\n",
       "      <td>1</td>\n",
       "      <td>2022</td>\n",
       "      <td>21/01/1964</td>\n",
       "      <td>08/06/2022</td>\n",
       "    </tr>\n",
       "    <tr>\n",
       "      <th>606299</th>\n",
       "      <td>I255</td>\n",
       "      <td>10121943</td>\n",
       "      <td>14012022</td>\n",
       "      <td>520870</td>\n",
       "      <td>1</td>\n",
       "      <td>1</td>\n",
       "      <td>2022</td>\n",
       "      <td>10/12/1943</td>\n",
       "      <td>14/01/2022</td>\n",
       "    </tr>\n",
       "  </tbody>\n",
       "</table>\n",
       "</div>"
      ],
      "text/plain": [
       "        CAUSABAS    DTNASC   DTOBITO CODMUNRES SEXO RACACOR   ANO DTNASC_trat  \\\n",
       "1017448     J960  14121952  01022022   330350     2       4  2022  14/12/1952   \n",
       "1078585     F102  30111983  14122022   520800     1       4  2022  30/11/1983   \n",
       "1391682     E149  10111948  04022022   250750     1       4  2022  10/11/1948   \n",
       "1427174     N390  15081945  23092022   260410     1       4  2022  15/08/1945   \n",
       "368173      E115  10111934  26012022   330490     2       2  2022  10/11/1934   \n",
       "179522      E102  16051951  16012022   353390     2       1  2022  16/05/1951   \n",
       "116254      I500  16031966  17122022   351210     2       1  2022  16/03/1966   \n",
       "339816      G20   09041956  14092022   520870     2       4  2022  09/04/1956   \n",
       "315365      E149  24071944  10112022   261160     2       1  2022  24/07/1944   \n",
       "404151      V234  26021985  15072022   421230     1       1  2022  26/02/1985   \n",
       "501811      C61   12061963  21112022   355250     1       1  2022  12/06/1963   \n",
       "274780      J960  25031972  26082022   210660     2       4  2022  25/03/1972   \n",
       "504371      K920  15051943  06082022   310010     1       1  2022  15/05/1943   \n",
       "454805      K709  18011975  18012022   270450     1       4  2022  18/01/1975   \n",
       "1015604     I678  18051956  29062022   330285     1       1  2022  18/05/1956   \n",
       "75133       X954  25092003  05042022   411370     1       4  2022  25/09/2003   \n",
       "689789      C56   03111964  16022022   412810     2       1  2022  03/11/1964   \n",
       "1515360     I132  26111938  12022022   410690     1       1  2022  26/11/1938   \n",
       "920444      W089  21011964  08062022   410240     1       1  2022  21/01/1964   \n",
       "606299      I255  10121943  14012022   520870     1       1  2022  10/12/1943   \n",
       "\n",
       "        DTOBITO_trat  \n",
       "1017448   01/02/2022  \n",
       "1078585   14/12/2022  \n",
       "1391682   04/02/2022  \n",
       "1427174   23/09/2022  \n",
       "368173    26/01/2022  \n",
       "179522    16/01/2022  \n",
       "116254    17/12/2022  \n",
       "339816    14/09/2022  \n",
       "315365    10/11/2022  \n",
       "404151    15/07/2022  \n",
       "501811    21/11/2022  \n",
       "274780    26/08/2022  \n",
       "504371    06/08/2022  \n",
       "454805    18/01/2022  \n",
       "1015604   29/06/2022  \n",
       "75133     05/04/2022  \n",
       "689789    16/02/2022  \n",
       "1515360   12/02/2022  \n",
       "920444    08/06/2022  \n",
       "606299    14/01/2022  "
      ]
     },
     "execution_count": 48,
     "metadata": {},
     "output_type": "execute_result"
    }
   ],
   "source": [
    "# pegar 20 linhas aleatórias\n",
    "df_teste = dobr_cid_mun_idade.sample(20)\n",
    "df_teste"
   ]
  },
  {
   "cell_type": "markdown",
   "metadata": {},
   "source": [
    "##### Criação de faixas de idade"
   ]
  },
  {
   "cell_type": "code",
   "execution_count": 88,
   "metadata": {},
   "outputs": [],
   "source": [
    "dobr_cid_mun_idade = pd.read_parquet('files_clean/dobr_treat_parcial.parquet')"
   ]
  },
  {
   "cell_type": "code",
   "execution_count": 89,
   "metadata": {},
   "outputs": [
    {
     "name": "stdout",
     "output_type": "stream",
     "text": [
      "<class 'pandas.core.frame.DataFrame'>\n",
      "Index: 1540923 entries, 0 to 1544265\n",
      "Data columns (total 9 columns):\n",
      " #   Column        Non-Null Count    Dtype \n",
      "---  ------        --------------    ----- \n",
      " 0   CAUSABAS      1540923 non-null  object\n",
      " 1   DTNASC        1540923 non-null  object\n",
      " 2   DTOBITO       1540923 non-null  object\n",
      " 3   CODMUNRES     1540923 non-null  object\n",
      " 4   SEXO          1540923 non-null  object\n",
      " 5   RACACOR       1540923 non-null  object\n",
      " 6   ANO           1540923 non-null  object\n",
      " 7   DTNASC_trat   1540923 non-null  object\n",
      " 8   DTOBITO_trat  1540923 non-null  object\n",
      "dtypes: object(9)\n",
      "memory usage: 117.6+ MB\n"
     ]
    }
   ],
   "source": [
    "dobr_cid_mun_idade.info()"
   ]
  },
  {
   "cell_type": "code",
   "execution_count": 90,
   "metadata": {},
   "outputs": [],
   "source": [
    "# Calcular a diferença entre DTNASC_trat e DTOBITO_trat como OBITO_IDADE\n",
    "dobr_cid_mun_idade['OBITO_IDADE'] = (pd.to_datetime(dobr_cid_mun_idade['DTOBITO_trat'], format='%d/%m/%Y') - pd.to_datetime(dobr_cid_mun_idade['DTNASC_trat'], format='%d/%m/%Y')).dt.days // 365\n"
   ]
  },
  {
   "cell_type": "code",
   "execution_count": 91,
   "metadata": {},
   "outputs": [
    {
     "data": {
      "text/html": [
       "<div>\n",
       "<style scoped>\n",
       "    .dataframe tbody tr th:only-of-type {\n",
       "        vertical-align: middle;\n",
       "    }\n",
       "\n",
       "    .dataframe tbody tr th {\n",
       "        vertical-align: top;\n",
       "    }\n",
       "\n",
       "    .dataframe thead th {\n",
       "        text-align: right;\n",
       "    }\n",
       "</style>\n",
       "<table border=\"1\" class=\"dataframe\">\n",
       "  <thead>\n",
       "    <tr style=\"text-align: right;\">\n",
       "      <th></th>\n",
       "      <th>CAUSABAS</th>\n",
       "      <th>DTNASC</th>\n",
       "      <th>DTOBITO</th>\n",
       "      <th>CODMUNRES</th>\n",
       "      <th>SEXO</th>\n",
       "      <th>RACACOR</th>\n",
       "      <th>ANO</th>\n",
       "      <th>DTNASC_trat</th>\n",
       "      <th>DTOBITO_trat</th>\n",
       "      <th>OBITO_IDADE</th>\n",
       "      <th>OBITO_FAIXA_ETARIA</th>\n",
       "    </tr>\n",
       "  </thead>\n",
       "  <tbody>\n",
       "    <tr>\n",
       "      <th>0</th>\n",
       "      <td>V629</td>\n",
       "      <td>22102000</td>\n",
       "      <td>13052022</td>\n",
       "      <td>150330</td>\n",
       "      <td>1</td>\n",
       "      <td>4</td>\n",
       "      <td>2022</td>\n",
       "      <td>22/10/2000</td>\n",
       "      <td>13/05/2022</td>\n",
       "      <td>21</td>\n",
       "      <td>under74</td>\n",
       "    </tr>\n",
       "    <tr>\n",
       "      <th>1</th>\n",
       "      <td>X990</td>\n",
       "      <td>02071997</td>\n",
       "      <td>13052022</td>\n",
       "      <td>150010</td>\n",
       "      <td>1</td>\n",
       "      <td>1</td>\n",
       "      <td>2022</td>\n",
       "      <td>02/07/1997</td>\n",
       "      <td>13/05/2022</td>\n",
       "      <td>24</td>\n",
       "      <td>under74</td>\n",
       "    </tr>\n",
       "    <tr>\n",
       "      <th>2</th>\n",
       "      <td>X939</td>\n",
       "      <td>15032001</td>\n",
       "      <td>13052022</td>\n",
       "      <td>150330</td>\n",
       "      <td>1</td>\n",
       "      <td>4</td>\n",
       "      <td>2022</td>\n",
       "      <td>15/03/2001</td>\n",
       "      <td>13/05/2022</td>\n",
       "      <td>21</td>\n",
       "      <td>under74</td>\n",
       "    </tr>\n",
       "    <tr>\n",
       "      <th>3</th>\n",
       "      <td>X930</td>\n",
       "      <td>16121998</td>\n",
       "      <td>13052022</td>\n",
       "      <td>150020</td>\n",
       "      <td>1</td>\n",
       "      <td>2</td>\n",
       "      <td>2022</td>\n",
       "      <td>16/12/1998</td>\n",
       "      <td>13/05/2022</td>\n",
       "      <td>23</td>\n",
       "      <td>under74</td>\n",
       "    </tr>\n",
       "    <tr>\n",
       "      <th>4</th>\n",
       "      <td>X959</td>\n",
       "      <td>21101992</td>\n",
       "      <td>13052022</td>\n",
       "      <td>150020</td>\n",
       "      <td>1</td>\n",
       "      <td>4</td>\n",
       "      <td>2022</td>\n",
       "      <td>21/10/1992</td>\n",
       "      <td>13/05/2022</td>\n",
       "      <td>29</td>\n",
       "      <td>under74</td>\n",
       "    </tr>\n",
       "  </tbody>\n",
       "</table>\n",
       "</div>"
      ],
      "text/plain": [
       "  CAUSABAS    DTNASC   DTOBITO CODMUNRES SEXO RACACOR   ANO DTNASC_trat  \\\n",
       "0     V629  22102000  13052022   150330     1       4  2022  22/10/2000   \n",
       "1     X990  02071997  13052022   150010     1       1  2022  02/07/1997   \n",
       "2     X939  15032001  13052022   150330     1       4  2022  15/03/2001   \n",
       "3     X930  16121998  13052022   150020     1       2  2022  16/12/1998   \n",
       "4     X959  21101992  13052022   150020     1       4  2022  21/10/1992   \n",
       "\n",
       "  DTOBITO_trat  OBITO_IDADE OBITO_FAIXA_ETARIA  \n",
       "0   13/05/2022           21            under74  \n",
       "1   13/05/2022           24            under74  \n",
       "2   13/05/2022           21            under74  \n",
       "3   13/05/2022           23            under74  \n",
       "4   13/05/2022           29            under74  "
      ]
     },
     "execution_count": 91,
     "metadata": {},
     "output_type": "execute_result"
    }
   ],
   "source": [
    "# Gerar uma coluna com faixa etária, considerando a idade do óbito, 'under74' para menores de 75 anos e 'over75' para 75 anos ou mais\n",
    "dobr_cid_mun_idade['OBITO_FAIXA_ETARIA'] = numpy.where(dobr_cid_mun_idade['OBITO_IDADE'] < 75, 'under74', 'over75')\n",
    "dobr_cid_mun_idade.head()"
   ]
  },
  {
   "cell_type": "code",
   "execution_count": 92,
   "metadata": {},
   "outputs": [
    {
     "data": {
      "text/plain": [
       "OBITO_FAIXA_ETARIA\n",
       "over75     666902\n",
       "under74    874021\n",
       "dtype: int64"
      ]
     },
     "execution_count": 92,
     "metadata": {},
     "output_type": "execute_result"
    }
   ],
   "source": [
    "# GroupBy para Faixas de Idade\n",
    "dobr_cid_mun_idade.groupby('OBITO_FAIXA_ETARIA').size()\n"
   ]
  },
  {
   "cell_type": "code",
   "execution_count": 93,
   "metadata": {},
   "outputs": [],
   "source": [
    "# Excluir quem na OBITO_FAIXA_ETARIA for 'over75'\n",
    "dobr_clean = dobr_cid_mun_idade[dobr_cid_mun_idade['OBITO_FAIXA_ETARIA'] == 'under74']\n",
    "\n",
    "# Resetar o índice\n",
    "dobr_clean.reset_index(drop=True, inplace=True)\n"
   ]
  },
  {
   "cell_type": "code",
   "execution_count": 94,
   "metadata": {},
   "outputs": [
    {
     "name": "stdout",
     "output_type": "stream",
     "text": [
      "<class 'pandas.core.frame.DataFrame'>\n",
      "RangeIndex: 874021 entries, 0 to 874020\n",
      "Data columns (total 11 columns):\n",
      " #   Column              Non-Null Count   Dtype \n",
      "---  ------              --------------   ----- \n",
      " 0   CAUSABAS            874021 non-null  object\n",
      " 1   DTNASC              874021 non-null  object\n",
      " 2   DTOBITO             874021 non-null  object\n",
      " 3   CODMUNRES           874021 non-null  object\n",
      " 4   SEXO                874021 non-null  object\n",
      " 5   RACACOR             874021 non-null  object\n",
      " 6   ANO                 874021 non-null  object\n",
      " 7   DTNASC_trat         874021 non-null  object\n",
      " 8   DTOBITO_trat        874021 non-null  object\n",
      " 9   OBITO_IDADE         874021 non-null  int64 \n",
      " 10  OBITO_FAIXA_ETARIA  874021 non-null  object\n",
      "dtypes: int64(1), object(10)\n",
      "memory usage: 73.4+ MB\n"
     ]
    }
   ],
   "source": [
    "dobr_clean.info()"
   ]
  },
  {
   "cell_type": "code",
   "execution_count": 95,
   "metadata": {
    "vscode": {
     "languageId": "ruby"
    }
   },
   "outputs": [
    {
     "name": "stderr",
     "output_type": "stream",
     "text": [
      "/tmp/ipykernel_2461/344905617.py:2: SettingWithCopyWarning: \n",
      "A value is trying to be set on a copy of a slice from a DataFrame.\n",
      "Try using .loc[row_indexer,col_indexer] = value instead\n",
      "\n",
      "See the caveats in the documentation: https://pandas.pydata.org/pandas-docs/stable/user_guide/indexing.html#returning-a-view-versus-a-copy\n",
      "  dobr_clean['ANO'] = dobr_clean['DTOBITO_trat'].str[-4:]\n"
     ]
    }
   ],
   "source": [
    "# Criar o campo \"ANO\" com os últimos 4 caracteres de \"DTOBITO_trat\"\n",
    "dobr_clean['ANO'] = dobr_clean['DTOBITO_trat'].str[-4:]\n",
    "\n",
    "# Listar e filtrar colunas a serem utilizadas\n",
    "dobr_clean = dobr_clean[['CAUSABAS', 'CODMUNRES', 'SEXO','RACACOR','OBITO_FAIXA_ETARIA', 'ANO']]\n",
    "\n",
    "# Converter todos os campos para string\n",
    "dobr_clean = dobr_clean.astype(str)\n"
   ]
  },
  {
   "cell_type": "code",
   "execution_count": 96,
   "metadata": {
    "vscode": {
     "languageId": "ruby"
    }
   },
   "outputs": [
    {
     "data": {
      "text/html": [
       "<div>\n",
       "<style scoped>\n",
       "    .dataframe tbody tr th:only-of-type {\n",
       "        vertical-align: middle;\n",
       "    }\n",
       "\n",
       "    .dataframe tbody tr th {\n",
       "        vertical-align: top;\n",
       "    }\n",
       "\n",
       "    .dataframe thead th {\n",
       "        text-align: right;\n",
       "    }\n",
       "</style>\n",
       "<table border=\"1\" class=\"dataframe\">\n",
       "  <thead>\n",
       "    <tr style=\"text-align: right;\">\n",
       "      <th></th>\n",
       "      <th>CAUSABAS</th>\n",
       "      <th>CODMUNRES</th>\n",
       "      <th>SEXO</th>\n",
       "      <th>RACACOR</th>\n",
       "      <th>OBITO_FAIXA_ETARIA</th>\n",
       "      <th>ANO</th>\n",
       "    </tr>\n",
       "  </thead>\n",
       "  <tbody>\n",
       "    <tr>\n",
       "      <th>0</th>\n",
       "      <td>V629</td>\n",
       "      <td>150330</td>\n",
       "      <td>1</td>\n",
       "      <td>4</td>\n",
       "      <td>under74</td>\n",
       "      <td>2022</td>\n",
       "    </tr>\n",
       "    <tr>\n",
       "      <th>1</th>\n",
       "      <td>X990</td>\n",
       "      <td>150010</td>\n",
       "      <td>1</td>\n",
       "      <td>1</td>\n",
       "      <td>under74</td>\n",
       "      <td>2022</td>\n",
       "    </tr>\n",
       "    <tr>\n",
       "      <th>2</th>\n",
       "      <td>X939</td>\n",
       "      <td>150330</td>\n",
       "      <td>1</td>\n",
       "      <td>4</td>\n",
       "      <td>under74</td>\n",
       "      <td>2022</td>\n",
       "    </tr>\n",
       "    <tr>\n",
       "      <th>3</th>\n",
       "      <td>X930</td>\n",
       "      <td>150020</td>\n",
       "      <td>1</td>\n",
       "      <td>2</td>\n",
       "      <td>under74</td>\n",
       "      <td>2022</td>\n",
       "    </tr>\n",
       "    <tr>\n",
       "      <th>4</th>\n",
       "      <td>X959</td>\n",
       "      <td>150020</td>\n",
       "      <td>1</td>\n",
       "      <td>4</td>\n",
       "      <td>under74</td>\n",
       "      <td>2022</td>\n",
       "    </tr>\n",
       "  </tbody>\n",
       "</table>\n",
       "</div>"
      ],
      "text/plain": [
       "  CAUSABAS CODMUNRES SEXO RACACOR OBITO_FAIXA_ETARIA   ANO\n",
       "0     V629   150330     1       4            under74  2022\n",
       "1     X990   150010     1       1            under74  2022\n",
       "2     X939   150330     1       4            under74  2022\n",
       "3     X930   150020     1       2            under74  2022\n",
       "4     X959   150020     1       4            under74  2022"
      ]
     },
     "execution_count": 96,
     "metadata": {},
     "output_type": "execute_result"
    }
   ],
   "source": [
    "dobr_clean.head()"
   ]
  },
  {
   "cell_type": "code",
   "execution_count": 98,
   "metadata": {
    "vscode": {
     "languageId": "ruby"
    }
   },
   "outputs": [
    {
     "data": {
      "text/plain": [
       "array(['4', '1', '2', '3', '9', '5'], dtype=object)"
      ]
     },
     "execution_count": 98,
     "metadata": {},
     "output_type": "execute_result"
    }
   ],
   "source": [
    "# Substituir valores em branco na coluna RACACOR por '9'\n",
    "dobr_clean['RACACOR'] = dobr_clean['RACACOR'].replace(' ', '9')\n",
    "\n",
    "# Verificar as primeiras linhas do DataFrame atualizado\n",
    "dobr_clean.RACACOR.unique()"
   ]
  },
  {
   "cell_type": "code",
   "execution_count": 99,
   "metadata": {
    "vscode": {
     "languageId": "ruby"
    }
   },
   "outputs": [
    {
     "data": {
      "text/html": [
       "<div>\n",
       "<style scoped>\n",
       "    .dataframe tbody tr th:only-of-type {\n",
       "        vertical-align: middle;\n",
       "    }\n",
       "\n",
       "    .dataframe tbody tr th {\n",
       "        vertical-align: top;\n",
       "    }\n",
       "\n",
       "    .dataframe thead th {\n",
       "        text-align: right;\n",
       "    }\n",
       "</style>\n",
       "<table border=\"1\" class=\"dataframe\">\n",
       "  <thead>\n",
       "    <tr style=\"text-align: right;\">\n",
       "      <th></th>\n",
       "      <th>CAUSABAS</th>\n",
       "      <th>CODMUNRES</th>\n",
       "      <th>SEXO</th>\n",
       "      <th>RACACOR</th>\n",
       "      <th>OBITO_FAIXA_ETARIA</th>\n",
       "      <th>ANO</th>\n",
       "    </tr>\n",
       "  </thead>\n",
       "  <tbody>\n",
       "    <tr>\n",
       "      <th>0</th>\n",
       "      <td>V629</td>\n",
       "      <td>_150330</td>\n",
       "      <td>_1</td>\n",
       "      <td>_4</td>\n",
       "      <td>under74</td>\n",
       "      <td>2022</td>\n",
       "    </tr>\n",
       "    <tr>\n",
       "      <th>1</th>\n",
       "      <td>X990</td>\n",
       "      <td>_150010</td>\n",
       "      <td>_1</td>\n",
       "      <td>_1</td>\n",
       "      <td>under74</td>\n",
       "      <td>2022</td>\n",
       "    </tr>\n",
       "    <tr>\n",
       "      <th>2</th>\n",
       "      <td>X939</td>\n",
       "      <td>_150330</td>\n",
       "      <td>_1</td>\n",
       "      <td>_4</td>\n",
       "      <td>under74</td>\n",
       "      <td>2022</td>\n",
       "    </tr>\n",
       "    <tr>\n",
       "      <th>3</th>\n",
       "      <td>X930</td>\n",
       "      <td>_150020</td>\n",
       "      <td>_1</td>\n",
       "      <td>_2</td>\n",
       "      <td>under74</td>\n",
       "      <td>2022</td>\n",
       "    </tr>\n",
       "    <tr>\n",
       "      <th>4</th>\n",
       "      <td>X959</td>\n",
       "      <td>_150020</td>\n",
       "      <td>_1</td>\n",
       "      <td>_4</td>\n",
       "      <td>under74</td>\n",
       "      <td>2022</td>\n",
       "    </tr>\n",
       "  </tbody>\n",
       "</table>\n",
       "</div>"
      ],
      "text/plain": [
       "  CAUSABAS CODMUNRES SEXO RACACOR OBITO_FAIXA_ETARIA   ANO\n",
       "0     V629   _150330   _1      _4            under74  2022\n",
       "1     X990   _150010   _1      _1            under74  2022\n",
       "2     X939   _150330   _1      _4            under74  2022\n",
       "3     X930   _150020   _1      _2            under74  2022\n",
       "4     X959   _150020   _1      _4            under74  2022"
      ]
     },
     "execution_count": 99,
     "metadata": {},
     "output_type": "execute_result"
    }
   ],
   "source": [
    "# Transformar CODMUNRES para apenas 6 caracteres (excluir valores brancos)\n",
    "# dobr_clean['CODMUNRES'] = dobr_clean['CODMUNRES'].astype(str).str[:6]\n",
    "\n",
    "\n",
    "# Transformar os campos CODMUNRES, SEXO e RACACOR em string e acrescentar '_' como prefixo\n",
    "dobr_clean['CODMUNRES'] = '_' + dobr_clean['CODMUNRES'].astype(str).str[:6]\n",
    "dobr_clean['SEXO'] = '_' + dobr_clean['SEXO'].astype(str)\n",
    "dobr_clean['RACACOR'] = '_' + dobr_clean['RACACOR'].astype(str)\n",
    "\n",
    "# Verificar as primeiras linhas do DataFrame atualizado\n",
    "dobr_clean.head()"
   ]
  },
  {
   "cell_type": "code",
   "execution_count": 100,
   "metadata": {
    "vscode": {
     "languageId": "ruby"
    }
   },
   "outputs": [
    {
     "data": {
      "text/plain": [
       "array(['_4', '_1', '_2', '_3', '_9', '_5'], dtype=object)"
      ]
     },
     "execution_count": 100,
     "metadata": {},
     "output_type": "execute_result"
    }
   ],
   "source": [
    "dobr_clean.RACACOR.unique()"
   ]
  },
  {
   "cell_type": "code",
   "execution_count": 101,
   "metadata": {
    "vscode": {
     "languageId": "ruby"
    }
   },
   "outputs": [
    {
     "data": {
      "text/plain": [
       "array(['_1', '_2', '_0'], dtype=object)"
      ]
     },
     "execution_count": 101,
     "metadata": {},
     "output_type": "execute_result"
    }
   ],
   "source": [
    "dobr_clean.SEXO.unique()"
   ]
  },
  {
   "cell_type": "markdown",
   "metadata": {},
   "source": [
    "##### Arquivo pronto\n"
   ]
  },
  {
   "cell_type": "code",
   "execution_count": 102,
   "metadata": {
    "vscode": {
     "languageId": "ruby"
    }
   },
   "outputs": [],
   "source": [
    "# Salvar arquivo em csv\n",
    "dobr_clean.to_csv('files_clean/dobr_clean.csv', index=False)"
   ]
  },
  {
   "cell_type": "code",
   "execution_count": 56,
   "metadata": {},
   "outputs": [
    {
     "name": "stdout",
     "output_type": "stream",
     "text": [
      "<class 'pandas.core.frame.DataFrame'>\n",
      "RangeIndex: 874021 entries, 0 to 874020\n",
      "Data columns (total 6 columns):\n",
      " #   Column              Non-Null Count   Dtype \n",
      "---  ------              --------------   ----- \n",
      " 0   CAUSABAS            874021 non-null  object\n",
      " 1   CODMUNRES           874021 non-null  object\n",
      " 2   SEXO                874021 non-null  object\n",
      " 3   RACACOR             874021 non-null  object\n",
      " 4   OBITO_FAIXA_ETARIA  874021 non-null  object\n",
      " 5   ANO                 874021 non-null  object\n",
      "dtypes: object(6)\n",
      "memory usage: 40.0+ MB\n"
     ]
    }
   ],
   "source": [
    "# Verificar as primeiras linhas do DataFrame atualizado\n",
    "dobr_clean.info()"
   ]
  },
  {
   "cell_type": "markdown",
   "metadata": {},
   "source": [
    "Resultados:\n",
    "\n",
    "A partir do critério de qualidade dos dados de DTNASC e DTOBITO, foram excluídos:\n",
    "* 3.343 registros que não apresentavam o campo compatível com o formato data\n",
    "* 666.902 registros de pessoas com idade de óbito 80 ou mais\n",
    "\n",
    "\n",
    "O Dataframe principal tem no total 874.021  registros."
   ]
  },
  {
   "cell_type": "markdown",
   "metadata": {},
   "source": [
    "## Merge de dados de CID e População no arquivo principal"
   ]
  },
  {
   "cell_type": "markdown",
   "metadata": {},
   "source": [
    "### Merge de dados de Municípios ao arquivo principal do SIM\n",
    "\n",
    "Serão utilizados os arquivos:\n",
    "\n",
    "* população: 'files_clean/censo_pop_clean.csv'\n",
    "\n",
    "* sim: 'files_clean/dobr_clean.csv'\n",
    "\n",
    "Como a população está clivada em Município, Idade (previamente, todos abaixo de 75 anos), Sexo e Raça, estes campos precisam ser "
   ]
  },
  {
   "cell_type": "code",
   "execution_count": 175,
   "metadata": {},
   "outputs": [
    {
     "name": "stdout",
     "output_type": "stream",
     "text": [
      "<class 'pandas.core.frame.DataFrame'>\n",
      "RangeIndex: 111400 entries, 0 to 111399\n",
      "Data columns (total 10 columns):\n",
      " #   Column       Non-Null Count   Dtype  \n",
      "---  ------       --------------   -----  \n",
      " 0   Ano          111400 non-null  int64  \n",
      " 1   mun_cod      111400 non-null  float64\n",
      " 2   mun_nome     111400 non-null  object \n",
      " 3   cor          111400 non-null  object \n",
      " 4   Sexo         111400 non-null  object \n",
      " 5   pop_total    111400 non-null  int64  \n",
      " 6   pop_under5   111400 non-null  int64  \n",
      " 7   pop_under74  111400 non-null  int64  \n",
      " 8   UF           111400 non-null  object \n",
      " 9   mun_cod_sim  111400 non-null  object \n",
      "dtypes: float64(1), int64(4), object(5)\n",
      "memory usage: 8.5+ MB\n"
     ]
    }
   ],
   "source": [
    "# Verificar colunas de população no arquivo censo_pop_clean\n",
    "censo_pop = pd.read_csv('files_clean/censo_pop_clean.csv')\n",
    "censo_pop.info()"
   ]
  },
  {
   "cell_type": "code",
   "execution_count": 176,
   "metadata": {},
   "outputs": [
    {
     "name": "stdout",
     "output_type": "stream",
     "text": [
      "<class 'pandas.core.frame.DataFrame'>\n",
      "RangeIndex: 111400 entries, 0 to 111399\n",
      "Data columns (total 10 columns):\n",
      " #   Column       Non-Null Count   Dtype  \n",
      "---  ------       --------------   -----  \n",
      " 0   Ano          111400 non-null  int64  \n",
      " 1   mun_cod      111400 non-null  float64\n",
      " 2   mun_nome     111400 non-null  object \n",
      " 3   cor          111400 non-null  object \n",
      " 4   Sexo         111400 non-null  object \n",
      " 5   pop_total    111400 non-null  int64  \n",
      " 6   pop_under5   111400 non-null  int64  \n",
      " 7   pop_under74  111400 non-null  int64  \n",
      " 8   UF           111400 non-null  object \n",
      " 9   mun_cod_sim  111400 non-null  object \n",
      "dtypes: float64(1), int64(4), object(5)\n",
      "memory usage: 8.5+ MB\n"
     ]
    }
   ],
   "source": [
    "censo_pop.info()"
   ]
  },
  {
   "cell_type": "code",
   "execution_count": 177,
   "metadata": {},
   "outputs": [
    {
     "data": {
      "text/html": [
       "<div>\n",
       "<style scoped>\n",
       "    .dataframe tbody tr th:only-of-type {\n",
       "        vertical-align: middle;\n",
       "    }\n",
       "\n",
       "    .dataframe tbody tr th {\n",
       "        vertical-align: top;\n",
       "    }\n",
       "\n",
       "    .dataframe thead th {\n",
       "        text-align: right;\n",
       "    }\n",
       "</style>\n",
       "<table border=\"1\" class=\"dataframe\">\n",
       "  <thead>\n",
       "    <tr style=\"text-align: right;\">\n",
       "      <th></th>\n",
       "      <th>Ano</th>\n",
       "      <th>mun_cod</th>\n",
       "      <th>mun_nome</th>\n",
       "      <th>cor</th>\n",
       "      <th>Sexo</th>\n",
       "      <th>pop_total</th>\n",
       "      <th>pop_under5</th>\n",
       "      <th>pop_under74</th>\n",
       "      <th>UF</th>\n",
       "      <th>mun_cod_sim</th>\n",
       "      <th>POP_MERGE</th>\n",
       "    </tr>\n",
       "  </thead>\n",
       "  <tbody>\n",
       "    <tr>\n",
       "      <th>0</th>\n",
       "      <td>2010</td>\n",
       "      <td>1100015.0</td>\n",
       "      <td>Alta Floresta D'Oeste</td>\n",
       "      <td>_1</td>\n",
       "      <td>_1</td>\n",
       "      <td>5311</td>\n",
       "      <td>430</td>\n",
       "      <td>5202</td>\n",
       "      <td>RO</td>\n",
       "      <td>_110001</td>\n",
       "      <td>2010_110001_1_1</td>\n",
       "    </tr>\n",
       "    <tr>\n",
       "      <th>1</th>\n",
       "      <td>2010</td>\n",
       "      <td>1100015.0</td>\n",
       "      <td>Alta Floresta D'Oeste</td>\n",
       "      <td>_1</td>\n",
       "      <td>_2</td>\n",
       "      <td>5038</td>\n",
       "      <td>446</td>\n",
       "      <td>4932</td>\n",
       "      <td>RO</td>\n",
       "      <td>_110001</td>\n",
       "      <td>2010_110001_2_1</td>\n",
       "    </tr>\n",
       "    <tr>\n",
       "      <th>2</th>\n",
       "      <td>2010</td>\n",
       "      <td>1100015.0</td>\n",
       "      <td>Alta Floresta D'Oeste</td>\n",
       "      <td>_2</td>\n",
       "      <td>_1</td>\n",
       "      <td>693</td>\n",
       "      <td>23</td>\n",
       "      <td>673</td>\n",
       "      <td>RO</td>\n",
       "      <td>_110001</td>\n",
       "      <td>2010_110001_1_2</td>\n",
       "    </tr>\n",
       "    <tr>\n",
       "      <th>3</th>\n",
       "      <td>2010</td>\n",
       "      <td>1100015.0</td>\n",
       "      <td>Alta Floresta D'Oeste</td>\n",
       "      <td>_2</td>\n",
       "      <td>_2</td>\n",
       "      <td>466</td>\n",
       "      <td>21</td>\n",
       "      <td>458</td>\n",
       "      <td>RO</td>\n",
       "      <td>_110001</td>\n",
       "      <td>2010_110001_2_2</td>\n",
       "    </tr>\n",
       "    <tr>\n",
       "      <th>4</th>\n",
       "      <td>2010</td>\n",
       "      <td>1100015.0</td>\n",
       "      <td>Alta Floresta D'Oeste</td>\n",
       "      <td>_3</td>\n",
       "      <td>_1</td>\n",
       "      <td>96</td>\n",
       "      <td>4</td>\n",
       "      <td>94</td>\n",
       "      <td>RO</td>\n",
       "      <td>_110001</td>\n",
       "      <td>2010_110001_1_3</td>\n",
       "    </tr>\n",
       "  </tbody>\n",
       "</table>\n",
       "</div>"
      ],
      "text/plain": [
       "    Ano    mun_cod                mun_nome cor Sexo  pop_total  pop_under5  \\\n",
       "0  2010  1100015.0  Alta Floresta D'Oeste   _1   _1       5311         430   \n",
       "1  2010  1100015.0  Alta Floresta D'Oeste   _1   _2       5038         446   \n",
       "2  2010  1100015.0  Alta Floresta D'Oeste   _2   _1        693          23   \n",
       "3  2010  1100015.0  Alta Floresta D'Oeste   _2   _2        466          21   \n",
       "4  2010  1100015.0  Alta Floresta D'Oeste   _3   _1         96           4   \n",
       "\n",
       "   pop_under74  UF mun_cod_sim        POP_MERGE  \n",
       "0         5202  RO     _110001  2010_110001_1_1  \n",
       "1         4932  RO     _110001  2010_110001_2_1  \n",
       "2          673  RO     _110001  2010_110001_1_2  \n",
       "3          458  RO     _110001  2010_110001_2_2  \n",
       "4           94  RO     _110001  2010_110001_1_3  "
      ]
     },
     "execution_count": 177,
     "metadata": {},
     "output_type": "execute_result"
    }
   ],
   "source": [
    "# Criar um campo string que concatene ANO, CODMUN_SIM, Sexo e cor\n",
    "censo_pop['POP_MERGE'] = censo_pop['Ano'].astype(str) + censo_pop['mun_cod_sim'] + censo_pop['Sexo'] + censo_pop['cor']\n",
    "\n",
    "\n",
    "censo_pop.head()"
   ]
  },
  {
   "cell_type": "code",
   "execution_count": 180,
   "metadata": {},
   "outputs": [
    {
     "name": "stdout",
     "output_type": "stream",
     "text": [
      "Series([], Name: count, dtype: int64)\n"
     ]
    }
   ],
   "source": [
    "# Contar quantos valores são repetidos na coluna 'POP_MERGE'\n",
    "repeated_values = censo_pop['POP_MERGE'].value_counts()\n",
    "\n",
    "# Filtrar os valores que aparecem mais de uma vez\n",
    "repeated_more_than_once = repeated_values[repeated_values > 1]\n",
    "\n",
    "# Exibir os valores repetidos\n",
    "print(repeated_more_than_once)"
   ]
  },
  {
   "cell_type": "code",
   "execution_count": 181,
   "metadata": {},
   "outputs": [
    {
     "name": "stdout",
     "output_type": "stream",
     "text": [
      "<class 'pandas.core.frame.DataFrame'>\n",
      "RangeIndex: 874021 entries, 0 to 874020\n",
      "Data columns (total 6 columns):\n",
      " #   Column              Non-Null Count   Dtype \n",
      "---  ------              --------------   ----- \n",
      " 0   CAUSABAS            874021 non-null  object\n",
      " 1   CODMUNRES           874021 non-null  object\n",
      " 2   SEXO                874021 non-null  object\n",
      " 3   RACACOR             874021 non-null  object\n",
      " 4   OBITO_FAIXA_ETARIA  874021 non-null  object\n",
      " 5   ANO                 874021 non-null  int64 \n",
      "dtypes: int64(1), object(5)\n",
      "memory usage: 40.0+ MB\n"
     ]
    }
   ],
   "source": [
    "# Exibir arrquivo dobr_clean\n",
    "dobr = pd.read_csv('files_clean/dobr_clean.csv')\n",
    "dobr.info()\n"
   ]
  },
  {
   "cell_type": "code",
   "execution_count": 182,
   "metadata": {},
   "outputs": [
    {
     "data": {
      "text/html": [
       "<div>\n",
       "<style scoped>\n",
       "    .dataframe tbody tr th:only-of-type {\n",
       "        vertical-align: middle;\n",
       "    }\n",
       "\n",
       "    .dataframe tbody tr th {\n",
       "        vertical-align: top;\n",
       "    }\n",
       "\n",
       "    .dataframe thead th {\n",
       "        text-align: right;\n",
       "    }\n",
       "</style>\n",
       "<table border=\"1\" class=\"dataframe\">\n",
       "  <thead>\n",
       "    <tr style=\"text-align: right;\">\n",
       "      <th></th>\n",
       "      <th>CAUSABAS</th>\n",
       "      <th>CODMUNRES</th>\n",
       "      <th>SEXO</th>\n",
       "      <th>RACACOR</th>\n",
       "      <th>OBITO_FAIXA_ETARIA</th>\n",
       "      <th>ANO</th>\n",
       "      <th>POP_MERGE</th>\n",
       "    </tr>\n",
       "  </thead>\n",
       "  <tbody>\n",
       "    <tr>\n",
       "      <th>0</th>\n",
       "      <td>V629</td>\n",
       "      <td>_150330</td>\n",
       "      <td>_1</td>\n",
       "      <td>_4</td>\n",
       "      <td>under74</td>\n",
       "      <td>2022</td>\n",
       "      <td>2022_150330_1_4</td>\n",
       "    </tr>\n",
       "    <tr>\n",
       "      <th>1</th>\n",
       "      <td>X990</td>\n",
       "      <td>_150010</td>\n",
       "      <td>_1</td>\n",
       "      <td>_1</td>\n",
       "      <td>under74</td>\n",
       "      <td>2022</td>\n",
       "      <td>2022_150010_1_1</td>\n",
       "    </tr>\n",
       "    <tr>\n",
       "      <th>2</th>\n",
       "      <td>X939</td>\n",
       "      <td>_150330</td>\n",
       "      <td>_1</td>\n",
       "      <td>_4</td>\n",
       "      <td>under74</td>\n",
       "      <td>2022</td>\n",
       "      <td>2022_150330_1_4</td>\n",
       "    </tr>\n",
       "    <tr>\n",
       "      <th>3</th>\n",
       "      <td>X930</td>\n",
       "      <td>_150020</td>\n",
       "      <td>_1</td>\n",
       "      <td>_2</td>\n",
       "      <td>under74</td>\n",
       "      <td>2022</td>\n",
       "      <td>2022_150020_1_2</td>\n",
       "    </tr>\n",
       "    <tr>\n",
       "      <th>4</th>\n",
       "      <td>X959</td>\n",
       "      <td>_150020</td>\n",
       "      <td>_1</td>\n",
       "      <td>_4</td>\n",
       "      <td>under74</td>\n",
       "      <td>2022</td>\n",
       "      <td>2022_150020_1_4</td>\n",
       "    </tr>\n",
       "  </tbody>\n",
       "</table>\n",
       "</div>"
      ],
      "text/plain": [
       "  CAUSABAS CODMUNRES SEXO RACACOR OBITO_FAIXA_ETARIA   ANO        POP_MERGE\n",
       "0     V629   _150330   _1      _4            under74  2022  2022_150330_1_4\n",
       "1     X990   _150010   _1      _1            under74  2022  2022_150010_1_1\n",
       "2     X939   _150330   _1      _4            under74  2022  2022_150330_1_4\n",
       "3     X930   _150020   _1      _2            under74  2022  2022_150020_1_2\n",
       "4     X959   _150020   _1      _4            under74  2022  2022_150020_1_4"
      ]
     },
     "execution_count": 182,
     "metadata": {},
     "output_type": "execute_result"
    }
   ],
   "source": [
    "# Criar um campo string que concatene ANO, CODMUNRES, SEXO e RACACOR\n",
    "dobr['POP_MERGE'] = dobr['ANO'].astype(str) + dobr['CODMUNRES'] + dobr['SEXO'] + dobr['RACACOR']\n",
    "\n",
    "dobr.head()"
   ]
  },
  {
   "cell_type": "code",
   "execution_count": 185,
   "metadata": {},
   "outputs": [
    {
     "data": {
      "text/plain": [
       "Index(['CAUSABAS', 'CODMUNRES', 'SEXO', 'RACACOR', 'OBITO_FAIXA_ETARIA', 'ANO',\n",
       "       'POP_MERGE'],\n",
       "      dtype='object')"
      ]
     },
     "execution_count": 185,
     "metadata": {},
     "output_type": "execute_result"
    }
   ],
   "source": [
    "dobr.columns"
   ]
  },
  {
   "cell_type": "code",
   "execution_count": 192,
   "metadata": {
    "vscode": {
     "languageId": "shellscript"
    }
   },
   "outputs": [
    {
     "data": {
      "text/html": [
       "<div>\n",
       "<style scoped>\n",
       "    .dataframe tbody tr th:only-of-type {\n",
       "        vertical-align: middle;\n",
       "    }\n",
       "\n",
       "    .dataframe tbody tr th {\n",
       "        vertical-align: top;\n",
       "    }\n",
       "\n",
       "    .dataframe thead th {\n",
       "        text-align: right;\n",
       "    }\n",
       "</style>\n",
       "<table border=\"1\" class=\"dataframe\">\n",
       "  <thead>\n",
       "    <tr style=\"text-align: right;\">\n",
       "      <th></th>\n",
       "      <th>CAUSABAS</th>\n",
       "      <th>CODMUNRES</th>\n",
       "      <th>SEXO</th>\n",
       "      <th>RACACOR</th>\n",
       "      <th>ANO</th>\n",
       "      <th>POP_MERGE</th>\n",
       "      <th>obito_count</th>\n",
       "    </tr>\n",
       "  </thead>\n",
       "  <tbody>\n",
       "    <tr>\n",
       "      <th>0</th>\n",
       "      <td>A020</td>\n",
       "      <td>_292740</td>\n",
       "      <td>_2</td>\n",
       "      <td>_4</td>\n",
       "      <td>2022</td>\n",
       "      <td>2022_292740_2_4</td>\n",
       "      <td>1</td>\n",
       "    </tr>\n",
       "    <tr>\n",
       "      <th>1</th>\n",
       "      <td>A020</td>\n",
       "      <td>_320060</td>\n",
       "      <td>_2</td>\n",
       "      <td>_5</td>\n",
       "      <td>2022</td>\n",
       "      <td>2022_320060_2_5</td>\n",
       "      <td>1</td>\n",
       "    </tr>\n",
       "    <tr>\n",
       "      <th>2</th>\n",
       "      <td>A020</td>\n",
       "      <td>_350780</td>\n",
       "      <td>_2</td>\n",
       "      <td>_1</td>\n",
       "      <td>2022</td>\n",
       "      <td>2022_350780_2_1</td>\n",
       "      <td>1</td>\n",
       "    </tr>\n",
       "    <tr>\n",
       "      <th>3</th>\n",
       "      <td>A020</td>\n",
       "      <td>_430790</td>\n",
       "      <td>_2</td>\n",
       "      <td>_1</td>\n",
       "      <td>2022</td>\n",
       "      <td>2022_430790_2_1</td>\n",
       "      <td>1</td>\n",
       "    </tr>\n",
       "    <tr>\n",
       "      <th>4</th>\n",
       "      <td>A020</td>\n",
       "      <td>_431337</td>\n",
       "      <td>_2</td>\n",
       "      <td>_4</td>\n",
       "      <td>2022</td>\n",
       "      <td>2022_431337_2_4</td>\n",
       "      <td>1</td>\n",
       "    </tr>\n",
       "  </tbody>\n",
       "</table>\n",
       "</div>"
      ],
      "text/plain": [
       "  CAUSABAS CODMUNRES SEXO RACACOR   ANO        POP_MERGE  obito_count\n",
       "0     A020   _292740   _2      _4  2022  2022_292740_2_4            1\n",
       "1     A020   _320060   _2      _5  2022  2022_320060_2_5            1\n",
       "2     A020   _350780   _2      _1  2022  2022_350780_2_1            1\n",
       "3     A020   _430790   _2      _1  2022  2022_430790_2_1            1\n",
       "4     A020   _431337   _2      _4  2022  2022_431337_2_4            1"
      ]
     },
     "execution_count": 192,
     "metadata": {},
     "output_type": "execute_result"
    }
   ],
   "source": [
    "# Agrupar por POP_MERGE e somar os registros\n",
    "dobr_clean['obito_count'] = 1\n",
    "col_group= ['CAUSABAS', 'CODMUNRES', 'SEXO', 'RACACOR', 'ANO','POP_MERGE']\n",
    "dobr_grouped = dobr.groupby(col_group)['obito_count'].sum().reset_index()\n",
    "\n",
    "# Exibir as primeiras linhas do dataframe resultante\n",
    "dobr_grouped.head()"
   ]
  },
  {
   "cell_type": "code",
   "execution_count": 193,
   "metadata": {
    "vscode": {
     "languageId": "shellscript"
    }
   },
   "outputs": [
    {
     "name": "stdout",
     "output_type": "stream",
     "text": [
      "<class 'pandas.core.frame.DataFrame'>\n",
      "RangeIndex: 500147 entries, 0 to 500146\n",
      "Data columns (total 7 columns):\n",
      " #   Column       Non-Null Count   Dtype \n",
      "---  ------       --------------   ----- \n",
      " 0   CAUSABAS     500147 non-null  object\n",
      " 1   CODMUNRES    500147 non-null  object\n",
      " 2   SEXO         500147 non-null  object\n",
      " 3   RACACOR      500147 non-null  object\n",
      " 4   ANO          500147 non-null  int64 \n",
      " 5   POP_MERGE    500147 non-null  object\n",
      " 6   obito_count  500147 non-null  int64 \n",
      "dtypes: int64(2), object(5)\n",
      "memory usage: 26.7+ MB\n"
     ]
    }
   ],
   "source": [
    "dobr_grouped.info()"
   ]
  },
  {
   "cell_type": "code",
   "execution_count": 194,
   "metadata": {},
   "outputs": [
    {
     "data": {
      "text/html": [
       "<div>\n",
       "<style scoped>\n",
       "    .dataframe tbody tr th:only-of-type {\n",
       "        vertical-align: middle;\n",
       "    }\n",
       "\n",
       "    .dataframe tbody tr th {\n",
       "        vertical-align: top;\n",
       "    }\n",
       "\n",
       "    .dataframe thead th {\n",
       "        text-align: right;\n",
       "    }\n",
       "</style>\n",
       "<table border=\"1\" class=\"dataframe\">\n",
       "  <thead>\n",
       "    <tr style=\"text-align: right;\">\n",
       "      <th></th>\n",
       "      <th>CAUSABAS</th>\n",
       "      <th>CODMUNRES</th>\n",
       "      <th>SEXO</th>\n",
       "      <th>RACACOR</th>\n",
       "      <th>ANO</th>\n",
       "      <th>POP_MERGE</th>\n",
       "      <th>obito_count</th>\n",
       "      <th>pop_under74</th>\n",
       "      <th>UF</th>\n",
       "    </tr>\n",
       "  </thead>\n",
       "  <tbody>\n",
       "    <tr>\n",
       "      <th>0</th>\n",
       "      <td>A020</td>\n",
       "      <td>_292740</td>\n",
       "      <td>_2</td>\n",
       "      <td>_4</td>\n",
       "      <td>2022</td>\n",
       "      <td>2022_292740_2_4</td>\n",
       "      <td>1</td>\n",
       "      <td>616812.0</td>\n",
       "      <td>BA</td>\n",
       "    </tr>\n",
       "    <tr>\n",
       "      <th>1</th>\n",
       "      <td>A020</td>\n",
       "      <td>_320060</td>\n",
       "      <td>_2</td>\n",
       "      <td>_5</td>\n",
       "      <td>2022</td>\n",
       "      <td>2022_320060_2_5</td>\n",
       "      <td>1</td>\n",
       "      <td>2453.0</td>\n",
       "      <td>ES</td>\n",
       "    </tr>\n",
       "    <tr>\n",
       "      <th>2</th>\n",
       "      <td>A020</td>\n",
       "      <td>_350780</td>\n",
       "      <td>_2</td>\n",
       "      <td>_1</td>\n",
       "      <td>2022</td>\n",
       "      <td>2022_350780_2_1</td>\n",
       "      <td>1</td>\n",
       "      <td>8303.0</td>\n",
       "      <td>SP</td>\n",
       "    </tr>\n",
       "    <tr>\n",
       "      <th>3</th>\n",
       "      <td>A020</td>\n",
       "      <td>_430790</td>\n",
       "      <td>_2</td>\n",
       "      <td>_1</td>\n",
       "      <td>2022</td>\n",
       "      <td>2022_430790_2_1</td>\n",
       "      <td>1</td>\n",
       "      <td>28008.0</td>\n",
       "      <td>RS</td>\n",
       "    </tr>\n",
       "    <tr>\n",
       "      <th>4</th>\n",
       "      <td>A020</td>\n",
       "      <td>_431337</td>\n",
       "      <td>_2</td>\n",
       "      <td>_4</td>\n",
       "      <td>2022</td>\n",
       "      <td>2022_431337_2_4</td>\n",
       "      <td>1</td>\n",
       "      <td>2041.0</td>\n",
       "      <td>RS</td>\n",
       "    </tr>\n",
       "  </tbody>\n",
       "</table>\n",
       "</div>"
      ],
      "text/plain": [
       "  CAUSABAS CODMUNRES SEXO RACACOR   ANO        POP_MERGE  obito_count  \\\n",
       "0     A020   _292740   _2      _4  2022  2022_292740_2_4            1   \n",
       "1     A020   _320060   _2      _5  2022  2022_320060_2_5            1   \n",
       "2     A020   _350780   _2      _1  2022  2022_350780_2_1            1   \n",
       "3     A020   _430790   _2      _1  2022  2022_430790_2_1            1   \n",
       "4     A020   _431337   _2      _4  2022  2022_431337_2_4            1   \n",
       "\n",
       "   pop_under74  UF  \n",
       "0     616812.0  BA  \n",
       "1       2453.0  ES  \n",
       "2       8303.0  SP  \n",
       "3      28008.0  RS  \n",
       "4       2041.0  RS  "
      ]
     },
     "execution_count": 194,
     "metadata": {},
     "output_type": "execute_result"
    }
   ],
   "source": [
    "# Definir campos de censo_pop para merge\n",
    "censo_pop_merge = censo_pop[['POP_MERGE','pop_under74','UF']]\n",
    "\n",
    "# Realizar o merge dos dataframes\n",
    "dobr_merged_pop = pd.merge(dobr_grouped, censo_pop_merge, left_on=['POP_MERGE'], right_on=['POP_MERGE'], how='left')\n",
    "\n",
    "# Exibir as primeiras linhas do dataframe resultante\n",
    "dobr_merged_pop.head()"
   ]
  },
  {
   "cell_type": "code",
   "execution_count": 195,
   "metadata": {},
   "outputs": [
    {
     "name": "stdout",
     "output_type": "stream",
     "text": [
      "<class 'pandas.core.frame.DataFrame'>\n",
      "RangeIndex: 500147 entries, 0 to 500146\n",
      "Data columns (total 9 columns):\n",
      " #   Column       Non-Null Count   Dtype  \n",
      "---  ------       --------------   -----  \n",
      " 0   CAUSABAS     500147 non-null  object \n",
      " 1   CODMUNRES    500147 non-null  object \n",
      " 2   SEXO         500147 non-null  object \n",
      " 3   RACACOR      500147 non-null  object \n",
      " 4   ANO          500147 non-null  int64  \n",
      " 5   POP_MERGE    500147 non-null  object \n",
      " 6   obito_count  500147 non-null  int64  \n",
      " 7   pop_under74  485471 non-null  float64\n",
      " 8   UF           485471 non-null  object \n",
      "dtypes: float64(1), int64(2), object(6)\n",
      "memory usage: 34.3+ MB\n"
     ]
    }
   ],
   "source": [
    "dobr_merged_pop.info()"
   ]
  },
  {
   "cell_type": "code",
   "execution_count": 196,
   "metadata": {},
   "outputs": [
    {
     "name": "stdout",
     "output_type": "stream",
     "text": [
      "<class 'pandas.core.frame.DataFrame'>\n",
      "Index: 485471 entries, 0 to 500146\n",
      "Data columns (total 9 columns):\n",
      " #   Column       Non-Null Count   Dtype  \n",
      "---  ------       --------------   -----  \n",
      " 0   CAUSABAS     485471 non-null  object \n",
      " 1   CODMUNRES    485471 non-null  object \n",
      " 2   SEXO         485471 non-null  object \n",
      " 3   RACACOR      485471 non-null  object \n",
      " 4   ANO          485471 non-null  int64  \n",
      " 5   POP_MERGE    485471 non-null  object \n",
      " 6   obito_count  485471 non-null  int64  \n",
      " 7   pop_under74  485471 non-null  float64\n",
      " 8   UF           485471 non-null  object \n",
      "dtypes: float64(1), int64(2), object(6)\n",
      "memory usage: 37.0+ MB\n"
     ]
    }
   ],
   "source": [
    "# Filtrar registros onde pop_under74 não é nulo\n",
    "dobr_merged_pop_clean = dobr_merged_pop.dropna(subset=['pop_under74'])\n",
    "\n",
    "# Exibir os registros filtrados\n",
    "dobr_merged_pop_clean.info()"
   ]
  },
  {
   "cell_type": "code",
   "execution_count": 197,
   "metadata": {},
   "outputs": [],
   "source": [
    "dobr_merged_parcial = dobr_merged_pop_clean.to_parquet('files_clean/dobr_merged_parcial.parquet')"
   ]
  },
  {
   "cell_type": "code",
   "execution_count": 199,
   "metadata": {
    "vscode": {
     "languageId": "powershell"
    }
   },
   "outputs": [
    {
     "data": {
      "text/plain": [
       "17241"
      ]
     },
     "execution_count": 199,
     "metadata": {},
     "output_type": "execute_result"
    }
   ],
   "source": [
    "# Filtrar registros onde pop_under74 é null\n",
    "dobr_merged_pop_nulos = dobr_merged_pop[dobr_merged_pop['pop_under74'].isnull()]\n",
    "\n",
    "# Exibir os registros filtrados\n",
    "dobr_merged_pop_nulos['obito_count'].sum()"
   ]
  },
  {
   "cell_type": "markdown",
   "metadata": {},
   "source": [
    "#### Resultado do merge DOBR com Censo\n",
    "Dados os limites do registro do SIM, que aceita registros de raça/cor \"Não identificada\", enquanto todos os registros do Censo são identificados, perdemos na base 17.241 registros.\n"
   ]
  },
  {
   "cell_type": "markdown",
   "metadata": {},
   "source": [
    "### Merge de dados de CID"
   ]
  },
  {
   "cell_type": "code",
   "execution_count": 200,
   "metadata": {
    "vscode": {
     "languageId": "powershell"
    }
   },
   "outputs": [
    {
     "name": "stdout",
     "output_type": "stream",
     "text": [
      "<class 'pandas.core.frame.DataFrame'>\n",
      "RangeIndex: 346 entries, 0 to 345\n",
      "Data columns (total 8 columns):\n",
      " #   Column                   Non-Null Count  Dtype \n",
      "---  ------                   --------------  ----- \n",
      " 0   avoid_flag               346 non-null    object\n",
      " 1   prevent_flag             189 non-null    object\n",
      " 2   treat_flag               184 non-null    object\n",
      " 3   Group                    346 non-null    object\n",
      " 4   Causes of deaths         346 non-null    object\n",
      " 5   Rationale for inclusion  346 non-null    object\n",
      " 6   Range                    346 non-null    object\n",
      " 7   cid_pai                  346 non-null    object\n",
      "dtypes: object(8)\n",
      "memory usage: 21.8+ KB\n"
     ]
    }
   ],
   "source": [
    "ocde_evit = pd.read_csv('downloads_outros/cid10_evit_ocde.csv')\n",
    "ocde_evit.info()"
   ]
  },
  {
   "cell_type": "code",
   "execution_count": 223,
   "metadata": {
    "vscode": {
     "languageId": "powershell"
    }
   },
   "outputs": [
    {
     "name": "stdout",
     "output_type": "stream",
     "text": [
      "<class 'pandas.core.frame.DataFrame'>\n",
      "RangeIndex: 5235 entries, 0 to 5234\n",
      "Data columns (total 1 columns):\n",
      " #   Column    Non-Null Count  Dtype \n",
      "---  ------    --------------  ----- \n",
      " 0   CAUSABAS  5235 non-null   object\n",
      "dtypes: object(1)\n",
      "memory usage: 41.0+ KB\n"
     ]
    }
   ],
   "source": [
    "# Gerar nova tabela com valores únicos de CAUSABAS\n",
    "dobr_merged_pop_clean = pd.read_parquet('files_clean/dobr_merged_parcial.parquet')\n",
    "causas_unicas = dobr_merged_pop_clean['CAUSABAS'].unique()\n",
    "\n",
    "# Converter para DataFrame\n",
    "df_causas_unicas = pd.DataFrame(causas_unicas, columns=['CAUSABAS'])\n",
    "\n",
    "# Exibir as primeiras linhas do DataFrame\n",
    "df_causas_unicas.info()"
   ]
  },
  {
   "cell_type": "code",
   "execution_count": 224,
   "metadata": {},
   "outputs": [
    {
     "name": "stdout",
     "output_type": "stream",
     "text": [
      "     CAUSABAS        classificacao\n",
      "0        A020  Avoidable mortality\n",
      "1        A021  Avoidable mortality\n",
      "2        A029  Avoidable mortality\n",
      "3        A040  Avoidable mortality\n",
      "4        A041  Avoidable mortality\n",
      "...       ...                  ...\n",
      "5230     Y880   causa não evitável\n",
      "5231     Y881   causa não evitável\n",
      "5232     Y883   causa não evitável\n",
      "5233     Y890   causa não evitável\n",
      "5234     Y899   causa não evitável\n",
      "\n",
      "[5235 rows x 2 columns]\n"
     ]
    }
   ],
   "source": [
    "df_a = df_causas_unicas\n",
    "column_a = 'CAUSABAS'\n",
    "df_b = ocde_evit\n",
    "column_b = 'cid_pai'\n",
    "column_return = 'avoid_flag'\n",
    "\n",
    "\n",
    "\n",
    "# Função para verificar a correspondência e retornar a classificação\n",
    "def verificar_correspondencia(row):\n",
    "    for index, row_b in df_b.iterrows():\n",
    "        if row[column_a].startswith(row_b[column_b]):\n",
    "            return row_b[column_return]\n",
    "    return 'causa não evitável'\n",
    "\n",
    "# Aplicando a função a cada linha do DataFrame A\n",
    "df_a['classificacao'] = df_a.apply(verificar_correspondencia, axis=1)\n",
    "\n",
    "print(df_a)"
   ]
  },
  {
   "cell_type": "code",
   "execution_count": 225,
   "metadata": {},
   "outputs": [
    {
     "data": {
      "text/html": [
       "<div>\n",
       "<style scoped>\n",
       "    .dataframe tbody tr th:only-of-type {\n",
       "        vertical-align: middle;\n",
       "    }\n",
       "\n",
       "    .dataframe tbody tr th {\n",
       "        vertical-align: top;\n",
       "    }\n",
       "\n",
       "    .dataframe thead th {\n",
       "        text-align: right;\n",
       "    }\n",
       "</style>\n",
       "<table border=\"1\" class=\"dataframe\">\n",
       "  <thead>\n",
       "    <tr style=\"text-align: right;\">\n",
       "      <th></th>\n",
       "      <th>CAUSABAS</th>\n",
       "      <th>CODMUNRES</th>\n",
       "      <th>SEXO</th>\n",
       "      <th>RACACOR</th>\n",
       "      <th>ANO</th>\n",
       "      <th>POP_MERGE</th>\n",
       "      <th>obito_count</th>\n",
       "      <th>pop_under74</th>\n",
       "      <th>UF</th>\n",
       "      <th>classificacao</th>\n",
       "    </tr>\n",
       "  </thead>\n",
       "  <tbody>\n",
       "    <tr>\n",
       "      <th>0</th>\n",
       "      <td>A020</td>\n",
       "      <td>_292740</td>\n",
       "      <td>_2</td>\n",
       "      <td>_4</td>\n",
       "      <td>2022</td>\n",
       "      <td>2022_292740_2_4</td>\n",
       "      <td>1</td>\n",
       "      <td>616812.0</td>\n",
       "      <td>BA</td>\n",
       "      <td>Avoidable mortality</td>\n",
       "    </tr>\n",
       "    <tr>\n",
       "      <th>1</th>\n",
       "      <td>A020</td>\n",
       "      <td>_320060</td>\n",
       "      <td>_2</td>\n",
       "      <td>_5</td>\n",
       "      <td>2022</td>\n",
       "      <td>2022_320060_2_5</td>\n",
       "      <td>1</td>\n",
       "      <td>2453.0</td>\n",
       "      <td>ES</td>\n",
       "      <td>Avoidable mortality</td>\n",
       "    </tr>\n",
       "    <tr>\n",
       "      <th>2</th>\n",
       "      <td>A020</td>\n",
       "      <td>_350780</td>\n",
       "      <td>_2</td>\n",
       "      <td>_1</td>\n",
       "      <td>2022</td>\n",
       "      <td>2022_350780_2_1</td>\n",
       "      <td>1</td>\n",
       "      <td>8303.0</td>\n",
       "      <td>SP</td>\n",
       "      <td>Avoidable mortality</td>\n",
       "    </tr>\n",
       "    <tr>\n",
       "      <th>3</th>\n",
       "      <td>A020</td>\n",
       "      <td>_430790</td>\n",
       "      <td>_2</td>\n",
       "      <td>_1</td>\n",
       "      <td>2022</td>\n",
       "      <td>2022_430790_2_1</td>\n",
       "      <td>1</td>\n",
       "      <td>28008.0</td>\n",
       "      <td>RS</td>\n",
       "      <td>Avoidable mortality</td>\n",
       "    </tr>\n",
       "    <tr>\n",
       "      <th>4</th>\n",
       "      <td>A020</td>\n",
       "      <td>_431337</td>\n",
       "      <td>_2</td>\n",
       "      <td>_4</td>\n",
       "      <td>2022</td>\n",
       "      <td>2022_431337_2_4</td>\n",
       "      <td>1</td>\n",
       "      <td>2041.0</td>\n",
       "      <td>RS</td>\n",
       "      <td>Avoidable mortality</td>\n",
       "    </tr>\n",
       "  </tbody>\n",
       "</table>\n",
       "</div>"
      ],
      "text/plain": [
       "  CAUSABAS CODMUNRES SEXO RACACOR   ANO        POP_MERGE  obito_count  \\\n",
       "0     A020   _292740   _2      _4  2022  2022_292740_2_4            1   \n",
       "1     A020   _320060   _2      _5  2022  2022_320060_2_5            1   \n",
       "2     A020   _350780   _2      _1  2022  2022_350780_2_1            1   \n",
       "3     A020   _430790   _2      _1  2022  2022_430790_2_1            1   \n",
       "4     A020   _431337   _2      _4  2022  2022_431337_2_4            1   \n",
       "\n",
       "   pop_under74  UF        classificacao  \n",
       "0     616812.0  BA  Avoidable mortality  \n",
       "1       2453.0  ES  Avoidable mortality  \n",
       "2       8303.0  SP  Avoidable mortality  \n",
       "3      28008.0  RS  Avoidable mortality  \n",
       "4       2041.0  RS  Avoidable mortality  "
      ]
     },
     "execution_count": 225,
     "metadata": {},
     "output_type": "execute_result"
    }
   ],
   "source": [
    "# Merge dobr_merged_pop_clean and df_a by CAUSABAS\n",
    "merged_data = pd.merge(dobr_merged_pop_clean, df_a, on='CAUSABAS', how='left')\n",
    "\n",
    "# Display the first few rows of the merged dataframe\n",
    "merged_data.head()"
   ]
  },
  {
   "cell_type": "code",
   "execution_count": 226,
   "metadata": {},
   "outputs": [
    {
     "data": {
      "text/plain": [
       "classificacao\n",
       "Avoidable mortality    523574\n",
       "causa não evitável     333206\n",
       "Name: obito_count, dtype: int64"
      ]
     },
     "execution_count": 226,
     "metadata": {},
     "output_type": "execute_result"
    }
   ],
   "source": [
    "# Mostrar resultados de classificacao\n",
    "merged_data.groupby('classificacao')['obito_count'].sum()"
   ]
  },
  {
   "cell_type": "code",
   "execution_count": 227,
   "metadata": {},
   "outputs": [],
   "source": [
    "# Manter na base só dados de CID evitáveis\n",
    "dobr_merged_clean = merged_data[merged_data['classificacao']=='Avoidable mortality']\n"
   ]
  },
  {
   "cell_type": "code",
   "execution_count": 228,
   "metadata": {
    "vscode": {
     "languageId": "ruby"
    }
   },
   "outputs": [
    {
     "name": "stderr",
     "output_type": "stream",
     "text": [
      "/tmp/ipykernel_2461/17262528.py:2: SettingWithCopyWarning: \n",
      "A value is trying to be set on a copy of a slice from a DataFrame.\n",
      "Try using .loc[row_indexer,col_indexer] = value instead\n",
      "\n",
      "See the caveats in the documentation: https://pandas.pydata.org/pandas-docs/stable/user_guide/indexing.html#returning-a-view-versus-a-copy\n",
      "  dobr_merged_clean['mort_ind'] = (dobr_merged_clean['obito_count'] / dobr_merged_clean['pop_under74']) * 100000\n"
     ]
    },
    {
     "data": {
      "text/html": [
       "<div>\n",
       "<style scoped>\n",
       "    .dataframe tbody tr th:only-of-type {\n",
       "        vertical-align: middle;\n",
       "    }\n",
       "\n",
       "    .dataframe tbody tr th {\n",
       "        vertical-align: top;\n",
       "    }\n",
       "\n",
       "    .dataframe thead th {\n",
       "        text-align: right;\n",
       "    }\n",
       "</style>\n",
       "<table border=\"1\" class=\"dataframe\">\n",
       "  <thead>\n",
       "    <tr style=\"text-align: right;\">\n",
       "      <th></th>\n",
       "      <th>CAUSABAS</th>\n",
       "      <th>CODMUNRES</th>\n",
       "      <th>SEXO</th>\n",
       "      <th>RACACOR</th>\n",
       "      <th>ANO</th>\n",
       "      <th>POP_MERGE</th>\n",
       "      <th>obito_count</th>\n",
       "      <th>pop_under74</th>\n",
       "      <th>UF</th>\n",
       "      <th>classificacao</th>\n",
       "      <th>mort_ind</th>\n",
       "    </tr>\n",
       "  </thead>\n",
       "  <tbody>\n",
       "    <tr>\n",
       "      <th>0</th>\n",
       "      <td>A020</td>\n",
       "      <td>_292740</td>\n",
       "      <td>_2</td>\n",
       "      <td>_4</td>\n",
       "      <td>2022</td>\n",
       "      <td>2022_292740_2_4</td>\n",
       "      <td>1</td>\n",
       "      <td>616812.0</td>\n",
       "      <td>BA</td>\n",
       "      <td>Avoidable mortality</td>\n",
       "      <td>0.162124</td>\n",
       "    </tr>\n",
       "    <tr>\n",
       "      <th>1</th>\n",
       "      <td>A020</td>\n",
       "      <td>_320060</td>\n",
       "      <td>_2</td>\n",
       "      <td>_5</td>\n",
       "      <td>2022</td>\n",
       "      <td>2022_320060_2_5</td>\n",
       "      <td>1</td>\n",
       "      <td>2453.0</td>\n",
       "      <td>ES</td>\n",
       "      <td>Avoidable mortality</td>\n",
       "      <td>40.766408</td>\n",
       "    </tr>\n",
       "    <tr>\n",
       "      <th>2</th>\n",
       "      <td>A020</td>\n",
       "      <td>_350780</td>\n",
       "      <td>_2</td>\n",
       "      <td>_1</td>\n",
       "      <td>2022</td>\n",
       "      <td>2022_350780_2_1</td>\n",
       "      <td>1</td>\n",
       "      <td>8303.0</td>\n",
       "      <td>SP</td>\n",
       "      <td>Avoidable mortality</td>\n",
       "      <td>12.043840</td>\n",
       "    </tr>\n",
       "    <tr>\n",
       "      <th>3</th>\n",
       "      <td>A020</td>\n",
       "      <td>_430790</td>\n",
       "      <td>_2</td>\n",
       "      <td>_1</td>\n",
       "      <td>2022</td>\n",
       "      <td>2022_430790_2_1</td>\n",
       "      <td>1</td>\n",
       "      <td>28008.0</td>\n",
       "      <td>RS</td>\n",
       "      <td>Avoidable mortality</td>\n",
       "      <td>3.570408</td>\n",
       "    </tr>\n",
       "    <tr>\n",
       "      <th>4</th>\n",
       "      <td>A020</td>\n",
       "      <td>_431337</td>\n",
       "      <td>_2</td>\n",
       "      <td>_4</td>\n",
       "      <td>2022</td>\n",
       "      <td>2022_431337_2_4</td>\n",
       "      <td>1</td>\n",
       "      <td>2041.0</td>\n",
       "      <td>RS</td>\n",
       "      <td>Avoidable mortality</td>\n",
       "      <td>48.995590</td>\n",
       "    </tr>\n",
       "  </tbody>\n",
       "</table>\n",
       "</div>"
      ],
      "text/plain": [
       "  CAUSABAS CODMUNRES SEXO RACACOR   ANO        POP_MERGE  obito_count  \\\n",
       "0     A020   _292740   _2      _4  2022  2022_292740_2_4            1   \n",
       "1     A020   _320060   _2      _5  2022  2022_320060_2_5            1   \n",
       "2     A020   _350780   _2      _1  2022  2022_350780_2_1            1   \n",
       "3     A020   _430790   _2      _1  2022  2022_430790_2_1            1   \n",
       "4     A020   _431337   _2      _4  2022  2022_431337_2_4            1   \n",
       "\n",
       "   pop_under74  UF        classificacao   mort_ind  \n",
       "0     616812.0  BA  Avoidable mortality   0.162124  \n",
       "1       2453.0  ES  Avoidable mortality  40.766408  \n",
       "2       8303.0  SP  Avoidable mortality  12.043840  \n",
       "3      28008.0  RS  Avoidable mortality   3.570408  \n",
       "4       2041.0  RS  Avoidable mortality  48.995590  "
      ]
     },
     "execution_count": 228,
     "metadata": {},
     "output_type": "execute_result"
    }
   ],
   "source": [
    "# Calcular a taxa de mortalidade\n",
    "dobr_merged_clean['mort_ind'] = (dobr_merged_clean['obito_count'] / dobr_merged_clean['pop_under74']) * 100000\n",
    "\n",
    "# Verificar as primeiras linhas do DataFrame atualizado\n",
    "dobr_merged_clean.head()"
   ]
  },
  {
   "cell_type": "code",
   "execution_count": 229,
   "metadata": {},
   "outputs": [],
   "source": [
    "# Salvar arquivo final de DOBR\n",
    "dobr_merged_clean = dobr_merged_clean.to_parquet('files_clean/dobr_merged_clean.parquet')"
   ]
  },
  {
   "cell_type": "markdown",
   "metadata": {},
   "source": [
    "## Análises de Dados comparativos"
   ]
  },
  {
   "cell_type": "markdown",
   "metadata": {},
   "source": [
    "### Biblioteca de data science"
   ]
  },
  {
   "cell_type": "code",
   "execution_count": 235,
   "metadata": {},
   "outputs": [],
   "source": [
    "import pandas as pd\n",
    "import matplotlib.pyplot as plt\n",
    "import numpy as np\n",
    "import seaborn as sns\n",
    "import statsmodels.api as sm\n",
    "from scipy import stats # Para testes ANOVA, comparação entre médias"
   ]
  },
  {
   "cell_type": "markdown",
   "metadata": {},
   "source": [
    "### Correlação - estudos"
   ]
  },
  {
   "cell_type": "code",
   "execution_count": 216,
   "metadata": {},
   "outputs": [
    {
     "name": "stdout",
     "output_type": "stream",
     "text": [
      "<class 'pandas.core.frame.DataFrame'>\n",
      "Index: 288204 entries, 0 to 485109\n",
      "Data columns (total 11 columns):\n",
      " #   Column         Non-Null Count   Dtype  \n",
      "---  ------         --------------   -----  \n",
      " 0   CAUSABAS       288204 non-null  object \n",
      " 1   CODMUNRES      288204 non-null  object \n",
      " 2   SEXO           288204 non-null  object \n",
      " 3   RACACOR        288204 non-null  object \n",
      " 4   ANO            288204 non-null  int64  \n",
      " 5   POP_MERGE      288204 non-null  object \n",
      " 6   obito_count    288204 non-null  int64  \n",
      " 7   pop_under74    288204 non-null  float64\n",
      " 8   UF             288204 non-null  object \n",
      " 9   classificacao  288204 non-null  object \n",
      " 10  mort_ind       288204 non-null  float64\n",
      "dtypes: float64(2), int64(2), object(7)\n",
      "memory usage: 26.4+ MB\n"
     ]
    }
   ],
   "source": [
    "dobr = pd.read_parquet('files_clean/dobr_merged_clean.parquet')\n",
    "dobr.info()"
   ]
  },
  {
   "cell_type": "code",
   "execution_count": 230,
   "metadata": {},
   "outputs": [
    {
     "name": "stderr",
     "output_type": "stream",
     "text": [
      "/home/codespace/.local/lib/python3.12/site-packages/pandas/core/nanops.py:1016: RuntimeWarning: invalid value encountered in subtract\n",
      "  sqr = _ensure_numeric((avg - values) ** 2)\n",
      "/home/codespace/.local/lib/python3.12/site-packages/pandas/core/nanops.py:1016: RuntimeWarning: invalid value encountered in subtract\n",
      "  sqr = _ensure_numeric((avg - values) ** 2)\n",
      "/home/codespace/.local/lib/python3.12/site-packages/pandas/core/nanops.py:1016: RuntimeWarning: invalid value encountered in subtract\n",
      "  sqr = _ensure_numeric((avg - values) ** 2)\n",
      "/home/codespace/.local/lib/python3.12/site-packages/pandas/core/nanops.py:1016: RuntimeWarning: invalid value encountered in subtract\n",
      "  sqr = _ensure_numeric((avg - values) ** 2)\n",
      "/home/codespace/.local/lib/python3.12/site-packages/pandas/core/nanops.py:1016: RuntimeWarning: invalid value encountered in subtract\n",
      "  sqr = _ensure_numeric((avg - values) ** 2)\n",
      "/home/codespace/.local/lib/python3.12/site-packages/pandas/core/nanops.py:1016: RuntimeWarning: invalid value encountered in subtract\n",
      "  sqr = _ensure_numeric((avg - values) ** 2)\n",
      "/home/codespace/.local/lib/python3.12/site-packages/pandas/core/nanops.py:1016: RuntimeWarning: invalid value encountered in subtract\n",
      "  sqr = _ensure_numeric((avg - values) ** 2)\n",
      "/home/codespace/.local/lib/python3.12/site-packages/pandas/core/nanops.py:1016: RuntimeWarning: invalid value encountered in subtract\n",
      "  sqr = _ensure_numeric((avg - values) ** 2)\n",
      "/home/codespace/.local/lib/python3.12/site-packages/pandas/core/nanops.py:1016: RuntimeWarning: invalid value encountered in subtract\n",
      "  sqr = _ensure_numeric((avg - values) ** 2)\n",
      "/home/codespace/.local/lib/python3.12/site-packages/pandas/core/nanops.py:1016: RuntimeWarning: invalid value encountered in subtract\n",
      "  sqr = _ensure_numeric((avg - values) ** 2)\n"
     ]
    },
    {
     "data": {
      "text/html": [
       "<div>\n",
       "<style scoped>\n",
       "    .dataframe tbody tr th:only-of-type {\n",
       "        vertical-align: middle;\n",
       "    }\n",
       "\n",
       "    .dataframe tbody tr th {\n",
       "        vertical-align: top;\n",
       "    }\n",
       "\n",
       "    .dataframe thead th {\n",
       "        text-align: right;\n",
       "    }\n",
       "</style>\n",
       "<table border=\"1\" class=\"dataframe\">\n",
       "  <thead>\n",
       "    <tr style=\"text-align: right;\">\n",
       "      <th></th>\n",
       "      <th>count</th>\n",
       "      <th>mean</th>\n",
       "      <th>std</th>\n",
       "      <th>min</th>\n",
       "      <th>25%</th>\n",
       "      <th>50%</th>\n",
       "      <th>75%</th>\n",
       "      <th>max</th>\n",
       "    </tr>\n",
       "    <tr>\n",
       "      <th>UF</th>\n",
       "      <th></th>\n",
       "      <th></th>\n",
       "      <th></th>\n",
       "      <th></th>\n",
       "      <th></th>\n",
       "      <th></th>\n",
       "      <th></th>\n",
       "      <th></th>\n",
       "    </tr>\n",
       "  </thead>\n",
       "  <tbody>\n",
       "    <tr>\n",
       "      <th>AC</th>\n",
       "      <td>1016.0</td>\n",
       "      <td>0.465878</td>\n",
       "      <td>3.507749</td>\n",
       "      <td>0.008292</td>\n",
       "      <td>0.033004</td>\n",
       "      <td>0.107991</td>\n",
       "      <td>0.263922</td>\n",
       "      <td>71.428571</td>\n",
       "    </tr>\n",
       "    <tr>\n",
       "      <th>AL</th>\n",
       "      <td>5011.0</td>\n",
       "      <td>1.128169</td>\n",
       "      <td>19.911780</td>\n",
       "      <td>0.003691</td>\n",
       "      <td>0.063367</td>\n",
       "      <td>0.160102</td>\n",
       "      <td>0.351247</td>\n",
       "      <td>1000.000000</td>\n",
       "    </tr>\n",
       "    <tr>\n",
       "      <th>AM</th>\n",
       "      <td>3813.0</td>\n",
       "      <td>1.014083</td>\n",
       "      <td>24.741862</td>\n",
       "      <td>0.001382</td>\n",
       "      <td>0.024608</td>\n",
       "      <td>0.089047</td>\n",
       "      <td>0.178987</td>\n",
       "      <td>1000.000000</td>\n",
       "    </tr>\n",
       "    <tr>\n",
       "      <th>AP</th>\n",
       "      <td>867.0</td>\n",
       "      <td>0.961956</td>\n",
       "      <td>17.677462</td>\n",
       "      <td>0.007113</td>\n",
       "      <td>0.018550</td>\n",
       "      <td>0.049790</td>\n",
       "      <td>0.168344</td>\n",
       "      <td>500.000000</td>\n",
       "    </tr>\n",
       "    <tr>\n",
       "      <th>BA</th>\n",
       "      <td>21915.0</td>\n",
       "      <td>inf</td>\n",
       "      <td>NaN</td>\n",
       "      <td>0.001621</td>\n",
       "      <td>0.065053</td>\n",
       "      <td>0.160694</td>\n",
       "      <td>0.329652</td>\n",
       "      <td>inf</td>\n",
       "    </tr>\n",
       "    <tr>\n",
       "      <th>CE</th>\n",
       "      <td>12440.0</td>\n",
       "      <td>inf</td>\n",
       "      <td>NaN</td>\n",
       "      <td>0.001334</td>\n",
       "      <td>0.040953</td>\n",
       "      <td>0.107147</td>\n",
       "      <td>0.230309</td>\n",
       "      <td>inf</td>\n",
       "    </tr>\n",
       "    <tr>\n",
       "      <th>DF</th>\n",
       "      <td>1317.0</td>\n",
       "      <td>0.015249</td>\n",
       "      <td>0.047901</td>\n",
       "      <td>0.001451</td>\n",
       "      <td>0.001731</td>\n",
       "      <td>0.003462</td>\n",
       "      <td>0.008027</td>\n",
       "      <td>0.404204</td>\n",
       "    </tr>\n",
       "    <tr>\n",
       "      <th>ES</th>\n",
       "      <td>6181.0</td>\n",
       "      <td>0.402856</td>\n",
       "      <td>5.365639</td>\n",
       "      <td>0.006734</td>\n",
       "      <td>0.029523</td>\n",
       "      <td>0.097924</td>\n",
       "      <td>0.259067</td>\n",
       "      <td>250.000000</td>\n",
       "    </tr>\n",
       "    <tr>\n",
       "      <th>GO</th>\n",
       "      <td>11572.0</td>\n",
       "      <td>0.984023</td>\n",
       "      <td>16.877243</td>\n",
       "      <td>0.002876</td>\n",
       "      <td>0.039008</td>\n",
       "      <td>0.131978</td>\n",
       "      <td>0.405351</td>\n",
       "      <td>1000.000000</td>\n",
       "    </tr>\n",
       "    <tr>\n",
       "      <th>MA</th>\n",
       "      <td>10907.0</td>\n",
       "      <td>inf</td>\n",
       "      <td>NaN</td>\n",
       "      <td>0.003261</td>\n",
       "      <td>0.060129</td>\n",
       "      <td>0.136351</td>\n",
       "      <td>0.292826</td>\n",
       "      <td>inf</td>\n",
       "    </tr>\n",
       "    <tr>\n",
       "      <th>MG</th>\n",
       "      <td>32861.0</td>\n",
       "      <td>inf</td>\n",
       "      <td>NaN</td>\n",
       "      <td>0.001981</td>\n",
       "      <td>0.053862</td>\n",
       "      <td>0.172652</td>\n",
       "      <td>0.469263</td>\n",
       "      <td>inf</td>\n",
       "    </tr>\n",
       "    <tr>\n",
       "      <th>MS</th>\n",
       "      <td>4971.0</td>\n",
       "      <td>0.701599</td>\n",
       "      <td>8.434038</td>\n",
       "      <td>0.004867</td>\n",
       "      <td>0.044954</td>\n",
       "      <td>0.166334</td>\n",
       "      <td>0.367141</td>\n",
       "      <td>333.333333</td>\n",
       "    </tr>\n",
       "    <tr>\n",
       "      <th>MT</th>\n",
       "      <td>6624.0</td>\n",
       "      <td>1.772923</td>\n",
       "      <td>26.151581</td>\n",
       "      <td>0.005592</td>\n",
       "      <td>0.046624</td>\n",
       "      <td>0.138966</td>\n",
       "      <td>0.385246</td>\n",
       "      <td>1000.000000</td>\n",
       "    </tr>\n",
       "    <tr>\n",
       "      <th>PA</th>\n",
       "      <td>10722.0</td>\n",
       "      <td>0.705199</td>\n",
       "      <td>16.458811</td>\n",
       "      <td>0.002444</td>\n",
       "      <td>0.036440</td>\n",
       "      <td>0.078499</td>\n",
       "      <td>0.174459</td>\n",
       "      <td>1000.000000</td>\n",
       "    </tr>\n",
       "    <tr>\n",
       "      <th>PB</th>\n",
       "      <td>6750.0</td>\n",
       "      <td>1.375251</td>\n",
       "      <td>21.204440</td>\n",
       "      <td>0.004633</td>\n",
       "      <td>0.087779</td>\n",
       "      <td>0.253229</td>\n",
       "      <td>0.580720</td>\n",
       "      <td>1000.000000</td>\n",
       "    </tr>\n",
       "    <tr>\n",
       "      <th>PE</th>\n",
       "      <td>14256.0</td>\n",
       "      <td>inf</td>\n",
       "      <td>NaN</td>\n",
       "      <td>0.002706</td>\n",
       "      <td>0.040763</td>\n",
       "      <td>0.110035</td>\n",
       "      <td>0.243250</td>\n",
       "      <td>inf</td>\n",
       "    </tr>\n",
       "    <tr>\n",
       "      <th>PI</th>\n",
       "      <td>5734.0</td>\n",
       "      <td>inf</td>\n",
       "      <td>NaN</td>\n",
       "      <td>0.003681</td>\n",
       "      <td>0.100837</td>\n",
       "      <td>0.296209</td>\n",
       "      <td>0.687285</td>\n",
       "      <td>inf</td>\n",
       "    </tr>\n",
       "    <tr>\n",
       "      <th>PR</th>\n",
       "      <td>19982.0</td>\n",
       "      <td>0.707167</td>\n",
       "      <td>10.678612</td>\n",
       "      <td>0.001502</td>\n",
       "      <td>0.043122</td>\n",
       "      <td>0.154703</td>\n",
       "      <td>0.399760</td>\n",
       "      <td>1000.000000</td>\n",
       "    </tr>\n",
       "    <tr>\n",
       "      <th>RJ</th>\n",
       "      <td>15644.0</td>\n",
       "      <td>0.169224</td>\n",
       "      <td>1.722493</td>\n",
       "      <td>0.000712</td>\n",
       "      <td>0.014998</td>\n",
       "      <td>0.045290</td>\n",
       "      <td>0.129758</td>\n",
       "      <td>142.857143</td>\n",
       "    </tr>\n",
       "    <tr>\n",
       "      <th>RN</th>\n",
       "      <td>5398.0</td>\n",
       "      <td>inf</td>\n",
       "      <td>NaN</td>\n",
       "      <td>0.005625</td>\n",
       "      <td>0.060890</td>\n",
       "      <td>0.230296</td>\n",
       "      <td>0.549929</td>\n",
       "      <td>inf</td>\n",
       "    </tr>\n",
       "    <tr>\n",
       "      <th>RO</th>\n",
       "      <td>2917.0</td>\n",
       "      <td>0.706810</td>\n",
       "      <td>11.346530</td>\n",
       "      <td>0.006871</td>\n",
       "      <td>0.049322</td>\n",
       "      <td>0.127975</td>\n",
       "      <td>0.311818</td>\n",
       "      <td>500.000000</td>\n",
       "    </tr>\n",
       "    <tr>\n",
       "      <th>RR</th>\n",
       "      <td>965.0</td>\n",
       "      <td>0.297789</td>\n",
       "      <td>1.414039</td>\n",
       "      <td>0.007796</td>\n",
       "      <td>0.020853</td>\n",
       "      <td>0.118540</td>\n",
       "      <td>0.301568</td>\n",
       "      <td>41.666667</td>\n",
       "    </tr>\n",
       "    <tr>\n",
       "      <th>RS</th>\n",
       "      <td>18607.0</td>\n",
       "      <td>inf</td>\n",
       "      <td>NaN</td>\n",
       "      <td>0.002053</td>\n",
       "      <td>0.042337</td>\n",
       "      <td>0.114797</td>\n",
       "      <td>0.391389</td>\n",
       "      <td>inf</td>\n",
       "    </tr>\n",
       "    <tr>\n",
       "      <th>SC</th>\n",
       "      <td>11555.0</td>\n",
       "      <td>inf</td>\n",
       "      <td>NaN</td>\n",
       "      <td>0.004319</td>\n",
       "      <td>0.036134</td>\n",
       "      <td>0.104767</td>\n",
       "      <td>0.276778</td>\n",
       "      <td>inf</td>\n",
       "    </tr>\n",
       "    <tr>\n",
       "      <th>SE</th>\n",
       "      <td>3636.0</td>\n",
       "      <td>0.446625</td>\n",
       "      <td>3.392731</td>\n",
       "      <td>0.005735</td>\n",
       "      <td>0.051190</td>\n",
       "      <td>0.151607</td>\n",
       "      <td>0.357270</td>\n",
       "      <td>142.857143</td>\n",
       "    </tr>\n",
       "    <tr>\n",
       "      <th>SP</th>\n",
       "      <td>49446.0</td>\n",
       "      <td>0.327713</td>\n",
       "      <td>5.010310</td>\n",
       "      <td>0.000321</td>\n",
       "      <td>0.019657</td>\n",
       "      <td>0.062735</td>\n",
       "      <td>0.191205</td>\n",
       "      <td>500.000000</td>\n",
       "    </tr>\n",
       "    <tr>\n",
       "      <th>TO</th>\n",
       "      <td>3097.0</td>\n",
       "      <td>inf</td>\n",
       "      <td>NaN</td>\n",
       "      <td>0.011392</td>\n",
       "      <td>0.100614</td>\n",
       "      <td>0.384468</td>\n",
       "      <td>0.858369</td>\n",
       "      <td>inf</td>\n",
       "    </tr>\n",
       "  </tbody>\n",
       "</table>\n",
       "</div>"
      ],
      "text/plain": [
       "      count      mean        std       min       25%       50%       75%  \\\n",
       "UF                                                                         \n",
       "AC   1016.0  0.465878   3.507749  0.008292  0.033004  0.107991  0.263922   \n",
       "AL   5011.0  1.128169  19.911780  0.003691  0.063367  0.160102  0.351247   \n",
       "AM   3813.0  1.014083  24.741862  0.001382  0.024608  0.089047  0.178987   \n",
       "AP    867.0  0.961956  17.677462  0.007113  0.018550  0.049790  0.168344   \n",
       "BA  21915.0       inf        NaN  0.001621  0.065053  0.160694  0.329652   \n",
       "CE  12440.0       inf        NaN  0.001334  0.040953  0.107147  0.230309   \n",
       "DF   1317.0  0.015249   0.047901  0.001451  0.001731  0.003462  0.008027   \n",
       "ES   6181.0  0.402856   5.365639  0.006734  0.029523  0.097924  0.259067   \n",
       "GO  11572.0  0.984023  16.877243  0.002876  0.039008  0.131978  0.405351   \n",
       "MA  10907.0       inf        NaN  0.003261  0.060129  0.136351  0.292826   \n",
       "MG  32861.0       inf        NaN  0.001981  0.053862  0.172652  0.469263   \n",
       "MS   4971.0  0.701599   8.434038  0.004867  0.044954  0.166334  0.367141   \n",
       "MT   6624.0  1.772923  26.151581  0.005592  0.046624  0.138966  0.385246   \n",
       "PA  10722.0  0.705199  16.458811  0.002444  0.036440  0.078499  0.174459   \n",
       "PB   6750.0  1.375251  21.204440  0.004633  0.087779  0.253229  0.580720   \n",
       "PE  14256.0       inf        NaN  0.002706  0.040763  0.110035  0.243250   \n",
       "PI   5734.0       inf        NaN  0.003681  0.100837  0.296209  0.687285   \n",
       "PR  19982.0  0.707167  10.678612  0.001502  0.043122  0.154703  0.399760   \n",
       "RJ  15644.0  0.169224   1.722493  0.000712  0.014998  0.045290  0.129758   \n",
       "RN   5398.0       inf        NaN  0.005625  0.060890  0.230296  0.549929   \n",
       "RO   2917.0  0.706810  11.346530  0.006871  0.049322  0.127975  0.311818   \n",
       "RR    965.0  0.297789   1.414039  0.007796  0.020853  0.118540  0.301568   \n",
       "RS  18607.0       inf        NaN  0.002053  0.042337  0.114797  0.391389   \n",
       "SC  11555.0       inf        NaN  0.004319  0.036134  0.104767  0.276778   \n",
       "SE   3636.0  0.446625   3.392731  0.005735  0.051190  0.151607  0.357270   \n",
       "SP  49446.0  0.327713   5.010310  0.000321  0.019657  0.062735  0.191205   \n",
       "TO   3097.0       inf        NaN  0.011392  0.100614  0.384468  0.858369   \n",
       "\n",
       "            max  \n",
       "UF               \n",
       "AC    71.428571  \n",
       "AL  1000.000000  \n",
       "AM  1000.000000  \n",
       "AP   500.000000  \n",
       "BA          inf  \n",
       "CE          inf  \n",
       "DF     0.404204  \n",
       "ES   250.000000  \n",
       "GO  1000.000000  \n",
       "MA          inf  \n",
       "MG          inf  \n",
       "MS   333.333333  \n",
       "MT  1000.000000  \n",
       "PA  1000.000000  \n",
       "PB  1000.000000  \n",
       "PE          inf  \n",
       "PI          inf  \n",
       "PR  1000.000000  \n",
       "RJ   142.857143  \n",
       "RN          inf  \n",
       "RO   500.000000  \n",
       "RR    41.666667  \n",
       "RS          inf  \n",
       "SC          inf  \n",
       "SE   142.857143  \n",
       "SP   500.000000  \n",
       "TO          inf  "
      ]
     },
     "execution_count": 230,
     "metadata": {},
     "output_type": "execute_result"
    }
   ],
   "source": [
    "# Describe das médias de mortalidade\n",
    "dobr_uf = dobr.groupby('UF')['mort_ind']\n",
    "dobr_uf.describe()"
   ]
  },
  {
   "cell_type": "code",
   "execution_count": 237,
   "metadata": {},
   "outputs": [
    {
     "ename": "KeyError",
     "evalue": "'SEXO'",
     "output_type": "error",
     "traceback": [
      "\u001b[0;31m---------------------------------------------------------------------------\u001b[0m",
      "\u001b[0;31mKeyError\u001b[0m                                  Traceback (most recent call last)",
      "File \u001b[0;32m~/.local/lib/python3.12/site-packages/pandas/core/indexes/base.py:3805\u001b[0m, in \u001b[0;36mIndex.get_loc\u001b[0;34m(self, key)\u001b[0m\n\u001b[1;32m   3804\u001b[0m \u001b[38;5;28;01mtry\u001b[39;00m:\n\u001b[0;32m-> 3805\u001b[0m     \u001b[38;5;28;01mreturn\u001b[39;00m \u001b[38;5;28;43mself\u001b[39;49m\u001b[38;5;241;43m.\u001b[39;49m\u001b[43m_engine\u001b[49m\u001b[38;5;241;43m.\u001b[39;49m\u001b[43mget_loc\u001b[49m\u001b[43m(\u001b[49m\u001b[43mcasted_key\u001b[49m\u001b[43m)\u001b[49m\n\u001b[1;32m   3806\u001b[0m \u001b[38;5;28;01mexcept\u001b[39;00m \u001b[38;5;167;01mKeyError\u001b[39;00m \u001b[38;5;28;01mas\u001b[39;00m err:\n",
      "File \u001b[0;32mindex.pyx:167\u001b[0m, in \u001b[0;36mpandas._libs.index.IndexEngine.get_loc\u001b[0;34m()\u001b[0m\n",
      "File \u001b[0;32mindex.pyx:196\u001b[0m, in \u001b[0;36mpandas._libs.index.IndexEngine.get_loc\u001b[0;34m()\u001b[0m\n",
      "File \u001b[0;32mpandas/_libs/hashtable_class_helper.pxi:7081\u001b[0m, in \u001b[0;36mpandas._libs.hashtable.PyObjectHashTable.get_item\u001b[0;34m()\u001b[0m\n",
      "File \u001b[0;32mpandas/_libs/hashtable_class_helper.pxi:7089\u001b[0m, in \u001b[0;36mpandas._libs.hashtable.PyObjectHashTable.get_item\u001b[0;34m()\u001b[0m\n",
      "\u001b[0;31mKeyError\u001b[0m: 'SEXO'",
      "\nThe above exception was the direct cause of the following exception:\n",
      "\u001b[0;31mKeyError\u001b[0m                                  Traceback (most recent call last)",
      "Cell \u001b[0;32mIn[237], line 12\u001b[0m\n\u001b[1;32m      9\u001b[0m df \u001b[38;5;241m=\u001b[39m pd\u001b[38;5;241m.\u001b[39mget_dummies(df1, columns\u001b[38;5;241m=\u001b[39m[var_cat])\n\u001b[1;32m     11\u001b[0m \u001b[38;5;66;03m# Modelo de regressão linear\u001b[39;00m\n\u001b[0;32m---> 12\u001b[0m model \u001b[38;5;241m=\u001b[39m sm\u001b[38;5;241m.\u001b[39mOLS(df[valor], \u001b[43mdf\u001b[49m\u001b[43m[\u001b[49m\u001b[43mvar_cat\u001b[49m\u001b[43m]\u001b[49m)\n\u001b[1;32m     13\u001b[0m results \u001b[38;5;241m=\u001b[39m model\u001b[38;5;241m.\u001b[39mfit()\n\u001b[1;32m     14\u001b[0m \u001b[38;5;28mprint\u001b[39m(results\u001b[38;5;241m.\u001b[39msummary())\n",
      "File \u001b[0;32m~/.local/lib/python3.12/site-packages/pandas/core/frame.py:4102\u001b[0m, in \u001b[0;36mDataFrame.__getitem__\u001b[0;34m(self, key)\u001b[0m\n\u001b[1;32m   4100\u001b[0m \u001b[38;5;28;01mif\u001b[39;00m \u001b[38;5;28mself\u001b[39m\u001b[38;5;241m.\u001b[39mcolumns\u001b[38;5;241m.\u001b[39mnlevels \u001b[38;5;241m>\u001b[39m \u001b[38;5;241m1\u001b[39m:\n\u001b[1;32m   4101\u001b[0m     \u001b[38;5;28;01mreturn\u001b[39;00m \u001b[38;5;28mself\u001b[39m\u001b[38;5;241m.\u001b[39m_getitem_multilevel(key)\n\u001b[0;32m-> 4102\u001b[0m indexer \u001b[38;5;241m=\u001b[39m \u001b[38;5;28;43mself\u001b[39;49m\u001b[38;5;241;43m.\u001b[39;49m\u001b[43mcolumns\u001b[49m\u001b[38;5;241;43m.\u001b[39;49m\u001b[43mget_loc\u001b[49m\u001b[43m(\u001b[49m\u001b[43mkey\u001b[49m\u001b[43m)\u001b[49m\n\u001b[1;32m   4103\u001b[0m \u001b[38;5;28;01mif\u001b[39;00m is_integer(indexer):\n\u001b[1;32m   4104\u001b[0m     indexer \u001b[38;5;241m=\u001b[39m [indexer]\n",
      "File \u001b[0;32m~/.local/lib/python3.12/site-packages/pandas/core/indexes/base.py:3812\u001b[0m, in \u001b[0;36mIndex.get_loc\u001b[0;34m(self, key)\u001b[0m\n\u001b[1;32m   3807\u001b[0m     \u001b[38;5;28;01mif\u001b[39;00m \u001b[38;5;28misinstance\u001b[39m(casted_key, \u001b[38;5;28mslice\u001b[39m) \u001b[38;5;129;01mor\u001b[39;00m (\n\u001b[1;32m   3808\u001b[0m         \u001b[38;5;28misinstance\u001b[39m(casted_key, abc\u001b[38;5;241m.\u001b[39mIterable)\n\u001b[1;32m   3809\u001b[0m         \u001b[38;5;129;01mand\u001b[39;00m \u001b[38;5;28many\u001b[39m(\u001b[38;5;28misinstance\u001b[39m(x, \u001b[38;5;28mslice\u001b[39m) \u001b[38;5;28;01mfor\u001b[39;00m x \u001b[38;5;129;01min\u001b[39;00m casted_key)\n\u001b[1;32m   3810\u001b[0m     ):\n\u001b[1;32m   3811\u001b[0m         \u001b[38;5;28;01mraise\u001b[39;00m InvalidIndexError(key)\n\u001b[0;32m-> 3812\u001b[0m     \u001b[38;5;28;01mraise\u001b[39;00m \u001b[38;5;167;01mKeyError\u001b[39;00m(key) \u001b[38;5;28;01mfrom\u001b[39;00m \u001b[38;5;21;01merr\u001b[39;00m\n\u001b[1;32m   3813\u001b[0m \u001b[38;5;28;01mexcept\u001b[39;00m \u001b[38;5;167;01mTypeError\u001b[39;00m:\n\u001b[1;32m   3814\u001b[0m     \u001b[38;5;66;03m# If we have a listlike key, _check_indexing_error will raise\u001b[39;00m\n\u001b[1;32m   3815\u001b[0m     \u001b[38;5;66;03m#  InvalidIndexError. Otherwise we fall through and re-raise\u001b[39;00m\n\u001b[1;32m   3816\u001b[0m     \u001b[38;5;66;03m#  the TypeError.\u001b[39;00m\n\u001b[1;32m   3817\u001b[0m     \u001b[38;5;28mself\u001b[39m\u001b[38;5;241m.\u001b[39m_check_indexing_error(key)\n",
      "\u001b[0;31mKeyError\u001b[0m: 'SEXO'"
     ]
    }
   ],
   "source": [
    "import statsmodels.api as sm\n",
    "df1 = dobr\n",
    "var_cat = 'SEXO'\n",
    "valor = 'mort_ind'\n",
    "\n",
    "\n",
    "\n",
    "# Criando variáveis dummy para as categorias\n",
    "df = pd.get_dummies(df1, columns=[var_cat])\n",
    "\n",
    "# Modelo de regressão linear\n",
    "model = sm.OLS(df[valor], df[var_cat])\n",
    "results = model.fit()\n",
    "print(results.summary())"
   ]
  },
  {
   "cell_type": "code",
   "execution_count": null,
   "metadata": {},
   "outputs": [],
   "source": [
    "# ### Exemplo Completo para Análise de Catetorias\n",
    "# import pandas as pd\n",
    "# import seaborn as sns\n",
    "\n",
    "\n",
    "# # Análise exploratória\n",
    "# print(df.groupby('categoria')['valor'].describe())\n",
    "\n",
    "# # Visualização\n",
    "# sns.boxplot(x='categoria', y='valor', data=df)\n",
    "\n",
    "# # Teste ANOVA\n",
    "# from scipy import stats\n",
    "# grupos = df.groupby('categoria')['valor'].apply(list)\n",
    "# stats.f_oneway(*grupos)"
   ]
  },
  {
   "cell_type": "code",
   "execution_count": null,
   "metadata": {},
   "outputs": [
    {
     "name": "stderr",
     "output_type": "stream",
     "text": [
      "/home/codespace/.local/lib/python3.12/site-packages/pandas/core/nanops.py:1016: RuntimeWarning: invalid value encountered in subtract\n",
      "  sqr = _ensure_numeric((avg - values) ** 2)\n",
      "/home/codespace/.local/lib/python3.12/site-packages/pandas/core/nanops.py:1016: RuntimeWarning: invalid value encountered in subtract\n",
      "  sqr = _ensure_numeric((avg - values) ** 2)\n"
     ]
    },
    {
     "name": "stdout",
     "output_type": "stream",
     "text": [
      "         count  mean  std       min       25%       50%       75%  max\n",
      "SEXO                                                                  \n",
      "_1    183981.0   inf  NaN  0.000368  0.040953  0.125282  0.329489  inf\n",
      "_2    104223.0   inf  NaN  0.000321  0.029722  0.097800  0.277085  inf\n"
     ]
    },
    {
     "name": "stderr",
     "output_type": "stream",
     "text": [
      "/home/codespace/.local/lib/python3.12/site-packages/scipy/stats/_stats_py.py:4178: RuntimeWarning: invalid value encountered in subtract\n",
      "  alldata = alldata - offset\n",
      "/home/codespace/.local/lib/python3.12/site-packages/scipy/stats/_stats_py.py:4186: RuntimeWarning: invalid value encountered in subtract\n",
      "  smo_ss = _square_of_sums(sample - offset, axis=axis)\n"
     ]
    },
    {
     "data": {
      "text/plain": [
       "F_onewayResult(statistic=nan, pvalue=nan)"
      ]
     },
     "execution_count": 233,
     "metadata": {},
     "output_type": "execute_result"
    },
    {
     "data": {
      "image/png": "[encoded data removed]",
      "text/plain": [
       "<Figure size 640x480 with 1 Axes>"
      ]
     },
     "metadata": {},
     "output_type": "display_data"
    }
   ],
   "source": [
    "### Exemplo Completo para Análise de Catetorias\n",
    "df = dobr\n",
    "var_cat = 'SEXO'\n",
    "valor = 'mort_ind'\n",
    "\n",
    "# Análise exploratória\n",
    "print(df.groupby(var_cat)[valor].describe())\n",
    "\n",
    "# Visualização\n",
    "sns.boxplot(x=var_cat, y=valor, data=df)\n",
    "\n",
    "# Teste ANOVA\n",
    "from scipy import stats\n",
    "grupos = dobr.groupby(var_cat)[valor].apply(list)\n",
    "stats.f_oneway(*grupos)"
   ]
  },
  {
   "cell_type": "code",
   "execution_count": null,
   "metadata": {},
   "outputs": [],
   "source": [
    "# Calcular ANOVA\n",
    "stats.f_oneway(valores_categoria1, valores_categoria2, ...)"
   ]
  },
  {
   "cell_type": "code",
   "execution_count": 218,
   "metadata": {},
   "outputs": [
    {
     "name": "stdout",
     "output_type": "stream",
     "text": [
      "UF\n",
      "AC    0.465878\n",
      "AL    1.128169\n",
      "AM    1.014083\n",
      "AP    0.961956\n",
      "BA         inf\n",
      "CE         inf\n",
      "DF    0.015249\n",
      "ES    0.402856\n",
      "GO    0.984023\n",
      "MA         inf\n",
      "MG         inf\n",
      "MS    0.701599\n",
      "MT    1.772923\n",
      "PA    0.705199\n",
      "PB    1.375251\n",
      "PE         inf\n",
      "PI         inf\n",
      "PR    0.707167\n",
      "RJ    0.169224\n",
      "RN         inf\n",
      "RO    0.706810\n",
      "RR    0.297789\n",
      "RS         inf\n",
      "SC         inf\n",
      "SE    0.446625\n",
      "SP    0.327713\n",
      "TO         inf\n",
      "Name: mort_ind, dtype: float64\n"
     ]
    }
   ],
   "source": [
    "# Agrupar por UF e calcular a média das variáveis numéricas\n",
    "uf_means = dobr.groupby('UF')['mort_ind'].mean()\n",
    "\n",
    "# Exibir as médias calculadas\n",
    "print(uf_means)"
   ]
  },
  {
   "cell_type": "code",
   "execution_count": 164,
   "metadata": {},
   "outputs": [
    {
     "ename": "ValueError",
     "evalue": "could not convert string to float: 'V629'",
     "output_type": "error",
     "traceback": [
      "\u001b[0;31m---------------------------------------------------------------------------\u001b[0m",
      "\u001b[0;31mValueError\u001b[0m                                Traceback (most recent call last)",
      "Cell \u001b[0;32mIn[164], line 5\u001b[0m\n\u001b[1;32m      2\u001b[0m plt\u001b[38;5;241m.\u001b[39mfigure(figsize\u001b[38;5;241m=\u001b[39m(\u001b[38;5;241m10\u001b[39m, \u001b[38;5;241m10\u001b[39m))\n\u001b[1;32m      4\u001b[0m \u001b[38;5;66;03m#Matriz de correlação\u001b[39;00m\n\u001b[0;32m----> 5\u001b[0m dataplot \u001b[38;5;241m=\u001b[39m sns\u001b[38;5;241m.\u001b[39mheatmap(\u001b[43mdobr\u001b[49m\u001b[38;5;241;43m.\u001b[39;49m\u001b[43mcorr\u001b[49m\u001b[43m(\u001b[49m\u001b[43m)\u001b[49m,\n\u001b[1;32m      6\u001b[0m                        annot\u001b[38;5;241m=\u001b[39m\u001b[38;5;28;01mTrue\u001b[39;00m,\n\u001b[1;32m      7\u001b[0m                        fmt\u001b[38;5;241m=\u001b[39m\u001b[38;5;124m'\u001b[39m\u001b[38;5;124m.1f\u001b[39m\u001b[38;5;124m'\u001b[39m) \u001b[38;5;66;03m#annot são anotações e fmt a formatação dos valores\u001b[39;00m\n",
      "File \u001b[0;32m~/.local/lib/python3.12/site-packages/pandas/core/frame.py:11049\u001b[0m, in \u001b[0;36mDataFrame.corr\u001b[0;34m(self, method, min_periods, numeric_only)\u001b[0m\n\u001b[1;32m  11047\u001b[0m cols \u001b[38;5;241m=\u001b[39m data\u001b[38;5;241m.\u001b[39mcolumns\n\u001b[1;32m  11048\u001b[0m idx \u001b[38;5;241m=\u001b[39m cols\u001b[38;5;241m.\u001b[39mcopy()\n\u001b[0;32m> 11049\u001b[0m mat \u001b[38;5;241m=\u001b[39m \u001b[43mdata\u001b[49m\u001b[38;5;241;43m.\u001b[39;49m\u001b[43mto_numpy\u001b[49m\u001b[43m(\u001b[49m\u001b[43mdtype\u001b[49m\u001b[38;5;241;43m=\u001b[39;49m\u001b[38;5;28;43mfloat\u001b[39;49m\u001b[43m,\u001b[49m\u001b[43m \u001b[49m\u001b[43mna_value\u001b[49m\u001b[38;5;241;43m=\u001b[39;49m\u001b[43mnp\u001b[49m\u001b[38;5;241;43m.\u001b[39;49m\u001b[43mnan\u001b[49m\u001b[43m,\u001b[49m\u001b[43m \u001b[49m\u001b[43mcopy\u001b[49m\u001b[38;5;241;43m=\u001b[39;49m\u001b[38;5;28;43;01mFalse\u001b[39;49;00m\u001b[43m)\u001b[49m\n\u001b[1;32m  11051\u001b[0m \u001b[38;5;28;01mif\u001b[39;00m method \u001b[38;5;241m==\u001b[39m \u001b[38;5;124m\"\u001b[39m\u001b[38;5;124mpearson\u001b[39m\u001b[38;5;124m\"\u001b[39m:\n\u001b[1;32m  11052\u001b[0m     correl \u001b[38;5;241m=\u001b[39m libalgos\u001b[38;5;241m.\u001b[39mnancorr(mat, minp\u001b[38;5;241m=\u001b[39mmin_periods)\n",
      "File \u001b[0;32m~/.local/lib/python3.12/site-packages/pandas/core/frame.py:1993\u001b[0m, in \u001b[0;36mDataFrame.to_numpy\u001b[0;34m(self, dtype, copy, na_value)\u001b[0m\n\u001b[1;32m   1991\u001b[0m \u001b[38;5;28;01mif\u001b[39;00m dtype \u001b[38;5;129;01mis\u001b[39;00m \u001b[38;5;129;01mnot\u001b[39;00m \u001b[38;5;28;01mNone\u001b[39;00m:\n\u001b[1;32m   1992\u001b[0m     dtype \u001b[38;5;241m=\u001b[39m np\u001b[38;5;241m.\u001b[39mdtype(dtype)\n\u001b[0;32m-> 1993\u001b[0m result \u001b[38;5;241m=\u001b[39m \u001b[38;5;28;43mself\u001b[39;49m\u001b[38;5;241;43m.\u001b[39;49m\u001b[43m_mgr\u001b[49m\u001b[38;5;241;43m.\u001b[39;49m\u001b[43mas_array\u001b[49m\u001b[43m(\u001b[49m\u001b[43mdtype\u001b[49m\u001b[38;5;241;43m=\u001b[39;49m\u001b[43mdtype\u001b[49m\u001b[43m,\u001b[49m\u001b[43m \u001b[49m\u001b[43mcopy\u001b[49m\u001b[38;5;241;43m=\u001b[39;49m\u001b[43mcopy\u001b[49m\u001b[43m,\u001b[49m\u001b[43m \u001b[49m\u001b[43mna_value\u001b[49m\u001b[38;5;241;43m=\u001b[39;49m\u001b[43mna_value\u001b[49m\u001b[43m)\u001b[49m\n\u001b[1;32m   1994\u001b[0m \u001b[38;5;28;01mif\u001b[39;00m result\u001b[38;5;241m.\u001b[39mdtype \u001b[38;5;129;01mis\u001b[39;00m \u001b[38;5;129;01mnot\u001b[39;00m dtype:\n\u001b[1;32m   1995\u001b[0m     result \u001b[38;5;241m=\u001b[39m np\u001b[38;5;241m.\u001b[39masarray(result, dtype\u001b[38;5;241m=\u001b[39mdtype)\n",
      "File \u001b[0;32m~/.local/lib/python3.12/site-packages/pandas/core/internals/managers.py:1694\u001b[0m, in \u001b[0;36mBlockManager.as_array\u001b[0;34m(self, dtype, copy, na_value)\u001b[0m\n\u001b[1;32m   1692\u001b[0m         arr\u001b[38;5;241m.\u001b[39mflags\u001b[38;5;241m.\u001b[39mwriteable \u001b[38;5;241m=\u001b[39m \u001b[38;5;28;01mFalse\u001b[39;00m\n\u001b[1;32m   1693\u001b[0m \u001b[38;5;28;01melse\u001b[39;00m:\n\u001b[0;32m-> 1694\u001b[0m     arr \u001b[38;5;241m=\u001b[39m \u001b[38;5;28;43mself\u001b[39;49m\u001b[38;5;241;43m.\u001b[39;49m\u001b[43m_interleave\u001b[49m\u001b[43m(\u001b[49m\u001b[43mdtype\u001b[49m\u001b[38;5;241;43m=\u001b[39;49m\u001b[43mdtype\u001b[49m\u001b[43m,\u001b[49m\u001b[43m \u001b[49m\u001b[43mna_value\u001b[49m\u001b[38;5;241;43m=\u001b[39;49m\u001b[43mna_value\u001b[49m\u001b[43m)\u001b[49m\n\u001b[1;32m   1695\u001b[0m     \u001b[38;5;66;03m# The underlying data was copied within _interleave, so no need\u001b[39;00m\n\u001b[1;32m   1696\u001b[0m     \u001b[38;5;66;03m# to further copy if copy=True or setting na_value\u001b[39;00m\n\u001b[1;32m   1698\u001b[0m \u001b[38;5;28;01mif\u001b[39;00m na_value \u001b[38;5;129;01mis\u001b[39;00m lib\u001b[38;5;241m.\u001b[39mno_default:\n",
      "File \u001b[0;32m~/.local/lib/python3.12/site-packages/pandas/core/internals/managers.py:1753\u001b[0m, in \u001b[0;36mBlockManager._interleave\u001b[0;34m(self, dtype, na_value)\u001b[0m\n\u001b[1;32m   1751\u001b[0m     \u001b[38;5;28;01melse\u001b[39;00m:\n\u001b[1;32m   1752\u001b[0m         arr \u001b[38;5;241m=\u001b[39m blk\u001b[38;5;241m.\u001b[39mget_values(dtype)\n\u001b[0;32m-> 1753\u001b[0m     \u001b[43mresult\u001b[49m\u001b[43m[\u001b[49m\u001b[43mrl\u001b[49m\u001b[38;5;241;43m.\u001b[39;49m\u001b[43mindexer\u001b[49m\u001b[43m]\u001b[49m \u001b[38;5;241m=\u001b[39m arr\n\u001b[1;32m   1754\u001b[0m     itemmask[rl\u001b[38;5;241m.\u001b[39mindexer] \u001b[38;5;241m=\u001b[39m \u001b[38;5;241m1\u001b[39m\n\u001b[1;32m   1756\u001b[0m \u001b[38;5;28;01mif\u001b[39;00m \u001b[38;5;129;01mnot\u001b[39;00m itemmask\u001b[38;5;241m.\u001b[39mall():\n",
      "\u001b[0;31mValueError\u001b[0m: could not convert string to float: 'V629'"
     ]
    },
    {
     "data": {
      "text/plain": [
       "<Figure size 1000x1000 with 0 Axes>"
      ]
     },
     "metadata": {},
     "output_type": "display_data"
    }
   ],
   "source": [
    "#Ajustar um tamanho para o gráfico (1000x1000)\n",
    "plt.figure(figsize=(10, 10))\n",
    "\n",
    "#Matriz de correlação\n",
    "dataplot = sns.heatmap(dobr.corr(),\n",
    "                       annot=True,\n",
    "                       fmt='.1f') #annot são anotações e fmt a formatação dos valores"
   ]
  },
  {
   "cell_type": "markdown",
   "metadata": {},
   "source": [
    "#### Carregar arquivos concatenados como dataframe"
   ]
  },
  {
   "cell_type": "markdown",
   "metadata": {},
   "source": [
    "# Etapa 3 - Aplicação de Modelo do HEAT ao Bloco"
   ]
  },
  {
   "cell_type": "markdown",
   "metadata": {},
   "source": [
    "# Etapa 4 - Reunião de alinhamento - ajustes"
   ]
  },
  {
   "cell_type": "markdown",
   "metadata": {},
   "source": [
    "# Etapa 5 - Preparação para publicação de resultados"
   ]
  }
 ],
 "metadata": {
  "kernelspec": {
   "display_name": "Python 3",
   "language": "python",
   "name": "python3"
  },
  "language_info": {
   "codemirror_mode": {
    "name": "ipython",
    "version": 3
   },
   "file_extension": ".py",
   "mimetype": "text/x-python",
   "name": "python",
   "nbconvert_exporter": "python",
   "pygments_lexer": "ipython3",
   "version": "3.12.1"
  }
 },
 "nbformat": 4,
 "nbformat_minor": 2
}
