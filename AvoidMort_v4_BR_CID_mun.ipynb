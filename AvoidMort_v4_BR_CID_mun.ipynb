{
 "cells": [
  {
   "cell_type": "markdown",
   "metadata": {},
   "source": [
    "# Elementos da versão\n",
    "\n",
    "Antes mesmo de falar do projeto, ao longo do desenvolvimento, vamos explicitando qual o objetivo de cada versão de trabalho do arquivo principal.\n",
    "\n",
    "O objetivo desta AvoidMort_v4_BR_CID_mun é criar um dataset de mortalidades gerais para servir de comparação para a mortalidade evitável.\n",
    "\n",
    "O dataset final deverá ter as seguintes características:\n",
    "\n",
    "* setting: Brasil [poderemos encontrar um sufixo a Brasil que permita a sua subclassificação e carga deste dataset junto a outros]\n",
    "* dimension: CID\n",
    "* subgroup: municípios\n",
    "* estimate: mortalidade por município\n",
    "* setting-average: mortalidade por Brasil"
   ]
  },
  {
   "cell_type": "markdown",
   "metadata": {},
   "source": [
    "# Projeto de Análise de Desigualdade em Saúde no modelo HEAT/OMS\n",
    "## Bloco 2025/1 = análise do sistema de mortalidade do SUS com agregação por unidades federativas\n",
    "\n",
    "\n"
   ]
  },
  {
   "cell_type": "markdown",
   "metadata": {},
   "source": [
    "#### Aspectos gerais e participantes"
   ]
  },
  {
   "cell_type": "markdown",
   "metadata": {},
   "source": [
    "Projeto Desenvolvido em parceria da MS/SECTICS/DESID com a Organização Mundial de Saúde\n",
    "\n",
    "Elaborado em linguagem Python, utilizando a biblioteca pysus para acesso ao SIM (Sistema de Informações de Mortalidade do SUS)\n",
    "\n",
    "Coordenador-geral:\n",
    "\n",
    "Coordenadores: \n",
    "\n",
    "Cientista de dados: Marcos Mesquita\n",
    "\n",
    "Outros participantes:\n",
    "\n",
    "Data: 06/12/2024\n"
   ]
  },
  {
   "cell_type": "markdown",
   "metadata": {},
   "source": [
    "#### Objetivos"
   ]
  },
  {
   "cell_type": "markdown",
   "metadata": {},
   "source": [
    "O principal objetivo desse projeto é realizar a avaliação de desigualdade na saúde no Brasil com ênfase para a dimensão de unidades subnacionais, estados e municípios brasileiros, a partir da aplicação do modelo do HEAT, tendo como objetivos específicos:\n",
    "\n",
    "- Apresentar indicadores de saúde no Brasil desagregados por subunidades nacionais em uma visualização interativa a partir do modelo do HEAT Plus;\n",
    "- Oferecer um repositório comum e atualizado com dados de desigualdade da saúde no Brasil desagregados por estados e municípios em um modelo sob reconhecimento internacional;\n",
    "- Permitir exploração e acesso dos dados e da metodologia para outros tipos de análises."
   ]
  },
  {
   "cell_type": "markdown",
   "metadata": {},
   "source": [
    "# Etapa 1 - Definição do Bloco\n",
    "\n",
    "O projeto ocorrerá em blocos sucessivos, nos quais serão definidos o problema e os indicadores a serem analisados."
   ]
  },
  {
   "cell_type": "markdown",
   "metadata": {},
   "source": [
    "### Definição do problema do bloco\n"
   ]
  },
  {
   "cell_type": "markdown",
   "metadata": {},
   "source": [
    "\n",
    " H0 - as unidades federativa são variáveis determinantes para mortalidade no país"
   ]
  },
  {
   "cell_type": "markdown",
   "metadata": {},
   "source": [
    "### Escopo do Bloco 1"
   ]
  },
  {
   "cell_type": "markdown",
   "metadata": {},
   "source": [
    "\n",
    "* indicador: mortalidade (número de mortes por população, dados de morte do SIM/SUS e dados populacionais pelo Censos de 2010 e 2022)\n",
    "* localização: todo o Brasil, com agregação de mortalidade por Estados e Municípios\n",
    "* período: 2010 e 2022 \n",
    "* doenças: “doenças evitáveis” conforme definido pelo OCDE\n",
    "* outros critérios de filtro: até 74 anos de idade (em razão da aplicação do critério de \"doenças evitáveis\")"
   ]
  },
  {
   "cell_type": "markdown",
   "metadata": {},
   "source": [
    "# Etapa 2 - Análise primária dos dados por bloco"
   ]
  },
  {
   "cell_type": "markdown",
   "metadata": {},
   "source": [
    "## Aspectos teóricos e técnicos das fontes"
   ]
  },
  {
   "cell_type": "markdown",
   "metadata": {},
   "source": [
    "\n",
    "#### Aspectos técnicos - ambiente, linguagem e ferramentas principais\n",
    "\n",
    "A análise será feita utilizando a linguagem Python e a biblioteca Pysus que permite acesso às principais bases do SUS de forma direta.\n",
    "O Pysus exige um ambiente linux para execução de alguns comandos o que foi possível, mesmo em uma máquina Windows, a partir do WSL do Windows.\n",
    "Foi criado um ambiente em WSL e o conjunto da extração, tratamento e análise dos dados foi realizado no formato Notebook em um editor VSCode, dentro de um Dev Container: Default Linux Universal.\n",
    "\n",
    "\n",
    "#### Morte e mortalidade no HEAT\n",
    "\n",
    "Para entendermos como o HEAT trata a mortalidade, fizemos uma busca de indicadores de mortalidade no WHO Health Inequality Data Repository.\n",
    "\n",
    "O repositório traz dados e metadados de todos os indicadores utilizados pelo HEAT.\n",
    "Apresenta um total de 3915 indicadores, distribuídos entre 14 seções.\n",
    "\n",
    "Foi feita uma revisão geral dos indicadores relacionados à mortalidade, que depois foi refinada pela busca das seguintes palavras : “death”, “mortality”, “fatal”, ‘fatality” ,“Probability of dying”, “suicide”. E foram encontrados 388 indicadores que trazem uma destas expressões na sua descrição.\n",
    "\n",
    "\n",
    "#### SIM (Sistema de Informações de Mortalidade do SUS)\n",
    "\n",
    "A mortalidade e os indicadores de morte serão buscados no SIM (Sistema de Informações de Mortalidade do SUS).\n",
    "O SIM disponibiliza dados de mortes no Brasil desde 1996 por ocorrências, gerido pelo Departamento de Análise de Situação de Saúde, da Secretaria de Vigilância em Saúde do Ministério da Saúde, em conjunto com as Secretarias Estaduais e Municipais de Saúde. Estas últimas responsáveis efetivamente pela coleta dos dados.\n",
    "\n",
    "O SIM traz informações do indivíduo, como sexo, idade, localidade e causas da morte, classificadas de acordo com o CID (Classificação Internacional de Doenças e Problemas Relacionadas à Saúde).\n",
    "\n",
    "\n",
    "#### CID (Classificação Internacional de Doenças e Problemas Relacionadas à Saúde)\n",
    "\n",
    "Com o intuito de padronizar a nomenclatura de patologias e com abrangência para todo o mundo, foi elaborado pela Organização Mundial da Saúde (OMS) uma  classificação internacional de doenças, a CID (Classificação Internacional de Doenças e Problemas Relacionadas à Saúde). \n",
    "\n",
    "A Classificação é atualizada periodicamente. A versão mais atual é a CID11, publicada em janeiro de 2022.\n",
    "\n",
    "No entanto, por se tratar de revisão que traz impactos nos registros e que exige considerável atualização das ferramentas de captura das informações, o SIM utiliza versões anteriores da CID.\n",
    "- CID9 - dados até 1995\n",
    "- CID10 - a partir de 1996 até a data atual\n",
    "\n",
    "Em razão do recorte temporal dos dados, de 1998 a 2022, iremos utilizar somente a CID10.\n",
    "A CID10 é organizada em 22 capítulos e possui, além da classificação de doenças, descrição de códigos que permitem identificar sinais, sintomas, queixas, causas externas e circunstâncias sociais.\n",
    "\n",
    "\n",
    "#### CID de doenças evitáveis\n",
    "\n",
    "Como elemento do escopo deste trabalho iremos tratar de doenças evitáveis.\n",
    "\n",
    "O Brasil, a partir da Secretaria de Vigilância em Saúde apresenta uma classificação de doenças evitáveis. \n",
    "\n",
    "Lista de causas evitáveis pode ser encontrada nos links: http://tabnet.datasus.gov.br/cgi/sim/Obitos_Evitaveis_0_a_4_anos.pdf\n",
    "\n",
    "\n",
    "\n",
    "\n",
    "#### População (Censo)\n",
    "\n",
    "\n",
    "Os dados de população são os do Censo, acessados pelo site do IBGE, https://sidra.ibge.gov.br/Tabela/9606\n",
    "\n",
    "\n",
    "\n",
    "\n"
   ]
  },
  {
   "cell_type": "markdown",
   "metadata": {},
   "source": [
    "## Instalação e importação de bibliotecas"
   ]
  },
  {
   "cell_type": "markdown",
   "metadata": {},
   "source": [
    "#### Instalação de bibliotecas"
   ]
  },
  {
   "cell_type": "code",
   "execution_count": null,
   "metadata": {},
   "outputs": [],
   "source": [
    "# Costuma ser exigida a instalação destas bibliotecas no primeiro acesso ao Pysus\n",
    "!apt-get update  \n",
    "!apt-get install libffi-dev  # Install libffi-dev\n",
    "!pip install --upgrade pip  # Ensure pip is up to date\n",
    "!pip install pysus # Exa\n",
    "!pip install gdown\n",
    "!pip install pylance\n",
    "!pip install tabulate"
   ]
  },
  {
   "cell_type": "markdown",
   "metadata": {},
   "source": [
    "#### Importação de bibliotecas"
   ]
  },
  {
   "cell_type": "code",
   "execution_count": 1,
   "metadata": {},
   "outputs": [],
   "source": [
    "# importar biblioteca básicas para manipulação de dados\n",
    "import pandas as pd\n",
    "import numpy as np\n",
    "import os\n",
    "import sidrapy\n",
    "import requests # para carga de endereços web - api\n",
    "import gdown\n",
    "import openpyxl\n",
    "from tabulate import tabulate\n"
   ]
  },
  {
   "cell_type": "code",
   "execution_count": 4,
   "metadata": {},
   "outputs": [],
   "source": [
    "# importar bibliotecas para carga dos dados\n",
    "import pysus\n",
    "# import pylance\n",
    "from pysus import SIM\n",
    "from pysus.online_data.SIM import download\n",
    "from pysus.preprocessing.decoders import translate_variables_SIM\n",
    "from pysus.preprocessing.SIM import group_and_count, redistribute_missing, redistribute_cid_chapter\n",
    "from pysus.online_data.SIM import get_CID9_table, get_CID10_table, get_municipios, get_ocupations\n",
    "from ftplib import FTP\n",
    "from pathlib import Path  "
   ]
  },
  {
   "cell_type": "code",
   "execution_count": 2,
   "metadata": {},
   "outputs": [
    {
     "name": "stdout",
     "output_type": "stream",
     "text": [
      "\u001b[33m ==> Este texto será impresso em amarelo!\u001b[0m\n",
      "Este em normal!\n"
     ]
    }
   ],
   "source": [
    "# Para organizar resultados, gerar prints em amarelo\n",
    "\n",
    "def print_y(text):\n",
    "  \"\"\"Imprime o texto fornecido na cor amarela.\n",
    "\n",
    "  Args:\n",
    "    text: O texto a ser impresso.\n",
    "  \"\"\"\n",
    "  print(f\"\\033[33m ==> {text}\\033[0m\")\n",
    "\n",
    "# Exemplo de uso:\n",
    "print_y(\"Este texto será impresso em amarelo!\")\n",
    "print(\"Este em normal!\")"
   ]
  },
  {
   "cell_type": "markdown",
   "metadata": {},
   "source": [
    "#### Diretórios - configuração"
   ]
  },
  {
   "cell_type": "code",
   "execution_count": null,
   "metadata": {},
   "outputs": [],
   "source": [
    "# Definir diretório padrão para pysus\n",
    "pysus.online_data.SIM.CACHEPATH=\"./downloads_sim_original\"\n",
    "# Definir pasta para download de arquivos csv e parquet\n",
    "import os \n",
    "\n",
    "# Define diretório para armazenar arquivos do sim (carregados por pysus) quando o SIM.CACHEPATH não funcionar\n",
    "os.makedirs('downloads_sim_original', exist_ok=True)  \n",
    "downloads_sim = \"downloads_sim_original\"\n",
    "\n",
    "# Define diretório para armazenar outros arquivos\n",
    "os.makedirs('downloads_outros_v2', exist_ok=True)  \n",
    "\n",
    "# Define diretório para armazenar arquivos trabalhados\n",
    "os.makedirs('files_clean_v2', exist_ok=True) \n",
    "\n",
    "\n",
    "# Define diretório para exportar arquivos finais ou de relatórios\n",
    "os.makedirs('exportar_v2', exist_ok=True) "
   ]
  },
  {
   "cell_type": "markdown",
   "metadata": {},
   "source": [
    "#### Acesso ao SIM"
   ]
  },
  {
   "cell_type": "code",
   "execution_count": 4,
   "metadata": {},
   "outputs": [],
   "source": [
    "sim = SIM().load() # Loads the files from DATASUS"
   ]
  },
  {
   "cell_type": "code",
   "execution_count": 5,
   "metadata": {},
   "outputs": [
    {
     "data": {
      "text/plain": [
       "(/dissemin/publicos/SIM/CID10/DORES, /dissemin/publicos/SIM/CID9/DORES)"
      ]
     },
     "execution_count": 5,
     "metadata": {},
     "output_type": "execute_result"
    }
   ],
   "source": [
    "sim.paths"
   ]
  },
  {
   "cell_type": "code",
   "execution_count": 6,
   "metadata": {},
   "outputs": [
    {
     "data": {
      "text/plain": [
       "{'CID10': 'DO', 'CID9': 'DOR'}"
      ]
     },
     "execution_count": 6,
     "metadata": {},
     "output_type": "execute_result"
    }
   ],
   "source": [
    "sim.groups"
   ]
  },
  {
   "cell_type": "markdown",
   "metadata": {},
   "source": [
    "## Arquivo principal - DO\n",
    "\n",
    "DO - Declaração de Óbito, conforme acessado no SIM"
   ]
  },
  {
   "cell_type": "markdown",
   "metadata": {},
   "source": [
    "#### Carga SIM principal"
   ]
  },
  {
   "cell_type": "code",
   "execution_count": 32,
   "metadata": {},
   "outputs": [
    {
     "name": "stderr",
     "output_type": "stream",
     "text": [
      "DOTO2010.parquet: 100%|██████████| 16.6k/16.6k [00:00<00:00, 51.3kB/s]\n"
     ]
    }
   ],
   "source": [
    "# Carrega os dados do SIM para o ano de 2010\n",
    "# Definição de variáveis\n",
    "grupo = \"CID10\" # Agrupamento por CID10\n",
    "uf = \"\" # A sigla BR carrega dados de todos as unidades federativas\n",
    "ano = [2010] # Anos do escopo, 2010 e 2022\n",
    "local = downloads_sim # Local para armazenar os arquivos, definido nas etapas anteriores\n",
    "\n",
    "# sim.get_files(\"CID10\", uf=\"BR\", year=2010)\n",
    "dobr_2010 = download(grupo,uf,ano,downloads_sim) # Carrega os dados do SIM\n",
    "# dobr2010 = download(\"CID10\",\"BR\",2010,'TESTE_EXCLUIR') # Carrega os dados do SIM\n",
    "# dobr2010 "
   ]
  },
  {
   "cell_type": "code",
   "execution_count": 8,
   "metadata": {},
   "outputs": [
    {
     "name": "stderr",
     "output_type": "stream",
     "text": [
      "0it [00:00, ?it/s]\n"
     ]
    }
   ],
   "source": [
    "# Carrega os dados do SIM para os demais anos\n",
    "# Definição de variáveis\n",
    "grupo = \"CID10\" # Agrupamento por CID10\n",
    "uf = \"BR\" # A sigla BR carrega dados de todos as unidades federativas\n",
    "ano = [2019,2020,2021,2022] # Anos do escopo, 2010 e 2022\n",
    "local = downloads_sim # Local para armazenar os arquivos, definido nas etapas anteriores\n",
    "\n",
    "# sim.get_files(\"CID10\", uf=\"BR\", year=2010)\n",
    "dobr2010 = download(grupo,uf,ano,downloads_sim) # Carrega os dados do SIM\n",
    "# dobr2010 = download(\"CID10\",\"BR\",2010,'TESTE_EXCLUIR') # Carrega os dados do SIM\n",
    "# dobr2010 "
   ]
  },
  {
   "cell_type": "code",
   "execution_count": null,
   "metadata": {},
   "outputs": [],
   "source": [
    "# dodf = dobr.to_dataframe()"
   ]
  },
  {
   "cell_type": "markdown",
   "metadata": {},
   "source": [
    "### Tratamento do arquivo principal\n",
    "\n",
    "O dicionário do SIM está em \"./Estrutura_SIM_para_CD.pdf\"\n",
    "\n",
    "Trabalhamos o CID presente no campo CAUSABAS.\n",
    "\n",
    "Em razão do escopo da População Estimada (que apresenta dados por Município, mas não de outras variáveis de desigualdade) a primeira versão será um recorte da base DOBR com os dados de CID ('CAUSABAS'), idade (a partir do tratamento de 'DTNASC'), e de Município (a partir do tratamento de 'CODMUNRES').\n",
    "\n",
    "Por se tratar de doenças evitáveis, o primeiro filtro a ser feito é com base na idade de óbito, que deve ser abaixo de 75 anos.\n",
    "\n",
    "A idade de óbito está presente no campo IDADE. Ela é composta de 3 dígitos, o primeiro identifica se a contagem é por dias(1), semanas(2), meses (3), ano (4), mais de 100 anos (5).\n",
    "\n",
    "Em razão disto, vamos desconsiderar todos os valores de dígito 4 e mais de 75 (475).\n",
    "\n",
    "\n",
    "Iremos tratar do arquivo de 2010 separado dos outros anos pela especificade daquele arquivo.\n",
    "\n"
   ]
  },
  {
   "cell_type": "code",
   "execution_count": 13,
   "metadata": {},
   "outputs": [
    {
     "name": "stdout",
     "output_type": "stream",
     "text": [
      "<class 'pandas.core.frame.DataFrame'>\n",
      "RangeIndex: 1136947 entries, 0 to 1136946\n",
      "Data columns (total 60 columns):\n",
      " #   Column      Non-Null Count    Dtype \n",
      "---  ------      --------------    ----- \n",
      " 0   CONTADOR    1133938 non-null  object\n",
      " 1   ORIGEM      1136947 non-null  object\n",
      " 2   TIPOBITO    1136947 non-null  object\n",
      " 3   DTOBITO     1136947 non-null  object\n",
      " 4   HORAOBITO   1136947 non-null  object\n",
      " 5   NATURAL     1136947 non-null  object\n",
      " 6   DTNASC      1136947 non-null  object\n",
      " 7   IDADE       1136947 non-null  object\n",
      " 8   SEXO        1136947 non-null  object\n",
      " 9   RACACOR     1136947 non-null  object\n",
      " 10  ESTCIV      1136947 non-null  object\n",
      " 11  ESC         1136947 non-null  object\n",
      " 12  OCUP        1136947 non-null  object\n",
      " 13  CODMUNRES   1136947 non-null  object\n",
      " 14  CODBAIRES   1136947 non-null  object\n",
      " 15  LOCOCOR     1136947 non-null  object\n",
      " 16  CODESTAB    1136947 non-null  object\n",
      " 17  CODMUNOCOR  1136947 non-null  object\n",
      " 18  CODBAIOCOR  1136947 non-null  object\n",
      " 19  IDADEMAE    1136947 non-null  object\n",
      " 20  ESCMAE      1136947 non-null  object\n",
      " 21  OCUPMAE     1136947 non-null  object\n",
      " 22  QTDFILVIVO  1136947 non-null  object\n",
      " 23  QTDFILMORT  1136947 non-null  object\n",
      " 24  GRAVIDEZ    1136947 non-null  object\n",
      " 25  GESTACAO    1136947 non-null  object\n",
      " 26  PARTO       1136947 non-null  object\n",
      " 27  OBITOPARTO  1136947 non-null  object\n",
      " 28  PESO        1136947 non-null  object\n",
      " 29  OBITOGRAV   1136947 non-null  object\n",
      " 30  OBITOPUERP  1136947 non-null  object\n",
      " 31  ASSISTMED   1136947 non-null  object\n",
      " 32  EXAME       1136947 non-null  object\n",
      " 33  CIRURGIA    1136947 non-null  object\n",
      " 34  NECROPSIA   1136947 non-null  object\n",
      " 35  LINHAA      1136947 non-null  object\n",
      " 36  LINHAB      1136947 non-null  object\n",
      " 37  LINHAC      1136947 non-null  object\n",
      " 38  LINHAD      1136947 non-null  object\n",
      " 39  LINHAII     1136947 non-null  object\n",
      " 40  CAUSABAS    1136947 non-null  object\n",
      " 41  DTATESTADO  1136947 non-null  object\n",
      " 42  CIRCOBITO   1136947 non-null  object\n",
      " 43  ACIDTRAB    1136947 non-null  object\n",
      " 44  FONTE       1136947 non-null  object\n",
      " 45  TPPOS       1136947 non-null  object\n",
      " 46  DTINVESTIG  1136947 non-null  object\n",
      " 47  CAUSABAS_O  1136947 non-null  object\n",
      " 48  DTCADASTRO  1136947 non-null  object\n",
      " 49  ATESTANTE   1136947 non-null  object\n",
      " 50  FONTEINV    1136947 non-null  object\n",
      " 51  DTRECEBIM   1136947 non-null  object\n",
      " 52  UFINFORM    1136947 non-null  object\n",
      " 53  CB_PRE      1136947 non-null  object\n",
      " 54  MORTEPARTO  1136947 non-null  object\n",
      " 55  DTCADINF    1136947 non-null  object\n",
      " 56  TPOBITOCOR  1136947 non-null  object\n",
      " 57  DTCADINV    1136947 non-null  object\n",
      " 58  contador    3009 non-null     object\n",
      " 59  NUMERODN    3009 non-null     object\n",
      "dtypes: object(60)\n",
      "memory usage: 520.5+ MB\n"
     ]
    }
   ],
   "source": [
    "# Acessar os dados do SIM de 2010 como 1 dataframe\n",
    "\n",
    "# Definir o diretório onde os arquivos estão localizados\n",
    "directory = 'downloads_sim_original'\n",
    "\n",
    "# Listar todos os arquivos na pasta\n",
    "file_list = os.listdir(directory)\n",
    "\n",
    "# Filtrar apenas os arquivos parquet\n",
    "parquet_files = [file for file in file_list if file.endswith('2010.parquet')]\n",
    "\n",
    "# Inicializar uma lista para armazenar os dataframes\n",
    "dataframes = []\n",
    "\n",
    "# Iterar sobre os arquivos parquet e ler cada um em um dataframe\n",
    "for file in parquet_files:\n",
    "    file_path = os.path.join(directory, file)\n",
    "    df = pd.read_parquet(file_path)\n",
    "    dataframes.append(df)\n",
    "\n",
    "# Concatenar todos os dataframes em um único dataframe\n",
    "dobr_10_temp = pd.concat(dataframes, ignore_index=True)\n",
    "\n",
    "# Exibir informações do dataframe combinado\n",
    "dobr_10_temp.info()"
   ]
  },
  {
   "cell_type": "code",
   "execution_count": 14,
   "metadata": {
    "vscode": {
     "languageId": "shellscript"
    }
   },
   "outputs": [
    {
     "data": {
      "text/plain": [
       "1136947"
      ]
     },
     "execution_count": 14,
     "metadata": {},
     "output_type": "execute_result"
    }
   ],
   "source": [
    "# Excluir valores nulos da coluna CAUSABAS\n",
    "dobr_10_temp01 = dobr_10_temp.dropna(subset=['CAUSABAS'])\n",
    "dobr_10_temp01.shape[0]\n"
   ]
  },
  {
   "cell_type": "code",
   "execution_count": 15,
   "metadata": {
    "vscode": {
     "languageId": "shellscript"
    }
   },
   "outputs": [
    {
     "name": "stdout",
     "output_type": "stream",
     "text": [
      "<class 'pandas.core.frame.DataFrame'>\n",
      "RangeIndex: 1136947 entries, 0 to 1136946\n",
      "Data columns (total 4 columns):\n",
      " #   Column     Non-Null Count    Dtype \n",
      "---  ------     --------------    ----- \n",
      " 0   DTOBITO    1136947 non-null  object\n",
      " 1   CAUSABAS   1136947 non-null  object\n",
      " 2   CODMUNRES  1136947 non-null  object\n",
      " 3   IDADE      1136947 non-null  object\n",
      "dtypes: object(4)\n",
      "memory usage: 34.7+ MB\n"
     ]
    }
   ],
   "source": [
    "# Reduzir as colunas\n",
    "dobr_10_temp02 = dobr_10_temp01[['DTOBITO','CAUSABAS', 'CODMUNRES','IDADE']]\n",
    "\n",
    "# Exibir informações do dataframe após a exclusão\n",
    "dobr_10_temp02.info()"
   ]
  },
  {
   "cell_type": "code",
   "execution_count": 16,
   "metadata": {},
   "outputs": [
    {
     "data": {
      "text/plain": [
       "1136947"
      ]
     },
     "execution_count": 16,
     "metadata": {},
     "output_type": "execute_result"
    }
   ],
   "source": [
    "# Arquivo para doenças evitáveis - excluir maiores de 74 anos\n",
    "dobr_10_temp03 = dobr_10_temp02.copy()\n",
    "\n",
    "# Substituir valores '     ' e '-' por '0' na coluna IDADE\n",
    "dobr_10_temp03['IDADE'] = dobr_10_temp03['IDADE'].replace(['     '], '0')\n",
    "\n",
    "# transformar IDADE em inteiro e excluir valores maiores que 474\n",
    "dobr_10_temp03['IDADE'] = dobr_10_temp03['IDADE'].astype(int)\n",
    "\n",
    "dobr_10_temp03.shape[0]\n"
   ]
  },
  {
   "cell_type": "code",
   "execution_count": 18,
   "metadata": {},
   "outputs": [
    {
     "name": "stdout",
     "output_type": "stream",
     "text": [
      "<class 'pandas.core.frame.DataFrame'>\n",
      "RangeIndex: 722229 entries, 0 to 722228\n",
      "Data columns (total 4 columns):\n",
      " #   Column     Non-Null Count   Dtype \n",
      "---  ------     --------------   ----- \n",
      " 0   DTOBITO    722229 non-null  object\n",
      " 1   CAUSABAS   722229 non-null  object\n",
      " 2   CODMUNRES  722229 non-null  object\n",
      " 3   IDADE      722229 non-null  int64 \n",
      "dtypes: int64(1), object(3)\n",
      "memory usage: 22.0+ MB\n"
     ]
    }
   ],
   "source": [
    "# Filtrar as idades menores de 75\n",
    "dobr_10_temp04 = dobr_10_temp03[dobr_10_temp03['IDADE'] < 475].reset_index(drop=True)\n",
    "dobr_10_temp04.info()"
   ]
  },
  {
   "cell_type": "code",
   "execution_count": 2,
   "metadata": {},
   "outputs": [],
   "source": [
    "# Carregar e tratar arquivos de DO de outros anos\n",
    "\n",
    "# Read the parquet files\n",
    "dobr2019 = pd.read_parquet('downloads_sim_original/DOBR2019.parquet')\n",
    "dobr2020 = pd.read_parquet('downloads_sim_original/DOBR2020.parquet')\n",
    "dobr2021 = pd.read_parquet('downloads_sim_original/DOBR2021.parquet')\n",
    "dobr2022 = pd.read_parquet('downloads_sim_original/DOBR2022.parquet')\n",
    "\n",
    "# Concatenate the dataframes\n",
    "dobr_19a22_temp = pd.concat([dobr2019,dobr2020,dobr2021,dobr2022], ignore_index=True)"
   ]
  },
  {
   "cell_type": "code",
   "execution_count": 4,
   "metadata": {},
   "outputs": [
    {
     "data": {
      "text/plain": [
       "6283540"
      ]
     },
     "execution_count": 4,
     "metadata": {},
     "output_type": "execute_result"
    }
   ],
   "source": [
    "dobr_19a22_temp.shape[0]"
   ]
  },
  {
   "cell_type": "code",
   "execution_count": 6,
   "metadata": {},
   "outputs": [
    {
     "data": {
      "text/plain": [
       "6283540"
      ]
     },
     "execution_count": 6,
     "metadata": {},
     "output_type": "execute_result"
    }
   ],
   "source": [
    "# Filtrar campos\n",
    "dobr_19a22_temp01 = dobr_19a22_temp[['DTOBITO','CAUSABAS', 'CODMUNRES','IDADE']]\n",
    "dobr_19a22_temp01.shape[0]"
   ]
  },
  {
   "cell_type": "code",
   "execution_count": 11,
   "metadata": {},
   "outputs": [],
   "source": [
    "# transformar IDADE em inteiro \n",
    "dobr_19a22_temp02 = dobr_19a22_temp01.copy()\n",
    "dobr_19a22_temp02['IDADE'] = dobr_19a22_temp02['IDADE'].astype(int)\n"
   ]
  },
  {
   "cell_type": "code",
   "execution_count": 12,
   "metadata": {},
   "outputs": [
    {
     "name": "stdout",
     "output_type": "stream",
     "text": [
      "<class 'pandas.core.frame.DataFrame'>\n",
      "Index: 3724693 entries, 1 to 6283539\n",
      "Data columns (total 5 columns):\n",
      " #   Column     Dtype \n",
      "---  ------     ----- \n",
      " 0   DTOBITO    object\n",
      " 1   CAUSABAS   object\n",
      " 2   CODMUNRES  object\n",
      " 3   IDADE      int64 \n",
      " 4   IDADE_     int64 \n",
      "dtypes: int64(2), object(3)\n",
      "memory usage: 170.5+ MB\n"
     ]
    }
   ],
   "source": [
    "# Excluir valores maiores que 474\n",
    "dobr_19a22_temp03 = dobr_19a22_temp02[dobr_19a22_temp02['IDADE'] < 475]\n",
    "\n",
    "# Display the combined dataframe\n",
    "dobr_19a22_temp03.info()"
   ]
  },
  {
   "cell_type": "code",
   "execution_count": 19,
   "metadata": {},
   "outputs": [
    {
     "name": "stdout",
     "output_type": "stream",
     "text": [
      "<class 'pandas.core.frame.DataFrame'>\n",
      "RangeIndex: 4446922 entries, 0 to 4446921\n",
      "Data columns (total 5 columns):\n",
      " #   Column     Dtype  \n",
      "---  ------     -----  \n",
      " 0   DTOBITO    object \n",
      " 1   CAUSABAS   object \n",
      " 2   CODMUNRES  object \n",
      " 3   IDADE      int64  \n",
      " 4   IDADE_     float64\n",
      "dtypes: float64(1), int64(1), object(3)\n",
      "memory usage: 169.6+ MB\n"
     ]
    }
   ],
   "source": [
    "# Concatenate the dataframes\n",
    "dobr_10_19a22_temp = pd.concat([dobr_19a22_temp03,dobr_10_temp04], ignore_index=True)\n",
    "dobr_10_19a22_temp.info()"
   ]
  },
  {
   "cell_type": "code",
   "execution_count": 25,
   "metadata": {},
   "outputs": [
    {
     "name": "stdout",
     "output_type": "stream",
     "text": [
      "\u001b[33m ==>  O arquivo de declarações de óbito dos anos de 2010,2019,2020,2021 e 2022 tem o total de 4446922 registros \u001b[0m\n"
     ]
    }
   ],
   "source": [
    "# Resultado\n",
    "\n",
    "shape1 = dobr_10_19a22_temp.CAUSABAS.count()\n",
    "\n",
    "print_y(f\" O arquivo de declarações de óbito dos anos de 2010,2019,2020,2021 e 2022 tem o total de {shape1} registros \")\n"
   ]
  },
  {
   "cell_type": "code",
   "execution_count": 22,
   "metadata": {
    "vscode": {
     "languageId": "shellscript"
    }
   },
   "outputs": [
    {
     "data": {
      "text/html": [
       "<div>\n",
       "<style scoped>\n",
       "    .dataframe tbody tr th:only-of-type {\n",
       "        vertical-align: middle;\n",
       "    }\n",
       "\n",
       "    .dataframe tbody tr th {\n",
       "        vertical-align: top;\n",
       "    }\n",
       "\n",
       "    .dataframe thead th {\n",
       "        text-align: right;\n",
       "    }\n",
       "</style>\n",
       "<table border=\"1\" class=\"dataframe\">\n",
       "  <thead>\n",
       "    <tr style=\"text-align: right;\">\n",
       "      <th></th>\n",
       "      <th>CAUSABAS</th>\n",
       "      <th>CODMUNRES</th>\n",
       "      <th>ANO_OBITO</th>\n",
       "    </tr>\n",
       "  </thead>\n",
       "  <tbody>\n",
       "    <tr>\n",
       "      <th>0</th>\n",
       "      <td>I219</td>\n",
       "      <td>_292740</td>\n",
       "      <td>_2019</td>\n",
       "    </tr>\n",
       "    <tr>\n",
       "      <th>1</th>\n",
       "      <td>I10</td>\n",
       "      <td>_355100</td>\n",
       "      <td>_2019</td>\n",
       "    </tr>\n",
       "    <tr>\n",
       "      <th>2</th>\n",
       "      <td>X700</td>\n",
       "      <td>_500630</td>\n",
       "      <td>_2019</td>\n",
       "    </tr>\n",
       "    <tr>\n",
       "      <th>3</th>\n",
       "      <td>C539</td>\n",
       "      <td>_500500</td>\n",
       "      <td>_2019</td>\n",
       "    </tr>\n",
       "    <tr>\n",
       "      <th>4</th>\n",
       "      <td>V220</td>\n",
       "      <td>_500627</td>\n",
       "      <td>_2019</td>\n",
       "    </tr>\n",
       "  </tbody>\n",
       "</table>\n",
       "</div>"
      ],
      "text/plain": [
       "  CAUSABAS CODMUNRES ANO_OBITO\n",
       "0     I219   _292740     _2019\n",
       "1     I10    _355100     _2019\n",
       "2     X700   _500630     _2019\n",
       "3     C539   _500500     _2019\n",
       "4     V220   _500627     _2019"
      ]
     },
     "execution_count": 22,
     "metadata": {},
     "output_type": "execute_result"
    }
   ],
   "source": [
    "# Ajustar os campos\n",
    "dobr_10_19a22_temp01 = dobr_10_19a22_temp.copy()\n",
    "\n",
    "# assegurar CODMUNRES como string\n",
    "dobr_10_19a22_temp01['CODMUNRES'] = '_' + dobr_10_19a22_temp01['CODMUNRES'].astype(str).str[:6]\n",
    "\n",
    "# campo ano_obito formado pelos 4 últimos caracteres de DTOBITO, como número\n",
    "dobr_10_19a22_temp01['ANO_OBITO'] = '_' + dobr_10_19a22_temp01['DTOBITO'].str[-4:]\n",
    "\n",
    "# excluir colunas DTOBITO e IDADE\n",
    "dobr_10_19a22_temp02 = dobr_10_19a22_temp01.drop(['DTOBITO','IDADE','IDADE_'], axis=1)\n",
    "\n",
    "# Exibir as primeiras linhas do DataFrame resultante\n",
    "dobr_10_19a22_temp02.head()"
   ]
  },
  {
   "cell_type": "markdown",
   "metadata": {},
   "source": [
    "#### Resultados e geração de arquivo DOBR"
   ]
  },
  {
   "cell_type": "code",
   "execution_count": 23,
   "metadata": {},
   "outputs": [],
   "source": [
    "# Salvar arquivo em parquet\n",
    "dobr_10_19a22_temp02.to_parquet('files_clean/dobr_10_19a22.parquet')"
   ]
  },
  {
   "cell_type": "code",
   "execution_count": 29,
   "metadata": {},
   "outputs": [
    {
     "name": "stdout",
     "output_type": "stream",
     "text": [
      "\u001b[33m ==> O número de registros de óbitos originais por ano:\n",
      "        * 2010: 1136947\n",
      "        * 2019: 1349801\n",
      "        * 2020: 1556824\n",
      "        * 2021: 1832649\n",
      "        * 2022: 1544266\n",
      "        \u001b[0m\n",
      "\u001b[33m ==> O número de registros excluídos por apresentar idade maior de 74 anos foi de 2973565 registros\u001b[0m\n",
      "\u001b[33m ==> O número de registros de óbitos resultantes é de 4446922 registros\u001b[0m\n"
     ]
    }
   ],
   "source": [
    "# Contador\n",
    "\n",
    "# apresentar valor da diferença entre os números de registros de dobr e dobr_filtered\n",
    "\n",
    "shape_2010 = dobr_10_temp.shape[0]\n",
    "shape_2019 = dobr2019.shape[0]\n",
    "shape_2020 = dobr2020.shape[0]\n",
    "shape_2021 = dobr2021.shape[0]\n",
    "shape_2022 = dobr2022.shape[0]\n",
    "shape_all = shape_2010 + shape_2019 + shape_2020 + shape_2021 + shape_2022\n",
    "\n",
    "print_y(f\"\"\"O número de registros de óbitos originais por ano:\n",
    "        * 2010: {shape_2010}\n",
    "        * 2019: {shape_2019}\n",
    "        * 2020: {shape_2020}\n",
    "        * 2021: {shape_2021}\n",
    "        * 2022: {shape_2022}\n",
    "        \"\"\")\n",
    "\n",
    "\n",
    "dif = shape_all - dobr_10_19a22_temp02.shape[0]\n",
    "print(f\"\\033[33m ==> O número de registros excluídos por apresentar idade maior de 74 anos foi de {dif} registros\\033[0m\")\n",
    "print(f\"\\033[33m ==> O número de registros de óbitos resultantes é de {dobr_10_19a22_temp02.shape[0]} registros\\033[0m\")"
   ]
  },
  {
   "cell_type": "markdown",
   "metadata": {},
   "source": [
    "## Carga SIM auxiliar\n",
    "\n",
    "O SIM traz algumas tabelas auxiliares de CID10 e municípios. \n",
    "\n",
    "Não iremos trazemos estas informações, no entanto, porque iremos utilizar dados de municípios concomitante à população do Censo do IBGE e sobre os CIDs iremos consultar a informações já da lista de doenças evitáveis, conforme OCDE."
   ]
  },
  {
   "cell_type": "code",
   "execution_count": null,
   "metadata": {},
   "outputs": [],
   "source": [
    "# # Download de tabela auxiliar de CID10\n",
    "# cid10 = get_CID10_table()\n",
    "# cid10.head()"
   ]
  },
  {
   "cell_type": "code",
   "execution_count": null,
   "metadata": {},
   "outputs": [],
   "source": [
    "# # Download de tabela auxiliar de CID10\n",
    "# munic = get_municipios()\n",
    "# print(munic.head())"
   ]
  },
  {
   "cell_type": "markdown",
   "metadata": {},
   "source": [
    "## Carga externa ao SIM\n",
    "\n",
    "Iremos carregar informações de fontes externas sobre população e CIDs de doenças evitáveis."
   ]
  },
  {
   "cell_type": "markdown",
   "metadata": {},
   "source": [
    "##### Carga de CIDs doenças evitáveis - SVS"
   ]
  },
  {
   "cell_type": "code",
   "execution_count": 19,
   "metadata": {},
   "outputs": [],
   "source": [
    "# # Download de tabela tratada de CIDs evitáveis de acordo com documentos da SVS\n",
    "\n",
    "# url = 'https://docs.google.com/spreadsheets/d/1YWurDqnBDMz4ACOEctY9uuQkEm7uSRAogzZETQrLCXk/edit?usp=drive_link'\n",
    "# # Convert the Google Sheets URL to a CSV export URL\n",
    "# csv_url = url.replace('/edit?usp=drive_link', '/export?format=csv')\n",
    "\n",
    "# # Read the CSV data into a pandas DataFrame\n",
    "# df = pd.read_csv(csv_url)\n",
    "\n",
    "# # Now you can work with the DataFrame 'df'\n",
    "# df.head()\n"
   ]
  },
  {
   "cell_type": "code",
   "execution_count": 20,
   "metadata": {},
   "outputs": [],
   "source": [
    "# # Salvar arquivo csv\n",
    "# df.to_csv('downloads_outros/cid10_evit_svs.csv', index=False)"
   ]
  },
  {
   "cell_type": "markdown",
   "metadata": {},
   "source": [
    "##### Carga de CIDs doenças evitáveis - OCDE"
   ]
  },
  {
   "cell_type": "code",
   "execution_count": null,
   "metadata": {},
   "outputs": [
    {
     "data": {
      "text/html": [
       "<div>\n",
       "<style scoped>\n",
       "    .dataframe tbody tr th:only-of-type {\n",
       "        vertical-align: middle;\n",
       "    }\n",
       "\n",
       "    .dataframe tbody tr th {\n",
       "        vertical-align: top;\n",
       "    }\n",
       "\n",
       "    .dataframe thead th {\n",
       "        text-align: right;\n",
       "    }\n",
       "</style>\n",
       "<table border=\"1\" class=\"dataframe\">\n",
       "  <thead>\n",
       "    <tr style=\"text-align: right;\">\n",
       "      <th></th>\n",
       "      <th>avoid_flag</th>\n",
       "      <th>prevent_flag</th>\n",
       "      <th>treat_flag</th>\n",
       "      <th>Group</th>\n",
       "      <th>Causes of deaths</th>\n",
       "      <th>Rationale for inclusion</th>\n",
       "      <th>Range</th>\n",
       "      <th>cid_pai</th>\n",
       "    </tr>\n",
       "  </thead>\n",
       "  <tbody>\n",
       "    <tr>\n",
       "      <th>0</th>\n",
       "      <td>Avoidable mortality</td>\n",
       "      <td>Preventable mortality</td>\n",
       "      <td>NaN</td>\n",
       "      <td>Infectious diseases</td>\n",
       "      <td>Intestinal diseases</td>\n",
       "      <td>Most of these infections can be prevented thro...</td>\n",
       "      <td>(A00-A09)</td>\n",
       "      <td>A0</td>\n",
       "    </tr>\n",
       "    <tr>\n",
       "      <th>1</th>\n",
       "      <td>Avoidable mortality</td>\n",
       "      <td>Preventable mortality</td>\n",
       "      <td>NaN</td>\n",
       "      <td>Infectious diseases</td>\n",
       "      <td>Diphtheria, Tetanus, Poliomyelitis</td>\n",
       "      <td>Most of these infections can be prevented thro...</td>\n",
       "      <td>(A35, A36, A80)</td>\n",
       "      <td>A35</td>\n",
       "    </tr>\n",
       "    <tr>\n",
       "      <th>2</th>\n",
       "      <td>Avoidable mortality</td>\n",
       "      <td>Preventable mortality</td>\n",
       "      <td>NaN</td>\n",
       "      <td>Infectious diseases</td>\n",
       "      <td>Diphtheria, Tetanus, Poliomyelitis</td>\n",
       "      <td>Most of these infections can be prevented thro...</td>\n",
       "      <td>(A35, A36, A80)</td>\n",
       "      <td>A36</td>\n",
       "    </tr>\n",
       "    <tr>\n",
       "      <th>3</th>\n",
       "      <td>Avoidable mortality</td>\n",
       "      <td>Preventable mortality</td>\n",
       "      <td>NaN</td>\n",
       "      <td>Infectious diseases</td>\n",
       "      <td>Diphtheria, Tetanus, Poliomyelitis</td>\n",
       "      <td>Most of these infections can be prevented thro...</td>\n",
       "      <td>(A35, A36, A80)</td>\n",
       "      <td>A80</td>\n",
       "    </tr>\n",
       "    <tr>\n",
       "      <th>4</th>\n",
       "      <td>Avoidable mortality</td>\n",
       "      <td>Preventable mortality</td>\n",
       "      <td>NaN</td>\n",
       "      <td>Infectious diseases</td>\n",
       "      <td>Whooping cough</td>\n",
       "      <td>Most of these infections can be prevented thro...</td>\n",
       "      <td>(A37)</td>\n",
       "      <td>A37</td>\n",
       "    </tr>\n",
       "  </tbody>\n",
       "</table>\n",
       "</div>"
      ],
      "text/plain": [
       "            avoid_flag           prevent_flag treat_flag                Group  \\\n",
       "0  Avoidable mortality  Preventable mortality        NaN  Infectious diseases   \n",
       "1  Avoidable mortality  Preventable mortality        NaN  Infectious diseases   \n",
       "2  Avoidable mortality  Preventable mortality        NaN  Infectious diseases   \n",
       "3  Avoidable mortality  Preventable mortality        NaN  Infectious diseases   \n",
       "4  Avoidable mortality  Preventable mortality        NaN  Infectious diseases   \n",
       "\n",
       "                     Causes of deaths  \\\n",
       "0                 Intestinal diseases   \n",
       "1  Diphtheria, Tetanus, Poliomyelitis   \n",
       "2  Diphtheria, Tetanus, Poliomyelitis   \n",
       "3  Diphtheria, Tetanus, Poliomyelitis   \n",
       "4                      Whooping cough   \n",
       "\n",
       "                             Rationale for inclusion            Range cid_pai  \n",
       "0  Most of these infections can be prevented thro...        (A00-A09)      A0  \n",
       "1  Most of these infections can be prevented thro...  (A35, A36, A80)     A35  \n",
       "2  Most of these infections can be prevented thro...  (A35, A36, A80)     A36  \n",
       "3  Most of these infections can be prevented thro...  (A35, A36, A80)     A80  \n",
       "4  Most of these infections can be prevented thro...            (A37)     A37  "
      ]
     },
     "execution_count": 22,
     "metadata": {},
     "output_type": "execute_result"
    }
   ],
   "source": [
    "# # Download de tabela tratada de CIDs evitáveis de acordo com documentos da OCDE\n",
    "# url = 'https://docs.google.com/spreadsheets/d/1X8AH0zs4PNc_bUpZ3tBvFw2HGpgb9CjShOkwXQ0so_I/edit?usp=sharing'\n",
    "# # Convert the Google Sheets URL to a CSV export URL\n",
    "# csv_url = url.replace('/edit?usp=sharing', '/export?format=csv')\n",
    "\n",
    "# # Read the CSV data into a pandas DataFrame\n",
    "# ocde_evit = pd.read_csv(csv_url)\n",
    "\n",
    "# # Now you can work with the DataFrame 'df'\n",
    "# ocde_evit.head()"
   ]
  },
  {
   "cell_type": "code",
   "execution_count": 23,
   "metadata": {},
   "outputs": [
    {
     "name": "stdout",
     "output_type": "stream",
     "text": [
      "<class 'pandas.core.frame.DataFrame'>\n",
      "RangeIndex: 346 entries, 0 to 345\n",
      "Data columns (total 8 columns):\n",
      " #   Column                   Non-Null Count  Dtype \n",
      "---  ------                   --------------  ----- \n",
      " 0   avoid_flag               346 non-null    object\n",
      " 1   prevent_flag             189 non-null    object\n",
      " 2   treat_flag               184 non-null    object\n",
      " 3   Group                    346 non-null    object\n",
      " 4   Causes of deaths         346 non-null    object\n",
      " 5   Rationale for inclusion  346 non-null    object\n",
      " 6   Range                    346 non-null    object\n",
      " 7   cid_pai                  346 non-null    object\n",
      "dtypes: object(8)\n",
      "memory usage: 21.8+ KB\n"
     ]
    }
   ],
   "source": [
    "ocde_evit.info()"
   ]
  },
  {
   "cell_type": "markdown",
   "metadata": {},
   "source": [
    "## População Censo"
   ]
  },
  {
   "cell_type": "markdown",
   "metadata": {},
   "source": [
    "### Carga de População Censo \n",
    "\n",
    "\n",
    "Os dados populacionais são os dos Censos de 2010 e 2022.\n",
    "\n",
    "Nesta v2, não iremos tratar com variáveis de sexo, raça e faixa etária (para calcular menores de 75 anos).\n",
    "\n",
    "A fonte de dados para gerar os arquivos ou o endereço do caminho SIDRA, é https://sidra.ibge.gov.br/Tabela/9605.\n",
    "\n",
    "Nota da v.2 : iremos trazer os dados do Censo sem precisar desagregar por sexo e raça-cor e consideramos que não será necessário trazer dados por UF, estes podem ser agregados depois a partir dos dados de município."
   ]
  },
  {
   "cell_type": "code",
   "execution_count": 72,
   "metadata": {},
   "outputs": [
    {
     "data": {
      "text/html": [
       "<div>\n",
       "<style scoped>\n",
       "    .dataframe tbody tr th:only-of-type {\n",
       "        vertical-align: middle;\n",
       "    }\n",
       "\n",
       "    .dataframe tbody tr th {\n",
       "        vertical-align: top;\n",
       "    }\n",
       "\n",
       "    .dataframe thead th {\n",
       "        text-align: right;\n",
       "    }\n",
       "</style>\n",
       "<table border=\"1\" class=\"dataframe\">\n",
       "  <thead>\n",
       "    <tr style=\"text-align: right;\">\n",
       "      <th></th>\n",
       "      <th>Ano</th>\n",
       "      <th>Nível</th>\n",
       "      <th>Cód.</th>\n",
       "      <th>Unidade da Federação e Município</th>\n",
       "      <th>Cor ou raça</th>\n",
       "      <th>Sexo</th>\n",
       "      <th>Total</th>\n",
       "      <th>75 a 79 anos</th>\n",
       "      <th>80 a 84 anos</th>\n",
       "      <th>85 a 89 anos</th>\n",
       "      <th>90 a 94 anos</th>\n",
       "      <th>95 a 99 anos</th>\n",
       "      <th>100 anos ou mais</th>\n",
       "    </tr>\n",
       "  </thead>\n",
       "  <tbody>\n",
       "    <tr>\n",
       "      <th>0</th>\n",
       "      <td>2010</td>\n",
       "      <td>UF</td>\n",
       "      <td>11</td>\n",
       "      <td>Rondônia</td>\n",
       "      <td>Total</td>\n",
       "      <td>Total</td>\n",
       "      <td>1562409</td>\n",
       "      <td>13015</td>\n",
       "      <td>7291</td>\n",
       "      <td>3170</td>\n",
       "      <td>1126</td>\n",
       "      <td>330</td>\n",
       "      <td>82</td>\n",
       "    </tr>\n",
       "    <tr>\n",
       "      <th>1</th>\n",
       "      <td>2010</td>\n",
       "      <td>UF</td>\n",
       "      <td>12</td>\n",
       "      <td>Acre</td>\n",
       "      <td>Total</td>\n",
       "      <td>Total</td>\n",
       "      <td>733559</td>\n",
       "      <td>5508</td>\n",
       "      <td>3574</td>\n",
       "      <td>1790</td>\n",
       "      <td>737</td>\n",
       "      <td>300</td>\n",
       "      <td>91</td>\n",
       "    </tr>\n",
       "    <tr>\n",
       "      <th>2</th>\n",
       "      <td>2010</td>\n",
       "      <td>UF</td>\n",
       "      <td>13</td>\n",
       "      <td>Amazonas</td>\n",
       "      <td>Total</td>\n",
       "      <td>Total</td>\n",
       "      <td>3483985</td>\n",
       "      <td>24686</td>\n",
       "      <td>14803</td>\n",
       "      <td>7829</td>\n",
       "      <td>3405</td>\n",
       "      <td>1249</td>\n",
       "      <td>415</td>\n",
       "    </tr>\n",
       "    <tr>\n",
       "      <th>3</th>\n",
       "      <td>2010</td>\n",
       "      <td>UF</td>\n",
       "      <td>14</td>\n",
       "      <td>Roraima</td>\n",
       "      <td>Total</td>\n",
       "      <td>Total</td>\n",
       "      <td>450479</td>\n",
       "      <td>2575</td>\n",
       "      <td>1586</td>\n",
       "      <td>809</td>\n",
       "      <td>324</td>\n",
       "      <td>100</td>\n",
       "      <td>35</td>\n",
       "    </tr>\n",
       "    <tr>\n",
       "      <th>4</th>\n",
       "      <td>2010</td>\n",
       "      <td>UF</td>\n",
       "      <td>15</td>\n",
       "      <td>Pará</td>\n",
       "      <td>Total</td>\n",
       "      <td>Total</td>\n",
       "      <td>7581051</td>\n",
       "      <td>62725</td>\n",
       "      <td>37009</td>\n",
       "      <td>18075</td>\n",
       "      <td>8912</td>\n",
       "      <td>3349</td>\n",
       "      <td>899</td>\n",
       "    </tr>\n",
       "  </tbody>\n",
       "</table>\n",
       "</div>"
      ],
      "text/plain": [
       "    Ano Nível Cód. Unidade da Federação e Município Cor ou raça   Sexo  \\\n",
       "0  2010    UF   11                         Rondônia       Total  Total   \n",
       "1  2010    UF   12                             Acre       Total  Total   \n",
       "2  2010    UF   13                         Amazonas       Total  Total   \n",
       "3  2010    UF   14                          Roraima       Total  Total   \n",
       "4  2010    UF   15                             Pará       Total  Total   \n",
       "\n",
       "     Total 75 a 79 anos 80 a 84 anos 85 a 89 anos 90 a 94 anos 95 a 99 anos  \\\n",
       "0  1562409        13015         7291         3170         1126          330   \n",
       "1   733559         5508         3574         1790          737          300   \n",
       "2  3483985        24686        14803         7829         3405         1249   \n",
       "3   450479         2575         1586          809          324          100   \n",
       "4  7581051        62725        37009        18075         8912         3349   \n",
       "\n",
       "  100 anos ou mais  \n",
       "0               82  \n",
       "1               91  \n",
       "2              415  \n",
       "3               35  \n",
       "4              899  "
      ]
     },
     "execution_count": 72,
     "metadata": {},
     "output_type": "execute_result"
    }
   ],
   "source": [
    "# # Definir a URL\n",
    "# url = 'https://sidra.ibge.gov.br/geratabela?format=us.csv&name=tabela9606.csv&terr=NCS&rank=-&query=t/9606/n3/all/n6/all/v/allxp/p/all/c86/95251/c2/6794/c287/6653,49108,49109,60040,60041,93098,100362/l/,v%2Bc287,p%2Bt%2Bc86%2Bc2&verComplementos2=false&verComplementos1=false&omitirIndentacao=false&abreviarRotulos=false&exibirNotas=false&agruparNoCabecalho=false'\n",
    "\n",
    "# # Ler os dados da URL em um DataFrame\n",
    "# # censo_pop = pd.read_json(url)\n",
    "# ibge_download_ = pd.read_csv(url, skiprows=3, dtype=str)\n",
    "\n",
    "# # Exibir as primeiras linhas do DataFrame\n",
    "# ibge_download_.head()"
   ]
  },
  {
   "cell_type": "code",
   "execution_count": 73,
   "metadata": {},
   "outputs": [
    {
     "name": "stdout",
     "output_type": "stream",
     "text": [
      "<class 'pandas.core.frame.DataFrame'>\n",
      "RangeIndex: 11214 entries, 0 to 11213\n",
      "Data columns (total 13 columns):\n",
      " #   Column                            Non-Null Count  Dtype \n",
      "---  ------                            --------------  ----- \n",
      " 0   Ano                               11213 non-null  object\n",
      " 1   Nível                             11201 non-null  object\n",
      " 2   Cód.                              11194 non-null  object\n",
      " 3   Unidade da Federação e Município  11194 non-null  object\n",
      " 4   Cor ou raça                       11194 non-null  object\n",
      " 5   Sexo                              11194 non-null  object\n",
      " 6   Total                             11194 non-null  object\n",
      " 7   75 a 79 anos                      11194 non-null  object\n",
      " 8   80 a 84 anos                      11194 non-null  object\n",
      " 9   85 a 89 anos                      11194 non-null  object\n",
      " 10  90 a 94 anos                      11194 non-null  object\n",
      " 11  95 a 99 anos                      11194 non-null  object\n",
      " 12  100 anos ou mais                  11194 non-null  object\n",
      "dtypes: object(13)\n",
      "memory usage: 1.1+ MB\n"
     ]
    }
   ],
   "source": [
    "# Exibir informaçãoes gerais do DataFrame\n",
    "ibge_download_.info()"
   ]
  },
  {
   "cell_type": "code",
   "execution_count": 74,
   "metadata": {},
   "outputs": [
    {
     "name": "stdout",
     "output_type": "stream",
     "text": [
      "<class 'pandas.core.frame.DataFrame'>\n",
      "RangeIndex: 11194 entries, 0 to 11193\n",
      "Data columns (total 13 columns):\n",
      " #   Column                            Non-Null Count  Dtype \n",
      "---  ------                            --------------  ----- \n",
      " 0   Ano                               11194 non-null  object\n",
      " 1   Nível                             11194 non-null  object\n",
      " 2   Cód.                              11194 non-null  object\n",
      " 3   Unidade da Federação e Município  11194 non-null  object\n",
      " 4   Cor ou raça                       11194 non-null  object\n",
      " 5   Sexo                              11194 non-null  object\n",
      " 6   Total                             11194 non-null  object\n",
      " 7   75 a 79 anos                      11194 non-null  object\n",
      " 8   80 a 84 anos                      11194 non-null  object\n",
      " 9   85 a 89 anos                      11194 non-null  object\n",
      " 10  90 a 94 anos                      11194 non-null  object\n",
      " 11  95 a 99 anos                      11194 non-null  object\n",
      " 12  100 anos ou mais                  11194 non-null  object\n",
      "dtypes: object(13)\n",
      "memory usage: 1.1+ MB\n"
     ]
    }
   ],
   "source": [
    "# Primeira linha de tratamento para salvar arquivo\n",
    "\n",
    "# Excluir notas e comentários do arquivo\n",
    "ibge_download = ibge_download_.dropna(subset=['Total']).reset_index(drop=True)\n",
    "\n",
    "# Exibir as primeiras linhas do DataFrame\n",
    "ibge_download.info()"
   ]
  },
  {
   "cell_type": "code",
   "execution_count": 80,
   "metadata": {},
   "outputs": [
    {
     "name": "stdout",
     "output_type": "stream",
     "text": [
      "<class 'pandas.core.frame.DataFrame'>\n",
      "RangeIndex: 11194 entries, 0 to 11193\n",
      "Data columns (total 11 columns):\n",
      " #   Column            Non-Null Count  Dtype \n",
      "---  ------            --------------  ----- \n",
      " 0   Ano               11194 non-null  object\n",
      " 1   Nível             11194 non-null  object\n",
      " 2   Cód.              11194 non-null  object\n",
      " 3   unidade_no        11194 non-null  object\n",
      " 4   Total             11194 non-null  object\n",
      " 5   75 a 79 anos      11194 non-null  object\n",
      " 6   80 a 84 anos      11194 non-null  object\n",
      " 7   85 a 89 anos      11194 non-null  object\n",
      " 8   90 a 94 anos      11194 non-null  object\n",
      " 9   95 a 99 anos      11194 non-null  object\n",
      " 10  100 anos ou mais  11194 non-null  object\n",
      "dtypes: object(11)\n",
      "memory usage: 962.1+ KB\n"
     ]
    }
   ],
   "source": [
    "# Segunda linha de tratamento para salvar arquivo\n",
    "\n",
    "# Excluir colunas de \"Cor ou raça\" e \"Sexo\"\n",
    "ibge_download01 = ibge_download.drop(columns=['Sexo','Cor ou raça'])\n",
    "\n",
    "# Renomear colunas\n",
    "ibge_download01.rename(columns={'Unidade da Federação e Município': 'unidade_no'}, inplace=True)\n",
    "\n",
    "# Exibir informações gerais do dataframe\n",
    "ibge_download01.info()"
   ]
  },
  {
   "cell_type": "code",
   "execution_count": null,
   "metadata": {},
   "outputs": [],
   "source": [
    "# Salvar arquivo de população do Censo\n",
    "ibge_download01.to_parquet('downloads_outros/censo_pop_raw.parquet')"
   ]
  },
  {
   "cell_type": "markdown",
   "metadata": {},
   "source": [
    "### Tratamento de População Censo Municípios"
   ]
  },
  {
   "cell_type": "code",
   "execution_count": 30,
   "metadata": {},
   "outputs": [],
   "source": [
    "# Carga de arquivo de População do Censo\n",
    "censo_pop_temp = pd.read_parquet('downloads_outros/censo_pop_raw.parquet')"
   ]
  },
  {
   "cell_type": "code",
   "execution_count": 31,
   "metadata": {},
   "outputs": [
    {
     "name": "stdout",
     "output_type": "stream",
     "text": [
      "<class 'pandas.core.frame.DataFrame'>\n",
      "RangeIndex: 11194 entries, 0 to 11193\n",
      "Data columns (total 11 columns):\n",
      " #   Column            Non-Null Count  Dtype \n",
      "---  ------            --------------  ----- \n",
      " 0   Ano               11194 non-null  object\n",
      " 1   Nível             11194 non-null  object\n",
      " 2   Cód.              11194 non-null  object\n",
      " 3   unidade_no        11194 non-null  object\n",
      " 4   Total             11194 non-null  object\n",
      " 5   75 a 79 anos      11194 non-null  object\n",
      " 6   80 a 84 anos      11194 non-null  object\n",
      " 7   85 a 89 anos      11194 non-null  object\n",
      " 8   90 a 94 anos      11194 non-null  object\n",
      " 9   95 a 99 anos      11194 non-null  object\n",
      " 10  100 anos ou mais  11194 non-null  object\n",
      "dtypes: object(11)\n",
      "memory usage: 962.1+ KB\n"
     ]
    }
   ],
   "source": [
    "censo_pop_temp.info()"
   ]
  },
  {
   "cell_type": "code",
   "execution_count": 46,
   "metadata": {},
   "outputs": [
    {
     "data": {
      "text/html": [
       "<div>\n",
       "<style scoped>\n",
       "    .dataframe tbody tr th:only-of-type {\n",
       "        vertical-align: middle;\n",
       "    }\n",
       "\n",
       "    .dataframe tbody tr th {\n",
       "        vertical-align: top;\n",
       "    }\n",
       "\n",
       "    .dataframe thead th {\n",
       "        text-align: right;\n",
       "    }\n",
       "</style>\n",
       "<table border=\"1\" class=\"dataframe\">\n",
       "  <thead>\n",
       "    <tr style=\"text-align: right;\">\n",
       "      <th></th>\n",
       "      <th>Ano</th>\n",
       "      <th>Nível</th>\n",
       "      <th>Cód.</th>\n",
       "      <th>unidade_no</th>\n",
       "      <th>Total</th>\n",
       "      <th>75 a 79 anos</th>\n",
       "      <th>80 a 84 anos</th>\n",
       "      <th>85 a 89 anos</th>\n",
       "      <th>90 a 94 anos</th>\n",
       "      <th>95 a 99 anos</th>\n",
       "      <th>100 anos ou mais</th>\n",
       "    </tr>\n",
       "  </thead>\n",
       "  <tbody>\n",
       "    <tr>\n",
       "      <th>0</th>\n",
       "      <td>2010</td>\n",
       "      <td>UF</td>\n",
       "      <td>11</td>\n",
       "      <td>Rondônia</td>\n",
       "      <td>1562409</td>\n",
       "      <td>13015</td>\n",
       "      <td>7291</td>\n",
       "      <td>3170</td>\n",
       "      <td>1126</td>\n",
       "      <td>330</td>\n",
       "      <td>82</td>\n",
       "    </tr>\n",
       "    <tr>\n",
       "      <th>1</th>\n",
       "      <td>2010</td>\n",
       "      <td>UF</td>\n",
       "      <td>12</td>\n",
       "      <td>Acre</td>\n",
       "      <td>733559</td>\n",
       "      <td>5508</td>\n",
       "      <td>3574</td>\n",
       "      <td>1790</td>\n",
       "      <td>737</td>\n",
       "      <td>300</td>\n",
       "      <td>91</td>\n",
       "    </tr>\n",
       "    <tr>\n",
       "      <th>2</th>\n",
       "      <td>2010</td>\n",
       "      <td>UF</td>\n",
       "      <td>13</td>\n",
       "      <td>Amazonas</td>\n",
       "      <td>3483985</td>\n",
       "      <td>24686</td>\n",
       "      <td>14803</td>\n",
       "      <td>7829</td>\n",
       "      <td>3405</td>\n",
       "      <td>1249</td>\n",
       "      <td>415</td>\n",
       "    </tr>\n",
       "    <tr>\n",
       "      <th>3</th>\n",
       "      <td>2010</td>\n",
       "      <td>UF</td>\n",
       "      <td>14</td>\n",
       "      <td>Roraima</td>\n",
       "      <td>450479</td>\n",
       "      <td>2575</td>\n",
       "      <td>1586</td>\n",
       "      <td>809</td>\n",
       "      <td>324</td>\n",
       "      <td>100</td>\n",
       "      <td>35</td>\n",
       "    </tr>\n",
       "    <tr>\n",
       "      <th>4</th>\n",
       "      <td>2010</td>\n",
       "      <td>UF</td>\n",
       "      <td>15</td>\n",
       "      <td>Pará</td>\n",
       "      <td>7581051</td>\n",
       "      <td>62725</td>\n",
       "      <td>37009</td>\n",
       "      <td>18075</td>\n",
       "      <td>8912</td>\n",
       "      <td>3349</td>\n",
       "      <td>899</td>\n",
       "    </tr>\n",
       "  </tbody>\n",
       "</table>\n",
       "</div>"
      ],
      "text/plain": [
       "    Ano Nível Cód. unidade_no    Total 75 a 79 anos 80 a 84 anos 85 a 89 anos  \\\n",
       "0  2010    UF   11   Rondônia  1562409        13015         7291         3170   \n",
       "1  2010    UF   12       Acre   733559         5508         3574         1790   \n",
       "2  2010    UF   13   Amazonas  3483985        24686        14803         7829   \n",
       "3  2010    UF   14    Roraima   450479         2575         1586          809   \n",
       "4  2010    UF   15       Pará  7581051        62725        37009        18075   \n",
       "\n",
       "  90 a 94 anos 95 a 99 anos 100 anos ou mais  \n",
       "0         1126          330               82  \n",
       "1          737          300               91  \n",
       "2         3405         1249              415  \n",
       "3          324          100               35  \n",
       "4         8912         3349              899  "
      ]
     },
     "execution_count": 46,
     "metadata": {},
     "output_type": "execute_result"
    }
   ],
   "source": [
    "censo_pop_temp.head()"
   ]
  },
  {
   "cell_type": "code",
   "execution_count": 36,
   "metadata": {},
   "outputs": [
    {
     "name": "stdout",
     "output_type": "stream",
     "text": [
      "Unidades federativas do arquivo Censo_pop: ['UF' 'MU']\n",
      "Anos do arquivo Censo_pop: ['2010' '2022']\n"
     ]
    }
   ],
   "source": [
    "# Identificar a classificação de unidades federativas\n",
    "print(f'Unidades federativas do arquivo Censo_pop: {censo_pop_temp.Nível.unique()}')\n",
    "\n",
    "# Apresentar os anos do Censo\n",
    "print(f'Anos do arquivo Censo_pop: {censo_pop_temp.Ano.unique()}')"
   ]
  },
  {
   "cell_type": "code",
   "execution_count": null,
   "metadata": {},
   "outputs": [],
   "source": [
    "# # Filtrar os dados apenas de município\n",
    "# censo_pop_mun = censo_pop_raw[censo_pop_raw['Nível'] == 'MU']\n",
    "# censo_pop_mun.info()"
   ]
  },
  {
   "cell_type": "code",
   "execution_count": 37,
   "metadata": {},
   "outputs": [
    {
     "name": "stdout",
     "output_type": "stream",
     "text": [
      "<class 'pandas.core.frame.DataFrame'>\n",
      "RangeIndex: 11194 entries, 0 to 11193\n",
      "Data columns (total 11 columns):\n",
      " #   Column            Non-Null Count  Dtype \n",
      "---  ------            --------------  ----- \n",
      " 0   Ano               11194 non-null  object\n",
      " 1   Nível             11194 non-null  object\n",
      " 2   Cód.              11194 non-null  object\n",
      " 3   unidade_no        11194 non-null  object\n",
      " 4   Total             11194 non-null  int64 \n",
      " 5   75 a 79 anos      11194 non-null  int64 \n",
      " 6   80 a 84 anos      11194 non-null  int64 \n",
      " 7   85 a 89 anos      11194 non-null  int64 \n",
      " 8   90 a 94 anos      11194 non-null  int64 \n",
      " 9   95 a 99 anos      11194 non-null  int64 \n",
      " 10  100 anos ou mais  11194 non-null  int64 \n",
      "dtypes: int64(7), object(4)\n",
      "memory usage: 962.1+ KB\n"
     ]
    }
   ],
   "source": [
    "# Preparar colunas para conseguir valores da população até 74 anos\n",
    "\n",
    "# Colunas para transformar em inteiro\n",
    "cols_age = ['Total','75 a 79 anos', '80 a 84 anos', '85 a 89 anos','90 a 94 anos', '95 a 99 anos', '100 anos ou mais']\n",
    "# para todas as colunas identificar substituir '-' por 0\n",
    "censo_pop_temp01 = censo_pop_temp.copy()\n",
    "censo_pop_temp01[cols_age] = censo_pop_temp01[cols_age].replace('-',0)\n",
    "\n",
    "# transformar todas as colunas definidas para formato integer\n",
    "censo_pop_temp01[cols_age] = censo_pop_temp01[cols_age].apply(pd.to_numeric, errors='coerce').fillna(0).astype(int)\n",
    "censo_pop_temp01.info()\n"
   ]
  },
  {
   "cell_type": "code",
   "execution_count": 39,
   "metadata": {},
   "outputs": [
    {
     "name": "stdout",
     "output_type": "stream",
     "text": [
      "11194\n"
     ]
    },
    {
     "data": {
      "text/html": [
       "<div>\n",
       "<style scoped>\n",
       "    .dataframe tbody tr th:only-of-type {\n",
       "        vertical-align: middle;\n",
       "    }\n",
       "\n",
       "    .dataframe tbody tr th {\n",
       "        vertical-align: top;\n",
       "    }\n",
       "\n",
       "    .dataframe thead th {\n",
       "        text-align: right;\n",
       "    }\n",
       "</style>\n",
       "<table border=\"1\" class=\"dataframe\">\n",
       "  <thead>\n",
       "    <tr style=\"text-align: right;\">\n",
       "      <th></th>\n",
       "      <th>Ano</th>\n",
       "      <th>Nível</th>\n",
       "      <th>Cód.</th>\n",
       "      <th>unidade_no</th>\n",
       "      <th>pop_total</th>\n",
       "      <th>pop_under74</th>\n",
       "    </tr>\n",
       "  </thead>\n",
       "  <tbody>\n",
       "    <tr>\n",
       "      <th>0</th>\n",
       "      <td>2010</td>\n",
       "      <td>UF</td>\n",
       "      <td>11</td>\n",
       "      <td>Rondônia</td>\n",
       "      <td>1562409</td>\n",
       "      <td>1537395</td>\n",
       "    </tr>\n",
       "    <tr>\n",
       "      <th>1</th>\n",
       "      <td>2010</td>\n",
       "      <td>UF</td>\n",
       "      <td>12</td>\n",
       "      <td>Acre</td>\n",
       "      <td>733559</td>\n",
       "      <td>721559</td>\n",
       "    </tr>\n",
       "    <tr>\n",
       "      <th>2</th>\n",
       "      <td>2010</td>\n",
       "      <td>UF</td>\n",
       "      <td>13</td>\n",
       "      <td>Amazonas</td>\n",
       "      <td>3483985</td>\n",
       "      <td>3431598</td>\n",
       "    </tr>\n",
       "    <tr>\n",
       "      <th>3</th>\n",
       "      <td>2010</td>\n",
       "      <td>UF</td>\n",
       "      <td>14</td>\n",
       "      <td>Roraima</td>\n",
       "      <td>450479</td>\n",
       "      <td>445050</td>\n",
       "    </tr>\n",
       "    <tr>\n",
       "      <th>4</th>\n",
       "      <td>2010</td>\n",
       "      <td>UF</td>\n",
       "      <td>15</td>\n",
       "      <td>Pará</td>\n",
       "      <td>7581051</td>\n",
       "      <td>7450082</td>\n",
       "    </tr>\n",
       "  </tbody>\n",
       "</table>\n",
       "</div>"
      ],
      "text/plain": [
       "    Ano Nível Cód. unidade_no  pop_total  pop_under74\n",
       "0  2010    UF   11   Rondônia    1562409      1537395\n",
       "1  2010    UF   12       Acre     733559       721559\n",
       "2  2010    UF   13   Amazonas    3483985      3431598\n",
       "3  2010    UF   14    Roraima     450479       445050\n",
       "4  2010    UF   15       Pará    7581051      7450082"
      ]
     },
     "execution_count": 39,
     "metadata": {},
     "output_type": "execute_result"
    }
   ],
   "source": [
    "# Gerar coluna de população total até 74 anos\n",
    "cols_age_over75 = ['75 a 79 anos', '80 a 84 anos', '85 a 89 anos','90 a 94 anos', '95 a 99 anos', '100 anos ou mais']\n",
    "\n",
    "censo_pop_temp02 = censo_pop_temp01.copy()\n",
    "\n",
    "# Subtrair a população de 75 anos ou mais da população total\n",
    "censo_pop_temp02['pop_under74'] = censo_pop_temp02['Total'] - censo_pop_temp02[cols_age_over75].sum(axis=1)\n",
    "\n",
    "# Excluir colunar cols_age_over75 e 0 a 4 anos\n",
    "censo_pop_temp02.drop(columns=cols_age_over75, inplace=True)\n",
    "\n",
    "# Renomear coluna Total para pop_total\n",
    "censo_pop_temp02.rename(columns={'Total': 'pop_total'}, inplace=True)\n",
    "\n",
    "# mostrar dados gerais da tabela após transformações\n",
    "print(censo_pop_temp02.shape[0])\n",
    "censo_pop_temp02.head()"
   ]
  },
  {
   "cell_type": "code",
   "execution_count": 47,
   "metadata": {},
   "outputs": [
    {
     "name": "stdout",
     "output_type": "stream",
     "text": [
      "11194\n"
     ]
    },
    {
     "data": {
      "text/html": [
       "<div>\n",
       "<style scoped>\n",
       "    .dataframe tbody tr th:only-of-type {\n",
       "        vertical-align: middle;\n",
       "    }\n",
       "\n",
       "    .dataframe tbody tr th {\n",
       "        vertical-align: top;\n",
       "    }\n",
       "\n",
       "    .dataframe thead th {\n",
       "        text-align: right;\n",
       "    }\n",
       "</style>\n",
       "<table border=\"1\" class=\"dataframe\">\n",
       "  <thead>\n",
       "    <tr style=\"text-align: right;\">\n",
       "      <th></th>\n",
       "      <th>Ano</th>\n",
       "      <th>Nível</th>\n",
       "      <th>Cód.</th>\n",
       "      <th>unidade_no</th>\n",
       "      <th>pop_total</th>\n",
       "      <th>pop_under74</th>\n",
       "      <th>UF</th>\n",
       "      <th>uf_co</th>\n",
       "    </tr>\n",
       "  </thead>\n",
       "  <tbody>\n",
       "    <tr>\n",
       "      <th>0</th>\n",
       "      <td>2010</td>\n",
       "      <td>UF</td>\n",
       "      <td>11</td>\n",
       "      <td>Rondônia</td>\n",
       "      <td>1562409</td>\n",
       "      <td>1537395</td>\n",
       "      <td>None</td>\n",
       "      <td>_11</td>\n",
       "    </tr>\n",
       "    <tr>\n",
       "      <th>1</th>\n",
       "      <td>2010</td>\n",
       "      <td>UF</td>\n",
       "      <td>12</td>\n",
       "      <td>Acre</td>\n",
       "      <td>733559</td>\n",
       "      <td>721559</td>\n",
       "      <td>None</td>\n",
       "      <td>_12</td>\n",
       "    </tr>\n",
       "    <tr>\n",
       "      <th>2</th>\n",
       "      <td>2010</td>\n",
       "      <td>UF</td>\n",
       "      <td>13</td>\n",
       "      <td>Amazonas</td>\n",
       "      <td>3483985</td>\n",
       "      <td>3431598</td>\n",
       "      <td>None</td>\n",
       "      <td>_13</td>\n",
       "    </tr>\n",
       "    <tr>\n",
       "      <th>3</th>\n",
       "      <td>2010</td>\n",
       "      <td>UF</td>\n",
       "      <td>14</td>\n",
       "      <td>Roraima</td>\n",
       "      <td>450479</td>\n",
       "      <td>445050</td>\n",
       "      <td>None</td>\n",
       "      <td>_14</td>\n",
       "    </tr>\n",
       "    <tr>\n",
       "      <th>4</th>\n",
       "      <td>2010</td>\n",
       "      <td>UF</td>\n",
       "      <td>15</td>\n",
       "      <td>Pará</td>\n",
       "      <td>7581051</td>\n",
       "      <td>7450082</td>\n",
       "      <td>None</td>\n",
       "      <td>_15</td>\n",
       "    </tr>\n",
       "  </tbody>\n",
       "</table>\n",
       "</div>"
      ],
      "text/plain": [
       "    Ano Nível Cód. unidade_no  pop_total  pop_under74    UF uf_co\n",
       "0  2010    UF   11   Rondônia    1562409      1537395  None   _11\n",
       "1  2010    UF   12       Acre     733559       721559  None   _12\n",
       "2  2010    UF   13   Amazonas    3483985      3431598  None   _13\n",
       "3  2010    UF   14    Roraima     450479       445050  None   _14\n",
       "4  2010    UF   15       Pará    7581051      7450082  None   _15"
      ]
     },
     "execution_count": 47,
     "metadata": {},
     "output_type": "execute_result"
    }
   ],
   "source": [
    "# Gerar informação de UF a partir do split de 'Município', com o dividor '('\n",
    "censo_pop_temp03 = censo_pop_temp02.copy()\n",
    "censo_pop_temp03['UF'] = censo_pop_temp03['unidade_no'].str.split('(', expand=True)[1].str.replace(')','')\n",
    "censo_pop_temp03['uf_co'] = '_' + censo_pop_temp03['Cód.'].astype(str).str[:2]\n",
    "# censo_pop_temp03['unidade_no'] = censo_pop_temp03['unidade_no'].str.split('(', expand=True)[0] # Permancer o código de UF depois do nome do município\n",
    "\n",
    "# mostrar dados gerais da tabela após transformações\n",
    "print(censo_pop_temp03.shape[0])\n",
    "censo_pop_temp03.head()\n"
   ]
  },
  {
   "cell_type": "code",
   "execution_count": 59,
   "metadata": {},
   "outputs": [
    {
     "name": "stdout",
     "output_type": "stream",
     "text": [
      "Registro da tabela censo_pop_uf_temp: 54\n",
      "+----+-------+---------+--------+--------------+-------------+---------------+------+---------+\n",
      "|    |   Ano | Nível   |   Cód. | unidade_no   |   pop_total |   pop_under74 | UF   | uf_co   |\n",
      "|----+-------+---------+--------+--------------+-------------+---------------+------+---------|\n",
      "|  0 |  2010 | UF      |     11 | Rondônia     |     1562409 |       1537395 |      | _11     |\n",
      "|  1 |  2010 | UF      |     12 | Acre         |      733559 |        721559 |      | _12     |\n",
      "|  2 |  2010 | UF      |     13 | Amazonas     |     3483985 |       3431598 |      | _13     |\n",
      "|  3 |  2010 | UF      |     14 | Roraima      |      450479 |        445050 |      | _14     |\n",
      "|  4 |  2010 | UF      |     15 | Pará         |     7581051 |       7450082 |      | _15     |\n",
      "+----+-------+---------+--------+--------------+-------------+---------------+------+---------+\n",
      "Registro da tabela censo_pop_mun_temp: 11140\n",
      "+----+-------+---------+---------+----------------------------+-------------+---------------+------+---------+\n",
      "|    |   Ano | Nível   |    Cód. | unidade_no                 |   pop_total |   pop_under74 | UF   | uf_co   |\n",
      "|----+-------+---------+---------+----------------------------+-------------+---------------+------+---------|\n",
      "|  0 |  2010 | MU      | 1100015 | Alta Floresta D'Oeste (RO) |       24392 |         23948 | RO   | _11     |\n",
      "|  1 |  2010 | MU      | 1100023 | Ariquemes (RO)             |       90353 |         89037 | RO   | _11     |\n",
      "|  2 |  2010 | MU      | 1100031 | Cabixi (RO)                |        6313 |          6180 | RO   | _11     |\n",
      "|  3 |  2010 | MU      | 1100049 | Cacoal (RO)                |       78574 |         76947 | RO   | _11     |\n",
      "|  4 |  2010 | MU      | 1100056 | Cerejeiras (RO)            |       17029 |         16646 | RO   | _11     |\n",
      "+----+-------+---------+---------+----------------------------+-------------+---------------+------+---------+\n"
     ]
    }
   ],
   "source": [
    "# Dividir arquivos em UF e Municípios\n",
    "\n",
    "# Criar arquivo de UF\n",
    "censo_pop_uf_temp = censo_pop_temp03[censo_pop_temp03['Nível'] == 'UF'].reset_index(drop=True)\n",
    "\n",
    "# Criar arquivo de Municípios\n",
    "censo_pop_mun_temp = censo_pop_temp03[censo_pop_temp03['Nível'] == 'MU'].reset_index(drop=True)\n",
    "\n",
    "# mostrar dados gerais da tabela após transformações\n",
    "print(f'Registro da tabela censo_pop_uf_temp: {censo_pop_uf_temp.shape[0]}')\n",
    "print(tabulate(censo_pop_uf_temp.head(), headers='keys', tablefmt='psql'))\n",
    "print(f'Registro da tabela censo_pop_mun_temp: {censo_pop_mun_temp.shape[0]}')\n",
    "print(tabulate(censo_pop_mun_temp.head(), headers='keys', tablefmt='psql'))"
   ]
  },
  {
   "cell_type": "code",
   "execution_count": 62,
   "metadata": {},
   "outputs": [
    {
     "name": "stdout",
     "output_type": "stream",
     "text": [
      "Registro da tabela : 54\n",
      "+----+-------+----------+-------------+---------------+---------+\n",
      "|    |   Ano | uf_no    |   pop_total |   pop_under74 | uf_co   |\n",
      "|----+-------+----------+-------------+---------------+---------|\n",
      "|  0 |  2010 | Rondônia |     1562409 |       1537395 | _11     |\n",
      "|  1 |  2010 | Acre     |      733559 |        721559 | _12     |\n",
      "|  2 |  2010 | Amazonas |     3483985 |       3431598 | _13     |\n",
      "|  3 |  2010 | Roraima  |      450479 |        445050 | _14     |\n",
      "|  4 |  2010 | Pará     |     7581051 |       7450082 | _15     |\n",
      "+----+-------+----------+-------------+---------------+---------+\n"
     ]
    }
   ],
   "source": [
    "# Preparar para salvar arquivo de UF\n",
    "censo_pop_uf_temp01 = censo_pop_uf_temp.copy()\n",
    "\n",
    "# Excluir colunas desnecessárias\n",
    "censo_pop_uf_temp01.drop(columns=['Cód.','Nível','UF'], inplace=True)\n",
    "\n",
    "# Renomear coluna unidade_no para uf_no\n",
    "censo_pop_uf_temp01.rename(columns={'unidade_no': 'uf_no'}, inplace=True)\n",
    "\n",
    "# mostrar dados gerais da tabela após transformações\n",
    "print(f'Registro da tabela : {censo_pop_uf_temp01.shape[0]}')\n",
    "print(tabulate(censo_pop_uf_temp01.head(), headers='keys', tablefmt='psql'))"
   ]
  },
  {
   "cell_type": "code",
   "execution_count": 63,
   "metadata": {},
   "outputs": [
    {
     "name": "stdout",
     "output_type": "stream",
     "text": [
      "Registro da tabela : 11140\n",
      "+----+-------+---------+------+---------------+----------------------------+-------------+---------------+\n",
      "|    |   Ano | uf_co   | UF   | mun_cod_sim   | mun_no                     |   pop_total |   pop_under74 |\n",
      "|----+-------+---------+------+---------------+----------------------------+-------------+---------------|\n",
      "|  0 |  2010 | _11     | RO   | _110001       | Alta Floresta D'Oeste (RO) |       24392 |         23948 |\n",
      "|  1 |  2010 | _11     | RO   | _110002       | Ariquemes (RO)             |       90353 |         89037 |\n",
      "|  2 |  2010 | _11     | RO   | _110003       | Cabixi (RO)                |        6313 |          6180 |\n",
      "|  3 |  2010 | _11     | RO   | _110004       | Cacoal (RO)                |       78574 |         76947 |\n",
      "|  4 |  2010 | _11     | RO   | _110005       | Cerejeiras (RO)            |       17029 |         16646 |\n",
      "+----+-------+---------+------+---------------+----------------------------+-------------+---------------+\n"
     ]
    }
   ],
   "source": [
    "# Preparar para salvar arquivo de Municipios\n",
    "censo_pop_mun_temp01 = censo_pop_mun_temp.copy()\n",
    "\n",
    "# Mudar o formato de mun_cod para string e extrair os primeiros 7 dígitos\n",
    "censo_pop_mun_temp01['mun_cod_sim'] = censo_pop_mun_temp01['Cód.'].astype(str).str[:6]\n",
    "\n",
    "# Acrescentar um '_' no início do valor da coluna mun_cod\n",
    "censo_pop_mun_temp01['mun_cod_sim'] = '_' + censo_pop_mun_temp01['mun_cod_sim'].astype(str)\n",
    "\n",
    "# Renomear coluna unidade_no para uf_no\n",
    "censo_pop_mun_temp01.rename(columns={'unidade_no': 'mun_no'}, inplace=True)\n",
    "\n",
    "# Excluir colunas desnecessárias\n",
    "censo_pop_mun_temp01.drop(columns=['Cód.','Nível'], inplace=True)\n",
    "\n",
    "# Ordenar as colunas\n",
    "censo_pop_mun_temp02 = censo_pop_mun_temp01[['Ano','uf_co','UF','mun_cod_sim','mun_no','pop_total','pop_under74']]\n",
    "\n",
    "# mostrar dados gerais da tabela após transformações\n",
    "print(f'Registro da tabela : {censo_pop_mun_temp02.shape[0]}')\n",
    "print(tabulate(censo_pop_mun_temp02.head(), headers='keys', tablefmt='psql'))"
   ]
  },
  {
   "cell_type": "markdown",
   "metadata": {},
   "source": [
    "#### Arquivo pronto - censo por municípios e por UF"
   ]
  },
  {
   "cell_type": "code",
   "execution_count": 51,
   "metadata": {},
   "outputs": [],
   "source": [
    "# Arquivo de População Censo Tratado (pronto para merge)\n",
    "censo_pop_mun_temp02.to_parquet('files_clean/censo_pop_mun.parquet')"
   ]
  },
  {
   "cell_type": "code",
   "execution_count": 52,
   "metadata": {},
   "outputs": [],
   "source": [
    "# Salvar arquivo de População do Censo uf\n",
    "censo_pop_uf_temp01.to_parquet('files_clean/censo_pop_uf.parquet')"
   ]
  },
  {
   "cell_type": "markdown",
   "metadata": {},
   "source": [
    "## Merge de dados de CID e População no arquivo principal"
   ]
  },
  {
   "cell_type": "markdown",
   "metadata": {},
   "source": [
    "### Merge de dados de CID"
   ]
  },
  {
   "cell_type": "code",
   "execution_count": 7,
   "metadata": {},
   "outputs": [
    {
     "name": "stdout",
     "output_type": "stream",
     "text": [
      "<class 'pandas.core.frame.DataFrame'>\n",
      "RangeIndex: 346 entries, 0 to 345\n",
      "Data columns (total 8 columns):\n",
      " #   Column                   Non-Null Count  Dtype \n",
      "---  ------                   --------------  ----- \n",
      " 0   avoid_flag               346 non-null    object\n",
      " 1   prevent_flag             189 non-null    object\n",
      " 2   treat_flag               184 non-null    object\n",
      " 3   Group                    346 non-null    object\n",
      " 4   Causes of deaths         346 non-null    object\n",
      " 5   Rationale for inclusion  346 non-null    object\n",
      " 6   Range                    346 non-null    object\n",
      " 7   cid_pai                  346 non-null    object\n",
      "dtypes: object(8)\n",
      "memory usage: 21.8+ KB\n"
     ]
    }
   ],
   "source": [
    "ocde_evit_temp = pd.read_csv('downloads_outros/cid10_evit_ocde.csv')\n",
    "ocde_evit_temp.info()"
   ]
  },
  {
   "cell_type": "code",
   "execution_count": 8,
   "metadata": {
    "vscode": {
     "languageId": "powershell"
    }
   },
   "outputs": [
    {
     "name": "stdout",
     "output_type": "stream",
     "text": [
      "<class 'pandas.core.frame.DataFrame'>\n",
      "RangeIndex: 11895 entries, 0 to 11894\n",
      "Data columns (total 1 columns):\n",
      " #   Column    Non-Null Count  Dtype \n",
      "---  ------    --------------  ----- \n",
      " 0   CAUSABAS  11895 non-null  object\n",
      "dtypes: object(1)\n",
      "memory usage: 93.1+ KB\n"
     ]
    }
   ],
   "source": [
    "# Gerar nova tabela com valores únicos de CAUSABAS\n",
    "dobr_evit_merged_temp = pd.read_parquet('files_clean/dobr_10_19a22.parquet')\n",
    "causas_unicas = dobr_evit_merged_temp['CAUSABAS'].unique()\n",
    "\n",
    "# Converter para DataFrame\n",
    "df_causas_unicas = pd.DataFrame(causas_unicas, columns=['CAUSABAS'])\n",
    "\n",
    "# Exibir as primeiras linhas do DataFrame\n",
    "df_causas_unicas.info()"
   ]
  },
  {
   "cell_type": "markdown",
   "metadata": {},
   "source": [
    "##########         Etapa diferenciada da versão          ##########\n",
    "\n",
    "Utilizar 'Causes of deaths' de CID evitáveis e as demais como \"Causa não evitável\""
   ]
  },
  {
   "cell_type": "code",
   "execution_count": 10,
   "metadata": {},
   "outputs": [
    {
     "name": "stdout",
     "output_type": "stream",
     "text": [
      "-  ----  ------------------------\n",
      "0  I219  Ischaemic heart diseases\n",
      "1  I10   Hypertensive diseases\n",
      "2  X700  Intentional self-harm\n",
      "3  C539  causa não evitável\n",
      "4  V220  Transport Accidents\n",
      "-  ----  ------------------------\n"
     ]
    }
   ],
   "source": [
    "# Fazer merge da lista de causas_unicas com a lista de causas evitáveis\n",
    "\n",
    "df_a = df_causas_unicas\n",
    "column_a = 'CAUSABAS'\n",
    "df_b = ocde_evit_temp\n",
    "column_b = 'cid_pai'\n",
    "column_return = 'Causes of deaths'\n",
    "\n",
    "\n",
    "\n",
    "# Função para verificar a correspondência e retornar a classificação\n",
    "def verificar_correspondencia(row):\n",
    "    for index, row_b in df_b.iterrows():\n",
    "        if row[column_a].startswith(row_b[column_b]):\n",
    "            return row_b[column_return]\n",
    "    return 'causa não evitável'\n",
    "\n",
    "# Aplicando a função a cada linha do DataFrame A\n",
    "df_a['causes_deaths'] = df_a.apply(verificar_correspondencia, axis=1)\n",
    "\n",
    "print(tabulate(df_a.head()))"
   ]
  },
  {
   "cell_type": "code",
   "execution_count": 11,
   "metadata": {},
   "outputs": [
    {
     "name": "stdout",
     "output_type": "stream",
     "text": [
      "Registro da tabela : 4446922\n",
      "+----+------------+-------------+-------------+--------------------------+\n",
      "|    | CAUSABAS   | CODMUNRES   | ANO_OBITO   | causes_deaths            |\n",
      "|----+------------+-------------+-------------+--------------------------|\n",
      "|  0 | I219       | _292740     | _2019       | Ischaemic heart diseases |\n",
      "|  1 | I10        | _355100     | _2019       | Hypertensive diseases    |\n",
      "|  2 | X700       | _500630     | _2019       | Intentional self-harm    |\n",
      "|  3 | C539       | _500500     | _2019       | causa não evitável       |\n",
      "|  4 | V220       | _500627     | _2019       | Transport Accidents      |\n",
      "+----+------------+-------------+-------------+--------------------------+\n"
     ]
    }
   ],
   "source": [
    "# Merge dobr_merged_pop_clean and df_a by CAUSABAS\n",
    "dobr_evit_merged_temp01 = pd.merge(dobr_evit_merged_temp, df_a, on='CAUSABAS', how='left')\n",
    "\n",
    "# mostrar dados gerais da tabela após transformações\n",
    "tab = dobr_evit_merged_temp01\n",
    "print(f'Registro da tabela : {tab.shape[0]}')\n",
    "print(tabulate(tab.head(), headers='keys', tablefmt='psql'))"
   ]
  },
  {
   "cell_type": "code",
   "execution_count": 12,
   "metadata": {},
   "outputs": [
    {
     "data": {
      "text/html": [
       "<div>\n",
       "<style scoped>\n",
       "    .dataframe tbody tr th:only-of-type {\n",
       "        vertical-align: middle;\n",
       "    }\n",
       "\n",
       "    .dataframe tbody tr th {\n",
       "        vertical-align: top;\n",
       "    }\n",
       "\n",
       "    .dataframe thead th {\n",
       "        text-align: right;\n",
       "    }\n",
       "</style>\n",
       "<table border=\"1\" class=\"dataframe\">\n",
       "  <thead>\n",
       "    <tr style=\"text-align: right;\">\n",
       "      <th></th>\n",
       "      <th>CAUSABAS</th>\n",
       "      <th>CODMUNRES</th>\n",
       "      <th>ANO_OBITO</th>\n",
       "    </tr>\n",
       "    <tr>\n",
       "      <th>causes_deaths</th>\n",
       "      <th></th>\n",
       "      <th></th>\n",
       "      <th></th>\n",
       "    </tr>\n",
       "  </thead>\n",
       "  <tbody>\n",
       "    <tr>\n",
       "      <th>Abdominal hernia</th>\n",
       "      <td>5886</td>\n",
       "      <td>5886</td>\n",
       "      <td>5886</td>\n",
       "    </tr>\n",
       "    <tr>\n",
       "      <th>Abscess of lung and mediastinum pyothorax</th>\n",
       "      <td>2512</td>\n",
       "      <td>2512</td>\n",
       "      <td>2512</td>\n",
       "    </tr>\n",
       "    <tr>\n",
       "      <th>Accidental Injuries</th>\n",
       "      <td>101139</td>\n",
       "      <td>101139</td>\n",
       "      <td>101139</td>\n",
       "    </tr>\n",
       "    <tr>\n",
       "      <th>Acute lower respiratory infections</th>\n",
       "      <td>3261</td>\n",
       "      <td>3261</td>\n",
       "      <td>3261</td>\n",
       "    </tr>\n",
       "    <tr>\n",
       "      <th>Acute pancreatitis</th>\n",
       "      <td>11838</td>\n",
       "      <td>11838</td>\n",
       "      <td>11838</td>\n",
       "    </tr>\n",
       "    <tr>\n",
       "      <th>...</th>\n",
       "      <td>...</td>\n",
       "      <td>...</td>\n",
       "      <td>...</td>\n",
       "    </tr>\n",
       "    <tr>\n",
       "      <th>Varicella</th>\n",
       "      <td>270</td>\n",
       "      <td>270</td>\n",
       "      <td>270</td>\n",
       "    </tr>\n",
       "    <tr>\n",
       "      <th>Venous thromboembolism</th>\n",
       "      <td>24558</td>\n",
       "      <td>24558</td>\n",
       "      <td>24558</td>\n",
       "    </tr>\n",
       "    <tr>\n",
       "      <th>Viral Hepatitis</th>\n",
       "      <td>8692</td>\n",
       "      <td>8692</td>\n",
       "      <td>8692</td>\n",
       "    </tr>\n",
       "    <tr>\n",
       "      <th>Whooping cough</th>\n",
       "      <td>29</td>\n",
       "      <td>29</td>\n",
       "      <td>29</td>\n",
       "    </tr>\n",
       "    <tr>\n",
       "      <th>causa não evitável</th>\n",
       "      <td>1909034</td>\n",
       "      <td>1909034</td>\n",
       "      <td>1909034</td>\n",
       "    </tr>\n",
       "  </tbody>\n",
       "</table>\n",
       "<p>81 rows × 3 columns</p>\n",
       "</div>"
      ],
      "text/plain": [
       "                                           CAUSABAS  CODMUNRES  ANO_OBITO\n",
       "causes_deaths                                                            \n",
       "Abdominal hernia                               5886       5886       5886\n",
       "Abscess of lung and mediastinum pyothorax      2512       2512       2512\n",
       "Accidental Injuries                          101139     101139     101139\n",
       "Acute lower respiratory infections             3261       3261       3261\n",
       "Acute pancreatitis                            11838      11838      11838\n",
       "...                                             ...        ...        ...\n",
       "Varicella                                       270        270        270\n",
       "Venous thromboembolism                        24558      24558      24558\n",
       "Viral Hepatitis                                8692       8692       8692\n",
       "Whooping cough                                   29         29         29\n",
       "causa não evitável                          1909034    1909034    1909034\n",
       "\n",
       "[81 rows x 3 columns]"
      ]
     },
     "execution_count": 12,
     "metadata": {},
     "output_type": "execute_result"
    }
   ],
   "source": [
    "# Mostrar resultados de classificacao\n",
    "dobr_evit_merged_temp01.groupby('causes_deaths').count()"
   ]
  },
  {
   "cell_type": "markdown",
   "metadata": {},
   "source": [
    "########## Etapa diferenciada da versão ##########\n",
    "\n",
    "Não serão excluídos os registros com CID de doenças não evitáveis"
   ]
  },
  {
   "cell_type": "code",
   "execution_count": null,
   "metadata": {},
   "outputs": [],
   "source": [
    "# # Manter na base só dados de CID evitáveis\n",
    "# dobr_evit_merged_temp02 = dobr_evit_merged_temp01[dobr_evit_merged_temp01['classificacao']=='Avoidable mortality']\n",
    "\n",
    "# # mostrar dados gerais da tabela após transformações\n",
    "# tab = dobr_evit_merged_temp02\n",
    "# print(f'Registro da tabela : {tab.shape[0]}')\n",
    "# print(tabulate(tab.head(), headers='keys', tablefmt='psql'))"
   ]
  },
  {
   "cell_type": "markdown",
   "metadata": {},
   "source": [
    "#### Resultados do merge de cid_avoid e dobr"
   ]
  },
  {
   "cell_type": "markdown",
   "metadata": {},
   "source": [
    "##########       Etapa diferenciada da versão      ##########\n",
    "\n",
    "Atenção para etapa de salvar arquivo, para não sobrescrever outra versão"
   ]
  },
  {
   "cell_type": "code",
   "execution_count": 13,
   "metadata": {},
   "outputs": [],
   "source": [
    "# Salvar arquivo final de DOBR\n",
    "\n",
    "dobr_evit_merged_temp01.to_parquet('files__temp/AvoidMort_v4_dobr_evit_merged.parquet')"
   ]
  },
  {
   "cell_type": "code",
   "execution_count": 14,
   "metadata": {},
   "outputs": [
    {
     "name": "stdout",
     "output_type": "stream",
     "text": [
      "\u001b[33m ==>  O número de óbitos após a limpeza e que constituía a base de dados de DO era de 4446922 óbitos \u001b[0m\n",
      "\u001b[33m ==>  O número de registros excluídos por apresentar CIDs NÃO EVITÁVEIS foi de 0 óbitos \u001b[0m\n",
      "\u001b[33m ==>  O número de óbitos por CID EVITÁVEIS é de 4446922 óbitos \u001b[0m\n"
     ]
    }
   ],
   "source": [
    "# Contador\n",
    "\n",
    "shape_origin = dobr_evit_merged_temp.CAUSABAS.count()\n",
    "shape_filt = dobr_evit_merged_temp01.CAUSABAS.count()\n",
    "dif = shape_origin - shape_filt\n",
    "\n",
    "\n",
    "print_y(f\" O número de óbitos após a limpeza e que constituía a base de dados de DO era de {shape_origin} óbitos \")\n",
    "print_y(f\" O número de registros excluídos por apresentar CIDs NÃO EVITÁVEIS foi de {dif} óbitos \")\n",
    "print_y(f\" O número de óbitos por CID EVITÁVEIS é de {shape_filt} óbitos \")"
   ]
  },
  {
   "cell_type": "markdown",
   "metadata": {},
   "source": [
    "### Merge de dados de Municípios ao arquivo principal do SIM\n",
    "\n",
    "Serão utilizados os arquivos:\n",
    "\n",
    "* população: 'files_clean/censo_pop_clean.csv'\n",
    "\n",
    "* sim: 'files_clean/dobr_clean.csv'\n",
    "\n",
    "Como a população está clivada em Município, Idade (previamente, todos abaixo de 75 anos), Sexo e Raça, estes campos serão utilizados de maneira conjunta para realizar o merge."
   ]
  },
  {
   "cell_type": "code",
   "execution_count": 15,
   "metadata": {},
   "outputs": [
    {
     "name": "stdout",
     "output_type": "stream",
     "text": [
      "Registro da tabela : 11140\n",
      "+----+-------+---------+------+---------------+----------------------------+-------------+---------------+\n",
      "|    |   Ano | uf_co   | UF   | mun_cod_sim   | mun_no                     |   pop_total |   pop_under74 |\n",
      "|----+-------+---------+------+---------------+----------------------------+-------------+---------------|\n",
      "|  0 |  2010 | _11     | RO   | _110001       | Alta Floresta D'Oeste (RO) |       24392 |         23948 |\n",
      "|  1 |  2010 | _11     | RO   | _110002       | Ariquemes (RO)             |       90353 |         89037 |\n",
      "|  2 |  2010 | _11     | RO   | _110003       | Cabixi (RO)                |        6313 |          6180 |\n",
      "|  3 |  2010 | _11     | RO   | _110004       | Cacoal (RO)                |       78574 |         76947 |\n",
      "|  4 |  2010 | _11     | RO   | _110005       | Cerejeiras (RO)            |       17029 |         16646 |\n",
      "+----+-------+---------+------+---------------+----------------------------+-------------+---------------+\n"
     ]
    }
   ],
   "source": [
    "# Verificar colunas de população no arquivo censo_pop_clean\n",
    "censo_pop_mun_4merge_temp = pd.read_parquet('files__temp/censo_pop_mun.parquet')\n",
    "\n",
    "# mostrar dados gerais da tabela após transformações\n",
    "tab = censo_pop_mun_4merge_temp\n",
    "print(f'Registro da tabela : {tab.shape[0]}')\n",
    "print(tabulate(tab.head(), headers='keys', tablefmt='psql'))"
   ]
  },
  {
   "cell_type": "code",
   "execution_count": 16,
   "metadata": {},
   "outputs": [
    {
     "name": "stdout",
     "output_type": "stream",
     "text": [
      "Registro da tabela : 11140\n",
      "+----+-------+---------+------+---------------+----------------------------+-------------+---------------+--------------+\n",
      "|    |   Ano | uf_co   | UF   | mun_cod_sim   | mun_no                     |   pop_total |   pop_under74 | POP_MERGE    |\n",
      "|----+-------+---------+------+---------------+----------------------------+-------------+---------------+--------------|\n",
      "|  0 |  2010 | _11     | RO   | _110001       | Alta Floresta D'Oeste (RO) |       24392 |         23948 | _2010_110001 |\n",
      "|  1 |  2010 | _11     | RO   | _110002       | Ariquemes (RO)             |       90353 |         89037 | _2010_110002 |\n",
      "|  2 |  2010 | _11     | RO   | _110003       | Cabixi (RO)                |        6313 |          6180 | _2010_110003 |\n",
      "|  3 |  2010 | _11     | RO   | _110004       | Cacoal (RO)                |       78574 |         76947 | _2010_110004 |\n",
      "|  4 |  2010 | _11     | RO   | _110005       | Cerejeiras (RO)            |       17029 |         16646 | _2010_110005 |\n",
      "+----+-------+---------+------+---------------+----------------------------+-------------+---------------+--------------+\n"
     ]
    }
   ],
   "source": [
    "# Criar um campo string que concatene ANO, CODMUN_SIM, Sexo e cor\n",
    "censo_pop_mun_4merge_temp01 = censo_pop_mun_4merge_temp.copy()\n",
    "\n",
    "censo_pop_mun_4merge_temp01['POP_MERGE'] = '_' + censo_pop_mun_4merge_temp01['Ano'].astype(str) + censo_pop_mun_4merge_temp01['mun_cod_sim']\n",
    "\n",
    "\n",
    "# mostrar dados gerais da tabela após transformações\n",
    "tab = censo_pop_mun_4merge_temp01\n",
    "print(f'Registro da tabela : {tab.shape[0]}')\n",
    "print(tabulate(tab.head(), headers='keys', tablefmt='psql'))"
   ]
  },
  {
   "cell_type": "code",
   "execution_count": 17,
   "metadata": {},
   "outputs": [
    {
     "name": "stdout",
     "output_type": "stream",
     "text": [
      "Series([], Name: count, dtype: int64)\n"
     ]
    }
   ],
   "source": [
    "# Contar quantos valores são repetidos na coluna 'POP_MERGE'\n",
    "repeated_values = censo_pop_mun_4merge_temp01['POP_MERGE'].value_counts()\n",
    "\n",
    "# Filtrar os valores que aparecem mais de uma vez\n",
    "repeated_more_than_once = repeated_values[repeated_values > 1]\n",
    "\n",
    "# Exibir os valores repetidos\n",
    "print(repeated_more_than_once)"
   ]
  },
  {
   "cell_type": "code",
   "execution_count": 18,
   "metadata": {},
   "outputs": [
    {
     "name": "stdout",
     "output_type": "stream",
     "text": [
      "Registro da tabela : 4446922\n",
      "+----+------------+-------------+-------------+--------------------------+\n",
      "|    | CAUSABAS   | CODMUNRES   | ANO_OBITO   | causes_deaths            |\n",
      "|----+------------+-------------+-------------+--------------------------|\n",
      "|  0 | I219       | _292740     | _2019       | Ischaemic heart diseases |\n",
      "|  1 | I10        | _355100     | _2019       | Hypertensive diseases    |\n",
      "|  2 | X700       | _500630     | _2019       | Intentional self-harm    |\n",
      "|  3 | C539       | _500500     | _2019       | causa não evitável       |\n",
      "|  4 | V220       | _500627     | _2019       | Transport Accidents      |\n",
      "+----+------------+-------------+-------------+--------------------------+\n"
     ]
    }
   ],
   "source": [
    "# Exibir arquivo dobr_clean\n",
    "dobr_merged_temp = pd.read_parquet('files__temp/AvoidMort_v4_dobr_evit_merged.parquet')\n",
    "\n",
    "# mostrar dados gerais da tabela após transformações\n",
    "tab = dobr_merged_temp\n",
    "print(f'Registro da tabela : {tab.shape[0]}')\n",
    "print(tabulate(tab.head(), headers='keys', tablefmt='psql'))"
   ]
  },
  {
   "cell_type": "code",
   "execution_count": 37,
   "metadata": {},
   "outputs": [
    {
     "name": "stdout",
     "output_type": "stream",
     "text": [
      "Registro da tabela : 4446922\n",
      "+----+------------+-------------+-------------+--------------------------+--------------+-------------+\n",
      "|    | CAUSABAS   | CODMUNRES   | ANO_OBITO   | causes_deaths            | POP_MERGE    | ANO_PROXY   |\n",
      "|----+------------+-------------+-------------+--------------------------+--------------+-------------|\n",
      "|  0 | I219       | _292740     | _2019       | Ischaemic heart diseases | _2022_292740 | _2022       |\n",
      "|  1 | I10        | _355100     | _2019       | Hypertensive diseases    | _2022_355100 | _2022       |\n",
      "|  2 | X700       | _500630     | _2019       | Intentional self-harm    | _2022_500630 | _2022       |\n",
      "|  3 | C539       | _500500     | _2019       | causa não evitável       | _2022_500500 | _2022       |\n",
      "|  4 | V220       | _500627     | _2019       | Transport Accidents      | _2022_500627 | _2022       |\n",
      "+----+------------+-------------+-------------+--------------------------+--------------+-------------+\n"
     ]
    }
   ],
   "source": [
    "# # Gerar um campo de ano para proxy de 2022 (para ser aplicados aos anos de 19 a 22)\n",
    "dobr_merged_temp01 = dobr_merged_temp.copy()\n",
    "\n",
    "dobr_merged_temp01['ANO_PROXY'] = dobr_merged_temp01['ANO_OBITO'].apply(lambda x: '_2010' if x == '_2010' else '_2022')\n",
    "\n",
    "# # Criar um campo string que concatene ANO, CODMUNRES\n",
    "dobr_merged_temp01['POP_MERGE'] = dobr_merged_temp01['ANO_PROXY'].astype(str) + dobr_merged_temp['CODMUNRES']\n",
    "\n",
    "# # mostrar dados gerais da tabela após transformações\n",
    "tab = dobr_merged_temp01\n",
    "print(f'Registro da tabela : {tab.shape[0]}')\n",
    "print(tabulate(tab.head(), headers='keys', tablefmt='psql'))"
   ]
  },
  {
   "cell_type": "code",
   "execution_count": 44,
   "metadata": {},
   "outputs": [
    {
     "name": "stdout",
     "output_type": "stream",
     "text": [
      "Anos de ANO_OBITO ['_2019' '_2020' '_2021' '_2022' '_2010']\n",
      "Anos de ANO_PROXY ['_2022' '_2010']\n",
      "Anos de Censo ['2010' '2022']\n"
     ]
    }
   ],
   "source": [
    "# # Verificar operação acima\n",
    "print(f'Anos de ANO_OBITO {dobr_merged_temp01['ANO_OBITO'].unique()}')\n",
    "print(f'Anos de ANO_PROXY {dobr_merged_temp01['ANO_PROXY'].unique()}')\n",
    "print(f'Anos de Censo {censo_pop_mun_4merge_temp01['Ano'].unique()}')"
   ]
  },
  {
   "cell_type": "code",
   "execution_count": 43,
   "metadata": {},
   "outputs": [
    {
     "name": "stdout",
     "output_type": "stream",
     "text": [
      "Número de registros de dobr com 'POP_MERGE' maior que 12 caracteres: 0\n",
      "Número de registros de censo_pop_mun com 'POP_MERGE' maior que 12 caracteres: 0\n"
     ]
    }
   ],
   "source": [
    "# Contar o número de caracteres de cada valor na coluna 'POP_MERGE'\n",
    "lengths = dobr_merged_temp01['POP_MERGE'].str.len()\n",
    "num_records = lengths[lengths > 12].count()\n",
    "print(f\"Número de registros de dobr com 'POP_MERGE' maior que 12 caracteres: {num_records}\")\n",
    "lengths2 = censo_pop_mun_4merge_temp01['POP_MERGE'].str.len()\n",
    "num_records2 = lengths2[lengths2 > 12].count()\n",
    "print(f\"Número de registros de censo_pop_mun com 'POP_MERGE' maior que 12 caracteres: {num_records2}\")"
   ]
  },
  {
   "cell_type": "markdown",
   "metadata": {},
   "source": [
    "##########       Etapa diferenciada da versão      ##########\n",
    "\n",
    "Iremos excluir o CAUSABAS, mas agrupar por município, ano e cause_deaths.\n",
    "O contador de mortes portanto está atrelado ao cause_deaths."
   ]
  },
  {
   "cell_type": "code",
   "execution_count": 57,
   "metadata": {
    "vscode": {
     "languageId": "shellscript"
    }
   },
   "outputs": [
    {
     "name": "stdout",
     "output_type": "stream",
     "text": [
      "Registros da tabela : 473555\n",
      "Total de óbitos : 4446922\n",
      "+----+-------------+-------------+--------------+--------------------------------------------------------------------+------------+\n",
      "|    | CODMUNRES   | ANO_OBITO   | POP_MERGE    | causes_deaths                                                      |   CONTADOR |\n",
      "|----+-------------+-------------+--------------+--------------------------------------------------------------------+------------|\n",
      "|  0 | _110000     | _2010       | _2010_110000 | Accidental Injuries                                                |          3 |\n",
      "|  1 | _110000     | _2010       | _2010_110000 | Assault                                                            |         10 |\n",
      "|  2 | _110000     | _2010       | _2010_110000 | Cerebrovascular diseases                                           |          1 |\n",
      "|  3 | _110000     | _2010       | _2010_110000 | Chronic lower respiratory diseases                                 |          1 |\n",
      "|  4 | _110000     | _2010       | _2010_110000 | Congenital malformations of the circulatory system (heart defects) |          1 |\n",
      "+----+-------------+-------------+--------------+--------------------------------------------------------------------+------------+\n"
     ]
    }
   ],
   "source": [
    "# Agrupar por POP_MERGE e somar os registros, não contabilizando mais por CAUSABAS\n",
    "\n",
    "col_group= [\n",
    "            # 'CAUSABAS', \n",
    "            'CODMUNRES', 'ANO_OBITO','POP_MERGE','causes_deaths']\n",
    "dobr_merged_temp02 = dobr_merged_temp01.groupby(col_group)['CAUSABAS'].count().reset_index()\n",
    "\n",
    "# Renomear o campo CAUSABAS para CONTADOR\n",
    "dobr_merged_temp02.rename(columns={'CAUSABAS':'CONTADOR'}, inplace=True)\n",
    "\n",
    "\n",
    "# mostrar dados gerais da tabela após transformações\n",
    "tab = dobr_merged_temp02\n",
    "print(f'Registros da tabela : {tab.shape[0]}')\n",
    "print(f'Total de óbitos : {tab.CONTADOR.sum()}')\n",
    "print(tabulate(tab.head(), headers='keys', tablefmt='psql'))"
   ]
  },
  {
   "cell_type": "code",
   "execution_count": 33,
   "metadata": {
    "vscode": {
     "languageId": "shellscript"
    }
   },
   "outputs": [
    {
     "data": {
      "text/plain": [
       "Index(['Ano', 'uf_co', 'UF', 'mun_cod_sim', 'mun_no', 'pop_total',\n",
       "       'pop_under74', 'POP_MERGE'],\n",
       "      dtype='object')"
      ]
     },
     "execution_count": 33,
     "metadata": {},
     "output_type": "execute_result"
    }
   ],
   "source": [
    "# Verificação dos nomes das colunas\n",
    "censo_pop_mun_4merge_temp01.columns"
   ]
  },
  {
   "cell_type": "code",
   "execution_count": 58,
   "metadata": {},
   "outputs": [
    {
     "name": "stdout",
     "output_type": "stream",
     "text": [
      "Registros da tabela : 473555\n",
      "Total de óbitos : 4446922\n",
      "+----+-------------+-------------+--------------+--------------------------------------------------------------------+------------+---------------+------+----------+\n",
      "|    | CODMUNRES   | ANO_OBITO   | POP_MERGE    | causes_deaths                                                      |   CONTADOR |   pop_under74 |   UF |   mun_no |\n",
      "|----+-------------+-------------+--------------+--------------------------------------------------------------------+------------+---------------+------+----------|\n",
      "|  0 | _110000     | _2010       | _2010_110000 | Accidental Injuries                                                |          3 |           nan |  nan |      nan |\n",
      "|  1 | _110000     | _2010       | _2010_110000 | Assault                                                            |         10 |           nan |  nan |      nan |\n",
      "|  2 | _110000     | _2010       | _2010_110000 | Cerebrovascular diseases                                           |          1 |           nan |  nan |      nan |\n",
      "|  3 | _110000     | _2010       | _2010_110000 | Chronic lower respiratory diseases                                 |          1 |           nan |  nan |      nan |\n",
      "|  4 | _110000     | _2010       | _2010_110000 | Congenital malformations of the circulatory system (heart defects) |          1 |           nan |  nan |      nan |\n",
      "+----+-------------+-------------+--------------+--------------------------------------------------------------------+------------+---------------+------+----------+\n"
     ]
    }
   ],
   "source": [
    "# Definir campos de censo_pop para merge\n",
    "censo_pop_mun_4merge_temp02 = censo_pop_mun_4merge_temp01[['POP_MERGE','pop_under74','UF','mun_no']]\n",
    "\n",
    "# Realizar o merge dos dataframes\n",
    "dobr_merged_temp03 = pd.merge(dobr_merged_temp02, censo_pop_mun_4merge_temp02, left_on=['POP_MERGE'], right_on=['POP_MERGE'], how='left')\n",
    "\n",
    "# mostrar dados gerais da tabela após transformações\n",
    "tab = dobr_merged_temp03\n",
    "print(f'Registros da tabela : {tab.shape[0]}')\n",
    "print(f'Total de óbitos : {tab.CONTADOR.sum()}')\n",
    "print(tabulate(tab.head(), headers='keys', tablefmt='psql'))"
   ]
  },
  {
   "cell_type": "code",
   "execution_count": 59,
   "metadata": {},
   "outputs": [
    {
     "name": "stdout",
     "output_type": "stream",
     "text": [
      "Registros da tabela : 472557\n",
      "Total de óbitos : 4440843\n",
      "+----+-------------+-------------+--------------+-------------------------------------------+------------+---------------+------+----------------------------+\n",
      "|    | CODMUNRES   | ANO_OBITO   | POP_MERGE    | causes_deaths                             |   CONTADOR |   pop_under74 | UF   | mun_no                     |\n",
      "|----+-------------+-------------+--------------+-------------------------------------------+------------+---------------+------+----------------------------|\n",
      "|  0 | _110001     | _2010       | _2010_110001 | Accidental Injuries                       |          1 |         23948 | RO   | Alta Floresta D'Oeste (RO) |\n",
      "|  1 | _110001     | _2010       | _2010_110001 | Alcohol-specific disorders and poisonings |          2 |         23948 | RO   | Alta Floresta D'Oeste (RO) |\n",
      "|  2 | _110001     | _2010       | _2010_110001 | Appendicitis                              |          1 |         23948 | RO   | Alta Floresta D'Oeste (RO) |\n",
      "|  3 | _110001     | _2010       | _2010_110001 | Assault                                   |          7 |         23948 | RO   | Alta Floresta D'Oeste (RO) |\n",
      "|  4 | _110001     | _2010       | _2010_110001 | Cerebrovascular diseases                  |          3 |         23948 | RO   | Alta Floresta D'Oeste (RO) |\n",
      "+----+-------------+-------------+--------------+-------------------------------------------+------------+---------------+------+----------------------------+\n"
     ]
    }
   ],
   "source": [
    "# Filtrar registros onde pop_under74 não é nulo\n",
    "dobr_merged_temp04 = dobr_merged_temp03.dropna(subset=['pop_under74']).reset_index(drop=True)\n",
    "\n",
    "# mostrar dados gerais da tabela após transformações\n",
    "tab = dobr_merged_temp04\n",
    "print(f'Registros da tabela : {tab.shape[0]}')\n",
    "print(f'Total de óbitos : {tab.CONTADOR.sum()}')\n",
    "print(tabulate(tab.head(), headers='keys', tablefmt='psql'))"
   ]
  },
  {
   "cell_type": "markdown",
   "metadata": {},
   "source": [
    "##### Arquivo tratado final"
   ]
  },
  {
   "cell_type": "code",
   "execution_count": 61,
   "metadata": {},
   "outputs": [],
   "source": [
    "dobr_merged_temp04.to_parquet('files__temp/AvoidMort_v4_dobr_merged.parquet')"
   ]
  },
  {
   "cell_type": "code",
   "execution_count": 60,
   "metadata": {
    "vscode": {
     "languageId": "powershell"
    }
   },
   "outputs": [
    {
     "name": "stdout",
     "output_type": "stream",
     "text": [
      "\u001b[33m ==>  O número de óbitos após merge com tabela de CIDs evitáveis era de 4446922 óbitos \u001b[0m\n",
      "\u001b[33m ==>  Foram excluídos, por apresentar problemas para carga de informações de município, 6079 óbitos \u001b[0m\n",
      "\u001b[33m ==>  O número de óbitos total após filtro de CID evitáveis e inclusão de população do censo é de 4440843 óbitos \u001b[0m\n"
     ]
    }
   ],
   "source": [
    "# Resultados\n",
    "\n",
    "obito_origin = dobr_merged_temp.CAUSABAS.count()\n",
    "obito_final = dobr_merged_temp04.CONTADOR.sum()\n",
    "dif = obito_origin - obito_final\n",
    "\n",
    "\n",
    "print_y(f\" O número de óbitos após merge com tabela de CIDs evitáveis era de {obito_origin} óbitos \")\n",
    "print_y(f\" Foram excluídos, por apresentar problemas para carga de informações de município, {dif} óbitos \")\n",
    "print_y(f\" O número de óbitos total após filtro de CID evitáveis e inclusão de população do censo é de {obito_final} óbitos \")\n",
    "\n",
    "\n",
    "# # Filtrar registros onde pop_under74 é null\n",
    "# dobr_merged_pop_nulos = dobr_merged_pop[dobr_merged_pop['pop_under74'].isnull()]\n",
    "\n",
    "# # Exibir os registros filtrados\n",
    "# dobr_merged_pop_nulos['obito_count'].sum()"
   ]
  },
  {
   "cell_type": "markdown",
   "metadata": {},
   "source": [
    "# Etapa 3 - Aplicação de Modelo do HEAT ao Bloco"
   ]
  },
  {
   "cell_type": "markdown",
   "metadata": {},
   "source": [
    "O modelo HEAT apresenta um framework bem rígido e objetivo para carga de dados.\n",
    "\n",
    "O dataset precisa estar organizado com os labels e de acordo com a definição presente no template.\n",
    "\n",
    "E depois precisa ser validado em planilha excel disponibilizada pela organização.\n",
    "\n",
    "Ajustes: com a identificação da população por sexo e raça, encontramos 37 registros com população 0. Tivemos que excluir estes registros (incluindo os óbitos) no momento da preparação do dataset do heat em razão do modelo não aceitar estes valores."
   ]
  },
  {
   "cell_type": "markdown",
   "metadata": {},
   "source": [
    "## Dataset 4 - BR/CIDs/uf/Mun\n",
    "\n",
    "\n",
    "O primeiro dataset que iremos construir tem as seguintes características:\n",
    "\n",
    "* set = Brasil\n",
    "* indicador = causes_deaths\n",
    "* dimen = UF\n",
    "* subgroup = município\n",
    "* estimate = mortalidade por ano, causa (indicador) e subgroup\n",
    "* set-avg = mortalidade por ano e causa (indicador)\n",
    "\n",
    "Estas escolhas implicam em podermos disponibilizar ao usuário do HEAT a possibilidade de ver os municípios (dimensões) de maneira agregada por UF. \n"
   ]
  },
  {
   "cell_type": "code",
   "execution_count": 3,
   "metadata": {
    "vscode": {
     "languageId": "powershell"
    }
   },
   "outputs": [],
   "source": [
    "# Define the URL and the destination path\n",
    "url = \"https://srhdpeuwpubsa.blob.core.windows.net/whdh/HIDR/heat_plus_template_validation.xlsm\"\n",
    "destination_path = \"downloads_outros/heat_plus_template_validation.xlsm\"\n",
    "\n",
    "# Download the file\n",
    "response = requests.get(url)\n",
    "with open(destination_path, 'wb') as file:\n",
    "    file.write(response.content)\n",
    "\n",
    "# Note: Enabling macros programmatically is not recommended due to security risks.\n",
    "# Macros should be enabled manually in Excel settings."
   ]
  },
  {
   "cell_type": "code",
   "execution_count": 3,
   "metadata": {},
   "outputs": [
    {
     "name": "stdout",
     "output_type": "stream",
     "text": [
      "Registros da tabela : 472557\n",
      "Total de óbitos : 4440843\n",
      "+----+-------------+-------------+--------------+-------------------------------------------+------------+---------------+------+----------------------------+\n",
      "|    | CODMUNRES   | ANO_OBITO   | POP_MERGE    | causes_deaths                             |   CONTADOR |   pop_under74 | UF   | mun_no                     |\n",
      "|----+-------------+-------------+--------------+-------------------------------------------+------------+---------------+------+----------------------------|\n",
      "|  0 | _110001     | _2010       | _2010_110001 | Accidental Injuries                       |          1 |         23948 | RO   | Alta Floresta D'Oeste (RO) |\n",
      "|  1 | _110001     | _2010       | _2010_110001 | Alcohol-specific disorders and poisonings |          2 |         23948 | RO   | Alta Floresta D'Oeste (RO) |\n",
      "|  2 | _110001     | _2010       | _2010_110001 | Appendicitis                              |          1 |         23948 | RO   | Alta Floresta D'Oeste (RO) |\n",
      "|  3 | _110001     | _2010       | _2010_110001 | Assault                                   |          7 |         23948 | RO   | Alta Floresta D'Oeste (RO) |\n",
      "|  4 | _110001     | _2010       | _2010_110001 | Cerebrovascular diseases                  |          3 |         23948 | RO   | Alta Floresta D'Oeste (RO) |\n",
      "+----+-------------+-------------+--------------+-------------------------------------------+------------+---------------+------+----------------------------+\n"
     ]
    }
   ],
   "source": [
    "# Abrir arquivo final de DO após tratamento\n",
    "heatds_temp = pd.read_parquet('files__temp/AvoidMort_v4_dobr_merged.parquet')\n",
    "\n",
    "# mostrar dados gerais da tabela após transformações\n",
    "tab = heatds_temp\n",
    "print(f'Registros da tabela : {tab.shape[0]}')\n",
    "print(f'Total de óbitos : {tab.CONTADOR.sum()}')\n",
    "print(tabulate(tab.head(), headers='keys', tablefmt='psql'))"
   ]
  },
  {
   "cell_type": "code",
   "execution_count": 38,
   "metadata": {
    "vscode": {
     "languageId": "ruby"
    }
   },
   "outputs": [],
   "source": [
    "# # Agregar os dados sem CID e gerar colunas de soma de obito_count e pop_under74\n",
    "# heat_semCID = heat_.groupby(['UF', 'mun_nome', 'CODMUNRES', 'SEXO', 'RACACOR', 'ANO']).agg({\n",
    "#     'obito_count': 'sum',\n",
    "#     'pop_under74': 'sum'\n",
    "# }).reset_index()"
   ]
  },
  {
   "cell_type": "markdown",
   "metadata": {},
   "source": [
    "##########       Etapa diferenciada da versão      ##########\n",
    "\n",
    "Para melhor registro, utilizamos o label mort_ind_mun_causedeath para deixar claro que o indicador é relativo a município e causa de morte"
   ]
  },
  {
   "cell_type": "code",
   "execution_count": 4,
   "metadata": {
    "vscode": {
     "languageId": "ruby"
    }
   },
   "outputs": [
    {
     "name": "stdout",
     "output_type": "stream",
     "text": [
      "Registros da tabela : 472557\n",
      "Total de óbitos : 4440843\n",
      "+----+-------------+-------------+--------------+-------------------------------------------+------------+---------------+------+----------------------------+---------------------------+\n",
      "|    | CODMUNRES   | ANO_OBITO   | POP_MERGE    | causes_deaths                             |   CONTADOR |   pop_under74 | UF   | mun_no                     |   mort_ind_mun_causedeath |\n",
      "|----+-------------+-------------+--------------+-------------------------------------------+------------+---------------+------+----------------------------+---------------------------|\n",
      "|  0 | _110001     | _2010       | _2010_110001 | Accidental Injuries                       |          1 |         23948 | RO   | Alta Floresta D'Oeste (RO) |                   4.17571 |\n",
      "|  1 | _110001     | _2010       | _2010_110001 | Alcohol-specific disorders and poisonings |          2 |         23948 | RO   | Alta Floresta D'Oeste (RO) |                   8.35143 |\n",
      "|  2 | _110001     | _2010       | _2010_110001 | Appendicitis                              |          1 |         23948 | RO   | Alta Floresta D'Oeste (RO) |                   4.17571 |\n",
      "|  3 | _110001     | _2010       | _2010_110001 | Assault                                   |          7 |         23948 | RO   | Alta Floresta D'Oeste (RO) |                  29.23    |\n",
      "|  4 | _110001     | _2010       | _2010_110001 | Cerebrovascular diseases                  |          3 |         23948 | RO   | Alta Floresta D'Oeste (RO) |                  12.5271  |\n",
      "+----+-------------+-------------+--------------+-------------------------------------------+------------+---------------+------+----------------------------+---------------------------+\n"
     ]
    }
   ],
   "source": [
    "# Gerar o indicador de mortalidade (por 100 mil habitantes) e exibir as primeiras linhas do DataFrame\n",
    "heatds_temp01 = heatds_temp.copy()\n",
    "\n",
    "heatds_temp01['mort_ind_mun_causedeath'] = (heatds_temp01['CONTADOR']/heatds_temp01['pop_under74'])*100000\n",
    "\n",
    "# mostrar dados gerais da tabela após transformações\n",
    "tab = heatds_temp01\n",
    "print(f'Registros da tabela : {tab.shape[0]}')\n",
    "print(f'Total de óbitos : {tab.CONTADOR.sum()}')\n",
    "print(tabulate(tab.head(), headers='keys', tablefmt='psql'))"
   ]
  },
  {
   "cell_type": "code",
   "execution_count": 5,
   "metadata": {},
   "outputs": [
    {
     "name": "stdout",
     "output_type": "stream",
     "text": [
      "Número de valores infinitos em mort_ind_mun: 0\n",
      "Valores nulos em 'mort_ind_mun': 0\n"
     ]
    }
   ],
   "source": [
    "# Contar e gerar tabela de indicador de mortalidade infinitos [inf]\n",
    "registros_inf = heatds_temp01[np.isinf(heatds_temp01['mort_ind_mun_causedeath'])]\n",
    "inf_count = np.isinf(heatds_temp01['mort_ind_mun_causedeath']).sum()\n",
    "nulos_mort_ind_mun = heatds_temp01['mort_ind_mun_causedeath'].isnull().sum()\n",
    "\n",
    "\n",
    "# Exibir os registros filtrados\n",
    "print(f\"Número de valores infinitos em mort_ind_mun: {inf_count}\")\n",
    "print(f\"Valores nulos em 'mort_ind_mun': {nulos_mort_ind_mun}\")\n",
    "\n",
    "\n",
    "\n",
    "# Exportar registros de indicador de mortalidade infinitos [inf]\n",
    "# registros_inf.to_csv('exportar/relatorio_reg_mort_ind_inf.csv')"
   ]
  },
  {
   "cell_type": "code",
   "execution_count": null,
   "metadata": {},
   "outputs": [],
   "source": [
    "# # Limpar a base de registros de indicador de mortalidade infinitos [inf]\n",
    "# heat_ds_treat2 = heat_ds_treat.copy()\n",
    "\n",
    "# # Substituir valores infinitos por NaN\n",
    "# heat_ds_treat2['mort_ind_mun'].replace([np.inf, -np.inf], np.nan, inplace=True)"
   ]
  },
  {
   "cell_type": "code",
   "execution_count": null,
   "metadata": {},
   "outputs": [],
   "source": [
    "# # Rodar se for necessário excluir valores nulos\n",
    "# heatds_temp02 = heatds_temp01.copy()\n",
    "\n",
    "# # Excluir registros com NaN na coluna mort_ind_mun\n",
    "# heatds_temp02.dropna(subset=['mort_ind_mun'], inplace=True)\n",
    "\n",
    "# # Mudar o nome da coluna mort_ind para mort_ind_mun\n",
    "# # heat_ds_treat2.rename(columns={'mort_ind':'mort_ind_mun'}, inplace=True)\n",
    "\n",
    "\n",
    "# # Verificar as primeiras linhas do DataFrame atualizado\n",
    "# heat_ds_treat1.head()"
   ]
  },
  {
   "cell_type": "code",
   "execution_count": 6,
   "metadata": {},
   "outputs": [
    {
     "data": {
      "text/html": [
       "<div>\n",
       "<style scoped>\n",
       "    .dataframe tbody tr th:only-of-type {\n",
       "        vertical-align: middle;\n",
       "    }\n",
       "\n",
       "    .dataframe tbody tr th {\n",
       "        vertical-align: top;\n",
       "    }\n",
       "\n",
       "    .dataframe thead th {\n",
       "        text-align: right;\n",
       "    }\n",
       "</style>\n",
       "<table border=\"1\" class=\"dataframe\">\n",
       "  <thead>\n",
       "    <tr style=\"text-align: right;\">\n",
       "      <th></th>\n",
       "      <th>CONTADOR</th>\n",
       "      <th>pop_under74</th>\n",
       "      <th>mort_ind_mun_causedeath</th>\n",
       "    </tr>\n",
       "  </thead>\n",
       "  <tbody>\n",
       "    <tr>\n",
       "      <th>count</th>\n",
       "      <td>472557.000000</td>\n",
       "      <td>4.725570e+05</td>\n",
       "      <td>472557.000000</td>\n",
       "    </tr>\n",
       "    <tr>\n",
       "      <th>mean</th>\n",
       "      <td>9.397476</td>\n",
       "      <td>8.285577e+04</td>\n",
       "      <td>26.700906</td>\n",
       "    </tr>\n",
       "    <tr>\n",
       "      <th>std</th>\n",
       "      <td>117.927717</td>\n",
       "      <td>3.874791e+05</td>\n",
       "      <td>49.167856</td>\n",
       "    </tr>\n",
       "    <tr>\n",
       "      <th>min</th>\n",
       "      <td>1.000000</td>\n",
       "      <td>7.820000e+02</td>\n",
       "      <td>0.009177</td>\n",
       "    </tr>\n",
       "    <tr>\n",
       "      <th>25%</th>\n",
       "      <td>1.000000</td>\n",
       "      <td>9.544000e+03</td>\n",
       "      <td>4.990269</td>\n",
       "    </tr>\n",
       "    <tr>\n",
       "      <th>50%</th>\n",
       "      <td>2.000000</td>\n",
       "      <td>1.975300e+04</td>\n",
       "      <td>12.059817</td>\n",
       "    </tr>\n",
       "    <tr>\n",
       "      <th>75%</th>\n",
       "      <td>5.000000</td>\n",
       "      <td>4.994000e+04</td>\n",
       "      <td>26.271166</td>\n",
       "    </tr>\n",
       "    <tr>\n",
       "      <th>max</th>\n",
       "      <td>35890.000000</td>\n",
       "      <td>1.089676e+07</td>\n",
       "      <td>870.195794</td>\n",
       "    </tr>\n",
       "  </tbody>\n",
       "</table>\n",
       "</div>"
      ],
      "text/plain": [
       "            CONTADOR   pop_under74  mort_ind_mun_causedeath\n",
       "count  472557.000000  4.725570e+05            472557.000000\n",
       "mean        9.397476  8.285577e+04                26.700906\n",
       "std       117.927717  3.874791e+05                49.167856\n",
       "min         1.000000  7.820000e+02                 0.009177\n",
       "25%         1.000000  9.544000e+03                 4.990269\n",
       "50%         2.000000  1.975300e+04                12.059817\n",
       "75%         5.000000  4.994000e+04                26.271166\n",
       "max     35890.000000  1.089676e+07               870.195794"
      ]
     },
     "execution_count": 6,
     "metadata": {},
     "output_type": "execute_result"
    }
   ],
   "source": [
    "# Verificar se existe valor infinito ou negativo na coluna mort_ind_mun\n",
    "heatds_temp01.describe()"
   ]
  },
  {
   "cell_type": "markdown",
   "metadata": {},
   "source": [
    "##### Agrupar por UF para gerar setting e setting-average\n",
    "\n",
    "De acordo com o template do HEAT, o setting average: \"must be consistent for the same combinantion of: setting, year, source and indicator\".\n",
    "\n",
    "Isto implica que os valores para cada setting (UF) não traz interferência nem da dimensão (município) e nem do subgrupo (sexo-raça-cor)."
   ]
  },
  {
   "cell_type": "code",
   "execution_count": null,
   "metadata": {
    "vscode": {
     "languageId": "ruby"
    }
   },
   "outputs": [],
   "source": [
    "# # Agrupar por 'UF', 'ANO', e calcular a média de 'mort_ind'\n",
    "# dobr_grouped_uf = heat_ds_treat2.groupby(['UF',\n",
    "#                                              'ANO_OBITO',\n",
    "#                                             #  'SEXO',\n",
    "#                                             #  'RACACOR'\n",
    "#                                              ]).agg({'CONTADOR': 'sum',\n",
    "#                                                     'pop_under74': 'sum',\n",
    "#                                                     'mort_ind_mun': 'mean'\n",
    "#                                                 }).reset_index()\n",
    "# dobr_grouped_uf.rename(columns={'mort_ind_mun': 'mort_ind_uf',\n",
    "#                                 'CONTADOR': 'obito_count_uf',\n",
    "#                                 'pop_under74': 'pop_under74_uf',\n",
    "#                                 }, inplace=True)\n",
    "\n",
    "\n",
    "# # Exibir as primeiras linhas do DataFrame resultante\n",
    "# dobr_grouped_uf.head()"
   ]
  },
  {
   "cell_type": "code",
   "execution_count": null,
   "metadata": {
    "vscode": {
     "languageId": "ruby"
    }
   },
   "outputs": [],
   "source": [
    "# dobr_grouped_uf.describe()"
   ]
  },
  {
   "cell_type": "code",
   "execution_count": null,
   "metadata": {
    "vscode": {
     "languageId": "ruby"
    }
   },
   "outputs": [],
   "source": [
    "# Salvar arquivo por UF para exportação\n",
    "# dobr_grouped_uf.to_excel('exportar/dobr_grouped_uf_v2.xlsx', index=False)"
   ]
  },
  {
   "cell_type": "code",
   "execution_count": null,
   "metadata": {
    "vscode": {
     "languageId": "ruby"
    }
   },
   "outputs": [],
   "source": [
    "# heat_ds_treat2.columns"
   ]
  },
  {
   "cell_type": "code",
   "execution_count": null,
   "metadata": {},
   "outputs": [],
   "source": [
    "# # Trazer dados por UF (setting e setting_average)\n",
    "\n",
    "# # Realizar o merge entre heat_ e uf_sett\n",
    "# heat_treat00 = pd.merge(heat_ds_treat2, dobr_grouped_uf, on=['UF',\n",
    "#                                                                 'ANO_OBITO',\n",
    "#                                                                 # 'SEXO',\n",
    "#                                                                 # 'RACACOR'\n",
    "#                                                                 ], how='left')\n",
    "\n",
    "# # Exibir as primeiras linhas do dataframe resultante\n",
    "# heat_treat00.head()"
   ]
  },
  {
   "cell_type": "code",
   "execution_count": null,
   "metadata": {},
   "outputs": [],
   "source": [
    "# # Teste de aplicação de setting_average (médias por UF)\n",
    "# filtered_data = heat_treat00[   (heat_treat00['ANO_OBITO'] == '_2022') &\n",
    "#                                 (heat_treat00['UF'] == 'AC') \n",
    "#                                 # & (heat_treat00['SEXO'] == '_1') &\n",
    "#                                 #(heat_treat00['RACACOR'] == '_4')\n",
    "#                               ]\n",
    "# filtered_data.head()"
   ]
  },
  {
   "cell_type": "code",
   "execution_count": null,
   "metadata": {},
   "outputs": [],
   "source": [
    "# heat_treat00.columns"
   ]
  },
  {
   "cell_type": "code",
   "execution_count": null,
   "metadata": {},
   "outputs": [],
   "source": [
    "# heat_treat00.pop_under74_uf.sum()"
   ]
  },
  {
   "cell_type": "code",
   "execution_count": null,
   "metadata": {},
   "outputs": [],
   "source": [
    "# obito_num = heat_treat00.CONTADOR.sum()\n",
    "# pop_under74 = heat_treat00.pop_under74.sum()\n",
    "\n",
    "# print(f\"\\033[33m ==> Número de mortes: {obito_num} \\033[0m\")\n",
    "# print(f\"\\033[33m ==> Número de população abaixo de 75 anos é de {pop_under74} \\033[0m\")  \n"
   ]
  },
  {
   "cell_type": "code",
   "execution_count": null,
   "metadata": {},
   "outputs": [],
   "source": [
    "# heat_template = row\n",
    "# heat_template"
   ]
  },
  {
   "cell_type": "markdown",
   "metadata": {},
   "source": [
    "##### Criar colunas do dataset"
   ]
  },
  {
   "cell_type": "markdown",
   "metadata": {},
   "source": [
    "##########       Etapa diferenciada da versão      ##########\n",
    "\n",
    "Esta etapa precisa bastante atenção.\n",
    "\n",
    "Se considerarmos causes_deaths como dimensão, ela precisa ser ignorada na criação so set-avg.\n",
    "\n",
    "Pelo contrário, se formos tratar causes_deaths como indicador, ele precisa ser considerado na criação do set-avg.\n",
    "\n",
    "Vamos realizar abaixo causes_deaths como indicador."
   ]
  },
  {
   "cell_type": "code",
   "execution_count": 7,
   "metadata": {},
   "outputs": [
    {
     "data": {
      "text/plain": [
       "Index(['CODMUNRES', 'ANO_OBITO', 'POP_MERGE', 'causes_deaths', 'CONTADOR',\n",
       "       'pop_under74', 'UF', 'mun_no', 'mort_ind_mun_causedeath'],\n",
       "      dtype='object')"
      ]
     },
     "execution_count": 7,
     "metadata": {},
     "output_type": "execute_result"
    }
   ],
   "source": [
    "heatds_temp01.columns"
   ]
  },
  {
   "cell_type": "code",
   "execution_count": 8,
   "metadata": {},
   "outputs": [
    {
     "name": "stdout",
     "output_type": "stream",
     "text": [
      "    ANO_OBITO                              causes_deaths  set_avg_BR\n",
      "0       _2010                           Abdominal hernia    0.903132\n",
      "1       _2010  Abscess of lung and mediastinum pyothorax    0.673743\n",
      "2       _2010                        Accidental Injuries   11.020345\n",
      "3       _2010         Acute lower respiratory infections    0.579934\n",
      "4       _2010                         Acute pancreatitis    1.916919\n",
      "..        ...                                        ...         ...\n",
      "393     _2022               Upper respiratory infections    0.653949\n",
      "394     _2022                                  Varicella    0.409434\n",
      "395     _2022                     Venous thromboembolism    4.069222\n",
      "396     _2022                            Viral Hepatitis    1.232339\n",
      "397     _2022                         causa não evitável  175.117448\n",
      "\n",
      "[398 rows x 3 columns]\n"
     ]
    },
    {
     "name": "stderr",
     "output_type": "stream",
     "text": [
      "/tmp/ipykernel_4253/1189972450.py:8: DeprecationWarning: DataFrameGroupBy.apply operated on the grouping columns. This behavior is deprecated, and in a future version of pandas the grouping columns will be excluded from the operation. Either pass `include_groups=False` to exclude the groupings or explicitly select the grouping columns after groupby to silence this warning.\n",
      "  weighted_avg_per_year = heatds_temp01.groupby(['ANO_OBITO','causes_deaths']).apply(weighted_avg).reset_index()\n"
     ]
    }
   ],
   "source": [
    "# Na média ponderada de mortalidade evitável, pegamos os valores de mortalidade para cada município e dividimos pela população, para conseguir o valor para o Brasil e por ano\n",
    "\n",
    "# Função para calcular a média ponderada\n",
    "def weighted_avg(group):\n",
    "    return np.average(group['mort_ind_mun_causedeath'], weights=group['pop_under74'])\n",
    "\n",
    "# Agrupar os dados pelo ano e aplicar a função de média ponderada\n",
    "weighted_avg_per_year = heatds_temp01.groupby(['ANO_OBITO','causes_deaths']).apply(weighted_avg).reset_index()\n",
    "\n",
    "# Renomear as colunas para melhor entendimento\n",
    "weighted_avg_per_year.columns = ['ANO_OBITO','causes_deaths','set_avg_BR']\n",
    "\n",
    "# Exibir o resultado\n",
    "print(weighted_avg_per_year)"
   ]
  },
  {
   "cell_type": "code",
   "execution_count": 39,
   "metadata": {},
   "outputs": [
    {
     "name": "stdout",
     "output_type": "stream",
     "text": [
      "Registros da tabela : 472557\n",
      "Total de óbitos : 4440843\n"
     ]
    },
    {
     "data": {
      "text/html": [
       "<div>\n",
       "<style scoped>\n",
       "    .dataframe tbody tr th:only-of-type {\n",
       "        vertical-align: middle;\n",
       "    }\n",
       "\n",
       "    .dataframe tbody tr th {\n",
       "        vertical-align: top;\n",
       "    }\n",
       "\n",
       "    .dataframe thead th {\n",
       "        text-align: right;\n",
       "    }\n",
       "</style>\n",
       "<table border=\"1\" class=\"dataframe\">\n",
       "  <thead>\n",
       "    <tr style=\"text-align: right;\">\n",
       "      <th></th>\n",
       "      <th>CODMUNRES</th>\n",
       "      <th>ANO_OBITO</th>\n",
       "      <th>POP_MERGE</th>\n",
       "      <th>causes_deaths</th>\n",
       "      <th>CONTADOR</th>\n",
       "      <th>pop_under74</th>\n",
       "      <th>UF</th>\n",
       "      <th>mun_no</th>\n",
       "      <th>mort_ind_mun_causedeath</th>\n",
       "      <th>set_avg_BR</th>\n",
       "    </tr>\n",
       "  </thead>\n",
       "  <tbody>\n",
       "    <tr>\n",
       "      <th>0</th>\n",
       "      <td>_110001</td>\n",
       "      <td>_2010</td>\n",
       "      <td>_2010_110001</td>\n",
       "      <td>Accidental Injuries</td>\n",
       "      <td>1</td>\n",
       "      <td>23948.0</td>\n",
       "      <td>RO</td>\n",
       "      <td>Alta Floresta D'Oeste (RO)</td>\n",
       "      <td>4.175714</td>\n",
       "      <td>11.020345</td>\n",
       "    </tr>\n",
       "    <tr>\n",
       "      <th>1</th>\n",
       "      <td>_110001</td>\n",
       "      <td>_2010</td>\n",
       "      <td>_2010_110001</td>\n",
       "      <td>Alcohol-specific disorders and poisonings</td>\n",
       "      <td>2</td>\n",
       "      <td>23948.0</td>\n",
       "      <td>RO</td>\n",
       "      <td>Alta Floresta D'Oeste (RO)</td>\n",
       "      <td>8.351428</td>\n",
       "      <td>10.215044</td>\n",
       "    </tr>\n",
       "    <tr>\n",
       "      <th>2</th>\n",
       "      <td>_110001</td>\n",
       "      <td>_2010</td>\n",
       "      <td>_2010_110001</td>\n",
       "      <td>Appendicitis</td>\n",
       "      <td>1</td>\n",
       "      <td>23948.0</td>\n",
       "      <td>RO</td>\n",
       "      <td>Alta Floresta D'Oeste (RO)</td>\n",
       "      <td>4.175714</td>\n",
       "      <td>0.759074</td>\n",
       "    </tr>\n",
       "    <tr>\n",
       "      <th>3</th>\n",
       "      <td>_110001</td>\n",
       "      <td>_2010</td>\n",
       "      <td>_2010_110001</td>\n",
       "      <td>Assault</td>\n",
       "      <td>7</td>\n",
       "      <td>23948.0</td>\n",
       "      <td>RO</td>\n",
       "      <td>Alta Floresta D'Oeste (RO)</td>\n",
       "      <td>29.229998</td>\n",
       "      <td>29.188749</td>\n",
       "    </tr>\n",
       "    <tr>\n",
       "      <th>4</th>\n",
       "      <td>_110001</td>\n",
       "      <td>_2010</td>\n",
       "      <td>_2010_110001</td>\n",
       "      <td>Cerebrovascular diseases</td>\n",
       "      <td>3</td>\n",
       "      <td>23948.0</td>\n",
       "      <td>RO</td>\n",
       "      <td>Alta Floresta D'Oeste (RO)</td>\n",
       "      <td>12.527142</td>\n",
       "      <td>27.555941</td>\n",
       "    </tr>\n",
       "  </tbody>\n",
       "</table>\n",
       "</div>"
      ],
      "text/plain": [
       "  CODMUNRES ANO_OBITO     POP_MERGE  \\\n",
       "0   _110001     _2010  _2010_110001   \n",
       "1   _110001     _2010  _2010_110001   \n",
       "2   _110001     _2010  _2010_110001   \n",
       "3   _110001     _2010  _2010_110001   \n",
       "4   _110001     _2010  _2010_110001   \n",
       "\n",
       "                               causes_deaths  CONTADOR  pop_under74  UF  \\\n",
       "0                        Accidental Injuries         1      23948.0  RO   \n",
       "1  Alcohol-specific disorders and poisonings         2      23948.0  RO   \n",
       "2                               Appendicitis         1      23948.0  RO   \n",
       "3                                    Assault         7      23948.0  RO   \n",
       "4                   Cerebrovascular diseases         3      23948.0  RO   \n",
       "\n",
       "                       mun_no  mort_ind_mun_causedeath  set_avg_BR  \n",
       "0  Alta Floresta D'Oeste (RO)                 4.175714   11.020345  \n",
       "1  Alta Floresta D'Oeste (RO)                 8.351428   10.215044  \n",
       "2  Alta Floresta D'Oeste (RO)                 4.175714    0.759074  \n",
       "3  Alta Floresta D'Oeste (RO)                29.229998   29.188749  \n",
       "4  Alta Floresta D'Oeste (RO)                12.527142   27.555941  "
      ]
     },
     "execution_count": 39,
     "metadata": {},
     "output_type": "execute_result"
    }
   ],
   "source": [
    "# Realizar o merge entre heat_ds_treat2 e grouped_data usando a coluna ANO_OBITO\n",
    "heatds_temp02 = pd.merge(heatds_temp01, weighted_avg_per_year, on=['ANO_OBITO','causes_deaths'], how='left')\n",
    "\n",
    "# mostrar dados gerais da tabela após transformações\n",
    "tab = heatds_temp02\n",
    "print(f'Registros da tabela : {tab.shape[0]}')\n",
    "print(f'Total de óbitos : {tab.CONTADOR.sum()}')\n",
    "tab.head()\n",
    "# print(tabulate(tab.head(), headers='keys', tablefmt='psql'))"
   ]
  },
  {
   "cell_type": "markdown",
   "metadata": {},
   "source": [
    "##########       Etapa diferenciada da versão      ##########\n",
    "\n",
    "Para esta versão\n",
    "* set = Brasil\n",
    "* indicador = causes_deaths\n",
    "* dimen = UF\n",
    "* subgroup = município\n",
    "* estimate = mortalidade por ano, causa (indicador) e subgroup\n",
    "* set-avg = mortalidade por ano e causa (indicador)"
   ]
  },
  {
   "cell_type": "code",
   "execution_count": 23,
   "metadata": {},
   "outputs": [
    {
     "data": {
      "text/html": [
       "<div>\n",
       "<style scoped>\n",
       "    .dataframe tbody tr th:only-of-type {\n",
       "        vertical-align: middle;\n",
       "    }\n",
       "\n",
       "    .dataframe tbody tr th {\n",
       "        vertical-align: top;\n",
       "    }\n",
       "\n",
       "    .dataframe thead th {\n",
       "        text-align: right;\n",
       "    }\n",
       "</style>\n",
       "<table border=\"1\" class=\"dataframe\">\n",
       "  <thead>\n",
       "    <tr style=\"text-align: right;\">\n",
       "      <th></th>\n",
       "      <th>causes_deaths</th>\n",
       "      <th>indicator_abbr</th>\n",
       "    </tr>\n",
       "  </thead>\n",
       "  <tbody>\n",
       "    <tr>\n",
       "      <th>0</th>\n",
       "      <td>Abdominal hernia</td>\n",
       "      <td>Abdom</td>\n",
       "    </tr>\n",
       "    <tr>\n",
       "      <th>1</th>\n",
       "      <td>Abscess of lung and mediastinum pyothorax</td>\n",
       "      <td>Absce</td>\n",
       "    </tr>\n",
       "    <tr>\n",
       "      <th>2</th>\n",
       "      <td>Accidental Injuries</td>\n",
       "      <td>Accid</td>\n",
       "    </tr>\n",
       "    <tr>\n",
       "      <th>3</th>\n",
       "      <td>Acute lower respiratory infections</td>\n",
       "      <td>Acute</td>\n",
       "    </tr>\n",
       "    <tr>\n",
       "      <th>4</th>\n",
       "      <td>Acute pancreatitis</td>\n",
       "      <td>Acute1</td>\n",
       "    </tr>\n",
       "    <tr>\n",
       "      <th>...</th>\n",
       "      <td>...</td>\n",
       "      <td>...</td>\n",
       "    </tr>\n",
       "    <tr>\n",
       "      <th>76</th>\n",
       "      <td>Varicella</td>\n",
       "      <td>Varic</td>\n",
       "    </tr>\n",
       "    <tr>\n",
       "      <th>77</th>\n",
       "      <td>Venous thromboembolism</td>\n",
       "      <td>Venou</td>\n",
       "    </tr>\n",
       "    <tr>\n",
       "      <th>78</th>\n",
       "      <td>Viral Hepatitis</td>\n",
       "      <td>Viral</td>\n",
       "    </tr>\n",
       "    <tr>\n",
       "      <th>79</th>\n",
       "      <td>Whooping cough</td>\n",
       "      <td>Whoop</td>\n",
       "    </tr>\n",
       "    <tr>\n",
       "      <th>80</th>\n",
       "      <td>causa não evitável</td>\n",
       "      <td>causa</td>\n",
       "    </tr>\n",
       "  </tbody>\n",
       "</table>\n",
       "<p>81 rows × 2 columns</p>\n",
       "</div>"
      ],
      "text/plain": [
       "                                causes_deaths indicator_abbr\n",
       "0                            Abdominal hernia          Abdom\n",
       "1   Abscess of lung and mediastinum pyothorax          Absce\n",
       "2                         Accidental Injuries          Accid\n",
       "3          Acute lower respiratory infections          Acute\n",
       "4                          Acute pancreatitis         Acute1\n",
       "..                                        ...            ...\n",
       "76                                  Varicella          Varic\n",
       "77                     Venous thromboembolism          Venou\n",
       "78                            Viral Hepatitis          Viral\n",
       "79                             Whooping cough          Whoop\n",
       "80                         causa não evitável          causa\n",
       "\n",
       "[81 rows x 2 columns]"
      ]
     },
     "execution_count": 23,
     "metadata": {},
     "output_type": "execute_result"
    }
   ],
   "source": [
    "# Etapas para gerar indicator_abbr exclusivos\n",
    "\n",
    "# Etapa 1 - Gerar uma tabela apenas com valores exclusivos de heatds_temp02.causes_deaths, em ordem crescente\n",
    "unique_causes_deaths = heatds_temp02[['causes_deaths']].drop_duplicates().sort_values(by='causes_deaths').reset_index(drop=True)\n",
    "\n",
    "# Etapa 2 - Criar coluna indicator_abbr com os primeiros 5 caracteres de causes_deaths\n",
    "unique_causes_deaths['indicator_abbr'] = unique_causes_deaths['causes_deaths'].str[:5]\n",
    "\n",
    "# Etapa 3 - Para aqueles indicator_abbr que tiverem o mesmo nome, gerar sufixo incremental a partir de 1\n",
    "unique_causes_deaths['indicator_abbr'] = unique_causes_deaths.groupby('indicator_abbr').cumcount().astype(str).radd(unique_causes_deaths['indicator_abbr'])\n",
    "\n",
    "# Etapa 3.1 - excluir valores que terminam com 0\n",
    "unique_causes_deaths['indicator_abbr'] = unique_causes_deaths['indicator_abbr'].str.replace('0', '')\n",
    "\n",
    "# Exibir a tabela resultante\n",
    "unique_causes_deaths"
   ]
  },
  {
   "cell_type": "code",
   "execution_count": 40,
   "metadata": {},
   "outputs": [
    {
     "name": "stdout",
     "output_type": "stream",
     "text": [
      "Registros da tabela : 472557\n",
      "Total de óbitos : 4440843\n"
     ]
    },
    {
     "data": {
      "text/html": [
       "<div>\n",
       "<style scoped>\n",
       "    .dataframe tbody tr th:only-of-type {\n",
       "        vertical-align: middle;\n",
       "    }\n",
       "\n",
       "    .dataframe tbody tr th {\n",
       "        vertical-align: top;\n",
       "    }\n",
       "\n",
       "    .dataframe thead th {\n",
       "        text-align: right;\n",
       "    }\n",
       "</style>\n",
       "<table border=\"1\" class=\"dataframe\">\n",
       "  <thead>\n",
       "    <tr style=\"text-align: right;\">\n",
       "      <th></th>\n",
       "      <th>CODMUNRES</th>\n",
       "      <th>ANO_OBITO</th>\n",
       "      <th>POP_MERGE</th>\n",
       "      <th>causes_deaths</th>\n",
       "      <th>CONTADOR</th>\n",
       "      <th>pop_under74</th>\n",
       "      <th>UF</th>\n",
       "      <th>mun_no</th>\n",
       "      <th>mort_ind_mun_causedeath</th>\n",
       "      <th>set_avg_BR</th>\n",
       "      <th>indicator_abbr</th>\n",
       "    </tr>\n",
       "  </thead>\n",
       "  <tbody>\n",
       "    <tr>\n",
       "      <th>0</th>\n",
       "      <td>_110001</td>\n",
       "      <td>_2010</td>\n",
       "      <td>_2010_110001</td>\n",
       "      <td>Accidental Injuries</td>\n",
       "      <td>1</td>\n",
       "      <td>23948.0</td>\n",
       "      <td>RO</td>\n",
       "      <td>Alta Floresta D'Oeste (RO)</td>\n",
       "      <td>4.175714</td>\n",
       "      <td>11.020345</td>\n",
       "      <td>Accid</td>\n",
       "    </tr>\n",
       "    <tr>\n",
       "      <th>1</th>\n",
       "      <td>_110001</td>\n",
       "      <td>_2010</td>\n",
       "      <td>_2010_110001</td>\n",
       "      <td>Alcohol-specific disorders and poisonings</td>\n",
       "      <td>2</td>\n",
       "      <td>23948.0</td>\n",
       "      <td>RO</td>\n",
       "      <td>Alta Floresta D'Oeste (RO)</td>\n",
       "      <td>8.351428</td>\n",
       "      <td>10.215044</td>\n",
       "      <td>Alcoh</td>\n",
       "    </tr>\n",
       "    <tr>\n",
       "      <th>2</th>\n",
       "      <td>_110001</td>\n",
       "      <td>_2010</td>\n",
       "      <td>_2010_110001</td>\n",
       "      <td>Appendicitis</td>\n",
       "      <td>1</td>\n",
       "      <td>23948.0</td>\n",
       "      <td>RO</td>\n",
       "      <td>Alta Floresta D'Oeste (RO)</td>\n",
       "      <td>4.175714</td>\n",
       "      <td>0.759074</td>\n",
       "      <td>Appen</td>\n",
       "    </tr>\n",
       "    <tr>\n",
       "      <th>3</th>\n",
       "      <td>_110001</td>\n",
       "      <td>_2010</td>\n",
       "      <td>_2010_110001</td>\n",
       "      <td>Assault</td>\n",
       "      <td>7</td>\n",
       "      <td>23948.0</td>\n",
       "      <td>RO</td>\n",
       "      <td>Alta Floresta D'Oeste (RO)</td>\n",
       "      <td>29.229998</td>\n",
       "      <td>29.188749</td>\n",
       "      <td>Assau</td>\n",
       "    </tr>\n",
       "    <tr>\n",
       "      <th>4</th>\n",
       "      <td>_110001</td>\n",
       "      <td>_2010</td>\n",
       "      <td>_2010_110001</td>\n",
       "      <td>Cerebrovascular diseases</td>\n",
       "      <td>3</td>\n",
       "      <td>23948.0</td>\n",
       "      <td>RO</td>\n",
       "      <td>Alta Floresta D'Oeste (RO)</td>\n",
       "      <td>12.527142</td>\n",
       "      <td>27.555941</td>\n",
       "      <td>Cereb</td>\n",
       "    </tr>\n",
       "  </tbody>\n",
       "</table>\n",
       "</div>"
      ],
      "text/plain": [
       "  CODMUNRES ANO_OBITO     POP_MERGE  \\\n",
       "0   _110001     _2010  _2010_110001   \n",
       "1   _110001     _2010  _2010_110001   \n",
       "2   _110001     _2010  _2010_110001   \n",
       "3   _110001     _2010  _2010_110001   \n",
       "4   _110001     _2010  _2010_110001   \n",
       "\n",
       "                               causes_deaths  CONTADOR  pop_under74  UF  \\\n",
       "0                        Accidental Injuries         1      23948.0  RO   \n",
       "1  Alcohol-specific disorders and poisonings         2      23948.0  RO   \n",
       "2                               Appendicitis         1      23948.0  RO   \n",
       "3                                    Assault         7      23948.0  RO   \n",
       "4                   Cerebrovascular diseases         3      23948.0  RO   \n",
       "\n",
       "                       mun_no  mort_ind_mun_causedeath  set_avg_BR  \\\n",
       "0  Alta Floresta D'Oeste (RO)                 4.175714   11.020345   \n",
       "1  Alta Floresta D'Oeste (RO)                 8.351428   10.215044   \n",
       "2  Alta Floresta D'Oeste (RO)                 4.175714    0.759074   \n",
       "3  Alta Floresta D'Oeste (RO)                29.229998   29.188749   \n",
       "4  Alta Floresta D'Oeste (RO)                12.527142   27.555941   \n",
       "\n",
       "  indicator_abbr  \n",
       "0          Accid  \n",
       "1          Alcoh  \n",
       "2          Appen  \n",
       "3          Assau  \n",
       "4          Cereb  "
      ]
     },
     "execution_count": 40,
     "metadata": {},
     "output_type": "execute_result"
    }
   ],
   "source": [
    "# Fazer merge com informações de indicator_abbr exclusivos\n",
    "heatds_temp03 = pd.merge(heatds_temp02,unique_causes_deaths,on='causes_deaths', how='left')\n",
    "\n",
    "# mostrar dados gerais da tabela após transformações\n",
    "tab = heatds_temp03\n",
    "print(f'Registros da tabela : {tab.shape[0]}')\n",
    "print(f'Total de óbitos : {tab.CONTADOR.sum()}')\n",
    "# print(tabulate(tab.head(), headers='keys', tablefmt='psql'))\n",
    "tab.head()"
   ]
  },
  {
   "cell_type": "code",
   "execution_count": 41,
   "metadata": {},
   "outputs": [
    {
     "name": "stdout",
     "output_type": "stream",
     "text": [
      "Registros da tabela : 472557\n",
      "Total de óbitos : 4440843\n"
     ]
    },
    {
     "data": {
      "text/html": [
       "<div>\n",
       "<style scoped>\n",
       "    .dataframe tbody tr th:only-of-type {\n",
       "        vertical-align: middle;\n",
       "    }\n",
       "\n",
       "    .dataframe tbody tr th {\n",
       "        vertical-align: top;\n",
       "    }\n",
       "\n",
       "    .dataframe thead th {\n",
       "        text-align: right;\n",
       "    }\n",
       "</style>\n",
       "<table border=\"1\" class=\"dataframe\">\n",
       "  <thead>\n",
       "    <tr style=\"text-align: right;\">\n",
       "      <th></th>\n",
       "      <th>CODMUNRES</th>\n",
       "      <th>date</th>\n",
       "      <th>POP_MERGE</th>\n",
       "      <th>causes_deaths</th>\n",
       "      <th>CONTADOR</th>\n",
       "      <th>population</th>\n",
       "      <th>dimension</th>\n",
       "      <th>subgroup</th>\n",
       "      <th>estimate</th>\n",
       "      <th>setting_average</th>\n",
       "      <th>...</th>\n",
       "      <th>favourable_indicator</th>\n",
       "      <th>indicator_scale</th>\n",
       "      <th>ordered_dimension</th>\n",
       "      <th>subgroup_order</th>\n",
       "      <th>reference_subgroup</th>\n",
       "      <th>note</th>\n",
       "      <th>se</th>\n",
       "      <th>ci_lb</th>\n",
       "      <th>ci_ub</th>\n",
       "      <th>iso3</th>\n",
       "    </tr>\n",
       "  </thead>\n",
       "  <tbody>\n",
       "    <tr>\n",
       "      <th>0</th>\n",
       "      <td>_110001</td>\n",
       "      <td>2010</td>\n",
       "      <td>_2010_110001</td>\n",
       "      <td>Accidental Injuries</td>\n",
       "      <td>1</td>\n",
       "      <td>23948.0</td>\n",
       "      <td>RO</td>\n",
       "      <td>Alta Floresta D'Oeste (RO)</td>\n",
       "      <td>4.175714</td>\n",
       "      <td>11.020345</td>\n",
       "      <td>...</td>\n",
       "      <td>0</td>\n",
       "      <td>100000</td>\n",
       "      <td>0</td>\n",
       "      <td>0</td>\n",
       "      <td>0</td>\n",
       "      <td></td>\n",
       "      <td></td>\n",
       "      <td></td>\n",
       "      <td></td>\n",
       "      <td>BRA</td>\n",
       "    </tr>\n",
       "    <tr>\n",
       "      <th>1</th>\n",
       "      <td>_110001</td>\n",
       "      <td>2010</td>\n",
       "      <td>_2010_110001</td>\n",
       "      <td>Alcohol-specific disorders and poisonings</td>\n",
       "      <td>2</td>\n",
       "      <td>23948.0</td>\n",
       "      <td>RO</td>\n",
       "      <td>Alta Floresta D'Oeste (RO)</td>\n",
       "      <td>8.351428</td>\n",
       "      <td>10.215044</td>\n",
       "      <td>...</td>\n",
       "      <td>0</td>\n",
       "      <td>100000</td>\n",
       "      <td>0</td>\n",
       "      <td>0</td>\n",
       "      <td>0</td>\n",
       "      <td></td>\n",
       "      <td></td>\n",
       "      <td></td>\n",
       "      <td></td>\n",
       "      <td>BRA</td>\n",
       "    </tr>\n",
       "    <tr>\n",
       "      <th>2</th>\n",
       "      <td>_110001</td>\n",
       "      <td>2010</td>\n",
       "      <td>_2010_110001</td>\n",
       "      <td>Appendicitis</td>\n",
       "      <td>1</td>\n",
       "      <td>23948.0</td>\n",
       "      <td>RO</td>\n",
       "      <td>Alta Floresta D'Oeste (RO)</td>\n",
       "      <td>4.175714</td>\n",
       "      <td>0.759074</td>\n",
       "      <td>...</td>\n",
       "      <td>0</td>\n",
       "      <td>100000</td>\n",
       "      <td>0</td>\n",
       "      <td>0</td>\n",
       "      <td>0</td>\n",
       "      <td></td>\n",
       "      <td></td>\n",
       "      <td></td>\n",
       "      <td></td>\n",
       "      <td>BRA</td>\n",
       "    </tr>\n",
       "    <tr>\n",
       "      <th>3</th>\n",
       "      <td>_110001</td>\n",
       "      <td>2010</td>\n",
       "      <td>_2010_110001</td>\n",
       "      <td>Assault</td>\n",
       "      <td>7</td>\n",
       "      <td>23948.0</td>\n",
       "      <td>RO</td>\n",
       "      <td>Alta Floresta D'Oeste (RO)</td>\n",
       "      <td>29.229998</td>\n",
       "      <td>29.188749</td>\n",
       "      <td>...</td>\n",
       "      <td>0</td>\n",
       "      <td>100000</td>\n",
       "      <td>0</td>\n",
       "      <td>0</td>\n",
       "      <td>0</td>\n",
       "      <td></td>\n",
       "      <td></td>\n",
       "      <td></td>\n",
       "      <td></td>\n",
       "      <td>BRA</td>\n",
       "    </tr>\n",
       "    <tr>\n",
       "      <th>4</th>\n",
       "      <td>_110001</td>\n",
       "      <td>2010</td>\n",
       "      <td>_2010_110001</td>\n",
       "      <td>Cerebrovascular diseases</td>\n",
       "      <td>3</td>\n",
       "      <td>23948.0</td>\n",
       "      <td>RO</td>\n",
       "      <td>Alta Floresta D'Oeste (RO)</td>\n",
       "      <td>12.527142</td>\n",
       "      <td>27.555941</td>\n",
       "      <td>...</td>\n",
       "      <td>0</td>\n",
       "      <td>100000</td>\n",
       "      <td>0</td>\n",
       "      <td>0</td>\n",
       "      <td>0</td>\n",
       "      <td></td>\n",
       "      <td></td>\n",
       "      <td></td>\n",
       "      <td></td>\n",
       "      <td>BRA</td>\n",
       "    </tr>\n",
       "  </tbody>\n",
       "</table>\n",
       "<p>5 rows × 24 columns</p>\n",
       "</div>"
      ],
      "text/plain": [
       "  CODMUNRES  date     POP_MERGE                              causes_deaths  \\\n",
       "0   _110001  2010  _2010_110001                        Accidental Injuries   \n",
       "1   _110001  2010  _2010_110001  Alcohol-specific disorders and poisonings   \n",
       "2   _110001  2010  _2010_110001                               Appendicitis   \n",
       "3   _110001  2010  _2010_110001                                    Assault   \n",
       "4   _110001  2010  _2010_110001                   Cerebrovascular diseases   \n",
       "\n",
       "   CONTADOR  population dimension                    subgroup   estimate  \\\n",
       "0         1     23948.0        RO  Alta Floresta D'Oeste (RO)   4.175714   \n",
       "1         2     23948.0        RO  Alta Floresta D'Oeste (RO)   8.351428   \n",
       "2         1     23948.0        RO  Alta Floresta D'Oeste (RO)   4.175714   \n",
       "3         7     23948.0        RO  Alta Floresta D'Oeste (RO)  29.229998   \n",
       "4         3     23948.0        RO  Alta Floresta D'Oeste (RO)  12.527142   \n",
       "\n",
       "   setting_average  ... favourable_indicator indicator_scale  \\\n",
       "0        11.020345  ...                    0          100000   \n",
       "1        10.215044  ...                    0          100000   \n",
       "2         0.759074  ...                    0          100000   \n",
       "3        29.188749  ...                    0          100000   \n",
       "4        27.555941  ...                    0          100000   \n",
       "\n",
       "  ordered_dimension subgroup_order  reference_subgroup  note  se  ci_lb  \\\n",
       "0                 0              0                   0                    \n",
       "1                 0              0                   0                    \n",
       "2                 0              0                   0                    \n",
       "3                 0              0                   0                    \n",
       "4                 0              0                   0                    \n",
       "\n",
       "   ci_ub iso3  \n",
       "0         BRA  \n",
       "1         BRA  \n",
       "2         BRA  \n",
       "3         BRA  \n",
       "4         BRA  \n",
       "\n",
       "[5 rows x 24 columns]"
      ]
     },
     "execution_count": 41,
     "metadata": {},
     "output_type": "execute_result"
    }
   ],
   "source": [
    "# Gerar colunas sem informação ou com informação padronizada\n",
    "\n",
    "# heat_treat01 = heat_semCID_clean # caso não seja agrupado por UF anteriormente\n",
    "heatds_temp04 = heatds_temp03.copy() # caso seja agrupado por UF anteriormente\n",
    "\n",
    "heatds_temp04['setting'] = 'Brasil'\n",
    "# heat_treat01['setting_average'] = set_avg_BR\n",
    "\n",
    "# heatds_temp03['indicator_abbr'] = 'AVM'\n",
    "# heatds_temp03['indicator_abbr'] = heatds_temp03['causes_deaths'].str.slice(0, 5)\n",
    "# heatds_temp03['indicator_name'] = 'Avoidable mortality (deaths per 100 000 population)'\n",
    "heatds_temp04['indicator_name'] = heatds_temp04['causes_deaths'] + '(deaths per 100 000 population)'\n",
    "heatds_temp04['source'] = 'SIM/SUS & Censo/IBGE'\n",
    "heatds_temp04['favourable_indicator'] = 0\n",
    "heatds_temp04['indicator_scale'] = 100000\n",
    "heatds_temp04['ordered_dimension'] = 0\n",
    "heatds_temp04['subgroup_order'] = 0\n",
    "heatds_temp04['reference_subgroup'] = 0\n",
    "heatds_temp04['note'] = ''\n",
    "heatds_temp04['se'] = ''\n",
    "heatds_temp04['ci_lb'] = ''\n",
    "heatds_temp04['ci_ub'] = ''\n",
    "heatds_temp04['iso3'] = 'BRA'\n",
    "\n",
    "# Renomear colunas de heat_treat01\n",
    "heatds_temp04 = heatds_temp04.rename(columns={\n",
    "    'ANO_OBITO':'date',\n",
    "    'pop_under74':'population',\n",
    "    'UF':'dimension',\n",
    "    'mun_no':'subgroup',\n",
    "    # 'mort_ind_mun':'estimate',\n",
    "    'mort_ind_mun_causedeath':'estimate',\n",
    "    'set_avg_BR':'setting_average',\n",
    "    # 'mort_ind_uf':'setting_average'\n",
    "})\n",
    "\n",
    "# Ajustar coluna de ano\n",
    "heatds_temp04['date'] = heatds_temp04['date'].str.replace('_','').astype(int)\n",
    "\n",
    "\n",
    "# mostrar dados gerais da tabela após transformações\n",
    "tab = heatds_temp04\n",
    "print(f'Registros da tabela : {tab.shape[0]}')\n",
    "print(f'Total de óbitos : {tab.CONTADOR.sum()}')\n",
    "# print(tabulate(tab.head(), headers='keys', tablefmt='psql'))\n",
    "tab.head()\n"
   ]
  },
  {
   "cell_type": "code",
   "execution_count": 285,
   "metadata": {},
   "outputs": [],
   "source": [
    "# # Trazer labels para sexo e raçacor\n",
    "# heat_treat02 = heat_treat01.copy()\n",
    "\n",
    "# heat_treat02['SEXO'] = heat_treat02['SEXO'].map({\n",
    "#                                             '_1':'Homens',\n",
    "#                                             '_2':'Mulheres'\n",
    "#                                             })\n",
    "# heat_treat02['RACACOR'] = heat_treat02['RACACOR'].map({\n",
    "#                                             '_1':'Branca',\n",
    "#                                             '_2':'Preta',\n",
    "#                                             '_3':'Amarela',\n",
    "#                                             '_4':'Parda',\n",
    "#                                             '_5':'Indígena',\n",
    "#                                             '_9':'Sem declaração'\n",
    "#                                             })\n",
    "\n",
    "# heat_treat02['subgroup'] = heat_treat02['SEXO'] + ' - raça/cor '  +  heat_treat02['RACACOR']\n"
   ]
  },
  {
   "cell_type": "code",
   "execution_count": null,
   "metadata": {},
   "outputs": [],
   "source": [
    "# heat_treat02['subgroup'].unique()"
   ]
  },
  {
   "cell_type": "code",
   "execution_count": null,
   "metadata": {},
   "outputs": [],
   "source": [
    "# heat_treat02.columns"
   ]
  },
  {
   "cell_type": "code",
   "execution_count": 43,
   "metadata": {},
   "outputs": [],
   "source": [
    "# Define the order of columns\n",
    "column_order = [\n",
    "    'setting',\n",
    "    'date',\n",
    "    'source',\n",
    "    'indicator_abbr',\n",
    "    'indicator_name',\n",
    "    'dimension',\n",
    "    'subgroup',\n",
    "    'estimate',\n",
    "    'se',\n",
    "    'ci_lb',\n",
    "    'ci_ub',\n",
    "    'population',\n",
    "    'note',\n",
    "    'setting_average',\n",
    "    'iso3',\n",
    "    'favourable_indicator',\n",
    "    'indicator_scale',\n",
    "    'ordered_dimension',\n",
    "    'subgroup_order',\n",
    "    'reference_subgroup'\n",
    "    ]  \n",
    "\n",
    "\n",
    "# Reorder the columns in the DataFrame\n",
    "heatds_temp05 = heatds_temp04[column_order]\n"
   ]
  },
  {
   "cell_type": "code",
   "execution_count": 46,
   "metadata": {},
   "outputs": [
    {
     "name": "stdout",
     "output_type": "stream",
     "text": [
      "Registros da tabela : 472557\n"
     ]
    },
    {
     "data": {
      "text/html": [
       "<div>\n",
       "<style scoped>\n",
       "    .dataframe tbody tr th:only-of-type {\n",
       "        vertical-align: middle;\n",
       "    }\n",
       "\n",
       "    .dataframe tbody tr th {\n",
       "        vertical-align: top;\n",
       "    }\n",
       "\n",
       "    .dataframe thead th {\n",
       "        text-align: right;\n",
       "    }\n",
       "</style>\n",
       "<table border=\"1\" class=\"dataframe\">\n",
       "  <thead>\n",
       "    <tr style=\"text-align: right;\">\n",
       "      <th></th>\n",
       "      <th>setting</th>\n",
       "      <th>date</th>\n",
       "      <th>source</th>\n",
       "      <th>indicator_abbr</th>\n",
       "      <th>indicator_name</th>\n",
       "      <th>dimension</th>\n",
       "      <th>subgroup</th>\n",
       "      <th>estimate</th>\n",
       "      <th>se</th>\n",
       "      <th>ci_lb</th>\n",
       "      <th>ci_ub</th>\n",
       "      <th>population</th>\n",
       "      <th>note</th>\n",
       "      <th>setting_average</th>\n",
       "      <th>iso3</th>\n",
       "      <th>favourable_indicator</th>\n",
       "      <th>indicator_scale</th>\n",
       "      <th>ordered_dimension</th>\n",
       "      <th>subgroup_order</th>\n",
       "      <th>reference_subgroup</th>\n",
       "    </tr>\n",
       "  </thead>\n",
       "  <tbody>\n",
       "    <tr>\n",
       "      <th>0</th>\n",
       "      <td>Brasil</td>\n",
       "      <td>2010</td>\n",
       "      <td>SIM/SUS &amp; Censo/IBGE</td>\n",
       "      <td>Accid</td>\n",
       "      <td>Accidental Injuries(deaths per 100 000 populat...</td>\n",
       "      <td>RO</td>\n",
       "      <td>Alta Floresta D'Oeste (RO)</td>\n",
       "      <td>4</td>\n",
       "      <td></td>\n",
       "      <td></td>\n",
       "      <td></td>\n",
       "      <td>23948.0</td>\n",
       "      <td></td>\n",
       "      <td>11</td>\n",
       "      <td>BRA</td>\n",
       "      <td>0</td>\n",
       "      <td>100000</td>\n",
       "      <td>0</td>\n",
       "      <td>0</td>\n",
       "      <td>0</td>\n",
       "    </tr>\n",
       "    <tr>\n",
       "      <th>1</th>\n",
       "      <td>Brasil</td>\n",
       "      <td>2010</td>\n",
       "      <td>SIM/SUS &amp; Censo/IBGE</td>\n",
       "      <td>Alcoh</td>\n",
       "      <td>Alcohol-specific disorders and poisonings(deat...</td>\n",
       "      <td>RO</td>\n",
       "      <td>Alta Floresta D'Oeste (RO)</td>\n",
       "      <td>8</td>\n",
       "      <td></td>\n",
       "      <td></td>\n",
       "      <td></td>\n",
       "      <td>23948.0</td>\n",
       "      <td></td>\n",
       "      <td>10</td>\n",
       "      <td>BRA</td>\n",
       "      <td>0</td>\n",
       "      <td>100000</td>\n",
       "      <td>0</td>\n",
       "      <td>0</td>\n",
       "      <td>0</td>\n",
       "    </tr>\n",
       "    <tr>\n",
       "      <th>2</th>\n",
       "      <td>Brasil</td>\n",
       "      <td>2010</td>\n",
       "      <td>SIM/SUS &amp; Censo/IBGE</td>\n",
       "      <td>Appen</td>\n",
       "      <td>Appendicitis(deaths per 100 000 population)</td>\n",
       "      <td>RO</td>\n",
       "      <td>Alta Floresta D'Oeste (RO)</td>\n",
       "      <td>4</td>\n",
       "      <td></td>\n",
       "      <td></td>\n",
       "      <td></td>\n",
       "      <td>23948.0</td>\n",
       "      <td></td>\n",
       "      <td>0</td>\n",
       "      <td>BRA</td>\n",
       "      <td>0</td>\n",
       "      <td>100000</td>\n",
       "      <td>0</td>\n",
       "      <td>0</td>\n",
       "      <td>0</td>\n",
       "    </tr>\n",
       "    <tr>\n",
       "      <th>3</th>\n",
       "      <td>Brasil</td>\n",
       "      <td>2010</td>\n",
       "      <td>SIM/SUS &amp; Censo/IBGE</td>\n",
       "      <td>Assau</td>\n",
       "      <td>Assault(deaths per 100 000 population)</td>\n",
       "      <td>RO</td>\n",
       "      <td>Alta Floresta D'Oeste (RO)</td>\n",
       "      <td>29</td>\n",
       "      <td></td>\n",
       "      <td></td>\n",
       "      <td></td>\n",
       "      <td>23948.0</td>\n",
       "      <td></td>\n",
       "      <td>29</td>\n",
       "      <td>BRA</td>\n",
       "      <td>0</td>\n",
       "      <td>100000</td>\n",
       "      <td>0</td>\n",
       "      <td>0</td>\n",
       "      <td>0</td>\n",
       "    </tr>\n",
       "    <tr>\n",
       "      <th>4</th>\n",
       "      <td>Brasil</td>\n",
       "      <td>2010</td>\n",
       "      <td>SIM/SUS &amp; Censo/IBGE</td>\n",
       "      <td>Cereb</td>\n",
       "      <td>Cerebrovascular diseases(deaths per 100 000 po...</td>\n",
       "      <td>RO</td>\n",
       "      <td>Alta Floresta D'Oeste (RO)</td>\n",
       "      <td>12</td>\n",
       "      <td></td>\n",
       "      <td></td>\n",
       "      <td></td>\n",
       "      <td>23948.0</td>\n",
       "      <td></td>\n",
       "      <td>27</td>\n",
       "      <td>BRA</td>\n",
       "      <td>0</td>\n",
       "      <td>100000</td>\n",
       "      <td>0</td>\n",
       "      <td>0</td>\n",
       "      <td>0</td>\n",
       "    </tr>\n",
       "  </tbody>\n",
       "</table>\n",
       "</div>"
      ],
      "text/plain": [
       "  setting  date                source indicator_abbr  \\\n",
       "0  Brasil  2010  SIM/SUS & Censo/IBGE          Accid   \n",
       "1  Brasil  2010  SIM/SUS & Censo/IBGE          Alcoh   \n",
       "2  Brasil  2010  SIM/SUS & Censo/IBGE          Appen   \n",
       "3  Brasil  2010  SIM/SUS & Censo/IBGE          Assau   \n",
       "4  Brasil  2010  SIM/SUS & Censo/IBGE          Cereb   \n",
       "\n",
       "                                      indicator_name dimension  \\\n",
       "0  Accidental Injuries(deaths per 100 000 populat...        RO   \n",
       "1  Alcohol-specific disorders and poisonings(deat...        RO   \n",
       "2        Appendicitis(deaths per 100 000 population)        RO   \n",
       "3             Assault(deaths per 100 000 population)        RO   \n",
       "4  Cerebrovascular diseases(deaths per 100 000 po...        RO   \n",
       "\n",
       "                     subgroup  estimate se ci_lb ci_ub  population note  \\\n",
       "0  Alta Floresta D'Oeste (RO)         4                    23948.0        \n",
       "1  Alta Floresta D'Oeste (RO)         8                    23948.0        \n",
       "2  Alta Floresta D'Oeste (RO)         4                    23948.0        \n",
       "3  Alta Floresta D'Oeste (RO)        29                    23948.0        \n",
       "4  Alta Floresta D'Oeste (RO)        12                    23948.0        \n",
       "\n",
       "   setting_average iso3  favourable_indicator  indicator_scale  \\\n",
       "0               11  BRA                     0           100000   \n",
       "1               10  BRA                     0           100000   \n",
       "2                0  BRA                     0           100000   \n",
       "3               29  BRA                     0           100000   \n",
       "4               27  BRA                     0           100000   \n",
       "\n",
       "   ordered_dimension  subgroup_order  reference_subgroup  \n",
       "0                  0               0                   0  \n",
       "1                  0               0                   0  \n",
       "2                  0               0                   0  \n",
       "3                  0               0                   0  \n",
       "4                  0               0                   0  "
      ]
     },
     "execution_count": 46,
     "metadata": {},
     "output_type": "execute_result"
    }
   ],
   "source": [
    "# Transformar estimate e setting_average em int\n",
    "heatds_temp06 = heatds_temp05.copy()\n",
    "\n",
    "heatds_temp06['estimate'] = heatds_temp06['estimate'].astype(int)\n",
    "heatds_temp06['setting_average'] = heatds_temp06['setting_average'].astype(int)\n",
    "\n",
    "# mostrar dados gerais da tabela após transformações\n",
    "tab = heatds_temp06\n",
    "print(f'Registros da tabela : {tab.shape[0]}')\n",
    "# print(f'Total de óbitos : {tab.CONTADOR.sum()}')\n",
    "# print(tabulate(tab.head(), headers='keys', tablefmt='psql'))\n",
    "tab.head()"
   ]
  },
  {
   "cell_type": "markdown",
   "metadata": {},
   "source": [
    "##########       Etapa diferenciada da versão      ##########\n",
    "\n",
    "Atenção da hora de salvar o arquivo, com as informações corretas de versão"
   ]
  },
  {
   "cell_type": "code",
   "execution_count": 47,
   "metadata": {},
   "outputs": [],
   "source": [
    "### Arquivo pronto para exportação\n",
    "heatds_temp06.to_excel('files_out/AvoidMort_v4_ds_4val.xlsx', index=False)"
   ]
  },
  {
   "cell_type": "code",
   "execution_count": 95,
   "metadata": {},
   "outputs": [],
   "source": [
    "# Gerar arquivo dataset diretamente no arquivo de validação do HEAT\n",
    "\n",
    "# Carregar o arquivo original\n",
    "workbook = openpyxl.load_workbook('files_out/heat_plus_template_validation.xlsm', keep_vba=True)\n",
    "\n",
    "# Apagar a aba 'template'\n",
    "if 'template' in workbook.sheetnames:\n",
    "    del workbook['template']\n",
    "\n",
    "# Carregar o arquivo que será copiado como nova aba\n",
    "workbook_to_copy = openpyxl.load_workbook('files_out/AvoidMort_v4_ds_4val.xlsx')\n",
    "sheet_to_copy = workbook_to_copy.active\n",
    "\n",
    "# Copiar a aba para o workbook original\n",
    "new_sheet = workbook.create_sheet('template')\n",
    "\n",
    "for row in sheet_to_copy.iter_rows(values_only=True):\n",
    "    new_sheet.append(row)\n",
    "\n",
    "# Salvar o arquivo com o novo nome\n",
    "workbook.save('files_out/AvoidMort_v4_heat_plus_template_ds_4val.xlsm')"
   ]
  },
  {
   "cell_type": "markdown",
   "metadata": {},
   "source": [
    "# Etapa 4 - Reunião de alinhamento - ajustes"
   ]
  },
  {
   "cell_type": "markdown",
   "metadata": {},
   "source": [
    "# Etapa 5 - Preparação para publicação de resultados"
   ]
  }
 ],
 "metadata": {
  "kernelspec": {
   "display_name": "Python 3",
   "language": "python",
   "name": "python3"
  },
  "language_info": {
   "codemirror_mode": {
    "name": "ipython",
    "version": 3
   },
   "file_extension": ".py",
   "mimetype": "text/x-python",
   "name": "python",
   "nbconvert_exporter": "python",
   "pygments_lexer": "ipython3",
   "version": "3.12.1"
  }
 },
 "nbformat": 4,
 "nbformat_minor": 2
}
