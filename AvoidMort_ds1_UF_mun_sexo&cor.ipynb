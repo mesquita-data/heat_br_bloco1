{
 "cells": [
  {
   "cell_type": "markdown",
   "metadata": {},
   "source": [
    "# Projeto de Análise de Desigualdade em Saúde no modelo HEAT/OMS\n",
    "## Bloco 2025/1 = análise do sistema de mortalidade do SUS com agregação por unidades federativas\n",
    "\n",
    "\n"
   ]
  },
  {
   "cell_type": "markdown",
   "metadata": {},
   "source": [
    "### Instalação e importação de bibliotecas"
   ]
  },
  {
   "cell_type": "code",
   "execution_count": 1,
   "metadata": {},
   "outputs": [],
   "source": [
    "# importar biblioteca básicas para manipulação de dados\n",
    "import pandas as pd\n",
    "import numpy as np\n",
    "import os\n",
    "import sidrapy\n",
    "import requests # para carga de endereços web - api\n",
    "import gdown\n",
    "import openpyxl\n",
    "from tabulate import tabulate"
   ]
  },
  {
   "cell_type": "code",
   "execution_count": 2,
   "metadata": {},
   "outputs": [
    {
     "name": "stdout",
     "output_type": "stream",
     "text": [
      "\u001b[33m ==> Este texto será impresso em amarelo!\u001b[0m\n",
      "Este em normal!\n"
     ]
    }
   ],
   "source": [
    "# Para organizar resultados, gerar prints em amarelo\n",
    "\n",
    "def print_y(text):\n",
    "  \"\"\"Imprime o texto fornecido na cor amarela.\n",
    "\n",
    "  Args:\n",
    "    text: O texto a ser impresso.\n",
    "  \"\"\"\n",
    "  print(f\"\\033[33m ==> {text}\\033[0m\")\n",
    "\n",
    "# Exemplo de uso:\n",
    "print_y(\"Este texto será impresso em amarelo!\")\n",
    "print(\"Este em normal!\")"
   ]
  },
  {
   "cell_type": "markdown",
   "metadata": {},
   "source": [
    "# Merge de dados de CID e População no arquivo principal"
   ]
  },
  {
   "cell_type": "markdown",
   "metadata": {},
   "source": [
    "### Merge de dados de CID"
   ]
  },
  {
   "cell_type": "code",
   "execution_count": 3,
   "metadata": {
    "vscode": {
     "languageId": "powershell"
    }
   },
   "outputs": [
    {
     "name": "stdout",
     "output_type": "stream",
     "text": [
      "<class 'pandas.core.frame.DataFrame'>\n",
      "RangeIndex: 346 entries, 0 to 345\n",
      "Data columns (total 8 columns):\n",
      " #   Column                   Non-Null Count  Dtype \n",
      "---  ------                   --------------  ----- \n",
      " 0   avoid_flag               346 non-null    object\n",
      " 1   prevent_flag             189 non-null    object\n",
      " 2   treat_flag               184 non-null    object\n",
      " 3   Group                    346 non-null    object\n",
      " 4   Causes of deaths         346 non-null    object\n",
      " 5   Rationale for inclusion  346 non-null    object\n",
      " 6   Range                    346 non-null    object\n",
      " 7   cid_pai                  346 non-null    object\n",
      "dtypes: object(8)\n",
      "memory usage: 21.8+ KB\n"
     ]
    }
   ],
   "source": [
    "ocde_evit = pd.read_csv('files_in_geral/cid10_evit_ocde.csv')\n",
    "ocde_evit.info()"
   ]
  },
  {
   "cell_type": "code",
   "execution_count": 4,
   "metadata": {
    "vscode": {
     "languageId": "powershell"
    }
   },
   "outputs": [
    {
     "name": "stdout",
     "output_type": "stream",
     "text": [
      "Registros da tabela : 4427475\n",
      "+----+------------+-------------+--------+-----------+--------------+-------------+\n",
      "|    | CAUSABAS   | CODMUNRES   |   SEXO |   RACACOR |   OBITO_SOMA | ANO_OBITO   |\n",
      "|----+------------+-------------+--------+-----------+--------------+-------------|\n",
      "|  0 | A049       | _355080     |      1 |         1 |            1 | _2019       |\n",
      "|  1 | A09        | _320520     |      1 |         1 |            1 | _2019       |\n",
      "|  2 | A09        | _330040     |      1 |         1 |            1 | _2019       |\n",
      "|  3 | A09        | _350970     |      1 |         4 |            1 | _2019       |\n",
      "|  4 | A09        | _355100     |      2 |         1 |            1 | _2019       |\n",
      "+----+------------+-------------+--------+-----------+--------------+-------------+\n"
     ]
    }
   ],
   "source": [
    "dobr_evit_merged_temp = pd.read_parquet('files_in_geral/dobr_10_19a22_u75.parquet')\n",
    "\n",
    "# mostrar dados gerais da tabela após transformações\n",
    "tab = dobr_evit_merged_temp\n",
    "print(f'Registros da tabela : {tab.shape[0]}')\n",
    "print(tabulate(tab.head(), headers='keys', tablefmt='psql'))"
   ]
  },
  {
   "cell_type": "code",
   "execution_count": 5,
   "metadata": {
    "vscode": {
     "languageId": "powershell"
    }
   },
   "outputs": [
    {
     "name": "stdout",
     "output_type": "stream",
     "text": [
      "<class 'pandas.core.frame.DataFrame'>\n",
      "RangeIndex: 11895 entries, 0 to 11894\n",
      "Data columns (total 1 columns):\n",
      " #   Column    Non-Null Count  Dtype \n",
      "---  ------    --------------  ----- \n",
      " 0   CAUSABAS  11895 non-null  object\n",
      "dtypes: object(1)\n",
      "memory usage: 93.1+ KB\n"
     ]
    }
   ],
   "source": [
    "# Gerar nova tabela com valores únicos de CAUSABAS\n",
    "dobr_evit_merged_temp = pd.read_parquet('files_in_geral/dobr_10_19a22_u75.parquet')\n",
    "causas_unicas = dobr_evit_merged_temp['CAUSABAS'].unique()\n",
    "\n",
    "# Converter para DataFrame\n",
    "df_causas_unicas = pd.DataFrame(causas_unicas, columns=['CAUSABAS'])\n",
    "\n",
    "# Exibir as primeiras linhas do DataFrame\n",
    "df_causas_unicas.info()"
   ]
  },
  {
   "cell_type": "code",
   "execution_count": 6,
   "metadata": {},
   "outputs": [
    {
     "name": "stdout",
     "output_type": "stream",
     "text": [
      "       CAUSABAS        classificacao\n",
      "0          A049  Avoidable mortality\n",
      "1          A09   Avoidable mortality\n",
      "2          A162  Avoidable mortality\n",
      "3          A169  Avoidable mortality\n",
      "4          A199  Avoidable mortality\n",
      "...         ...                  ...\n",
      "11890  W705      Avoidable mortality\n",
      "11891  D047       causa não evitável\n",
      "11892  C452      Avoidable mortality\n",
      "11893  E065      Avoidable mortality\n",
      "11894  P923      Avoidable mortality\n",
      "\n",
      "[11895 rows x 2 columns]\n"
     ]
    }
   ],
   "source": [
    "df_a = df_causas_unicas\n",
    "column_a = 'CAUSABAS'\n",
    "df_b = ocde_evit\n",
    "column_b = 'cid_pai'\n",
    "column_return = 'avoid_flag'\n",
    "\n",
    "\n",
    "\n",
    "# Função para verificar a correspondência e retornar a classificação\n",
    "def verificar_correspondencia(row):\n",
    "    for index, row_b in df_b.iterrows():\n",
    "        if row[column_a].startswith(row_b[column_b]):\n",
    "            return row_b[column_return]\n",
    "    return 'causa não evitável'\n",
    "\n",
    "# Aplicando a função a cada linha do DataFrame A\n",
    "df_a['classificacao'] = df_a.apply(verificar_correspondencia, axis=1)\n",
    "\n",
    "print(df_a)"
   ]
  },
  {
   "cell_type": "code",
   "execution_count": 7,
   "metadata": {},
   "outputs": [
    {
     "name": "stdout",
     "output_type": "stream",
     "text": [
      "Registros da tabela : 4427475\n",
      "Soma de óbitos : 4446922\n",
      "+----+------------+-------------+--------+-----------+--------------+-------------+---------------------+\n",
      "|    | CAUSABAS   | CODMUNRES   |   SEXO |   RACACOR |   OBITO_SOMA | ANO_OBITO   | classificacao       |\n",
      "|----+------------+-------------+--------+-----------+--------------+-------------+---------------------|\n",
      "|  0 | A049       | _355080     |      1 |         1 |            1 | _2019       | Avoidable mortality |\n",
      "|  1 | A09        | _320520     |      1 |         1 |            1 | _2019       | Avoidable mortality |\n",
      "|  2 | A09        | _330040     |      1 |         1 |            1 | _2019       | Avoidable mortality |\n",
      "|  3 | A09        | _350970     |      1 |         4 |            1 | _2019       | Avoidable mortality |\n",
      "|  4 | A09        | _355100     |      2 |         1 |            1 | _2019       | Avoidable mortality |\n",
      "+----+------------+-------------+--------+-----------+--------------+-------------+---------------------+\n"
     ]
    }
   ],
   "source": [
    "# Merge dobr_merged_pop_clean and df_a by CAUSABAS\n",
    "dobr_evit_merged_temp01 = pd.merge(dobr_evit_merged_temp, df_a, on='CAUSABAS', how='left')\n",
    "\n",
    "# mostrar dados gerais da tabela após transformações\n",
    "tab = dobr_evit_merged_temp01\n",
    "print(f'Registros da tabela : {tab.shape[0]}')\n",
    "print(f'Soma de óbitos : {tab.OBITO_SOMA.sum()}')\n",
    "print(tabulate(tab.head(), headers='keys', tablefmt='psql')) "
   ]
  },
  {
   "cell_type": "code",
   "execution_count": 8,
   "metadata": {},
   "outputs": [
    {
     "data": {
      "text/html": [
       "<div>\n",
       "<style scoped>\n",
       "    .dataframe tbody tr th:only-of-type {\n",
       "        vertical-align: middle;\n",
       "    }\n",
       "\n",
       "    .dataframe tbody tr th {\n",
       "        vertical-align: top;\n",
       "    }\n",
       "\n",
       "    .dataframe thead th {\n",
       "        text-align: right;\n",
       "    }\n",
       "</style>\n",
       "<table border=\"1\" class=\"dataframe\">\n",
       "  <thead>\n",
       "    <tr style=\"text-align: right;\">\n",
       "      <th></th>\n",
       "      <th>CAUSABAS</th>\n",
       "      <th>CODMUNRES</th>\n",
       "      <th>SEXO</th>\n",
       "      <th>RACACOR</th>\n",
       "      <th>OBITO_SOMA</th>\n",
       "      <th>ANO_OBITO</th>\n",
       "    </tr>\n",
       "    <tr>\n",
       "      <th>classificacao</th>\n",
       "      <th></th>\n",
       "      <th></th>\n",
       "      <th></th>\n",
       "      <th></th>\n",
       "      <th></th>\n",
       "      <th></th>\n",
       "    </tr>\n",
       "  </thead>\n",
       "  <tbody>\n",
       "    <tr>\n",
       "      <th>Avoidable mortality</th>\n",
       "      <td>2533757</td>\n",
       "      <td>2533757</td>\n",
       "      <td>2533757</td>\n",
       "      <td>2533757</td>\n",
       "      <td>2533757</td>\n",
       "      <td>2533757</td>\n",
       "    </tr>\n",
       "    <tr>\n",
       "      <th>causa não evitável</th>\n",
       "      <td>1893718</td>\n",
       "      <td>1893718</td>\n",
       "      <td>1893718</td>\n",
       "      <td>1893718</td>\n",
       "      <td>1893718</td>\n",
       "      <td>1893718</td>\n",
       "    </tr>\n",
       "  </tbody>\n",
       "</table>\n",
       "</div>"
      ],
      "text/plain": [
       "                     CAUSABAS  CODMUNRES     SEXO  RACACOR  OBITO_SOMA  \\\n",
       "classificacao                                                            \n",
       "Avoidable mortality   2533757    2533757  2533757  2533757     2533757   \n",
       "causa não evitável    1893718    1893718  1893718  1893718     1893718   \n",
       "\n",
       "                     ANO_OBITO  \n",
       "classificacao                   \n",
       "Avoidable mortality    2533757  \n",
       "causa não evitável     1893718  "
      ]
     },
     "execution_count": 8,
     "metadata": {},
     "output_type": "execute_result"
    }
   ],
   "source": [
    "# Mostrar resultados de classificacao\n",
    "dobr_evit_merged_temp01.groupby('classificacao').count()"
   ]
  },
  {
   "cell_type": "code",
   "execution_count": 9,
   "metadata": {},
   "outputs": [
    {
     "name": "stdout",
     "output_type": "stream",
     "text": [
      "Registros da tabela : 2533757\n",
      "Soma de óbitos : 2537888\n",
      "+----+------------+-------------+--------+-----------+--------------+-------------+---------------------+\n",
      "|    | CAUSABAS   | CODMUNRES   |   SEXO |   RACACOR |   OBITO_SOMA | ANO_OBITO   | classificacao       |\n",
      "|----+------------+-------------+--------+-----------+--------------+-------------+---------------------|\n",
      "|  0 | A049       | _355080     |      1 |         1 |            1 | _2019       | Avoidable mortality |\n",
      "|  1 | A09        | _320520     |      1 |         1 |            1 | _2019       | Avoidable mortality |\n",
      "|  2 | A09        | _330040     |      1 |         1 |            1 | _2019       | Avoidable mortality |\n",
      "|  3 | A09        | _350970     |      1 |         4 |            1 | _2019       | Avoidable mortality |\n",
      "|  4 | A09        | _355100     |      2 |         1 |            1 | _2019       | Avoidable mortality |\n",
      "+----+------------+-------------+--------+-----------+--------------+-------------+---------------------+\n"
     ]
    }
   ],
   "source": [
    "# Manter na base só dados de CID evitáveis\n",
    "dobr_evit_merged_temp02 = dobr_evit_merged_temp01[dobr_evit_merged_temp01['classificacao']=='Avoidable mortality']\n",
    "\n",
    "# mostrar dados gerais da tabela após transformações\n",
    "tab = dobr_evit_merged_temp02\n",
    "print(f'Registros da tabela : {tab.shape[0]}')\n",
    "print(f'Soma de óbitos : {tab.OBITO_SOMA.sum()}')\n",
    "print(tabulate(tab.head(), headers='keys', tablefmt='psql')) "
   ]
  },
  {
   "cell_type": "markdown",
   "metadata": {},
   "source": [
    "##########       Atenção      ##########\n",
    "\n",
    "Atenção ao salvar o arquivo com título da versão e extensão adequada"
   ]
  },
  {
   "cell_type": "code",
   "execution_count": 10,
   "metadata": {},
   "outputs": [],
   "source": [
    "# Salvar arquivo final de DOBR\n",
    "dobr_evit_merged_temp02.to_parquet('files_temp/ds1_dobr_evit_merged.parquet')"
   ]
  },
  {
   "cell_type": "markdown",
   "metadata": {},
   "source": [
    "### Merge de dados de Municípios ao arquivo principal do SIM\n",
    "\n",
    "Serão utilizados os arquivos:\n",
    "\n",
    "* população: 'files_clean/censo_pop_clean.csv'\n",
    "\n",
    "* sim: 'files_clean/dobr_clean.csv'\n",
    "\n",
    "Como a população está clivada em Município, Idade (previamente, todos abaixo de 75 anos), Sexo e Raça, estes campos serão utilizados de maneira conjunta para realizar o merge."
   ]
  },
  {
   "cell_type": "code",
   "execution_count": 11,
   "metadata": {},
   "outputs": [
    {
     "name": "stdout",
     "output_type": "stream",
     "text": [
      "Registros da tabela : 111400\n",
      "+----+-------+----------+----------------------------+--------+---------------+-------------+---------------+------+---------+----------+\n",
      "|    | Ano   | mun_co   | mun_no                     | Sexo   | Cor ou raça   |   pop_total |   pop_under74 | uf   | uf_co   | uf_no    |\n",
      "|----+-------+----------+----------------------------+--------+---------------+-------------+---------------+------+---------+----------|\n",
      "|  0 | _2010 | _110001  | Alta Floresta D'Oeste (RO) | Homens | Branca        |        5311 |          5202 | RO   | _11     | Rondônia |\n",
      "|  1 | _2010 | _110001  | Alta Floresta D'Oeste (RO) | Homens | Preta         |         693 |           673 | RO   | _11     | Rondônia |\n",
      "|  2 | _2010 | _110001  | Alta Floresta D'Oeste (RO) | Homens | Amarela       |          96 |            94 | RO   | _11     | Rondônia |\n",
      "|  3 | _2010 | _110001  | Alta Floresta D'Oeste (RO) | Homens | Parda         |        6323 |          6206 | RO   | _11     | Rondônia |\n",
      "|  4 | _2010 | _110001  | Alta Floresta D'Oeste (RO) | Homens | Indígena      |         233 |           229 | RO   | _11     | Rondônia |\n",
      "+----+-------+----------+----------------------------+--------+---------------+-------------+---------------+------+---------+----------+\n"
     ]
    }
   ],
   "source": [
    "# Dados do Censo\n",
    "\n",
    "# Verificar colunas de população no arquivo censo_pop_clean\n",
    "censo_temp = pd.read_parquet('files_in_geral/censo_mun.parquet')\n",
    "\n",
    "# mostrar dados gerais da tabela após transformações\n",
    "tab = censo_temp\n",
    "print(f'Registros da tabela : {tab.shape[0]}')\n",
    "# print(f'Soma de óbitos : {tab.OBITO_SOMA.sum()}')\n",
    "print(tabulate(tab.head(), headers='keys', tablefmt='psql'))"
   ]
  },
  {
   "cell_type": "code",
   "execution_count": 12,
   "metadata": {},
   "outputs": [
    {
     "name": "stdout",
     "output_type": "stream",
     "text": [
      "Registros da tabela : 2533757\n",
      "Soma de óbitos : 2537888\n",
      "+----+------------+-------------+--------+-----------+--------------+-------------+---------------------+\n",
      "|    | CAUSABAS   | CODMUNRES   |   SEXO |   RACACOR |   OBITO_SOMA | ANO_OBITO   | classificacao       |\n",
      "|----+------------+-------------+--------+-----------+--------------+-------------+---------------------|\n",
      "|  0 | A049       | _355080     |      1 |         1 |            1 | _2019       | Avoidable mortality |\n",
      "|  1 | A09        | _320520     |      1 |         1 |            1 | _2019       | Avoidable mortality |\n",
      "|  2 | A09        | _330040     |      1 |         1 |            1 | _2019       | Avoidable mortality |\n",
      "|  3 | A09        | _350970     |      1 |         4 |            1 | _2019       | Avoidable mortality |\n",
      "|  4 | A09        | _355100     |      2 |         1 |            1 | _2019       | Avoidable mortality |\n",
      "+----+------------+-------------+--------+-----------+--------------+-------------+---------------------+\n"
     ]
    }
   ],
   "source": [
    "# Dados de óbitos, arquivo com merge de cid evitáveis\n",
    "dobr_merged_temp = pd.read_parquet('files_temp/ds1_dobr_evit_merged.parquet')\n",
    "\n",
    "\n",
    "# mostrar dados gerais da tabela após transformações\n",
    "tab = dobr_merged_temp\n",
    "print(f'Registros da tabela : {tab.shape[0]}')\n",
    "print(f'Soma de óbitos : {tab.OBITO_SOMA.sum()}')\n",
    "print(tabulate(tab.head(), headers='keys', tablefmt='psql')) "
   ]
  },
  {
   "cell_type": "markdown",
   "metadata": {},
   "source": [
    "##########         Etapa diferenciada da versão          ##########\n",
    "\n",
    "Este bloco de código a seguir retira o CAUSABAS"
   ]
  },
  {
   "cell_type": "code",
   "execution_count": 13,
   "metadata": {
    "vscode": {
     "languageId": "shellscript"
    }
   },
   "outputs": [
    {
     "name": "stdout",
     "output_type": "stream",
     "text": [
      "Registros da tabela : 154730\n",
      "Soma de óbitos : 2537888\n",
      "+----+-------------+--------+-----------+-------------+--------------+\n",
      "|    | CODMUNRES   |   SEXO | RACACOR   | ANO_OBITO   |   OBITO_SOMA |\n",
      "|----+-------------+--------+-----------+-------------+--------------|\n",
      "|  0 | _110000     |      1 |           | _2020       |            1 |\n",
      "|  1 | _110000     |      1 |           | _2021       |            1 |\n",
      "|  2 | _110000     |      1 | 1         | _2019       |            2 |\n",
      "|  3 | _110000     |      1 | 1         | _2021       |            2 |\n",
      "|  4 | _110000     |      1 | 1         | _2022       |            1 |\n",
      "+----+-------------+--------+-----------+-------------+--------------+\n"
     ]
    }
   ],
   "source": [
    "# Agrupar por POP_MERGE e somar os registros, não contabilizando mais por CAUSABAS\n",
    "col_group= [\n",
    "            # 'CAUSABAS', \n",
    "            'CODMUNRES', 'SEXO', 'RACACOR', 'ANO_OBITO']\n",
    "\n",
    "dobr_merged_temp01 = dobr_merged_temp.groupby(col_group)['OBITO_SOMA'].sum().reset_index()\n",
    "\n",
    "# mostrar dados gerais da tabela após transformações\n",
    "tab = dobr_merged_temp01\n",
    "print(f'Registros da tabela : {tab.shape[0]}')\n",
    "print(f'Soma de óbitos : {tab.OBITO_SOMA.sum()}')\n",
    "print(tabulate(tab.head(), headers='keys', tablefmt='psql')) "
   ]
  },
  {
   "cell_type": "code",
   "execution_count": 14,
   "metadata": {
    "vscode": {
     "languageId": "shellscript"
    }
   },
   "outputs": [
    {
     "name": "stdout",
     "output_type": "stream",
     "text": [
      "Código de sexo: ['1' '1   ' '2' '2   ' '0' '9   ']\n",
      "Código de racacor: [' ' '1' '2' '4' '       ' '4      ' '1      ' '5' '2      ' '5      ' '3'\n",
      " '3      ']\n"
     ]
    }
   ],
   "source": [
    "# Tratamento de códigos de dobr para merge\n",
    "print(f'Código de sexo: {dobr_merged_temp01['SEXO'].unique()}')\n",
    "print(f'Código de racacor: {dobr_merged_temp01['RACACOR'].unique()}')"
   ]
  },
  {
   "cell_type": "code",
   "execution_count": 15,
   "metadata": {
    "vscode": {
     "languageId": "shellscript"
    }
   },
   "outputs": [
    {
     "name": "stdout",
     "output_type": "stream",
     "text": [
      "Registro da tabela : 154730\n",
      "+----+-------------+--------+-----------+-------------+--------------+-------------+\n",
      "|    | CODMUNRES   |   SEXO | RACACOR   | ANO_OBITO   |   OBITO_SOMA | ANO_PROXY   |\n",
      "|----+-------------+--------+-----------+-------------+--------------+-------------|\n",
      "|  0 | _110000     |      1 |           | _2020       |            1 | _2022       |\n",
      "|  1 | _110000     |      1 |           | _2021       |            1 | _2022       |\n",
      "|  2 | _110000     |      1 | 1         | _2019       |            2 | _2022       |\n",
      "|  3 | _110000     |      1 | 1         | _2021       |            2 | _2022       |\n",
      "|  4 | _110000     |      1 | 1         | _2022       |            1 | _2022       |\n",
      "+----+-------------+--------+-----------+-------------+--------------+-------------+\n"
     ]
    }
   ],
   "source": [
    "# # Gerar um campo de ano para proxy de 2022 (para ser aplicados aos anos de 19 a 22)\n",
    "dobr_merged_temp02 = dobr_merged_temp01.copy()\n",
    "\n",
    "dobr_merged_temp01['ANO_PROXY'] = dobr_merged_temp01['ANO_OBITO'].apply(lambda x: '_2010' if x == '_2010' else '_2022')\n",
    "\n",
    "# # # Criar um campo string que concatene ANO, CODMUNRES\n",
    "# dobr_merged_temp01['POP_MERGE'] = dobr_merged_temp01['ANO_PROXY'].astype(str) + dobr_merged_temp['CODMUNRES']\n",
    "\n",
    "# # mostrar dados gerais da tabela após transformações\n",
    "tab = dobr_merged_temp01\n",
    "print(f'Registro da tabela : {tab.shape[0]}')\n",
    "print(tabulate(tab.head(), headers='keys', tablefmt='psql'))"
   ]
  },
  {
   "cell_type": "code",
   "execution_count": 16,
   "metadata": {
    "vscode": {
     "languageId": "shellscript"
    }
   },
   "outputs": [
    {
     "name": "stdout",
     "output_type": "stream",
     "text": [
      "Código de RACACOR: ['_9' '_1' '_2' '_4' '_5' '_3']\n",
      "Código de SEXO: ['_1' '_2' '_9']\n",
      "Código de ANO: ['_2020' '_2021' '_2019' '_2022' '_2010']\n",
      "Código de ANO_PROXY: ['_2022' '_2010']\n",
      "Total de óbitos : 2537888\n"
     ]
    }
   ],
   "source": [
    "# Transformar valores RACACOR e SEXO\n",
    "dobr_merged_temp03 = dobr_merged_temp01.copy()\n",
    "\n",
    "# Transformar valores RACACOR\n",
    "# dobr_merged_temp03['RACACOR'] = dobr_merged_temp03['RACACOR'].replace([' ', ''], '0')\n",
    "# dobr_merged_temp03['RACACOR'] = dobr_merged_temp03['RACACOR'].fillna('0')\n",
    "dobr_merged_temp03['RACACOR'] = dobr_merged_temp03['RACACOR'].astype(str)\n",
    "dobr_merged_temp03['RACACOR'] = dobr_merged_temp03['RACACOR'].str[:1]\n",
    "dobr_merged_temp03['RACACOR'] = dobr_merged_temp03['RACACOR'].replace(' ','9')\n",
    "dobr_merged_temp03['RACACOR'] = '_' + dobr_merged_temp03['RACACOR'].astype(str)\n",
    "\n",
    "# Transformar valores SEXO\n",
    "dobr_merged_temp03['SEXO'] = dobr_merged_temp03['SEXO'].astype(str)\n",
    "dobr_merged_temp03['SEXO'] = dobr_merged_temp03['SEXO'].str[:1]\n",
    "dobr_merged_temp03['SEXO'] = dobr_merged_temp03['SEXO'].replace('0','9')\n",
    "dobr_merged_temp03['SEXO'] = '_' + dobr_merged_temp03['SEXO'].astype(str)\n",
    "\n",
    "dobr_merged_temp03['ANO_PROXY'] = dobr_merged_temp03['ANO_OBITO'].apply(lambda x: '_2010' if x == '_2010' else '_2022')\n",
    "\n",
    "\n",
    "print(f'Código de RACACOR: {dobr_merged_temp03[\"RACACOR\"].unique()}')\n",
    "print(f'Código de SEXO: {dobr_merged_temp03[\"SEXO\"].unique()}')\n",
    "print(f'Código de ANO: {dobr_merged_temp03['ANO_OBITO'].unique()}')\n",
    "print(f'Código de ANO_PROXY: {dobr_merged_temp03['ANO_PROXY'].unique()}')\n",
    "print(f'Total de óbitos : {tab.OBITO_SOMA.sum()}')"
   ]
  },
  {
   "cell_type": "code",
   "execution_count": 17,
   "metadata": {
    "vscode": {
     "languageId": "shellscript"
    }
   },
   "outputs": [
    {
     "name": "stdout",
     "output_type": "stream",
     "text": [
      "Registros de RACACOR sem qualidade : 76293\n",
      "Registros de SEXO sem qualidade : 573\n",
      "Registros total sem qualidade : 76703\n",
      "\u001b[33m ==> Total de óbitos sem dados de qualidade em SEXO e RACACOR: 76703\u001b[0m\n",
      "\u001b[33m ==> Percentual de óbitos sem dados de qualidade em SEXO e RACACOR: 3.0223161936224137\u001b[0m\n"
     ]
    }
   ],
   "source": [
    "# Apresentar total de registros de DOBR sem identificação de SEXO e RACACOR\n",
    "dobr_merged_temp03_fault = dobr_merged_temp03.loc[(dobr_merged_temp03['SEXO'] == '_9') | (dobr_merged_temp03['RACACOR'] == '_9')]\n",
    "sexo_fault = dobr_merged_temp03.loc[(dobr_merged_temp03['SEXO']== '_9')]\n",
    "racacor_fault = dobr_merged_temp03.loc[(dobr_merged_temp03['RACACOR']== '_9')]\n",
    "\n",
    "# mostrar dados gerais da tabela após transformações\n",
    "tab = dobr_merged_temp03_fault\n",
    "print(f'Registros de RACACOR sem qualidade : {racacor_fault.OBITO_SOMA.sum()}')\n",
    "print(f'Registros de SEXO sem qualidade : {sexo_fault.OBITO_SOMA.sum()}')\n",
    "print(f'Registros total sem qualidade : {tab.OBITO_SOMA.sum()}')\n",
    "\n",
    "faults_perc = (tab.OBITO_SOMA.sum()/dobr_merged_temp03.OBITO_SOMA.sum())*100\n",
    "\n",
    "print_y(f'Total de óbitos sem dados de qualidade em SEXO e RACACOR: {tab.OBITO_SOMA.sum()}')\n",
    "print_y(f'Percentual de óbitos sem dados de qualidade em SEXO e RACACOR: {faults_perc}')\n",
    "# print(tabulate(tab.head(), headers='keys', tablefmt='psql', maxcolwidths=30))"
   ]
  },
  {
   "cell_type": "code",
   "execution_count": 18,
   "metadata": {
    "vscode": {
     "languageId": "shellscript"
    }
   },
   "outputs": [
    {
     "name": "stdout",
     "output_type": "stream",
     "text": [
      "Registros da tabela : 135976\n",
      "Total de óbitos : 2461185\n",
      "+----+-------------+--------+-----------+-------------+--------------+-------------+\n",
      "|    | CODMUNRES   | SEXO   | RACACOR   | ANO_OBITO   |   OBITO_SOMA | ANO_PROXY   |\n",
      "|----+-------------+--------+-----------+-------------+--------------+-------------|\n",
      "|  2 | _110000     | _1     | _1        | _2019       |            2 | _2022       |\n",
      "|  3 | _110000     | _1     | _1        | _2021       |            2 | _2022       |\n",
      "|  4 | _110000     | _1     | _1        | _2022       |            1 | _2022       |\n",
      "|  5 | _110000     | _1     | _2        | _2019       |            1 | _2022       |\n",
      "|  6 | _110000     | _1     | _2        | _2022       |            1 | _2022       |\n",
      "+----+-------------+--------+-----------+-------------+--------------+-------------+\n"
     ]
    }
   ],
   "source": [
    "# Excluir valores sem qualidade da tabela\n",
    "dobr_merged_temp04 = dobr_merged_temp03[(dobr_merged_temp03['RACACOR'] != '_9') & (dobr_merged_temp03['SEXO'] != '_9')]\n",
    "\n",
    "# mostrar dados gerais da tabela após transformações\n",
    "tab = dobr_merged_temp04\n",
    "print(f'Registros da tabela : {tab.shape[0]}')\n",
    "\n",
    "print(f'Total de óbitos : {tab.OBITO_SOMA.sum()}')\n",
    "print(tabulate(tab.head(), headers='keys', tablefmt='psql', maxcolwidths=30))"
   ]
  },
  {
   "cell_type": "code",
   "execution_count": 19,
   "metadata": {
    "vscode": {
     "languageId": "shellscript"
    }
   },
   "outputs": [
    {
     "name": "stdout",
     "output_type": "stream",
     "text": [
      "Código de sexo: ['_1' '_2']\n",
      "Código de racacor: ['_1' '_2' '_3' '_4' '_5']\n",
      "Código de ANO: ['_2010' '_2022']\n"
     ]
    }
   ],
   "source": [
    "# Transformar campos de cor e sexo em código\n",
    "censo_temp01 = censo_temp.copy()\n",
    "\n",
    "# Transformar valores de sexo em código (utilizado pelo SIM)\n",
    "censo_temp01['SEXO'] = censo_temp01['Sexo'].map({'Homens':'_1',\n",
    "                                                    'Mulheres':'_2'})\n",
    "# Transformar valores nan em 0\n",
    "censo_temp01['RACACOR'] = censo_temp01['Cor ou raça'].fillna('_0')\n",
    "\n",
    "# Transformar valores de racacor em código (utilizado pelo SIM)\n",
    "censo_temp01['RACACOR'] = censo_temp01['RACACOR'].map({'Branca':'_1',\n",
    "                                                        'Preta':'_2',\n",
    "                                                        'Amarela':'_3',\n",
    "                                                        'Parda':'_4',\n",
    "                                                        'Indígena':'_5',\n",
    "                                                        'Sem declaração':'_9'})\n",
    "\n",
    "# Trasformar valores de ano\n",
    "censo_temp01['ANO_OBITO_'] = censo_temp01['Ano'].astype(str)\n",
    "\n",
    "# Exibir resultados\n",
    "print(f'Código de sexo: {censo_temp01['SEXO'].unique()}')\n",
    "print(f'Código de racacor: {censo_temp01['RACACOR'].unique()}')\n",
    "print(f'Código de ANO: {censo_temp01['ANO_OBITO_'].unique()}')"
   ]
  },
  {
   "cell_type": "code",
   "execution_count": 20,
   "metadata": {
    "vscode": {
     "languageId": "shellscript"
    }
   },
   "outputs": [
    {
     "name": "stdout",
     "output_type": "stream",
     "text": [
      "Registros da tabela : 135976\n",
      "Total de óbitos : 2461185\n"
     ]
    },
    {
     "data": {
      "text/html": [
       "<div>\n",
       "<style scoped>\n",
       "    .dataframe tbody tr th:only-of-type {\n",
       "        vertical-align: middle;\n",
       "    }\n",
       "\n",
       "    .dataframe tbody tr th {\n",
       "        vertical-align: top;\n",
       "    }\n",
       "\n",
       "    .dataframe thead th {\n",
       "        text-align: right;\n",
       "    }\n",
       "</style>\n",
       "<table border=\"1\" class=\"dataframe\">\n",
       "  <thead>\n",
       "    <tr style=\"text-align: right;\">\n",
       "      <th></th>\n",
       "      <th>CODMUNRES</th>\n",
       "      <th>SEXO</th>\n",
       "      <th>RACACOR</th>\n",
       "      <th>ANO_OBITO</th>\n",
       "      <th>OBITO_SOMA</th>\n",
       "      <th>ANO_PROXY</th>\n",
       "      <th>Ano</th>\n",
       "      <th>mun_co</th>\n",
       "      <th>mun_no</th>\n",
       "      <th>Sexo</th>\n",
       "      <th>Cor ou raça</th>\n",
       "      <th>pop_total</th>\n",
       "      <th>pop_under74</th>\n",
       "      <th>uf</th>\n",
       "      <th>uf_co</th>\n",
       "      <th>uf_no</th>\n",
       "      <th>ANO_OBITO_</th>\n",
       "    </tr>\n",
       "  </thead>\n",
       "  <tbody>\n",
       "    <tr>\n",
       "      <th>0</th>\n",
       "      <td>_110000</td>\n",
       "      <td>_1</td>\n",
       "      <td>_1</td>\n",
       "      <td>_2019</td>\n",
       "      <td>2</td>\n",
       "      <td>_2022</td>\n",
       "      <td>NaN</td>\n",
       "      <td>NaN</td>\n",
       "      <td>NaN</td>\n",
       "      <td>NaN</td>\n",
       "      <td>NaN</td>\n",
       "      <td>NaN</td>\n",
       "      <td>NaN</td>\n",
       "      <td>NaN</td>\n",
       "      <td>NaN</td>\n",
       "      <td>NaN</td>\n",
       "      <td>NaN</td>\n",
       "    </tr>\n",
       "    <tr>\n",
       "      <th>1</th>\n",
       "      <td>_110000</td>\n",
       "      <td>_1</td>\n",
       "      <td>_1</td>\n",
       "      <td>_2021</td>\n",
       "      <td>2</td>\n",
       "      <td>_2022</td>\n",
       "      <td>NaN</td>\n",
       "      <td>NaN</td>\n",
       "      <td>NaN</td>\n",
       "      <td>NaN</td>\n",
       "      <td>NaN</td>\n",
       "      <td>NaN</td>\n",
       "      <td>NaN</td>\n",
       "      <td>NaN</td>\n",
       "      <td>NaN</td>\n",
       "      <td>NaN</td>\n",
       "      <td>NaN</td>\n",
       "    </tr>\n",
       "    <tr>\n",
       "      <th>2</th>\n",
       "      <td>_110000</td>\n",
       "      <td>_1</td>\n",
       "      <td>_1</td>\n",
       "      <td>_2022</td>\n",
       "      <td>1</td>\n",
       "      <td>_2022</td>\n",
       "      <td>NaN</td>\n",
       "      <td>NaN</td>\n",
       "      <td>NaN</td>\n",
       "      <td>NaN</td>\n",
       "      <td>NaN</td>\n",
       "      <td>NaN</td>\n",
       "      <td>NaN</td>\n",
       "      <td>NaN</td>\n",
       "      <td>NaN</td>\n",
       "      <td>NaN</td>\n",
       "      <td>NaN</td>\n",
       "    </tr>\n",
       "    <tr>\n",
       "      <th>3</th>\n",
       "      <td>_110000</td>\n",
       "      <td>_1</td>\n",
       "      <td>_2</td>\n",
       "      <td>_2019</td>\n",
       "      <td>1</td>\n",
       "      <td>_2022</td>\n",
       "      <td>NaN</td>\n",
       "      <td>NaN</td>\n",
       "      <td>NaN</td>\n",
       "      <td>NaN</td>\n",
       "      <td>NaN</td>\n",
       "      <td>NaN</td>\n",
       "      <td>NaN</td>\n",
       "      <td>NaN</td>\n",
       "      <td>NaN</td>\n",
       "      <td>NaN</td>\n",
       "      <td>NaN</td>\n",
       "    </tr>\n",
       "    <tr>\n",
       "      <th>4</th>\n",
       "      <td>_110000</td>\n",
       "      <td>_1</td>\n",
       "      <td>_2</td>\n",
       "      <td>_2022</td>\n",
       "      <td>1</td>\n",
       "      <td>_2022</td>\n",
       "      <td>NaN</td>\n",
       "      <td>NaN</td>\n",
       "      <td>NaN</td>\n",
       "      <td>NaN</td>\n",
       "      <td>NaN</td>\n",
       "      <td>NaN</td>\n",
       "      <td>NaN</td>\n",
       "      <td>NaN</td>\n",
       "      <td>NaN</td>\n",
       "      <td>NaN</td>\n",
       "      <td>NaN</td>\n",
       "    </tr>\n",
       "  </tbody>\n",
       "</table>\n",
       "</div>"
      ],
      "text/plain": [
       "  CODMUNRES SEXO RACACOR ANO_OBITO  OBITO_SOMA ANO_PROXY  Ano mun_co mun_no  \\\n",
       "0   _110000   _1      _1     _2019           2     _2022  NaN    NaN    NaN   \n",
       "1   _110000   _1      _1     _2021           2     _2022  NaN    NaN    NaN   \n",
       "2   _110000   _1      _1     _2022           1     _2022  NaN    NaN    NaN   \n",
       "3   _110000   _1      _2     _2019           1     _2022  NaN    NaN    NaN   \n",
       "4   _110000   _1      _2     _2022           1     _2022  NaN    NaN    NaN   \n",
       "\n",
       "  Sexo Cor ou raça  pop_total  pop_under74   uf uf_co uf_no ANO_OBITO_  \n",
       "0  NaN         NaN        NaN          NaN  NaN   NaN   NaN        NaN  \n",
       "1  NaN         NaN        NaN          NaN  NaN   NaN   NaN        NaN  \n",
       "2  NaN         NaN        NaN          NaN  NaN   NaN   NaN        NaN  \n",
       "3  NaN         NaN        NaN          NaN  NaN   NaN   NaN        NaN  \n",
       "4  NaN         NaN        NaN          NaN  NaN   NaN   NaN        NaN  "
      ]
     },
     "execution_count": 20,
     "metadata": {},
     "output_type": "execute_result"
    }
   ],
   "source": [
    "# Realizar o merge dos dataframes\n",
    "dobr_merged_temp05 = pd.merge(dobr_merged_temp04, censo_temp01, \n",
    "                              left_on=['ANO_PROXY','CODMUNRES','SEXO','RACACOR'],\n",
    "                              right_on=['ANO_OBITO_','mun_co','SEXO','RACACOR'],\n",
    "                              how='left')\n",
    "\n",
    "\n",
    "# mostrar dados gerais da tabela após transformações\n",
    "tab = dobr_merged_temp05\n",
    "print(f'Registros da tabela : {tab.shape[0]}')\n",
    "print(f'Total de óbitos : {tab.OBITO_SOMA.sum()}')\n",
    "# print(tabulate(tab.head(), headers='keys', tablefmt='psql'))\n",
    "tab.head()"
   ]
  },
  {
   "cell_type": "code",
   "execution_count": 21,
   "metadata": {},
   "outputs": [
    {
     "name": "stdout",
     "output_type": "stream",
     "text": [
      "Registros da tabela : 135626\n",
      "Total de óbitos : 2457520\n",
      "+----+-------------+----------+----------------------------+--------+---------------+--------------+-------------+---------------+\n",
      "|    | ANO_OBITO   | uf_no    | mun_no                     | Sexo   | Cor ou raça   |   OBITO_SOMA |   pop_total |   pop_under74 |\n",
      "|----+-------------+----------+----------------------------+--------+---------------+--------------+-------------+---------------|\n",
      "|  0 | _2019       | Rondônia | Alta Floresta D'Oeste (RO) | Homens | Branca        |           17 |        3770 |          3606 |\n",
      "|  1 | _2020       | Rondônia | Alta Floresta D'Oeste (RO) | Homens | Branca        |           24 |        3770 |          3606 |\n",
      "|  2 | _2021       | Rondônia | Alta Floresta D'Oeste (RO) | Homens | Branca        |            9 |        3770 |          3606 |\n",
      "|  3 | _2022       | Rondônia | Alta Floresta D'Oeste (RO) | Homens | Branca        |           23 |        3770 |          3606 |\n",
      "|  4 | _2019       | Rondônia | Alta Floresta D'Oeste (RO) | Homens | Preta         |            2 |         743 |           700 |\n",
      "+----+-------------+----------+----------------------------+--------+---------------+--------------+-------------+---------------+\n"
     ]
    }
   ],
   "source": [
    "# Filtrar registros onde pop_under74 não é nulo\n",
    "dobr_merged_temp06 = dobr_merged_temp05.dropna(subset=['pop_under74']).reset_index(drop=True)\n",
    "\n",
    "dobr_merged_temp06 = dobr_merged_temp06[['ANO_OBITO','uf_no','mun_no','Sexo','Cor ou raça','OBITO_SOMA','pop_total','pop_under74']]\n",
    "\n",
    "\n",
    "tab = dobr_merged_temp06\n",
    "print(f'Registros da tabela : {tab.shape[0]}')\n",
    "print(f'Total de óbitos : {tab.OBITO_SOMA.sum()}')\n",
    "print(tabulate(tab.head(), headers='keys', tablefmt='psql'))\n"
   ]
  },
  {
   "cell_type": "code",
   "execution_count": 22,
   "metadata": {},
   "outputs": [
    {
     "name": "stdout",
     "output_type": "stream",
     "text": [
      "Código de sexo: ['Homens' 'Mulheres']\n",
      "Código de racacor: ['Branca' 'Preta' 'Parda' 'Indígena' 'Amarela']\n",
      "Código de ANO: ['_2019' '_2020' '_2021' '_2022' '_2010']\n"
     ]
    }
   ],
   "source": [
    "# Exibir resultados\n",
    "print(f'Código de sexo: {dobr_merged_temp06['Sexo'].unique()}')\n",
    "print(f'Código de racacor: {dobr_merged_temp06['Cor ou raça'].unique()}')\n",
    "# print(f'Código de ANO: {dobr_merged_temp06['ANO_PROXY'].unique()}')\n",
    "print(f'Código de ANO: {dobr_merged_temp06['ANO_OBITO'].unique()}')"
   ]
  },
  {
   "cell_type": "markdown",
   "metadata": {},
   "source": [
    "##### Arquivo tratado final"
   ]
  },
  {
   "cell_type": "code",
   "execution_count": 23,
   "metadata": {},
   "outputs": [
    {
     "name": "stdout",
     "output_type": "stream",
     "text": [
      "\u001b[33m ==> Total de óbitos excluídos por qualidade no código de município: 3665\u001b[0m\n"
     ]
    }
   ],
   "source": [
    "# Contagem de valores com código de município sem qualidade\n",
    "mun_no_nulo = dobr_merged_temp05[dobr_merged_temp05.mun_no.isna()]\n",
    "\n",
    "tab = mun_no_nulo\n",
    "# print(f'Registros da tabela excluídos por qualidade no código de município: {tab.shape[0]}')\n",
    "print_y(f'Total de óbitos excluídos por qualidade no código de município: {tab.OBITO_SOMA.sum()}')"
   ]
  },
  {
   "cell_type": "markdown",
   "metadata": {},
   "source": [
    "##########         Atenção        ##########\n",
    "\n",
    "Atenção da hora de salvar o arquivo, com as informações corretas de versão"
   ]
  },
  {
   "cell_type": "code",
   "execution_count": 24,
   "metadata": {},
   "outputs": [],
   "source": [
    "# Salvar arquivo\n",
    "dobr_merged_temp06.to_parquet('files_temp/ds1_dobr_merged.parquet')"
   ]
  },
  {
   "cell_type": "code",
   "execution_count": 25,
   "metadata": {
    "vscode": {
     "languageId": "powershell"
    }
   },
   "outputs": [
    {
     "data": {
      "text/plain": [
       "np.int64(0)"
      ]
     },
     "execution_count": 25,
     "metadata": {},
     "output_type": "execute_result"
    }
   ],
   "source": [
    "# Filtrar registros onde pop_under74 é null\n",
    "dobr_merged_pop_nulos = dobr_merged_temp06[dobr_merged_temp06['pop_under74'].isnull()]\n",
    "\n",
    "# Exibir os registros filtrados\n",
    "dobr_merged_pop_nulos['OBITO_SOMA'].sum()"
   ]
  },
  {
   "cell_type": "markdown",
   "metadata": {},
   "source": [
    "# Etapa 3 - Aplicação de Modelo do HEAT ao Bloco"
   ]
  },
  {
   "cell_type": "markdown",
   "metadata": {},
   "source": [
    "O modelo HEAT apresenta um framework bem rígido e objetivo para carga de dados.\n",
    "\n",
    "O dataset precisa estar organizado com os labels e de acordo com a definição presente no template.\n",
    "\n",
    "E depois precisa ser validado em planilha excel disponibilizada pela organização.\n",
    "\n",
    "Ajustes: com a identificação da população por sexo e raça, encontramos 37 registros com população 0. Tivemos que excluir estes registros (incluindo os óbitos) no momento da preparação do dataset do heat em razão do modelo não aceitar estes valores."
   ]
  },
  {
   "cell_type": "markdown",
   "metadata": {},
   "source": [
    "## Dataset 1 - UF/Mun/sexo_raça\n",
    "\n",
    "\n",
    "O primeiro dataset que iremos construir tem as seguintes características:\n",
    "\n",
    "* setting: UF\n",
    "* dimension: município\n",
    "* subgroup: sexo + raça-cor\n",
    "\n",
    "Estas escolhas implicam em podermos disponibilizar ao usuário do HEAT a possibilidade de ver os municípios (dimensões) de maneira agregada por UF. \n"
   ]
  },
  {
   "cell_type": "code",
   "execution_count": null,
   "metadata": {},
   "outputs": [
    {
     "name": "stdout",
     "output_type": "stream",
     "text": [
      "('setting', 'date', 'source', 'indicator_abbr', 'indicator_name', 'dimension', 'subgroup', 'estimate', 'se', 'ci_lb', 'ci_ub', 'population', 'note', 'setting_average', 'iso3', 'favourable_indicator', 'indicator_scale', 'ordered_dimension', 'subgroup_order', 'reference_subgroup')\n"
     ]
    }
   ],
   "source": [
    "# Mostrar colunas do template do HEAT\n",
    "\n",
    "import requests\n",
    "import openpyxl\n",
    "\n",
    "# Baixando o arquivo\n",
    "url = 'https://srhdpeuwpubsa.blob.core.windows.net/whdh/HIDR/heat_plus_template_validation.xlsm'\n",
    "response = requests.get(url)\n",
    "\n",
    "# Salvando o arquivo localmente (você pode escolher outro nome)\n",
    "with open('arquivo_excel.xlsm', 'wb') as f:\n",
    "    f.write(response.content)\n",
    "\n",
    "# Abrindo o arquivo Excel\n",
    "workbook = openpyxl.load_workbook('arquivo_excel.xlsm')\n",
    "\n",
    "# Selecionando a primeira aba\n",
    "sheet = workbook.template\n",
    "sheet = workbook['template']\n",
    "\n",
    "# Mostrar conteúdo da aba 'template'\n",
    "for row in sheet.iter_rows(values_only=True):\n",
    "    print(row)\n",
    "\n"
   ]
  },
  {
   "cell_type": "code",
   "execution_count": 26,
   "metadata": {},
   "outputs": [
    {
     "name": "stdout",
     "output_type": "stream",
     "text": [
      "Registros da tabela : 135626\n",
      "Total de óbitos : 2457520\n",
      "+----+-------------+----------+----------------------------+--------+---------------+--------------+-------------+---------------+\n",
      "|    | ANO_OBITO   | uf_no    | mun_no                     | Sexo   | Cor ou raça   |   OBITO_SOMA |   pop_total |   pop_under74 |\n",
      "|----+-------------+----------+----------------------------+--------+---------------+--------------+-------------+---------------|\n",
      "|  0 | _2019       | Rondônia | Alta Floresta D'Oeste (RO) | Homens | Branca        |           17 |        3770 |          3606 |\n",
      "|  1 | _2020       | Rondônia | Alta Floresta D'Oeste (RO) | Homens | Branca        |           24 |        3770 |          3606 |\n",
      "|  2 | _2021       | Rondônia | Alta Floresta D'Oeste (RO) | Homens | Branca        |            9 |        3770 |          3606 |\n",
      "|  3 | _2022       | Rondônia | Alta Floresta D'Oeste (RO) | Homens | Branca        |           23 |        3770 |          3606 |\n",
      "|  4 | _2019       | Rondônia | Alta Floresta D'Oeste (RO) | Homens | Preta         |            2 |         743 |           700 |\n",
      "+----+-------------+----------+----------------------------+--------+---------------+--------------+-------------+---------------+\n"
     ]
    }
   ],
   "source": [
    "# Abrir arquivo final de DO após tratamento\n",
    "heatds_temp = pd.read_parquet('files_temp/ds1_dobr_merged.parquet')\n",
    "\n",
    "# mostrar resultados\n",
    "tab = heatds_temp\n",
    "print(f'Registros da tabela : {tab.shape[0]}')\n",
    "print(f'Total de óbitos : {tab.OBITO_SOMA.sum()}')\n",
    "print(tabulate(tab.head(), headers='keys', tablefmt='psql'))"
   ]
  },
  {
   "cell_type": "code",
   "execution_count": 27,
   "metadata": {},
   "outputs": [
    {
     "data": {
      "text/plain": [
       "Index(['ANO_OBITO', 'uf_no', 'mun_no', 'Sexo', 'Cor ou raça', 'OBITO_SOMA',\n",
       "       'pop_total', 'pop_under74'],\n",
       "      dtype='object')"
      ]
     },
     "execution_count": 27,
     "metadata": {},
     "output_type": "execute_result"
    }
   ],
   "source": [
    "heatds_temp.columns"
   ]
  },
  {
   "cell_type": "markdown",
   "metadata": {},
   "source": [
    "##########       Atenção      ##########\n",
    "\n",
    "Criação do indicador de mortalidade por ano, município, sexo e raça"
   ]
  },
  {
   "cell_type": "code",
   "execution_count": 28,
   "metadata": {
    "vscode": {
     "languageId": "ruby"
    }
   },
   "outputs": [
    {
     "name": "stdout",
     "output_type": "stream",
     "text": [
      "Registros da tabela : 135626\n",
      "Total de óbitos : 2457520\n",
      "<class 'pandas.core.frame.DataFrame'>\n",
      "RangeIndex: 135626 entries, 0 to 135625\n",
      "Data columns (total 9 columns):\n",
      " #   Column        Non-Null Count   Dtype  \n",
      "---  ------        --------------   -----  \n",
      " 0   ANO_OBITO     135626 non-null  object \n",
      " 1   uf_no         135626 non-null  object \n",
      " 2   mun_no        135626 non-null  object \n",
      " 3   Sexo          135626 non-null  object \n",
      " 4   Cor ou raça   135626 non-null  object \n",
      " 5   OBITO_SOMA    135626 non-null  int64  \n",
      " 6   pop_total     135626 non-null  float64\n",
      " 7   pop_under74   135626 non-null  float64\n",
      " 8   mort_ind_mun  135626 non-null  float64\n",
      "dtypes: float64(3), int64(1), object(5)\n",
      "memory usage: 9.3+ MB\n"
     ]
    }
   ],
   "source": [
    "heatds_temp01 = heatds_temp.copy()\n",
    "\n",
    "# Gerar o indicador de mortalidade\n",
    "heatds_temp01['mort_ind_mun'] = (heatds_temp01['OBITO_SOMA']/heatds_temp01['pop_under74'])*100000\n",
    "\n",
    "# mostrar resultados\n",
    "tab = heatds_temp01\n",
    "print(f'Registros da tabela : {tab.shape[0]}')\n",
    "print(f'Total de óbitos : {tab.OBITO_SOMA.sum()}')\n",
    "# print(tabulate(tab.head(), headers='keys', tablefmt='psql'))\n",
    "tab.info()"
   ]
  },
  {
   "cell_type": "code",
   "execution_count": 29,
   "metadata": {},
   "outputs": [
    {
     "name": "stdout",
     "output_type": "stream",
     "text": [
      "Número de valores infinitos em mort_ind_mun: 167\n",
      "Registros da tabela excluidos por valores infinitos : 167\n",
      "Total de óbitos excluídos por valores infinitos : 175\n"
     ]
    }
   ],
   "source": [
    "# Contar e gerar tabela de indicador de mortalidade infinitos [inf]\n",
    "registros_inf = heatds_temp01[np.isinf(heatds_temp01['mort_ind_mun'])]\n",
    "inf_count = np.isinf(heatds_temp01['mort_ind_mun']).sum()\n",
    "\n",
    "# Exibir os registros filtrados\n",
    "print(f\"Número de valores infinitos em mort_ind_mun: {inf_count}\")\n",
    "registros_inf\n",
    "\n",
    "# mostrar resultados\n",
    "tab = registros_inf\n",
    "print(f'Registros da tabela excluidos por valores infinitos : {tab.shape[0]}')\n",
    "print(f'Total de óbitos excluídos por valores infinitos : {tab.OBITO_SOMA.sum()}')\n",
    "# print(tabulate(tab.head(), headers='keys', tablefmt='psql'))"
   ]
  },
  {
   "cell_type": "code",
   "execution_count": 30,
   "metadata": {},
   "outputs": [
    {
     "name": "stdout",
     "output_type": "stream",
     "text": [
      "Registros da tabela após excluir valores infinitos : 135459\n",
      "Total de óbitos após excluir valores infinitos : 2457345\n"
     ]
    }
   ],
   "source": [
    "# Excluir registros com valores infinitos em mort_ind_mun\n",
    "heatds_temp02 = heatds_temp01[~np.isinf(heatds_temp01['mort_ind_mun'])].reset_index(drop=True)\n",
    "\n",
    "# mostrar resultados\n",
    "tab = heatds_temp02\n",
    "print(f'Registros da tabela após excluir valores infinitos : {tab.shape[0]}')\n",
    "print(f'Total de óbitos após excluir valores infinitos : {tab.OBITO_SOMA.sum()}')\n",
    "# print(tabulate(tab.head(), headers='keys', tablefmt='psql'))"
   ]
  },
  {
   "cell_type": "code",
   "execution_count": 31,
   "metadata": {},
   "outputs": [
    {
     "data": {
      "text/html": [
       "<div>\n",
       "<style scoped>\n",
       "    .dataframe tbody tr th:only-of-type {\n",
       "        vertical-align: middle;\n",
       "    }\n",
       "\n",
       "    .dataframe tbody tr th {\n",
       "        vertical-align: top;\n",
       "    }\n",
       "\n",
       "    .dataframe thead th {\n",
       "        text-align: right;\n",
       "    }\n",
       "</style>\n",
       "<table border=\"1\" class=\"dataframe\">\n",
       "  <thead>\n",
       "    <tr style=\"text-align: right;\">\n",
       "      <th></th>\n",
       "      <th>OBITO_SOMA</th>\n",
       "      <th>pop_total</th>\n",
       "      <th>pop_under74</th>\n",
       "      <th>mort_ind_mun</th>\n",
       "    </tr>\n",
       "  </thead>\n",
       "  <tbody>\n",
       "    <tr>\n",
       "      <th>count</th>\n",
       "      <td>135459.000000</td>\n",
       "      <td>1.354590e+05</td>\n",
       "      <td>1.354590e+05</td>\n",
       "      <td>135459.000000</td>\n",
       "    </tr>\n",
       "    <tr>\n",
       "      <th>mean</th>\n",
       "      <td>18.140877</td>\n",
       "      <td>7.252330e+03</td>\n",
       "      <td>6.969796e+03</td>\n",
       "      <td>689.415598</td>\n",
       "    </tr>\n",
       "    <tr>\n",
       "      <th>std</th>\n",
       "      <td>113.248620</td>\n",
       "      <td>4.337311e+04</td>\n",
       "      <td>4.133199e+04</td>\n",
       "      <td>4547.196370</td>\n",
       "    </tr>\n",
       "    <tr>\n",
       "      <th>min</th>\n",
       "      <td>1.000000</td>\n",
       "      <td>1.000000e+00</td>\n",
       "      <td>1.000000e+00</td>\n",
       "      <td>8.345156</td>\n",
       "    </tr>\n",
       "    <tr>\n",
       "      <th>25%</th>\n",
       "      <td>2.000000</td>\n",
       "      <td>8.370000e+02</td>\n",
       "      <td>7.940000e+02</td>\n",
       "      <td>155.038760</td>\n",
       "    </tr>\n",
       "    <tr>\n",
       "      <th>50%</th>\n",
       "      <td>4.000000</td>\n",
       "      <td>1.948000e+03</td>\n",
       "      <td>1.863000e+03</td>\n",
       "      <td>256.959315</td>\n",
       "    </tr>\n",
       "    <tr>\n",
       "      <th>75%</th>\n",
       "      <td>11.000000</td>\n",
       "      <td>4.872500e+03</td>\n",
       "      <td>4.677000e+03</td>\n",
       "      <td>418.410042</td>\n",
       "    </tr>\n",
       "    <tr>\n",
       "      <th>max</th>\n",
       "      <td>11705.000000</td>\n",
       "      <td>3.651217e+06</td>\n",
       "      <td>3.460633e+06</td>\n",
       "      <td>300000.000000</td>\n",
       "    </tr>\n",
       "  </tbody>\n",
       "</table>\n",
       "</div>"
      ],
      "text/plain": [
       "          OBITO_SOMA     pop_total   pop_under74   mort_ind_mun\n",
       "count  135459.000000  1.354590e+05  1.354590e+05  135459.000000\n",
       "mean       18.140877  7.252330e+03  6.969796e+03     689.415598\n",
       "std       113.248620  4.337311e+04  4.133199e+04    4547.196370\n",
       "min         1.000000  1.000000e+00  1.000000e+00       8.345156\n",
       "25%         2.000000  8.370000e+02  7.940000e+02     155.038760\n",
       "50%         4.000000  1.948000e+03  1.863000e+03     256.959315\n",
       "75%        11.000000  4.872500e+03  4.677000e+03     418.410042\n",
       "max     11705.000000  3.651217e+06  3.460633e+06  300000.000000"
      ]
     },
     "execution_count": 31,
     "metadata": {},
     "output_type": "execute_result"
    }
   ],
   "source": [
    "heatds_temp02.describe()"
   ]
  },
  {
   "cell_type": "markdown",
   "metadata": {},
   "source": [
    "##### Agrupar por UF para gerar setting e setting-average\n",
    "\n",
    "De acordo com o template do HEAT, o setting average: \"must be consistent for the same combinantion of: setting, year, source and indicator\".\n",
    "\n",
    "Isto implica que os valores para cada setting (UF) não traz interferência nem da dimensão (município) e nem do subgrupo (sexo-raça-cor)."
   ]
  },
  {
   "cell_type": "code",
   "execution_count": 32,
   "metadata": {
    "vscode": {
     "languageId": "ruby"
    }
   },
   "outputs": [
    {
     "name": "stdout",
     "output_type": "stream",
     "text": [
      "Registros da tabela : 135\n",
      "Total de óbitos : 2457345\n",
      "+----+---------+-------------+-----------------+------------------+---------------+\n",
      "|    | uf_no   | ANO_OBITO   |   OBITO_SOMA_uf |   pop_under74_uf |   mort_ind_uf |\n",
      "|----+---------+-------------+-----------------+------------------+---------------|\n",
      "|  0 | Acre    | _2010       |            1101 |           683087 |       161.18  |\n",
      "|  1 | Acre    | _2019       |            1865 |           782221 |       238.424 |\n",
      "|  2 | Acre    | _2020       |            1705 |           777464 |       219.303 |\n",
      "|  3 | Acre    | _2021       |            1849 |           783842 |       235.889 |\n",
      "|  4 | Acre    | _2022       |            1689 |           781302 |       216.178 |\n",
      "+----+---------+-------------+-----------------+------------------+---------------+\n"
     ]
    }
   ],
   "source": [
    "# Agrupar por 'UF', 'ANO', e calcular a média de 'mort_ind'\n",
    "dobr_grouped_uf = heatds_temp02.groupby(['uf_no',\n",
    "                                            #  'uf_co',\n",
    "                                             'ANO_OBITO',\n",
    "                                            #  'SEXO',\n",
    "                                            #  'RACACOR'\n",
    "                                             ]).agg({'OBITO_SOMA': 'sum',\n",
    "                                                    'pop_under74': 'sum',\n",
    "                                                    # 'mort_ind_mun': 'mean'\n",
    "                                                }).reset_index()\n",
    "dobr_grouped_uf.rename(columns={\n",
    "                                # 'mort_ind_mun': 'mort_ind_uf',\n",
    "                                'OBITO_SOMA': 'OBITO_SOMA_uf',\n",
    "                                'pop_under74': 'pop_under74_uf',\n",
    "                                }, inplace=True)\n",
    "\n",
    "# Gerar o indicador de mortalidade\n",
    "dobr_grouped_uf['mort_ind_uf'] = (dobr_grouped_uf['OBITO_SOMA_uf']/dobr_grouped_uf['pop_under74_uf'])*100000\n",
    "\n",
    "# mostrar resultados\n",
    "tab = dobr_grouped_uf\n",
    "print(f'Registros da tabela : {tab.shape[0]}')\n",
    "print(f'Total de óbitos : {tab.OBITO_SOMA_uf.sum()}')\n",
    "print(tabulate(tab.head(), headers='keys', tablefmt='psql'))"
   ]
  },
  {
   "cell_type": "code",
   "execution_count": 33,
   "metadata": {
    "vscode": {
     "languageId": "ruby"
    }
   },
   "outputs": [
    {
     "data": {
      "text/html": [
       "<div>\n",
       "<style scoped>\n",
       "    .dataframe tbody tr th:only-of-type {\n",
       "        vertical-align: middle;\n",
       "    }\n",
       "\n",
       "    .dataframe tbody tr th {\n",
       "        vertical-align: top;\n",
       "    }\n",
       "\n",
       "    .dataframe thead th {\n",
       "        text-align: right;\n",
       "    }\n",
       "</style>\n",
       "<table border=\"1\" class=\"dataframe\">\n",
       "  <thead>\n",
       "    <tr style=\"text-align: right;\">\n",
       "      <th></th>\n",
       "      <th>OBITO_SOMA_uf</th>\n",
       "      <th>pop_under74_uf</th>\n",
       "      <th>mort_ind_uf</th>\n",
       "    </tr>\n",
       "  </thead>\n",
       "  <tbody>\n",
       "    <tr>\n",
       "      <th>count</th>\n",
       "      <td>135.000000</td>\n",
       "      <td>1.350000e+02</td>\n",
       "      <td>135.000000</td>\n",
       "    </tr>\n",
       "    <tr>\n",
       "      <th>mean</th>\n",
       "      <td>18202.555556</td>\n",
       "      <td>6.993493e+06</td>\n",
       "      <td>253.948892</td>\n",
       "    </tr>\n",
       "    <tr>\n",
       "      <th>std</th>\n",
       "      <td>21352.781771</td>\n",
       "      <td>8.224015e+06</td>\n",
       "      <td>32.446394</td>\n",
       "    </tr>\n",
       "    <tr>\n",
       "      <th>min</th>\n",
       "      <td>870.000000</td>\n",
       "      <td>4.268220e+05</td>\n",
       "      <td>161.180055</td>\n",
       "    </tr>\n",
       "    <tr>\n",
       "      <th>25%</th>\n",
       "      <td>5388.000000</td>\n",
       "      <td>2.615825e+06</td>\n",
       "      <td>238.426410</td>\n",
       "    </tr>\n",
       "    <tr>\n",
       "      <th>50%</th>\n",
       "      <td>9106.000000</td>\n",
       "      <td>3.640631e+06</td>\n",
       "      <td>255.382807</td>\n",
       "    </tr>\n",
       "    <tr>\n",
       "      <th>75%</th>\n",
       "      <td>24271.000000</td>\n",
       "      <td>8.498988e+06</td>\n",
       "      <td>270.665252</td>\n",
       "    </tr>\n",
       "    <tr>\n",
       "      <th>max</th>\n",
       "      <td>112248.000000</td>\n",
       "      <td>4.208267e+07</td>\n",
       "      <td>328.841521</td>\n",
       "    </tr>\n",
       "  </tbody>\n",
       "</table>\n",
       "</div>"
      ],
      "text/plain": [
       "       OBITO_SOMA_uf  pop_under74_uf  mort_ind_uf\n",
       "count     135.000000    1.350000e+02   135.000000\n",
       "mean    18202.555556    6.993493e+06   253.948892\n",
       "std     21352.781771    8.224015e+06    32.446394\n",
       "min       870.000000    4.268220e+05   161.180055\n",
       "25%      5388.000000    2.615825e+06   238.426410\n",
       "50%      9106.000000    3.640631e+06   255.382807\n",
       "75%     24271.000000    8.498988e+06   270.665252\n",
       "max    112248.000000    4.208267e+07   328.841521"
      ]
     },
     "execution_count": 33,
     "metadata": {},
     "output_type": "execute_result"
    }
   ],
   "source": [
    "dobr_grouped_uf.describe()"
   ]
  },
  {
   "cell_type": "markdown",
   "metadata": {},
   "source": [
    "##########       Atenção      ##########\n",
    "\n",
    "Salvar arquivo com indicador de mortalidade por ano, uf, sexo, raça\n",
    "\n",
    "Atenção ao salvar arquivo"
   ]
  },
  {
   "cell_type": "code",
   "execution_count": 34,
   "metadata": {
    "vscode": {
     "languageId": "ruby"
    }
   },
   "outputs": [],
   "source": [
    "# Salvar arquivo por UF para exportação\n",
    "dobr_grouped_uf.to_parquet('files_temp/ds1_heatds_temp_uf.parquet')"
   ]
  },
  {
   "cell_type": "markdown",
   "metadata": {},
   "source": [
    "##########       Atenção      ##########\n",
    "\n",
    "Atenção ao merge de valores quer serão setting-average"
   ]
  },
  {
   "cell_type": "code",
   "execution_count": 35,
   "metadata": {},
   "outputs": [
    {
     "name": "stdout",
     "output_type": "stream",
     "text": [
      "Registros da tabela : 135459\n",
      "Total de óbitos : 2457345\n",
      "+----+-------------+----------+----------------------------+--------+---------------+--------------+-------------+---------------+----------------+-----------------+------------------+---------------+\n",
      "|    | ANO_OBITO   | uf_no    | mun_no                     | Sexo   | Cor ou raça   |   OBITO_SOMA |   pop_total |   pop_under74 |   mort_ind_mun |   OBITO_SOMA_uf |   pop_under74_uf |   mort_ind_uf |\n",
      "|----+-------------+----------+----------------------------+--------+---------------+--------------+-------------+---------------+----------------+-----------------+------------------+---------------|\n",
      "|  0 | _2019       | Rondônia | Alta Floresta D'Oeste (RO) | Homens | Branca        |           17 |        3770 |          3606 |        471.436 |            3602 |      1.50549e+06 |       239.257 |\n",
      "|  1 | _2020       | Rondônia | Alta Floresta D'Oeste (RO) | Homens | Branca        |           24 |        3770 |          3606 |        665.557 |            3777 |      1.50333e+06 |       251.242 |\n",
      "|  2 | _2021       | Rondônia | Alta Floresta D'Oeste (RO) | Homens | Branca        |            9 |        3770 |          3606 |        249.584 |            3938 |      1.49738e+06 |       262.994 |\n",
      "|  3 | _2022       | Rondônia | Alta Floresta D'Oeste (RO) | Homens | Branca        |           23 |        3770 |          3606 |        637.826 |            4198 |      1.50985e+06 |       278.041 |\n",
      "|  4 | _2019       | Rondônia | Alta Floresta D'Oeste (RO) | Homens | Preta         |            2 |         743 |           700 |        285.714 |            3602 |      1.50549e+06 |       239.257 |\n",
      "+----+-------------+----------+----------------------------+--------+---------------+--------------+-------------+---------------+----------------+-----------------+------------------+---------------+\n"
     ]
    }
   ],
   "source": [
    "# Trazer dados por UF (setting e setting_average)\n",
    "\n",
    "# Realizar o merge entre heat_ e uf_sett\n",
    "heatds_temp03 = pd.merge(heatds_temp02, dobr_grouped_uf, on=['uf_no',\n",
    "                                                                'ANO_OBITO',\n",
    "                                                                # 'SEXO',\n",
    "                                                                # 'RACACOR'\n",
    "                                                                ], how='left')\n",
    "# heatds_temp03.rename(columns={'mort_ind': 'mort_ind_uf'}, inplace=True)\n",
    "# Exibir as primeiras linhas do dataframe resultante\n",
    "\n",
    "# mostrar resultados\n",
    "tab = heatds_temp03\n",
    "print(f'Registros da tabela : {tab.shape[0]}')\n",
    "print(f'Total de óbitos : {tab.OBITO_SOMA.sum()}')\n",
    "print(tabulate(tab.head(), headers='keys', tablefmt='psql'))"
   ]
  },
  {
   "cell_type": "code",
   "execution_count": 36,
   "metadata": {},
   "outputs": [
    {
     "data": {
      "text/html": [
       "<div>\n",
       "<style scoped>\n",
       "    .dataframe tbody tr th:only-of-type {\n",
       "        vertical-align: middle;\n",
       "    }\n",
       "\n",
       "    .dataframe tbody tr th {\n",
       "        vertical-align: top;\n",
       "    }\n",
       "\n",
       "    .dataframe thead th {\n",
       "        text-align: right;\n",
       "    }\n",
       "</style>\n",
       "<table border=\"1\" class=\"dataframe\">\n",
       "  <thead>\n",
       "    <tr style=\"text-align: right;\">\n",
       "      <th></th>\n",
       "      <th>ANO_OBITO</th>\n",
       "      <th>uf_no</th>\n",
       "      <th>mun_no</th>\n",
       "      <th>Sexo</th>\n",
       "      <th>Cor ou raça</th>\n",
       "      <th>OBITO_SOMA</th>\n",
       "      <th>pop_total</th>\n",
       "      <th>pop_under74</th>\n",
       "      <th>mort_ind_mun</th>\n",
       "      <th>OBITO_SOMA_uf</th>\n",
       "      <th>pop_under74_uf</th>\n",
       "      <th>mort_ind_uf</th>\n",
       "    </tr>\n",
       "  </thead>\n",
       "  <tbody>\n",
       "    <tr>\n",
       "      <th>1440</th>\n",
       "      <td>_2022</td>\n",
       "      <td>Acre</td>\n",
       "      <td>Acrelândia (AC)</td>\n",
       "      <td>Homens</td>\n",
       "      <td>Branca</td>\n",
       "      <td>1</td>\n",
       "      <td>1797.0</td>\n",
       "      <td>1733.0</td>\n",
       "      <td>57.703405</td>\n",
       "      <td>1689</td>\n",
       "      <td>781302.0</td>\n",
       "      <td>216.177611</td>\n",
       "    </tr>\n",
       "    <tr>\n",
       "      <th>1447</th>\n",
       "      <td>_2022</td>\n",
       "      <td>Acre</td>\n",
       "      <td>Acrelândia (AC)</td>\n",
       "      <td>Homens</td>\n",
       "      <td>Parda</td>\n",
       "      <td>23</td>\n",
       "      <td>4362.0</td>\n",
       "      <td>4262.0</td>\n",
       "      <td>539.652745</td>\n",
       "      <td>1689</td>\n",
       "      <td>781302.0</td>\n",
       "      <td>216.177611</td>\n",
       "    </tr>\n",
       "    <tr>\n",
       "      <th>1454</th>\n",
       "      <td>_2022</td>\n",
       "      <td>Acre</td>\n",
       "      <td>Acrelândia (AC)</td>\n",
       "      <td>Mulheres</td>\n",
       "      <td>Branca</td>\n",
       "      <td>5</td>\n",
       "      <td>1680.0</td>\n",
       "      <td>1624.0</td>\n",
       "      <td>307.881773</td>\n",
       "      <td>1689</td>\n",
       "      <td>781302.0</td>\n",
       "      <td>216.177611</td>\n",
       "    </tr>\n",
       "    <tr>\n",
       "      <th>1460</th>\n",
       "      <td>_2022</td>\n",
       "      <td>Acre</td>\n",
       "      <td>Acrelândia (AC)</td>\n",
       "      <td>Mulheres</td>\n",
       "      <td>Parda</td>\n",
       "      <td>4</td>\n",
       "      <td>4426.0</td>\n",
       "      <td>4366.0</td>\n",
       "      <td>91.617041</td>\n",
       "      <td>1689</td>\n",
       "      <td>781302.0</td>\n",
       "      <td>216.177611</td>\n",
       "    </tr>\n",
       "    <tr>\n",
       "      <th>1464</th>\n",
       "      <td>_2022</td>\n",
       "      <td>Acre</td>\n",
       "      <td>Assis Brasil (AC)</td>\n",
       "      <td>Homens</td>\n",
       "      <td>Branca</td>\n",
       "      <td>1</td>\n",
       "      <td>635.0</td>\n",
       "      <td>619.0</td>\n",
       "      <td>161.550889</td>\n",
       "      <td>1689</td>\n",
       "      <td>781302.0</td>\n",
       "      <td>216.177611</td>\n",
       "    </tr>\n",
       "  </tbody>\n",
       "</table>\n",
       "</div>"
      ],
      "text/plain": [
       "     ANO_OBITO uf_no             mun_no      Sexo Cor ou raça  OBITO_SOMA  \\\n",
       "1440     _2022  Acre    Acrelândia (AC)    Homens      Branca           1   \n",
       "1447     _2022  Acre    Acrelândia (AC)    Homens       Parda          23   \n",
       "1454     _2022  Acre    Acrelândia (AC)  Mulheres      Branca           5   \n",
       "1460     _2022  Acre    Acrelândia (AC)  Mulheres       Parda           4   \n",
       "1464     _2022  Acre  Assis Brasil (AC)    Homens      Branca           1   \n",
       "\n",
       "      pop_total  pop_under74  mort_ind_mun  OBITO_SOMA_uf  pop_under74_uf  \\\n",
       "1440     1797.0       1733.0     57.703405           1689        781302.0   \n",
       "1447     4362.0       4262.0    539.652745           1689        781302.0   \n",
       "1454     1680.0       1624.0    307.881773           1689        781302.0   \n",
       "1460     4426.0       4366.0     91.617041           1689        781302.0   \n",
       "1464      635.0        619.0    161.550889           1689        781302.0   \n",
       "\n",
       "      mort_ind_uf  \n",
       "1440   216.177611  \n",
       "1447   216.177611  \n",
       "1454   216.177611  \n",
       "1460   216.177611  \n",
       "1464   216.177611  "
      ]
     },
     "execution_count": 36,
     "metadata": {},
     "output_type": "execute_result"
    }
   ],
   "source": [
    "# Teste de aplicação de setting_average (médias por UF)\n",
    "filtered_data = heatds_temp03[   (heatds_temp03['ANO_OBITO'] == '_2022') &\n",
    "                                (heatds_temp03['uf_no'] == 'Acre') \n",
    "                                # & (heat_treat00['SEXO'] == '_1') &\n",
    "                                #(heat_treat00['RACACOR'] == '_4')\n",
    "                              ]\n",
    "filtered_data.head()"
   ]
  },
  {
   "cell_type": "code",
   "execution_count": 37,
   "metadata": {},
   "outputs": [
    {
     "data": {
      "text/plain": [
       "Index(['ANO_OBITO', 'uf_no', 'mun_no', 'Sexo', 'Cor ou raça', 'OBITO_SOMA',\n",
       "       'pop_total', 'pop_under74', 'mort_ind_mun', 'OBITO_SOMA_uf',\n",
       "       'pop_under74_uf', 'mort_ind_uf'],\n",
       "      dtype='object')"
      ]
     },
     "execution_count": 37,
     "metadata": {},
     "output_type": "execute_result"
    }
   ],
   "source": [
    "heatds_temp03.columns"
   ]
  },
  {
   "cell_type": "markdown",
   "metadata": {},
   "source": [
    "##### Criar colunas do dataset"
   ]
  },
  {
   "cell_type": "code",
   "execution_count": 38,
   "metadata": {},
   "outputs": [
    {
     "name": "stdout",
     "output_type": "stream",
     "text": [
      "Registros da tabela : 135459\n",
      "Total de óbitos : 2457345\n",
      "<class 'pandas.core.frame.DataFrame'>\n",
      "RangeIndex: 135459 entries, 0 to 135458\n",
      "Data columns (total 26 columns):\n",
      " #   Column                Non-Null Count   Dtype  \n",
      "---  ------                --------------   -----  \n",
      " 0   ANO_OBITO             135459 non-null  object \n",
      " 1   uf_no                 135459 non-null  object \n",
      " 2   mun_no                135459 non-null  object \n",
      " 3   Sexo                  135459 non-null  object \n",
      " 4   Cor ou raça           135459 non-null  object \n",
      " 5   OBITO_SOMA            135459 non-null  int64  \n",
      " 6   pop_total             135459 non-null  float64\n",
      " 7   pop_under74           135459 non-null  float64\n",
      " 8   mort_ind_mun          135459 non-null  float64\n",
      " 9   OBITO_SOMA_uf         135459 non-null  int64  \n",
      " 10  pop_under74_uf        135459 non-null  float64\n",
      " 11  mort_ind_uf           135459 non-null  float64\n",
      " 12  indicator_abbr        135459 non-null  object \n",
      " 13  indicator_name        135459 non-null  object \n",
      " 14  source                135459 non-null  object \n",
      " 15  favourable_indicator  135459 non-null  int64  \n",
      " 16  indicator_scale       135459 non-null  int64  \n",
      " 17  ordered_dimension     135459 non-null  int64  \n",
      " 18  subgroup_order        135459 non-null  int64  \n",
      " 19  reference_subgroup    135459 non-null  int64  \n",
      " 20  note                  135459 non-null  object \n",
      " 21  se                    135459 non-null  object \n",
      " 22  ci_lb                 135459 non-null  object \n",
      " 23  ci_ub                 135459 non-null  object \n",
      " 24  iso3                  135459 non-null  object \n",
      " 25  subgroup              135459 non-null  object \n",
      "dtypes: float64(5), int64(7), object(14)\n",
      "memory usage: 26.9+ MB\n"
     ]
    }
   ],
   "source": [
    "# Gerar colunas sem informação ou com informação padronizada\n",
    "# heat_treat01 = heat_semCID_clean # caso não seja agrupado por UF anteriormente\n",
    "heatds_temp04 = heatds_temp03.copy() # caso seja agrupado por UF anteriormente\n",
    "\n",
    "\n",
    "heatds_temp04['indicator_abbr'] = 'AVM'\n",
    "heatds_temp04['indicator_name'] = 'Avoidable mortality (deaths per 100 000 population)'\n",
    "heatds_temp04['source'] = 'SIM/SUS & Censo/IBGE'\n",
    "heatds_temp04['favourable_indicator'] = 0\n",
    "heatds_temp04['indicator_scale'] = 100000\n",
    "heatds_temp04['ordered_dimension'] = 0\n",
    "heatds_temp04['subgroup_order'] = 0\n",
    "heatds_temp04['reference_subgroup'] = 0\n",
    "heatds_temp04['note'] = ''\n",
    "heatds_temp04['se'] = ''\n",
    "heatds_temp04['ci_lb'] = ''\n",
    "heatds_temp04['ci_ub'] = ''\n",
    "heatds_temp04['iso3'] = ''\n",
    "\n",
    "heatds_temp04['subgroup'] = heatds_temp04['Sexo'] + ' - raça/cor '  +  heatds_temp04['Cor ou raça']\n",
    "\n",
    "\n",
    "\n",
    "# mostrar resultados\n",
    "tab = heatds_temp04\n",
    "print(f'Registros da tabela : {tab.shape[0]}')\n",
    "print(f'Total de óbitos : {tab.OBITO_SOMA.sum()}')\n",
    "# print(tabulate(tab.head(), headers='keys', tablefmt='psql'))\n",
    "tab.info()\n"
   ]
  },
  {
   "cell_type": "code",
   "execution_count": 39,
   "metadata": {},
   "outputs": [
    {
     "data": {
      "text/plain": [
       "array(['Homens - raça/cor Branca', 'Homens - raça/cor Preta',\n",
       "       'Homens - raça/cor Parda', 'Homens - raça/cor Indígena',\n",
       "       'Mulheres - raça/cor Branca', 'Mulheres - raça/cor Preta',\n",
       "       'Mulheres - raça/cor Parda', 'Mulheres - raça/cor Indígena',\n",
       "       'Homens - raça/cor Amarela', 'Mulheres - raça/cor Amarela'],\n",
       "      dtype=object)"
      ]
     },
     "execution_count": 39,
     "metadata": {},
     "output_type": "execute_result"
    }
   ],
   "source": [
    "# Verificar subgroup\n",
    "heatds_temp04['subgroup'].unique()"
   ]
  },
  {
   "cell_type": "code",
   "execution_count": 40,
   "metadata": {},
   "outputs": [
    {
     "data": {
      "text/plain": [
       "Index(['ANO_OBITO', 'uf_no', 'mun_no', 'Sexo', 'Cor ou raça', 'OBITO_SOMA',\n",
       "       'pop_total', 'pop_under74', 'mort_ind_mun', 'OBITO_SOMA_uf',\n",
       "       'pop_under74_uf', 'mort_ind_uf', 'indicator_abbr', 'indicator_name',\n",
       "       'source', 'favourable_indicator', 'indicator_scale',\n",
       "       'ordered_dimension', 'subgroup_order', 'reference_subgroup', 'note',\n",
       "       'se', 'ci_lb', 'ci_ub', 'iso3', 'subgroup'],\n",
       "      dtype='object')"
      ]
     },
     "execution_count": 40,
     "metadata": {},
     "output_type": "execute_result"
    }
   ],
   "source": [
    "heatds_temp04.columns"
   ]
  },
  {
   "cell_type": "code",
   "execution_count": 41,
   "metadata": {},
   "outputs": [
    {
     "data": {
      "text/html": [
       "<div>\n",
       "<style scoped>\n",
       "    .dataframe tbody tr th:only-of-type {\n",
       "        vertical-align: middle;\n",
       "    }\n",
       "\n",
       "    .dataframe tbody tr th {\n",
       "        vertical-align: top;\n",
       "    }\n",
       "\n",
       "    .dataframe thead th {\n",
       "        text-align: right;\n",
       "    }\n",
       "</style>\n",
       "<table border=\"1\" class=\"dataframe\">\n",
       "  <thead>\n",
       "    <tr style=\"text-align: right;\">\n",
       "      <th></th>\n",
       "      <th>date</th>\n",
       "      <th>setting</th>\n",
       "      <th>dimension</th>\n",
       "      <th>Sexo</th>\n",
       "      <th>Cor ou raça</th>\n",
       "      <th>OBITO_SOMA</th>\n",
       "      <th>pop_total</th>\n",
       "      <th>population</th>\n",
       "      <th>estimate</th>\n",
       "      <th>OBITO_SOMA_uf</th>\n",
       "      <th>...</th>\n",
       "      <th>indicator_scale</th>\n",
       "      <th>ordered_dimension</th>\n",
       "      <th>subgroup_order</th>\n",
       "      <th>reference_subgroup</th>\n",
       "      <th>note</th>\n",
       "      <th>se</th>\n",
       "      <th>ci_lb</th>\n",
       "      <th>ci_ub</th>\n",
       "      <th>iso3</th>\n",
       "      <th>subgroup</th>\n",
       "    </tr>\n",
       "  </thead>\n",
       "  <tbody>\n",
       "    <tr>\n",
       "      <th>0</th>\n",
       "      <td>2019</td>\n",
       "      <td>Rondônia</td>\n",
       "      <td>Alta Floresta D'Oeste (RO)</td>\n",
       "      <td>Homens</td>\n",
       "      <td>Branca</td>\n",
       "      <td>17</td>\n",
       "      <td>3770.0</td>\n",
       "      <td>3606.0</td>\n",
       "      <td>471</td>\n",
       "      <td>3602</td>\n",
       "      <td>...</td>\n",
       "      <td>100000</td>\n",
       "      <td>0</td>\n",
       "      <td>0</td>\n",
       "      <td>0</td>\n",
       "      <td></td>\n",
       "      <td></td>\n",
       "      <td></td>\n",
       "      <td></td>\n",
       "      <td></td>\n",
       "      <td>Homens - raça/cor Branca</td>\n",
       "    </tr>\n",
       "    <tr>\n",
       "      <th>1</th>\n",
       "      <td>2020</td>\n",
       "      <td>Rondônia</td>\n",
       "      <td>Alta Floresta D'Oeste (RO)</td>\n",
       "      <td>Homens</td>\n",
       "      <td>Branca</td>\n",
       "      <td>24</td>\n",
       "      <td>3770.0</td>\n",
       "      <td>3606.0</td>\n",
       "      <td>665</td>\n",
       "      <td>3777</td>\n",
       "      <td>...</td>\n",
       "      <td>100000</td>\n",
       "      <td>0</td>\n",
       "      <td>0</td>\n",
       "      <td>0</td>\n",
       "      <td></td>\n",
       "      <td></td>\n",
       "      <td></td>\n",
       "      <td></td>\n",
       "      <td></td>\n",
       "      <td>Homens - raça/cor Branca</td>\n",
       "    </tr>\n",
       "    <tr>\n",
       "      <th>2</th>\n",
       "      <td>2021</td>\n",
       "      <td>Rondônia</td>\n",
       "      <td>Alta Floresta D'Oeste (RO)</td>\n",
       "      <td>Homens</td>\n",
       "      <td>Branca</td>\n",
       "      <td>9</td>\n",
       "      <td>3770.0</td>\n",
       "      <td>3606.0</td>\n",
       "      <td>249</td>\n",
       "      <td>3938</td>\n",
       "      <td>...</td>\n",
       "      <td>100000</td>\n",
       "      <td>0</td>\n",
       "      <td>0</td>\n",
       "      <td>0</td>\n",
       "      <td></td>\n",
       "      <td></td>\n",
       "      <td></td>\n",
       "      <td></td>\n",
       "      <td></td>\n",
       "      <td>Homens - raça/cor Branca</td>\n",
       "    </tr>\n",
       "    <tr>\n",
       "      <th>3</th>\n",
       "      <td>2022</td>\n",
       "      <td>Rondônia</td>\n",
       "      <td>Alta Floresta D'Oeste (RO)</td>\n",
       "      <td>Homens</td>\n",
       "      <td>Branca</td>\n",
       "      <td>23</td>\n",
       "      <td>3770.0</td>\n",
       "      <td>3606.0</td>\n",
       "      <td>637</td>\n",
       "      <td>4198</td>\n",
       "      <td>...</td>\n",
       "      <td>100000</td>\n",
       "      <td>0</td>\n",
       "      <td>0</td>\n",
       "      <td>0</td>\n",
       "      <td></td>\n",
       "      <td></td>\n",
       "      <td></td>\n",
       "      <td></td>\n",
       "      <td></td>\n",
       "      <td>Homens - raça/cor Branca</td>\n",
       "    </tr>\n",
       "    <tr>\n",
       "      <th>4</th>\n",
       "      <td>2019</td>\n",
       "      <td>Rondônia</td>\n",
       "      <td>Alta Floresta D'Oeste (RO)</td>\n",
       "      <td>Homens</td>\n",
       "      <td>Preta</td>\n",
       "      <td>2</td>\n",
       "      <td>743.0</td>\n",
       "      <td>700.0</td>\n",
       "      <td>285</td>\n",
       "      <td>3602</td>\n",
       "      <td>...</td>\n",
       "      <td>100000</td>\n",
       "      <td>0</td>\n",
       "      <td>0</td>\n",
       "      <td>0</td>\n",
       "      <td></td>\n",
       "      <td></td>\n",
       "      <td></td>\n",
       "      <td></td>\n",
       "      <td></td>\n",
       "      <td>Homens - raça/cor Preta</td>\n",
       "    </tr>\n",
       "  </tbody>\n",
       "</table>\n",
       "<p>5 rows × 26 columns</p>\n",
       "</div>"
      ],
      "text/plain": [
       "   date   setting                   dimension    Sexo Cor ou raça  OBITO_SOMA  \\\n",
       "0  2019  Rondônia  Alta Floresta D'Oeste (RO)  Homens      Branca          17   \n",
       "1  2020  Rondônia  Alta Floresta D'Oeste (RO)  Homens      Branca          24   \n",
       "2  2021  Rondônia  Alta Floresta D'Oeste (RO)  Homens      Branca           9   \n",
       "3  2022  Rondônia  Alta Floresta D'Oeste (RO)  Homens      Branca          23   \n",
       "4  2019  Rondônia  Alta Floresta D'Oeste (RO)  Homens       Preta           2   \n",
       "\n",
       "   pop_total  population  estimate  OBITO_SOMA_uf  ...  indicator_scale  \\\n",
       "0     3770.0      3606.0       471           3602  ...           100000   \n",
       "1     3770.0      3606.0       665           3777  ...           100000   \n",
       "2     3770.0      3606.0       249           3938  ...           100000   \n",
       "3     3770.0      3606.0       637           4198  ...           100000   \n",
       "4      743.0       700.0       285           3602  ...           100000   \n",
       "\n",
       "   ordered_dimension subgroup_order reference_subgroup note  se  ci_lb  ci_ub  \\\n",
       "0                  0              0                  0                          \n",
       "1                  0              0                  0                          \n",
       "2                  0              0                  0                          \n",
       "3                  0              0                  0                          \n",
       "4                  0              0                  0                          \n",
       "\n",
       "   iso3                  subgroup  \n",
       "0        Homens - raça/cor Branca  \n",
       "1        Homens - raça/cor Branca  \n",
       "2        Homens - raça/cor Branca  \n",
       "3        Homens - raça/cor Branca  \n",
       "4         Homens - raça/cor Preta  \n",
       "\n",
       "[5 rows x 26 columns]"
      ]
     },
     "execution_count": 41,
     "metadata": {},
     "output_type": "execute_result"
    }
   ],
   "source": [
    "# Renomear colunas de heat_treat01\n",
    "heatds_temp05 = heatds_temp04.rename(columns={\n",
    "    'ANO_OBITO':'date',\n",
    "    'pop_under74':'population',\n",
    "    'uf_no':'setting',\n",
    "    'mun_no':'dimension',\n",
    "    'mort_ind_mun':'estimate',\n",
    "    'mort_ind_uf':'setting_average'\n",
    "})\n",
    "\n",
    "# ajustes de colunas\n",
    "heatds_temp05.date = heatds_temp05.date.str[1:5]\n",
    "heatds_temp05['estimate'] = heatds_temp05['estimate'].astype(int)\n",
    "heatds_temp05['setting_average'] = heatds_temp05['setting_average'].astype(int)\n",
    "\n",
    "heatds_temp05.head()"
   ]
  },
  {
   "cell_type": "code",
   "execution_count": 42,
   "metadata": {},
   "outputs": [
    {
     "data": {
      "text/plain": [
       "count    135459.000000\n",
       "mean        688.919178\n",
       "std        4547.223694\n",
       "min           8.000000\n",
       "25%         155.000000\n",
       "50%         256.000000\n",
       "75%         418.000000\n",
       "max      300000.000000\n",
       "Name: estimate, dtype: float64"
      ]
     },
     "execution_count": 42,
     "metadata": {},
     "output_type": "execute_result"
    }
   ],
   "source": [
    "heatds_temp05.estimate.describe()"
   ]
  },
  {
   "cell_type": "code",
   "execution_count": 43,
   "metadata": {},
   "outputs": [
    {
     "name": "stdout",
     "output_type": "stream",
     "text": [
      "Registros da tabela : 135459\n"
     ]
    }
   ],
   "source": [
    "# Define the order of columns\n",
    "column_order = [\n",
    "    'setting',\n",
    "    'date',\n",
    "    'source',\n",
    "    'indicator_abbr',\n",
    "    'indicator_name',\n",
    "    'dimension',\n",
    "    'subgroup',\n",
    "    'estimate',\n",
    "    'se',\n",
    "    'ci_lb',\n",
    "    'ci_ub',\n",
    "    'population',\n",
    "    'note',\n",
    "    'setting_average',\n",
    "    'iso3',\n",
    "    'favourable_indicator',\n",
    "    'indicator_scale',\n",
    "    'ordered_dimension',\n",
    "    'subgroup_order',\n",
    "    'reference_subgroup'\n",
    "    ]  \n",
    "\n",
    "# Reorder the columns in the DataFrame\n",
    "heatds_temp06 = heatds_temp05[column_order]\n",
    "\n",
    "\n",
    "# mostrar dados gerais da tabela após transformações\n",
    "tab = heatds_temp06\n",
    "print(f'Registros da tabela : {tab.shape[0]}')\n",
    "# print(f'Soma de óbitos : {tab.OBITO_SOMA.sum()}')\n",
    "# print(tabulate(tab.head(), headers='keys', tablefmt='psql')) "
   ]
  },
  {
   "cell_type": "code",
   "execution_count": 227,
   "metadata": {},
   "outputs": [
    {
     "name": "stdout",
     "output_type": "stream",
     "text": [
      "Registros da tabela : 557860\n"
     ]
    }
   ],
   "source": [
    "# # Selecionar registros onde a coluna 'date' é igual a 2020, 2021 ou 2022\n",
    "# heatds_temp06_x = heatds_temp06[heatds_temp06['date'].isin(['2022'])].reset_index(drop=True)\n",
    "\n",
    "# # Mostrar resultados\n",
    "# print(f'Registros da tabela : {heatds_temp06_x.shape[0]}')\n",
    "# # print(tabulate(heatds_temp06_20a22.head(), headers='keys', tablefmt='psql'))"
   ]
  },
  {
   "cell_type": "markdown",
   "metadata": {},
   "source": [
    "##########       Atenção      ##########\n",
    "\n",
    "Salvar arquivo para todos os anos (2010,2019,2020,2021,2022) como csv, para teste de carga"
   ]
  },
  {
   "cell_type": "code",
   "execution_count": 1,
   "metadata": {},
   "outputs": [
    {
     "ename": "NameError",
     "evalue": "name 'heatds_temp06' is not defined",
     "output_type": "error",
     "traceback": [
      "\u001b[0;31m---------------------------------------------------------------------------\u001b[0m",
      "\u001b[0;31mNameError\u001b[0m                                 Traceback (most recent call last)",
      "Cell \u001b[0;32mIn[1], line 2\u001b[0m\n\u001b[1;32m      1\u001b[0m \u001b[38;5;66;03m### Arquivo pronto para exportação\u001b[39;00m\n\u001b[0;32m----> 2\u001b[0m \u001b[43mheatds_temp06\u001b[49m\u001b[38;5;241m.\u001b[39mto_csv(\u001b[38;5;124m'\u001b[39m\u001b[38;5;124mfiles_out/ds1_UF_mun_sexo&cor_10_19a22.csv\u001b[39m\u001b[38;5;124m'\u001b[39m, index\u001b[38;5;241m=\u001b[39m\u001b[38;5;28;01mFalse\u001b[39;00m)\n",
      "\u001b[0;31mNameError\u001b[0m: name 'heatds_temp06' is not defined"
     ]
    }
   ],
   "source": [
    "# ### Arquivo pronto para exportação\n",
    "# heatds_temp06.to_csv('files_out/ds1_UF_mun_sexo&cor_10_19a22.csv', index=False)"
   ]
  },
  {
   "cell_type": "code",
   "execution_count": 44,
   "metadata": {},
   "outputs": [],
   "source": [
    "heatds_temp06.to_parquet('files_out/ds1_UF_mun_sexo&cor_10_19a22.parquet')"
   ]
  },
  {
   "cell_type": "code",
   "execution_count": null,
   "metadata": {},
   "outputs": [],
   "source": [
    "### Arquivo pronto para exportação\n",
    "heatds_temp06.to_excel('files_out/ds1_UF_mun_sexo&cor_10_19a22.xlsx', index=False)"
   ]
  },
  {
   "cell_type": "code",
   "execution_count": 47,
   "metadata": {},
   "outputs": [],
   "source": [
    "# Gerar arquivo dataset diretamente no arquivo de validação do HEAT\n",
    "\n",
    "# Carregar o arquivo original\n",
    "workbook = openpyxl.load_workbook('files_in_geral/heat_plus_template_validation.xlsm', keep_vba=True)\n",
    "\n",
    "# Apagar a aba 'template'\n",
    "if 'template' in workbook.sheetnames:\n",
    "    del workbook['template']\n",
    "\n",
    "# Carregar o arquivo que será copiado como nova aba\n",
    "workbook_to_copy = openpyxl.load_workbook('files_out/ds1_UF_mun_sexo&cor_10_19a22.xlsx')\n",
    "sheet_to_copy = workbook_to_copy.active\n",
    "\n",
    "# Copiar a aba para o workbook original\n",
    "new_sheet = workbook.create_sheet('template')\n",
    "\n",
    "for row in sheet_to_copy.iter_rows(values_only=True):\n",
    "    new_sheet.append(row)\n",
    "\n",
    "# Salvar o arquivo com o novo nome\n",
    "workbook.save('files_out/heat_plus_template_ds_4val.xlsm')"
   ]
  },
  {
   "cell_type": "markdown",
   "metadata": {},
   "source": [
    "# Etapa 4 - Reunião de alinhamento - ajustes"
   ]
  },
  {
   "cell_type": "markdown",
   "metadata": {},
   "source": [
    "# Etapa 5 - Preparação para publicação de resultados"
   ]
  }
 ],
 "metadata": {
  "kernelspec": {
   "display_name": "Python 3",
   "language": "python",
   "name": "python3"
  },
  "language_info": {
   "codemirror_mode": {
    "name": "ipython",
    "version": 3
   },
   "file_extension": ".py",
   "mimetype": "text/x-python",
   "name": "python",
   "nbconvert_exporter": "python",
   "pygments_lexer": "ipython3",
   "version": "3.13.1"
  }
 },
 "nbformat": 4,
 "nbformat_minor": 2
}
