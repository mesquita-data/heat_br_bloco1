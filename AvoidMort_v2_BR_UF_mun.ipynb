{
 "cells": [
  {
   "cell_type": "markdown",
   "metadata": {},
   "source": [
    "# Elementos da versão\n",
    "\n",
    "Antes mesmo de falar do projeto, ao longo do desenvolvimento, vamos explicitando qual o objetivo de cada versão de trabalho do arquivo principal.\n",
    "\n",
    "Tivemos problemas de análise dos resultados da v1. Os dados de mortalidade de doenças evitáveis em 2022 por município estão muito altos e fora do padrão esperado.\n",
    "\n",
    "O objetivo desta v.2 é criar um dataset diferente, mais básico que permite que aprendamos com os erros e acertos, verificando melhor cada etapa de trabalho.\n",
    "\n",
    "O dataset desta v.2 deverá ter as seguintes características:\n",
    "\n",
    "* setting: Brasil [poderemos encontrar um sufixo a Brasil que permita a sua subclassificação e carga deste dataset junto a outros]\n",
    "* dimension: CID evitáveis\n",
    "* subgroup: municípios\n",
    "* estimate: mort-avoid por município\n",
    "* setting-average: mort-avoid por Brasil"
   ]
  },
  {
   "cell_type": "markdown",
   "metadata": {},
   "source": [
    "# Projeto de Análise de Desigualdade em Saúde no modelo HEAT/OMS\n",
    "## Bloco 2025/1 = análise do sistema de mortalidade do SUS com agregação por unidades federativas\n",
    "\n",
    "\n"
   ]
  },
  {
   "cell_type": "markdown",
   "metadata": {},
   "source": [
    "#### Aspectos gerais e participantes"
   ]
  },
  {
   "cell_type": "markdown",
   "metadata": {},
   "source": [
    "Projeto Desenvolvido em parceria da MS/SECTICS/DESID com a Organização Mundial de Saúde\n",
    "\n",
    "Elaborado em linguagem Python, utilizando a biblioteca pysus para acesso ao SIM (Sistema de Informações de Mortalidade do SUS)\n",
    "\n",
    "Coordenador-geral:\n",
    "\n",
    "Coordenadores: \n",
    "\n",
    "Cientista de dados: Marcos Mesquita\n",
    "\n",
    "Outros participantes:\n",
    "\n",
    "Data: 06/12/2024\n"
   ]
  },
  {
   "cell_type": "markdown",
   "metadata": {},
   "source": [
    "#### Objetivos"
   ]
  },
  {
   "cell_type": "markdown",
   "metadata": {},
   "source": [
    "O principal objetivo desse projeto é realizar a avaliação de desigualdade na saúde no Brasil com ênfase para a dimensão de unidades subnacionais, estados e municípios brasileiros, a partir da aplicação do modelo do HEAT, tendo como objetivos específicos:\n",
    "\n",
    "- Apresentar indicadores de saúde no Brasil desagregados por subunidades nacionais em uma visualização interativa a partir do modelo do HEAT Plus;\n",
    "- Oferecer um repositório comum e atualizado com dados de desigualdade da saúde no Brasil desagregados por estados e municípios em um modelo sob reconhecimento internacional;\n",
    "- Permitir exploração e acesso dos dados e da metodologia para outros tipos de análises."
   ]
  },
  {
   "cell_type": "markdown",
   "metadata": {},
   "source": [
    "# Etapa 1 - Definição do Bloco\n",
    "\n",
    "O projeto ocorrerá em blocos sucessivos, nos quais serão definidos o problema e os indicadores a serem analisados."
   ]
  },
  {
   "cell_type": "markdown",
   "metadata": {},
   "source": [
    "### Definição do problema do bloco\n"
   ]
  },
  {
   "cell_type": "markdown",
   "metadata": {},
   "source": [
    "\n",
    " H0 - as unidades federativa são variáveis determinantes para mortalidade no país"
   ]
  },
  {
   "cell_type": "markdown",
   "metadata": {},
   "source": [
    "### Escopo do Bloco 1"
   ]
  },
  {
   "cell_type": "markdown",
   "metadata": {},
   "source": [
    "\n",
    "* indicador: mortalidade (número de mortes por população, dados de morte do SIM/SUS e dados populacionais pelo Censos de 2010 e 2022)\n",
    "* localização: todo o Brasil, com agregação de mortalidade por Estados e Municípios\n",
    "* período: 2010 e 2022 \n",
    "* doenças: “doenças evitáveis” conforme definido pelo OCDE\n",
    "* outros critérios de filtro: até 74 anos de idade (em razão da aplicação do critério de \"doenças evitáveis\")"
   ]
  },
  {
   "cell_type": "markdown",
   "metadata": {},
   "source": [
    "# Etapa 2 - Análise primária dos dados por bloco"
   ]
  },
  {
   "cell_type": "markdown",
   "metadata": {},
   "source": [
    "## Aspectos teóricos e técnicos das fontes"
   ]
  },
  {
   "cell_type": "markdown",
   "metadata": {},
   "source": [
    "\n",
    "#### Aspectos técnicos - ambiente, linguagem e ferramentas principais\n",
    "\n",
    "A análise será feita utilizando a linguagem Python e a biblioteca Pysus que permite acesso às principais bases do SUS de forma direta.\n",
    "O Pysus exige um ambiente linux para execução de alguns comandos o que foi possível, mesmo em uma máquina Windows, a partir do WSL do Windows.\n",
    "Foi criado um ambiente em WSL e o conjunto da extração, tratamento e análise dos dados foi realizado no formato Notebook em um editor VSCode, dentro de um Dev Container: Default Linux Universal.\n",
    "\n",
    "\n",
    "#### Morte e mortalidade no HEAT\n",
    "\n",
    "Para entendermos como o HEAT trata a mortalidade, fizemos uma busca de indicadores de mortalidade no WHO Health Inequality Data Repository.\n",
    "\n",
    "O repositório traz dados e metadados de todos os indicadores utilizados pelo HEAT.\n",
    "Apresenta um total de 3915 indicadores, distribuídos entre 14 seções.\n",
    "\n",
    "Foi feita uma revisão geral dos indicadores relacionados à mortalidade, que depois foi refinada pela busca das seguintes palavras : “death”, “mortality”, “fatal”, ‘fatality” ,“Probability of dying”, “suicide”. E foram encontrados 388 indicadores que trazem uma destas expressões na sua descrição.\n",
    "\n",
    "\n",
    "#### SIM (Sistema de Informações de Mortalidade do SUS)\n",
    "\n",
    "A mortalidade e os indicadores de morte serão buscados no SIM (Sistema de Informações de Mortalidade do SUS).\n",
    "O SIM disponibiliza dados de mortes no Brasil desde 1996 por ocorrências, gerido pelo Departamento de Análise de Situação de Saúde, da Secretaria de Vigilância em Saúde do Ministério da Saúde, em conjunto com as Secretarias Estaduais e Municipais de Saúde. Estas últimas responsáveis efetivamente pela coleta dos dados.\n",
    "\n",
    "O SIM traz informações do indivíduo, como sexo, idade, localidade e causas da morte, classificadas de acordo com o CID (Classificação Internacional de Doenças e Problemas Relacionadas à Saúde).\n",
    "\n",
    "\n",
    "#### CID (Classificação Internacional de Doenças e Problemas Relacionadas à Saúde)\n",
    "\n",
    "Com o intuito de padronizar a nomenclatura de patologias e com abrangência para todo o mundo, foi elaborado pela Organização Mundial da Saúde (OMS) uma  classificação internacional de doenças, a CID (Classificação Internacional de Doenças e Problemas Relacionadas à Saúde). \n",
    "\n",
    "A Classificação é atualizada periodicamente. A versão mais atual é a CID11, publicada em janeiro de 2022.\n",
    "\n",
    "No entanto, por se tratar de revisão que traz impactos nos registros e que exige considerável atualização das ferramentas de captura das informações, o SIM utiliza versões anteriores da CID.\n",
    "- CID9 - dados até 1995\n",
    "- CID10 - a partir de 1996 até a data atual\n",
    "\n",
    "Em razão do recorte temporal dos dados, de 1998 a 2022, iremos utilizar somente a CID10.\n",
    "A CID10 é organizada em 22 capítulos e possui, além da classificação de doenças, descrição de códigos que permitem identificar sinais, sintomas, queixas, causas externas e circunstâncias sociais.\n",
    "\n",
    "\n",
    "#### CID de doenças evitáveis\n",
    "\n",
    "Como elemento do escopo deste trabalho iremos tratar de doenças evitáveis.\n",
    "\n",
    "O Brasil, a partir da Secretaria de Vigilância em Saúde apresenta uma classificação de doenças evitáveis. \n",
    "\n",
    "Lista de causas evitáveis pode ser encontrada nos links: http://tabnet.datasus.gov.br/cgi/sim/Obitos_Evitaveis_0_a_4_anos.pdf\n",
    "\n",
    "\n",
    "\n",
    "\n",
    "#### População (Censo)\n",
    "\n",
    "\n",
    "Os dados de população são os do Censo, acessados pelo site do IBGE, https://sidra.ibge.gov.br/Tabela/9606\n",
    "\n",
    "\n",
    "\n",
    "\n"
   ]
  },
  {
   "cell_type": "markdown",
   "metadata": {},
   "source": [
    "### Instalação e importação de bibliotecas"
   ]
  },
  {
   "cell_type": "markdown",
   "metadata": {},
   "source": [
    "#### Instalação de bibliotecas"
   ]
  },
  {
   "cell_type": "code",
   "execution_count": 1,
   "metadata": {},
   "outputs": [
    {
     "name": "stdout",
     "output_type": "stream",
     "text": [
      "Reading package lists... Done\n",
      "E: List directory /var/lib/apt/lists/partial is missing. - Acquire (13: Permission denied)\n",
      "E: Could not open lock file /var/lib/dpkg/lock-frontend - open (13: Permission denied)\n",
      "E: Unable to acquire the dpkg frontend lock (/var/lib/dpkg/lock-frontend), are you root?\n",
      "Requirement already satisfied: pip in /usr/local/python/3.12.1/lib/python3.12/site-packages (24.3.1)\n",
      "Requirement already satisfied: pysus in /usr/local/python/3.12.1/lib/python3.12/site-packages (0.15.0)\n",
      "Requirement already satisfied: Unidecode<2.0.0,>=1.3.6 in /usr/local/python/3.12.1/lib/python3.12/site-packages (from pysus) (1.3.8)\n",
      "Requirement already satisfied: aioftp<0.22.0,>=0.21.4 in /usr/local/python/3.12.1/lib/python3.12/site-packages (from pysus) (0.21.4)\n",
      "Requirement already satisfied: bigtree<0.13.0,>=0.12.2 in /usr/local/python/3.12.1/lib/python3.12/site-packages (from pysus) (0.12.5)\n",
      "Requirement already satisfied: cffi==1.15.1 in /usr/local/python/3.12.1/lib/python3.12/site-packages (from pysus) (1.15.1)\n",
      "Requirement already satisfied: dateparser<2.0.0,>=1.1.8 in /usr/local/python/3.12.1/lib/python3.12/site-packages (from pysus) (1.2.0)\n",
      "Requirement already satisfied: dbfread==2.0.7 in /usr/local/python/3.12.1/lib/python3.12/site-packages (from pysus) (2.0.7)\n",
      "Requirement already satisfied: elasticsearch==7.16.2 in /usr/local/python/3.12.1/lib/python3.12/site-packages (from elasticsearch[preprocessing]==7.16.2->pysus) (7.16.2)\n",
      "Requirement already satisfied: fastparquet>=2023.10.1 in /usr/local/python/3.12.1/lib/python3.12/site-packages (from pysus) (2024.11.0)\n",
      "Requirement already satisfied: humanize<5.0.0,>=4.8.0 in /usr/local/python/3.12.1/lib/python3.12/site-packages (from pysus) (4.11.0)\n",
      "Requirement already satisfied: loguru<0.7.0,>=0.6.0 in /usr/local/python/3.12.1/lib/python3.12/site-packages (from pysus) (0.6.0)\n",
      "Requirement already satisfied: numpy==1.26.2 in /usr/local/python/3.12.1/lib/python3.12/site-packages (from pysus) (1.26.2)\n",
      "Requirement already satisfied: pandas<3.0.0,>=2.2.2 in /home/codespace/.local/lib/python3.12/site-packages (from pysus) (2.2.3)\n",
      "Requirement already satisfied: pyarrow>=11.0.0 in /usr/local/python/3.12.1/lib/python3.12/site-packages (from pysus) (18.1.0)\n",
      "Requirement already satisfied: pycparser==2.21 in /usr/local/python/3.12.1/lib/python3.12/site-packages (from pysus) (2.21)\n",
      "Requirement already satisfied: pyreaddbc>=1.1.0 in /usr/local/python/3.12.1/lib/python3.12/site-packages (from pysus) (1.2.0)\n",
      "Requirement already satisfied: python-dateutil==2.8.2 in /usr/local/python/3.12.1/lib/python3.12/site-packages (from pysus) (2.8.2)\n",
      "Requirement already satisfied: tqdm==4.64.0 in /usr/local/python/3.12.1/lib/python3.12/site-packages (from pysus) (4.64.0)\n",
      "Requirement already satisfied: typing-extensions<5.0.0,>=4.9.0 in /home/codespace/.local/lib/python3.12/site-packages (from pysus) (4.12.2)\n",
      "Requirement already satisfied: urwid<3.0.0,>=2.1.2 in /usr/local/python/3.12.1/lib/python3.12/site-packages (from pysus) (2.6.16)\n",
      "Requirement already satisfied: wget<4.0,>=3.2 in /usr/local/python/3.12.1/lib/python3.12/site-packages (from pysus) (3.2)\n",
      "Requirement already satisfied: urllib3<2,>=1.21.1 in /usr/local/python/3.12.1/lib/python3.12/site-packages (from elasticsearch==7.16.2->elasticsearch[preprocessing]==7.16.2->pysus) (1.26.20)\n",
      "Requirement already satisfied: certifi in /home/codespace/.local/lib/python3.12/site-packages (from elasticsearch==7.16.2->elasticsearch[preprocessing]==7.16.2->pysus) (2024.8.30)\n",
      "\u001b[33mWARNING: elasticsearch 7.16.2 does not provide the extra 'preprocessing'\u001b[0m\u001b[33m\n",
      "\u001b[0mRequirement already satisfied: six>=1.5 in /home/codespace/.local/lib/python3.12/site-packages (from python-dateutil==2.8.2->pysus) (1.17.0)\n",
      "Requirement already satisfied: pytz in /home/codespace/.local/lib/python3.12/site-packages (from dateparser<2.0.0,>=1.1.8->pysus) (2024.2)\n",
      "Requirement already satisfied: regex!=2019.02.19,!=2021.8.27 in /usr/local/python/3.12.1/lib/python3.12/site-packages (from dateparser<2.0.0,>=1.1.8->pysus) (2024.11.6)\n",
      "Requirement already satisfied: tzlocal in /usr/local/python/3.12.1/lib/python3.12/site-packages (from dateparser<2.0.0,>=1.1.8->pysus) (5.2)\n",
      "Requirement already satisfied: cramjam>=2.3 in /usr/local/python/3.12.1/lib/python3.12/site-packages (from fastparquet>=2023.10.1->pysus) (2.9.1)\n",
      "Requirement already satisfied: fsspec in /home/codespace/.local/lib/python3.12/site-packages (from fastparquet>=2023.10.1->pysus) (2024.2.0)\n",
      "Requirement already satisfied: packaging in /home/codespace/.local/lib/python3.12/site-packages (from fastparquet>=2023.10.1->pysus) (24.2)\n",
      "Requirement already satisfied: tzdata>=2022.7 in /home/codespace/.local/lib/python3.12/site-packages (from pandas<3.0.0,>=2.2.2->pysus) (2024.2)\n",
      "Requirement already satisfied: pyyaml>=6 in /home/codespace/.local/lib/python3.12/site-packages (from pyreaddbc>=1.1.0->pysus) (6.0.2)\n",
      "Requirement already satisfied: wcwidth in /home/codespace/.local/lib/python3.12/site-packages (from urwid<3.0.0,>=2.1.2->pysus) (0.2.13)\n",
      "Requirement already satisfied: gdown in /usr/local/python/3.12.1/lib/python3.12/site-packages (5.2.0)\n",
      "Requirement already satisfied: beautifulsoup4 in /home/codespace/.local/lib/python3.12/site-packages (from gdown) (4.12.3)\n",
      "Requirement already satisfied: filelock in /home/codespace/.local/lib/python3.12/site-packages (from gdown) (3.13.1)\n",
      "Requirement already satisfied: requests[socks] in /home/codespace/.local/lib/python3.12/site-packages (from gdown) (2.32.3)\n",
      "Requirement already satisfied: tqdm in /usr/local/python/3.12.1/lib/python3.12/site-packages (from gdown) (4.64.0)\n",
      "Requirement already satisfied: soupsieve>1.2 in /home/codespace/.local/lib/python3.12/site-packages (from beautifulsoup4->gdown) (2.6)\n",
      "Requirement already satisfied: charset-normalizer<4,>=2 in /home/codespace/.local/lib/python3.12/site-packages (from requests[socks]->gdown) (3.4.0)\n",
      "Requirement already satisfied: idna<4,>=2.5 in /home/codespace/.local/lib/python3.12/site-packages (from requests[socks]->gdown) (3.10)\n",
      "Requirement already satisfied: urllib3<3,>=1.21.1 in /usr/local/python/3.12.1/lib/python3.12/site-packages (from requests[socks]->gdown) (1.26.20)\n",
      "Requirement already satisfied: certifi>=2017.4.17 in /home/codespace/.local/lib/python3.12/site-packages (from requests[socks]->gdown) (2024.8.30)\n",
      "Requirement already satisfied: PySocks!=1.5.7,>=1.5.6 in /usr/local/python/3.12.1/lib/python3.12/site-packages (from requests[socks]->gdown) (1.7.1)\n",
      "Requirement already satisfied: pylance in /usr/local/python/3.12.1/lib/python3.12/site-packages (0.21.0)\n",
      "Requirement already satisfied: pyarrow>=14 in /usr/local/python/3.12.1/lib/python3.12/site-packages (from pylance) (18.1.0)\n",
      "Requirement already satisfied: numpy>=1.22 in /usr/local/python/3.12.1/lib/python3.12/site-packages (from pylance) (1.26.2)\n"
     ]
    }
   ],
   "source": [
    "# Costuma ser exigida a instalação destas bibliotecas no primeiro acesso ao Pysus\n",
    "!apt-get update  \n",
    "!apt-get install libffi-dev  # Install libffi-dev\n",
    "!pip install --upgrade pip  # Ensure pip is up to date\n",
    "!pip install pysus # Exa\n",
    "!pip install gdown\n",
    "!pip install pylance"
   ]
  },
  {
   "cell_type": "markdown",
   "metadata": {},
   "source": [
    "#### Importação de bibliotecas"
   ]
  },
  {
   "cell_type": "code",
   "execution_count": 2,
   "metadata": {},
   "outputs": [],
   "source": [
    "# importar biblioteca básicas para manipulação de dados\n",
    "import pandas as pd\n",
    "import numpy as np\n",
    "import os\n",
    "import sidrapy\n",
    "import requests # para carga de endereços web - api\n",
    "import gdown\n",
    "import openpyxl\n",
    "\n"
   ]
  },
  {
   "cell_type": "code",
   "execution_count": 27,
   "metadata": {},
   "outputs": [],
   "source": [
    "# importar bibliotecas para carga dos dados\n",
    "import pysus\n",
    "# import pylance\n",
    "\n",
    "from pysus import SIM\n",
    "from pysus.online_data.SIM import download\n",
    "from pysus.preprocessing.decoders import translate_variables_SIM\n",
    "from pysus.preprocessing.SIM import group_and_count, redistribute_missing, redistribute_cid_chapter\n",
    "from pysus.online_data.SIM import get_CID9_table, get_CID10_table, get_municipios, get_ocupations\n",
    "from ftplib import FTP\n",
    "from pathlib import Path  "
   ]
  },
  {
   "cell_type": "markdown",
   "metadata": {},
   "source": [
    "#### Diretórios - configuração"
   ]
  },
  {
   "cell_type": "code",
   "execution_count": 3,
   "metadata": {},
   "outputs": [
    {
     "ename": "NameError",
     "evalue": "name 'pysus' is not defined",
     "output_type": "error",
     "traceback": [
      "\u001b[0;31m---------------------------------------------------------------------------\u001b[0m",
      "\u001b[0;31mNameError\u001b[0m                                 Traceback (most recent call last)",
      "Cell \u001b[0;32mIn[3], line 2\u001b[0m\n\u001b[1;32m      1\u001b[0m \u001b[38;5;66;03m# Definir diretório padrão para pysus\u001b[39;00m\n\u001b[0;32m----> 2\u001b[0m \u001b[43mpysus\u001b[49m\u001b[38;5;241m.\u001b[39monline_data\u001b[38;5;241m.\u001b[39mSIM\u001b[38;5;241m.\u001b[39mCACHEPATH\u001b[38;5;241m=\u001b[39m\u001b[38;5;124m\"\u001b[39m\u001b[38;5;124m./downloads_sim_original\u001b[39m\u001b[38;5;124m\"\u001b[39m\n\u001b[1;32m      3\u001b[0m \u001b[38;5;66;03m# Definir pasta para download de arquivos csv e parquet\u001b[39;00m\n\u001b[1;32m      4\u001b[0m \u001b[38;5;28;01mimport\u001b[39;00m \u001b[38;5;21;01mos\u001b[39;00m \n",
      "\u001b[0;31mNameError\u001b[0m: name 'pysus' is not defined"
     ]
    }
   ],
   "source": [
    "# Definir diretório padrão para pysus\n",
    "pysus.online_data.SIM.CACHEPATH=\"./downloads_sim_original\"\n",
    "# Definir pasta para download de arquivos csv e parquet\n",
    "import os \n",
    "\n",
    "# Define diretório para armazenar arquivos do sim (carregados por pysus) quando o SIM.CACHEPATH não funcionar\n",
    "os.makedirs('downloads_sim_original', exist_ok=True)  \n",
    "downloads_sim = \"downloads_sim_original\"\n",
    "\n",
    "# Define diretório para armazenar outros arquivos\n",
    "os.makedirs('downloads_outros_v2', exist_ok=True)  \n",
    "\n",
    "# Define diretório para armazenar arquivos trabalhados\n",
    "os.makedirs('files_clean_v2', exist_ok=True) \n",
    "\n",
    "\n",
    "# Define diretório para exportar arquivos finais ou de relatórios\n",
    "os.makedirs('exportar_v2', exist_ok=True) "
   ]
  },
  {
   "cell_type": "markdown",
   "metadata": {},
   "source": [
    "#### Acesso ao SIM"
   ]
  },
  {
   "cell_type": "code",
   "execution_count": 4,
   "metadata": {},
   "outputs": [],
   "source": [
    "sim = SIM().load() # Loads the files from DATASUS"
   ]
  },
  {
   "cell_type": "code",
   "execution_count": 5,
   "metadata": {},
   "outputs": [
    {
     "data": {
      "text/plain": [
       "(/dissemin/publicos/SIM/CID10/DORES, /dissemin/publicos/SIM/CID9/DORES)"
      ]
     },
     "execution_count": 5,
     "metadata": {},
     "output_type": "execute_result"
    }
   ],
   "source": [
    "sim.paths"
   ]
  },
  {
   "cell_type": "code",
   "execution_count": 6,
   "metadata": {},
   "outputs": [
    {
     "data": {
      "text/plain": [
       "{'CID10': 'DO', 'CID9': 'DOR'}"
      ]
     },
     "execution_count": 6,
     "metadata": {},
     "output_type": "execute_result"
    }
   ],
   "source": [
    "sim.groups"
   ]
  },
  {
   "cell_type": "markdown",
   "metadata": {},
   "source": [
    "## Arquivo principal - DO\n",
    "\n",
    "DO - Declaração de Óbito, conforme acessado no SIM"
   ]
  },
  {
   "cell_type": "markdown",
   "metadata": {},
   "source": [
    "#### Carga SIM principal"
   ]
  },
  {
   "cell_type": "code",
   "execution_count": 32,
   "metadata": {},
   "outputs": [
    {
     "name": "stderr",
     "output_type": "stream",
     "text": [
      "DOTO2010.parquet: 100%|██████████| 16.6k/16.6k [00:00<00:00, 51.3kB/s]\n"
     ]
    }
   ],
   "source": [
    "# Carrega os dados do SIM para o ano de 2010\n",
    "# Definição de variáveis\n",
    "grupo = \"CID10\" # Agrupamento por CID10\n",
    "uf = \"\" # A sigla BR carrega dados de todos as unidades federativas\n",
    "ano = [2010] # Anos do escopo, 2010 e 2022\n",
    "local = downloads_sim # Local para armazenar os arquivos, definido nas etapas anteriores\n",
    "\n",
    "# sim.get_files(\"CID10\", uf=\"BR\", year=2010)\n",
    "dobr_2010 = download(grupo,uf,ano,downloads_sim) # Carrega os dados do SIM\n",
    "# dobr2010 = download(\"CID10\",\"BR\",2010,'TESTE_EXCLUIR') # Carrega os dados do SIM\n",
    "# dobr2010 "
   ]
  },
  {
   "cell_type": "code",
   "execution_count": 8,
   "metadata": {},
   "outputs": [
    {
     "name": "stderr",
     "output_type": "stream",
     "text": [
      "0it [00:00, ?it/s]\n"
     ]
    }
   ],
   "source": [
    "# Carrega os dados do SIM para os demais anos\n",
    "# Definição de variáveis\n",
    "grupo = \"CID10\" # Agrupamento por CID10\n",
    "uf = \"BR\" # A sigla BR carrega dados de todos as unidades federativas\n",
    "ano = [2019,2020,2021,2022] # Anos do escopo, 2010 e 2022\n",
    "local = downloads_sim # Local para armazenar os arquivos, definido nas etapas anteriores\n",
    "\n",
    "# sim.get_files(\"CID10\", uf=\"BR\", year=2010)\n",
    "dobr2010 = download(grupo,uf,ano,downloads_sim) # Carrega os dados do SIM\n",
    "# dobr2010 = download(\"CID10\",\"BR\",2010,'TESTE_EXCLUIR') # Carrega os dados do SIM\n",
    "# dobr2010 "
   ]
  },
  {
   "cell_type": "code",
   "execution_count": null,
   "metadata": {},
   "outputs": [],
   "source": [
    "# dodf = dobr.to_dataframe()"
   ]
  },
  {
   "cell_type": "markdown",
   "metadata": {},
   "source": [
    "### Tratamento do arquivo principal\n",
    "\n",
    "O dicionário do SIM está em \"./Estrutura_SIM_para_CD.pdf\"\n",
    "\n",
    "Trabalhamos o CID presente no campo CAUSABAS.\n",
    "\n",
    "Em razão do escopo da População Estimada (que apresenta dados por Município, mas não de outras variáveis de desigualdade) a primeira versão será um recorte da base DOBR com os dados de CID ('CAUSABAS'), idade (a partir do tratamento de 'DTNASC'), e de Município (a partir do tratamento de 'CODMUNRES').\n",
    "\n",
    "Por se tratar de doenças evitáveis, o primeiro filtro a ser feito é com base na idade de óbito, que deve ser abaixo de 75 anos.\n",
    "\n",
    "A idade de óbito está presente no campo IDADE. Ela é composta de 3 dígitos, o primeiro identifica se a contagem é por dias(1), semanas(2), meses (3), ano (4), mais de 100 anos (5).\n",
    "\n",
    "Em razão disto, vamos desconsiderar todos os valores de dígito 4 e mais de 75 (475).\n",
    "\n",
    "\n",
    "Iremos tratar do arquivo de 2010 separado dos outros anos pela especificade daquele arquivo.\n",
    "\n"
   ]
  },
  {
   "cell_type": "code",
   "execution_count": 3,
   "metadata": {},
   "outputs": [
    {
     "name": "stdout",
     "output_type": "stream",
     "text": [
      "<class 'pandas.core.frame.DataFrame'>\n",
      "RangeIndex: 1136947 entries, 0 to 1136946\n",
      "Data columns (total 60 columns):\n",
      " #   Column      Non-Null Count    Dtype \n",
      "---  ------      --------------    ----- \n",
      " 0   CONTADOR    1133938 non-null  object\n",
      " 1   ORIGEM      1136947 non-null  object\n",
      " 2   TIPOBITO    1136947 non-null  object\n",
      " 3   DTOBITO     1136947 non-null  object\n",
      " 4   HORAOBITO   1136947 non-null  object\n",
      " 5   NATURAL     1136947 non-null  object\n",
      " 6   DTNASC      1136947 non-null  object\n",
      " 7   IDADE       1136947 non-null  object\n",
      " 8   SEXO        1136947 non-null  object\n",
      " 9   RACACOR     1136947 non-null  object\n",
      " 10  ESTCIV      1136947 non-null  object\n",
      " 11  ESC         1136947 non-null  object\n",
      " 12  OCUP        1136947 non-null  object\n",
      " 13  CODMUNRES   1136947 non-null  object\n",
      " 14  CODBAIRES   1136947 non-null  object\n",
      " 15  LOCOCOR     1136947 non-null  object\n",
      " 16  CODESTAB    1136947 non-null  object\n",
      " 17  CODMUNOCOR  1136947 non-null  object\n",
      " 18  CODBAIOCOR  1136947 non-null  object\n",
      " 19  IDADEMAE    1136947 non-null  object\n",
      " 20  ESCMAE      1136947 non-null  object\n",
      " 21  OCUPMAE     1136947 non-null  object\n",
      " 22  QTDFILVIVO  1136947 non-null  object\n",
      " 23  QTDFILMORT  1136947 non-null  object\n",
      " 24  GRAVIDEZ    1136947 non-null  object\n",
      " 25  GESTACAO    1136947 non-null  object\n",
      " 26  PARTO       1136947 non-null  object\n",
      " 27  OBITOPARTO  1136947 non-null  object\n",
      " 28  PESO        1136947 non-null  object\n",
      " 29  OBITOGRAV   1136947 non-null  object\n",
      " 30  OBITOPUERP  1136947 non-null  object\n",
      " 31  ASSISTMED   1136947 non-null  object\n",
      " 32  EXAME       1136947 non-null  object\n",
      " 33  CIRURGIA    1136947 non-null  object\n",
      " 34  NECROPSIA   1136947 non-null  object\n",
      " 35  LINHAA      1136947 non-null  object\n",
      " 36  LINHAB      1136947 non-null  object\n",
      " 37  LINHAC      1136947 non-null  object\n",
      " 38  LINHAD      1136947 non-null  object\n",
      " 39  LINHAII     1136947 non-null  object\n",
      " 40  CAUSABAS    1136947 non-null  object\n",
      " 41  DTATESTADO  1136947 non-null  object\n",
      " 42  CIRCOBITO   1136947 non-null  object\n",
      " 43  ACIDTRAB    1136947 non-null  object\n",
      " 44  FONTE       1136947 non-null  object\n",
      " 45  TPPOS       1136947 non-null  object\n",
      " 46  DTINVESTIG  1136947 non-null  object\n",
      " 47  CAUSABAS_O  1136947 non-null  object\n",
      " 48  DTCADASTRO  1136947 non-null  object\n",
      " 49  ATESTANTE   1136947 non-null  object\n",
      " 50  FONTEINV    1136947 non-null  object\n",
      " 51  DTRECEBIM   1136947 non-null  object\n",
      " 52  UFINFORM    1136947 non-null  object\n",
      " 53  CB_PRE      1136947 non-null  object\n",
      " 54  MORTEPARTO  1136947 non-null  object\n",
      " 55  DTCADINF    1136947 non-null  object\n",
      " 56  TPOBITOCOR  1136947 non-null  object\n",
      " 57  DTCADINV    1136947 non-null  object\n",
      " 58  contador    3009 non-null     object\n",
      " 59  NUMERODN    3009 non-null     object\n",
      "dtypes: object(60)\n",
      "memory usage: 520.5+ MB\n"
     ]
    }
   ],
   "source": [
    "# Acessar os dados do SIM de 2010 como 1 dataframe\n",
    "\n",
    "# Definir o diretório onde os arquivos estão localizados\n",
    "directory = 'downloads_sim_original'\n",
    "\n",
    "# Listar todos os arquivos na pasta\n",
    "file_list = os.listdir(directory)\n",
    "\n",
    "# Filtrar apenas os arquivos parquet\n",
    "parquet_files = [file for file in file_list if file.endswith('2010.parquet')]\n",
    "\n",
    "# Inicializar uma lista para armazenar os dataframes\n",
    "dataframes = []\n",
    "\n",
    "# Iterar sobre os arquivos parquet e ler cada um em um dataframe\n",
    "for file in parquet_files:\n",
    "    file_path = os.path.join(directory, file)\n",
    "    df = pd.read_parquet(file_path)\n",
    "    dataframes.append(df)\n",
    "\n",
    "# Concatenar todos os dataframes em um único dataframe\n",
    "dobr2010 = pd.concat(dataframes, ignore_index=True)\n",
    "\n",
    "# Exibir informações do dataframe combinado\n",
    "dobr2010.info()"
   ]
  },
  {
   "cell_type": "code",
   "execution_count": 4,
   "metadata": {
    "vscode": {
     "languageId": "shellscript"
    }
   },
   "outputs": [
    {
     "name": "stdout",
     "output_type": "stream",
     "text": [
      "<class 'pandas.core.frame.DataFrame'>\n",
      "RangeIndex: 1136947 entries, 0 to 1136946\n",
      "Data columns (total 4 columns):\n",
      " #   Column     Non-Null Count    Dtype \n",
      "---  ------     --------------    ----- \n",
      " 0   DTOBITO    1136947 non-null  object\n",
      " 1   CAUSABAS   1136947 non-null  object\n",
      " 2   CODMUNRES  1136947 non-null  object\n",
      " 3   IDADE      1136947 non-null  object\n",
      "dtypes: object(4)\n",
      "memory usage: 34.7+ MB\n"
     ]
    }
   ],
   "source": [
    "# Excluir valores nulos da coluna CAUSABAS\n",
    "dobr2010 = dobr2010.dropna(subset=['CAUSABAS'])\n",
    "dobr2010_filtered = dobr2010[['DTOBITO','CAUSABAS', 'CODMUNRES','IDADE']]\n",
    "\n",
    "# Exibir informações do dataframe após a exclusão\n",
    "dobr2010_filtered.info()"
   ]
  },
  {
   "cell_type": "code",
   "execution_count": 5,
   "metadata": {},
   "outputs": [
    {
     "name": "stdout",
     "output_type": "stream",
     "text": [
      "<class 'pandas.core.frame.DataFrame'>\n",
      "Index: 722229 entries, 1 to 1136946\n",
      "Data columns (total 4 columns):\n",
      " #   Column     Non-Null Count   Dtype \n",
      "---  ------     --------------   ----- \n",
      " 0   DTOBITO    722229 non-null  object\n",
      " 1   CAUSABAS   722229 non-null  object\n",
      " 2   CODMUNRES  722229 non-null  object\n",
      " 3   IDADE      722229 non-null  int64 \n",
      "dtypes: int64(1), object(3)\n",
      "memory usage: 27.6+ MB\n"
     ]
    }
   ],
   "source": [
    "# Arquivo para doenças evitáveis - excluir maiores de 74 anos\n",
    "dobr2010_filtered2 = dobr2010_filtered.copy()\n",
    "\n",
    "# Substituir valores '     ' e '-' por '0' na coluna IDADE\n",
    "dobr2010_filtered2['IDADE'] = dobr2010_filtered2['IDADE'].replace(['     '], '0')\n",
    "\n",
    "# transformar IDADE em inteiro e excluir valores maiores que 474\n",
    "dobr2010_filtered2['IDADE'] = dobr2010_filtered2['IDADE'].astype(int)\n",
    "dobr_filtered3 = dobr2010_filtered2[dobr2010_filtered2['IDADE'] < 475]\n",
    "dobr_filtered3.info()"
   ]
  },
  {
   "cell_type": "code",
   "execution_count": 6,
   "metadata": {},
   "outputs": [
    {
     "name": "stdout",
     "output_type": "stream",
     "text": [
      "<class 'pandas.core.frame.DataFrame'>\n",
      "Index: 3724693 entries, 1 to 6283539\n",
      "Data columns (total 4 columns):\n",
      " #   Column     Dtype \n",
      "---  ------     ----- \n",
      " 0   DTOBITO    object\n",
      " 1   CAUSABAS   object\n",
      " 2   CODMUNRES  object\n",
      " 3   IDADE      int64 \n",
      "dtypes: int64(1), object(3)\n",
      "memory usage: 142.1+ MB\n"
     ]
    },
    {
     "name": "stderr",
     "output_type": "stream",
     "text": [
      "/tmp/ipykernel_33777/2402480814.py:14: SettingWithCopyWarning: \n",
      "A value is trying to be set on a copy of a slice from a DataFrame.\n",
      "Try using .loc[row_indexer,col_indexer] = value instead\n",
      "\n",
      "See the caveats in the documentation: https://pandas.pydata.org/pandas-docs/stable/user_guide/indexing.html#returning-a-view-versus-a-copy\n",
      "  dobr2022_filtered['IDADE'] = dobr2022_filtered['IDADE'].astype(int)\n"
     ]
    }
   ],
   "source": [
    "# Carregar e tratar arquivos de DO de outros anos\n",
    "\n",
    "# Read the parquet files\n",
    "dobr2019 = pd.read_parquet('downloads_sim_original/DOBR2019.parquet')\n",
    "dobr2020 = pd.read_parquet('downloads_sim_original/DOBR2020.parquet')\n",
    "dobr2021 = pd.read_parquet('downloads_sim_original/DOBR2021.parquet')\n",
    "dobr2022 = pd.read_parquet('downloads_sim_original/DOBR2022.parquet')\n",
    "\n",
    "# Concatenate the dataframes\n",
    "dobr2022 = pd.concat([dobr2019,dobr2020,dobr2021,dobr2022], ignore_index=True)\n",
    "\n",
    "# Filtrar campos\n",
    "dobr2022_filtered = dobr2022[['DTOBITO','CAUSABAS', 'CODMUNRES','IDADE']]\n",
    "\n",
    "# transformar IDADE em inteiro e excluir valores maiores que 474\n",
    "dobr2022_filtered['IDADE'] = dobr2022_filtered['IDADE'].astype(int)\n",
    "dobr2022_filtered2 = dobr2022_filtered[dobr2022_filtered['IDADE'] < 475]\n",
    "\n",
    "# Display the combined dataframe\n",
    "dobr2022_filtered2.info()"
   ]
  },
  {
   "cell_type": "code",
   "execution_count": 7,
   "metadata": {},
   "outputs": [
    {
     "name": "stdout",
     "output_type": "stream",
     "text": [
      "<class 'pandas.core.frame.DataFrame'>\n",
      "RangeIndex: 4446922 entries, 0 to 4446921\n",
      "Data columns (total 4 columns):\n",
      " #   Column     Dtype \n",
      "---  ------     ----- \n",
      " 0   DTOBITO    object\n",
      " 1   CAUSABAS   object\n",
      " 2   CODMUNRES  object\n",
      " 3   IDADE      int64 \n",
      "dtypes: int64(1), object(3)\n",
      "memory usage: 135.7+ MB\n"
     ]
    }
   ],
   "source": [
    "# Concatenate the dataframes\n",
    "dobr = pd.concat([dobr2022_filtered2,dobr_filtered3], ignore_index=True)\n",
    "dobr.info()"
   ]
  },
  {
   "cell_type": "code",
   "execution_count": 8,
   "metadata": {},
   "outputs": [
    {
     "name": "stdout",
     "output_type": "stream",
     "text": [
      "\u001b[33m ==> O arquivo de declarações de óbito dos anos de 2019,2020,2021 e 2022 tem o total de 4446922 registros\u001b[0m\n"
     ]
    }
   ],
   "source": [
    "# Contador\n",
    "\n",
    "shape1 = dobr.CAUSABAS.count()\n",
    "\n",
    "print(f\"\\033[33m ==> O arquivo de declarações de óbito dos anos de 2019,2020,2021 e 2022 tem o total de {shape1} registros\\033[0m\")\n"
   ]
  },
  {
   "cell_type": "code",
   "execution_count": 9,
   "metadata": {
    "vscode": {
     "languageId": "shellscript"
    }
   },
   "outputs": [
    {
     "data": {
      "text/html": [
       "<div>\n",
       "<style scoped>\n",
       "    .dataframe tbody tr th:only-of-type {\n",
       "        vertical-align: middle;\n",
       "    }\n",
       "\n",
       "    .dataframe tbody tr th {\n",
       "        vertical-align: top;\n",
       "    }\n",
       "\n",
       "    .dataframe thead th {\n",
       "        text-align: right;\n",
       "    }\n",
       "</style>\n",
       "<table border=\"1\" class=\"dataframe\">\n",
       "  <thead>\n",
       "    <tr style=\"text-align: right;\">\n",
       "      <th></th>\n",
       "      <th>CAUSABAS</th>\n",
       "      <th>CODMUNRES</th>\n",
       "      <th>IDADE</th>\n",
       "      <th>ANO_OBITO</th>\n",
       "    </tr>\n",
       "  </thead>\n",
       "  <tbody>\n",
       "    <tr>\n",
       "      <th>0</th>\n",
       "      <td>I219</td>\n",
       "      <td>_292740</td>\n",
       "      <td>62</td>\n",
       "      <td>_2019</td>\n",
       "    </tr>\n",
       "    <tr>\n",
       "      <th>1</th>\n",
       "      <td>I10</td>\n",
       "      <td>_355100</td>\n",
       "      <td>68</td>\n",
       "      <td>_2019</td>\n",
       "    </tr>\n",
       "    <tr>\n",
       "      <th>2</th>\n",
       "      <td>X700</td>\n",
       "      <td>_500630</td>\n",
       "      <td>60</td>\n",
       "      <td>_2019</td>\n",
       "    </tr>\n",
       "    <tr>\n",
       "      <th>3</th>\n",
       "      <td>C539</td>\n",
       "      <td>_500500</td>\n",
       "      <td>53</td>\n",
       "      <td>_2019</td>\n",
       "    </tr>\n",
       "    <tr>\n",
       "      <th>4</th>\n",
       "      <td>V220</td>\n",
       "      <td>_500627</td>\n",
       "      <td>18</td>\n",
       "      <td>_2019</td>\n",
       "    </tr>\n",
       "  </tbody>\n",
       "</table>\n",
       "</div>"
      ],
      "text/plain": [
       "  CAUSABAS CODMUNRES  IDADE ANO_OBITO\n",
       "0     I219   _292740     62     _2019\n",
       "1     I10    _355100     68     _2019\n",
       "2     X700   _500630     60     _2019\n",
       "3     C539   _500500     53     _2019\n",
       "4     V220   _500627     18     _2019"
      ]
     },
     "execution_count": 9,
     "metadata": {},
     "output_type": "execute_result"
    }
   ],
   "source": [
    "# Ajustar os campos\n",
    "dobr_clean = dobr.copy()\n",
    "\n",
    "# assegurar CODMUNRES como string\n",
    "dobr_clean['CODMUNRES'] = '_' + dobr_clean['CODMUNRES'].astype(str).str[:6]\n",
    "\n",
    "# campo ano_obito formado pelos 4 últimos caracteres de DTOBITO, como número\n",
    "dobr_clean['ANO_OBITO'] = '_' + dobr_clean['DTOBITO'].str[-4:]\n",
    "\n",
    "# campo idade_num formado de anos completos, como número (subtrair 400)\n",
    "dobr_clean['IDADE'] = dobr_clean['IDADE'] - 400\n",
    "\n",
    "# excluir colunas DTOBITO e IDADE\n",
    "dobr_clean = dobr_clean.drop(['DTOBITO'], axis=1)\n",
    "\n",
    "# Exibir as primeiras linhas do DataFrame resultante\n",
    "dobr_clean.head()"
   ]
  },
  {
   "cell_type": "markdown",
   "metadata": {},
   "source": [
    "#### Resultados e geração de arquivo DOBR"
   ]
  },
  {
   "cell_type": "code",
   "execution_count": 10,
   "metadata": {},
   "outputs": [],
   "source": [
    "# Salvar arquivo em parquet\n",
    "dobr_clean.to_parquet('files_clean/dobr_clean_2010_19a22.parquet')"
   ]
  },
  {
   "cell_type": "code",
   "execution_count": 13,
   "metadata": {},
   "outputs": [
    {
     "name": "stdout",
     "output_type": "stream",
     "text": [
      "\u001b[33m ==> O número de registros de óbitos originais por ano:\u001b[0m\n",
      "\u001b[33m * 2010 1136947\u001b[0m\n",
      "\u001b[33m * 2019 1349801\u001b[0m\n",
      "\u001b[33m * 2020 1556824\u001b[0m\n",
      "\u001b[33m * 2021 1832649\u001b[0m\n",
      "\u001b[33m * 2022 6283540\u001b[0m\n",
      "\u001b[33m ==> O número de registros excluídos por apresentar idade maior de 74 anos foi de 7712839 registros\u001b[0m\n",
      "\u001b[33m ==> O número de registros de óbitos resultantes é de 4446922 registros\u001b[0m\n"
     ]
    }
   ],
   "source": [
    "# Contador\n",
    "\n",
    "# apresentar valor da diferença entre os números de registros de dobr e dobr_filtered\n",
    "\n",
    "shape_2010 = dobr2010.shape[0]\n",
    "shape_2019 = dobr2019.shape[0]\n",
    "shape_2020 = dobr2020.shape[0]\n",
    "shape_2021 = dobr2021.shape[0]\n",
    "shape_2022 = dobr2022.shape[0]\n",
    "shape_all = shape_2010 + shape_2019 + shape_2020 + shape_2021 + shape_2022\n",
    "\n",
    "\n",
    "print(f\"\\033[33m ==> O número de registros de óbitos originais por ano:\\033[0m\")\n",
    "print(f\"\\033[33m * 2010 {shape_2010}\\033[0m\")\n",
    "print(f\"\\033[33m * 2019 {shape_2019}\\033[0m\")\n",
    "print(f\"\\033[33m * 2020 {shape_2020}\\033[0m\")\n",
    "print(f\"\\033[33m * 2021 {shape_2021}\\033[0m\")\n",
    "print(f\"\\033[33m * 2022 {shape_2022}\\033[0m\")\n",
    "\n",
    "dif = shape_all - dobr_clean.shape[0]\n",
    "print(f\"\\033[33m ==> O número de registros excluídos por apresentar idade maior de 74 anos foi de {dif} registros\\033[0m\")\n",
    "print(f\"\\033[33m ==> O número de registros de óbitos resultantes é de {dobr_clean.shape[0]} registros\\033[0m\")"
   ]
  },
  {
   "cell_type": "markdown",
   "metadata": {},
   "source": [
    "## Carga SIM auxiliar\n",
    "\n",
    "O SIM traz algumas tabelas auxiliares de CID10 e municípios. \n",
    "\n",
    "Não iremos trazemos estas informações, no entanto, porque iremos utilizar dados de municípios concomitante à população do Censo do IBGE e sobre os CIDs iremos consultar a informações já da lista de doenças evitáveis, conforme OCDE."
   ]
  },
  {
   "cell_type": "code",
   "execution_count": null,
   "metadata": {},
   "outputs": [],
   "source": [
    "# # Download de tabela auxiliar de CID10\n",
    "# cid10 = get_CID10_table()\n",
    "# cid10.head()"
   ]
  },
  {
   "cell_type": "code",
   "execution_count": null,
   "metadata": {},
   "outputs": [],
   "source": [
    "# # Download de tabela auxiliar de CID10\n",
    "# munic = get_municipios()\n",
    "# print(munic.head())"
   ]
  },
  {
   "cell_type": "markdown",
   "metadata": {},
   "source": [
    "## Carga externa ao SIM\n",
    "\n",
    "Iremos carregar informações de fontes externas sobre população e CIDs de doenças evitáveis."
   ]
  },
  {
   "cell_type": "markdown",
   "metadata": {},
   "source": [
    "##### Carga de CIDs doenças evitáveis - SVS"
   ]
  },
  {
   "cell_type": "code",
   "execution_count": 19,
   "metadata": {},
   "outputs": [],
   "source": [
    "# # Download de tabela tratada de CIDs evitáveis de acordo com documentos da SVS\n",
    "\n",
    "# url = 'https://docs.google.com/spreadsheets/d/1YWurDqnBDMz4ACOEctY9uuQkEm7uSRAogzZETQrLCXk/edit?usp=drive_link'\n",
    "# # Convert the Google Sheets URL to a CSV export URL\n",
    "# csv_url = url.replace('/edit?usp=drive_link', '/export?format=csv')\n",
    "\n",
    "# # Read the CSV data into a pandas DataFrame\n",
    "# df = pd.read_csv(csv_url)\n",
    "\n",
    "# # Now you can work with the DataFrame 'df'\n",
    "# df.head()\n"
   ]
  },
  {
   "cell_type": "code",
   "execution_count": 20,
   "metadata": {},
   "outputs": [],
   "source": [
    "# # Salvar arquivo csv\n",
    "# df.to_csv('downloads_outros/cid10_evit_svs.csv', index=False)"
   ]
  },
  {
   "cell_type": "markdown",
   "metadata": {},
   "source": [
    "##### Carga de CIDs doenças evitáveis - OCDE"
   ]
  },
  {
   "cell_type": "code",
   "execution_count": null,
   "metadata": {},
   "outputs": [
    {
     "data": {
      "text/html": [
       "<div>\n",
       "<style scoped>\n",
       "    .dataframe tbody tr th:only-of-type {\n",
       "        vertical-align: middle;\n",
       "    }\n",
       "\n",
       "    .dataframe tbody tr th {\n",
       "        vertical-align: top;\n",
       "    }\n",
       "\n",
       "    .dataframe thead th {\n",
       "        text-align: right;\n",
       "    }\n",
       "</style>\n",
       "<table border=\"1\" class=\"dataframe\">\n",
       "  <thead>\n",
       "    <tr style=\"text-align: right;\">\n",
       "      <th></th>\n",
       "      <th>avoid_flag</th>\n",
       "      <th>prevent_flag</th>\n",
       "      <th>treat_flag</th>\n",
       "      <th>Group</th>\n",
       "      <th>Causes of deaths</th>\n",
       "      <th>Rationale for inclusion</th>\n",
       "      <th>Range</th>\n",
       "      <th>cid_pai</th>\n",
       "    </tr>\n",
       "  </thead>\n",
       "  <tbody>\n",
       "    <tr>\n",
       "      <th>0</th>\n",
       "      <td>Avoidable mortality</td>\n",
       "      <td>Preventable mortality</td>\n",
       "      <td>NaN</td>\n",
       "      <td>Infectious diseases</td>\n",
       "      <td>Intestinal diseases</td>\n",
       "      <td>Most of these infections can be prevented thro...</td>\n",
       "      <td>(A00-A09)</td>\n",
       "      <td>A0</td>\n",
       "    </tr>\n",
       "    <tr>\n",
       "      <th>1</th>\n",
       "      <td>Avoidable mortality</td>\n",
       "      <td>Preventable mortality</td>\n",
       "      <td>NaN</td>\n",
       "      <td>Infectious diseases</td>\n",
       "      <td>Diphtheria, Tetanus, Poliomyelitis</td>\n",
       "      <td>Most of these infections can be prevented thro...</td>\n",
       "      <td>(A35, A36, A80)</td>\n",
       "      <td>A35</td>\n",
       "    </tr>\n",
       "    <tr>\n",
       "      <th>2</th>\n",
       "      <td>Avoidable mortality</td>\n",
       "      <td>Preventable mortality</td>\n",
       "      <td>NaN</td>\n",
       "      <td>Infectious diseases</td>\n",
       "      <td>Diphtheria, Tetanus, Poliomyelitis</td>\n",
       "      <td>Most of these infections can be prevented thro...</td>\n",
       "      <td>(A35, A36, A80)</td>\n",
       "      <td>A36</td>\n",
       "    </tr>\n",
       "    <tr>\n",
       "      <th>3</th>\n",
       "      <td>Avoidable mortality</td>\n",
       "      <td>Preventable mortality</td>\n",
       "      <td>NaN</td>\n",
       "      <td>Infectious diseases</td>\n",
       "      <td>Diphtheria, Tetanus, Poliomyelitis</td>\n",
       "      <td>Most of these infections can be prevented thro...</td>\n",
       "      <td>(A35, A36, A80)</td>\n",
       "      <td>A80</td>\n",
       "    </tr>\n",
       "    <tr>\n",
       "      <th>4</th>\n",
       "      <td>Avoidable mortality</td>\n",
       "      <td>Preventable mortality</td>\n",
       "      <td>NaN</td>\n",
       "      <td>Infectious diseases</td>\n",
       "      <td>Whooping cough</td>\n",
       "      <td>Most of these infections can be prevented thro...</td>\n",
       "      <td>(A37)</td>\n",
       "      <td>A37</td>\n",
       "    </tr>\n",
       "  </tbody>\n",
       "</table>\n",
       "</div>"
      ],
      "text/plain": [
       "            avoid_flag           prevent_flag treat_flag                Group  \\\n",
       "0  Avoidable mortality  Preventable mortality        NaN  Infectious diseases   \n",
       "1  Avoidable mortality  Preventable mortality        NaN  Infectious diseases   \n",
       "2  Avoidable mortality  Preventable mortality        NaN  Infectious diseases   \n",
       "3  Avoidable mortality  Preventable mortality        NaN  Infectious diseases   \n",
       "4  Avoidable mortality  Preventable mortality        NaN  Infectious diseases   \n",
       "\n",
       "                     Causes of deaths  \\\n",
       "0                 Intestinal diseases   \n",
       "1  Diphtheria, Tetanus, Poliomyelitis   \n",
       "2  Diphtheria, Tetanus, Poliomyelitis   \n",
       "3  Diphtheria, Tetanus, Poliomyelitis   \n",
       "4                      Whooping cough   \n",
       "\n",
       "                             Rationale for inclusion            Range cid_pai  \n",
       "0  Most of these infections can be prevented thro...        (A00-A09)      A0  \n",
       "1  Most of these infections can be prevented thro...  (A35, A36, A80)     A35  \n",
       "2  Most of these infections can be prevented thro...  (A35, A36, A80)     A36  \n",
       "3  Most of these infections can be prevented thro...  (A35, A36, A80)     A80  \n",
       "4  Most of these infections can be prevented thro...            (A37)     A37  "
      ]
     },
     "execution_count": 22,
     "metadata": {},
     "output_type": "execute_result"
    }
   ],
   "source": [
    "# # Download de tabela tratada de CIDs evitáveis de acordo com documentos da OCDE\n",
    "# url = 'https://docs.google.com/spreadsheets/d/1X8AH0zs4PNc_bUpZ3tBvFw2HGpgb9CjShOkwXQ0so_I/edit?usp=sharing'\n",
    "# # Convert the Google Sheets URL to a CSV export URL\n",
    "# csv_url = url.replace('/edit?usp=sharing', '/export?format=csv')\n",
    "\n",
    "# # Read the CSV data into a pandas DataFrame\n",
    "# ocde_evit = pd.read_csv(csv_url)\n",
    "\n",
    "# # Now you can work with the DataFrame 'df'\n",
    "# ocde_evit.head()"
   ]
  },
  {
   "cell_type": "code",
   "execution_count": 23,
   "metadata": {},
   "outputs": [
    {
     "name": "stdout",
     "output_type": "stream",
     "text": [
      "<class 'pandas.core.frame.DataFrame'>\n",
      "RangeIndex: 346 entries, 0 to 345\n",
      "Data columns (total 8 columns):\n",
      " #   Column                   Non-Null Count  Dtype \n",
      "---  ------                   --------------  ----- \n",
      " 0   avoid_flag               346 non-null    object\n",
      " 1   prevent_flag             189 non-null    object\n",
      " 2   treat_flag               184 non-null    object\n",
      " 3   Group                    346 non-null    object\n",
      " 4   Causes of deaths         346 non-null    object\n",
      " 5   Rationale for inclusion  346 non-null    object\n",
      " 6   Range                    346 non-null    object\n",
      " 7   cid_pai                  346 non-null    object\n",
      "dtypes: object(8)\n",
      "memory usage: 21.8+ KB\n"
     ]
    }
   ],
   "source": [
    "ocde_evit.info()"
   ]
  },
  {
   "cell_type": "markdown",
   "metadata": {},
   "source": [
    "## População Censo"
   ]
  },
  {
   "cell_type": "markdown",
   "metadata": {},
   "source": [
    "### Carga de População Censo \n",
    "\n",
    "\n",
    "Os dados populacionais são os dos Censos de 2010 e 2022, com variáveis de sexo, raça e faixa etária (para calcular menores de 75 anos).\n",
    "\n",
    "A fonte de dados para gerar os arquivos ou o endereço do caminho SIDRA, é https://sidra.ibge.gov.br/Tabela/9605.\n",
    "\n",
    "Nota da v.2 : iremos trazer os dados do Censo sem precisar desagregar por sexo e raça-cor e consideramos que não será necessário trazer dados por UF, estes podem ser agregados depois a partir dos dados de município."
   ]
  },
  {
   "cell_type": "code",
   "execution_count": 72,
   "metadata": {},
   "outputs": [
    {
     "data": {
      "text/html": [
       "<div>\n",
       "<style scoped>\n",
       "    .dataframe tbody tr th:only-of-type {\n",
       "        vertical-align: middle;\n",
       "    }\n",
       "\n",
       "    .dataframe tbody tr th {\n",
       "        vertical-align: top;\n",
       "    }\n",
       "\n",
       "    .dataframe thead th {\n",
       "        text-align: right;\n",
       "    }\n",
       "</style>\n",
       "<table border=\"1\" class=\"dataframe\">\n",
       "  <thead>\n",
       "    <tr style=\"text-align: right;\">\n",
       "      <th></th>\n",
       "      <th>Ano</th>\n",
       "      <th>Nível</th>\n",
       "      <th>Cód.</th>\n",
       "      <th>Unidade da Federação e Município</th>\n",
       "      <th>Cor ou raça</th>\n",
       "      <th>Sexo</th>\n",
       "      <th>Total</th>\n",
       "      <th>75 a 79 anos</th>\n",
       "      <th>80 a 84 anos</th>\n",
       "      <th>85 a 89 anos</th>\n",
       "      <th>90 a 94 anos</th>\n",
       "      <th>95 a 99 anos</th>\n",
       "      <th>100 anos ou mais</th>\n",
       "    </tr>\n",
       "  </thead>\n",
       "  <tbody>\n",
       "    <tr>\n",
       "      <th>0</th>\n",
       "      <td>2010</td>\n",
       "      <td>UF</td>\n",
       "      <td>11</td>\n",
       "      <td>Rondônia</td>\n",
       "      <td>Total</td>\n",
       "      <td>Total</td>\n",
       "      <td>1562409</td>\n",
       "      <td>13015</td>\n",
       "      <td>7291</td>\n",
       "      <td>3170</td>\n",
       "      <td>1126</td>\n",
       "      <td>330</td>\n",
       "      <td>82</td>\n",
       "    </tr>\n",
       "    <tr>\n",
       "      <th>1</th>\n",
       "      <td>2010</td>\n",
       "      <td>UF</td>\n",
       "      <td>12</td>\n",
       "      <td>Acre</td>\n",
       "      <td>Total</td>\n",
       "      <td>Total</td>\n",
       "      <td>733559</td>\n",
       "      <td>5508</td>\n",
       "      <td>3574</td>\n",
       "      <td>1790</td>\n",
       "      <td>737</td>\n",
       "      <td>300</td>\n",
       "      <td>91</td>\n",
       "    </tr>\n",
       "    <tr>\n",
       "      <th>2</th>\n",
       "      <td>2010</td>\n",
       "      <td>UF</td>\n",
       "      <td>13</td>\n",
       "      <td>Amazonas</td>\n",
       "      <td>Total</td>\n",
       "      <td>Total</td>\n",
       "      <td>3483985</td>\n",
       "      <td>24686</td>\n",
       "      <td>14803</td>\n",
       "      <td>7829</td>\n",
       "      <td>3405</td>\n",
       "      <td>1249</td>\n",
       "      <td>415</td>\n",
       "    </tr>\n",
       "    <tr>\n",
       "      <th>3</th>\n",
       "      <td>2010</td>\n",
       "      <td>UF</td>\n",
       "      <td>14</td>\n",
       "      <td>Roraima</td>\n",
       "      <td>Total</td>\n",
       "      <td>Total</td>\n",
       "      <td>450479</td>\n",
       "      <td>2575</td>\n",
       "      <td>1586</td>\n",
       "      <td>809</td>\n",
       "      <td>324</td>\n",
       "      <td>100</td>\n",
       "      <td>35</td>\n",
       "    </tr>\n",
       "    <tr>\n",
       "      <th>4</th>\n",
       "      <td>2010</td>\n",
       "      <td>UF</td>\n",
       "      <td>15</td>\n",
       "      <td>Pará</td>\n",
       "      <td>Total</td>\n",
       "      <td>Total</td>\n",
       "      <td>7581051</td>\n",
       "      <td>62725</td>\n",
       "      <td>37009</td>\n",
       "      <td>18075</td>\n",
       "      <td>8912</td>\n",
       "      <td>3349</td>\n",
       "      <td>899</td>\n",
       "    </tr>\n",
       "  </tbody>\n",
       "</table>\n",
       "</div>"
      ],
      "text/plain": [
       "    Ano Nível Cód. Unidade da Federação e Município Cor ou raça   Sexo  \\\n",
       "0  2010    UF   11                         Rondônia       Total  Total   \n",
       "1  2010    UF   12                             Acre       Total  Total   \n",
       "2  2010    UF   13                         Amazonas       Total  Total   \n",
       "3  2010    UF   14                          Roraima       Total  Total   \n",
       "4  2010    UF   15                             Pará       Total  Total   \n",
       "\n",
       "     Total 75 a 79 anos 80 a 84 anos 85 a 89 anos 90 a 94 anos 95 a 99 anos  \\\n",
       "0  1562409        13015         7291         3170         1126          330   \n",
       "1   733559         5508         3574         1790          737          300   \n",
       "2  3483985        24686        14803         7829         3405         1249   \n",
       "3   450479         2575         1586          809          324          100   \n",
       "4  7581051        62725        37009        18075         8912         3349   \n",
       "\n",
       "  100 anos ou mais  \n",
       "0               82  \n",
       "1               91  \n",
       "2              415  \n",
       "3               35  \n",
       "4              899  "
      ]
     },
     "execution_count": 72,
     "metadata": {},
     "output_type": "execute_result"
    }
   ],
   "source": [
    "# # Definir a URL\n",
    "# url = 'https://sidra.ibge.gov.br/geratabela?format=us.csv&name=tabela9606.csv&terr=NCS&rank=-&query=t/9606/n3/all/n6/all/v/allxp/p/all/c86/95251/c2/6794/c287/6653,49108,49109,60040,60041,93098,100362/l/,v%2Bc287,p%2Bt%2Bc86%2Bc2&verComplementos2=false&verComplementos1=false&omitirIndentacao=false&abreviarRotulos=false&exibirNotas=false&agruparNoCabecalho=false'\n",
    "\n",
    "# # Ler os dados da URL em um DataFrame\n",
    "# # censo_pop = pd.read_json(url)\n",
    "# ibge_download_ = pd.read_csv(url, skiprows=3, dtype=str)\n",
    "\n",
    "# # Exibir as primeiras linhas do DataFrame\n",
    "# ibge_download_.head()"
   ]
  },
  {
   "cell_type": "code",
   "execution_count": 73,
   "metadata": {},
   "outputs": [
    {
     "name": "stdout",
     "output_type": "stream",
     "text": [
      "<class 'pandas.core.frame.DataFrame'>\n",
      "RangeIndex: 11214 entries, 0 to 11213\n",
      "Data columns (total 13 columns):\n",
      " #   Column                            Non-Null Count  Dtype \n",
      "---  ------                            --------------  ----- \n",
      " 0   Ano                               11213 non-null  object\n",
      " 1   Nível                             11201 non-null  object\n",
      " 2   Cód.                              11194 non-null  object\n",
      " 3   Unidade da Federação e Município  11194 non-null  object\n",
      " 4   Cor ou raça                       11194 non-null  object\n",
      " 5   Sexo                              11194 non-null  object\n",
      " 6   Total                             11194 non-null  object\n",
      " 7   75 a 79 anos                      11194 non-null  object\n",
      " 8   80 a 84 anos                      11194 non-null  object\n",
      " 9   85 a 89 anos                      11194 non-null  object\n",
      " 10  90 a 94 anos                      11194 non-null  object\n",
      " 11  95 a 99 anos                      11194 non-null  object\n",
      " 12  100 anos ou mais                  11194 non-null  object\n",
      "dtypes: object(13)\n",
      "memory usage: 1.1+ MB\n"
     ]
    }
   ],
   "source": [
    "# Exibir informaçãoes gerais do DataFrame\n",
    "ibge_download_.info()"
   ]
  },
  {
   "cell_type": "code",
   "execution_count": 74,
   "metadata": {},
   "outputs": [
    {
     "name": "stdout",
     "output_type": "stream",
     "text": [
      "<class 'pandas.core.frame.DataFrame'>\n",
      "RangeIndex: 11194 entries, 0 to 11193\n",
      "Data columns (total 13 columns):\n",
      " #   Column                            Non-Null Count  Dtype \n",
      "---  ------                            --------------  ----- \n",
      " 0   Ano                               11194 non-null  object\n",
      " 1   Nível                             11194 non-null  object\n",
      " 2   Cód.                              11194 non-null  object\n",
      " 3   Unidade da Federação e Município  11194 non-null  object\n",
      " 4   Cor ou raça                       11194 non-null  object\n",
      " 5   Sexo                              11194 non-null  object\n",
      " 6   Total                             11194 non-null  object\n",
      " 7   75 a 79 anos                      11194 non-null  object\n",
      " 8   80 a 84 anos                      11194 non-null  object\n",
      " 9   85 a 89 anos                      11194 non-null  object\n",
      " 10  90 a 94 anos                      11194 non-null  object\n",
      " 11  95 a 99 anos                      11194 non-null  object\n",
      " 12  100 anos ou mais                  11194 non-null  object\n",
      "dtypes: object(13)\n",
      "memory usage: 1.1+ MB\n"
     ]
    }
   ],
   "source": [
    "# Primeira linha de tratamento para salvar arquivo\n",
    "\n",
    "# Excluir notas e comentários do arquivo\n",
    "ibge_download = ibge_download_.dropna(subset=['Total']).reset_index(drop=True)\n",
    "\n",
    "# Exibir as primeiras linhas do DataFrame\n",
    "ibge_download.info()"
   ]
  },
  {
   "cell_type": "code",
   "execution_count": 80,
   "metadata": {},
   "outputs": [
    {
     "name": "stdout",
     "output_type": "stream",
     "text": [
      "<class 'pandas.core.frame.DataFrame'>\n",
      "RangeIndex: 11194 entries, 0 to 11193\n",
      "Data columns (total 11 columns):\n",
      " #   Column            Non-Null Count  Dtype \n",
      "---  ------            --------------  ----- \n",
      " 0   Ano               11194 non-null  object\n",
      " 1   Nível             11194 non-null  object\n",
      " 2   Cód.              11194 non-null  object\n",
      " 3   unidade_no        11194 non-null  object\n",
      " 4   Total             11194 non-null  object\n",
      " 5   75 a 79 anos      11194 non-null  object\n",
      " 6   80 a 84 anos      11194 non-null  object\n",
      " 7   85 a 89 anos      11194 non-null  object\n",
      " 8   90 a 94 anos      11194 non-null  object\n",
      " 9   95 a 99 anos      11194 non-null  object\n",
      " 10  100 anos ou mais  11194 non-null  object\n",
      "dtypes: object(11)\n",
      "memory usage: 962.1+ KB\n"
     ]
    }
   ],
   "source": [
    "# Segunda linha de tratamento para salvar arquivo\n",
    "\n",
    "# Excluir colunas de \"Cor ou raça\" e \"Sexo\"\n",
    "ibge_download01 = ibge_download.drop(columns=['Sexo','Cor ou raça'])\n",
    "\n",
    "# Renomear colunas\n",
    "ibge_download01.rename(columns={'Unidade da Federação e Município': 'unidade_no'}, inplace=True)\n",
    "\n",
    "# Exibir informações gerais do dataframe\n",
    "ibge_download01.info()"
   ]
  },
  {
   "cell_type": "code",
   "execution_count": null,
   "metadata": {},
   "outputs": [],
   "source": [
    "# Salvar arquivo de população do Censo\n",
    "ibge_download01.to_parquet('downloads_outros/censo_pop_raw.parquet')"
   ]
  },
  {
   "cell_type": "markdown",
   "metadata": {},
   "source": [
    "### Tratamento de População Censo Municípios"
   ]
  },
  {
   "cell_type": "code",
   "execution_count": 61,
   "metadata": {},
   "outputs": [],
   "source": [
    "# Carga de arquivo de População do Censo\n",
    "censo_pop_raw = pd.read_parquet('downloads_outros/censo_pop_raw.parquet')"
   ]
  },
  {
   "cell_type": "code",
   "execution_count": 62,
   "metadata": {},
   "outputs": [
    {
     "name": "stdout",
     "output_type": "stream",
     "text": [
      "<class 'pandas.core.frame.DataFrame'>\n",
      "RangeIndex: 11194 entries, 0 to 11193\n",
      "Data columns (total 11 columns):\n",
      " #   Column            Non-Null Count  Dtype \n",
      "---  ------            --------------  ----- \n",
      " 0   Ano               11194 non-null  object\n",
      " 1   Nível             11194 non-null  object\n",
      " 2   Cód.              11194 non-null  object\n",
      " 3   unidade_no        11194 non-null  object\n",
      " 4   Total             11194 non-null  object\n",
      " 5   75 a 79 anos      11194 non-null  object\n",
      " 6   80 a 84 anos      11194 non-null  object\n",
      " 7   85 a 89 anos      11194 non-null  object\n",
      " 8   90 a 94 anos      11194 non-null  object\n",
      " 9   95 a 99 anos      11194 non-null  object\n",
      " 10  100 anos ou mais  11194 non-null  object\n",
      "dtypes: object(11)\n",
      "memory usage: 962.1+ KB\n"
     ]
    }
   ],
   "source": [
    "censo_pop_raw.info()"
   ]
  },
  {
   "cell_type": "code",
   "execution_count": 63,
   "metadata": {},
   "outputs": [
    {
     "data": {
      "text/plain": [
       "array(['UF', 'MU'], dtype=object)"
      ]
     },
     "execution_count": 63,
     "metadata": {},
     "output_type": "execute_result"
    }
   ],
   "source": [
    "# Identificar a classificação de unidades federativas\n",
    "censo_pop_raw.Nível.unique()"
   ]
  },
  {
   "cell_type": "code",
   "execution_count": 64,
   "metadata": {},
   "outputs": [
    {
     "data": {
      "text/plain": [
       "array(['2010', '2022'], dtype=object)"
      ]
     },
     "execution_count": 64,
     "metadata": {},
     "output_type": "execute_result"
    }
   ],
   "source": [
    "# Apresentar os anos do Censo\n",
    "censo_pop_raw.Ano.unique()"
   ]
  },
  {
   "cell_type": "code",
   "execution_count": null,
   "metadata": {},
   "outputs": [],
   "source": [
    "# # Filtrar os dados apenas de município\n",
    "# censo_pop_mun = censo_pop_raw[censo_pop_raw['Nível'] == 'MU']\n",
    "# censo_pop_mun.info()\n"
   ]
  },
  {
   "cell_type": "code",
   "execution_count": 65,
   "metadata": {},
   "outputs": [
    {
     "name": "stdout",
     "output_type": "stream",
     "text": [
      "<class 'pandas.core.frame.DataFrame'>\n",
      "RangeIndex: 11194 entries, 0 to 11193\n",
      "Data columns (total 11 columns):\n",
      " #   Column            Non-Null Count  Dtype \n",
      "---  ------            --------------  ----- \n",
      " 0   Ano               11194 non-null  object\n",
      " 1   Nível             11194 non-null  object\n",
      " 2   Cód.              11194 non-null  object\n",
      " 3   unidade_no        11194 non-null  object\n",
      " 4   Total             11194 non-null  int64 \n",
      " 5   75 a 79 anos      11194 non-null  int64 \n",
      " 6   80 a 84 anos      11194 non-null  int64 \n",
      " 7   85 a 89 anos      11194 non-null  int64 \n",
      " 8   90 a 94 anos      11194 non-null  int64 \n",
      " 9   95 a 99 anos      11194 non-null  int64 \n",
      " 10  100 anos ou mais  11194 non-null  int64 \n",
      "dtypes: int64(7), object(4)\n",
      "memory usage: 962.1+ KB\n"
     ]
    }
   ],
   "source": [
    "# Preparar colunas para conseguir valores da população até 74 anos\n",
    "\n",
    "# Colunas para transformar em inteiro\n",
    "cols_age = ['Total','75 a 79 anos', '80 a 84 anos', '85 a 89 anos','90 a 94 anos', '95 a 99 anos', '100 anos ou mais']\n",
    "# para todas as colunas identificar substituir '-' por 0\n",
    "censo_pop_clean01 = censo_pop_raw.copy()\n",
    "censo_pop_clean01[cols_age] = censo_pop_clean01[cols_age].replace('-',0)\n",
    "\n",
    "# transformar todas as colunas definidas para formato integer\n",
    "censo_pop_clean01[cols_age] = censo_pop_clean01[cols_age].apply(pd.to_numeric, errors='coerce').fillna(0).astype(int)\n",
    "censo_pop_clean01.info()\n"
   ]
  },
  {
   "cell_type": "code",
   "execution_count": 66,
   "metadata": {},
   "outputs": [
    {
     "data": {
      "text/html": [
       "<div>\n",
       "<style scoped>\n",
       "    .dataframe tbody tr th:only-of-type {\n",
       "        vertical-align: middle;\n",
       "    }\n",
       "\n",
       "    .dataframe tbody tr th {\n",
       "        vertical-align: top;\n",
       "    }\n",
       "\n",
       "    .dataframe thead th {\n",
       "        text-align: right;\n",
       "    }\n",
       "</style>\n",
       "<table border=\"1\" class=\"dataframe\">\n",
       "  <thead>\n",
       "    <tr style=\"text-align: right;\">\n",
       "      <th></th>\n",
       "      <th>Ano</th>\n",
       "      <th>Nível</th>\n",
       "      <th>Cód.</th>\n",
       "      <th>unidade_no</th>\n",
       "      <th>pop_total</th>\n",
       "      <th>pop_under74</th>\n",
       "    </tr>\n",
       "  </thead>\n",
       "  <tbody>\n",
       "    <tr>\n",
       "      <th>0</th>\n",
       "      <td>2010</td>\n",
       "      <td>UF</td>\n",
       "      <td>11</td>\n",
       "      <td>Rondônia</td>\n",
       "      <td>1562409</td>\n",
       "      <td>1537395</td>\n",
       "    </tr>\n",
       "    <tr>\n",
       "      <th>1</th>\n",
       "      <td>2010</td>\n",
       "      <td>UF</td>\n",
       "      <td>12</td>\n",
       "      <td>Acre</td>\n",
       "      <td>733559</td>\n",
       "      <td>721559</td>\n",
       "    </tr>\n",
       "    <tr>\n",
       "      <th>2</th>\n",
       "      <td>2010</td>\n",
       "      <td>UF</td>\n",
       "      <td>13</td>\n",
       "      <td>Amazonas</td>\n",
       "      <td>3483985</td>\n",
       "      <td>3431598</td>\n",
       "    </tr>\n",
       "    <tr>\n",
       "      <th>3</th>\n",
       "      <td>2010</td>\n",
       "      <td>UF</td>\n",
       "      <td>14</td>\n",
       "      <td>Roraima</td>\n",
       "      <td>450479</td>\n",
       "      <td>445050</td>\n",
       "    </tr>\n",
       "    <tr>\n",
       "      <th>4</th>\n",
       "      <td>2010</td>\n",
       "      <td>UF</td>\n",
       "      <td>15</td>\n",
       "      <td>Pará</td>\n",
       "      <td>7581051</td>\n",
       "      <td>7450082</td>\n",
       "    </tr>\n",
       "  </tbody>\n",
       "</table>\n",
       "</div>"
      ],
      "text/plain": [
       "    Ano Nível Cód. unidade_no  pop_total  pop_under74\n",
       "0  2010    UF   11   Rondônia    1562409      1537395\n",
       "1  2010    UF   12       Acre     733559       721559\n",
       "2  2010    UF   13   Amazonas    3483985      3431598\n",
       "3  2010    UF   14    Roraima     450479       445050\n",
       "4  2010    UF   15       Pará    7581051      7450082"
      ]
     },
     "execution_count": 66,
     "metadata": {},
     "output_type": "execute_result"
    }
   ],
   "source": [
    "# Gerar coluna de população total até 74 anos\n",
    "cols_age_over75 = ['75 a 79 anos', '80 a 84 anos', '85 a 89 anos','90 a 94 anos', '95 a 99 anos', '100 anos ou mais']\n",
    "\n",
    "censo_pop_clean02 = censo_pop_clean01.copy()\n",
    "\n",
    "# Subtrair a população de 75 anos ou mais da população total\n",
    "censo_pop_clean02['pop_under74'] = censo_pop_clean02['Total'] - censo_pop_clean02[cols_age_over75].sum(axis=1)\n",
    "\n",
    "# Excluir colunar cols_age_over75 e 0 a 4 anos\n",
    "censo_pop_clean02.drop(columns=cols_age_over75, inplace=True)\n",
    "\n",
    "# Renomear coluna Total para pop_total\n",
    "censo_pop_clean02.rename(columns={'Total': 'pop_total'}, inplace=True)\n",
    "\n",
    "\n",
    "censo_pop_clean02.head()\n"
   ]
  },
  {
   "cell_type": "code",
   "execution_count": 67,
   "metadata": {},
   "outputs": [
    {
     "data": {
      "text/html": [
       "<div>\n",
       "<style scoped>\n",
       "    .dataframe tbody tr th:only-of-type {\n",
       "        vertical-align: middle;\n",
       "    }\n",
       "\n",
       "    .dataframe tbody tr th {\n",
       "        vertical-align: top;\n",
       "    }\n",
       "\n",
       "    .dataframe thead th {\n",
       "        text-align: right;\n",
       "    }\n",
       "</style>\n",
       "<table border=\"1\" class=\"dataframe\">\n",
       "  <thead>\n",
       "    <tr style=\"text-align: right;\">\n",
       "      <th></th>\n",
       "      <th>Ano</th>\n",
       "      <th>Nível</th>\n",
       "      <th>Cód.</th>\n",
       "      <th>unidade_no</th>\n",
       "      <th>pop_total</th>\n",
       "      <th>pop_under74</th>\n",
       "      <th>UF</th>\n",
       "      <th>uf_co</th>\n",
       "    </tr>\n",
       "  </thead>\n",
       "  <tbody>\n",
       "    <tr>\n",
       "      <th>0</th>\n",
       "      <td>2010</td>\n",
       "      <td>UF</td>\n",
       "      <td>11</td>\n",
       "      <td>Rondônia</td>\n",
       "      <td>1562409</td>\n",
       "      <td>1537395</td>\n",
       "      <td>None</td>\n",
       "      <td>_11</td>\n",
       "    </tr>\n",
       "    <tr>\n",
       "      <th>1</th>\n",
       "      <td>2010</td>\n",
       "      <td>UF</td>\n",
       "      <td>12</td>\n",
       "      <td>Acre</td>\n",
       "      <td>733559</td>\n",
       "      <td>721559</td>\n",
       "      <td>None</td>\n",
       "      <td>_12</td>\n",
       "    </tr>\n",
       "    <tr>\n",
       "      <th>2</th>\n",
       "      <td>2010</td>\n",
       "      <td>UF</td>\n",
       "      <td>13</td>\n",
       "      <td>Amazonas</td>\n",
       "      <td>3483985</td>\n",
       "      <td>3431598</td>\n",
       "      <td>None</td>\n",
       "      <td>_13</td>\n",
       "    </tr>\n",
       "    <tr>\n",
       "      <th>3</th>\n",
       "      <td>2010</td>\n",
       "      <td>UF</td>\n",
       "      <td>14</td>\n",
       "      <td>Roraima</td>\n",
       "      <td>450479</td>\n",
       "      <td>445050</td>\n",
       "      <td>None</td>\n",
       "      <td>_14</td>\n",
       "    </tr>\n",
       "    <tr>\n",
       "      <th>4</th>\n",
       "      <td>2010</td>\n",
       "      <td>UF</td>\n",
       "      <td>15</td>\n",
       "      <td>Pará</td>\n",
       "      <td>7581051</td>\n",
       "      <td>7450082</td>\n",
       "      <td>None</td>\n",
       "      <td>_15</td>\n",
       "    </tr>\n",
       "  </tbody>\n",
       "</table>\n",
       "</div>"
      ],
      "text/plain": [
       "    Ano Nível Cód. unidade_no  pop_total  pop_under74    UF uf_co\n",
       "0  2010    UF   11   Rondônia    1562409      1537395  None   _11\n",
       "1  2010    UF   12       Acre     733559       721559  None   _12\n",
       "2  2010    UF   13   Amazonas    3483985      3431598  None   _13\n",
       "3  2010    UF   14    Roraima     450479       445050  None   _14\n",
       "4  2010    UF   15       Pará    7581051      7450082  None   _15"
      ]
     },
     "execution_count": 67,
     "metadata": {},
     "output_type": "execute_result"
    }
   ],
   "source": [
    "# Gerar informação de UF a partir do split de 'Município', com o dividor '('\n",
    "censo_pop_clean03 = censo_pop_clean02.copy()\n",
    "censo_pop_clean03['UF'] = censo_pop_clean03['unidade_no'].str.split('(', expand=True)[1].str.replace(')','')\n",
    "censo_pop_clean03['uf_co'] = '_' + censo_pop_clean03['Cód.'].astype(str).str[:2]\n",
    "censo_pop_clean03['unidade_no'] = censo_pop_clean03['unidade_no'].str.split('(', expand=True)[0]\n",
    "censo_pop_clean03.head()\n"
   ]
  },
  {
   "cell_type": "code",
   "execution_count": 71,
   "metadata": {},
   "outputs": [],
   "source": [
    "# Dividir arquivos em UF e Municípios\n",
    "\n",
    "# Criar arquivo de UF\n",
    "censo_pop_uf = censo_pop_clean03[censo_pop_clean03['Nível'] == 'UF'].reset_index(drop=True)\n",
    "\n",
    "# Criar arquivo de Municípios\n",
    "censo_pop_mun = censo_pop_clean03[censo_pop_clean03['Nível'] == 'MU'].reset_index(drop=True)"
   ]
  },
  {
   "cell_type": "code",
   "execution_count": 72,
   "metadata": {},
   "outputs": [
    {
     "name": "stdout",
     "output_type": "stream",
     "text": [
      "<class 'pandas.core.frame.DataFrame'>\n",
      "RangeIndex: 54 entries, 0 to 53\n",
      "Data columns (total 8 columns):\n",
      " #   Column       Non-Null Count  Dtype \n",
      "---  ------       --------------  ----- \n",
      " 0   Ano          54 non-null     object\n",
      " 1   Nível        54 non-null     object\n",
      " 2   Cód.         54 non-null     object\n",
      " 3   unidade_no   54 non-null     object\n",
      " 4   pop_total    54 non-null     int64 \n",
      " 5   pop_under74  54 non-null     int64 \n",
      " 6   UF           0 non-null      object\n",
      " 7   uf_co        54 non-null     object\n",
      "dtypes: int64(2), object(6)\n",
      "memory usage: 3.5+ KB\n"
     ]
    }
   ],
   "source": [
    "censo_pop_uf.info()"
   ]
  },
  {
   "cell_type": "code",
   "execution_count": 73,
   "metadata": {},
   "outputs": [
    {
     "name": "stdout",
     "output_type": "stream",
     "text": [
      "<class 'pandas.core.frame.DataFrame'>\n",
      "RangeIndex: 11140 entries, 0 to 11139\n",
      "Data columns (total 8 columns):\n",
      " #   Column       Non-Null Count  Dtype \n",
      "---  ------       --------------  ----- \n",
      " 0   Ano          11140 non-null  object\n",
      " 1   Nível        11140 non-null  object\n",
      " 2   Cód.         11140 non-null  object\n",
      " 3   unidade_no   11140 non-null  object\n",
      " 4   pop_total    11140 non-null  int64 \n",
      " 5   pop_under74  11140 non-null  int64 \n",
      " 6   UF           11140 non-null  object\n",
      " 7   uf_co        11140 non-null  object\n",
      "dtypes: int64(2), object(6)\n",
      "memory usage: 696.4+ KB\n"
     ]
    }
   ],
   "source": [
    "censo_pop_mun.info()"
   ]
  },
  {
   "cell_type": "code",
   "execution_count": 74,
   "metadata": {},
   "outputs": [
    {
     "data": {
      "text/html": [
       "<div>\n",
       "<style scoped>\n",
       "    .dataframe tbody tr th:only-of-type {\n",
       "        vertical-align: middle;\n",
       "    }\n",
       "\n",
       "    .dataframe tbody tr th {\n",
       "        vertical-align: top;\n",
       "    }\n",
       "\n",
       "    .dataframe thead th {\n",
       "        text-align: right;\n",
       "    }\n",
       "</style>\n",
       "<table border=\"1\" class=\"dataframe\">\n",
       "  <thead>\n",
       "    <tr style=\"text-align: right;\">\n",
       "      <th></th>\n",
       "      <th>Ano</th>\n",
       "      <th>uf_no</th>\n",
       "      <th>pop_total</th>\n",
       "      <th>pop_under74</th>\n",
       "      <th>uf_co</th>\n",
       "    </tr>\n",
       "  </thead>\n",
       "  <tbody>\n",
       "    <tr>\n",
       "      <th>0</th>\n",
       "      <td>2010</td>\n",
       "      <td>Rondônia</td>\n",
       "      <td>1562409</td>\n",
       "      <td>1537395</td>\n",
       "      <td>_11</td>\n",
       "    </tr>\n",
       "    <tr>\n",
       "      <th>1</th>\n",
       "      <td>2010</td>\n",
       "      <td>Acre</td>\n",
       "      <td>733559</td>\n",
       "      <td>721559</td>\n",
       "      <td>_12</td>\n",
       "    </tr>\n",
       "    <tr>\n",
       "      <th>2</th>\n",
       "      <td>2010</td>\n",
       "      <td>Amazonas</td>\n",
       "      <td>3483985</td>\n",
       "      <td>3431598</td>\n",
       "      <td>_13</td>\n",
       "    </tr>\n",
       "    <tr>\n",
       "      <th>3</th>\n",
       "      <td>2010</td>\n",
       "      <td>Roraima</td>\n",
       "      <td>450479</td>\n",
       "      <td>445050</td>\n",
       "      <td>_14</td>\n",
       "    </tr>\n",
       "    <tr>\n",
       "      <th>4</th>\n",
       "      <td>2010</td>\n",
       "      <td>Pará</td>\n",
       "      <td>7581051</td>\n",
       "      <td>7450082</td>\n",
       "      <td>_15</td>\n",
       "    </tr>\n",
       "  </tbody>\n",
       "</table>\n",
       "</div>"
      ],
      "text/plain": [
       "    Ano     uf_no  pop_total  pop_under74 uf_co\n",
       "0  2010  Rondônia    1562409      1537395   _11\n",
       "1  2010      Acre     733559       721559   _12\n",
       "2  2010  Amazonas    3483985      3431598   _13\n",
       "3  2010   Roraima     450479       445050   _14\n",
       "4  2010      Pará    7581051      7450082   _15"
      ]
     },
     "execution_count": 74,
     "metadata": {},
     "output_type": "execute_result"
    }
   ],
   "source": [
    "# Preparar para salvar arquivo de UF\n",
    "censo_pop_uf2 = censo_pop_uf\n",
    "\n",
    "# Excluir colunas desnecessárias\n",
    "censo_pop_uf2.drop(columns=['Cód.','Nível','UF'], inplace=True)\n",
    "\n",
    "# Renomear coluna unidade_no para uf_no\n",
    "censo_pop_uf2.rename(columns={'unidade_no': 'uf_no'}, inplace=True)\n",
    "\n",
    "censo_pop_uf2.head()"
   ]
  },
  {
   "cell_type": "code",
   "execution_count": 75,
   "metadata": {},
   "outputs": [
    {
     "data": {
      "text/html": [
       "<div>\n",
       "<style scoped>\n",
       "    .dataframe tbody tr th:only-of-type {\n",
       "        vertical-align: middle;\n",
       "    }\n",
       "\n",
       "    .dataframe tbody tr th {\n",
       "        vertical-align: top;\n",
       "    }\n",
       "\n",
       "    .dataframe thead th {\n",
       "        text-align: right;\n",
       "    }\n",
       "</style>\n",
       "<table border=\"1\" class=\"dataframe\">\n",
       "  <thead>\n",
       "    <tr style=\"text-align: right;\">\n",
       "      <th></th>\n",
       "      <th>Ano</th>\n",
       "      <th>Nível</th>\n",
       "      <th>Cód.</th>\n",
       "      <th>unidade_no</th>\n",
       "      <th>pop_total</th>\n",
       "      <th>pop_under74</th>\n",
       "      <th>UF</th>\n",
       "      <th>uf_co</th>\n",
       "    </tr>\n",
       "  </thead>\n",
       "  <tbody>\n",
       "    <tr>\n",
       "      <th>0</th>\n",
       "      <td>2010</td>\n",
       "      <td>MU</td>\n",
       "      <td>1100015</td>\n",
       "      <td>Alta Floresta D'Oeste</td>\n",
       "      <td>24392</td>\n",
       "      <td>23948</td>\n",
       "      <td>RO</td>\n",
       "      <td>_11</td>\n",
       "    </tr>\n",
       "    <tr>\n",
       "      <th>1</th>\n",
       "      <td>2010</td>\n",
       "      <td>MU</td>\n",
       "      <td>1100023</td>\n",
       "      <td>Ariquemes</td>\n",
       "      <td>90353</td>\n",
       "      <td>89037</td>\n",
       "      <td>RO</td>\n",
       "      <td>_11</td>\n",
       "    </tr>\n",
       "    <tr>\n",
       "      <th>2</th>\n",
       "      <td>2010</td>\n",
       "      <td>MU</td>\n",
       "      <td>1100031</td>\n",
       "      <td>Cabixi</td>\n",
       "      <td>6313</td>\n",
       "      <td>6180</td>\n",
       "      <td>RO</td>\n",
       "      <td>_11</td>\n",
       "    </tr>\n",
       "    <tr>\n",
       "      <th>3</th>\n",
       "      <td>2010</td>\n",
       "      <td>MU</td>\n",
       "      <td>1100049</td>\n",
       "      <td>Cacoal</td>\n",
       "      <td>78574</td>\n",
       "      <td>76947</td>\n",
       "      <td>RO</td>\n",
       "      <td>_11</td>\n",
       "    </tr>\n",
       "    <tr>\n",
       "      <th>4</th>\n",
       "      <td>2010</td>\n",
       "      <td>MU</td>\n",
       "      <td>1100056</td>\n",
       "      <td>Cerejeiras</td>\n",
       "      <td>17029</td>\n",
       "      <td>16646</td>\n",
       "      <td>RO</td>\n",
       "      <td>_11</td>\n",
       "    </tr>\n",
       "  </tbody>\n",
       "</table>\n",
       "</div>"
      ],
      "text/plain": [
       "    Ano Nível     Cód.              unidade_no  pop_total  pop_under74  UF  \\\n",
       "0  2010    MU  1100015  Alta Floresta D'Oeste       24392        23948  RO   \n",
       "1  2010    MU  1100023              Ariquemes       90353        89037  RO   \n",
       "2  2010    MU  1100031                 Cabixi        6313         6180  RO   \n",
       "3  2010    MU  1100049                 Cacoal       78574        76947  RO   \n",
       "4  2010    MU  1100056             Cerejeiras       17029        16646  RO   \n",
       "\n",
       "  uf_co  \n",
       "0   _11  \n",
       "1   _11  \n",
       "2   _11  \n",
       "3   _11  \n",
       "4   _11  "
      ]
     },
     "execution_count": 75,
     "metadata": {},
     "output_type": "execute_result"
    }
   ],
   "source": [
    "censo_pop_mun.head()"
   ]
  },
  {
   "cell_type": "code",
   "execution_count": 76,
   "metadata": {},
   "outputs": [
    {
     "data": {
      "text/html": [
       "<div>\n",
       "<style scoped>\n",
       "    .dataframe tbody tr th:only-of-type {\n",
       "        vertical-align: middle;\n",
       "    }\n",
       "\n",
       "    .dataframe tbody tr th {\n",
       "        vertical-align: top;\n",
       "    }\n",
       "\n",
       "    .dataframe thead th {\n",
       "        text-align: right;\n",
       "    }\n",
       "</style>\n",
       "<table border=\"1\" class=\"dataframe\">\n",
       "  <thead>\n",
       "    <tr style=\"text-align: right;\">\n",
       "      <th></th>\n",
       "      <th>Ano</th>\n",
       "      <th>uf_co</th>\n",
       "      <th>UF</th>\n",
       "      <th>mun_cod_sim</th>\n",
       "      <th>mun_no</th>\n",
       "      <th>pop_total</th>\n",
       "      <th>pop_under74</th>\n",
       "    </tr>\n",
       "  </thead>\n",
       "  <tbody>\n",
       "    <tr>\n",
       "      <th>0</th>\n",
       "      <td>2010</td>\n",
       "      <td>_11</td>\n",
       "      <td>RO</td>\n",
       "      <td>_110001</td>\n",
       "      <td>Alta Floresta D'Oeste</td>\n",
       "      <td>24392</td>\n",
       "      <td>23948</td>\n",
       "    </tr>\n",
       "    <tr>\n",
       "      <th>1</th>\n",
       "      <td>2010</td>\n",
       "      <td>_11</td>\n",
       "      <td>RO</td>\n",
       "      <td>_110002</td>\n",
       "      <td>Ariquemes</td>\n",
       "      <td>90353</td>\n",
       "      <td>89037</td>\n",
       "    </tr>\n",
       "    <tr>\n",
       "      <th>2</th>\n",
       "      <td>2010</td>\n",
       "      <td>_11</td>\n",
       "      <td>RO</td>\n",
       "      <td>_110003</td>\n",
       "      <td>Cabixi</td>\n",
       "      <td>6313</td>\n",
       "      <td>6180</td>\n",
       "    </tr>\n",
       "    <tr>\n",
       "      <th>3</th>\n",
       "      <td>2010</td>\n",
       "      <td>_11</td>\n",
       "      <td>RO</td>\n",
       "      <td>_110004</td>\n",
       "      <td>Cacoal</td>\n",
       "      <td>78574</td>\n",
       "      <td>76947</td>\n",
       "    </tr>\n",
       "    <tr>\n",
       "      <th>4</th>\n",
       "      <td>2010</td>\n",
       "      <td>_11</td>\n",
       "      <td>RO</td>\n",
       "      <td>_110005</td>\n",
       "      <td>Cerejeiras</td>\n",
       "      <td>17029</td>\n",
       "      <td>16646</td>\n",
       "    </tr>\n",
       "  </tbody>\n",
       "</table>\n",
       "</div>"
      ],
      "text/plain": [
       "    Ano uf_co  UF mun_cod_sim                  mun_no  pop_total  pop_under74\n",
       "0  2010   _11  RO     _110001  Alta Floresta D'Oeste       24392        23948\n",
       "1  2010   _11  RO     _110002              Ariquemes       90353        89037\n",
       "2  2010   _11  RO     _110003                 Cabixi        6313         6180\n",
       "3  2010   _11  RO     _110004                 Cacoal       78574        76947\n",
       "4  2010   _11  RO     _110005             Cerejeiras       17029        16646"
      ]
     },
     "execution_count": 76,
     "metadata": {},
     "output_type": "execute_result"
    }
   ],
   "source": [
    "# Preparar para salvar arquivo de Municipios\n",
    "censo_pop_mun01 = censo_pop_mun.copy()\n",
    "\n",
    "# Mudar o formato de mun_cod para string e extrair os primeiros 7 dígitos\n",
    "censo_pop_mun01['mun_cod_sim'] = censo_pop_mun01['Cód.'].astype(str).str[:6]\n",
    "\n",
    "# Acrescentar um '_' no início do valor da coluna mun_cod\n",
    "censo_pop_mun01['mun_cod_sim'] = '_' + censo_pop_mun01['mun_cod_sim'].astype(str)\n",
    "\n",
    "# Renomear coluna unidade_no para uf_no\n",
    "censo_pop_mun01.rename(columns={'unidade_no': 'mun_no'}, inplace=True)\n",
    "\n",
    "# Excluir colunas desnecessárias\n",
    "censo_pop_mun01.drop(columns=['Cód.','Nível'], inplace=True)\n",
    "\n",
    "# Ordenar as colunas\n",
    "censo_pop_mun01 = censo_pop_mun01[['Ano','uf_co','UF','mun_cod_sim','mun_no','pop_total','pop_under74']]\n",
    "\n",
    "censo_pop_mun01.head()"
   ]
  },
  {
   "cell_type": "markdown",
   "metadata": {},
   "source": [
    "#### Arquivo pronto - censo por municípios e por UF"
   ]
  },
  {
   "cell_type": "code",
   "execution_count": 77,
   "metadata": {},
   "outputs": [],
   "source": [
    "# Arquivo de População Censo Tratado (pronto para merge)\n",
    "censo_pop_mun01.to_parquet('files_clean/censo_pop_mun.parquet')"
   ]
  },
  {
   "cell_type": "code",
   "execution_count": 78,
   "metadata": {},
   "outputs": [],
   "source": [
    "# Salvar arquivo de População do Censo uf\n",
    "censo_pop_uf.to_parquet('files_clean/censo_pop_uf.parquet')"
   ]
  },
  {
   "cell_type": "markdown",
   "metadata": {},
   "source": [
    "## Merge de dados de CID e População no arquivo principal"
   ]
  },
  {
   "cell_type": "markdown",
   "metadata": {},
   "source": [
    "### Merge de dados de CID"
   ]
  },
  {
   "cell_type": "code",
   "execution_count": 19,
   "metadata": {},
   "outputs": [
    {
     "name": "stdout",
     "output_type": "stream",
     "text": [
      "<class 'pandas.core.frame.DataFrame'>\n",
      "RangeIndex: 346 entries, 0 to 345\n",
      "Data columns (total 8 columns):\n",
      " #   Column                   Non-Null Count  Dtype \n",
      "---  ------                   --------------  ----- \n",
      " 0   avoid_flag               346 non-null    object\n",
      " 1   prevent_flag             189 non-null    object\n",
      " 2   treat_flag               184 non-null    object\n",
      " 3   Group                    346 non-null    object\n",
      " 4   Causes of deaths         346 non-null    object\n",
      " 5   Rationale for inclusion  346 non-null    object\n",
      " 6   Range                    346 non-null    object\n",
      " 7   cid_pai                  346 non-null    object\n",
      "dtypes: object(8)\n",
      "memory usage: 21.8+ KB\n"
     ]
    }
   ],
   "source": [
    "ocde_evit = pd.read_csv('downloads_outros/cid10_evit_ocde.csv')\n",
    "ocde_evit.info()"
   ]
  },
  {
   "cell_type": "code",
   "execution_count": 20,
   "metadata": {
    "vscode": {
     "languageId": "powershell"
    }
   },
   "outputs": [
    {
     "name": "stdout",
     "output_type": "stream",
     "text": [
      "<class 'pandas.core.frame.DataFrame'>\n",
      "RangeIndex: 11895 entries, 0 to 11894\n",
      "Data columns (total 1 columns):\n",
      " #   Column    Non-Null Count  Dtype \n",
      "---  ------    --------------  ----- \n",
      " 0   CAUSABAS  11895 non-null  object\n",
      "dtypes: object(1)\n",
      "memory usage: 93.1+ KB\n"
     ]
    }
   ],
   "source": [
    "# Gerar nova tabela com valores únicos de CAUSABAS\n",
    "dobr_4merged = pd.read_parquet('files_clean/dobr_clean_2010_19a22.parquet')\n",
    "causas_unicas = dobr_4merged['CAUSABAS'].unique()\n",
    "\n",
    "# Converter para DataFrame\n",
    "df_causas_unicas = pd.DataFrame(causas_unicas, columns=['CAUSABAS'])\n",
    "\n",
    "# Exibir as primeiras linhas do DataFrame\n",
    "df_causas_unicas.info()"
   ]
  },
  {
   "cell_type": "code",
   "execution_count": 21,
   "metadata": {},
   "outputs": [
    {
     "name": "stdout",
     "output_type": "stream",
     "text": [
      "       CAUSABAS        classificacao\n",
      "0          I219  Avoidable mortality\n",
      "1          I10   Avoidable mortality\n",
      "2          X700  Avoidable mortality\n",
      "3          C539   causa não evitável\n",
      "4          V220  Avoidable mortality\n",
      "...         ...                  ...\n",
      "11890  W041      Avoidable mortality\n",
      "11891  V155      Avoidable mortality\n",
      "11892  R456       causa não evitável\n",
      "11893  L303       causa não evitável\n",
      "11894  D040       causa não evitável\n",
      "\n",
      "[11895 rows x 2 columns]\n"
     ]
    }
   ],
   "source": [
    "# Fazer merge da lista de causas_unicas com a lista de causas evitáveis\n",
    "\n",
    "df_a = df_causas_unicas\n",
    "column_a = 'CAUSABAS'\n",
    "df_b = ocde_evit\n",
    "column_b = 'cid_pai'\n",
    "column_return = 'avoid_flag'\n",
    "\n",
    "\n",
    "\n",
    "# Função para verificar a correspondência e retornar a classificação\n",
    "def verificar_correspondencia(row):\n",
    "    for index, row_b in df_b.iterrows():\n",
    "        if row[column_a].startswith(row_b[column_b]):\n",
    "            return row_b[column_return]\n",
    "    return 'causa não evitável'\n",
    "\n",
    "# Aplicando a função a cada linha do DataFrame A\n",
    "df_a['classificacao'] = df_a.apply(verificar_correspondencia, axis=1)\n",
    "\n",
    "print(df_a)"
   ]
  },
  {
   "cell_type": "code",
   "execution_count": 22,
   "metadata": {},
   "outputs": [
    {
     "data": {
      "text/html": [
       "<div>\n",
       "<style scoped>\n",
       "    .dataframe tbody tr th:only-of-type {\n",
       "        vertical-align: middle;\n",
       "    }\n",
       "\n",
       "    .dataframe tbody tr th {\n",
       "        vertical-align: top;\n",
       "    }\n",
       "\n",
       "    .dataframe thead th {\n",
       "        text-align: right;\n",
       "    }\n",
       "</style>\n",
       "<table border=\"1\" class=\"dataframe\">\n",
       "  <thead>\n",
       "    <tr style=\"text-align: right;\">\n",
       "      <th></th>\n",
       "      <th>CAUSABAS</th>\n",
       "      <th>CODMUNRES</th>\n",
       "      <th>IDADE</th>\n",
       "      <th>ANO_OBITO</th>\n",
       "      <th>classificacao</th>\n",
       "    </tr>\n",
       "  </thead>\n",
       "  <tbody>\n",
       "    <tr>\n",
       "      <th>0</th>\n",
       "      <td>I219</td>\n",
       "      <td>_292740</td>\n",
       "      <td>62</td>\n",
       "      <td>_2019</td>\n",
       "      <td>Avoidable mortality</td>\n",
       "    </tr>\n",
       "    <tr>\n",
       "      <th>1</th>\n",
       "      <td>I10</td>\n",
       "      <td>_355100</td>\n",
       "      <td>68</td>\n",
       "      <td>_2019</td>\n",
       "      <td>Avoidable mortality</td>\n",
       "    </tr>\n",
       "    <tr>\n",
       "      <th>2</th>\n",
       "      <td>X700</td>\n",
       "      <td>_500630</td>\n",
       "      <td>60</td>\n",
       "      <td>_2019</td>\n",
       "      <td>Avoidable mortality</td>\n",
       "    </tr>\n",
       "    <tr>\n",
       "      <th>3</th>\n",
       "      <td>C539</td>\n",
       "      <td>_500500</td>\n",
       "      <td>53</td>\n",
       "      <td>_2019</td>\n",
       "      <td>causa não evitável</td>\n",
       "    </tr>\n",
       "    <tr>\n",
       "      <th>4</th>\n",
       "      <td>V220</td>\n",
       "      <td>_500627</td>\n",
       "      <td>18</td>\n",
       "      <td>_2019</td>\n",
       "      <td>Avoidable mortality</td>\n",
       "    </tr>\n",
       "  </tbody>\n",
       "</table>\n",
       "</div>"
      ],
      "text/plain": [
       "  CAUSABAS CODMUNRES  IDADE ANO_OBITO        classificacao\n",
       "0     I219   _292740     62     _2019  Avoidable mortality\n",
       "1     I10    _355100     68     _2019  Avoidable mortality\n",
       "2     X700   _500630     60     _2019  Avoidable mortality\n",
       "3     C539   _500500     53     _2019   causa não evitável\n",
       "4     V220   _500627     18     _2019  Avoidable mortality"
      ]
     },
     "execution_count": 22,
     "metadata": {},
     "output_type": "execute_result"
    }
   ],
   "source": [
    "# Merge dobr_merged_pop_clean and df_a by CAUSABAS\n",
    "dobr_merged = pd.merge(dobr_4merged, df_a, on='CAUSABAS', how='left')\n",
    "\n",
    "# Display the first few rows of the merged dataframe\n",
    "dobr_merged.head()"
   ]
  },
  {
   "cell_type": "code",
   "execution_count": 23,
   "metadata": {},
   "outputs": [
    {
     "data": {
      "text/html": [
       "<div>\n",
       "<style scoped>\n",
       "    .dataframe tbody tr th:only-of-type {\n",
       "        vertical-align: middle;\n",
       "    }\n",
       "\n",
       "    .dataframe tbody tr th {\n",
       "        vertical-align: top;\n",
       "    }\n",
       "\n",
       "    .dataframe thead th {\n",
       "        text-align: right;\n",
       "    }\n",
       "</style>\n",
       "<table border=\"1\" class=\"dataframe\">\n",
       "  <thead>\n",
       "    <tr style=\"text-align: right;\">\n",
       "      <th></th>\n",
       "      <th>CAUSABAS</th>\n",
       "      <th>CODMUNRES</th>\n",
       "      <th>IDADE</th>\n",
       "      <th>ANO_OBITO</th>\n",
       "    </tr>\n",
       "    <tr>\n",
       "      <th>classificacao</th>\n",
       "      <th></th>\n",
       "      <th></th>\n",
       "      <th></th>\n",
       "      <th></th>\n",
       "    </tr>\n",
       "  </thead>\n",
       "  <tbody>\n",
       "    <tr>\n",
       "      <th>Avoidable mortality</th>\n",
       "      <td>2537888</td>\n",
       "      <td>2537888</td>\n",
       "      <td>2537888</td>\n",
       "      <td>2537888</td>\n",
       "    </tr>\n",
       "    <tr>\n",
       "      <th>causa não evitável</th>\n",
       "      <td>1909034</td>\n",
       "      <td>1909034</td>\n",
       "      <td>1909034</td>\n",
       "      <td>1909034</td>\n",
       "    </tr>\n",
       "  </tbody>\n",
       "</table>\n",
       "</div>"
      ],
      "text/plain": [
       "                     CAUSABAS  CODMUNRES    IDADE  ANO_OBITO\n",
       "classificacao                                               \n",
       "Avoidable mortality   2537888    2537888  2537888    2537888\n",
       "causa não evitável    1909034    1909034  1909034    1909034"
      ]
     },
     "execution_count": 23,
     "metadata": {},
     "output_type": "execute_result"
    }
   ],
   "source": [
    "# Mostrar resultados de classificacao\n",
    "dobr_merged.groupby('classificacao').count()"
   ]
  },
  {
   "cell_type": "code",
   "execution_count": 25,
   "metadata": {},
   "outputs": [],
   "source": [
    "# Manter na base só dados de CID evitáveis\n",
    "dobr_merged_partial = dobr_merged[dobr_merged['classificacao']=='Avoidable mortality']\n"
   ]
  },
  {
   "cell_type": "markdown",
   "metadata": {},
   "source": [
    "#### Resultados do merge de cid_avoid e dobr"
   ]
  },
  {
   "cell_type": "code",
   "execution_count": 26,
   "metadata": {},
   "outputs": [],
   "source": [
    "# Salvar arquivo final de DOBR\n",
    "dobr_merged_partial.to_parquet('files_clean/dobr_merged_partial_v2.parquet')\n"
   ]
  },
  {
   "cell_type": "code",
   "execution_count": 141,
   "metadata": {},
   "outputs": [
    {
     "name": "stdout",
     "output_type": "stream",
     "text": [
      "\u001b[33m ==> O número de óbitos após a limpeza e que constituía a base de dados de DO era de 4446922 óbitos \u001b[0m\n",
      "\u001b[33m ==> O número de registros excluídos por apresentar CIDs NÃO EVITÁVEIS foi de 1909034 óbitos \u001b[0m\n",
      "\u001b[33m ==> O número de óbitos por CID EVITÁVEIS é de 2537888 óbitos \u001b[0m\n"
     ]
    }
   ],
   "source": [
    "# Contador\n",
    "\n",
    "shape_origin = dobr_4merged.CAUSABAS.count()\n",
    "shape_filt = dobr_merged_partial.CAUSABAS.count()\n",
    "dif = shape_origin - shape_filt\n",
    "\n",
    "\n",
    "print(f\"\\033[33m ==> O número de óbitos após a limpeza e que constituía a base de dados de DO era de {shape_origin} óbitos \\033[0m\")\n",
    "print(f\"\\033[33m ==> O número de registros excluídos por apresentar CIDs NÃO EVITÁVEIS foi de {dif} óbitos \\033[0m\")\n",
    "print(f\"\\033[33m ==> O número de óbitos por CID EVITÁVEIS é de {shape_filt} óbitos \\033[0m\")"
   ]
  },
  {
   "cell_type": "markdown",
   "metadata": {},
   "source": [
    "### Merge de dados de Municípios ao arquivo principal do SIM\n",
    "\n",
    "Serão utilizados os arquivos:\n",
    "\n",
    "* população: 'files_clean/censo_pop_clean.csv'\n",
    "\n",
    "* sim: 'files_clean/dobr_clean.csv'\n",
    "\n",
    "Como a população está clivada em Município, Idade (previamente, todos abaixo de 75 anos), Sexo e Raça, estes campos serão utilizados de maneira conjunta para realizar o merge."
   ]
  },
  {
   "cell_type": "code",
   "execution_count": 142,
   "metadata": {},
   "outputs": [
    {
     "name": "stdout",
     "output_type": "stream",
     "text": [
      "<class 'pandas.core.frame.DataFrame'>\n",
      "RangeIndex: 11140 entries, 0 to 11139\n",
      "Data columns (total 7 columns):\n",
      " #   Column       Non-Null Count  Dtype \n",
      "---  ------       --------------  ----- \n",
      " 0   Ano          11140 non-null  object\n",
      " 1   uf_co        11140 non-null  object\n",
      " 2   UF           11140 non-null  object\n",
      " 3   mun_cod_sim  11140 non-null  object\n",
      " 4   mun_no       11140 non-null  object\n",
      " 5   pop_total    11140 non-null  int64 \n",
      " 6   pop_under74  11140 non-null  int64 \n",
      "dtypes: int64(2), object(5)\n",
      "memory usage: 609.3+ KB\n"
     ]
    }
   ],
   "source": [
    "# Verificar colunas de população no arquivo censo_pop_clean\n",
    "censo_pop_mun_4merge = pd.read_parquet('files_clean/censo_pop_mun.parquet')\n",
    "censo_pop_mun_4merge.info()"
   ]
  },
  {
   "cell_type": "code",
   "execution_count": 143,
   "metadata": {},
   "outputs": [
    {
     "data": {
      "text/html": [
       "<div>\n",
       "<style scoped>\n",
       "    .dataframe tbody tr th:only-of-type {\n",
       "        vertical-align: middle;\n",
       "    }\n",
       "\n",
       "    .dataframe tbody tr th {\n",
       "        vertical-align: top;\n",
       "    }\n",
       "\n",
       "    .dataframe thead th {\n",
       "        text-align: right;\n",
       "    }\n",
       "</style>\n",
       "<table border=\"1\" class=\"dataframe\">\n",
       "  <thead>\n",
       "    <tr style=\"text-align: right;\">\n",
       "      <th></th>\n",
       "      <th>Ano</th>\n",
       "      <th>uf_co</th>\n",
       "      <th>UF</th>\n",
       "      <th>mun_cod_sim</th>\n",
       "      <th>mun_no</th>\n",
       "      <th>pop_total</th>\n",
       "      <th>pop_under74</th>\n",
       "    </tr>\n",
       "  </thead>\n",
       "  <tbody>\n",
       "    <tr>\n",
       "      <th>0</th>\n",
       "      <td>2010</td>\n",
       "      <td>_11</td>\n",
       "      <td>RO</td>\n",
       "      <td>_110001</td>\n",
       "      <td>Alta Floresta D'Oeste</td>\n",
       "      <td>24392</td>\n",
       "      <td>23948</td>\n",
       "    </tr>\n",
       "    <tr>\n",
       "      <th>1</th>\n",
       "      <td>2010</td>\n",
       "      <td>_11</td>\n",
       "      <td>RO</td>\n",
       "      <td>_110002</td>\n",
       "      <td>Ariquemes</td>\n",
       "      <td>90353</td>\n",
       "      <td>89037</td>\n",
       "    </tr>\n",
       "    <tr>\n",
       "      <th>2</th>\n",
       "      <td>2010</td>\n",
       "      <td>_11</td>\n",
       "      <td>RO</td>\n",
       "      <td>_110003</td>\n",
       "      <td>Cabixi</td>\n",
       "      <td>6313</td>\n",
       "      <td>6180</td>\n",
       "    </tr>\n",
       "    <tr>\n",
       "      <th>3</th>\n",
       "      <td>2010</td>\n",
       "      <td>_11</td>\n",
       "      <td>RO</td>\n",
       "      <td>_110004</td>\n",
       "      <td>Cacoal</td>\n",
       "      <td>78574</td>\n",
       "      <td>76947</td>\n",
       "    </tr>\n",
       "    <tr>\n",
       "      <th>4</th>\n",
       "      <td>2010</td>\n",
       "      <td>_11</td>\n",
       "      <td>RO</td>\n",
       "      <td>_110005</td>\n",
       "      <td>Cerejeiras</td>\n",
       "      <td>17029</td>\n",
       "      <td>16646</td>\n",
       "    </tr>\n",
       "  </tbody>\n",
       "</table>\n",
       "</div>"
      ],
      "text/plain": [
       "    Ano uf_co  UF mun_cod_sim                  mun_no  pop_total  pop_under74\n",
       "0  2010   _11  RO     _110001  Alta Floresta D'Oeste       24392        23948\n",
       "1  2010   _11  RO     _110002              Ariquemes       90353        89037\n",
       "2  2010   _11  RO     _110003                 Cabixi        6313         6180\n",
       "3  2010   _11  RO     _110004                 Cacoal       78574        76947\n",
       "4  2010   _11  RO     _110005             Cerejeiras       17029        16646"
      ]
     },
     "execution_count": 143,
     "metadata": {},
     "output_type": "execute_result"
    }
   ],
   "source": [
    "censo_pop_mun_4merge.head()"
   ]
  },
  {
   "cell_type": "code",
   "execution_count": 144,
   "metadata": {},
   "outputs": [
    {
     "data": {
      "text/html": [
       "<div>\n",
       "<style scoped>\n",
       "    .dataframe tbody tr th:only-of-type {\n",
       "        vertical-align: middle;\n",
       "    }\n",
       "\n",
       "    .dataframe tbody tr th {\n",
       "        vertical-align: top;\n",
       "    }\n",
       "\n",
       "    .dataframe thead th {\n",
       "        text-align: right;\n",
       "    }\n",
       "</style>\n",
       "<table border=\"1\" class=\"dataframe\">\n",
       "  <thead>\n",
       "    <tr style=\"text-align: right;\">\n",
       "      <th></th>\n",
       "      <th>Ano</th>\n",
       "      <th>uf_co</th>\n",
       "      <th>UF</th>\n",
       "      <th>mun_cod_sim</th>\n",
       "      <th>mun_no</th>\n",
       "      <th>pop_total</th>\n",
       "      <th>pop_under74</th>\n",
       "      <th>POP_MERGE</th>\n",
       "    </tr>\n",
       "  </thead>\n",
       "  <tbody>\n",
       "    <tr>\n",
       "      <th>0</th>\n",
       "      <td>2010</td>\n",
       "      <td>_11</td>\n",
       "      <td>RO</td>\n",
       "      <td>_110001</td>\n",
       "      <td>Alta Floresta D'Oeste</td>\n",
       "      <td>24392</td>\n",
       "      <td>23948</td>\n",
       "      <td>_2010_110001</td>\n",
       "    </tr>\n",
       "    <tr>\n",
       "      <th>1</th>\n",
       "      <td>2010</td>\n",
       "      <td>_11</td>\n",
       "      <td>RO</td>\n",
       "      <td>_110002</td>\n",
       "      <td>Ariquemes</td>\n",
       "      <td>90353</td>\n",
       "      <td>89037</td>\n",
       "      <td>_2010_110002</td>\n",
       "    </tr>\n",
       "    <tr>\n",
       "      <th>2</th>\n",
       "      <td>2010</td>\n",
       "      <td>_11</td>\n",
       "      <td>RO</td>\n",
       "      <td>_110003</td>\n",
       "      <td>Cabixi</td>\n",
       "      <td>6313</td>\n",
       "      <td>6180</td>\n",
       "      <td>_2010_110003</td>\n",
       "    </tr>\n",
       "    <tr>\n",
       "      <th>3</th>\n",
       "      <td>2010</td>\n",
       "      <td>_11</td>\n",
       "      <td>RO</td>\n",
       "      <td>_110004</td>\n",
       "      <td>Cacoal</td>\n",
       "      <td>78574</td>\n",
       "      <td>76947</td>\n",
       "      <td>_2010_110004</td>\n",
       "    </tr>\n",
       "    <tr>\n",
       "      <th>4</th>\n",
       "      <td>2010</td>\n",
       "      <td>_11</td>\n",
       "      <td>RO</td>\n",
       "      <td>_110005</td>\n",
       "      <td>Cerejeiras</td>\n",
       "      <td>17029</td>\n",
       "      <td>16646</td>\n",
       "      <td>_2010_110005</td>\n",
       "    </tr>\n",
       "  </tbody>\n",
       "</table>\n",
       "</div>"
      ],
      "text/plain": [
       "    Ano uf_co  UF mun_cod_sim                  mun_no  pop_total  pop_under74  \\\n",
       "0  2010   _11  RO     _110001  Alta Floresta D'Oeste       24392        23948   \n",
       "1  2010   _11  RO     _110002              Ariquemes       90353        89037   \n",
       "2  2010   _11  RO     _110003                 Cabixi        6313         6180   \n",
       "3  2010   _11  RO     _110004                 Cacoal       78574        76947   \n",
       "4  2010   _11  RO     _110005             Cerejeiras       17029        16646   \n",
       "\n",
       "      POP_MERGE  \n",
       "0  _2010_110001  \n",
       "1  _2010_110002  \n",
       "2  _2010_110003  \n",
       "3  _2010_110004  \n",
       "4  _2010_110005  "
      ]
     },
     "execution_count": 144,
     "metadata": {},
     "output_type": "execute_result"
    }
   ],
   "source": [
    "# Criar um campo string que concatene ANO, CODMUN_SIM, Sexo e cor\n",
    "censo_pop_mun_4merge['POP_MERGE'] = '_' + censo_pop_mun_4merge['Ano'].astype(str) + censo_pop_mun_4merge['mun_cod_sim']\n",
    "censo_pop_mun_4merge.head()"
   ]
  },
  {
   "cell_type": "code",
   "execution_count": 146,
   "metadata": {},
   "outputs": [
    {
     "name": "stdout",
     "output_type": "stream",
     "text": [
      "Series([], Name: count, dtype: int64)\n"
     ]
    }
   ],
   "source": [
    "# Contar quantos valores são repetidos na coluna 'POP_MERGE'\n",
    "repeated_values = censo_pop_mun_4merge['POP_MERGE'].value_counts()\n",
    "\n",
    "# Filtrar os valores que aparecem mais de uma vez\n",
    "repeated_more_than_once = repeated_values[repeated_values > 1]\n",
    "\n",
    "# Exibir os valores repetidos\n",
    "print(repeated_more_than_once)"
   ]
  },
  {
   "cell_type": "code",
   "execution_count": 147,
   "metadata": {},
   "outputs": [
    {
     "data": {
      "text/html": [
       "<div>\n",
       "<style scoped>\n",
       "    .dataframe tbody tr th:only-of-type {\n",
       "        vertical-align: middle;\n",
       "    }\n",
       "\n",
       "    .dataframe tbody tr th {\n",
       "        vertical-align: top;\n",
       "    }\n",
       "\n",
       "    .dataframe thead th {\n",
       "        text-align: right;\n",
       "    }\n",
       "</style>\n",
       "<table border=\"1\" class=\"dataframe\">\n",
       "  <thead>\n",
       "    <tr style=\"text-align: right;\">\n",
       "      <th></th>\n",
       "      <th>CAUSABAS</th>\n",
       "      <th>CODMUNRES</th>\n",
       "      <th>IDADE</th>\n",
       "      <th>ANO_OBITO</th>\n",
       "      <th>classificacao</th>\n",
       "    </tr>\n",
       "  </thead>\n",
       "  <tbody>\n",
       "    <tr>\n",
       "      <th>0</th>\n",
       "      <td>I219</td>\n",
       "      <td>_292740</td>\n",
       "      <td>62</td>\n",
       "      <td>_2019</td>\n",
       "      <td>Avoidable mortality</td>\n",
       "    </tr>\n",
       "    <tr>\n",
       "      <th>1</th>\n",
       "      <td>I10</td>\n",
       "      <td>_355100</td>\n",
       "      <td>68</td>\n",
       "      <td>_2019</td>\n",
       "      <td>Avoidable mortality</td>\n",
       "    </tr>\n",
       "    <tr>\n",
       "      <th>2</th>\n",
       "      <td>X700</td>\n",
       "      <td>_500630</td>\n",
       "      <td>60</td>\n",
       "      <td>_2019</td>\n",
       "      <td>Avoidable mortality</td>\n",
       "    </tr>\n",
       "    <tr>\n",
       "      <th>4</th>\n",
       "      <td>V220</td>\n",
       "      <td>_500627</td>\n",
       "      <td>18</td>\n",
       "      <td>_2019</td>\n",
       "      <td>Avoidable mortality</td>\n",
       "    </tr>\n",
       "    <tr>\n",
       "      <th>5</th>\n",
       "      <td>W019</td>\n",
       "      <td>_500325</td>\n",
       "      <td>58</td>\n",
       "      <td>_2019</td>\n",
       "      <td>Avoidable mortality</td>\n",
       "    </tr>\n",
       "  </tbody>\n",
       "</table>\n",
       "</div>"
      ],
      "text/plain": [
       "  CAUSABAS CODMUNRES  IDADE ANO_OBITO        classificacao\n",
       "0     I219   _292740     62     _2019  Avoidable mortality\n",
       "1     I10    _355100     68     _2019  Avoidable mortality\n",
       "2     X700   _500630     60     _2019  Avoidable mortality\n",
       "4     V220   _500627     18     _2019  Avoidable mortality\n",
       "5     W019   _500325     58     _2019  Avoidable mortality"
      ]
     },
     "execution_count": 147,
     "metadata": {},
     "output_type": "execute_result"
    }
   ],
   "source": [
    "# Exibir arquivo dobr_clean\n",
    "dobr_4merged2 = pd.read_parquet('files_clean/dobr_merged_partial_v2.parquet')\n",
    "dobr_4merged2.head()\n"
   ]
  },
  {
   "cell_type": "code",
   "execution_count": null,
   "metadata": {},
   "outputs": [],
   "source": [
    "# Gerar um campo de ano para proxy de 2022"
   ]
  },
  {
   "cell_type": "code",
   "execution_count": 148,
   "metadata": {},
   "outputs": [
    {
     "data": {
      "text/html": [
       "<div>\n",
       "<style scoped>\n",
       "    .dataframe tbody tr th:only-of-type {\n",
       "        vertical-align: middle;\n",
       "    }\n",
       "\n",
       "    .dataframe tbody tr th {\n",
       "        vertical-align: top;\n",
       "    }\n",
       "\n",
       "    .dataframe thead th {\n",
       "        text-align: right;\n",
       "    }\n",
       "</style>\n",
       "<table border=\"1\" class=\"dataframe\">\n",
       "  <thead>\n",
       "    <tr style=\"text-align: right;\">\n",
       "      <th></th>\n",
       "      <th>CAUSABAS</th>\n",
       "      <th>CODMUNRES</th>\n",
       "      <th>IDADE</th>\n",
       "      <th>ANO_OBITO</th>\n",
       "      <th>classificacao</th>\n",
       "      <th>ANO_PROXY</th>\n",
       "    </tr>\n",
       "  </thead>\n",
       "  <tbody>\n",
       "    <tr>\n",
       "      <th>0</th>\n",
       "      <td>I219</td>\n",
       "      <td>_292740</td>\n",
       "      <td>62</td>\n",
       "      <td>_2019</td>\n",
       "      <td>Avoidable mortality</td>\n",
       "      <td>_2022</td>\n",
       "    </tr>\n",
       "    <tr>\n",
       "      <th>1</th>\n",
       "      <td>I10</td>\n",
       "      <td>_355100</td>\n",
       "      <td>68</td>\n",
       "      <td>_2019</td>\n",
       "      <td>Avoidable mortality</td>\n",
       "      <td>_2022</td>\n",
       "    </tr>\n",
       "    <tr>\n",
       "      <th>2</th>\n",
       "      <td>X700</td>\n",
       "      <td>_500630</td>\n",
       "      <td>60</td>\n",
       "      <td>_2019</td>\n",
       "      <td>Avoidable mortality</td>\n",
       "      <td>_2022</td>\n",
       "    </tr>\n",
       "    <tr>\n",
       "      <th>4</th>\n",
       "      <td>V220</td>\n",
       "      <td>_500627</td>\n",
       "      <td>18</td>\n",
       "      <td>_2019</td>\n",
       "      <td>Avoidable mortality</td>\n",
       "      <td>_2022</td>\n",
       "    </tr>\n",
       "    <tr>\n",
       "      <th>5</th>\n",
       "      <td>W019</td>\n",
       "      <td>_500325</td>\n",
       "      <td>58</td>\n",
       "      <td>_2019</td>\n",
       "      <td>Avoidable mortality</td>\n",
       "      <td>_2022</td>\n",
       "    </tr>\n",
       "  </tbody>\n",
       "</table>\n",
       "</div>"
      ],
      "text/plain": [
       "  CAUSABAS CODMUNRES  IDADE ANO_OBITO        classificacao ANO_PROXY\n",
       "0     I219   _292740     62     _2019  Avoidable mortality     _2022\n",
       "1     I10    _355100     68     _2019  Avoidable mortality     _2022\n",
       "2     X700   _500630     60     _2019  Avoidable mortality     _2022\n",
       "4     V220   _500627     18     _2019  Avoidable mortality     _2022\n",
       "5     W019   _500325     58     _2019  Avoidable mortality     _2022"
      ]
     },
     "execution_count": 148,
     "metadata": {},
     "output_type": "execute_result"
    }
   ],
   "source": [
    "dobr_4merged2['ANO_PROXY'] = dobr_4merged2['ANO_OBITO'].apply(lambda x: '_2010' if x == '_2010' else '_2022')\n",
    "dobr_4merged2.head()"
   ]
  },
  {
   "cell_type": "code",
   "execution_count": 149,
   "metadata": {},
   "outputs": [
    {
     "data": {
      "text/html": [
       "<div>\n",
       "<style scoped>\n",
       "    .dataframe tbody tr th:only-of-type {\n",
       "        vertical-align: middle;\n",
       "    }\n",
       "\n",
       "    .dataframe tbody tr th {\n",
       "        vertical-align: top;\n",
       "    }\n",
       "\n",
       "    .dataframe thead th {\n",
       "        text-align: right;\n",
       "    }\n",
       "</style>\n",
       "<table border=\"1\" class=\"dataframe\">\n",
       "  <thead>\n",
       "    <tr style=\"text-align: right;\">\n",
       "      <th></th>\n",
       "      <th>CAUSABAS</th>\n",
       "      <th>CODMUNRES</th>\n",
       "      <th>IDADE</th>\n",
       "      <th>ANO_OBITO</th>\n",
       "      <th>classificacao</th>\n",
       "      <th>ANO_PROXY</th>\n",
       "      <th>POP_MERGE</th>\n",
       "    </tr>\n",
       "  </thead>\n",
       "  <tbody>\n",
       "    <tr>\n",
       "      <th>0</th>\n",
       "      <td>I219</td>\n",
       "      <td>_292740</td>\n",
       "      <td>62</td>\n",
       "      <td>_2019</td>\n",
       "      <td>Avoidable mortality</td>\n",
       "      <td>_2022</td>\n",
       "      <td>_2022_292740</td>\n",
       "    </tr>\n",
       "    <tr>\n",
       "      <th>1</th>\n",
       "      <td>I10</td>\n",
       "      <td>_355100</td>\n",
       "      <td>68</td>\n",
       "      <td>_2019</td>\n",
       "      <td>Avoidable mortality</td>\n",
       "      <td>_2022</td>\n",
       "      <td>_2022_355100</td>\n",
       "    </tr>\n",
       "    <tr>\n",
       "      <th>2</th>\n",
       "      <td>X700</td>\n",
       "      <td>_500630</td>\n",
       "      <td>60</td>\n",
       "      <td>_2019</td>\n",
       "      <td>Avoidable mortality</td>\n",
       "      <td>_2022</td>\n",
       "      <td>_2022_500630</td>\n",
       "    </tr>\n",
       "    <tr>\n",
       "      <th>4</th>\n",
       "      <td>V220</td>\n",
       "      <td>_500627</td>\n",
       "      <td>18</td>\n",
       "      <td>_2019</td>\n",
       "      <td>Avoidable mortality</td>\n",
       "      <td>_2022</td>\n",
       "      <td>_2022_500627</td>\n",
       "    </tr>\n",
       "    <tr>\n",
       "      <th>5</th>\n",
       "      <td>W019</td>\n",
       "      <td>_500325</td>\n",
       "      <td>58</td>\n",
       "      <td>_2019</td>\n",
       "      <td>Avoidable mortality</td>\n",
       "      <td>_2022</td>\n",
       "      <td>_2022_500325</td>\n",
       "    </tr>\n",
       "  </tbody>\n",
       "</table>\n",
       "</div>"
      ],
      "text/plain": [
       "  CAUSABAS CODMUNRES  IDADE ANO_OBITO        classificacao ANO_PROXY  \\\n",
       "0     I219   _292740     62     _2019  Avoidable mortality     _2022   \n",
       "1     I10    _355100     68     _2019  Avoidable mortality     _2022   \n",
       "2     X700   _500630     60     _2019  Avoidable mortality     _2022   \n",
       "4     V220   _500627     18     _2019  Avoidable mortality     _2022   \n",
       "5     W019   _500325     58     _2019  Avoidable mortality     _2022   \n",
       "\n",
       "      POP_MERGE  \n",
       "0  _2022_292740  \n",
       "1  _2022_355100  \n",
       "2  _2022_500630  \n",
       "4  _2022_500627  \n",
       "5  _2022_500325  "
      ]
     },
     "execution_count": 149,
     "metadata": {},
     "output_type": "execute_result"
    }
   ],
   "source": [
    "# Criar um campo string que concatene ANO, CODMUNRES, SEXO e RACACOR\n",
    "dobr_4merged2['POP_MERGE'] = dobr_4merged2['ANO_PROXY'].astype(str) + dobr_4merged2['CODMUNRES']\n",
    "\n",
    "dobr_4merged2.head()"
   ]
  },
  {
   "cell_type": "code",
   "execution_count": 150,
   "metadata": {},
   "outputs": [
    {
     "data": {
      "text/plain": [
       "Index(['CAUSABAS', 'CODMUNRES', 'IDADE', 'ANO_OBITO', 'classificacao',\n",
       "       'ANO_PROXY', 'POP_MERGE'],\n",
       "      dtype='object')"
      ]
     },
     "execution_count": 150,
     "metadata": {},
     "output_type": "execute_result"
    }
   ],
   "source": [
    "dobr_4merged2.columns"
   ]
  },
  {
   "cell_type": "markdown",
   "metadata": {},
   "source": [
    "########## Este bloco de código a seguir retira o CAUSABAS"
   ]
  },
  {
   "cell_type": "code",
   "execution_count": 151,
   "metadata": {
    "vscode": {
     "languageId": "shellscript"
    }
   },
   "outputs": [
    {
     "data": {
      "text/html": [
       "<div>\n",
       "<style scoped>\n",
       "    .dataframe tbody tr th:only-of-type {\n",
       "        vertical-align: middle;\n",
       "    }\n",
       "\n",
       "    .dataframe tbody tr th {\n",
       "        vertical-align: top;\n",
       "    }\n",
       "\n",
       "    .dataframe thead th {\n",
       "        text-align: right;\n",
       "    }\n",
       "</style>\n",
       "<table border=\"1\" class=\"dataframe\">\n",
       "  <thead>\n",
       "    <tr style=\"text-align: right;\">\n",
       "      <th></th>\n",
       "      <th>CODMUNRES</th>\n",
       "      <th>ANO_OBITO</th>\n",
       "      <th>POP_MERGE</th>\n",
       "      <th>CONTADOR</th>\n",
       "    </tr>\n",
       "  </thead>\n",
       "  <tbody>\n",
       "    <tr>\n",
       "      <th>0</th>\n",
       "      <td>_110000</td>\n",
       "      <td>_2010</td>\n",
       "      <td>_2010_110000</td>\n",
       "      <td>20</td>\n",
       "    </tr>\n",
       "    <tr>\n",
       "      <th>1</th>\n",
       "      <td>_110000</td>\n",
       "      <td>_2019</td>\n",
       "      <td>_2022_110000</td>\n",
       "      <td>9</td>\n",
       "    </tr>\n",
       "    <tr>\n",
       "      <th>2</th>\n",
       "      <td>_110000</td>\n",
       "      <td>_2020</td>\n",
       "      <td>_2022_110000</td>\n",
       "      <td>7</td>\n",
       "    </tr>\n",
       "    <tr>\n",
       "      <th>3</th>\n",
       "      <td>_110000</td>\n",
       "      <td>_2021</td>\n",
       "      <td>_2022_110000</td>\n",
       "      <td>4</td>\n",
       "    </tr>\n",
       "    <tr>\n",
       "      <th>4</th>\n",
       "      <td>_110000</td>\n",
       "      <td>_2022</td>\n",
       "      <td>_2022_110000</td>\n",
       "      <td>6</td>\n",
       "    </tr>\n",
       "  </tbody>\n",
       "</table>\n",
       "</div>"
      ],
      "text/plain": [
       "  CODMUNRES ANO_OBITO     POP_MERGE  CONTADOR\n",
       "0   _110000     _2010  _2010_110000        20\n",
       "1   _110000     _2019  _2022_110000         9\n",
       "2   _110000     _2020  _2022_110000         7\n",
       "3   _110000     _2021  _2022_110000         4\n",
       "4   _110000     _2022  _2022_110000         6"
      ]
     },
     "execution_count": 151,
     "metadata": {},
     "output_type": "execute_result"
    }
   ],
   "source": [
    "# Agrupar por POP_MERGE e somar os registros, não contabilizando mais por CAUSABAS\n",
    "\n",
    "col_group= [\n",
    "            # 'CAUSABAS', \n",
    "            'CODMUNRES', 'ANO_OBITO','POP_MERGE']\n",
    "dobr_grouped = dobr_4merged2.groupby(col_group)['CAUSABAS'].count().reset_index()\n",
    "\n",
    "# Renomear o campo CAUSABAS para CONTADOR\n",
    "dobr_grouped.rename(columns={'CAUSABAS':'CONTADOR'}, inplace=True)\n",
    "\n",
    "# Exibir as primeiras linhas do dataframe resultante\n",
    "dobr_grouped.head()"
   ]
  },
  {
   "cell_type": "code",
   "execution_count": 152,
   "metadata": {
    "vscode": {
     "languageId": "shellscript"
    }
   },
   "outputs": [
    {
     "data": {
      "text/plain": [
       "Index(['Ano', 'uf_co', 'UF', 'mun_cod_sim', 'mun_no', 'pop_total',\n",
       "       'pop_under74', 'POP_MERGE'],\n",
       "      dtype='object')"
      ]
     },
     "execution_count": 152,
     "metadata": {},
     "output_type": "execute_result"
    }
   ],
   "source": [
    "# Verificação dos nomes das colunas\n",
    "censo_pop_mun_4merge.columns"
   ]
  },
  {
   "cell_type": "code",
   "execution_count": 153,
   "metadata": {},
   "outputs": [
    {
     "data": {
      "text/html": [
       "<div>\n",
       "<style scoped>\n",
       "    .dataframe tbody tr th:only-of-type {\n",
       "        vertical-align: middle;\n",
       "    }\n",
       "\n",
       "    .dataframe tbody tr th {\n",
       "        vertical-align: top;\n",
       "    }\n",
       "\n",
       "    .dataframe thead th {\n",
       "        text-align: right;\n",
       "    }\n",
       "</style>\n",
       "<table border=\"1\" class=\"dataframe\">\n",
       "  <thead>\n",
       "    <tr style=\"text-align: right;\">\n",
       "      <th></th>\n",
       "      <th>CODMUNRES</th>\n",
       "      <th>ANO_OBITO</th>\n",
       "      <th>POP_MERGE</th>\n",
       "      <th>CONTADOR</th>\n",
       "      <th>pop_under74</th>\n",
       "      <th>UF</th>\n",
       "      <th>mun_no</th>\n",
       "    </tr>\n",
       "  </thead>\n",
       "  <tbody>\n",
       "    <tr>\n",
       "      <th>0</th>\n",
       "      <td>_110000</td>\n",
       "      <td>_2010</td>\n",
       "      <td>_2010_110000</td>\n",
       "      <td>20</td>\n",
       "      <td>NaN</td>\n",
       "      <td>NaN</td>\n",
       "      <td>NaN</td>\n",
       "    </tr>\n",
       "    <tr>\n",
       "      <th>1</th>\n",
       "      <td>_110000</td>\n",
       "      <td>_2019</td>\n",
       "      <td>_2022_110000</td>\n",
       "      <td>9</td>\n",
       "      <td>NaN</td>\n",
       "      <td>NaN</td>\n",
       "      <td>NaN</td>\n",
       "    </tr>\n",
       "    <tr>\n",
       "      <th>2</th>\n",
       "      <td>_110000</td>\n",
       "      <td>_2020</td>\n",
       "      <td>_2022_110000</td>\n",
       "      <td>7</td>\n",
       "      <td>NaN</td>\n",
       "      <td>NaN</td>\n",
       "      <td>NaN</td>\n",
       "    </tr>\n",
       "    <tr>\n",
       "      <th>3</th>\n",
       "      <td>_110000</td>\n",
       "      <td>_2021</td>\n",
       "      <td>_2022_110000</td>\n",
       "      <td>4</td>\n",
       "      <td>NaN</td>\n",
       "      <td>NaN</td>\n",
       "      <td>NaN</td>\n",
       "    </tr>\n",
       "    <tr>\n",
       "      <th>4</th>\n",
       "      <td>_110000</td>\n",
       "      <td>_2022</td>\n",
       "      <td>_2022_110000</td>\n",
       "      <td>6</td>\n",
       "      <td>NaN</td>\n",
       "      <td>NaN</td>\n",
       "      <td>NaN</td>\n",
       "    </tr>\n",
       "  </tbody>\n",
       "</table>\n",
       "</div>"
      ],
      "text/plain": [
       "  CODMUNRES ANO_OBITO     POP_MERGE  CONTADOR  pop_under74   UF mun_no\n",
       "0   _110000     _2010  _2010_110000        20          NaN  NaN    NaN\n",
       "1   _110000     _2019  _2022_110000         9          NaN  NaN    NaN\n",
       "2   _110000     _2020  _2022_110000         7          NaN  NaN    NaN\n",
       "3   _110000     _2021  _2022_110000         4          NaN  NaN    NaN\n",
       "4   _110000     _2022  _2022_110000         6          NaN  NaN    NaN"
      ]
     },
     "execution_count": 153,
     "metadata": {},
     "output_type": "execute_result"
    }
   ],
   "source": [
    "# Definir campos de censo_pop para merge\n",
    "mun_4merge = censo_pop_mun_4merge[['POP_MERGE','pop_under74','UF','mun_no']]\n",
    "\n",
    "# Realizar o merge dos dataframes\n",
    "dobr_merged_pop = pd.merge(dobr_grouped, mun_4merge, left_on=['POP_MERGE'], right_on=['POP_MERGE'], how='left')\n",
    "\n",
    "# Exibir as primeiras linhas do dataframe resultante\n",
    "dobr_merged_pop.head()"
   ]
  },
  {
   "cell_type": "code",
   "execution_count": 154,
   "metadata": {},
   "outputs": [
    {
     "name": "stdout",
     "output_type": "stream",
     "text": [
      "<class 'pandas.core.frame.DataFrame'>\n",
      "RangeIndex: 27923 entries, 0 to 27922\n",
      "Data columns (total 7 columns):\n",
      " #   Column       Non-Null Count  Dtype  \n",
      "---  ------       --------------  -----  \n",
      " 0   CODMUNRES    27923 non-null  object \n",
      " 1   ANO_OBITO    27923 non-null  object \n",
      " 2   POP_MERGE    27923 non-null  object \n",
      " 3   CONTADOR     27923 non-null  int64  \n",
      " 4   pop_under74  27817 non-null  float64\n",
      " 5   UF           27817 non-null  object \n",
      " 6   mun_no       27817 non-null  object \n",
      "dtypes: float64(1), int64(1), object(5)\n",
      "memory usage: 1.5+ MB\n"
     ]
    }
   ],
   "source": [
    "dobr_merged_pop.info()"
   ]
  },
  {
   "cell_type": "code",
   "execution_count": 155,
   "metadata": {},
   "outputs": [
    {
     "name": "stdout",
     "output_type": "stream",
     "text": [
      "<class 'pandas.core.frame.DataFrame'>\n",
      "RangeIndex: 27817 entries, 0 to 27816\n",
      "Data columns (total 7 columns):\n",
      " #   Column       Non-Null Count  Dtype  \n",
      "---  ------       --------------  -----  \n",
      " 0   CODMUNRES    27817 non-null  object \n",
      " 1   ANO_OBITO    27817 non-null  object \n",
      " 2   POP_MERGE    27817 non-null  object \n",
      " 3   CONTADOR     27817 non-null  int64  \n",
      " 4   pop_under74  27817 non-null  float64\n",
      " 5   UF           27817 non-null  object \n",
      " 6   mun_no       27817 non-null  object \n",
      "dtypes: float64(1), int64(1), object(5)\n",
      "memory usage: 1.5+ MB\n"
     ]
    }
   ],
   "source": [
    "# Filtrar registros onde pop_under74 não é nulo\n",
    "dobr_merged_pop_clean = dobr_merged_pop.dropna(subset=['pop_under74']).reset_index(drop=True)\n",
    "\n",
    "# Exibir os registros filtrados\n",
    "dobr_merged_pop_clean.info()"
   ]
  },
  {
   "cell_type": "code",
   "execution_count": 156,
   "metadata": {},
   "outputs": [
    {
     "data": {
      "text/html": [
       "<div>\n",
       "<style scoped>\n",
       "    .dataframe tbody tr th:only-of-type {\n",
       "        vertical-align: middle;\n",
       "    }\n",
       "\n",
       "    .dataframe tbody tr th {\n",
       "        vertical-align: top;\n",
       "    }\n",
       "\n",
       "    .dataframe thead th {\n",
       "        text-align: right;\n",
       "    }\n",
       "</style>\n",
       "<table border=\"1\" class=\"dataframe\">\n",
       "  <thead>\n",
       "    <tr style=\"text-align: right;\">\n",
       "      <th></th>\n",
       "      <th>CODMUNRES</th>\n",
       "      <th>ANO_OBITO</th>\n",
       "      <th>POP_MERGE</th>\n",
       "      <th>CONTADOR</th>\n",
       "      <th>pop_under74</th>\n",
       "      <th>UF</th>\n",
       "      <th>mun_no</th>\n",
       "    </tr>\n",
       "  </thead>\n",
       "  <tbody>\n",
       "    <tr>\n",
       "      <th>0</th>\n",
       "      <td>_110001</td>\n",
       "      <td>_2010</td>\n",
       "      <td>_2010_110001</td>\n",
       "      <td>58</td>\n",
       "      <td>23948.0</td>\n",
       "      <td>RO</td>\n",
       "      <td>Alta Floresta D'Oeste</td>\n",
       "    </tr>\n",
       "    <tr>\n",
       "      <th>1</th>\n",
       "      <td>_110001</td>\n",
       "      <td>_2019</td>\n",
       "      <td>_2022_110001</td>\n",
       "      <td>67</td>\n",
       "      <td>20742.0</td>\n",
       "      <td>RO</td>\n",
       "      <td>Alta Floresta D'Oeste</td>\n",
       "    </tr>\n",
       "    <tr>\n",
       "      <th>2</th>\n",
       "      <td>_110001</td>\n",
       "      <td>_2020</td>\n",
       "      <td>_2022_110001</td>\n",
       "      <td>68</td>\n",
       "      <td>20742.0</td>\n",
       "      <td>RO</td>\n",
       "      <td>Alta Floresta D'Oeste</td>\n",
       "    </tr>\n",
       "    <tr>\n",
       "      <th>3</th>\n",
       "      <td>_110001</td>\n",
       "      <td>_2021</td>\n",
       "      <td>_2022_110001</td>\n",
       "      <td>45</td>\n",
       "      <td>20742.0</td>\n",
       "      <td>RO</td>\n",
       "      <td>Alta Floresta D'Oeste</td>\n",
       "    </tr>\n",
       "    <tr>\n",
       "      <th>4</th>\n",
       "      <td>_110001</td>\n",
       "      <td>_2022</td>\n",
       "      <td>_2022_110001</td>\n",
       "      <td>64</td>\n",
       "      <td>20742.0</td>\n",
       "      <td>RO</td>\n",
       "      <td>Alta Floresta D'Oeste</td>\n",
       "    </tr>\n",
       "  </tbody>\n",
       "</table>\n",
       "</div>"
      ],
      "text/plain": [
       "  CODMUNRES ANO_OBITO     POP_MERGE  CONTADOR  pop_under74  UF  \\\n",
       "0   _110001     _2010  _2010_110001        58      23948.0  RO   \n",
       "1   _110001     _2019  _2022_110001        67      20742.0  RO   \n",
       "2   _110001     _2020  _2022_110001        68      20742.0  RO   \n",
       "3   _110001     _2021  _2022_110001        45      20742.0  RO   \n",
       "4   _110001     _2022  _2022_110001        64      20742.0  RO   \n",
       "\n",
       "                   mun_no  \n",
       "0  Alta Floresta D'Oeste   \n",
       "1  Alta Floresta D'Oeste   \n",
       "2  Alta Floresta D'Oeste   \n",
       "3  Alta Floresta D'Oeste   \n",
       "4  Alta Floresta D'Oeste   "
      ]
     },
     "execution_count": 156,
     "metadata": {},
     "output_type": "execute_result"
    }
   ],
   "source": [
    "\n",
    "dobr_merged_pop_clean.head()"
   ]
  },
  {
   "cell_type": "code",
   "execution_count": 157,
   "metadata": {},
   "outputs": [
    {
     "data": {
      "text/plain": [
       "2533528"
      ]
     },
     "execution_count": 157,
     "metadata": {},
     "output_type": "execute_result"
    }
   ],
   "source": [
    "dobr_merged_pop_clean.CONTADOR.sum()"
   ]
  },
  {
   "cell_type": "markdown",
   "metadata": {},
   "source": [
    "##### Arquivo tratado final"
   ]
  },
  {
   "cell_type": "code",
   "execution_count": 158,
   "metadata": {},
   "outputs": [],
   "source": [
    "dobr_merged_clean2 = dobr_merged_pop_clean.to_parquet('files_clean/dobr_merged_clean_v2.parquet')"
   ]
  },
  {
   "cell_type": "code",
   "execution_count": 159,
   "metadata": {
    "vscode": {
     "languageId": "powershell"
    }
   },
   "outputs": [
    {
     "name": "stdout",
     "output_type": "stream",
     "text": [
      "\u001b[33m ==> O número de óbitos após merge com tabela de CIDs evitáveis era de 2537888 óbitos \u001b[0m\n",
      "\u001b[33m ==> Foram excluídos, por apresentar problemas para carga de informações de município, 4360 óbitos \u001b[0m\n",
      "\u001b[33m ==> O número de óbitos total após filtro de CID evitáveis e inclusão de população do censo é de 2533528 óbitos \u001b[0m\n"
     ]
    }
   ],
   "source": [
    "# Resultados\n",
    "\n",
    "obito_origin = dobr_4merged2.CAUSABAS.count()\n",
    "obito_final = dobr_merged_pop_clean.CONTADOR.sum()\n",
    "dif = obito_origin - obito_final\n",
    "\n",
    "\n",
    "print(f\"\\033[33m ==> O número de óbitos após merge com tabela de CIDs evitáveis era de {obito_origin} óbitos \\033[0m\")\n",
    "\n",
    "print(f\"\\033[33m ==> Foram excluídos, por apresentar problemas para carga de informações de município, {dif} óbitos \\033[0m\")\n",
    "\n",
    "print(f\"\\033[33m ==> O número de óbitos total após filtro de CID evitáveis e inclusão de população do censo é de {obito_final} óbitos \\033[0m\")\n",
    "\n",
    "\n",
    "# # Filtrar registros onde pop_under74 é null\n",
    "# dobr_merged_pop_nulos = dobr_merged_pop[dobr_merged_pop['pop_under74'].isnull()]\n",
    "\n",
    "# # Exibir os registros filtrados\n",
    "# dobr_merged_pop_nulos['obito_count'].sum()"
   ]
  },
  {
   "cell_type": "markdown",
   "metadata": {},
   "source": [
    "#### Resultado do merge DOBR com Censo\n",
    "Dados os limites do registro do SIM, que aceita registros de raça/cor \"Não identificada\", enquanto todos os registros do Censo são identificados, perdemos na base 10.322 registros.\n"
   ]
  },
  {
   "cell_type": "code",
   "execution_count": 263,
   "metadata": {
    "vscode": {
     "languageId": "ruby"
    }
   },
   "outputs": [
    {
     "data": {
      "text/html": [
       "<div>\n",
       "<style scoped>\n",
       "    .dataframe tbody tr th:only-of-type {\n",
       "        vertical-align: middle;\n",
       "    }\n",
       "\n",
       "    .dataframe tbody tr th {\n",
       "        vertical-align: top;\n",
       "    }\n",
       "\n",
       "    .dataframe thead th {\n",
       "        text-align: right;\n",
       "    }\n",
       "</style>\n",
       "<table border=\"1\" class=\"dataframe\">\n",
       "  <thead>\n",
       "    <tr style=\"text-align: right;\">\n",
       "      <th></th>\n",
       "      <th>CODMUNRES</th>\n",
       "      <th>SEXO</th>\n",
       "      <th>RACACOR</th>\n",
       "      <th>ANO</th>\n",
       "      <th>POP_MERGE</th>\n",
       "      <th>obito_count</th>\n",
       "      <th>pop_under74</th>\n",
       "      <th>UF</th>\n",
       "      <th>mun_nome</th>\n",
       "      <th>mort_ind</th>\n",
       "    </tr>\n",
       "  </thead>\n",
       "  <tbody>\n",
       "    <tr>\n",
       "      <th>3</th>\n",
       "      <td>_110001</td>\n",
       "      <td>_1</td>\n",
       "      <td>_1</td>\n",
       "      <td>2022</td>\n",
       "      <td>2022_110001_1_1</td>\n",
       "      <td>23</td>\n",
       "      <td>3606.0</td>\n",
       "      <td>RO</td>\n",
       "      <td>Alta Floresta D'Oeste</td>\n",
       "      <td>637.825846</td>\n",
       "    </tr>\n",
       "    <tr>\n",
       "      <th>4</th>\n",
       "      <td>_110001</td>\n",
       "      <td>_1</td>\n",
       "      <td>_2</td>\n",
       "      <td>2022</td>\n",
       "      <td>2022_110001_1_2</td>\n",
       "      <td>4</td>\n",
       "      <td>700.0</td>\n",
       "      <td>RO</td>\n",
       "      <td>Alta Floresta D'Oeste</td>\n",
       "      <td>571.428571</td>\n",
       "    </tr>\n",
       "    <tr>\n",
       "      <th>5</th>\n",
       "      <td>_110001</td>\n",
       "      <td>_1</td>\n",
       "      <td>_4</td>\n",
       "      <td>2022</td>\n",
       "      <td>2022_110001_1_4</td>\n",
       "      <td>23</td>\n",
       "      <td>5769.0</td>\n",
       "      <td>RO</td>\n",
       "      <td>Alta Floresta D'Oeste</td>\n",
       "      <td>398.682614</td>\n",
       "    </tr>\n",
       "    <tr>\n",
       "      <th>6</th>\n",
       "      <td>_110001</td>\n",
       "      <td>_2</td>\n",
       "      <td>_1</td>\n",
       "      <td>2022</td>\n",
       "      <td>2022_110001_2_1</td>\n",
       "      <td>7</td>\n",
       "      <td>3642.0</td>\n",
       "      <td>RO</td>\n",
       "      <td>Alta Floresta D'Oeste</td>\n",
       "      <td>192.202087</td>\n",
       "    </tr>\n",
       "    <tr>\n",
       "      <th>7</th>\n",
       "      <td>_110001</td>\n",
       "      <td>_2</td>\n",
       "      <td>_2</td>\n",
       "      <td>2022</td>\n",
       "      <td>2022_110001_2_2</td>\n",
       "      <td>1</td>\n",
       "      <td>529.0</td>\n",
       "      <td>RO</td>\n",
       "      <td>Alta Floresta D'Oeste</td>\n",
       "      <td>189.035917</td>\n",
       "    </tr>\n",
       "  </tbody>\n",
       "</table>\n",
       "</div>"
      ],
      "text/plain": [
       "  CODMUNRES SEXO RACACOR   ANO        POP_MERGE  obito_count  pop_under74  UF  \\\n",
       "3   _110001   _1      _1  2022  2022_110001_1_1           23       3606.0  RO   \n",
       "4   _110001   _1      _2  2022  2022_110001_1_2            4        700.0  RO   \n",
       "5   _110001   _1      _4  2022  2022_110001_1_4           23       5769.0  RO   \n",
       "6   _110001   _2      _1  2022  2022_110001_2_1            7       3642.0  RO   \n",
       "7   _110001   _2      _2  2022  2022_110001_2_2            1        529.0  RO   \n",
       "\n",
       "                 mun_nome    mort_ind  \n",
       "3  Alta Floresta D'Oeste   637.825846  \n",
       "4  Alta Floresta D'Oeste   571.428571  \n",
       "5  Alta Floresta D'Oeste   398.682614  \n",
       "6  Alta Floresta D'Oeste   192.202087  \n",
       "7  Alta Floresta D'Oeste   189.035917  "
      ]
     },
     "execution_count": 263,
     "metadata": {},
     "output_type": "execute_result"
    }
   ],
   "source": [
    "# # Calcular a taxa de mortalidade\n",
    "# dobr_merged_final['mort_ind'] = (dobr_merged_final['obito_count'] / dobr_merged_final['pop_under74']) * 100000\n",
    "\n",
    "# # Verificar as primeiras linhas do DataFrame atualizado\n",
    "# dobr_merged_final.head()"
   ]
  },
  {
   "cell_type": "code",
   "execution_count": 264,
   "metadata": {},
   "outputs": [],
   "source": [
    "# # Salvar arquivo final de DOBR\n",
    "# dobr_merged_final.to_parquet('files_clean/dobr_merged_clean.parquet')\n"
   ]
  },
  {
   "cell_type": "markdown",
   "metadata": {},
   "source": [
    "# Etapa 3 - Aplicação de Modelo do HEAT ao Bloco"
   ]
  },
  {
   "cell_type": "markdown",
   "metadata": {},
   "source": [
    "O modelo HEAT apresenta um framework bem rígido e objetivo para carga de dados.\n",
    "\n",
    "O dataset precisa estar organizado com os labels e de acordo com a definição presente no template.\n",
    "\n",
    "E depois precisa ser validado em planilha excel disponibilizada pela organização.\n",
    "\n",
    "Ajustes: com a identificação da população por sexo e raça, encontramos 37 registros com população 0. Tivemos que excluir estes registros (incluindo os óbitos) no momento da preparação do dataset do heat em razão do modelo não aceitar estes valores."
   ]
  },
  {
   "cell_type": "markdown",
   "metadata": {},
   "source": [
    "## Dataset 2 - BR/uf/Mun\n",
    "\n",
    "\n",
    "O primeiro dataset que iremos construir tem as seguintes características:\n",
    "\n",
    "* setting: Brasil\n",
    "* dimension: UF\n",
    "* subgroup: município\n",
    "\n",
    "Estas escolhas implicam em podermos disponibilizar ao usuário do HEAT a possibilidade de ver os municípios (dimensões) de maneira agregada por UF. \n"
   ]
  },
  {
   "cell_type": "code",
   "execution_count": null,
   "metadata": {},
   "outputs": [
    {
     "name": "stdout",
     "output_type": "stream",
     "text": [
      "('setting', 'date', 'source', 'indicator_abbr', 'indicator_name', 'dimension', 'subgroup', 'estimate', 'se', 'ci_lb', 'ci_ub', 'population', 'note', 'setting_average', 'iso3', 'favourable_indicator', 'indicator_scale', 'ordered_dimension', 'subgroup_order', 'reference_subgroup')\n"
     ]
    }
   ],
   "source": [
    "# Mostrar colunas do template do HEAT\n",
    "\n",
    "import requests\n",
    "import openpyxl\n",
    "\n",
    "# Baixando o arquivo\n",
    "url = 'https://srhdpeuwpubsa.blob.core.windows.net/whdh/HIDR/heat_plus_template_validation.xlsm'\n",
    "response = requests.get(url)\n",
    "\n",
    "# Salvando o arquivo localmente (você pode escolher outro nome)\n",
    "with open('arquivo_excel.xlsm', 'wb') as f:\n",
    "    f.write(response.content)\n",
    "\n",
    "# Abrindo o arquivo Excel\n",
    "workbook = openpyxl.load_workbook('arquivo_excel.xlsm')\n",
    "\n",
    "# Selecionando a primeira aba\n",
    "sheet = workbook.template\n",
    "sheet = workbook['template']\n",
    "\n",
    "# Mostrar conteúdo da aba 'template'\n",
    "for row in sheet.iter_rows(values_only=True):\n",
    "    print(row)\n",
    "\n"
   ]
  },
  {
   "cell_type": "code",
   "execution_count": 160,
   "metadata": {},
   "outputs": [
    {
     "name": "stdout",
     "output_type": "stream",
     "text": [
      "<class 'pandas.core.frame.DataFrame'>\n",
      "RangeIndex: 27817 entries, 0 to 27816\n",
      "Data columns (total 7 columns):\n",
      " #   Column       Non-Null Count  Dtype  \n",
      "---  ------       --------------  -----  \n",
      " 0   CODMUNRES    27817 non-null  object \n",
      " 1   ANO_OBITO    27817 non-null  object \n",
      " 2   POP_MERGE    27817 non-null  object \n",
      " 3   CONTADOR     27817 non-null  int64  \n",
      " 4   pop_under74  27817 non-null  float64\n",
      " 5   UF           27817 non-null  object \n",
      " 6   mun_no       27817 non-null  object \n",
      "dtypes: float64(1), int64(1), object(5)\n",
      "memory usage: 1.5+ MB\n"
     ]
    }
   ],
   "source": [
    "# Abrir arquivo final de DO após tratamento\n",
    "heat_ds = pd.read_parquet('files_clean/dobr_merged_clean_v2.parquet')\n",
    "heat_ds.info()"
   ]
  },
  {
   "cell_type": "code",
   "execution_count": 161,
   "metadata": {},
   "outputs": [
    {
     "data": {
      "text/html": [
       "<div>\n",
       "<style scoped>\n",
       "    .dataframe tbody tr th:only-of-type {\n",
       "        vertical-align: middle;\n",
       "    }\n",
       "\n",
       "    .dataframe tbody tr th {\n",
       "        vertical-align: top;\n",
       "    }\n",
       "\n",
       "    .dataframe thead th {\n",
       "        text-align: right;\n",
       "    }\n",
       "</style>\n",
       "<table border=\"1\" class=\"dataframe\">\n",
       "  <thead>\n",
       "    <tr style=\"text-align: right;\">\n",
       "      <th></th>\n",
       "      <th>CODMUNRES</th>\n",
       "      <th>ANO_OBITO</th>\n",
       "      <th>POP_MERGE</th>\n",
       "      <th>CONTADOR</th>\n",
       "      <th>pop_under74</th>\n",
       "      <th>UF</th>\n",
       "      <th>mun_no</th>\n",
       "    </tr>\n",
       "  </thead>\n",
       "  <tbody>\n",
       "    <tr>\n",
       "      <th>0</th>\n",
       "      <td>_110001</td>\n",
       "      <td>_2010</td>\n",
       "      <td>_2010_110001</td>\n",
       "      <td>58</td>\n",
       "      <td>23948.0</td>\n",
       "      <td>RO</td>\n",
       "      <td>Alta Floresta D'Oeste</td>\n",
       "    </tr>\n",
       "    <tr>\n",
       "      <th>1</th>\n",
       "      <td>_110001</td>\n",
       "      <td>_2019</td>\n",
       "      <td>_2022_110001</td>\n",
       "      <td>67</td>\n",
       "      <td>20742.0</td>\n",
       "      <td>RO</td>\n",
       "      <td>Alta Floresta D'Oeste</td>\n",
       "    </tr>\n",
       "    <tr>\n",
       "      <th>2</th>\n",
       "      <td>_110001</td>\n",
       "      <td>_2020</td>\n",
       "      <td>_2022_110001</td>\n",
       "      <td>68</td>\n",
       "      <td>20742.0</td>\n",
       "      <td>RO</td>\n",
       "      <td>Alta Floresta D'Oeste</td>\n",
       "    </tr>\n",
       "    <tr>\n",
       "      <th>3</th>\n",
       "      <td>_110001</td>\n",
       "      <td>_2021</td>\n",
       "      <td>_2022_110001</td>\n",
       "      <td>45</td>\n",
       "      <td>20742.0</td>\n",
       "      <td>RO</td>\n",
       "      <td>Alta Floresta D'Oeste</td>\n",
       "    </tr>\n",
       "    <tr>\n",
       "      <th>4</th>\n",
       "      <td>_110001</td>\n",
       "      <td>_2022</td>\n",
       "      <td>_2022_110001</td>\n",
       "      <td>64</td>\n",
       "      <td>20742.0</td>\n",
       "      <td>RO</td>\n",
       "      <td>Alta Floresta D'Oeste</td>\n",
       "    </tr>\n",
       "  </tbody>\n",
       "</table>\n",
       "</div>"
      ],
      "text/plain": [
       "  CODMUNRES ANO_OBITO     POP_MERGE  CONTADOR  pop_under74  UF  \\\n",
       "0   _110001     _2010  _2010_110001        58      23948.0  RO   \n",
       "1   _110001     _2019  _2022_110001        67      20742.0  RO   \n",
       "2   _110001     _2020  _2022_110001        68      20742.0  RO   \n",
       "3   _110001     _2021  _2022_110001        45      20742.0  RO   \n",
       "4   _110001     _2022  _2022_110001        64      20742.0  RO   \n",
       "\n",
       "                   mun_no  \n",
       "0  Alta Floresta D'Oeste   \n",
       "1  Alta Floresta D'Oeste   \n",
       "2  Alta Floresta D'Oeste   \n",
       "3  Alta Floresta D'Oeste   \n",
       "4  Alta Floresta D'Oeste   "
      ]
     },
     "execution_count": 161,
     "metadata": {},
     "output_type": "execute_result"
    }
   ],
   "source": [
    "heat_ds.head()"
   ]
  },
  {
   "cell_type": "code",
   "execution_count": 162,
   "metadata": {},
   "outputs": [
    {
     "data": {
      "text/plain": [
       "Index(['CODMUNRES', 'ANO_OBITO', 'POP_MERGE', 'CONTADOR', 'pop_under74', 'UF',\n",
       "       'mun_no'],\n",
       "      dtype='object')"
      ]
     },
     "execution_count": 162,
     "metadata": {},
     "output_type": "execute_result"
    }
   ],
   "source": [
    "heat_ds.columns"
   ]
  },
  {
   "cell_type": "code",
   "execution_count": 38,
   "metadata": {
    "vscode": {
     "languageId": "ruby"
    }
   },
   "outputs": [],
   "source": [
    "# # Agregar os dados sem CID e gerar colunas de soma de obito_count e pop_under74\n",
    "# heat_semCID = heat_.groupby(['UF', 'mun_nome', 'CODMUNRES', 'SEXO', 'RACACOR', 'ANO']).agg({\n",
    "#     'obito_count': 'sum',\n",
    "#     'pop_under74': 'sum'\n",
    "# }).reset_index()\n",
    "\n"
   ]
  },
  {
   "cell_type": "code",
   "execution_count": 163,
   "metadata": {
    "vscode": {
     "languageId": "ruby"
    }
   },
   "outputs": [
    {
     "data": {
      "text/html": [
       "<div>\n",
       "<style scoped>\n",
       "    .dataframe tbody tr th:only-of-type {\n",
       "        vertical-align: middle;\n",
       "    }\n",
       "\n",
       "    .dataframe tbody tr th {\n",
       "        vertical-align: top;\n",
       "    }\n",
       "\n",
       "    .dataframe thead th {\n",
       "        text-align: right;\n",
       "    }\n",
       "</style>\n",
       "<table border=\"1\" class=\"dataframe\">\n",
       "  <thead>\n",
       "    <tr style=\"text-align: right;\">\n",
       "      <th></th>\n",
       "      <th>CODMUNRES</th>\n",
       "      <th>ANO_OBITO</th>\n",
       "      <th>POP_MERGE</th>\n",
       "      <th>CONTADOR</th>\n",
       "      <th>pop_under74</th>\n",
       "      <th>UF</th>\n",
       "      <th>mun_no</th>\n",
       "      <th>mort_ind_mun</th>\n",
       "    </tr>\n",
       "  </thead>\n",
       "  <tbody>\n",
       "    <tr>\n",
       "      <th>0</th>\n",
       "      <td>_110001</td>\n",
       "      <td>_2010</td>\n",
       "      <td>_2010_110001</td>\n",
       "      <td>58</td>\n",
       "      <td>23948.0</td>\n",
       "      <td>RO</td>\n",
       "      <td>Alta Floresta D'Oeste</td>\n",
       "      <td>242.191415</td>\n",
       "    </tr>\n",
       "    <tr>\n",
       "      <th>1</th>\n",
       "      <td>_110001</td>\n",
       "      <td>_2019</td>\n",
       "      <td>_2022_110001</td>\n",
       "      <td>67</td>\n",
       "      <td>20742.0</td>\n",
       "      <td>RO</td>\n",
       "      <td>Alta Floresta D'Oeste</td>\n",
       "      <td>323.016103</td>\n",
       "    </tr>\n",
       "    <tr>\n",
       "      <th>2</th>\n",
       "      <td>_110001</td>\n",
       "      <td>_2020</td>\n",
       "      <td>_2022_110001</td>\n",
       "      <td>68</td>\n",
       "      <td>20742.0</td>\n",
       "      <td>RO</td>\n",
       "      <td>Alta Floresta D'Oeste</td>\n",
       "      <td>327.837238</td>\n",
       "    </tr>\n",
       "    <tr>\n",
       "      <th>3</th>\n",
       "      <td>_110001</td>\n",
       "      <td>_2021</td>\n",
       "      <td>_2022_110001</td>\n",
       "      <td>45</td>\n",
       "      <td>20742.0</td>\n",
       "      <td>RO</td>\n",
       "      <td>Alta Floresta D'Oeste</td>\n",
       "      <td>216.951114</td>\n",
       "    </tr>\n",
       "    <tr>\n",
       "      <th>4</th>\n",
       "      <td>_110001</td>\n",
       "      <td>_2022</td>\n",
       "      <td>_2022_110001</td>\n",
       "      <td>64</td>\n",
       "      <td>20742.0</td>\n",
       "      <td>RO</td>\n",
       "      <td>Alta Floresta D'Oeste</td>\n",
       "      <td>308.552695</td>\n",
       "    </tr>\n",
       "  </tbody>\n",
       "</table>\n",
       "</div>"
      ],
      "text/plain": [
       "  CODMUNRES ANO_OBITO     POP_MERGE  CONTADOR  pop_under74  UF  \\\n",
       "0   _110001     _2010  _2010_110001        58      23948.0  RO   \n",
       "1   _110001     _2019  _2022_110001        67      20742.0  RO   \n",
       "2   _110001     _2020  _2022_110001        68      20742.0  RO   \n",
       "3   _110001     _2021  _2022_110001        45      20742.0  RO   \n",
       "4   _110001     _2022  _2022_110001        64      20742.0  RO   \n",
       "\n",
       "                   mun_no  mort_ind_mun  \n",
       "0  Alta Floresta D'Oeste     242.191415  \n",
       "1  Alta Floresta D'Oeste     323.016103  \n",
       "2  Alta Floresta D'Oeste     327.837238  \n",
       "3  Alta Floresta D'Oeste     216.951114  \n",
       "4  Alta Floresta D'Oeste     308.552695  "
      ]
     },
     "execution_count": 163,
     "metadata": {},
     "output_type": "execute_result"
    }
   ],
   "source": [
    "# Gerar o indicador de mortalidade (por 100 mil habitantes) e exibir as primeiras linhas do DataFrame\n",
    "heat_ds_treat = heat_ds.copy()\n",
    "\n",
    "heat_ds_treat['mort_ind_mun'] = (heat_ds_treat['CONTADOR']/heat_ds_treat['pop_under74'])*100000\n",
    "\n",
    "# Exibir as primeiras linhas do dataframe resultante\n",
    "heat_ds_treat.head()"
   ]
  },
  {
   "cell_type": "code",
   "execution_count": 164,
   "metadata": {},
   "outputs": [
    {
     "name": "stdout",
     "output_type": "stream",
     "text": [
      "Número de valores infinitos em mort_ind_mun: 0\n"
     ]
    }
   ],
   "source": [
    "# Contar e gerar tabela de indicador de mortalidade infinitos [inf]\n",
    "registros_inf = heat_ds_treat[np.isinf(heat_ds_treat['mort_ind_mun'])]\n",
    "inf_count = np.isinf(heat_ds_treat['mort_ind_mun']).sum()\n",
    "\n",
    "# Exibir os registros filtrados\n",
    "print(f\"Número de valores infinitos em mort_ind_mun: {inf_count}\")\n",
    "registros_inf\n",
    "\n",
    "# Exportar registros de indicador de mortalidade infinitos [inf]\n",
    "registros_inf.to_csv('exportar_v2/relatorio_reg_mort_ind_inf.csv')"
   ]
  },
  {
   "cell_type": "code",
   "execution_count": 191,
   "metadata": {},
   "outputs": [
    {
     "data": {
      "text/plain": [
       "2533528"
      ]
     },
     "execution_count": 191,
     "metadata": {},
     "output_type": "execute_result"
    }
   ],
   "source": [
    "heat_ds_treat.CONTADOR.sum()"
   ]
  },
  {
   "cell_type": "code",
   "execution_count": null,
   "metadata": {},
   "outputs": [],
   "source": [
    "# # Limpar a base de registros de indicador de mortalidade infinitos [inf]\n",
    "# heat_ds_treat2 = heat_ds_treat.copy()\n",
    "\n",
    "# # Substituir valores infinitos por NaN\n",
    "# heat_ds_treat2['mort_ind_mun'].replace([np.inf, -np.inf], np.nan, inplace=True)\n"
   ]
  },
  {
   "cell_type": "code",
   "execution_count": 192,
   "metadata": {},
   "outputs": [
    {
     "data": {
      "text/html": [
       "<div>\n",
       "<style scoped>\n",
       "    .dataframe tbody tr th:only-of-type {\n",
       "        vertical-align: middle;\n",
       "    }\n",
       "\n",
       "    .dataframe tbody tr th {\n",
       "        vertical-align: top;\n",
       "    }\n",
       "\n",
       "    .dataframe thead th {\n",
       "        text-align: right;\n",
       "    }\n",
       "</style>\n",
       "<table border=\"1\" class=\"dataframe\">\n",
       "  <thead>\n",
       "    <tr style=\"text-align: right;\">\n",
       "      <th></th>\n",
       "      <th>CODMUNRES</th>\n",
       "      <th>ANO_OBITO</th>\n",
       "      <th>POP_MERGE</th>\n",
       "      <th>CONTADOR</th>\n",
       "      <th>pop_under74</th>\n",
       "      <th>UF</th>\n",
       "      <th>mun_no</th>\n",
       "      <th>mort_ind_mun</th>\n",
       "    </tr>\n",
       "  </thead>\n",
       "  <tbody>\n",
       "    <tr>\n",
       "      <th>0</th>\n",
       "      <td>_110001</td>\n",
       "      <td>_2010</td>\n",
       "      <td>_2010_110001</td>\n",
       "      <td>58</td>\n",
       "      <td>23948.0</td>\n",
       "      <td>RO</td>\n",
       "      <td>Alta Floresta D'Oeste</td>\n",
       "      <td>242.191415</td>\n",
       "    </tr>\n",
       "    <tr>\n",
       "      <th>1</th>\n",
       "      <td>_110001</td>\n",
       "      <td>_2019</td>\n",
       "      <td>_2022_110001</td>\n",
       "      <td>67</td>\n",
       "      <td>20742.0</td>\n",
       "      <td>RO</td>\n",
       "      <td>Alta Floresta D'Oeste</td>\n",
       "      <td>323.016103</td>\n",
       "    </tr>\n",
       "    <tr>\n",
       "      <th>2</th>\n",
       "      <td>_110001</td>\n",
       "      <td>_2020</td>\n",
       "      <td>_2022_110001</td>\n",
       "      <td>68</td>\n",
       "      <td>20742.0</td>\n",
       "      <td>RO</td>\n",
       "      <td>Alta Floresta D'Oeste</td>\n",
       "      <td>327.837238</td>\n",
       "    </tr>\n",
       "    <tr>\n",
       "      <th>3</th>\n",
       "      <td>_110001</td>\n",
       "      <td>_2021</td>\n",
       "      <td>_2022_110001</td>\n",
       "      <td>45</td>\n",
       "      <td>20742.0</td>\n",
       "      <td>RO</td>\n",
       "      <td>Alta Floresta D'Oeste</td>\n",
       "      <td>216.951114</td>\n",
       "    </tr>\n",
       "    <tr>\n",
       "      <th>4</th>\n",
       "      <td>_110001</td>\n",
       "      <td>_2022</td>\n",
       "      <td>_2022_110001</td>\n",
       "      <td>64</td>\n",
       "      <td>20742.0</td>\n",
       "      <td>RO</td>\n",
       "      <td>Alta Floresta D'Oeste</td>\n",
       "      <td>308.552695</td>\n",
       "    </tr>\n",
       "  </tbody>\n",
       "</table>\n",
       "</div>"
      ],
      "text/plain": [
       "  CODMUNRES ANO_OBITO     POP_MERGE  CONTADOR  pop_under74  UF  \\\n",
       "0   _110001     _2010  _2010_110001        58      23948.0  RO   \n",
       "1   _110001     _2019  _2022_110001        67      20742.0  RO   \n",
       "2   _110001     _2020  _2022_110001        68      20742.0  RO   \n",
       "3   _110001     _2021  _2022_110001        45      20742.0  RO   \n",
       "4   _110001     _2022  _2022_110001        64      20742.0  RO   \n",
       "\n",
       "                   mun_no  mort_ind_mun  \n",
       "0  Alta Floresta D'Oeste     242.191415  \n",
       "1  Alta Floresta D'Oeste     323.016103  \n",
       "2  Alta Floresta D'Oeste     327.837238  \n",
       "3  Alta Floresta D'Oeste     216.951114  \n",
       "4  Alta Floresta D'Oeste     308.552695  "
      ]
     },
     "execution_count": 192,
     "metadata": {},
     "output_type": "execute_result"
    }
   ],
   "source": [
    "heat_ds_treat1 = heat_ds_treat.copy()\n",
    "\n",
    "# Excluir registros com NaN na coluna mort_ind_mun\n",
    "heat_ds_treat1.dropna(subset=['mort_ind_mun'], inplace=True)\n",
    "\n",
    "# Mudar o nome da coluna mort_ind para mort_ind_mun\n",
    "# heat_ds_treat2.rename(columns={'mort_ind':'mort_ind_mun'}, inplace=True)\n",
    "\n",
    "\n",
    "# Verificar as primeiras linhas do DataFrame atualizado\n",
    "heat_ds_treat1.head()"
   ]
  },
  {
   "cell_type": "code",
   "execution_count": 193,
   "metadata": {},
   "outputs": [
    {
     "data": {
      "text/plain": [
       "2533528"
      ]
     },
     "execution_count": 193,
     "metadata": {},
     "output_type": "execute_result"
    }
   ],
   "source": [
    "heat_ds_treat1.CONTADOR.sum()"
   ]
  },
  {
   "cell_type": "code",
   "execution_count": 194,
   "metadata": {},
   "outputs": [
    {
     "data": {
      "text/html": [
       "<div>\n",
       "<style scoped>\n",
       "    .dataframe tbody tr th:only-of-type {\n",
       "        vertical-align: middle;\n",
       "    }\n",
       "\n",
       "    .dataframe tbody tr th {\n",
       "        vertical-align: top;\n",
       "    }\n",
       "\n",
       "    .dataframe thead th {\n",
       "        text-align: right;\n",
       "    }\n",
       "</style>\n",
       "<table border=\"1\" class=\"dataframe\">\n",
       "  <thead>\n",
       "    <tr style=\"text-align: right;\">\n",
       "      <th></th>\n",
       "      <th>CONTADOR</th>\n",
       "      <th>pop_under74</th>\n",
       "      <th>mort_ind_mun</th>\n",
       "    </tr>\n",
       "  </thead>\n",
       "  <tbody>\n",
       "    <tr>\n",
       "      <th>count</th>\n",
       "      <td>27817.000000</td>\n",
       "      <td>2.781700e+04</td>\n",
       "      <td>27817.000000</td>\n",
       "    </tr>\n",
       "    <tr>\n",
       "      <th>mean</th>\n",
       "      <td>91.078405</td>\n",
       "      <td>3.464735e+04</td>\n",
       "      <td>268.207663</td>\n",
       "    </tr>\n",
       "    <tr>\n",
       "      <th>std</th>\n",
       "      <td>510.470539</td>\n",
       "      <td>1.967627e+05</td>\n",
       "      <td>87.673481</td>\n",
       "    </tr>\n",
       "    <tr>\n",
       "      <th>min</th>\n",
       "      <td>1.000000</td>\n",
       "      <td>7.820000e+02</td>\n",
       "      <td>12.640627</td>\n",
       "    </tr>\n",
       "    <tr>\n",
       "      <th>25%</th>\n",
       "      <td>13.000000</td>\n",
       "      <td>4.978000e+03</td>\n",
       "      <td>211.782434</td>\n",
       "    </tr>\n",
       "    <tr>\n",
       "      <th>50%</th>\n",
       "      <td>27.000000</td>\n",
       "      <td>1.053200e+04</td>\n",
       "      <td>263.208494</td>\n",
       "    </tr>\n",
       "    <tr>\n",
       "      <th>75%</th>\n",
       "      <td>62.000000</td>\n",
       "      <td>2.335900e+04</td>\n",
       "      <td>317.028986</td>\n",
       "    </tr>\n",
       "    <tr>\n",
       "      <th>max</th>\n",
       "      <td>28299.000000</td>\n",
       "      <td>1.089676e+07</td>\n",
       "      <td>940.733772</td>\n",
       "    </tr>\n",
       "  </tbody>\n",
       "</table>\n",
       "</div>"
      ],
      "text/plain": [
       "           CONTADOR   pop_under74  mort_ind_mun\n",
       "count  27817.000000  2.781700e+04  27817.000000\n",
       "mean      91.078405  3.464735e+04    268.207663\n",
       "std      510.470539  1.967627e+05     87.673481\n",
       "min        1.000000  7.820000e+02     12.640627\n",
       "25%       13.000000  4.978000e+03    211.782434\n",
       "50%       27.000000  1.053200e+04    263.208494\n",
       "75%       62.000000  2.335900e+04    317.028986\n",
       "max    28299.000000  1.089676e+07    940.733772"
      ]
     },
     "execution_count": 194,
     "metadata": {},
     "output_type": "execute_result"
    }
   ],
   "source": [
    "# Verificar se existe valor infinito ou negativo na coluna mort_ind_mun\n",
    "heat_ds_treat1.describe()"
   ]
  },
  {
   "cell_type": "markdown",
   "metadata": {},
   "source": [
    "##### Agrupar por UF para gerar setting e setting-average\n",
    "\n",
    "De acordo com o template do HEAT, o setting average: \"must be consistent for the same combinantion of: setting, year, source and indicator\".\n",
    "\n",
    "Isto implica que os valores para cada setting (UF) não traz interferência nem da dimensão (município) e nem do subgrupo (sexo-raça-cor)."
   ]
  },
  {
   "cell_type": "code",
   "execution_count": 195,
   "metadata": {},
   "outputs": [
    {
     "data": {
      "text/plain": [
       "Index(['CODMUNRES', 'ANO_OBITO', 'POP_MERGE', 'CONTADOR', 'pop_under74', 'UF',\n",
       "       'mun_no', 'mort_ind_mun'],\n",
       "      dtype='object')"
      ]
     },
     "execution_count": 195,
     "metadata": {},
     "output_type": "execute_result"
    }
   ],
   "source": [
    "heat_ds_treat1.columns"
   ]
  },
  {
   "cell_type": "code",
   "execution_count": null,
   "metadata": {
    "vscode": {
     "languageId": "ruby"
    }
   },
   "outputs": [],
   "source": [
    "# # Agrupar por 'UF', 'ANO', e calcular a média de 'mort_ind'\n",
    "# dobr_grouped_uf = heat_ds_treat2.groupby(['UF',\n",
    "#                                              'ANO_OBITO',\n",
    "#                                             #  'SEXO',\n",
    "#                                             #  'RACACOR'\n",
    "#                                              ]).agg({'CONTADOR': 'sum',\n",
    "#                                                     'pop_under74': 'sum',\n",
    "#                                                     'mort_ind_mun': 'mean'\n",
    "#                                                 }).reset_index()\n",
    "# dobr_grouped_uf.rename(columns={'mort_ind_mun': 'mort_ind_uf',\n",
    "#                                 'CONTADOR': 'obito_count_uf',\n",
    "#                                 'pop_under74': 'pop_under74_uf',\n",
    "#                                 }, inplace=True)\n",
    "\n",
    "\n",
    "# # Exibir as primeiras linhas do DataFrame resultante\n",
    "# dobr_grouped_uf.head()"
   ]
  },
  {
   "cell_type": "code",
   "execution_count": null,
   "metadata": {
    "vscode": {
     "languageId": "ruby"
    }
   },
   "outputs": [],
   "source": [
    "# dobr_grouped_uf.describe()"
   ]
  },
  {
   "cell_type": "code",
   "execution_count": null,
   "metadata": {
    "vscode": {
     "languageId": "ruby"
    }
   },
   "outputs": [],
   "source": [
    "# Salvar arquivo por UF para exportação\n",
    "# dobr_grouped_uf.to_excel('exportar/dobr_grouped_uf_v2.xlsx', index=False)"
   ]
  },
  {
   "cell_type": "code",
   "execution_count": null,
   "metadata": {
    "vscode": {
     "languageId": "ruby"
    }
   },
   "outputs": [],
   "source": [
    "# heat_ds_treat2.columns"
   ]
  },
  {
   "cell_type": "code",
   "execution_count": null,
   "metadata": {},
   "outputs": [],
   "source": [
    "# # Trazer dados por UF (setting e setting_average)\n",
    "\n",
    "# # Realizar o merge entre heat_ e uf_sett\n",
    "# heat_treat00 = pd.merge(heat_ds_treat2, dobr_grouped_uf, on=['UF',\n",
    "#                                                                 'ANO_OBITO',\n",
    "#                                                                 # 'SEXO',\n",
    "#                                                                 # 'RACACOR'\n",
    "#                                                                 ], how='left')\n",
    "\n",
    "# # Exibir as primeiras linhas do dataframe resultante\n",
    "# heat_treat00.head()"
   ]
  },
  {
   "cell_type": "code",
   "execution_count": null,
   "metadata": {},
   "outputs": [],
   "source": [
    "# # Teste de aplicação de setting_average (médias por UF)\n",
    "# filtered_data = heat_treat00[   (heat_treat00['ANO_OBITO'] == '_2022') &\n",
    "#                                 (heat_treat00['UF'] == 'AC') \n",
    "#                                 # & (heat_treat00['SEXO'] == '_1') &\n",
    "#                                 #(heat_treat00['RACACOR'] == '_4')\n",
    "#                               ]\n",
    "# filtered_data.head()"
   ]
  },
  {
   "cell_type": "code",
   "execution_count": 166,
   "metadata": {},
   "outputs": [
    {
     "data": {
      "text/plain": [
       "Index(['CODMUNRES', 'ANO_OBITO', 'POP_MERGE', 'CONTADOR', 'pop_under74', 'UF',\n",
       "       'mun_no', 'mort_ind_mun', 'obito_count_uf', 'pop_under74_uf',\n",
       "       'mort_ind_uf'],\n",
       "      dtype='object')"
      ]
     },
     "execution_count": 166,
     "metadata": {},
     "output_type": "execute_result"
    }
   ],
   "source": [
    "# heat_treat00.columns"
   ]
  },
  {
   "cell_type": "code",
   "execution_count": 177,
   "metadata": {},
   "outputs": [
    {
     "data": {
      "text/plain": [
       "74248156186.0"
      ]
     },
     "execution_count": 177,
     "metadata": {},
     "output_type": "execute_result"
    }
   ],
   "source": [
    "# heat_treat00.pop_under74_uf.sum()"
   ]
  },
  {
   "cell_type": "code",
   "execution_count": 174,
   "metadata": {},
   "outputs": [
    {
     "name": "stdout",
     "output_type": "stream",
     "text": [
      "\u001b[31m ==> Número de mortes: 534729 \u001b[0m\n",
      "\u001b[31m ==> Número de população abaixo de 75 anos é de 194644474.0 \u001b[0m\n"
     ]
    }
   ],
   "source": [
    "# obito_num = heat_treat00.CONTADOR.sum()\n",
    "# pop_under74 = heat_treat00.pop_under74.sum()\n",
    "\n",
    "# print(f\"\\033[33m ==> Número de mortes: {obito_num} \\033[0m\")\n",
    "# print(f\"\\033[33m ==> Número de população abaixo de 75 anos é de {pop_under74} \\033[0m\")  \n"
   ]
  },
  {
   "cell_type": "code",
   "execution_count": null,
   "metadata": {},
   "outputs": [],
   "source": [
    "# heat_template = row\n",
    "# heat_template"
   ]
  },
  {
   "cell_type": "markdown",
   "metadata": {},
   "source": [
    "##### Criar colunas do dataset"
   ]
  },
  {
   "cell_type": "code",
   "execution_count": null,
   "metadata": {},
   "outputs": [],
   "source": []
  },
  {
   "cell_type": "code",
   "execution_count": 196,
   "metadata": {},
   "outputs": [
    {
     "name": "stdout",
     "output_type": "stream",
     "text": [
      "  ANO_OBITO  set_avg_BR\n",
      "0     _2010  257.615194\n",
      "1     _2019  258.919766\n",
      "2     _2020  256.542023\n",
      "3     _2021  266.310807\n",
      "4     _2022  274.720874\n"
     ]
    }
   ],
   "source": [
    "# Agrupar os dados por ano e calcular o número de óbitos e a população abaixo de 74 anos para cada ano\n",
    "grouped_data = heat_ds_treat1.groupby('ANO_OBITO').agg({\n",
    "    'CONTADOR': 'sum',\n",
    "    'pop_under74': 'sum'\n",
    "}).reset_index()\n",
    "\n",
    "# Calcular set_avg_BR para cada ano\n",
    "grouped_data['set_avg_BR'] = (grouped_data['CONTADOR'] / grouped_data['pop_under74']) * 100000\n",
    "\n",
    "# Exibir os resultados\n",
    "print(grouped_data[['ANO_OBITO', 'set_avg_BR']])"
   ]
  },
  {
   "cell_type": "code",
   "execution_count": 197,
   "metadata": {},
   "outputs": [
    {
     "data": {
      "text/html": [
       "<div>\n",
       "<style scoped>\n",
       "    .dataframe tbody tr th:only-of-type {\n",
       "        vertical-align: middle;\n",
       "    }\n",
       "\n",
       "    .dataframe tbody tr th {\n",
       "        vertical-align: top;\n",
       "    }\n",
       "\n",
       "    .dataframe thead th {\n",
       "        text-align: right;\n",
       "    }\n",
       "</style>\n",
       "<table border=\"1\" class=\"dataframe\">\n",
       "  <thead>\n",
       "    <tr style=\"text-align: right;\">\n",
       "      <th></th>\n",
       "      <th>CODMUNRES</th>\n",
       "      <th>ANO_OBITO</th>\n",
       "      <th>POP_MERGE</th>\n",
       "      <th>CONTADOR</th>\n",
       "      <th>pop_under74</th>\n",
       "      <th>UF</th>\n",
       "      <th>mun_no</th>\n",
       "      <th>mort_ind_mun</th>\n",
       "      <th>set_avg_BR</th>\n",
       "    </tr>\n",
       "  </thead>\n",
       "  <tbody>\n",
       "    <tr>\n",
       "      <th>0</th>\n",
       "      <td>_110001</td>\n",
       "      <td>_2010</td>\n",
       "      <td>_2010_110001</td>\n",
       "      <td>58</td>\n",
       "      <td>23948.0</td>\n",
       "      <td>RO</td>\n",
       "      <td>Alta Floresta D'Oeste</td>\n",
       "      <td>242.191415</td>\n",
       "      <td>257.615194</td>\n",
       "    </tr>\n",
       "    <tr>\n",
       "      <th>1</th>\n",
       "      <td>_110001</td>\n",
       "      <td>_2019</td>\n",
       "      <td>_2022_110001</td>\n",
       "      <td>67</td>\n",
       "      <td>20742.0</td>\n",
       "      <td>RO</td>\n",
       "      <td>Alta Floresta D'Oeste</td>\n",
       "      <td>323.016103</td>\n",
       "      <td>258.919766</td>\n",
       "    </tr>\n",
       "    <tr>\n",
       "      <th>2</th>\n",
       "      <td>_110001</td>\n",
       "      <td>_2020</td>\n",
       "      <td>_2022_110001</td>\n",
       "      <td>68</td>\n",
       "      <td>20742.0</td>\n",
       "      <td>RO</td>\n",
       "      <td>Alta Floresta D'Oeste</td>\n",
       "      <td>327.837238</td>\n",
       "      <td>256.542023</td>\n",
       "    </tr>\n",
       "    <tr>\n",
       "      <th>3</th>\n",
       "      <td>_110001</td>\n",
       "      <td>_2021</td>\n",
       "      <td>_2022_110001</td>\n",
       "      <td>45</td>\n",
       "      <td>20742.0</td>\n",
       "      <td>RO</td>\n",
       "      <td>Alta Floresta D'Oeste</td>\n",
       "      <td>216.951114</td>\n",
       "      <td>266.310807</td>\n",
       "    </tr>\n",
       "    <tr>\n",
       "      <th>4</th>\n",
       "      <td>_110001</td>\n",
       "      <td>_2022</td>\n",
       "      <td>_2022_110001</td>\n",
       "      <td>64</td>\n",
       "      <td>20742.0</td>\n",
       "      <td>RO</td>\n",
       "      <td>Alta Floresta D'Oeste</td>\n",
       "      <td>308.552695</td>\n",
       "      <td>274.720874</td>\n",
       "    </tr>\n",
       "  </tbody>\n",
       "</table>\n",
       "</div>"
      ],
      "text/plain": [
       "  CODMUNRES ANO_OBITO     POP_MERGE  CONTADOR  pop_under74  UF  \\\n",
       "0   _110001     _2010  _2010_110001        58      23948.0  RO   \n",
       "1   _110001     _2019  _2022_110001        67      20742.0  RO   \n",
       "2   _110001     _2020  _2022_110001        68      20742.0  RO   \n",
       "3   _110001     _2021  _2022_110001        45      20742.0  RO   \n",
       "4   _110001     _2022  _2022_110001        64      20742.0  RO   \n",
       "\n",
       "                   mun_no  mort_ind_mun  set_avg_BR  \n",
       "0  Alta Floresta D'Oeste     242.191415  257.615194  \n",
       "1  Alta Floresta D'Oeste     323.016103  258.919766  \n",
       "2  Alta Floresta D'Oeste     327.837238  256.542023  \n",
       "3  Alta Floresta D'Oeste     216.951114  266.310807  \n",
       "4  Alta Floresta D'Oeste     308.552695  274.720874  "
      ]
     },
     "execution_count": 197,
     "metadata": {},
     "output_type": "execute_result"
    }
   ],
   "source": [
    "# Realizar o merge entre heat_ds_treat2 e grouped_data usando a coluna ANO_OBITO\n",
    "heat_ds_treat2 = pd.merge(heat_ds_treat1, grouped_data[['ANO_OBITO', 'set_avg_BR']], on='ANO_OBITO', how='left')\n",
    "\n",
    "# Exibir as primeiras linhas do dataframe resultante\n",
    "heat_ds_treat2.head()"
   ]
  },
  {
   "cell_type": "code",
   "execution_count": 198,
   "metadata": {},
   "outputs": [
    {
     "data": {
      "text/html": [
       "<div>\n",
       "<style scoped>\n",
       "    .dataframe tbody tr th:only-of-type {\n",
       "        vertical-align: middle;\n",
       "    }\n",
       "\n",
       "    .dataframe tbody tr th {\n",
       "        vertical-align: top;\n",
       "    }\n",
       "\n",
       "    .dataframe thead th {\n",
       "        text-align: right;\n",
       "    }\n",
       "</style>\n",
       "<table border=\"1\" class=\"dataframe\">\n",
       "  <thead>\n",
       "    <tr style=\"text-align: right;\">\n",
       "      <th></th>\n",
       "      <th>CODMUNRES</th>\n",
       "      <th>ANO_OBITO</th>\n",
       "      <th>POP_MERGE</th>\n",
       "      <th>CONTADOR</th>\n",
       "      <th>pop_under74</th>\n",
       "      <th>UF</th>\n",
       "      <th>mun_no</th>\n",
       "      <th>mort_ind_mun</th>\n",
       "      <th>set_avg_BR</th>\n",
       "      <th>setting</th>\n",
       "      <th>...</th>\n",
       "      <th>favourable_indicator</th>\n",
       "      <th>indicator_scale</th>\n",
       "      <th>ordered_dimension</th>\n",
       "      <th>subgroup_order</th>\n",
       "      <th>reference_subgroup</th>\n",
       "      <th>note</th>\n",
       "      <th>se</th>\n",
       "      <th>ci_lb</th>\n",
       "      <th>ci_ub</th>\n",
       "      <th>iso3</th>\n",
       "    </tr>\n",
       "  </thead>\n",
       "  <tbody>\n",
       "    <tr>\n",
       "      <th>0</th>\n",
       "      <td>_110001</td>\n",
       "      <td>_2010</td>\n",
       "      <td>_2010_110001</td>\n",
       "      <td>58</td>\n",
       "      <td>23948.0</td>\n",
       "      <td>RO</td>\n",
       "      <td>Alta Floresta D'Oeste</td>\n",
       "      <td>242.191415</td>\n",
       "      <td>257.615194</td>\n",
       "      <td>Brasil</td>\n",
       "      <td>...</td>\n",
       "      <td>0</td>\n",
       "      <td>100000</td>\n",
       "      <td>0</td>\n",
       "      <td>0</td>\n",
       "      <td>0</td>\n",
       "      <td></td>\n",
       "      <td></td>\n",
       "      <td></td>\n",
       "      <td></td>\n",
       "      <td>BRA</td>\n",
       "    </tr>\n",
       "    <tr>\n",
       "      <th>1</th>\n",
       "      <td>_110001</td>\n",
       "      <td>_2019</td>\n",
       "      <td>_2022_110001</td>\n",
       "      <td>67</td>\n",
       "      <td>20742.0</td>\n",
       "      <td>RO</td>\n",
       "      <td>Alta Floresta D'Oeste</td>\n",
       "      <td>323.016103</td>\n",
       "      <td>258.919766</td>\n",
       "      <td>Brasil</td>\n",
       "      <td>...</td>\n",
       "      <td>0</td>\n",
       "      <td>100000</td>\n",
       "      <td>0</td>\n",
       "      <td>0</td>\n",
       "      <td>0</td>\n",
       "      <td></td>\n",
       "      <td></td>\n",
       "      <td></td>\n",
       "      <td></td>\n",
       "      <td>BRA</td>\n",
       "    </tr>\n",
       "    <tr>\n",
       "      <th>2</th>\n",
       "      <td>_110001</td>\n",
       "      <td>_2020</td>\n",
       "      <td>_2022_110001</td>\n",
       "      <td>68</td>\n",
       "      <td>20742.0</td>\n",
       "      <td>RO</td>\n",
       "      <td>Alta Floresta D'Oeste</td>\n",
       "      <td>327.837238</td>\n",
       "      <td>256.542023</td>\n",
       "      <td>Brasil</td>\n",
       "      <td>...</td>\n",
       "      <td>0</td>\n",
       "      <td>100000</td>\n",
       "      <td>0</td>\n",
       "      <td>0</td>\n",
       "      <td>0</td>\n",
       "      <td></td>\n",
       "      <td></td>\n",
       "      <td></td>\n",
       "      <td></td>\n",
       "      <td>BRA</td>\n",
       "    </tr>\n",
       "    <tr>\n",
       "      <th>3</th>\n",
       "      <td>_110001</td>\n",
       "      <td>_2021</td>\n",
       "      <td>_2022_110001</td>\n",
       "      <td>45</td>\n",
       "      <td>20742.0</td>\n",
       "      <td>RO</td>\n",
       "      <td>Alta Floresta D'Oeste</td>\n",
       "      <td>216.951114</td>\n",
       "      <td>266.310807</td>\n",
       "      <td>Brasil</td>\n",
       "      <td>...</td>\n",
       "      <td>0</td>\n",
       "      <td>100000</td>\n",
       "      <td>0</td>\n",
       "      <td>0</td>\n",
       "      <td>0</td>\n",
       "      <td></td>\n",
       "      <td></td>\n",
       "      <td></td>\n",
       "      <td></td>\n",
       "      <td>BRA</td>\n",
       "    </tr>\n",
       "    <tr>\n",
       "      <th>4</th>\n",
       "      <td>_110001</td>\n",
       "      <td>_2022</td>\n",
       "      <td>_2022_110001</td>\n",
       "      <td>64</td>\n",
       "      <td>20742.0</td>\n",
       "      <td>RO</td>\n",
       "      <td>Alta Floresta D'Oeste</td>\n",
       "      <td>308.552695</td>\n",
       "      <td>274.720874</td>\n",
       "      <td>Brasil</td>\n",
       "      <td>...</td>\n",
       "      <td>0</td>\n",
       "      <td>100000</td>\n",
       "      <td>0</td>\n",
       "      <td>0</td>\n",
       "      <td>0</td>\n",
       "      <td></td>\n",
       "      <td></td>\n",
       "      <td></td>\n",
       "      <td></td>\n",
       "      <td>BRA</td>\n",
       "    </tr>\n",
       "  </tbody>\n",
       "</table>\n",
       "<p>5 rows × 23 columns</p>\n",
       "</div>"
      ],
      "text/plain": [
       "  CODMUNRES ANO_OBITO     POP_MERGE  CONTADOR  pop_under74  UF  \\\n",
       "0   _110001     _2010  _2010_110001        58      23948.0  RO   \n",
       "1   _110001     _2019  _2022_110001        67      20742.0  RO   \n",
       "2   _110001     _2020  _2022_110001        68      20742.0  RO   \n",
       "3   _110001     _2021  _2022_110001        45      20742.0  RO   \n",
       "4   _110001     _2022  _2022_110001        64      20742.0  RO   \n",
       "\n",
       "                   mun_no  mort_ind_mun  set_avg_BR setting  ...  \\\n",
       "0  Alta Floresta D'Oeste     242.191415  257.615194  Brasil  ...   \n",
       "1  Alta Floresta D'Oeste     323.016103  258.919766  Brasil  ...   \n",
       "2  Alta Floresta D'Oeste     327.837238  256.542023  Brasil  ...   \n",
       "3  Alta Floresta D'Oeste     216.951114  266.310807  Brasil  ...   \n",
       "4  Alta Floresta D'Oeste     308.552695  274.720874  Brasil  ...   \n",
       "\n",
       "  favourable_indicator indicator_scale ordered_dimension  subgroup_order  \\\n",
       "0                    0          100000                 0               0   \n",
       "1                    0          100000                 0               0   \n",
       "2                    0          100000                 0               0   \n",
       "3                    0          100000                 0               0   \n",
       "4                    0          100000                 0               0   \n",
       "\n",
       "   reference_subgroup  note  se  ci_lb ci_ub iso3  \n",
       "0                   0                         BRA  \n",
       "1                   0                         BRA  \n",
       "2                   0                         BRA  \n",
       "3                   0                         BRA  \n",
       "4                   0                         BRA  \n",
       "\n",
       "[5 rows x 23 columns]"
      ]
     },
     "execution_count": 198,
     "metadata": {},
     "output_type": "execute_result"
    }
   ],
   "source": [
    "# Gerar colunas sem informação ou com informação padronizada\n",
    "# heat_treat01 = heat_semCID_clean # caso não seja agrupado por UF anteriormente\n",
    "heat_treat3 = heat_ds_treat2.copy() # caso seja agrupado por UF anteriormente\n",
    "\n",
    "heat_treat3['setting'] = 'Brasil'\n",
    "# heat_treat01['setting_average'] = set_avg_BR\n",
    "\n",
    "heat_treat3['indicator_abbr'] = 'AVM'\n",
    "heat_treat3['indicator_name'] = 'Avoidable mortality (deaths per 100 000 population)'\n",
    "heat_treat3['source'] = 'SIM/SUS & Censo/IBGE'\n",
    "heat_treat3['favourable_indicator'] = 0\n",
    "heat_treat3['indicator_scale'] = 100000\n",
    "heat_treat3['ordered_dimension'] = 0\n",
    "heat_treat3['subgroup_order'] = 0\n",
    "heat_treat3['reference_subgroup'] = 0\n",
    "heat_treat3['note'] = ''\n",
    "heat_treat3['se'] = ''\n",
    "heat_treat3['ci_lb'] = ''\n",
    "heat_treat3['ci_ub'] = ''\n",
    "heat_treat3['iso3'] = 'BRA'\n",
    "\n",
    "\n",
    "heat_treat3.head()\n"
   ]
  },
  {
   "cell_type": "code",
   "execution_count": 199,
   "metadata": {},
   "outputs": [
    {
     "data": {
      "text/plain": [
       "Index(['CODMUNRES', 'ANO_OBITO', 'POP_MERGE', 'CONTADOR', 'pop_under74', 'UF',\n",
       "       'mun_no', 'mort_ind_mun', 'set_avg_BR', 'setting', 'indicator_abbr',\n",
       "       'indicator_name', 'source', 'favourable_indicator', 'indicator_scale',\n",
       "       'ordered_dimension', 'subgroup_order', 'reference_subgroup', 'note',\n",
       "       'se', 'ci_lb', 'ci_ub', 'iso3'],\n",
       "      dtype='object')"
      ]
     },
     "execution_count": 199,
     "metadata": {},
     "output_type": "execute_result"
    }
   ],
   "source": [
    "heat_treat3.columns"
   ]
  },
  {
   "cell_type": "code",
   "execution_count": 285,
   "metadata": {},
   "outputs": [],
   "source": [
    "# # Trazer labels para sexo e raçacor\n",
    "# heat_treat02 = heat_treat01.copy()\n",
    "\n",
    "# heat_treat02['SEXO'] = heat_treat02['SEXO'].map({\n",
    "#                                             '_1':'Homens',\n",
    "#                                             '_2':'Mulheres'\n",
    "#                                             })\n",
    "# heat_treat02['RACACOR'] = heat_treat02['RACACOR'].map({\n",
    "#                                             '_1':'Branca',\n",
    "#                                             '_2':'Preta',\n",
    "#                                             '_3':'Amarela',\n",
    "#                                             '_4':'Parda',\n",
    "#                                             '_5':'Indígena',\n",
    "#                                             '_9':'Sem declaração'\n",
    "#                                             })\n",
    "\n",
    "# heat_treat02['subgroup'] = heat_treat02['SEXO'] + ' - raça/cor '  +  heat_treat02['RACACOR']\n"
   ]
  },
  {
   "cell_type": "code",
   "execution_count": 53,
   "metadata": {},
   "outputs": [
    {
     "data": {
      "text/plain": [
       "array(['Homens - raça/cor Parda', 'Mulheres - raça/cor Branca',\n",
       "       'Mulheres - raça/cor Parda', 'Homens - raça/cor Branca',\n",
       "       'Homens - raça/cor Indígena', 'Mulheres - raça/cor Indígena',\n",
       "       'Homens - raça/cor Preta', 'Mulheres - raça/cor Preta',\n",
       "       'Homens - raça/cor Amarela', 'Mulheres - raça/cor Amarela'],\n",
       "      dtype=object)"
      ]
     },
     "execution_count": 53,
     "metadata": {},
     "output_type": "execute_result"
    }
   ],
   "source": [
    "# heat_treat02['subgroup'].unique()"
   ]
  },
  {
   "cell_type": "code",
   "execution_count": 286,
   "metadata": {},
   "outputs": [
    {
     "data": {
      "text/plain": [
       "Index(['CODMUNRES', 'SEXO', 'RACACOR', 'ANO', 'POP_MERGE', 'obito_count',\n",
       "       'pop_under74', 'UF', 'mun_nome', 'mort_ind_mun', 'obito_count_uf',\n",
       "       'pop_under74_uf', 'mort_ind_uf', 'indicator_abbr', 'indicator_name',\n",
       "       'source', 'favourable_indicator', 'indicator_scale',\n",
       "       'ordered_dimension', 'subgroup_order', 'reference_subgroup', 'note',\n",
       "       'se', 'ci_lb', 'ci_ub', 'iso3', 'subgroup'],\n",
       "      dtype='object')"
      ]
     },
     "execution_count": 286,
     "metadata": {},
     "output_type": "execute_result"
    }
   ],
   "source": [
    "# heat_treat02.columns"
   ]
  },
  {
   "cell_type": "code",
   "execution_count": 200,
   "metadata": {},
   "outputs": [
    {
     "data": {
      "text/html": [
       "<div>\n",
       "<style scoped>\n",
       "    .dataframe tbody tr th:only-of-type {\n",
       "        vertical-align: middle;\n",
       "    }\n",
       "\n",
       "    .dataframe tbody tr th {\n",
       "        vertical-align: top;\n",
       "    }\n",
       "\n",
       "    .dataframe thead th {\n",
       "        text-align: right;\n",
       "    }\n",
       "</style>\n",
       "<table border=\"1\" class=\"dataframe\">\n",
       "  <thead>\n",
       "    <tr style=\"text-align: right;\">\n",
       "      <th></th>\n",
       "      <th>CODMUNRES</th>\n",
       "      <th>date</th>\n",
       "      <th>POP_MERGE</th>\n",
       "      <th>CONTADOR</th>\n",
       "      <th>population</th>\n",
       "      <th>dimension</th>\n",
       "      <th>subgroup</th>\n",
       "      <th>estimate</th>\n",
       "      <th>setting_average</th>\n",
       "      <th>setting</th>\n",
       "      <th>...</th>\n",
       "      <th>favourable_indicator</th>\n",
       "      <th>indicator_scale</th>\n",
       "      <th>ordered_dimension</th>\n",
       "      <th>subgroup_order</th>\n",
       "      <th>reference_subgroup</th>\n",
       "      <th>note</th>\n",
       "      <th>se</th>\n",
       "      <th>ci_lb</th>\n",
       "      <th>ci_ub</th>\n",
       "      <th>iso3</th>\n",
       "    </tr>\n",
       "  </thead>\n",
       "  <tbody>\n",
       "    <tr>\n",
       "      <th>0</th>\n",
       "      <td>_110001</td>\n",
       "      <td>_2010</td>\n",
       "      <td>_2010_110001</td>\n",
       "      <td>58</td>\n",
       "      <td>23948.0</td>\n",
       "      <td>RO</td>\n",
       "      <td>Alta Floresta D'Oeste</td>\n",
       "      <td>242.191415</td>\n",
       "      <td>257.615194</td>\n",
       "      <td>Brasil</td>\n",
       "      <td>...</td>\n",
       "      <td>0</td>\n",
       "      <td>100000</td>\n",
       "      <td>0</td>\n",
       "      <td>0</td>\n",
       "      <td>0</td>\n",
       "      <td></td>\n",
       "      <td></td>\n",
       "      <td></td>\n",
       "      <td></td>\n",
       "      <td>BRA</td>\n",
       "    </tr>\n",
       "    <tr>\n",
       "      <th>1</th>\n",
       "      <td>_110001</td>\n",
       "      <td>_2019</td>\n",
       "      <td>_2022_110001</td>\n",
       "      <td>67</td>\n",
       "      <td>20742.0</td>\n",
       "      <td>RO</td>\n",
       "      <td>Alta Floresta D'Oeste</td>\n",
       "      <td>323.016103</td>\n",
       "      <td>258.919766</td>\n",
       "      <td>Brasil</td>\n",
       "      <td>...</td>\n",
       "      <td>0</td>\n",
       "      <td>100000</td>\n",
       "      <td>0</td>\n",
       "      <td>0</td>\n",
       "      <td>0</td>\n",
       "      <td></td>\n",
       "      <td></td>\n",
       "      <td></td>\n",
       "      <td></td>\n",
       "      <td>BRA</td>\n",
       "    </tr>\n",
       "    <tr>\n",
       "      <th>2</th>\n",
       "      <td>_110001</td>\n",
       "      <td>_2020</td>\n",
       "      <td>_2022_110001</td>\n",
       "      <td>68</td>\n",
       "      <td>20742.0</td>\n",
       "      <td>RO</td>\n",
       "      <td>Alta Floresta D'Oeste</td>\n",
       "      <td>327.837238</td>\n",
       "      <td>256.542023</td>\n",
       "      <td>Brasil</td>\n",
       "      <td>...</td>\n",
       "      <td>0</td>\n",
       "      <td>100000</td>\n",
       "      <td>0</td>\n",
       "      <td>0</td>\n",
       "      <td>0</td>\n",
       "      <td></td>\n",
       "      <td></td>\n",
       "      <td></td>\n",
       "      <td></td>\n",
       "      <td>BRA</td>\n",
       "    </tr>\n",
       "    <tr>\n",
       "      <th>3</th>\n",
       "      <td>_110001</td>\n",
       "      <td>_2021</td>\n",
       "      <td>_2022_110001</td>\n",
       "      <td>45</td>\n",
       "      <td>20742.0</td>\n",
       "      <td>RO</td>\n",
       "      <td>Alta Floresta D'Oeste</td>\n",
       "      <td>216.951114</td>\n",
       "      <td>266.310807</td>\n",
       "      <td>Brasil</td>\n",
       "      <td>...</td>\n",
       "      <td>0</td>\n",
       "      <td>100000</td>\n",
       "      <td>0</td>\n",
       "      <td>0</td>\n",
       "      <td>0</td>\n",
       "      <td></td>\n",
       "      <td></td>\n",
       "      <td></td>\n",
       "      <td></td>\n",
       "      <td>BRA</td>\n",
       "    </tr>\n",
       "    <tr>\n",
       "      <th>4</th>\n",
       "      <td>_110001</td>\n",
       "      <td>_2022</td>\n",
       "      <td>_2022_110001</td>\n",
       "      <td>64</td>\n",
       "      <td>20742.0</td>\n",
       "      <td>RO</td>\n",
       "      <td>Alta Floresta D'Oeste</td>\n",
       "      <td>308.552695</td>\n",
       "      <td>274.720874</td>\n",
       "      <td>Brasil</td>\n",
       "      <td>...</td>\n",
       "      <td>0</td>\n",
       "      <td>100000</td>\n",
       "      <td>0</td>\n",
       "      <td>0</td>\n",
       "      <td>0</td>\n",
       "      <td></td>\n",
       "      <td></td>\n",
       "      <td></td>\n",
       "      <td></td>\n",
       "      <td>BRA</td>\n",
       "    </tr>\n",
       "  </tbody>\n",
       "</table>\n",
       "<p>5 rows × 23 columns</p>\n",
       "</div>"
      ],
      "text/plain": [
       "  CODMUNRES   date     POP_MERGE  CONTADOR  population dimension  \\\n",
       "0   _110001  _2010  _2010_110001        58     23948.0        RO   \n",
       "1   _110001  _2019  _2022_110001        67     20742.0        RO   \n",
       "2   _110001  _2020  _2022_110001        68     20742.0        RO   \n",
       "3   _110001  _2021  _2022_110001        45     20742.0        RO   \n",
       "4   _110001  _2022  _2022_110001        64     20742.0        RO   \n",
       "\n",
       "                 subgroup    estimate  setting_average setting  ...  \\\n",
       "0  Alta Floresta D'Oeste   242.191415       257.615194  Brasil  ...   \n",
       "1  Alta Floresta D'Oeste   323.016103       258.919766  Brasil  ...   \n",
       "2  Alta Floresta D'Oeste   327.837238       256.542023  Brasil  ...   \n",
       "3  Alta Floresta D'Oeste   216.951114       266.310807  Brasil  ...   \n",
       "4  Alta Floresta D'Oeste   308.552695       274.720874  Brasil  ...   \n",
       "\n",
       "  favourable_indicator indicator_scale ordered_dimension  subgroup_order  \\\n",
       "0                    0          100000                 0               0   \n",
       "1                    0          100000                 0               0   \n",
       "2                    0          100000                 0               0   \n",
       "3                    0          100000                 0               0   \n",
       "4                    0          100000                 0               0   \n",
       "\n",
       "   reference_subgroup  note  se  ci_lb ci_ub iso3  \n",
       "0                   0                         BRA  \n",
       "1                   0                         BRA  \n",
       "2                   0                         BRA  \n",
       "3                   0                         BRA  \n",
       "4                   0                         BRA  \n",
       "\n",
       "[5 rows x 23 columns]"
      ]
     },
     "execution_count": 200,
     "metadata": {},
     "output_type": "execute_result"
    }
   ],
   "source": [
    "# Renomear colunas de heat_treat01\n",
    "heat_treat4 = heat_treat3.rename(columns={\n",
    "    'ANO_OBITO':'date',\n",
    "    'pop_under74':'population',\n",
    "    'UF':'dimension',\n",
    "    'mun_no':'subgroup',\n",
    "    'mort_ind_mun':'estimate',\n",
    "    'set_avg_BR':'setting_average',\n",
    "    # 'mort_ind_uf':'setting_average'\n",
    "})\n",
    "\n",
    "heat_treat4.head()"
   ]
  },
  {
   "cell_type": "code",
   "execution_count": 201,
   "metadata": {},
   "outputs": [
    {
     "data": {
      "text/plain": [
       "2533528"
      ]
     },
     "execution_count": 201,
     "metadata": {},
     "output_type": "execute_result"
    }
   ],
   "source": [
    "heat_treat4.CONTADOR.sum()"
   ]
  },
  {
   "cell_type": "code",
   "execution_count": 202,
   "metadata": {},
   "outputs": [
    {
     "data": {
      "text/plain": [
       "count    27817.000000\n",
       "mean       268.207663\n",
       "std         87.673481\n",
       "min         12.640627\n",
       "25%        211.782434\n",
       "50%        263.208494\n",
       "75%        317.028986\n",
       "max        940.733772\n",
       "Name: estimate, dtype: float64"
      ]
     },
     "execution_count": 202,
     "metadata": {},
     "output_type": "execute_result"
    }
   ],
   "source": [
    "heat_treat4.estimate.describe()"
   ]
  },
  {
   "cell_type": "code",
   "execution_count": 203,
   "metadata": {},
   "outputs": [
    {
     "data": {
      "text/html": [
       "<div>\n",
       "<style scoped>\n",
       "    .dataframe tbody tr th:only-of-type {\n",
       "        vertical-align: middle;\n",
       "    }\n",
       "\n",
       "    .dataframe tbody tr th {\n",
       "        vertical-align: top;\n",
       "    }\n",
       "\n",
       "    .dataframe thead th {\n",
       "        text-align: right;\n",
       "    }\n",
       "</style>\n",
       "<table border=\"1\" class=\"dataframe\">\n",
       "  <thead>\n",
       "    <tr style=\"text-align: right;\">\n",
       "      <th></th>\n",
       "      <th>CODMUNRES</th>\n",
       "      <th>date</th>\n",
       "      <th>POP_MERGE</th>\n",
       "      <th>CONTADOR</th>\n",
       "      <th>population</th>\n",
       "      <th>dimension</th>\n",
       "      <th>subgroup</th>\n",
       "      <th>estimate</th>\n",
       "      <th>setting_average</th>\n",
       "      <th>setting</th>\n",
       "      <th>...</th>\n",
       "      <th>favourable_indicator</th>\n",
       "      <th>indicator_scale</th>\n",
       "      <th>ordered_dimension</th>\n",
       "      <th>subgroup_order</th>\n",
       "      <th>reference_subgroup</th>\n",
       "      <th>note</th>\n",
       "      <th>se</th>\n",
       "      <th>ci_lb</th>\n",
       "      <th>ci_ub</th>\n",
       "      <th>iso3</th>\n",
       "    </tr>\n",
       "  </thead>\n",
       "  <tbody>\n",
       "    <tr>\n",
       "      <th>0</th>\n",
       "      <td>_110001</td>\n",
       "      <td>2010</td>\n",
       "      <td>_2010_110001</td>\n",
       "      <td>58</td>\n",
       "      <td>23948.0</td>\n",
       "      <td>RO</td>\n",
       "      <td>Alta Floresta D'Oeste</td>\n",
       "      <td>242.191415</td>\n",
       "      <td>257.615194</td>\n",
       "      <td>Brasil</td>\n",
       "      <td>...</td>\n",
       "      <td>0</td>\n",
       "      <td>100000</td>\n",
       "      <td>0</td>\n",
       "      <td>0</td>\n",
       "      <td>0</td>\n",
       "      <td></td>\n",
       "      <td></td>\n",
       "      <td></td>\n",
       "      <td></td>\n",
       "      <td>BRA</td>\n",
       "    </tr>\n",
       "    <tr>\n",
       "      <th>1</th>\n",
       "      <td>_110001</td>\n",
       "      <td>2019</td>\n",
       "      <td>_2022_110001</td>\n",
       "      <td>67</td>\n",
       "      <td>20742.0</td>\n",
       "      <td>RO</td>\n",
       "      <td>Alta Floresta D'Oeste</td>\n",
       "      <td>323.016103</td>\n",
       "      <td>258.919766</td>\n",
       "      <td>Brasil</td>\n",
       "      <td>...</td>\n",
       "      <td>0</td>\n",
       "      <td>100000</td>\n",
       "      <td>0</td>\n",
       "      <td>0</td>\n",
       "      <td>0</td>\n",
       "      <td></td>\n",
       "      <td></td>\n",
       "      <td></td>\n",
       "      <td></td>\n",
       "      <td>BRA</td>\n",
       "    </tr>\n",
       "    <tr>\n",
       "      <th>2</th>\n",
       "      <td>_110001</td>\n",
       "      <td>2020</td>\n",
       "      <td>_2022_110001</td>\n",
       "      <td>68</td>\n",
       "      <td>20742.0</td>\n",
       "      <td>RO</td>\n",
       "      <td>Alta Floresta D'Oeste</td>\n",
       "      <td>327.837238</td>\n",
       "      <td>256.542023</td>\n",
       "      <td>Brasil</td>\n",
       "      <td>...</td>\n",
       "      <td>0</td>\n",
       "      <td>100000</td>\n",
       "      <td>0</td>\n",
       "      <td>0</td>\n",
       "      <td>0</td>\n",
       "      <td></td>\n",
       "      <td></td>\n",
       "      <td></td>\n",
       "      <td></td>\n",
       "      <td>BRA</td>\n",
       "    </tr>\n",
       "    <tr>\n",
       "      <th>3</th>\n",
       "      <td>_110001</td>\n",
       "      <td>2021</td>\n",
       "      <td>_2022_110001</td>\n",
       "      <td>45</td>\n",
       "      <td>20742.0</td>\n",
       "      <td>RO</td>\n",
       "      <td>Alta Floresta D'Oeste</td>\n",
       "      <td>216.951114</td>\n",
       "      <td>266.310807</td>\n",
       "      <td>Brasil</td>\n",
       "      <td>...</td>\n",
       "      <td>0</td>\n",
       "      <td>100000</td>\n",
       "      <td>0</td>\n",
       "      <td>0</td>\n",
       "      <td>0</td>\n",
       "      <td></td>\n",
       "      <td></td>\n",
       "      <td></td>\n",
       "      <td></td>\n",
       "      <td>BRA</td>\n",
       "    </tr>\n",
       "    <tr>\n",
       "      <th>4</th>\n",
       "      <td>_110001</td>\n",
       "      <td>2022</td>\n",
       "      <td>_2022_110001</td>\n",
       "      <td>64</td>\n",
       "      <td>20742.0</td>\n",
       "      <td>RO</td>\n",
       "      <td>Alta Floresta D'Oeste</td>\n",
       "      <td>308.552695</td>\n",
       "      <td>274.720874</td>\n",
       "      <td>Brasil</td>\n",
       "      <td>...</td>\n",
       "      <td>0</td>\n",
       "      <td>100000</td>\n",
       "      <td>0</td>\n",
       "      <td>0</td>\n",
       "      <td>0</td>\n",
       "      <td></td>\n",
       "      <td></td>\n",
       "      <td></td>\n",
       "      <td></td>\n",
       "      <td>BRA</td>\n",
       "    </tr>\n",
       "  </tbody>\n",
       "</table>\n",
       "<p>5 rows × 23 columns</p>\n",
       "</div>"
      ],
      "text/plain": [
       "  CODMUNRES  date     POP_MERGE  CONTADOR  population dimension  \\\n",
       "0   _110001  2010  _2010_110001        58     23948.0        RO   \n",
       "1   _110001  2019  _2022_110001        67     20742.0        RO   \n",
       "2   _110001  2020  _2022_110001        68     20742.0        RO   \n",
       "3   _110001  2021  _2022_110001        45     20742.0        RO   \n",
       "4   _110001  2022  _2022_110001        64     20742.0        RO   \n",
       "\n",
       "                 subgroup    estimate  setting_average setting  ...  \\\n",
       "0  Alta Floresta D'Oeste   242.191415       257.615194  Brasil  ...   \n",
       "1  Alta Floresta D'Oeste   323.016103       258.919766  Brasil  ...   \n",
       "2  Alta Floresta D'Oeste   327.837238       256.542023  Brasil  ...   \n",
       "3  Alta Floresta D'Oeste   216.951114       266.310807  Brasil  ...   \n",
       "4  Alta Floresta D'Oeste   308.552695       274.720874  Brasil  ...   \n",
       "\n",
       "  favourable_indicator indicator_scale ordered_dimension  subgroup_order  \\\n",
       "0                    0          100000                 0               0   \n",
       "1                    0          100000                 0               0   \n",
       "2                    0          100000                 0               0   \n",
       "3                    0          100000                 0               0   \n",
       "4                    0          100000                 0               0   \n",
       "\n",
       "   reference_subgroup  note  se  ci_lb ci_ub iso3  \n",
       "0                   0                         BRA  \n",
       "1                   0                         BRA  \n",
       "2                   0                         BRA  \n",
       "3                   0                         BRA  \n",
       "4                   0                         BRA  \n",
       "\n",
       "[5 rows x 23 columns]"
      ]
     },
     "execution_count": 203,
     "metadata": {},
     "output_type": "execute_result"
    }
   ],
   "source": [
    "heat_treat4['date'] = heat_treat4['date'].str.replace('_','').astype(int)\n",
    "heat_treat4.head()"
   ]
  },
  {
   "cell_type": "code",
   "execution_count": 204,
   "metadata": {},
   "outputs": [
    {
     "name": "stdout",
     "output_type": "stream",
     "text": [
      "<class 'pandas.core.frame.DataFrame'>\n",
      "RangeIndex: 27817 entries, 0 to 27816\n",
      "Data columns (total 20 columns):\n",
      " #   Column                Non-Null Count  Dtype  \n",
      "---  ------                --------------  -----  \n",
      " 0   setting               27817 non-null  object \n",
      " 1   date                  27817 non-null  int64  \n",
      " 2   source                27817 non-null  object \n",
      " 3   indicator_abbr        27817 non-null  object \n",
      " 4   indicator_name        27817 non-null  object \n",
      " 5   dimension             27817 non-null  object \n",
      " 6   subgroup              27817 non-null  object \n",
      " 7   estimate              27817 non-null  int64  \n",
      " 8   se                    27817 non-null  object \n",
      " 9   ci_lb                 27817 non-null  object \n",
      " 10  ci_ub                 27817 non-null  object \n",
      " 11  population            27817 non-null  float64\n",
      " 12  note                  27817 non-null  object \n",
      " 13  setting_average       27817 non-null  int64  \n",
      " 14  iso3                  27817 non-null  object \n",
      " 15  favourable_indicator  27817 non-null  int64  \n",
      " 16  indicator_scale       27817 non-null  int64  \n",
      " 17  ordered_dimension     27817 non-null  int64  \n",
      " 18  subgroup_order        27817 non-null  int64  \n",
      " 19  reference_subgroup    27817 non-null  int64  \n",
      "dtypes: float64(1), int64(8), object(11)\n",
      "memory usage: 4.2+ MB\n"
     ]
    },
    {
     "name": "stderr",
     "output_type": "stream",
     "text": [
      "/tmp/ipykernel_33777/2301066262.py:29: SettingWithCopyWarning: \n",
      "A value is trying to be set on a copy of a slice from a DataFrame.\n",
      "Try using .loc[row_indexer,col_indexer] = value instead\n",
      "\n",
      "See the caveats in the documentation: https://pandas.pydata.org/pandas-docs/stable/user_guide/indexing.html#returning-a-view-versus-a-copy\n",
      "  heat_treat5['estimate'] = heat_treat5['estimate'].astype(int)\n",
      "/tmp/ipykernel_33777/2301066262.py:30: SettingWithCopyWarning: \n",
      "A value is trying to be set on a copy of a slice from a DataFrame.\n",
      "Try using .loc[row_indexer,col_indexer] = value instead\n",
      "\n",
      "See the caveats in the documentation: https://pandas.pydata.org/pandas-docs/stable/user_guide/indexing.html#returning-a-view-versus-a-copy\n",
      "  heat_treat5['setting_average'] = heat_treat5['setting_average'].astype(int)\n"
     ]
    }
   ],
   "source": [
    "# Define the order of columns\n",
    "column_order = [\n",
    "    'setting',\n",
    "    'date',\n",
    "    'source',\n",
    "    'indicator_abbr',\n",
    "    'indicator_name',\n",
    "    'dimension',\n",
    "    'subgroup',\n",
    "    'estimate',\n",
    "    'se',\n",
    "    'ci_lb',\n",
    "    'ci_ub',\n",
    "    'population',\n",
    "    'note',\n",
    "    'setting_average',\n",
    "    'iso3',\n",
    "    'favourable_indicator',\n",
    "    'indicator_scale',\n",
    "    'ordered_dimension',\n",
    "    'subgroup_order',\n",
    "    'reference_subgroup'\n",
    "    ]  \n",
    "\n",
    "# Reorder the columns in the DataFrame\n",
    "heat_treat5 = heat_treat4[column_order]\n",
    "\n",
    "# Transformar estimate e setting_average em int\n",
    "heat_treat5['estimate'] = heat_treat5['estimate'].astype(int)\n",
    "heat_treat5['setting_average'] = heat_treat5['setting_average'].astype(int)\n",
    "\n",
    "\n",
    "heat_treat5.info()"
   ]
  },
  {
   "cell_type": "code",
   "execution_count": 205,
   "metadata": {},
   "outputs": [],
   "source": [
    "### Arquivo pronto para exportação\n",
    "heat_treat5.to_excel('exportar/ds_4val_v2.xlsx', index=False)"
   ]
  },
  {
   "cell_type": "code",
   "execution_count": 206,
   "metadata": {},
   "outputs": [
    {
     "data": {
      "text/plain": [
       "27817"
      ]
     },
     "execution_count": 206,
     "metadata": {},
     "output_type": "execute_result"
    }
   ],
   "source": [
    "heat_treat5.shape[0]"
   ]
  },
  {
   "cell_type": "code",
   "execution_count": 181,
   "metadata": {},
   "outputs": [],
   "source": [
    "# Gerar arquivo dataset diretamente no arquivo de validação do HEAT\n",
    "\n",
    "# Carregar o arquivo original\n",
    "workbook = openpyxl.load_workbook('downloads_outros/heat_plus_template_validation.xlsm', keep_vba=True)\n",
    "\n",
    "# Apagar a aba 'template'\n",
    "if 'template' in workbook.sheetnames:\n",
    "    del workbook['template']\n",
    "\n",
    "# Carregar o arquivo que será copiado como nova aba\n",
    "workbook_to_copy = openpyxl.load_workbook('exportar/ds_4val.xlsx')\n",
    "sheet_to_copy = workbook_to_copy.active\n",
    "\n",
    "# Copiar a aba para o workbook original\n",
    "new_sheet = workbook.create_sheet('template')\n",
    "\n",
    "for row in sheet_to_copy.iter_rows(values_only=True):\n",
    "    new_sheet.append(row)\n",
    "\n",
    "# Salvar o arquivo com o novo nome\n",
    "workbook.save('exportar/heat_plus_template_ds_4val.xlsm')"
   ]
  },
  {
   "cell_type": "markdown",
   "metadata": {},
   "source": [
    "# Etapa 4 - Reunião de alinhamento - ajustes"
   ]
  },
  {
   "cell_type": "markdown",
   "metadata": {},
   "source": [
    "# Etapa 5 - Preparação para publicação de resultados"
   ]
  }
 ],
 "metadata": {
  "kernelspec": {
   "display_name": "Python 3",
   "language": "python",
   "name": "python3"
  },
  "language_info": {
   "codemirror_mode": {
    "name": "ipython",
    "version": 3
   },
   "file_extension": ".py",
   "mimetype": "text/x-python",
   "name": "python",
   "nbconvert_exporter": "python",
   "pygments_lexer": "ipython3",
   "version": "3.12.1"
  }
 },
 "nbformat": 4,
 "nbformat_minor": 2
}
