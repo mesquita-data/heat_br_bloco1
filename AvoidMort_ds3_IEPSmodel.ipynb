{
 "cells": [
  {
   "cell_type": "markdown",
   "metadata": {},
   "source": [
    "# Elementos da versão\n",
    "\n",
    "Antes mesmo de falar do projeto, ao longo do desenvolvimento, vamos explicitando qual o objetivo de cada versão de trabalho do arquivo principal.\n",
    "\n",
    "Tendo em vista diferença dos dados de mortalidade por doenças evitáveis conforme publicado pelo IEPS, o objetivo desta v3 é recriar o dataset da v2, mas utilizar os dados do Censo de 2010.\n",
    "\n",
    "O IEPS apresenta os seguintes valores de mortalidade de doenças evitáveis para o Brasil:\n",
    "\n",
    "* 2010 - 99\n",
    "* 2020 - 89\n",
    "\n",
    "Ainda que na documentação para criação das variáveis o IEPS fale de dados ajustados por ano, não ficou claro que usem outros dados além dos do Censo 2010.\n",
    "\n",
    "O dataset desta v.2 deverá ter as seguintes características:\n",
    "\n",
    "* setting: Brasil [poderemos encontrar um sufixo a Brasil que permita a sua subclassificação e carga deste dataset junto a outros]\n",
    "* dimension: UF\n",
    "* subgroup: municípios\n",
    "* estimate: mort-avoid por município\n",
    "* setting-average: mort-avoid por Brasil"
   ]
  },
  {
   "cell_type": "markdown",
   "metadata": {},
   "source": [
    "# Projeto de Análise de Desigualdade em Saúde no modelo HEAT/OMS\n",
    "## Bloco 2025/1 = análise do sistema de mortalidade do SUS com agregação por unidades federativas\n",
    "\n",
    "\n"
   ]
  },
  {
   "cell_type": "markdown",
   "metadata": {},
   "source": [
    "# Merge de dados de CID e População no arquivo principal"
   ]
  },
  {
   "cell_type": "markdown",
   "metadata": {},
   "source": [
    "### Merge de dados de CID"
   ]
  },
  {
   "cell_type": "code",
   "execution_count": 4,
   "metadata": {},
   "outputs": [
    {
     "name": "stdout",
     "output_type": "stream",
     "text": [
      "<class 'pandas.core.frame.DataFrame'>\n",
      "RangeIndex: 346 entries, 0 to 345\n",
      "Data columns (total 8 columns):\n",
      " #   Column                   Non-Null Count  Dtype \n",
      "---  ------                   --------------  ----- \n",
      " 0   avoid_flag               346 non-null    object\n",
      " 1   prevent_flag             189 non-null    object\n",
      " 2   treat_flag               184 non-null    object\n",
      " 3   Group                    346 non-null    object\n",
      " 4   Causes of deaths         346 non-null    object\n",
      " 5   Rationale for inclusion  346 non-null    object\n",
      " 6   Range                    346 non-null    object\n",
      " 7   cid_pai                  346 non-null    object\n",
      "dtypes: object(8)\n",
      "memory usage: 21.8+ KB\n"
     ]
    }
   ],
   "source": [
    "ocde_evit = pd.read_csv('downloads_outros/cid10_evit_ocde.csv')\n",
    "ocde_evit.info()"
   ]
  },
  {
   "cell_type": "code",
   "execution_count": 76,
   "metadata": {
    "vscode": {
     "languageId": "powershell"
    }
   },
   "outputs": [],
   "source": [
    "# Gerar nova tabela com valores únicos de CAUSABAS\n",
    "dobr_evit_merged_temp = pd.read_parquet('files_clean/dobr_clean_2010_19a22.parquet')\n"
   ]
  },
  {
   "cell_type": "code",
   "execution_count": 77,
   "metadata": {
    "vscode": {
     "languageId": "powershell"
    }
   },
   "outputs": [
    {
     "name": "stdout",
     "output_type": "stream",
     "text": [
      "<class 'pandas.core.frame.DataFrame'>\n",
      "RangeIndex: 4446922 entries, 0 to 4446921\n",
      "Data columns (total 4 columns):\n",
      " #   Column     Dtype \n",
      "---  ------     ----- \n",
      " 0   CAUSABAS   object\n",
      " 1   CODMUNRES  object\n",
      " 2   IDADE      int64 \n",
      " 3   ANO_OBITO  object\n",
      "dtypes: int64(1), object(3)\n",
      "memory usage: 135.7+ MB\n"
     ]
    }
   ],
   "source": [
    "dobr_evit_merged_temp.info()"
   ]
  },
  {
   "cell_type": "code",
   "execution_count": 82,
   "metadata": {
    "vscode": {
     "languageId": "powershell"
    }
   },
   "outputs": [
    {
     "data": {
      "text/plain": [
       "array(['_2020', '_2010'], dtype=object)"
      ]
     },
     "execution_count": 82,
     "metadata": {},
     "output_type": "execute_result"
    }
   ],
   "source": [
    "# Filtrar apenas anos de 2010 e 2020\n",
    "dobr_evit_merged_temp01 = dobr_evit_merged_temp[dobr_evit_merged_temp['ANO_OBITO'].isin(['_2010', '_2020'])]\n",
    "dobr_evit_merged_temp01['ANO_OBITO'].unique()"
   ]
  },
  {
   "cell_type": "code",
   "execution_count": 84,
   "metadata": {
    "vscode": {
     "languageId": "powershell"
    }
   },
   "outputs": [
    {
     "name": "stdout",
     "output_type": "stream",
     "text": [
      "<class 'pandas.core.frame.DataFrame'>\n",
      "RangeIndex: 10452 entries, 0 to 10451\n",
      "Data columns (total 1 columns):\n",
      " #   Column    Non-Null Count  Dtype \n",
      "---  ------    --------------  ----- \n",
      " 0   CAUSABAS  10452 non-null  object\n",
      "dtypes: object(1)\n",
      "memory usage: 81.8+ KB\n"
     ]
    }
   ],
   "source": [
    "causas_unicas = dobr_evit_merged_temp01['CAUSABAS'].unique()\n",
    "\n",
    "# Converter para DataFrame\n",
    "df_causas_unicas = pd.DataFrame(causas_unicas, columns=['CAUSABAS'])\n",
    "\n",
    "# Exibir as primeiras linhas do DataFrame\n",
    "df_causas_unicas.info()"
   ]
  },
  {
   "cell_type": "code",
   "execution_count": 85,
   "metadata": {},
   "outputs": [
    {
     "name": "stdout",
     "output_type": "stream",
     "text": [
      "       CAUSABAS        classificacao\n",
      "0          B342   causa não evitável\n",
      "1          F102  Avoidable mortality\n",
      "2          A419   causa não evitável\n",
      "3          E149  Avoidable mortality\n",
      "4          E162   causa não evitável\n",
      "...         ...                  ...\n",
      "10447  W041      Avoidable mortality\n",
      "10448  V155      Avoidable mortality\n",
      "10449  R456       causa não evitável\n",
      "10450  L303       causa não evitável\n",
      "10451  D040       causa não evitável\n",
      "\n",
      "[10452 rows x 2 columns]\n"
     ]
    }
   ],
   "source": [
    "# Fazer merge da lista de causas_unicas com a lista de causas evitáveis\n",
    "\n",
    "df_a = df_causas_unicas\n",
    "column_a = 'CAUSABAS'\n",
    "df_b = ocde_evit\n",
    "column_b = 'cid_pai'\n",
    "column_return = 'avoid_flag'\n",
    "\n",
    "\n",
    "\n",
    "# Função para verificar a correspondência e retornar a classificação\n",
    "def verificar_correspondencia(row):\n",
    "    for index, row_b in df_b.iterrows():\n",
    "        if row[column_a].startswith(row_b[column_b]):\n",
    "            return row_b[column_return]\n",
    "    return 'causa não evitável'\n",
    "\n",
    "# Aplicando a função a cada linha do DataFrame A\n",
    "df_a['classificacao'] = df_a.apply(verificar_correspondencia, axis=1)\n",
    "\n",
    "print(df_a)"
   ]
  },
  {
   "cell_type": "code",
   "execution_count": 86,
   "metadata": {},
   "outputs": [
    {
     "data": {
      "text/html": [
       "<div>\n",
       "<style scoped>\n",
       "    .dataframe tbody tr th:only-of-type {\n",
       "        vertical-align: middle;\n",
       "    }\n",
       "\n",
       "    .dataframe tbody tr th {\n",
       "        vertical-align: top;\n",
       "    }\n",
       "\n",
       "    .dataframe thead th {\n",
       "        text-align: right;\n",
       "    }\n",
       "</style>\n",
       "<table border=\"1\" class=\"dataframe\">\n",
       "  <thead>\n",
       "    <tr style=\"text-align: right;\">\n",
       "      <th></th>\n",
       "      <th>CAUSABAS</th>\n",
       "      <th>CODMUNRES</th>\n",
       "      <th>IDADE</th>\n",
       "      <th>ANO_OBITO</th>\n",
       "      <th>classificacao</th>\n",
       "    </tr>\n",
       "  </thead>\n",
       "  <tbody>\n",
       "    <tr>\n",
       "      <th>0</th>\n",
       "      <td>B342</td>\n",
       "      <td>_311760</td>\n",
       "      <td>74</td>\n",
       "      <td>_2020</td>\n",
       "      <td>causa não evitável</td>\n",
       "    </tr>\n",
       "    <tr>\n",
       "      <th>1</th>\n",
       "      <td>F102</td>\n",
       "      <td>_315140</td>\n",
       "      <td>63</td>\n",
       "      <td>_2020</td>\n",
       "      <td>Avoidable mortality</td>\n",
       "    </tr>\n",
       "    <tr>\n",
       "      <th>2</th>\n",
       "      <td>A419</td>\n",
       "      <td>_330455</td>\n",
       "      <td>74</td>\n",
       "      <td>_2020</td>\n",
       "      <td>causa não evitável</td>\n",
       "    </tr>\n",
       "    <tr>\n",
       "      <th>3</th>\n",
       "      <td>B342</td>\n",
       "      <td>_310620</td>\n",
       "      <td>57</td>\n",
       "      <td>_2020</td>\n",
       "      <td>causa não evitável</td>\n",
       "    </tr>\n",
       "    <tr>\n",
       "      <th>4</th>\n",
       "      <td>E149</td>\n",
       "      <td>_250750</td>\n",
       "      <td>69</td>\n",
       "      <td>_2020</td>\n",
       "      <td>Avoidable mortality</td>\n",
       "    </tr>\n",
       "  </tbody>\n",
       "</table>\n",
       "</div>"
      ],
      "text/plain": [
       "  CAUSABAS CODMUNRES  IDADE ANO_OBITO        classificacao\n",
       "0     B342   _311760     74     _2020   causa não evitável\n",
       "1     F102   _315140     63     _2020  Avoidable mortality\n",
       "2     A419   _330455     74     _2020   causa não evitável\n",
       "3     B342   _310620     57     _2020   causa não evitável\n",
       "4     E149   _250750     69     _2020  Avoidable mortality"
      ]
     },
     "execution_count": 86,
     "metadata": {},
     "output_type": "execute_result"
    }
   ],
   "source": [
    "# Merge dobr_evit_merged_temp01 and df_a by CAUSABAS\n",
    "dobr_evit_merged_temp02 = pd.merge(dobr_evit_merged_temp01, df_a, on='CAUSABAS', how='left')\n",
    "\n",
    "# Display the first few rows of the merged dataframe\n",
    "dobr_evit_merged_temp02.head()"
   ]
  },
  {
   "cell_type": "code",
   "execution_count": 87,
   "metadata": {},
   "outputs": [
    {
     "data": {
      "text/html": [
       "<div>\n",
       "<style scoped>\n",
       "    .dataframe tbody tr th:only-of-type {\n",
       "        vertical-align: middle;\n",
       "    }\n",
       "\n",
       "    .dataframe tbody tr th {\n",
       "        vertical-align: top;\n",
       "    }\n",
       "\n",
       "    .dataframe thead th {\n",
       "        text-align: right;\n",
       "    }\n",
       "</style>\n",
       "<table border=\"1\" class=\"dataframe\">\n",
       "  <thead>\n",
       "    <tr style=\"text-align: right;\">\n",
       "      <th></th>\n",
       "      <th>CAUSABAS</th>\n",
       "      <th>CODMUNRES</th>\n",
       "      <th>IDADE</th>\n",
       "      <th>ANO_OBITO</th>\n",
       "    </tr>\n",
       "    <tr>\n",
       "      <th>classificacao</th>\n",
       "      <th></th>\n",
       "      <th></th>\n",
       "      <th></th>\n",
       "      <th></th>\n",
       "    </tr>\n",
       "  </thead>\n",
       "  <tbody>\n",
       "    <tr>\n",
       "      <th>Avoidable mortality</th>\n",
       "      <td>978472</td>\n",
       "      <td>978472</td>\n",
       "      <td>978472</td>\n",
       "      <td>978472</td>\n",
       "    </tr>\n",
       "    <tr>\n",
       "      <th>causa não evitável</th>\n",
       "      <td>667020</td>\n",
       "      <td>667020</td>\n",
       "      <td>667020</td>\n",
       "      <td>667020</td>\n",
       "    </tr>\n",
       "  </tbody>\n",
       "</table>\n",
       "</div>"
      ],
      "text/plain": [
       "                     CAUSABAS  CODMUNRES   IDADE  ANO_OBITO\n",
       "classificacao                                              \n",
       "Avoidable mortality    978472     978472  978472     978472\n",
       "causa não evitável     667020     667020  667020     667020"
      ]
     },
     "execution_count": 87,
     "metadata": {},
     "output_type": "execute_result"
    }
   ],
   "source": [
    "# Mostrar resultados de classificacao\n",
    "dobr_evit_merged_temp02.groupby('classificacao').count()"
   ]
  },
  {
   "cell_type": "code",
   "execution_count": 88,
   "metadata": {},
   "outputs": [],
   "source": [
    "# Manter na base só dados de CID evitáveis\n",
    "dobr_evit_merged_temp03 = dobr_evit_merged_temp02[dobr_evit_merged_temp02['classificacao']=='Avoidable mortality']\n"
   ]
  },
  {
   "cell_type": "markdown",
   "metadata": {},
   "source": [
    "#### Resultados do merge de cid_avoid e dobr"
   ]
  },
  {
   "cell_type": "code",
   "execution_count": 89,
   "metadata": {},
   "outputs": [],
   "source": [
    "# Salvar arquivo final de DOBR\n",
    "dobr_evit_merged_temp03.to_parquet('files_clean/dobr_evit_merged_v3.parquet')\n"
   ]
  },
  {
   "cell_type": "code",
   "execution_count": 90,
   "metadata": {},
   "outputs": [
    {
     "name": "stdout",
     "output_type": "stream",
     "text": [
      "\u001b[33m ==> O número de óbitos após a limpeza e que constituía a base de dados de DO era de 4446922 óbitos\u001b[0m\n",
      "\u001b[33m ==> O número de registros excluídos por apresentar CIDs NÃO EVITÁVEIS foi de 3468450 óbitos\u001b[0m\n",
      "\u001b[33m ==> O número de óbitos por CID EVITÁVEIS é de 978472 óbitos\u001b[0m\n"
     ]
    }
   ],
   "source": [
    "# Contador\n",
    "\n",
    "shape_origin = dobr_evit_merged_temp.CAUSABAS.count()\n",
    "shape_filt = dobr_evit_merged_temp03.CAUSABAS.count()\n",
    "dif = shape_origin - shape_filt\n",
    "\n",
    "\n",
    "print_y(f\"O número de óbitos após a limpeza e que constituía a base de dados de DO era de {shape_origin} óbitos\")\n",
    "print_y(f\"O número de registros excluídos por apresentar CIDs NÃO EVITÁVEIS foi de {dif} óbitos\")\n",
    "print_y(f\"O número de óbitos por CID EVITÁVEIS é de {shape_filt} óbitos\")"
   ]
  },
  {
   "cell_type": "markdown",
   "metadata": {},
   "source": [
    "### Merge de dados de Municípios ao arquivo principal do SIM\n",
    "\n",
    "Serão utilizados os arquivos:\n",
    "\n",
    "* população: 'files_clean/censo_pop_clean.csv'\n",
    "\n",
    "* sim: 'files_clean/dobr_clean.csv'\n",
    "\n",
    "Como a população está clivada em Município, Idade (previamente, todos abaixo de 75 anos), Sexo e Raça, estes campos serão utilizados de maneira conjunta para realizar o merge."
   ]
  },
  {
   "cell_type": "code",
   "execution_count": 17,
   "metadata": {},
   "outputs": [
    {
     "name": "stdout",
     "output_type": "stream",
     "text": [
      "<class 'pandas.core.frame.DataFrame'>\n",
      "RangeIndex: 11140 entries, 0 to 11139\n",
      "Data columns (total 7 columns):\n",
      " #   Column       Non-Null Count  Dtype \n",
      "---  ------       --------------  ----- \n",
      " 0   Ano          11140 non-null  object\n",
      " 1   uf_co        11140 non-null  object\n",
      " 2   UF           11140 non-null  object\n",
      " 3   mun_cod_sim  11140 non-null  object\n",
      " 4   mun_no       11140 non-null  object\n",
      " 5   pop_total    11140 non-null  int64 \n",
      " 6   pop_under74  11140 non-null  int64 \n",
      "dtypes: int64(2), object(5)\n",
      "memory usage: 609.3+ KB\n"
     ]
    }
   ],
   "source": [
    "# Verificar colunas de população no arquivo censo_pop_clean\n",
    "censo_mun_temp = pd.read_parquet('files_clean/censo_pop_mun.parquet')\n",
    "censo_mun_temp.info()"
   ]
  },
  {
   "cell_type": "code",
   "execution_count": 18,
   "metadata": {},
   "outputs": [
    {
     "data": {
      "text/html": [
       "<div>\n",
       "<style scoped>\n",
       "    .dataframe tbody tr th:only-of-type {\n",
       "        vertical-align: middle;\n",
       "    }\n",
       "\n",
       "    .dataframe tbody tr th {\n",
       "        vertical-align: top;\n",
       "    }\n",
       "\n",
       "    .dataframe thead th {\n",
       "        text-align: right;\n",
       "    }\n",
       "</style>\n",
       "<table border=\"1\" class=\"dataframe\">\n",
       "  <thead>\n",
       "    <tr style=\"text-align: right;\">\n",
       "      <th></th>\n",
       "      <th>Ano</th>\n",
       "      <th>uf_co</th>\n",
       "      <th>UF</th>\n",
       "      <th>mun_cod_sim</th>\n",
       "      <th>mun_no</th>\n",
       "      <th>pop_total</th>\n",
       "      <th>pop_under74</th>\n",
       "    </tr>\n",
       "  </thead>\n",
       "  <tbody>\n",
       "    <tr>\n",
       "      <th>0</th>\n",
       "      <td>2010</td>\n",
       "      <td>_11</td>\n",
       "      <td>RO</td>\n",
       "      <td>_110001</td>\n",
       "      <td>Alta Floresta D'Oeste</td>\n",
       "      <td>24392</td>\n",
       "      <td>23948</td>\n",
       "    </tr>\n",
       "    <tr>\n",
       "      <th>1</th>\n",
       "      <td>2010</td>\n",
       "      <td>_11</td>\n",
       "      <td>RO</td>\n",
       "      <td>_110002</td>\n",
       "      <td>Ariquemes</td>\n",
       "      <td>90353</td>\n",
       "      <td>89037</td>\n",
       "    </tr>\n",
       "    <tr>\n",
       "      <th>2</th>\n",
       "      <td>2010</td>\n",
       "      <td>_11</td>\n",
       "      <td>RO</td>\n",
       "      <td>_110003</td>\n",
       "      <td>Cabixi</td>\n",
       "      <td>6313</td>\n",
       "      <td>6180</td>\n",
       "    </tr>\n",
       "    <tr>\n",
       "      <th>3</th>\n",
       "      <td>2010</td>\n",
       "      <td>_11</td>\n",
       "      <td>RO</td>\n",
       "      <td>_110004</td>\n",
       "      <td>Cacoal</td>\n",
       "      <td>78574</td>\n",
       "      <td>76947</td>\n",
       "    </tr>\n",
       "    <tr>\n",
       "      <th>4</th>\n",
       "      <td>2010</td>\n",
       "      <td>_11</td>\n",
       "      <td>RO</td>\n",
       "      <td>_110005</td>\n",
       "      <td>Cerejeiras</td>\n",
       "      <td>17029</td>\n",
       "      <td>16646</td>\n",
       "    </tr>\n",
       "  </tbody>\n",
       "</table>\n",
       "</div>"
      ],
      "text/plain": [
       "    Ano uf_co  UF mun_cod_sim                  mun_no  pop_total  pop_under74\n",
       "0  2010   _11  RO     _110001  Alta Floresta D'Oeste       24392        23948\n",
       "1  2010   _11  RO     _110002              Ariquemes       90353        89037\n",
       "2  2010   _11  RO     _110003                 Cabixi        6313         6180\n",
       "3  2010   _11  RO     _110004                 Cacoal       78574        76947\n",
       "4  2010   _11  RO     _110005             Cerejeiras       17029        16646"
      ]
     },
     "execution_count": 18,
     "metadata": {},
     "output_type": "execute_result"
    }
   ],
   "source": [
    "censo_mun_temp.head()"
   ]
  },
  {
   "cell_type": "code",
   "execution_count": 20,
   "metadata": {},
   "outputs": [
    {
     "name": "stdout",
     "output_type": "stream",
     "text": [
      "<class 'pandas.core.frame.DataFrame'>\n",
      "Index: 5570 entries, 0 to 5569\n",
      "Data columns (total 7 columns):\n",
      " #   Column       Non-Null Count  Dtype \n",
      "---  ------       --------------  ----- \n",
      " 0   Ano          5570 non-null   object\n",
      " 1   uf_co        5570 non-null   object\n",
      " 2   UF           5570 non-null   object\n",
      " 3   mun_cod_sim  5570 non-null   object\n",
      " 4   mun_no       5570 non-null   object\n",
      " 5   pop_total    5570 non-null   int64 \n",
      " 6   pop_under74  5570 non-null   int64 \n",
      "dtypes: int64(2), object(5)\n",
      "memory usage: 348.1+ KB\n"
     ]
    }
   ],
   "source": [
    "# Para verificar o modelo IPES, vamos fazer o merge apenas com dados do Censo de 2010\n",
    "censo_mun_temp01 = censo_mun_temp.loc[censo_mun_temp['Ano']=='2010']\n",
    "censo_mun_temp01.info()"
   ]
  },
  {
   "cell_type": "code",
   "execution_count": null,
   "metadata": {},
   "outputs": [],
   "source": [
    "# Criar um campo string que concatene ANO, CODMUN_SIM, Sexo e cor # Não é preciso fazer o merge com o ano, pois iremos usar o Censo 2010 para todos os anos\n",
    "# censo_pop_mun_4merge['POP_MERGE'] = '_' + censo_pop_mun_4merge['Ano'].astype(str) + censo_pop_mun_4merge['mun_cod_sim']\n",
    "\n",
    "# censo_pop_mun_4merge.head()"
   ]
  },
  {
   "cell_type": "code",
   "execution_count": 91,
   "metadata": {},
   "outputs": [
    {
     "data": {
      "text/html": [
       "<div>\n",
       "<style scoped>\n",
       "    .dataframe tbody tr th:only-of-type {\n",
       "        vertical-align: middle;\n",
       "    }\n",
       "\n",
       "    .dataframe tbody tr th {\n",
       "        vertical-align: top;\n",
       "    }\n",
       "\n",
       "    .dataframe thead th {\n",
       "        text-align: right;\n",
       "    }\n",
       "</style>\n",
       "<table border=\"1\" class=\"dataframe\">\n",
       "  <thead>\n",
       "    <tr style=\"text-align: right;\">\n",
       "      <th></th>\n",
       "      <th>CAUSABAS</th>\n",
       "      <th>CODMUNRES</th>\n",
       "      <th>IDADE</th>\n",
       "      <th>ANO_OBITO</th>\n",
       "      <th>classificacao</th>\n",
       "    </tr>\n",
       "  </thead>\n",
       "  <tbody>\n",
       "    <tr>\n",
       "      <th>1</th>\n",
       "      <td>F102</td>\n",
       "      <td>_315140</td>\n",
       "      <td>63</td>\n",
       "      <td>_2020</td>\n",
       "      <td>Avoidable mortality</td>\n",
       "    </tr>\n",
       "    <tr>\n",
       "      <th>4</th>\n",
       "      <td>E149</td>\n",
       "      <td>_250750</td>\n",
       "      <td>69</td>\n",
       "      <td>_2020</td>\n",
       "      <td>Avoidable mortality</td>\n",
       "    </tr>\n",
       "    <tr>\n",
       "      <th>11</th>\n",
       "      <td>I619</td>\n",
       "      <td>_330455</td>\n",
       "      <td>66</td>\n",
       "      <td>_2020</td>\n",
       "      <td>Avoidable mortality</td>\n",
       "    </tr>\n",
       "    <tr>\n",
       "      <th>13</th>\n",
       "      <td>W849</td>\n",
       "      <td>_330455</td>\n",
       "      <td>58</td>\n",
       "      <td>_2020</td>\n",
       "      <td>Avoidable mortality</td>\n",
       "    </tr>\n",
       "    <tr>\n",
       "      <th>14</th>\n",
       "      <td>I10</td>\n",
       "      <td>_330455</td>\n",
       "      <td>68</td>\n",
       "      <td>_2020</td>\n",
       "      <td>Avoidable mortality</td>\n",
       "    </tr>\n",
       "  </tbody>\n",
       "</table>\n",
       "</div>"
      ],
      "text/plain": [
       "   CAUSABAS CODMUNRES  IDADE ANO_OBITO        classificacao\n",
       "1      F102   _315140     63     _2020  Avoidable mortality\n",
       "4      E149   _250750     69     _2020  Avoidable mortality\n",
       "11     I619   _330455     66     _2020  Avoidable mortality\n",
       "13     W849   _330455     58     _2020  Avoidable mortality\n",
       "14     I10    _330455     68     _2020  Avoidable mortality"
      ]
     },
     "execution_count": 91,
     "metadata": {},
     "output_type": "execute_result"
    }
   ],
   "source": [
    "# Exibir arquivo dobr_clean\n",
    "dobr_merged_temp = pd.read_parquet('files_clean/dobr_evit_merged_v3.parquet')\n",
    "dobr_merged_temp.head()\n"
   ]
  },
  {
   "cell_type": "code",
   "execution_count": 93,
   "metadata": {},
   "outputs": [
    {
     "data": {
      "text/plain": [
       "Index(['CAUSABAS', 'CODMUNRES', 'IDADE', 'ANO_OBITO', 'classificacao'], dtype='object')"
      ]
     },
     "execution_count": 93,
     "metadata": {},
     "output_type": "execute_result"
    }
   ],
   "source": [
    "dobr_merged_temp.columns"
   ]
  },
  {
   "cell_type": "markdown",
   "metadata": {},
   "source": [
    "########## Este bloco de código a seguir retira o CAUSABAS"
   ]
  },
  {
   "cell_type": "code",
   "execution_count": 94,
   "metadata": {
    "vscode": {
     "languageId": "shellscript"
    }
   },
   "outputs": [
    {
     "data": {
      "text/html": [
       "<div>\n",
       "<style scoped>\n",
       "    .dataframe tbody tr th:only-of-type {\n",
       "        vertical-align: middle;\n",
       "    }\n",
       "\n",
       "    .dataframe tbody tr th {\n",
       "        vertical-align: top;\n",
       "    }\n",
       "\n",
       "    .dataframe thead th {\n",
       "        text-align: right;\n",
       "    }\n",
       "</style>\n",
       "<table border=\"1\" class=\"dataframe\">\n",
       "  <thead>\n",
       "    <tr style=\"text-align: right;\">\n",
       "      <th></th>\n",
       "      <th>CODMUNRES</th>\n",
       "      <th>ANO_OBITO</th>\n",
       "      <th>CONTADOR</th>\n",
       "    </tr>\n",
       "  </thead>\n",
       "  <tbody>\n",
       "    <tr>\n",
       "      <th>0</th>\n",
       "      <td>_110000</td>\n",
       "      <td>_2010</td>\n",
       "      <td>20</td>\n",
       "    </tr>\n",
       "    <tr>\n",
       "      <th>1</th>\n",
       "      <td>_110000</td>\n",
       "      <td>_2020</td>\n",
       "      <td>7</td>\n",
       "    </tr>\n",
       "    <tr>\n",
       "      <th>2</th>\n",
       "      <td>_110001</td>\n",
       "      <td>_2010</td>\n",
       "      <td>58</td>\n",
       "    </tr>\n",
       "    <tr>\n",
       "      <th>3</th>\n",
       "      <td>_110001</td>\n",
       "      <td>_2020</td>\n",
       "      <td>68</td>\n",
       "    </tr>\n",
       "    <tr>\n",
       "      <th>4</th>\n",
       "      <td>_110002</td>\n",
       "      <td>_2010</td>\n",
       "      <td>217</td>\n",
       "    </tr>\n",
       "  </tbody>\n",
       "</table>\n",
       "</div>"
      ],
      "text/plain": [
       "  CODMUNRES ANO_OBITO  CONTADOR\n",
       "0   _110000     _2010        20\n",
       "1   _110000     _2020         7\n",
       "2   _110001     _2010        58\n",
       "3   _110001     _2020        68\n",
       "4   _110002     _2010       217"
      ]
     },
     "execution_count": 94,
     "metadata": {},
     "output_type": "execute_result"
    }
   ],
   "source": [
    "# Agrupar por CODMUNRES e somar os registros, não contabilizando mais por CAUSABAS\n",
    "\n",
    "col_group= [\n",
    "            # 'CAUSABAS', \n",
    "            'CODMUNRES', 'ANO_OBITO']\n",
    "dobr_merged_temp01 = dobr_merged_temp.groupby(col_group)['CAUSABAS'].count().reset_index()\n",
    "\n",
    "# Renomear o campo CAUSABAS para CONTADOR\n",
    "dobr_merged_temp01.rename(columns={'CAUSABAS':'CONTADOR'}, inplace=True)\n",
    "\n",
    "# Exibir as primeiras linhas do dataframe resultante\n",
    "dobr_merged_temp01.head()"
   ]
  },
  {
   "cell_type": "code",
   "execution_count": 95,
   "metadata": {
    "vscode": {
     "languageId": "shellscript"
    }
   },
   "outputs": [
    {
     "name": "stdout",
     "output_type": "stream",
     "text": [
      "978472\n",
      "978472\n"
     ]
    }
   ],
   "source": [
    "# Verificar o total de óbitos da base antes e depois do groupby (após o groupby foi feita uma totalidade por soma das contagens por registro)\n",
    "print(dobr_merged_temp['CAUSABAS'].count())\n",
    "print(dobr_merged_temp01['CONTADOR'].sum())"
   ]
  },
  {
   "cell_type": "code",
   "execution_count": 96,
   "metadata": {
    "vscode": {
     "languageId": "shellscript"
    }
   },
   "outputs": [
    {
     "name": "stdout",
     "output_type": "stream",
     "text": [
      "Index(['CODMUNRES', 'ANO_OBITO', 'CONTADOR'], dtype='object')\n",
      "Index(['Ano', 'uf_co', 'UF', 'mun_cod_sim', 'mun_no', 'pop_total',\n",
      "       'pop_under74'],\n",
      "      dtype='object')\n"
     ]
    }
   ],
   "source": [
    "# Verificação dos nomes das colunas\n",
    "print(dobr_merged_temp01.columns)\n",
    "print(censo_mun_temp01.columns)"
   ]
  },
  {
   "cell_type": "code",
   "execution_count": 97,
   "metadata": {},
   "outputs": [
    {
     "data": {
      "text/html": [
       "<div>\n",
       "<style scoped>\n",
       "    .dataframe tbody tr th:only-of-type {\n",
       "        vertical-align: middle;\n",
       "    }\n",
       "\n",
       "    .dataframe tbody tr th {\n",
       "        vertical-align: top;\n",
       "    }\n",
       "\n",
       "    .dataframe thead th {\n",
       "        text-align: right;\n",
       "    }\n",
       "</style>\n",
       "<table border=\"1\" class=\"dataframe\">\n",
       "  <thead>\n",
       "    <tr style=\"text-align: right;\">\n",
       "      <th></th>\n",
       "      <th>CODMUNRES</th>\n",
       "      <th>ANO_OBITO</th>\n",
       "      <th>CONTADOR</th>\n",
       "      <th>mun_cod_sim</th>\n",
       "      <th>pop_under74</th>\n",
       "      <th>UF</th>\n",
       "      <th>mun_no</th>\n",
       "    </tr>\n",
       "  </thead>\n",
       "  <tbody>\n",
       "    <tr>\n",
       "      <th>0</th>\n",
       "      <td>_110000</td>\n",
       "      <td>_2010</td>\n",
       "      <td>20</td>\n",
       "      <td>NaN</td>\n",
       "      <td>NaN</td>\n",
       "      <td>NaN</td>\n",
       "      <td>NaN</td>\n",
       "    </tr>\n",
       "    <tr>\n",
       "      <th>1</th>\n",
       "      <td>_110000</td>\n",
       "      <td>_2020</td>\n",
       "      <td>7</td>\n",
       "      <td>NaN</td>\n",
       "      <td>NaN</td>\n",
       "      <td>NaN</td>\n",
       "      <td>NaN</td>\n",
       "    </tr>\n",
       "    <tr>\n",
       "      <th>2</th>\n",
       "      <td>_110001</td>\n",
       "      <td>_2010</td>\n",
       "      <td>58</td>\n",
       "      <td>_110001</td>\n",
       "      <td>23948.0</td>\n",
       "      <td>RO</td>\n",
       "      <td>Alta Floresta D'Oeste</td>\n",
       "    </tr>\n",
       "    <tr>\n",
       "      <th>3</th>\n",
       "      <td>_110001</td>\n",
       "      <td>_2020</td>\n",
       "      <td>68</td>\n",
       "      <td>_110001</td>\n",
       "      <td>23948.0</td>\n",
       "      <td>RO</td>\n",
       "      <td>Alta Floresta D'Oeste</td>\n",
       "    </tr>\n",
       "    <tr>\n",
       "      <th>4</th>\n",
       "      <td>_110002</td>\n",
       "      <td>_2010</td>\n",
       "      <td>217</td>\n",
       "      <td>_110002</td>\n",
       "      <td>89037.0</td>\n",
       "      <td>RO</td>\n",
       "      <td>Ariquemes</td>\n",
       "    </tr>\n",
       "  </tbody>\n",
       "</table>\n",
       "</div>"
      ],
      "text/plain": [
       "  CODMUNRES ANO_OBITO  CONTADOR mun_cod_sim  pop_under74   UF  \\\n",
       "0   _110000     _2010        20         NaN          NaN  NaN   \n",
       "1   _110000     _2020         7         NaN          NaN  NaN   \n",
       "2   _110001     _2010        58     _110001      23948.0   RO   \n",
       "3   _110001     _2020        68     _110001      23948.0   RO   \n",
       "4   _110002     _2010       217     _110002      89037.0   RO   \n",
       "\n",
       "                   mun_no  \n",
       "0                     NaN  \n",
       "1                     NaN  \n",
       "2  Alta Floresta D'Oeste   \n",
       "3  Alta Floresta D'Oeste   \n",
       "4              Ariquemes   "
      ]
     },
     "execution_count": 97,
     "metadata": {},
     "output_type": "execute_result"
    }
   ],
   "source": [
    "# Definir campos de censo_pop para merge\n",
    "censo_mun_temp02 = censo_mun_temp01[['mun_cod_sim','pop_under74','UF','mun_no']]\n",
    "\n",
    "# Realizar o merge dos dataframes\n",
    "dobr_merged_temp02 = pd.merge(dobr_merged_temp01, censo_mun_temp02, left_on=['CODMUNRES'], right_on=['mun_cod_sim'], how='left')\n",
    "\n",
    "# Exibir as primeiras linhas do dataframe resultante\n",
    "dobr_merged_temp02.head()"
   ]
  },
  {
   "cell_type": "code",
   "execution_count": 98,
   "metadata": {},
   "outputs": [
    {
     "name": "stdout",
     "output_type": "stream",
     "text": [
      "<class 'pandas.core.frame.DataFrame'>\n",
      "RangeIndex: 11117 entries, 0 to 11116\n",
      "Data columns (total 7 columns):\n",
      " #   Column       Non-Null Count  Dtype  \n",
      "---  ------       --------------  -----  \n",
      " 0   CODMUNRES    11117 non-null  object \n",
      " 1   ANO_OBITO    11117 non-null  object \n",
      " 2   CONTADOR     11117 non-null  int64  \n",
      " 3   mun_cod_sim  11117 non-null  object \n",
      " 4   pop_under74  11117 non-null  float64\n",
      " 5   UF           11117 non-null  object \n",
      " 6   mun_no       11117 non-null  object \n",
      "dtypes: float64(1), int64(1), object(5)\n",
      "memory usage: 608.1+ KB\n"
     ]
    }
   ],
   "source": [
    "# Filtrar registros onde pop_under74 não é nulo\n",
    "dobr_merged_temp03 = dobr_merged_temp02.dropna(subset=['pop_under74']).reset_index(drop=True)\n",
    "\n",
    "# Exibir os registros filtrados\n",
    "dobr_merged_temp03.info()"
   ]
  },
  {
   "cell_type": "code",
   "execution_count": 99,
   "metadata": {},
   "outputs": [
    {
     "name": "stdout",
     "output_type": "stream",
     "text": [
      "976505\n"
     ]
    }
   ],
   "source": [
    "# Verificar o total de óbitos da base depos da operação acima\n",
    "print(dobr_merged_temp03['CONTADOR'].sum())"
   ]
  },
  {
   "cell_type": "markdown",
   "metadata": {},
   "source": [
    "##### Arquivo tratado final"
   ]
  },
  {
   "cell_type": "code",
   "execution_count": 100,
   "metadata": {},
   "outputs": [],
   "source": [
    "# Salvar arquivo\n",
    "dobr_merged_temp03.to_parquet('files_clean/dobr_merged_v3.parquet')"
   ]
  },
  {
   "cell_type": "code",
   "execution_count": 101,
   "metadata": {
    "vscode": {
     "languageId": "powershell"
    }
   },
   "outputs": [
    {
     "name": "stdout",
     "output_type": "stream",
     "text": [
      "\u001b[33m ==>  O número de óbitos após merge com tabela de CIDs evitáveis era de 978472 óbitos \u001b[0m\n",
      "\u001b[33m ==>  Foram excluídos, por apresentar problemas para carga de informações de município, 1967 óbitos \u001b[0m\n",
      "\u001b[33m ==>  O número de óbitos total após filtro de CID evitáveis e inclusão de população do censo é de 976505 óbitos \u001b[0m\n"
     ]
    }
   ],
   "source": [
    "# Resultados\n",
    "\n",
    "obito_origin = dobr_merged_temp.CAUSABAS.count()\n",
    "obito_final = dobr_merged_temp03.CONTADOR.sum()\n",
    "dif = obito_origin - obito_final\n",
    "\n",
    "print_y(f\" O número de óbitos após merge com tabela de CIDs evitáveis era de {obito_origin} óbitos \")\n",
    "\n",
    "print_y(f\" Foram excluídos, por apresentar problemas para carga de informações de município, {dif} óbitos \")\n",
    "\n",
    "print_y(f\" O número de óbitos total após filtro de CID evitáveis e inclusão de população do censo é de {obito_final} óbitos \")\n",
    "\n",
    "\n",
    "# # Filtrar registros onde pop_under74 é null\n",
    "# dobr_merged_pop_nulos = dobr_merged_pop[dobr_merged_pop['pop_under74'].isnull()]\n",
    "\n",
    "# # Exibir os registros filtrados\n",
    "# dobr_merged_pop_nulos['obito_count'].sum()"
   ]
  },
  {
   "cell_type": "markdown",
   "metadata": {},
   "source": [
    "# Etapa 3 - Aplicação de Modelo do HEAT ao Bloco"
   ]
  },
  {
   "cell_type": "markdown",
   "metadata": {},
   "source": [
    "O modelo HEAT apresenta um framework bem rígido e objetivo para carga de dados.\n",
    "\n",
    "O dataset precisa estar organizado com os labels e de acordo com a definição presente no template.\n",
    "\n",
    "E depois precisa ser validado em planilha excel disponibilizada pela organização.\n",
    "\n",
    "Ajustes: com a identificação da população por sexo e raça, encontramos 37 registros com população 0. Tivemos que excluir estes registros (incluindo os óbitos) no momento da preparação do dataset do heat em razão do modelo não aceitar estes valores."
   ]
  },
  {
   "cell_type": "markdown",
   "metadata": {},
   "source": [
    "## Dataset 3 - IEPS BR/uf/Mun\n",
    "\n",
    "\n",
    "O primeiro dataset que iremos construir tem as seguintes características:\n",
    "\n",
    "* setting: Brasil\n",
    "* dimension: UF\n",
    "* subgroup: município"
   ]
  },
  {
   "cell_type": "code",
   "execution_count": null,
   "metadata": {},
   "outputs": [
    {
     "name": "stdout",
     "output_type": "stream",
     "text": [
      "('setting', 'date', 'source', 'indicator_abbr', 'indicator_name', 'dimension', 'subgroup', 'estimate', 'se', 'ci_lb', 'ci_ub', 'population', 'note', 'setting_average', 'iso3', 'favourable_indicator', 'indicator_scale', 'ordered_dimension', 'subgroup_order', 'reference_subgroup')\n"
     ]
    }
   ],
   "source": [
    "# # Mostrar colunas do template do HEAT\n",
    "\n",
    "# import requests\n",
    "# import openpyxl\n",
    "\n",
    "# # Baixando o arquivo\n",
    "# url = 'https://srhdpeuwpubsa.blob.core.windows.net/whdh/HIDR/heat_plus_template_validation.xlsm'\n",
    "# response = requests.get(url)\n",
    "\n",
    "# # Salvando o arquivo localmente (você pode escolher outro nome)\n",
    "# with open('arquivo_excel.xlsm', 'wb') as f:\n",
    "#     f.write(response.content)\n",
    "\n",
    "# # Abrindo o arquivo Excel\n",
    "# workbook = openpyxl.load_workbook('arquivo_excel.xlsm')\n",
    "\n",
    "# # Selecionando a primeira aba\n",
    "# sheet = workbook.template\n",
    "# sheet = workbook['template']\n",
    "\n",
    "# # Mostrar conteúdo da aba 'template'\n",
    "# for row in sheet.iter_rows(values_only=True):\n",
    "#     print(row)\n",
    "\n"
   ]
  },
  {
   "cell_type": "code",
   "execution_count": 102,
   "metadata": {},
   "outputs": [
    {
     "name": "stdout",
     "output_type": "stream",
     "text": [
      "<class 'pandas.core.frame.DataFrame'>\n",
      "RangeIndex: 11117 entries, 0 to 11116\n",
      "Data columns (total 7 columns):\n",
      " #   Column       Non-Null Count  Dtype  \n",
      "---  ------       --------------  -----  \n",
      " 0   CODMUNRES    11117 non-null  object \n",
      " 1   ANO_OBITO    11117 non-null  object \n",
      " 2   CONTADOR     11117 non-null  int64  \n",
      " 3   mun_cod_sim  11117 non-null  object \n",
      " 4   pop_under74  11117 non-null  float64\n",
      " 5   UF           11117 non-null  object \n",
      " 6   mun_no       11117 non-null  object \n",
      "dtypes: float64(1), int64(1), object(5)\n",
      "memory usage: 608.1+ KB\n"
     ]
    }
   ],
   "source": [
    "# Abrir arquivo final de DO após tratamento\n",
    "heatds_temp = pd.read_parquet('files_clean/dobr_merged_v3.parquet')\n",
    "heatds_temp.info()"
   ]
  },
  {
   "cell_type": "code",
   "execution_count": 103,
   "metadata": {},
   "outputs": [
    {
     "data": {
      "text/html": [
       "<div>\n",
       "<style scoped>\n",
       "    .dataframe tbody tr th:only-of-type {\n",
       "        vertical-align: middle;\n",
       "    }\n",
       "\n",
       "    .dataframe tbody tr th {\n",
       "        vertical-align: top;\n",
       "    }\n",
       "\n",
       "    .dataframe thead th {\n",
       "        text-align: right;\n",
       "    }\n",
       "</style>\n",
       "<table border=\"1\" class=\"dataframe\">\n",
       "  <thead>\n",
       "    <tr style=\"text-align: right;\">\n",
       "      <th></th>\n",
       "      <th>CODMUNRES</th>\n",
       "      <th>ANO_OBITO</th>\n",
       "      <th>CONTADOR</th>\n",
       "      <th>mun_cod_sim</th>\n",
       "      <th>pop_under74</th>\n",
       "      <th>UF</th>\n",
       "      <th>mun_no</th>\n",
       "    </tr>\n",
       "  </thead>\n",
       "  <tbody>\n",
       "    <tr>\n",
       "      <th>0</th>\n",
       "      <td>_110001</td>\n",
       "      <td>_2010</td>\n",
       "      <td>58</td>\n",
       "      <td>_110001</td>\n",
       "      <td>23948.0</td>\n",
       "      <td>RO</td>\n",
       "      <td>Alta Floresta D'Oeste</td>\n",
       "    </tr>\n",
       "    <tr>\n",
       "      <th>1</th>\n",
       "      <td>_110001</td>\n",
       "      <td>_2020</td>\n",
       "      <td>68</td>\n",
       "      <td>_110001</td>\n",
       "      <td>23948.0</td>\n",
       "      <td>RO</td>\n",
       "      <td>Alta Floresta D'Oeste</td>\n",
       "    </tr>\n",
       "    <tr>\n",
       "      <th>2</th>\n",
       "      <td>_110002</td>\n",
       "      <td>_2010</td>\n",
       "      <td>217</td>\n",
       "      <td>_110002</td>\n",
       "      <td>89037.0</td>\n",
       "      <td>RO</td>\n",
       "      <td>Ariquemes</td>\n",
       "    </tr>\n",
       "    <tr>\n",
       "      <th>3</th>\n",
       "      <td>_110002</td>\n",
       "      <td>_2020</td>\n",
       "      <td>266</td>\n",
       "      <td>_110002</td>\n",
       "      <td>89037.0</td>\n",
       "      <td>RO</td>\n",
       "      <td>Ariquemes</td>\n",
       "    </tr>\n",
       "    <tr>\n",
       "      <th>4</th>\n",
       "      <td>_110003</td>\n",
       "      <td>_2010</td>\n",
       "      <td>15</td>\n",
       "      <td>_110003</td>\n",
       "      <td>6180.0</td>\n",
       "      <td>RO</td>\n",
       "      <td>Cabixi</td>\n",
       "    </tr>\n",
       "  </tbody>\n",
       "</table>\n",
       "</div>"
      ],
      "text/plain": [
       "  CODMUNRES ANO_OBITO  CONTADOR mun_cod_sim  pop_under74  UF  \\\n",
       "0   _110001     _2010        58     _110001      23948.0  RO   \n",
       "1   _110001     _2020        68     _110001      23948.0  RO   \n",
       "2   _110002     _2010       217     _110002      89037.0  RO   \n",
       "3   _110002     _2020       266     _110002      89037.0  RO   \n",
       "4   _110003     _2010        15     _110003       6180.0  RO   \n",
       "\n",
       "                   mun_no  \n",
       "0  Alta Floresta D'Oeste   \n",
       "1  Alta Floresta D'Oeste   \n",
       "2              Ariquemes   \n",
       "3              Ariquemes   \n",
       "4                 Cabixi   "
      ]
     },
     "execution_count": 103,
     "metadata": {},
     "output_type": "execute_result"
    }
   ],
   "source": [
    "heatds_temp.head()"
   ]
  },
  {
   "cell_type": "code",
   "execution_count": 104,
   "metadata": {},
   "outputs": [
    {
     "data": {
      "text/plain": [
       "Index(['CODMUNRES', 'ANO_OBITO', 'CONTADOR', 'mun_cod_sim', 'pop_under74',\n",
       "       'UF', 'mun_no'],\n",
       "      dtype='object')"
      ]
     },
     "execution_count": 104,
     "metadata": {},
     "output_type": "execute_result"
    }
   ],
   "source": [
    "heatds_temp.columns"
   ]
  },
  {
   "cell_type": "code",
   "execution_count": 38,
   "metadata": {
    "vscode": {
     "languageId": "ruby"
    }
   },
   "outputs": [],
   "source": [
    "# # Agregar os dados sem CID e gerar colunas de soma de obito_count e pop_under74\n",
    "# heat_semCID = heat_.groupby(['UF', 'mun_nome', 'CODMUNRES', 'SEXO', 'RACACOR', 'ANO']).agg({\n",
    "#     'obito_count': 'sum',\n",
    "#     'pop_under74': 'sum'\n",
    "# }).reset_index()\n",
    "\n"
   ]
  },
  {
   "cell_type": "code",
   "execution_count": 105,
   "metadata": {
    "vscode": {
     "languageId": "ruby"
    }
   },
   "outputs": [
    {
     "data": {
      "text/html": [
       "<div>\n",
       "<style scoped>\n",
       "    .dataframe tbody tr th:only-of-type {\n",
       "        vertical-align: middle;\n",
       "    }\n",
       "\n",
       "    .dataframe tbody tr th {\n",
       "        vertical-align: top;\n",
       "    }\n",
       "\n",
       "    .dataframe thead th {\n",
       "        text-align: right;\n",
       "    }\n",
       "</style>\n",
       "<table border=\"1\" class=\"dataframe\">\n",
       "  <thead>\n",
       "    <tr style=\"text-align: right;\">\n",
       "      <th></th>\n",
       "      <th>CODMUNRES</th>\n",
       "      <th>ANO_OBITO</th>\n",
       "      <th>CONTADOR</th>\n",
       "      <th>mun_cod_sim</th>\n",
       "      <th>pop_under74</th>\n",
       "      <th>UF</th>\n",
       "      <th>mun_no</th>\n",
       "      <th>mort_ind_mun</th>\n",
       "    </tr>\n",
       "  </thead>\n",
       "  <tbody>\n",
       "    <tr>\n",
       "      <th>0</th>\n",
       "      <td>_110001</td>\n",
       "      <td>_2010</td>\n",
       "      <td>58</td>\n",
       "      <td>_110001</td>\n",
       "      <td>23948.0</td>\n",
       "      <td>RO</td>\n",
       "      <td>Alta Floresta D'Oeste</td>\n",
       "      <td>242.191415</td>\n",
       "    </tr>\n",
       "    <tr>\n",
       "      <th>1</th>\n",
       "      <td>_110001</td>\n",
       "      <td>_2020</td>\n",
       "      <td>68</td>\n",
       "      <td>_110001</td>\n",
       "      <td>23948.0</td>\n",
       "      <td>RO</td>\n",
       "      <td>Alta Floresta D'Oeste</td>\n",
       "      <td>283.948555</td>\n",
       "    </tr>\n",
       "    <tr>\n",
       "      <th>2</th>\n",
       "      <td>_110002</td>\n",
       "      <td>_2010</td>\n",
       "      <td>217</td>\n",
       "      <td>_110002</td>\n",
       "      <td>89037.0</td>\n",
       "      <td>RO</td>\n",
       "      <td>Ariquemes</td>\n",
       "      <td>243.718903</td>\n",
       "    </tr>\n",
       "    <tr>\n",
       "      <th>3</th>\n",
       "      <td>_110002</td>\n",
       "      <td>_2020</td>\n",
       "      <td>266</td>\n",
       "      <td>_110002</td>\n",
       "      <td>89037.0</td>\n",
       "      <td>RO</td>\n",
       "      <td>Ariquemes</td>\n",
       "      <td>298.752204</td>\n",
       "    </tr>\n",
       "    <tr>\n",
       "      <th>4</th>\n",
       "      <td>_110003</td>\n",
       "      <td>_2010</td>\n",
       "      <td>15</td>\n",
       "      <td>_110003</td>\n",
       "      <td>6180.0</td>\n",
       "      <td>RO</td>\n",
       "      <td>Cabixi</td>\n",
       "      <td>242.718447</td>\n",
       "    </tr>\n",
       "  </tbody>\n",
       "</table>\n",
       "</div>"
      ],
      "text/plain": [
       "  CODMUNRES ANO_OBITO  CONTADOR mun_cod_sim  pop_under74  UF  \\\n",
       "0   _110001     _2010        58     _110001      23948.0  RO   \n",
       "1   _110001     _2020        68     _110001      23948.0  RO   \n",
       "2   _110002     _2010       217     _110002      89037.0  RO   \n",
       "3   _110002     _2020       266     _110002      89037.0  RO   \n",
       "4   _110003     _2010        15     _110003       6180.0  RO   \n",
       "\n",
       "                   mun_no  mort_ind_mun  \n",
       "0  Alta Floresta D'Oeste     242.191415  \n",
       "1  Alta Floresta D'Oeste     283.948555  \n",
       "2              Ariquemes     243.718903  \n",
       "3              Ariquemes     298.752204  \n",
       "4                 Cabixi     242.718447  "
      ]
     },
     "execution_count": 105,
     "metadata": {},
     "output_type": "execute_result"
    }
   ],
   "source": [
    "# Gerar o indicador de mortalidade (por 100 mil habitantes) e exibir as primeiras linhas do DataFrame\n",
    "heatds_temp01 = heatds_temp.copy()\n",
    "\n",
    "heatds_temp01['mort_ind_mun'] = (heatds_temp01['CONTADOR']/heatds_temp01['pop_under74'])*100000\n",
    "\n",
    "# Exibir as primeiras linhas do dataframe resultante\n",
    "heatds_temp01.head()"
   ]
  },
  {
   "cell_type": "code",
   "execution_count": 106,
   "metadata": {
    "vscode": {
     "languageId": "ruby"
    }
   },
   "outputs": [
    {
     "name": "stderr",
     "output_type": "stream",
     "text": [
      "/home/codespace/.local/lib/python3.12/site-packages/pandas/core/nanops.py:1016: RuntimeWarning: invalid value encountered in subtract\n",
      "  sqr = _ensure_numeric((avg - values) ** 2)\n"
     ]
    },
    {
     "data": {
      "text/html": [
       "<div>\n",
       "<style scoped>\n",
       "    .dataframe tbody tr th:only-of-type {\n",
       "        vertical-align: middle;\n",
       "    }\n",
       "\n",
       "    .dataframe tbody tr th {\n",
       "        vertical-align: top;\n",
       "    }\n",
       "\n",
       "    .dataframe thead th {\n",
       "        text-align: right;\n",
       "    }\n",
       "</style>\n",
       "<table border=\"1\" class=\"dataframe\">\n",
       "  <thead>\n",
       "    <tr style=\"text-align: right;\">\n",
       "      <th></th>\n",
       "      <th>CONTADOR</th>\n",
       "      <th>pop_under74</th>\n",
       "      <th>mort_ind_mun</th>\n",
       "    </tr>\n",
       "  </thead>\n",
       "  <tbody>\n",
       "    <tr>\n",
       "      <th>count</th>\n",
       "      <td>11117.000000</td>\n",
       "      <td>1.111700e+04</td>\n",
       "      <td>1.111700e+04</td>\n",
       "    </tr>\n",
       "    <tr>\n",
       "      <th>mean</th>\n",
       "      <td>87.838895</td>\n",
       "      <td>3.332522e+04</td>\n",
       "      <td>inf</td>\n",
       "    </tr>\n",
       "    <tr>\n",
       "      <th>std</th>\n",
       "      <td>506.484000</td>\n",
       "      <td>1.964664e+05</td>\n",
       "      <td>NaN</td>\n",
       "    </tr>\n",
       "    <tr>\n",
       "      <th>min</th>\n",
       "      <td>1.000000</td>\n",
       "      <td>0.000000e+00</td>\n",
       "      <td>1.264063e+01</td>\n",
       "    </tr>\n",
       "    <tr>\n",
       "      <th>25%</th>\n",
       "      <td>12.000000</td>\n",
       "      <td>5.060000e+03</td>\n",
       "      <td>1.999429e+02</td>\n",
       "    </tr>\n",
       "    <tr>\n",
       "      <th>50%</th>\n",
       "      <td>26.000000</td>\n",
       "      <td>1.062000e+04</td>\n",
       "      <td>2.534630e+02</td>\n",
       "    </tr>\n",
       "    <tr>\n",
       "      <th>75%</th>\n",
       "      <td>59.000000</td>\n",
       "      <td>2.273500e+04</td>\n",
       "      <td>3.041961e+02</td>\n",
       "    </tr>\n",
       "    <tr>\n",
       "      <th>max</th>\n",
       "      <td>28299.000000</td>\n",
       "      <td>1.087806e+07</td>\n",
       "      <td>inf</td>\n",
       "    </tr>\n",
       "  </tbody>\n",
       "</table>\n",
       "</div>"
      ],
      "text/plain": [
       "           CONTADOR   pop_under74  mort_ind_mun\n",
       "count  11117.000000  1.111700e+04  1.111700e+04\n",
       "mean      87.838895  3.332522e+04           inf\n",
       "std      506.484000  1.964664e+05           NaN\n",
       "min        1.000000  0.000000e+00  1.264063e+01\n",
       "25%       12.000000  5.060000e+03  1.999429e+02\n",
       "50%       26.000000  1.062000e+04  2.534630e+02\n",
       "75%       59.000000  2.273500e+04  3.041961e+02\n",
       "max    28299.000000  1.087806e+07           inf"
      ]
     },
     "execution_count": 106,
     "metadata": {},
     "output_type": "execute_result"
    }
   ],
   "source": [
    "# Verificar se existe valor infinito ou negativo na coluna mort_ind_mun\n",
    "heatds_temp01.describe()"
   ]
  },
  {
   "cell_type": "code",
   "execution_count": 116,
   "metadata": {},
   "outputs": [
    {
     "name": "stdout",
     "output_type": "stream",
     "text": [
      "Número de valores infinitos em mort_ind_mun: 5\n"
     ]
    }
   ],
   "source": [
    "# Contar e gerar tabela de indicador de mortalidade infinitos [inf]\n",
    "# registros_inf = heatds_temp01[np.isinf(heatds_temp01['mort_ind_mun'])]\n",
    "inf_count = np.isinf(heatds_temp01['mort_ind_mun']).sum()\n",
    "\n",
    "# Exibir os registros filtrados\n",
    "print(f\"Número de valores infinitos em mort_ind_mun: {inf_count}\")\n",
    "# registros_inf\n",
    "\n",
    "# Exportar registros de indicador de mortalidade infinitos [inf]\n",
    "# registros_inf.to_csv('exportar/relatorio_reg_mort_ind_inf.csv')"
   ]
  },
  {
   "cell_type": "code",
   "execution_count": 124,
   "metadata": {},
   "outputs": [
    {
     "data": {
      "text/html": [
       "<div>\n",
       "<style scoped>\n",
       "    .dataframe tbody tr th:only-of-type {\n",
       "        vertical-align: middle;\n",
       "    }\n",
       "\n",
       "    .dataframe tbody tr th {\n",
       "        vertical-align: top;\n",
       "    }\n",
       "\n",
       "    .dataframe thead th {\n",
       "        text-align: right;\n",
       "    }\n",
       "</style>\n",
       "<table border=\"1\" class=\"dataframe\">\n",
       "  <thead>\n",
       "    <tr style=\"text-align: right;\">\n",
       "      <th></th>\n",
       "      <th>CODMUNRES</th>\n",
       "      <th>ANO_OBITO</th>\n",
       "      <th>CONTADOR</th>\n",
       "      <th>mun_cod_sim</th>\n",
       "      <th>pop_under74</th>\n",
       "      <th>UF</th>\n",
       "      <th>mun_no</th>\n",
       "      <th>mort_ind_mun</th>\n",
       "    </tr>\n",
       "  </thead>\n",
       "  <tbody>\n",
       "    <tr>\n",
       "      <th>448</th>\n",
       "      <td>_150475</td>\n",
       "      <td>_2020</td>\n",
       "      <td>39</td>\n",
       "      <td>_150475</td>\n",
       "      <td>0.0</td>\n",
       "      <td>PA</td>\n",
       "      <td>Mojuí dos Campos</td>\n",
       "      <td>inf</td>\n",
       "    </tr>\n",
       "    <tr>\n",
       "      <th>8993</th>\n",
       "      <td>_421265</td>\n",
       "      <td>_2020</td>\n",
       "      <td>28</td>\n",
       "      <td>_421265</td>\n",
       "      <td>0.0</td>\n",
       "      <td>SC</td>\n",
       "      <td>Pescaria Brava</td>\n",
       "      <td>inf</td>\n",
       "    </tr>\n",
       "    <tr>\n",
       "      <th>9196</th>\n",
       "      <td>_422000</td>\n",
       "      <td>_2020</td>\n",
       "      <td>63</td>\n",
       "      <td>_422000</td>\n",
       "      <td>0.0</td>\n",
       "      <td>SC</td>\n",
       "      <td>Balneário Rincão</td>\n",
       "      <td>inf</td>\n",
       "    </tr>\n",
       "    <tr>\n",
       "      <th>9829</th>\n",
       "      <td>_431454</td>\n",
       "      <td>_2020</td>\n",
       "      <td>3</td>\n",
       "      <td>_431454</td>\n",
       "      <td>0.0</td>\n",
       "      <td>RS</td>\n",
       "      <td>Pinto Bandeira</td>\n",
       "      <td>inf</td>\n",
       "    </tr>\n",
       "    <tr>\n",
       "      <th>10302</th>\n",
       "      <td>_500627</td>\n",
       "      <td>_2020</td>\n",
       "      <td>9</td>\n",
       "      <td>_500627</td>\n",
       "      <td>0.0</td>\n",
       "      <td>MS</td>\n",
       "      <td>Paraíso das Águas</td>\n",
       "      <td>inf</td>\n",
       "    </tr>\n",
       "  </tbody>\n",
       "</table>\n",
       "</div>"
      ],
      "text/plain": [
       "      CODMUNRES ANO_OBITO  CONTADOR mun_cod_sim  pop_under74  UF  \\\n",
       "448     _150475     _2020        39     _150475          0.0  PA   \n",
       "8993    _421265     _2020        28     _421265          0.0  SC   \n",
       "9196    _422000     _2020        63     _422000          0.0  SC   \n",
       "9829    _431454     _2020         3     _431454          0.0  RS   \n",
       "10302   _500627     _2020         9     _500627          0.0  MS   \n",
       "\n",
       "                   mun_no  mort_ind_mun  \n",
       "448     Mojuí dos Campos            inf  \n",
       "8993      Pescaria Brava            inf  \n",
       "9196    Balneário Rincão            inf  \n",
       "9829      Pinto Bandeira            inf  \n",
       "10302  Paraíso das Águas            inf  "
      ]
     },
     "execution_count": 124,
     "metadata": {},
     "output_type": "execute_result"
    }
   ],
   "source": [
    "# Mostrar registros com números infinitos\n",
    "registros_inf = heatds_temp01[np.isinf(heatds_temp01['mort_ind_mun'])]\n",
    "registros_inf.head()"
   ]
  },
  {
   "cell_type": "code",
   "execution_count": 117,
   "metadata": {},
   "outputs": [
    {
     "data": {
      "text/plain": [
       "976505"
      ]
     },
     "execution_count": 117,
     "metadata": {},
     "output_type": "execute_result"
    }
   ],
   "source": [
    "heatds_temp01.CONTADOR.sum()"
   ]
  },
  {
   "cell_type": "code",
   "execution_count": 127,
   "metadata": {},
   "outputs": [],
   "source": [
    "# # Limpar a base de registros de indicador de mortalidade infinitos [inf]\n",
    "heatds_temp02 = heatds_temp01.copy()\n",
    "\n",
    "# # Substituir valores infinitos por NaN\n",
    "# heatds_temp02['mort_ind_mun'].replace([np.inf, -np.inf], np.nan, inplace=True)\n",
    "heatds_temp02['mort_ind_mun_'] = heatds_temp02['mort_ind_mun'].replace([np.inf, -np.inf], np.nan)\n",
    "\n"
   ]
  },
  {
   "cell_type": "code",
   "execution_count": 136,
   "metadata": {},
   "outputs": [
    {
     "data": {
      "text/html": [
       "<div>\n",
       "<style scoped>\n",
       "    .dataframe tbody tr th:only-of-type {\n",
       "        vertical-align: middle;\n",
       "    }\n",
       "\n",
       "    .dataframe tbody tr th {\n",
       "        vertical-align: top;\n",
       "    }\n",
       "\n",
       "    .dataframe thead th {\n",
       "        text-align: right;\n",
       "    }\n",
       "</style>\n",
       "<table border=\"1\" class=\"dataframe\">\n",
       "  <thead>\n",
       "    <tr style=\"text-align: right;\">\n",
       "      <th></th>\n",
       "      <th>CODMUNRES</th>\n",
       "      <th>ANO_OBITO</th>\n",
       "      <th>CONTADOR</th>\n",
       "      <th>mun_cod_sim</th>\n",
       "      <th>pop_under74</th>\n",
       "      <th>UF</th>\n",
       "      <th>mun_no</th>\n",
       "      <th>mort_ind_mun</th>\n",
       "    </tr>\n",
       "  </thead>\n",
       "  <tbody>\n",
       "    <tr>\n",
       "      <th>0</th>\n",
       "      <td>_110001</td>\n",
       "      <td>_2010</td>\n",
       "      <td>58</td>\n",
       "      <td>_110001</td>\n",
       "      <td>23948.0</td>\n",
       "      <td>RO</td>\n",
       "      <td>Alta Floresta D'Oeste</td>\n",
       "      <td>242.191415</td>\n",
       "    </tr>\n",
       "    <tr>\n",
       "      <th>1</th>\n",
       "      <td>_110001</td>\n",
       "      <td>_2020</td>\n",
       "      <td>68</td>\n",
       "      <td>_110001</td>\n",
       "      <td>23948.0</td>\n",
       "      <td>RO</td>\n",
       "      <td>Alta Floresta D'Oeste</td>\n",
       "      <td>283.948555</td>\n",
       "    </tr>\n",
       "    <tr>\n",
       "      <th>2</th>\n",
       "      <td>_110002</td>\n",
       "      <td>_2010</td>\n",
       "      <td>217</td>\n",
       "      <td>_110002</td>\n",
       "      <td>89037.0</td>\n",
       "      <td>RO</td>\n",
       "      <td>Ariquemes</td>\n",
       "      <td>243.718903</td>\n",
       "    </tr>\n",
       "    <tr>\n",
       "      <th>3</th>\n",
       "      <td>_110002</td>\n",
       "      <td>_2020</td>\n",
       "      <td>266</td>\n",
       "      <td>_110002</td>\n",
       "      <td>89037.0</td>\n",
       "      <td>RO</td>\n",
       "      <td>Ariquemes</td>\n",
       "      <td>298.752204</td>\n",
       "    </tr>\n",
       "    <tr>\n",
       "      <th>4</th>\n",
       "      <td>_110003</td>\n",
       "      <td>_2010</td>\n",
       "      <td>15</td>\n",
       "      <td>_110003</td>\n",
       "      <td>6180.0</td>\n",
       "      <td>RO</td>\n",
       "      <td>Cabixi</td>\n",
       "      <td>242.718447</td>\n",
       "    </tr>\n",
       "  </tbody>\n",
       "</table>\n",
       "</div>"
      ],
      "text/plain": [
       "  CODMUNRES ANO_OBITO  CONTADOR mun_cod_sim  pop_under74  UF  \\\n",
       "0   _110001     _2010        58     _110001      23948.0  RO   \n",
       "1   _110001     _2020        68     _110001      23948.0  RO   \n",
       "2   _110002     _2010       217     _110002      89037.0  RO   \n",
       "3   _110002     _2020       266     _110002      89037.0  RO   \n",
       "4   _110003     _2010        15     _110003       6180.0  RO   \n",
       "\n",
       "                   mun_no  mort_ind_mun  \n",
       "0  Alta Floresta D'Oeste     242.191415  \n",
       "1  Alta Floresta D'Oeste     283.948555  \n",
       "2              Ariquemes     243.718903  \n",
       "3              Ariquemes     298.752204  \n",
       "4                 Cabixi     242.718447  "
      ]
     },
     "execution_count": 136,
     "metadata": {},
     "output_type": "execute_result"
    }
   ],
   "source": [
    "# # Renomear colunas\n",
    "heatds_temp03 = heatds_temp02.drop(columns=['mort_ind_mun'])\n",
    "\n",
    "heatds_temp03.rename(columns={'mort_ind_mun_': 'mort_ind_mun'}, inplace=True)\n",
    "\n",
    "heatds_temp03.head()"
   ]
  },
  {
   "cell_type": "code",
   "execution_count": 137,
   "metadata": {},
   "outputs": [
    {
     "name": "stdout",
     "output_type": "stream",
     "text": [
      "Número de registros nulos em mort_ind_mun: 0\n"
     ]
    }
   ],
   "source": [
    "# Contar registros nulos na coluna mort_ind_mun\n",
    "nulos_mort_ind_mun = heatds_temp02['mort_ind_mun'].isnull().sum()\n",
    "print(f\"Número de registros nulos em mort_ind_mun: {nulos_mort_ind_mun}\")"
   ]
  },
  {
   "cell_type": "code",
   "execution_count": 139,
   "metadata": {},
   "outputs": [
    {
     "data": {
      "text/html": [
       "<div>\n",
       "<style scoped>\n",
       "    .dataframe tbody tr th:only-of-type {\n",
       "        vertical-align: middle;\n",
       "    }\n",
       "\n",
       "    .dataframe tbody tr th {\n",
       "        vertical-align: top;\n",
       "    }\n",
       "\n",
       "    .dataframe thead th {\n",
       "        text-align: right;\n",
       "    }\n",
       "</style>\n",
       "<table border=\"1\" class=\"dataframe\">\n",
       "  <thead>\n",
       "    <tr style=\"text-align: right;\">\n",
       "      <th></th>\n",
       "      <th>CODMUNRES</th>\n",
       "      <th>ANO_OBITO</th>\n",
       "      <th>CONTADOR</th>\n",
       "      <th>mun_cod_sim</th>\n",
       "      <th>pop_under74</th>\n",
       "      <th>UF</th>\n",
       "      <th>mun_no</th>\n",
       "      <th>mort_ind_mun</th>\n",
       "    </tr>\n",
       "  </thead>\n",
       "  <tbody>\n",
       "    <tr>\n",
       "      <th>0</th>\n",
       "      <td>_110001</td>\n",
       "      <td>_2010</td>\n",
       "      <td>58</td>\n",
       "      <td>_110001</td>\n",
       "      <td>23948.0</td>\n",
       "      <td>RO</td>\n",
       "      <td>Alta Floresta D'Oeste</td>\n",
       "      <td>242.191415</td>\n",
       "    </tr>\n",
       "    <tr>\n",
       "      <th>1</th>\n",
       "      <td>_110001</td>\n",
       "      <td>_2020</td>\n",
       "      <td>68</td>\n",
       "      <td>_110001</td>\n",
       "      <td>23948.0</td>\n",
       "      <td>RO</td>\n",
       "      <td>Alta Floresta D'Oeste</td>\n",
       "      <td>283.948555</td>\n",
       "    </tr>\n",
       "    <tr>\n",
       "      <th>2</th>\n",
       "      <td>_110002</td>\n",
       "      <td>_2010</td>\n",
       "      <td>217</td>\n",
       "      <td>_110002</td>\n",
       "      <td>89037.0</td>\n",
       "      <td>RO</td>\n",
       "      <td>Ariquemes</td>\n",
       "      <td>243.718903</td>\n",
       "    </tr>\n",
       "    <tr>\n",
       "      <th>3</th>\n",
       "      <td>_110002</td>\n",
       "      <td>_2020</td>\n",
       "      <td>266</td>\n",
       "      <td>_110002</td>\n",
       "      <td>89037.0</td>\n",
       "      <td>RO</td>\n",
       "      <td>Ariquemes</td>\n",
       "      <td>298.752204</td>\n",
       "    </tr>\n",
       "    <tr>\n",
       "      <th>4</th>\n",
       "      <td>_110003</td>\n",
       "      <td>_2010</td>\n",
       "      <td>15</td>\n",
       "      <td>_110003</td>\n",
       "      <td>6180.0</td>\n",
       "      <td>RO</td>\n",
       "      <td>Cabixi</td>\n",
       "      <td>242.718447</td>\n",
       "    </tr>\n",
       "  </tbody>\n",
       "</table>\n",
       "</div>"
      ],
      "text/plain": [
       "  CODMUNRES ANO_OBITO  CONTADOR mun_cod_sim  pop_under74  UF  \\\n",
       "0   _110001     _2010        58     _110001      23948.0  RO   \n",
       "1   _110001     _2020        68     _110001      23948.0  RO   \n",
       "2   _110002     _2010       217     _110002      89037.0  RO   \n",
       "3   _110002     _2020       266     _110002      89037.0  RO   \n",
       "4   _110003     _2010        15     _110003       6180.0  RO   \n",
       "\n",
       "                   mun_no  mort_ind_mun  \n",
       "0  Alta Floresta D'Oeste     242.191415  \n",
       "1  Alta Floresta D'Oeste     283.948555  \n",
       "2              Ariquemes     243.718903  \n",
       "3              Ariquemes     298.752204  \n",
       "4                 Cabixi     242.718447  "
      ]
     },
     "execution_count": 139,
     "metadata": {},
     "output_type": "execute_result"
    }
   ],
   "source": [
    "# Excluir registros com NaN na coluna mort_ind_mun\n",
    "heatds_temp03.dropna(subset=['mort_ind_mun'], inplace=True)\n",
    "\n",
    "# Verificar as primeiras linhas do DataFrame atualizado\n",
    "heatds_temp03.head()"
   ]
  },
  {
   "cell_type": "code",
   "execution_count": null,
   "metadata": {},
   "outputs": [],
   "source": [
    "# Renomear coluna"
   ]
  },
  {
   "cell_type": "code",
   "execution_count": 140,
   "metadata": {},
   "outputs": [
    {
     "name": "stdout",
     "output_type": "stream",
     "text": [
      "\u001b[33m ==> Antes da criação do indicador de mortalidade, tinhamos registro de 976505 mortes, dada a limpeza de -142 registros, temos o total final de registros: 976363\u001b[0m\n"
     ]
    }
   ],
   "source": [
    "# Comparar os valores antes e depois de excluir valores infinitos de indicador de mortalidade\n",
    "origem = heatds_temp01.CONTADOR.sum()\n",
    "final = heatds_temp03.CONTADOR.sum()\n",
    "dif = final - origem\n",
    "print_y(f'Antes da criação do indicador de mortalidade, tinhamos registro de {origem} mortes, dada a limpeza de {dif} registros, temos o total final de registros: {final}')"
   ]
  },
  {
   "cell_type": "code",
   "execution_count": 74,
   "metadata": {},
   "outputs": [
    {
     "name": "stderr",
     "output_type": "stream",
     "text": [
      "/home/codespace/.local/lib/python3.12/site-packages/pandas/core/nanops.py:1016: RuntimeWarning: invalid value encountered in subtract\n",
      "  sqr = _ensure_numeric((avg - values) ** 2)\n"
     ]
    },
    {
     "data": {
      "text/html": [
       "<div>\n",
       "<style scoped>\n",
       "    .dataframe tbody tr th:only-of-type {\n",
       "        vertical-align: middle;\n",
       "    }\n",
       "\n",
       "    .dataframe tbody tr th {\n",
       "        vertical-align: top;\n",
       "    }\n",
       "\n",
       "    .dataframe thead th {\n",
       "        text-align: right;\n",
       "    }\n",
       "</style>\n",
       "<table border=\"1\" class=\"dataframe\">\n",
       "  <thead>\n",
       "    <tr style=\"text-align: right;\">\n",
       "      <th></th>\n",
       "      <th>CONTADOR</th>\n",
       "      <th>pop_under74</th>\n",
       "      <th>mort_ind_mun</th>\n",
       "    </tr>\n",
       "  </thead>\n",
       "  <tbody>\n",
       "    <tr>\n",
       "      <th>count</th>\n",
       "      <td>27817.000000</td>\n",
       "      <td>2.781700e+04</td>\n",
       "      <td>2.781700e+04</td>\n",
       "    </tr>\n",
       "    <tr>\n",
       "      <th>mean</th>\n",
       "      <td>91.078405</td>\n",
       "      <td>3.329709e+04</td>\n",
       "      <td>inf</td>\n",
       "    </tr>\n",
       "    <tr>\n",
       "      <th>std</th>\n",
       "      <td>510.470539</td>\n",
       "      <td>1.963769e+05</td>\n",
       "      <td>NaN</td>\n",
       "    </tr>\n",
       "    <tr>\n",
       "      <th>min</th>\n",
       "      <td>1.000000</td>\n",
       "      <td>0.000000e+00</td>\n",
       "      <td>1.264063e+01</td>\n",
       "    </tr>\n",
       "    <tr>\n",
       "      <th>25%</th>\n",
       "      <td>13.000000</td>\n",
       "      <td>5.051000e+03</td>\n",
       "      <td>2.152890e+02</td>\n",
       "    </tr>\n",
       "    <tr>\n",
       "      <th>50%</th>\n",
       "      <td>27.000000</td>\n",
       "      <td>1.059800e+04</td>\n",
       "      <td>2.676182e+02</td>\n",
       "    </tr>\n",
       "    <tr>\n",
       "      <th>75%</th>\n",
       "      <td>62.000000</td>\n",
       "      <td>2.272300e+04</td>\n",
       "      <td>3.202254e+02</td>\n",
       "    </tr>\n",
       "    <tr>\n",
       "      <th>max</th>\n",
       "      <td>28299.000000</td>\n",
       "      <td>1.087806e+07</td>\n",
       "      <td>inf</td>\n",
       "    </tr>\n",
       "  </tbody>\n",
       "</table>\n",
       "</div>"
      ],
      "text/plain": [
       "           CONTADOR   pop_under74  mort_ind_mun\n",
       "count  27817.000000  2.781700e+04  2.781700e+04\n",
       "mean      91.078405  3.329709e+04           inf\n",
       "std      510.470539  1.963769e+05           NaN\n",
       "min        1.000000  0.000000e+00  1.264063e+01\n",
       "25%       13.000000  5.051000e+03  2.152890e+02\n",
       "50%       27.000000  1.059800e+04  2.676182e+02\n",
       "75%       62.000000  2.272300e+04  3.202254e+02\n",
       "max    28299.000000  1.087806e+07           inf"
      ]
     },
     "execution_count": 74,
     "metadata": {},
     "output_type": "execute_result"
    }
   ],
   "source": [
    "# Verificar se existe valor infinito ou negativo na coluna mort_ind_mun\n",
    "heatds_temp03.describe()"
   ]
  },
  {
   "cell_type": "markdown",
   "metadata": {},
   "source": [
    "##### Agrupar por UF para gerar setting e setting-average\n",
    "\n",
    "De acordo com o template do HEAT, o setting average: \"must be consistent for the same combinantion of: setting, year, source and indicator\".\n",
    "\n",
    "Isto implica que os valores para cada setting (UF) não traz interferência nem da dimensão (município) e nem do subgrupo (sexo-raça-cor)."
   ]
  },
  {
   "cell_type": "code",
   "execution_count": 195,
   "metadata": {},
   "outputs": [
    {
     "data": {
      "text/plain": [
       "Index(['CODMUNRES', 'ANO_OBITO', 'POP_MERGE', 'CONTADOR', 'pop_under74', 'UF',\n",
       "       'mun_no', 'mort_ind_mun'],\n",
       "      dtype='object')"
      ]
     },
     "execution_count": 195,
     "metadata": {},
     "output_type": "execute_result"
    }
   ],
   "source": [
    "heat_ds_treat1.columns"
   ]
  },
  {
   "cell_type": "code",
   "execution_count": null,
   "metadata": {
    "vscode": {
     "languageId": "ruby"
    }
   },
   "outputs": [],
   "source": [
    "# # Agrupar por 'UF', 'ANO', e calcular a média de 'mort_ind'\n",
    "# dobr_grouped_uf = heat_ds_treat2.groupby(['UF',\n",
    "#                                              'ANO_OBITO',\n",
    "#                                             #  'SEXO',\n",
    "#                                             #  'RACACOR'\n",
    "#                                              ]).agg({'CONTADOR': 'sum',\n",
    "#                                                     'pop_under74': 'sum',\n",
    "#                                                     'mort_ind_mun': 'mean'\n",
    "#                                                 }).reset_index()\n",
    "# dobr_grouped_uf.rename(columns={'mort_ind_mun': 'mort_ind_uf',\n",
    "#                                 'CONTADOR': 'obito_count_uf',\n",
    "#                                 'pop_under74': 'pop_under74_uf',\n",
    "#                                 }, inplace=True)\n",
    "\n",
    "\n",
    "# # Exibir as primeiras linhas do DataFrame resultante\n",
    "# dobr_grouped_uf.head()"
   ]
  },
  {
   "cell_type": "code",
   "execution_count": null,
   "metadata": {
    "vscode": {
     "languageId": "ruby"
    }
   },
   "outputs": [],
   "source": [
    "# dobr_grouped_uf.describe()"
   ]
  },
  {
   "cell_type": "code",
   "execution_count": null,
   "metadata": {
    "vscode": {
     "languageId": "ruby"
    }
   },
   "outputs": [],
   "source": [
    "# Salvar arquivo por UF para exportação\n",
    "# dobr_grouped_uf.to_excel('exportar/dobr_grouped_uf_v2.xlsx', index=False)"
   ]
  },
  {
   "cell_type": "code",
   "execution_count": null,
   "metadata": {
    "vscode": {
     "languageId": "ruby"
    }
   },
   "outputs": [],
   "source": [
    "# heat_ds_treat2.columns"
   ]
  },
  {
   "cell_type": "code",
   "execution_count": null,
   "metadata": {},
   "outputs": [],
   "source": [
    "# # Trazer dados por UF (setting e setting_average)\n",
    "\n",
    "# # Realizar o merge entre heat_ e uf_sett\n",
    "# heat_treat00 = pd.merge(heat_ds_treat2, dobr_grouped_uf, on=['UF',\n",
    "#                                                                 'ANO_OBITO',\n",
    "#                                                                 # 'SEXO',\n",
    "#                                                                 # 'RACACOR'\n",
    "#                                                                 ], how='left')\n",
    "\n",
    "# # Exibir as primeiras linhas do dataframe resultante\n",
    "# heat_treat00.head()"
   ]
  },
  {
   "cell_type": "code",
   "execution_count": null,
   "metadata": {},
   "outputs": [],
   "source": [
    "# # Teste de aplicação de setting_average (médias por UF)\n",
    "# filtered_data = heat_treat00[   (heat_treat00['ANO_OBITO'] == '_2022') &\n",
    "#                                 (heat_treat00['UF'] == 'AC') \n",
    "#                                 # & (heat_treat00['SEXO'] == '_1') &\n",
    "#                                 #(heat_treat00['RACACOR'] == '_4')\n",
    "#                               ]\n",
    "# filtered_data.head()"
   ]
  },
  {
   "cell_type": "code",
   "execution_count": 166,
   "metadata": {},
   "outputs": [
    {
     "data": {
      "text/plain": [
       "Index(['CODMUNRES', 'ANO_OBITO', 'POP_MERGE', 'CONTADOR', 'pop_under74', 'UF',\n",
       "       'mun_no', 'mort_ind_mun', 'obito_count_uf', 'pop_under74_uf',\n",
       "       'mort_ind_uf'],\n",
       "      dtype='object')"
      ]
     },
     "execution_count": 166,
     "metadata": {},
     "output_type": "execute_result"
    }
   ],
   "source": [
    "# heat_treat00.columns"
   ]
  },
  {
   "cell_type": "code",
   "execution_count": 177,
   "metadata": {},
   "outputs": [
    {
     "data": {
      "text/plain": [
       "74248156186.0"
      ]
     },
     "execution_count": 177,
     "metadata": {},
     "output_type": "execute_result"
    }
   ],
   "source": [
    "# heat_treat00.pop_under74_uf.sum()"
   ]
  },
  {
   "cell_type": "code",
   "execution_count": 174,
   "metadata": {},
   "outputs": [
    {
     "name": "stdout",
     "output_type": "stream",
     "text": [
      "\u001b[31m ==> Número de mortes: 534729 \u001b[0m\n",
      "\u001b[31m ==> Número de população abaixo de 75 anos é de 194644474.0 \u001b[0m\n"
     ]
    }
   ],
   "source": [
    "# obito_num = heat_treat00.CONTADOR.sum()\n",
    "# pop_under74 = heat_treat00.pop_under74.sum()\n",
    "\n",
    "# print(f\"\\033[33m ==> Número de mortes: {obito_num} \\033[0m\")\n",
    "# print(f\"\\033[33m ==> Número de população abaixo de 75 anos é de {pop_under74} \\033[0m\")  \n"
   ]
  },
  {
   "cell_type": "code",
   "execution_count": null,
   "metadata": {},
   "outputs": [],
   "source": [
    "# heat_template = row\n",
    "# heat_template"
   ]
  },
  {
   "cell_type": "markdown",
   "metadata": {},
   "source": [
    "##### Criar colunas do dataset"
   ]
  },
  {
   "cell_type": "code",
   "execution_count": 141,
   "metadata": {},
   "outputs": [
    {
     "name": "stdout",
     "output_type": "stream",
     "text": [
      "  ANO_OBITO  set_avg_BR\n",
      "0     _2010  257.615194\n",
      "1     _2020  269.469531\n"
     ]
    }
   ],
   "source": [
    "# Agrupar os dados por ano e calcular o número de óbitos e a população abaixo de 74 anos para cada ano\n",
    "grouped_data = heatds_temp03.groupby('ANO_OBITO').agg({\n",
    "    'CONTADOR': 'sum',\n",
    "    'pop_under74': 'sum'\n",
    "}).reset_index()\n",
    "\n",
    "# Calcular set_avg_BR para cada ano\n",
    "grouped_data['set_avg_BR'] = (grouped_data['CONTADOR'] / grouped_data['pop_under74']) * 100000\n",
    "\n",
    "# Exibir os resultados\n",
    "print(grouped_data[['ANO_OBITO', 'set_avg_BR']])"
   ]
  },
  {
   "cell_type": "code",
   "execution_count": 197,
   "metadata": {},
   "outputs": [
    {
     "data": {
      "text/html": [
       "<div>\n",
       "<style scoped>\n",
       "    .dataframe tbody tr th:only-of-type {\n",
       "        vertical-align: middle;\n",
       "    }\n",
       "\n",
       "    .dataframe tbody tr th {\n",
       "        vertical-align: top;\n",
       "    }\n",
       "\n",
       "    .dataframe thead th {\n",
       "        text-align: right;\n",
       "    }\n",
       "</style>\n",
       "<table border=\"1\" class=\"dataframe\">\n",
       "  <thead>\n",
       "    <tr style=\"text-align: right;\">\n",
       "      <th></th>\n",
       "      <th>CODMUNRES</th>\n",
       "      <th>ANO_OBITO</th>\n",
       "      <th>POP_MERGE</th>\n",
       "      <th>CONTADOR</th>\n",
       "      <th>pop_under74</th>\n",
       "      <th>UF</th>\n",
       "      <th>mun_no</th>\n",
       "      <th>mort_ind_mun</th>\n",
       "      <th>set_avg_BR</th>\n",
       "    </tr>\n",
       "  </thead>\n",
       "  <tbody>\n",
       "    <tr>\n",
       "      <th>0</th>\n",
       "      <td>_110001</td>\n",
       "      <td>_2010</td>\n",
       "      <td>_2010_110001</td>\n",
       "      <td>58</td>\n",
       "      <td>23948.0</td>\n",
       "      <td>RO</td>\n",
       "      <td>Alta Floresta D'Oeste</td>\n",
       "      <td>242.191415</td>\n",
       "      <td>257.615194</td>\n",
       "    </tr>\n",
       "    <tr>\n",
       "      <th>1</th>\n",
       "      <td>_110001</td>\n",
       "      <td>_2019</td>\n",
       "      <td>_2022_110001</td>\n",
       "      <td>67</td>\n",
       "      <td>20742.0</td>\n",
       "      <td>RO</td>\n",
       "      <td>Alta Floresta D'Oeste</td>\n",
       "      <td>323.016103</td>\n",
       "      <td>258.919766</td>\n",
       "    </tr>\n",
       "    <tr>\n",
       "      <th>2</th>\n",
       "      <td>_110001</td>\n",
       "      <td>_2020</td>\n",
       "      <td>_2022_110001</td>\n",
       "      <td>68</td>\n",
       "      <td>20742.0</td>\n",
       "      <td>RO</td>\n",
       "      <td>Alta Floresta D'Oeste</td>\n",
       "      <td>327.837238</td>\n",
       "      <td>256.542023</td>\n",
       "    </tr>\n",
       "    <tr>\n",
       "      <th>3</th>\n",
       "      <td>_110001</td>\n",
       "      <td>_2021</td>\n",
       "      <td>_2022_110001</td>\n",
       "      <td>45</td>\n",
       "      <td>20742.0</td>\n",
       "      <td>RO</td>\n",
       "      <td>Alta Floresta D'Oeste</td>\n",
       "      <td>216.951114</td>\n",
       "      <td>266.310807</td>\n",
       "    </tr>\n",
       "    <tr>\n",
       "      <th>4</th>\n",
       "      <td>_110001</td>\n",
       "      <td>_2022</td>\n",
       "      <td>_2022_110001</td>\n",
       "      <td>64</td>\n",
       "      <td>20742.0</td>\n",
       "      <td>RO</td>\n",
       "      <td>Alta Floresta D'Oeste</td>\n",
       "      <td>308.552695</td>\n",
       "      <td>274.720874</td>\n",
       "    </tr>\n",
       "  </tbody>\n",
       "</table>\n",
       "</div>"
      ],
      "text/plain": [
       "  CODMUNRES ANO_OBITO     POP_MERGE  CONTADOR  pop_under74  UF  \\\n",
       "0   _110001     _2010  _2010_110001        58      23948.0  RO   \n",
       "1   _110001     _2019  _2022_110001        67      20742.0  RO   \n",
       "2   _110001     _2020  _2022_110001        68      20742.0  RO   \n",
       "3   _110001     _2021  _2022_110001        45      20742.0  RO   \n",
       "4   _110001     _2022  _2022_110001        64      20742.0  RO   \n",
       "\n",
       "                   mun_no  mort_ind_mun  set_avg_BR  \n",
       "0  Alta Floresta D'Oeste     242.191415  257.615194  \n",
       "1  Alta Floresta D'Oeste     323.016103  258.919766  \n",
       "2  Alta Floresta D'Oeste     327.837238  256.542023  \n",
       "3  Alta Floresta D'Oeste     216.951114  266.310807  \n",
       "4  Alta Floresta D'Oeste     308.552695  274.720874  "
      ]
     },
     "execution_count": 197,
     "metadata": {},
     "output_type": "execute_result"
    }
   ],
   "source": [
    "# Realizar o merge entre heat_ds_treat2 e grouped_data usando a coluna ANO_OBITO\n",
    "heat_ds_treat2 = pd.merge(heat_ds_treat1, grouped_data[['ANO_OBITO', 'set_avg_BR']], on='ANO_OBITO', how='left')\n",
    "\n",
    "# Exibir as primeiras linhas do dataframe resultante\n",
    "heat_ds_treat2.head()"
   ]
  },
  {
   "cell_type": "code",
   "execution_count": 198,
   "metadata": {},
   "outputs": [
    {
     "data": {
      "text/html": [
       "<div>\n",
       "<style scoped>\n",
       "    .dataframe tbody tr th:only-of-type {\n",
       "        vertical-align: middle;\n",
       "    }\n",
       "\n",
       "    .dataframe tbody tr th {\n",
       "        vertical-align: top;\n",
       "    }\n",
       "\n",
       "    .dataframe thead th {\n",
       "        text-align: right;\n",
       "    }\n",
       "</style>\n",
       "<table border=\"1\" class=\"dataframe\">\n",
       "  <thead>\n",
       "    <tr style=\"text-align: right;\">\n",
       "      <th></th>\n",
       "      <th>CODMUNRES</th>\n",
       "      <th>ANO_OBITO</th>\n",
       "      <th>POP_MERGE</th>\n",
       "      <th>CONTADOR</th>\n",
       "      <th>pop_under74</th>\n",
       "      <th>UF</th>\n",
       "      <th>mun_no</th>\n",
       "      <th>mort_ind_mun</th>\n",
       "      <th>set_avg_BR</th>\n",
       "      <th>setting</th>\n",
       "      <th>...</th>\n",
       "      <th>favourable_indicator</th>\n",
       "      <th>indicator_scale</th>\n",
       "      <th>ordered_dimension</th>\n",
       "      <th>subgroup_order</th>\n",
       "      <th>reference_subgroup</th>\n",
       "      <th>note</th>\n",
       "      <th>se</th>\n",
       "      <th>ci_lb</th>\n",
       "      <th>ci_ub</th>\n",
       "      <th>iso3</th>\n",
       "    </tr>\n",
       "  </thead>\n",
       "  <tbody>\n",
       "    <tr>\n",
       "      <th>0</th>\n",
       "      <td>_110001</td>\n",
       "      <td>_2010</td>\n",
       "      <td>_2010_110001</td>\n",
       "      <td>58</td>\n",
       "      <td>23948.0</td>\n",
       "      <td>RO</td>\n",
       "      <td>Alta Floresta D'Oeste</td>\n",
       "      <td>242.191415</td>\n",
       "      <td>257.615194</td>\n",
       "      <td>Brasil</td>\n",
       "      <td>...</td>\n",
       "      <td>0</td>\n",
       "      <td>100000</td>\n",
       "      <td>0</td>\n",
       "      <td>0</td>\n",
       "      <td>0</td>\n",
       "      <td></td>\n",
       "      <td></td>\n",
       "      <td></td>\n",
       "      <td></td>\n",
       "      <td>BRA</td>\n",
       "    </tr>\n",
       "    <tr>\n",
       "      <th>1</th>\n",
       "      <td>_110001</td>\n",
       "      <td>_2019</td>\n",
       "      <td>_2022_110001</td>\n",
       "      <td>67</td>\n",
       "      <td>20742.0</td>\n",
       "      <td>RO</td>\n",
       "      <td>Alta Floresta D'Oeste</td>\n",
       "      <td>323.016103</td>\n",
       "      <td>258.919766</td>\n",
       "      <td>Brasil</td>\n",
       "      <td>...</td>\n",
       "      <td>0</td>\n",
       "      <td>100000</td>\n",
       "      <td>0</td>\n",
       "      <td>0</td>\n",
       "      <td>0</td>\n",
       "      <td></td>\n",
       "      <td></td>\n",
       "      <td></td>\n",
       "      <td></td>\n",
       "      <td>BRA</td>\n",
       "    </tr>\n",
       "    <tr>\n",
       "      <th>2</th>\n",
       "      <td>_110001</td>\n",
       "      <td>_2020</td>\n",
       "      <td>_2022_110001</td>\n",
       "      <td>68</td>\n",
       "      <td>20742.0</td>\n",
       "      <td>RO</td>\n",
       "      <td>Alta Floresta D'Oeste</td>\n",
       "      <td>327.837238</td>\n",
       "      <td>256.542023</td>\n",
       "      <td>Brasil</td>\n",
       "      <td>...</td>\n",
       "      <td>0</td>\n",
       "      <td>100000</td>\n",
       "      <td>0</td>\n",
       "      <td>0</td>\n",
       "      <td>0</td>\n",
       "      <td></td>\n",
       "      <td></td>\n",
       "      <td></td>\n",
       "      <td></td>\n",
       "      <td>BRA</td>\n",
       "    </tr>\n",
       "    <tr>\n",
       "      <th>3</th>\n",
       "      <td>_110001</td>\n",
       "      <td>_2021</td>\n",
       "      <td>_2022_110001</td>\n",
       "      <td>45</td>\n",
       "      <td>20742.0</td>\n",
       "      <td>RO</td>\n",
       "      <td>Alta Floresta D'Oeste</td>\n",
       "      <td>216.951114</td>\n",
       "      <td>266.310807</td>\n",
       "      <td>Brasil</td>\n",
       "      <td>...</td>\n",
       "      <td>0</td>\n",
       "      <td>100000</td>\n",
       "      <td>0</td>\n",
       "      <td>0</td>\n",
       "      <td>0</td>\n",
       "      <td></td>\n",
       "      <td></td>\n",
       "      <td></td>\n",
       "      <td></td>\n",
       "      <td>BRA</td>\n",
       "    </tr>\n",
       "    <tr>\n",
       "      <th>4</th>\n",
       "      <td>_110001</td>\n",
       "      <td>_2022</td>\n",
       "      <td>_2022_110001</td>\n",
       "      <td>64</td>\n",
       "      <td>20742.0</td>\n",
       "      <td>RO</td>\n",
       "      <td>Alta Floresta D'Oeste</td>\n",
       "      <td>308.552695</td>\n",
       "      <td>274.720874</td>\n",
       "      <td>Brasil</td>\n",
       "      <td>...</td>\n",
       "      <td>0</td>\n",
       "      <td>100000</td>\n",
       "      <td>0</td>\n",
       "      <td>0</td>\n",
       "      <td>0</td>\n",
       "      <td></td>\n",
       "      <td></td>\n",
       "      <td></td>\n",
       "      <td></td>\n",
       "      <td>BRA</td>\n",
       "    </tr>\n",
       "  </tbody>\n",
       "</table>\n",
       "<p>5 rows × 23 columns</p>\n",
       "</div>"
      ],
      "text/plain": [
       "  CODMUNRES ANO_OBITO     POP_MERGE  CONTADOR  pop_under74  UF  \\\n",
       "0   _110001     _2010  _2010_110001        58      23948.0  RO   \n",
       "1   _110001     _2019  _2022_110001        67      20742.0  RO   \n",
       "2   _110001     _2020  _2022_110001        68      20742.0  RO   \n",
       "3   _110001     _2021  _2022_110001        45      20742.0  RO   \n",
       "4   _110001     _2022  _2022_110001        64      20742.0  RO   \n",
       "\n",
       "                   mun_no  mort_ind_mun  set_avg_BR setting  ...  \\\n",
       "0  Alta Floresta D'Oeste     242.191415  257.615194  Brasil  ...   \n",
       "1  Alta Floresta D'Oeste     323.016103  258.919766  Brasil  ...   \n",
       "2  Alta Floresta D'Oeste     327.837238  256.542023  Brasil  ...   \n",
       "3  Alta Floresta D'Oeste     216.951114  266.310807  Brasil  ...   \n",
       "4  Alta Floresta D'Oeste     308.552695  274.720874  Brasil  ...   \n",
       "\n",
       "  favourable_indicator indicator_scale ordered_dimension  subgroup_order  \\\n",
       "0                    0          100000                 0               0   \n",
       "1                    0          100000                 0               0   \n",
       "2                    0          100000                 0               0   \n",
       "3                    0          100000                 0               0   \n",
       "4                    0          100000                 0               0   \n",
       "\n",
       "   reference_subgroup  note  se  ci_lb ci_ub iso3  \n",
       "0                   0                         BRA  \n",
       "1                   0                         BRA  \n",
       "2                   0                         BRA  \n",
       "3                   0                         BRA  \n",
       "4                   0                         BRA  \n",
       "\n",
       "[5 rows x 23 columns]"
      ]
     },
     "execution_count": 198,
     "metadata": {},
     "output_type": "execute_result"
    }
   ],
   "source": [
    "# Gerar colunas sem informação ou com informação padronizada\n",
    "# heat_treat01 = heat_semCID_clean # caso não seja agrupado por UF anteriormente\n",
    "heat_treat3 = heat_ds_treat2.copy() # caso seja agrupado por UF anteriormente\n",
    "\n",
    "heat_treat3['setting'] = 'Brasil'\n",
    "# heat_treat01['setting_average'] = set_avg_BR\n",
    "\n",
    "heat_treat3['indicator_abbr'] = 'AVM'\n",
    "heat_treat3['indicator_name'] = 'Avoidable mortality (deaths per 100 000 population)'\n",
    "heat_treat3['source'] = 'SIM/SUS & Censo/IBGE'\n",
    "heat_treat3['favourable_indicator'] = 0\n",
    "heat_treat3['indicator_scale'] = 100000\n",
    "heat_treat3['ordered_dimension'] = 0\n",
    "heat_treat3['subgroup_order'] = 0\n",
    "heat_treat3['reference_subgroup'] = 0\n",
    "heat_treat3['note'] = ''\n",
    "heat_treat3['se'] = ''\n",
    "heat_treat3['ci_lb'] = ''\n",
    "heat_treat3['ci_ub'] = ''\n",
    "heat_treat3['iso3'] = 'BRA'\n",
    "\n",
    "\n",
    "heat_treat3.head()\n"
   ]
  },
  {
   "cell_type": "code",
   "execution_count": 199,
   "metadata": {},
   "outputs": [
    {
     "data": {
      "text/plain": [
       "Index(['CODMUNRES', 'ANO_OBITO', 'POP_MERGE', 'CONTADOR', 'pop_under74', 'UF',\n",
       "       'mun_no', 'mort_ind_mun', 'set_avg_BR', 'setting', 'indicator_abbr',\n",
       "       'indicator_name', 'source', 'favourable_indicator', 'indicator_scale',\n",
       "       'ordered_dimension', 'subgroup_order', 'reference_subgroup', 'note',\n",
       "       'se', 'ci_lb', 'ci_ub', 'iso3'],\n",
       "      dtype='object')"
      ]
     },
     "execution_count": 199,
     "metadata": {},
     "output_type": "execute_result"
    }
   ],
   "source": [
    "heat_treat3.columns"
   ]
  },
  {
   "cell_type": "code",
   "execution_count": 285,
   "metadata": {},
   "outputs": [],
   "source": [
    "# # Trazer labels para sexo e raçacor\n",
    "# heat_treat02 = heat_treat01.copy()\n",
    "\n",
    "# heat_treat02['SEXO'] = heat_treat02['SEXO'].map({\n",
    "#                                             '_1':'Homens',\n",
    "#                                             '_2':'Mulheres'\n",
    "#                                             })\n",
    "# heat_treat02['RACACOR'] = heat_treat02['RACACOR'].map({\n",
    "#                                             '_1':'Branca',\n",
    "#                                             '_2':'Preta',\n",
    "#                                             '_3':'Amarela',\n",
    "#                                             '_4':'Parda',\n",
    "#                                             '_5':'Indígena',\n",
    "#                                             '_9':'Sem declaração'\n",
    "#                                             })\n",
    "\n",
    "# heat_treat02['subgroup'] = heat_treat02['SEXO'] + ' - raça/cor '  +  heat_treat02['RACACOR']\n"
   ]
  },
  {
   "cell_type": "code",
   "execution_count": 53,
   "metadata": {},
   "outputs": [
    {
     "data": {
      "text/plain": [
       "array(['Homens - raça/cor Parda', 'Mulheres - raça/cor Branca',\n",
       "       'Mulheres - raça/cor Parda', 'Homens - raça/cor Branca',\n",
       "       'Homens - raça/cor Indígena', 'Mulheres - raça/cor Indígena',\n",
       "       'Homens - raça/cor Preta', 'Mulheres - raça/cor Preta',\n",
       "       'Homens - raça/cor Amarela', 'Mulheres - raça/cor Amarela'],\n",
       "      dtype=object)"
      ]
     },
     "execution_count": 53,
     "metadata": {},
     "output_type": "execute_result"
    }
   ],
   "source": [
    "# heat_treat02['subgroup'].unique()"
   ]
  },
  {
   "cell_type": "code",
   "execution_count": 286,
   "metadata": {},
   "outputs": [
    {
     "data": {
      "text/plain": [
       "Index(['CODMUNRES', 'SEXO', 'RACACOR', 'ANO', 'POP_MERGE', 'obito_count',\n",
       "       'pop_under74', 'UF', 'mun_nome', 'mort_ind_mun', 'obito_count_uf',\n",
       "       'pop_under74_uf', 'mort_ind_uf', 'indicator_abbr', 'indicator_name',\n",
       "       'source', 'favourable_indicator', 'indicator_scale',\n",
       "       'ordered_dimension', 'subgroup_order', 'reference_subgroup', 'note',\n",
       "       'se', 'ci_lb', 'ci_ub', 'iso3', 'subgroup'],\n",
       "      dtype='object')"
      ]
     },
     "execution_count": 286,
     "metadata": {},
     "output_type": "execute_result"
    }
   ],
   "source": [
    "# heat_treat02.columns"
   ]
  },
  {
   "cell_type": "code",
   "execution_count": 200,
   "metadata": {},
   "outputs": [
    {
     "data": {
      "text/html": [
       "<div>\n",
       "<style scoped>\n",
       "    .dataframe tbody tr th:only-of-type {\n",
       "        vertical-align: middle;\n",
       "    }\n",
       "\n",
       "    .dataframe tbody tr th {\n",
       "        vertical-align: top;\n",
       "    }\n",
       "\n",
       "    .dataframe thead th {\n",
       "        text-align: right;\n",
       "    }\n",
       "</style>\n",
       "<table border=\"1\" class=\"dataframe\">\n",
       "  <thead>\n",
       "    <tr style=\"text-align: right;\">\n",
       "      <th></th>\n",
       "      <th>CODMUNRES</th>\n",
       "      <th>date</th>\n",
       "      <th>POP_MERGE</th>\n",
       "      <th>CONTADOR</th>\n",
       "      <th>population</th>\n",
       "      <th>dimension</th>\n",
       "      <th>subgroup</th>\n",
       "      <th>estimate</th>\n",
       "      <th>setting_average</th>\n",
       "      <th>setting</th>\n",
       "      <th>...</th>\n",
       "      <th>favourable_indicator</th>\n",
       "      <th>indicator_scale</th>\n",
       "      <th>ordered_dimension</th>\n",
       "      <th>subgroup_order</th>\n",
       "      <th>reference_subgroup</th>\n",
       "      <th>note</th>\n",
       "      <th>se</th>\n",
       "      <th>ci_lb</th>\n",
       "      <th>ci_ub</th>\n",
       "      <th>iso3</th>\n",
       "    </tr>\n",
       "  </thead>\n",
       "  <tbody>\n",
       "    <tr>\n",
       "      <th>0</th>\n",
       "      <td>_110001</td>\n",
       "      <td>_2010</td>\n",
       "      <td>_2010_110001</td>\n",
       "      <td>58</td>\n",
       "      <td>23948.0</td>\n",
       "      <td>RO</td>\n",
       "      <td>Alta Floresta D'Oeste</td>\n",
       "      <td>242.191415</td>\n",
       "      <td>257.615194</td>\n",
       "      <td>Brasil</td>\n",
       "      <td>...</td>\n",
       "      <td>0</td>\n",
       "      <td>100000</td>\n",
       "      <td>0</td>\n",
       "      <td>0</td>\n",
       "      <td>0</td>\n",
       "      <td></td>\n",
       "      <td></td>\n",
       "      <td></td>\n",
       "      <td></td>\n",
       "      <td>BRA</td>\n",
       "    </tr>\n",
       "    <tr>\n",
       "      <th>1</th>\n",
       "      <td>_110001</td>\n",
       "      <td>_2019</td>\n",
       "      <td>_2022_110001</td>\n",
       "      <td>67</td>\n",
       "      <td>20742.0</td>\n",
       "      <td>RO</td>\n",
       "      <td>Alta Floresta D'Oeste</td>\n",
       "      <td>323.016103</td>\n",
       "      <td>258.919766</td>\n",
       "      <td>Brasil</td>\n",
       "      <td>...</td>\n",
       "      <td>0</td>\n",
       "      <td>100000</td>\n",
       "      <td>0</td>\n",
       "      <td>0</td>\n",
       "      <td>0</td>\n",
       "      <td></td>\n",
       "      <td></td>\n",
       "      <td></td>\n",
       "      <td></td>\n",
       "      <td>BRA</td>\n",
       "    </tr>\n",
       "    <tr>\n",
       "      <th>2</th>\n",
       "      <td>_110001</td>\n",
       "      <td>_2020</td>\n",
       "      <td>_2022_110001</td>\n",
       "      <td>68</td>\n",
       "      <td>20742.0</td>\n",
       "      <td>RO</td>\n",
       "      <td>Alta Floresta D'Oeste</td>\n",
       "      <td>327.837238</td>\n",
       "      <td>256.542023</td>\n",
       "      <td>Brasil</td>\n",
       "      <td>...</td>\n",
       "      <td>0</td>\n",
       "      <td>100000</td>\n",
       "      <td>0</td>\n",
       "      <td>0</td>\n",
       "      <td>0</td>\n",
       "      <td></td>\n",
       "      <td></td>\n",
       "      <td></td>\n",
       "      <td></td>\n",
       "      <td>BRA</td>\n",
       "    </tr>\n",
       "    <tr>\n",
       "      <th>3</th>\n",
       "      <td>_110001</td>\n",
       "      <td>_2021</td>\n",
       "      <td>_2022_110001</td>\n",
       "      <td>45</td>\n",
       "      <td>20742.0</td>\n",
       "      <td>RO</td>\n",
       "      <td>Alta Floresta D'Oeste</td>\n",
       "      <td>216.951114</td>\n",
       "      <td>266.310807</td>\n",
       "      <td>Brasil</td>\n",
       "      <td>...</td>\n",
       "      <td>0</td>\n",
       "      <td>100000</td>\n",
       "      <td>0</td>\n",
       "      <td>0</td>\n",
       "      <td>0</td>\n",
       "      <td></td>\n",
       "      <td></td>\n",
       "      <td></td>\n",
       "      <td></td>\n",
       "      <td>BRA</td>\n",
       "    </tr>\n",
       "    <tr>\n",
       "      <th>4</th>\n",
       "      <td>_110001</td>\n",
       "      <td>_2022</td>\n",
       "      <td>_2022_110001</td>\n",
       "      <td>64</td>\n",
       "      <td>20742.0</td>\n",
       "      <td>RO</td>\n",
       "      <td>Alta Floresta D'Oeste</td>\n",
       "      <td>308.552695</td>\n",
       "      <td>274.720874</td>\n",
       "      <td>Brasil</td>\n",
       "      <td>...</td>\n",
       "      <td>0</td>\n",
       "      <td>100000</td>\n",
       "      <td>0</td>\n",
       "      <td>0</td>\n",
       "      <td>0</td>\n",
       "      <td></td>\n",
       "      <td></td>\n",
       "      <td></td>\n",
       "      <td></td>\n",
       "      <td>BRA</td>\n",
       "    </tr>\n",
       "  </tbody>\n",
       "</table>\n",
       "<p>5 rows × 23 columns</p>\n",
       "</div>"
      ],
      "text/plain": [
       "  CODMUNRES   date     POP_MERGE  CONTADOR  population dimension  \\\n",
       "0   _110001  _2010  _2010_110001        58     23948.0        RO   \n",
       "1   _110001  _2019  _2022_110001        67     20742.0        RO   \n",
       "2   _110001  _2020  _2022_110001        68     20742.0        RO   \n",
       "3   _110001  _2021  _2022_110001        45     20742.0        RO   \n",
       "4   _110001  _2022  _2022_110001        64     20742.0        RO   \n",
       "\n",
       "                 subgroup    estimate  setting_average setting  ...  \\\n",
       "0  Alta Floresta D'Oeste   242.191415       257.615194  Brasil  ...   \n",
       "1  Alta Floresta D'Oeste   323.016103       258.919766  Brasil  ...   \n",
       "2  Alta Floresta D'Oeste   327.837238       256.542023  Brasil  ...   \n",
       "3  Alta Floresta D'Oeste   216.951114       266.310807  Brasil  ...   \n",
       "4  Alta Floresta D'Oeste   308.552695       274.720874  Brasil  ...   \n",
       "\n",
       "  favourable_indicator indicator_scale ordered_dimension  subgroup_order  \\\n",
       "0                    0          100000                 0               0   \n",
       "1                    0          100000                 0               0   \n",
       "2                    0          100000                 0               0   \n",
       "3                    0          100000                 0               0   \n",
       "4                    0          100000                 0               0   \n",
       "\n",
       "   reference_subgroup  note  se  ci_lb ci_ub iso3  \n",
       "0                   0                         BRA  \n",
       "1                   0                         BRA  \n",
       "2                   0                         BRA  \n",
       "3                   0                         BRA  \n",
       "4                   0                         BRA  \n",
       "\n",
       "[5 rows x 23 columns]"
      ]
     },
     "execution_count": 200,
     "metadata": {},
     "output_type": "execute_result"
    }
   ],
   "source": [
    "# Renomear colunas de heat_treat01\n",
    "heat_treat4 = heat_treat3.rename(columns={\n",
    "    'ANO_OBITO':'date',\n",
    "    'pop_under74':'population',\n",
    "    'UF':'dimension',\n",
    "    'mun_no':'subgroup',\n",
    "    'mort_ind_mun':'estimate',\n",
    "    'set_avg_BR':'setting_average',\n",
    "    # 'mort_ind_uf':'setting_average'\n",
    "})\n",
    "\n",
    "heat_treat4.head()"
   ]
  },
  {
   "cell_type": "code",
   "execution_count": 201,
   "metadata": {},
   "outputs": [
    {
     "data": {
      "text/plain": [
       "2533528"
      ]
     },
     "execution_count": 201,
     "metadata": {},
     "output_type": "execute_result"
    }
   ],
   "source": [
    "heat_treat4.CONTADOR.sum()"
   ]
  },
  {
   "cell_type": "code",
   "execution_count": 202,
   "metadata": {},
   "outputs": [
    {
     "data": {
      "text/plain": [
       "count    27817.000000\n",
       "mean       268.207663\n",
       "std         87.673481\n",
       "min         12.640627\n",
       "25%        211.782434\n",
       "50%        263.208494\n",
       "75%        317.028986\n",
       "max        940.733772\n",
       "Name: estimate, dtype: float64"
      ]
     },
     "execution_count": 202,
     "metadata": {},
     "output_type": "execute_result"
    }
   ],
   "source": [
    "heat_treat4.estimate.describe()"
   ]
  },
  {
   "cell_type": "code",
   "execution_count": 203,
   "metadata": {},
   "outputs": [
    {
     "data": {
      "text/html": [
       "<div>\n",
       "<style scoped>\n",
       "    .dataframe tbody tr th:only-of-type {\n",
       "        vertical-align: middle;\n",
       "    }\n",
       "\n",
       "    .dataframe tbody tr th {\n",
       "        vertical-align: top;\n",
       "    }\n",
       "\n",
       "    .dataframe thead th {\n",
       "        text-align: right;\n",
       "    }\n",
       "</style>\n",
       "<table border=\"1\" class=\"dataframe\">\n",
       "  <thead>\n",
       "    <tr style=\"text-align: right;\">\n",
       "      <th></th>\n",
       "      <th>CODMUNRES</th>\n",
       "      <th>date</th>\n",
       "      <th>POP_MERGE</th>\n",
       "      <th>CONTADOR</th>\n",
       "      <th>population</th>\n",
       "      <th>dimension</th>\n",
       "      <th>subgroup</th>\n",
       "      <th>estimate</th>\n",
       "      <th>setting_average</th>\n",
       "      <th>setting</th>\n",
       "      <th>...</th>\n",
       "      <th>favourable_indicator</th>\n",
       "      <th>indicator_scale</th>\n",
       "      <th>ordered_dimension</th>\n",
       "      <th>subgroup_order</th>\n",
       "      <th>reference_subgroup</th>\n",
       "      <th>note</th>\n",
       "      <th>se</th>\n",
       "      <th>ci_lb</th>\n",
       "      <th>ci_ub</th>\n",
       "      <th>iso3</th>\n",
       "    </tr>\n",
       "  </thead>\n",
       "  <tbody>\n",
       "    <tr>\n",
       "      <th>0</th>\n",
       "      <td>_110001</td>\n",
       "      <td>2010</td>\n",
       "      <td>_2010_110001</td>\n",
       "      <td>58</td>\n",
       "      <td>23948.0</td>\n",
       "      <td>RO</td>\n",
       "      <td>Alta Floresta D'Oeste</td>\n",
       "      <td>242.191415</td>\n",
       "      <td>257.615194</td>\n",
       "      <td>Brasil</td>\n",
       "      <td>...</td>\n",
       "      <td>0</td>\n",
       "      <td>100000</td>\n",
       "      <td>0</td>\n",
       "      <td>0</td>\n",
       "      <td>0</td>\n",
       "      <td></td>\n",
       "      <td></td>\n",
       "      <td></td>\n",
       "      <td></td>\n",
       "      <td>BRA</td>\n",
       "    </tr>\n",
       "    <tr>\n",
       "      <th>1</th>\n",
       "      <td>_110001</td>\n",
       "      <td>2019</td>\n",
       "      <td>_2022_110001</td>\n",
       "      <td>67</td>\n",
       "      <td>20742.0</td>\n",
       "      <td>RO</td>\n",
       "      <td>Alta Floresta D'Oeste</td>\n",
       "      <td>323.016103</td>\n",
       "      <td>258.919766</td>\n",
       "      <td>Brasil</td>\n",
       "      <td>...</td>\n",
       "      <td>0</td>\n",
       "      <td>100000</td>\n",
       "      <td>0</td>\n",
       "      <td>0</td>\n",
       "      <td>0</td>\n",
       "      <td></td>\n",
       "      <td></td>\n",
       "      <td></td>\n",
       "      <td></td>\n",
       "      <td>BRA</td>\n",
       "    </tr>\n",
       "    <tr>\n",
       "      <th>2</th>\n",
       "      <td>_110001</td>\n",
       "      <td>2020</td>\n",
       "      <td>_2022_110001</td>\n",
       "      <td>68</td>\n",
       "      <td>20742.0</td>\n",
       "      <td>RO</td>\n",
       "      <td>Alta Floresta D'Oeste</td>\n",
       "      <td>327.837238</td>\n",
       "      <td>256.542023</td>\n",
       "      <td>Brasil</td>\n",
       "      <td>...</td>\n",
       "      <td>0</td>\n",
       "      <td>100000</td>\n",
       "      <td>0</td>\n",
       "      <td>0</td>\n",
       "      <td>0</td>\n",
       "      <td></td>\n",
       "      <td></td>\n",
       "      <td></td>\n",
       "      <td></td>\n",
       "      <td>BRA</td>\n",
       "    </tr>\n",
       "    <tr>\n",
       "      <th>3</th>\n",
       "      <td>_110001</td>\n",
       "      <td>2021</td>\n",
       "      <td>_2022_110001</td>\n",
       "      <td>45</td>\n",
       "      <td>20742.0</td>\n",
       "      <td>RO</td>\n",
       "      <td>Alta Floresta D'Oeste</td>\n",
       "      <td>216.951114</td>\n",
       "      <td>266.310807</td>\n",
       "      <td>Brasil</td>\n",
       "      <td>...</td>\n",
       "      <td>0</td>\n",
       "      <td>100000</td>\n",
       "      <td>0</td>\n",
       "      <td>0</td>\n",
       "      <td>0</td>\n",
       "      <td></td>\n",
       "      <td></td>\n",
       "      <td></td>\n",
       "      <td></td>\n",
       "      <td>BRA</td>\n",
       "    </tr>\n",
       "    <tr>\n",
       "      <th>4</th>\n",
       "      <td>_110001</td>\n",
       "      <td>2022</td>\n",
       "      <td>_2022_110001</td>\n",
       "      <td>64</td>\n",
       "      <td>20742.0</td>\n",
       "      <td>RO</td>\n",
       "      <td>Alta Floresta D'Oeste</td>\n",
       "      <td>308.552695</td>\n",
       "      <td>274.720874</td>\n",
       "      <td>Brasil</td>\n",
       "      <td>...</td>\n",
       "      <td>0</td>\n",
       "      <td>100000</td>\n",
       "      <td>0</td>\n",
       "      <td>0</td>\n",
       "      <td>0</td>\n",
       "      <td></td>\n",
       "      <td></td>\n",
       "      <td></td>\n",
       "      <td></td>\n",
       "      <td>BRA</td>\n",
       "    </tr>\n",
       "  </tbody>\n",
       "</table>\n",
       "<p>5 rows × 23 columns</p>\n",
       "</div>"
      ],
      "text/plain": [
       "  CODMUNRES  date     POP_MERGE  CONTADOR  population dimension  \\\n",
       "0   _110001  2010  _2010_110001        58     23948.0        RO   \n",
       "1   _110001  2019  _2022_110001        67     20742.0        RO   \n",
       "2   _110001  2020  _2022_110001        68     20742.0        RO   \n",
       "3   _110001  2021  _2022_110001        45     20742.0        RO   \n",
       "4   _110001  2022  _2022_110001        64     20742.0        RO   \n",
       "\n",
       "                 subgroup    estimate  setting_average setting  ...  \\\n",
       "0  Alta Floresta D'Oeste   242.191415       257.615194  Brasil  ...   \n",
       "1  Alta Floresta D'Oeste   323.016103       258.919766  Brasil  ...   \n",
       "2  Alta Floresta D'Oeste   327.837238       256.542023  Brasil  ...   \n",
       "3  Alta Floresta D'Oeste   216.951114       266.310807  Brasil  ...   \n",
       "4  Alta Floresta D'Oeste   308.552695       274.720874  Brasil  ...   \n",
       "\n",
       "  favourable_indicator indicator_scale ordered_dimension  subgroup_order  \\\n",
       "0                    0          100000                 0               0   \n",
       "1                    0          100000                 0               0   \n",
       "2                    0          100000                 0               0   \n",
       "3                    0          100000                 0               0   \n",
       "4                    0          100000                 0               0   \n",
       "\n",
       "   reference_subgroup  note  se  ci_lb ci_ub iso3  \n",
       "0                   0                         BRA  \n",
       "1                   0                         BRA  \n",
       "2                   0                         BRA  \n",
       "3                   0                         BRA  \n",
       "4                   0                         BRA  \n",
       "\n",
       "[5 rows x 23 columns]"
      ]
     },
     "execution_count": 203,
     "metadata": {},
     "output_type": "execute_result"
    }
   ],
   "source": [
    "heat_treat4['date'] = heat_treat4['date'].str.replace('_','').astype(int)\n",
    "heat_treat4.head()"
   ]
  },
  {
   "cell_type": "code",
   "execution_count": 204,
   "metadata": {},
   "outputs": [
    {
     "name": "stdout",
     "output_type": "stream",
     "text": [
      "<class 'pandas.core.frame.DataFrame'>\n",
      "RangeIndex: 27817 entries, 0 to 27816\n",
      "Data columns (total 20 columns):\n",
      " #   Column                Non-Null Count  Dtype  \n",
      "---  ------                --------------  -----  \n",
      " 0   setting               27817 non-null  object \n",
      " 1   date                  27817 non-null  int64  \n",
      " 2   source                27817 non-null  object \n",
      " 3   indicator_abbr        27817 non-null  object \n",
      " 4   indicator_name        27817 non-null  object \n",
      " 5   dimension             27817 non-null  object \n",
      " 6   subgroup              27817 non-null  object \n",
      " 7   estimate              27817 non-null  int64  \n",
      " 8   se                    27817 non-null  object \n",
      " 9   ci_lb                 27817 non-null  object \n",
      " 10  ci_ub                 27817 non-null  object \n",
      " 11  population            27817 non-null  float64\n",
      " 12  note                  27817 non-null  object \n",
      " 13  setting_average       27817 non-null  int64  \n",
      " 14  iso3                  27817 non-null  object \n",
      " 15  favourable_indicator  27817 non-null  int64  \n",
      " 16  indicator_scale       27817 non-null  int64  \n",
      " 17  ordered_dimension     27817 non-null  int64  \n",
      " 18  subgroup_order        27817 non-null  int64  \n",
      " 19  reference_subgroup    27817 non-null  int64  \n",
      "dtypes: float64(1), int64(8), object(11)\n",
      "memory usage: 4.2+ MB\n"
     ]
    },
    {
     "name": "stderr",
     "output_type": "stream",
     "text": [
      "/tmp/ipykernel_33777/2301066262.py:29: SettingWithCopyWarning: \n",
      "A value is trying to be set on a copy of a slice from a DataFrame.\n",
      "Try using .loc[row_indexer,col_indexer] = value instead\n",
      "\n",
      "See the caveats in the documentation: https://pandas.pydata.org/pandas-docs/stable/user_guide/indexing.html#returning-a-view-versus-a-copy\n",
      "  heat_treat5['estimate'] = heat_treat5['estimate'].astype(int)\n",
      "/tmp/ipykernel_33777/2301066262.py:30: SettingWithCopyWarning: \n",
      "A value is trying to be set on a copy of a slice from a DataFrame.\n",
      "Try using .loc[row_indexer,col_indexer] = value instead\n",
      "\n",
      "See the caveats in the documentation: https://pandas.pydata.org/pandas-docs/stable/user_guide/indexing.html#returning-a-view-versus-a-copy\n",
      "  heat_treat5['setting_average'] = heat_treat5['setting_average'].astype(int)\n"
     ]
    }
   ],
   "source": [
    "# Define the order of columns\n",
    "column_order = [\n",
    "    'setting',\n",
    "    'date',\n",
    "    'source',\n",
    "    'indicator_abbr',\n",
    "    'indicator_name',\n",
    "    'dimension',\n",
    "    'subgroup',\n",
    "    'estimate',\n",
    "    'se',\n",
    "    'ci_lb',\n",
    "    'ci_ub',\n",
    "    'population',\n",
    "    'note',\n",
    "    'setting_average',\n",
    "    'iso3',\n",
    "    'favourable_indicator',\n",
    "    'indicator_scale',\n",
    "    'ordered_dimension',\n",
    "    'subgroup_order',\n",
    "    'reference_subgroup'\n",
    "    ]  \n",
    "\n",
    "# Reorder the columns in the DataFrame\n",
    "heat_treat5 = heat_treat4[column_order]\n",
    "\n",
    "# Transformar estimate e setting_average em int\n",
    "heat_treat5['estimate'] = heat_treat5['estimate'].astype(int)\n",
    "heat_treat5['setting_average'] = heat_treat5['setting_average'].astype(int)\n",
    "\n",
    "\n",
    "heat_treat5.info()"
   ]
  },
  {
   "cell_type": "code",
   "execution_count": 205,
   "metadata": {},
   "outputs": [],
   "source": [
    "### Arquivo pronto para exportação\n",
    "heat_treat5.to_excel('exportar/ds_4val_v2.xlsx', index=False)"
   ]
  },
  {
   "cell_type": "code",
   "execution_count": 206,
   "metadata": {},
   "outputs": [
    {
     "data": {
      "text/plain": [
       "27817"
      ]
     },
     "execution_count": 206,
     "metadata": {},
     "output_type": "execute_result"
    }
   ],
   "source": [
    "heat_treat5.shape[0]"
   ]
  },
  {
   "cell_type": "code",
   "execution_count": 181,
   "metadata": {},
   "outputs": [],
   "source": [
    "# Gerar arquivo dataset diretamente no arquivo de validação do HEAT\n",
    "\n",
    "# Carregar o arquivo original\n",
    "workbook = openpyxl.load_workbook('downloads_outros/heat_plus_template_validation.xlsm', keep_vba=True)\n",
    "\n",
    "# Apagar a aba 'template'\n",
    "if 'template' in workbook.sheetnames:\n",
    "    del workbook['template']\n",
    "\n",
    "# Carregar o arquivo que será copiado como nova aba\n",
    "workbook_to_copy = openpyxl.load_workbook('exportar/ds_4val.xlsx')\n",
    "sheet_to_copy = workbook_to_copy.active\n",
    "\n",
    "# Copiar a aba para o workbook original\n",
    "new_sheet = workbook.create_sheet('template')\n",
    "\n",
    "for row in sheet_to_copy.iter_rows(values_only=True):\n",
    "    new_sheet.append(row)\n",
    "\n",
    "# Salvar o arquivo com o novo nome\n",
    "workbook.save('exportar/heat_plus_template_ds_4val.xlsm')"
   ]
  },
  {
   "cell_type": "markdown",
   "metadata": {},
   "source": [
    "# Etapa 4 - Reunião de alinhamento - ajustes"
   ]
  },
  {
   "cell_type": "markdown",
   "metadata": {},
   "source": [
    "# Etapa 5 - Preparação para publicação de resultados"
   ]
  }
 ],
 "metadata": {
  "kernelspec": {
   "display_name": "Python 3",
   "language": "python",
   "name": "python3"
  },
  "language_info": {
   "codemirror_mode": {
    "name": "ipython",
    "version": 3
   },
   "file_extension": ".py",
   "mimetype": "text/x-python",
   "name": "python",
   "nbconvert_exporter": "python",
   "pygments_lexer": "ipython3",
   "version": "3.12.1"
  }
 },
 "nbformat": 4,
 "nbformat_minor": 2
}
