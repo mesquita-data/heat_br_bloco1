{
 "cells": [
  {
   "cell_type": "markdown",
   "metadata": {},
   "source": [
    "# Elementos da versão\n",
    "\n",
    "Antes mesmo de falar do projeto, ao longo do desenvolvimento, vamos explicitando qual o objetivo de cada versão de trabalho do arquivo principal.\n",
    "\n",
    "Tivemos problemas de análise dos resultados da v1. Os dados de mortalidade de doenças evitáveis em 2022 por município estão muito altos e fora do padrão esperado.\n",
    "\n",
    "O objetivo desta v.2 é criar um dataset diferente, mais básico que permite que aprendamos com os erros e acertos, verificando melhor cada etapa de trabalho.\n",
    "\n",
    "O dataset desta v.2 deverá ter as seguintes características:\n",
    "\n",
    "* setting: Brasil [poderemos encontrar um sufixo a Brasil que permita a sua subclassificação e carga deste dataset junto a outros]\n",
    "* dimension: CID evitáveis\n",
    "* subgroup: municípios\n",
    "* estimate: mort-avoid por município\n",
    "* setting-average: mort-avoid por Brasil"
   ]
  },
  {
   "cell_type": "markdown",
   "metadata": {},
   "source": [
    "# Projeto de Análise de Desigualdade em Saúde no modelo HEAT/OMS\n",
    "## Bloco 2025/1 = análise do sistema de mortalidade do SUS com agregação por unidades federativas\n",
    "\n",
    "\n"
   ]
  },
  {
   "cell_type": "markdown",
   "metadata": {},
   "source": [
    "#### Aspectos gerais e participantes"
   ]
  },
  {
   "cell_type": "markdown",
   "metadata": {},
   "source": [
    "#### Objetivos"
   ]
  },
  {
   "cell_type": "markdown",
   "metadata": {},
   "source": [
    "# Merge de dados de CID e População no arquivo principal"
   ]
  },
  {
   "cell_type": "markdown",
   "metadata": {},
   "source": [
    "### Merge de dados de CID"
   ]
  },
  {
   "cell_type": "code",
   "execution_count": 2,
   "metadata": {},
   "outputs": [
    {
     "name": "stdout",
     "output_type": "stream",
     "text": [
      "<class 'pandas.core.frame.DataFrame'>\n",
      "RangeIndex: 346 entries, 0 to 345\n",
      "Data columns (total 8 columns):\n",
      " #   Column                   Non-Null Count  Dtype \n",
      "---  ------                   --------------  ----- \n",
      " 0   avoid_flag               346 non-null    object\n",
      " 1   prevent_flag             189 non-null    object\n",
      " 2   treat_flag               184 non-null    object\n",
      " 3   Group                    346 non-null    object\n",
      " 4   Causes of deaths         346 non-null    object\n",
      " 5   Rationale for inclusion  346 non-null    object\n",
      " 6   Range                    346 non-null    object\n",
      " 7   cid_pai                  346 non-null    object\n",
      "dtypes: object(8)\n",
      "memory usage: 21.8+ KB\n"
     ]
    }
   ],
   "source": [
    "ocde_evit_temp = pd.read_csv('downloads_outros/cid10_evit_ocde.csv')\n",
    "ocde_evit_temp.info()"
   ]
  },
  {
   "cell_type": "code",
   "execution_count": 3,
   "metadata": {
    "vscode": {
     "languageId": "powershell"
    }
   },
   "outputs": [
    {
     "name": "stdout",
     "output_type": "stream",
     "text": [
      "<class 'pandas.core.frame.DataFrame'>\n",
      "RangeIndex: 11895 entries, 0 to 11894\n",
      "Data columns (total 1 columns):\n",
      " #   Column    Non-Null Count  Dtype \n",
      "---  ------    --------------  ----- \n",
      " 0   CAUSABAS  11895 non-null  object\n",
      "dtypes: object(1)\n",
      "memory usage: 93.1+ KB\n"
     ]
    }
   ],
   "source": [
    "# Gerar nova tabela com valores únicos de CAUSABAS\n",
    "dobr_evit_merged_temp = pd.read_parquet('files_clean/dobr_10_19a22.parquet')\n",
    "causas_unicas = dobr_evit_merged_temp['CAUSABAS'].unique()\n",
    "\n",
    "# Converter para DataFrame\n",
    "df_causas_unicas = pd.DataFrame(causas_unicas, columns=['CAUSABAS'])\n",
    "\n",
    "# Exibir as primeiras linhas do DataFrame\n",
    "df_causas_unicas.info()"
   ]
  },
  {
   "cell_type": "code",
   "execution_count": 4,
   "metadata": {},
   "outputs": [
    {
     "name": "stdout",
     "output_type": "stream",
     "text": [
      "-  ----  -------------------\n",
      "0  I219  Avoidable mortality\n",
      "1  I10   Avoidable mortality\n",
      "2  X700  Avoidable mortality\n",
      "3  C539  causa não evitável\n",
      "4  V220  Avoidable mortality\n",
      "-  ----  -------------------\n"
     ]
    }
   ],
   "source": [
    "# Fazer merge da lista de causas_unicas com a lista de causas evitáveis\n",
    "\n",
    "df_a = df_causas_unicas\n",
    "column_a = 'CAUSABAS'\n",
    "df_b = ocde_evit_temp\n",
    "column_b = 'cid_pai'\n",
    "column_return = 'avoid_flag'\n",
    "\n",
    "\n",
    "\n",
    "# Função para verificar a correspondência e retornar a classificação\n",
    "def verificar_correspondencia(row):\n",
    "    for index, row_b in df_b.iterrows():\n",
    "        if row[column_a].startswith(row_b[column_b]):\n",
    "            return row_b[column_return]\n",
    "    return 'causa não evitável'\n",
    "\n",
    "# Aplicando a função a cada linha do DataFrame A\n",
    "df_a['classificacao'] = df_a.apply(verificar_correspondencia, axis=1)\n",
    "\n",
    "print(tabulate(df_a.head()))"
   ]
  },
  {
   "cell_type": "code",
   "execution_count": 68,
   "metadata": {},
   "outputs": [
    {
     "name": "stdout",
     "output_type": "stream",
     "text": [
      "Registro da tabela : 4446922\n",
      "+----+------------+-------------+-------------+---------------------+\n",
      "|    | CAUSABAS   | CODMUNRES   | ANO_OBITO   | classificacao       |\n",
      "|----+------------+-------------+-------------+---------------------|\n",
      "|  0 | I219       | _292740     | _2019       | Avoidable mortality |\n",
      "|  1 | I10        | _355100     | _2019       | Avoidable mortality |\n",
      "|  2 | X700       | _500630     | _2019       | Avoidable mortality |\n",
      "|  3 | C539       | _500500     | _2019       | causa não evitável  |\n",
      "|  4 | V220       | _500627     | _2019       | Avoidable mortality |\n",
      "+----+------------+-------------+-------------+---------------------+\n"
     ]
    }
   ],
   "source": [
    "# Merge dobr_merged_pop_clean and df_a by CAUSABAS\n",
    "dobr_evit_merged_temp01 = pd.merge(dobr_evit_merged_temp, df_a, on='CAUSABAS', how='left')\n",
    "\n",
    "# mostrar dados gerais da tabela após transformações\n",
    "tab = dobr_evit_merged_temp01\n",
    "print(f'Registro da tabela : {tab.shape[0]}')\n",
    "print(tabulate(tab.head(), headers='keys', tablefmt='psql'))"
   ]
  },
  {
   "cell_type": "code",
   "execution_count": 83,
   "metadata": {},
   "outputs": [
    {
     "data": {
      "text/html": [
       "<div>\n",
       "<style scoped>\n",
       "    .dataframe tbody tr th:only-of-type {\n",
       "        vertical-align: middle;\n",
       "    }\n",
       "\n",
       "    .dataframe tbody tr th {\n",
       "        vertical-align: top;\n",
       "    }\n",
       "\n",
       "    .dataframe thead th {\n",
       "        text-align: right;\n",
       "    }\n",
       "</style>\n",
       "<table border=\"1\" class=\"dataframe\">\n",
       "  <thead>\n",
       "    <tr style=\"text-align: right;\">\n",
       "      <th></th>\n",
       "      <th>CAUSABAS</th>\n",
       "      <th>CODMUNRES</th>\n",
       "      <th>ANO_OBITO</th>\n",
       "    </tr>\n",
       "    <tr>\n",
       "      <th>classificacao</th>\n",
       "      <th></th>\n",
       "      <th></th>\n",
       "      <th></th>\n",
       "    </tr>\n",
       "  </thead>\n",
       "  <tbody>\n",
       "    <tr>\n",
       "      <th>Avoidable mortality</th>\n",
       "      <td>2537888</td>\n",
       "      <td>2537888</td>\n",
       "      <td>2537888</td>\n",
       "    </tr>\n",
       "    <tr>\n",
       "      <th>causa não evitável</th>\n",
       "      <td>1909034</td>\n",
       "      <td>1909034</td>\n",
       "      <td>1909034</td>\n",
       "    </tr>\n",
       "  </tbody>\n",
       "</table>\n",
       "</div>"
      ],
      "text/plain": [
       "                     CAUSABAS  CODMUNRES  ANO_OBITO\n",
       "classificacao                                      \n",
       "Avoidable mortality   2537888    2537888    2537888\n",
       "causa não evitável    1909034    1909034    1909034"
      ]
     },
     "execution_count": 83,
     "metadata": {},
     "output_type": "execute_result"
    }
   ],
   "source": [
    "# Mostrar resultados de classificacao\n",
    "dobr_evit_merged_temp01.groupby('classificacao').count()"
   ]
  },
  {
   "cell_type": "code",
   "execution_count": 84,
   "metadata": {},
   "outputs": [
    {
     "name": "stdout",
     "output_type": "stream",
     "text": [
      "Registro da tabela : 2537888\n",
      "+----+------------+-------------+-------------+---------------------+\n",
      "|    | CAUSABAS   | CODMUNRES   | ANO_OBITO   | classificacao       |\n",
      "|----+------------+-------------+-------------+---------------------|\n",
      "|  0 | I219       | _292740     | _2019       | Avoidable mortality |\n",
      "|  1 | I10        | _355100     | _2019       | Avoidable mortality |\n",
      "|  2 | X700       | _500630     | _2019       | Avoidable mortality |\n",
      "|  4 | V220       | _500627     | _2019       | Avoidable mortality |\n",
      "|  5 | W019       | _500325     | _2019       | Avoidable mortality |\n",
      "+----+------------+-------------+-------------+---------------------+\n"
     ]
    }
   ],
   "source": [
    "# Manter na base só dados de CID evitáveis\n",
    "dobr_evit_merged_temp02 = dobr_evit_merged_temp01[dobr_evit_merged_temp01['classificacao']=='Avoidable mortality']\n",
    "\n",
    "# mostrar dados gerais da tabela após transformações\n",
    "tab = dobr_evit_merged_temp02\n",
    "print(f'Registro da tabela : {tab.shape[0]}')\n",
    "print(tabulate(tab.head(), headers='keys', tablefmt='psql'))"
   ]
  },
  {
   "cell_type": "markdown",
   "metadata": {},
   "source": [
    "#### Resultados do merge de cid_avoid e dobr"
   ]
  },
  {
   "cell_type": "code",
   "execution_count": 85,
   "metadata": {},
   "outputs": [],
   "source": [
    "# Salvar arquivo final de DOBR\n",
    "dobr_evit_merged_temp02.to_parquet('files_clean/dobr_evit_merged_v2.parquet')"
   ]
  },
  {
   "cell_type": "code",
   "execution_count": 87,
   "metadata": {},
   "outputs": [
    {
     "name": "stdout",
     "output_type": "stream",
     "text": [
      "\u001b[33m ==>  O número de óbitos após a limpeza e que constituía a base de dados de DO era de 4446922 óbitos \u001b[0m\n",
      "\u001b[33m ==>  O número de registros excluídos por apresentar CIDs NÃO EVITÁVEIS foi de 1909034 óbitos \u001b[0m\n",
      "\u001b[33m ==>  O número de óbitos por CID EVITÁVEIS é de 2537888 óbitos \u001b[0m\n"
     ]
    }
   ],
   "source": [
    "# Contador\n",
    "\n",
    "shape_origin = dobr_evit_merged_temp.CAUSABAS.count()\n",
    "shape_filt = dobr_evit_merged_temp02.CAUSABAS.count()\n",
    "dif = shape_origin - shape_filt\n",
    "\n",
    "\n",
    "print_y(f\" O número de óbitos após a limpeza e que constituía a base de dados de DO era de {shape_origin} óbitos \")\n",
    "print_y(f\" O número de registros excluídos por apresentar CIDs NÃO EVITÁVEIS foi de {dif} óbitos \")\n",
    "print_y(f\" O número de óbitos por CID EVITÁVEIS é de {shape_filt} óbitos \")"
   ]
  },
  {
   "cell_type": "markdown",
   "metadata": {},
   "source": [
    "### Merge de dados de Municípios ao arquivo principal do SIM\n",
    "\n",
    "Serão utilizados os arquivos:\n",
    "\n",
    "* população: 'files_clean/censo_pop_clean.csv'\n",
    "\n",
    "* sim: 'files_clean/dobr_clean.csv'\n",
    "\n",
    "Como a população está clivada em Município, Idade (previamente, todos abaixo de 75 anos), Sexo e Raça, estes campos serão utilizados de maneira conjunta para realizar o merge."
   ]
  },
  {
   "cell_type": "code",
   "execution_count": 88,
   "metadata": {},
   "outputs": [
    {
     "name": "stdout",
     "output_type": "stream",
     "text": [
      "Registro da tabela : 11140\n",
      "+----+-------+---------+------+---------------+----------------------------+-------------+---------------+\n",
      "|    |   Ano | uf_co   | UF   | mun_cod_sim   | mun_no                     |   pop_total |   pop_under74 |\n",
      "|----+-------+---------+------+---------------+----------------------------+-------------+---------------|\n",
      "|  0 |  2010 | _11     | RO   | _110001       | Alta Floresta D'Oeste (RO) |       24392 |         23948 |\n",
      "|  1 |  2010 | _11     | RO   | _110002       | Ariquemes (RO)             |       90353 |         89037 |\n",
      "|  2 |  2010 | _11     | RO   | _110003       | Cabixi (RO)                |        6313 |          6180 |\n",
      "|  3 |  2010 | _11     | RO   | _110004       | Cacoal (RO)                |       78574 |         76947 |\n",
      "|  4 |  2010 | _11     | RO   | _110005       | Cerejeiras (RO)            |       17029 |         16646 |\n",
      "+----+-------+---------+------+---------------+----------------------------+-------------+---------------+\n"
     ]
    }
   ],
   "source": [
    "# Verificar colunas de população no arquivo censo_pop_clean\n",
    "censo_pop_mun_4merge_temp = pd.read_parquet('files_clean/censo_pop_mun.parquet')\n",
    "\n",
    "# mostrar dados gerais da tabela após transformações\n",
    "tab = censo_pop_mun_4merge_temp\n",
    "print(f'Registro da tabela : {tab.shape[0]}')\n",
    "print(tabulate(tab.head(), headers='keys', tablefmt='psql'))"
   ]
  },
  {
   "cell_type": "code",
   "execution_count": 89,
   "metadata": {},
   "outputs": [
    {
     "name": "stdout",
     "output_type": "stream",
     "text": [
      "Registro da tabela : 11140\n",
      "+----+-------+---------+------+---------------+----------------------------+-------------+---------------+--------------+\n",
      "|    |   Ano | uf_co   | UF   | mun_cod_sim   | mun_no                     |   pop_total |   pop_under74 | POP_MERGE    |\n",
      "|----+-------+---------+------+---------------+----------------------------+-------------+---------------+--------------|\n",
      "|  0 |  2010 | _11     | RO   | _110001       | Alta Floresta D'Oeste (RO) |       24392 |         23948 | _2010_110001 |\n",
      "|  1 |  2010 | _11     | RO   | _110002       | Ariquemes (RO)             |       90353 |         89037 | _2010_110002 |\n",
      "|  2 |  2010 | _11     | RO   | _110003       | Cabixi (RO)                |        6313 |          6180 | _2010_110003 |\n",
      "|  3 |  2010 | _11     | RO   | _110004       | Cacoal (RO)                |       78574 |         76947 | _2010_110004 |\n",
      "|  4 |  2010 | _11     | RO   | _110005       | Cerejeiras (RO)            |       17029 |         16646 | _2010_110005 |\n",
      "+----+-------+---------+------+---------------+----------------------------+-------------+---------------+--------------+\n"
     ]
    }
   ],
   "source": [
    "# Criar um campo string que concatene ANO, CODMUN_SIM, Sexo e cor\n",
    "censo_pop_mun_4merge_temp01 = censo_pop_mun_4merge_temp.copy()\n",
    "\n",
    "censo_pop_mun_4merge_temp01['POP_MERGE'] = '_' + censo_pop_mun_4merge_temp01['Ano'].astype(str) + censo_pop_mun_4merge_temp01['mun_cod_sim']\n",
    "\n",
    "\n",
    "# mostrar dados gerais da tabela após transformações\n",
    "tab = censo_pop_mun_4merge_temp01\n",
    "print(f'Registro da tabela : {tab.shape[0]}')\n",
    "print(tabulate(tab.head(), headers='keys', tablefmt='psql'))"
   ]
  },
  {
   "cell_type": "code",
   "execution_count": 90,
   "metadata": {},
   "outputs": [
    {
     "name": "stdout",
     "output_type": "stream",
     "text": [
      "Series([], Name: count, dtype: int64)\n"
     ]
    }
   ],
   "source": [
    "# Contar quantos valores são repetidos na coluna 'POP_MERGE'\n",
    "repeated_values = censo_pop_mun_4merge_temp01['POP_MERGE'].value_counts()\n",
    "\n",
    "# Filtrar os valores que aparecem mais de uma vez\n",
    "repeated_more_than_once = repeated_values[repeated_values > 1]\n",
    "\n",
    "# Exibir os valores repetidos\n",
    "print(repeated_more_than_once)"
   ]
  },
  {
   "cell_type": "code",
   "execution_count": 91,
   "metadata": {},
   "outputs": [
    {
     "name": "stdout",
     "output_type": "stream",
     "text": [
      "Registro da tabela : 2537888\n",
      "+----+------------+-------------+-------------+---------------------+\n",
      "|    | CAUSABAS   | CODMUNRES   | ANO_OBITO   | classificacao       |\n",
      "|----+------------+-------------+-------------+---------------------|\n",
      "|  0 | I219       | _292740     | _2019       | Avoidable mortality |\n",
      "|  1 | I10        | _355100     | _2019       | Avoidable mortality |\n",
      "|  2 | X700       | _500630     | _2019       | Avoidable mortality |\n",
      "|  4 | V220       | _500627     | _2019       | Avoidable mortality |\n",
      "|  5 | W019       | _500325     | _2019       | Avoidable mortality |\n",
      "+----+------------+-------------+-------------+---------------------+\n"
     ]
    }
   ],
   "source": [
    "# Exibir arquivo dobr_clean\n",
    "dobr_merged_temp = pd.read_parquet('files_clean/dobr_evit_merged_v2.parquet')\n",
    "\n",
    "# mostrar dados gerais da tabela após transformações\n",
    "tab = dobr_merged_temp\n",
    "print(f'Registro da tabela : {tab.shape[0]}')\n",
    "print(tabulate(tab.head(), headers='keys', tablefmt='psql'))"
   ]
  },
  {
   "cell_type": "code",
   "execution_count": 92,
   "metadata": {},
   "outputs": [
    {
     "name": "stdout",
     "output_type": "stream",
     "text": [
      "Registro da tabela : 2537888\n",
      "+----+------------+-------------+-------------+---------------------+-------------+--------------+\n",
      "|    | CAUSABAS   | CODMUNRES   | ANO_OBITO   | classificacao       | ANO_PROXY   | POP_MERGE    |\n",
      "|----+------------+-------------+-------------+---------------------+-------------+--------------|\n",
      "|  0 | I219       | _292740     | _2019       | Avoidable mortality | _2022       | _2022_292740 |\n",
      "|  1 | I10        | _355100     | _2019       | Avoidable mortality | _2022       | _2022_355100 |\n",
      "|  2 | X700       | _500630     | _2019       | Avoidable mortality | _2022       | _2022_500630 |\n",
      "|  4 | V220       | _500627     | _2019       | Avoidable mortality | _2022       | _2022_500627 |\n",
      "|  5 | W019       | _500325     | _2019       | Avoidable mortality | _2022       | _2022_500325 |\n",
      "+----+------------+-------------+-------------+---------------------+-------------+--------------+\n"
     ]
    }
   ],
   "source": [
    "# Gerar um campo de ano para proxy de 2022 (para ser aplicados aos anos de 19 a 22)\n",
    "dobr_merged_temp01 = dobr_merged_temp.copy()\n",
    "\n",
    "dobr_merged_temp01['ANO_PROXY'] = dobr_merged_temp01['ANO_OBITO'].apply(lambda x: '_2010' if x == '_2010' else '_2022')\n",
    "\n",
    "# Criar um campo string que concatene ANO, CODMUNRES\n",
    "dobr_merged_temp01['POP_MERGE'] = dobr_merged_temp01['ANO_PROXY'].astype(str) + dobr_merged_temp01['CODMUNRES']\n",
    "\n",
    "# mostrar dados gerais da tabela após transformações\n",
    "tab = dobr_merged_temp01\n",
    "print(f'Registro da tabela : {tab.shape[0]}')\n",
    "print(tabulate(tab.head(), headers='keys', tablefmt='psql'))"
   ]
  },
  {
   "cell_type": "code",
   "execution_count": 93,
   "metadata": {},
   "outputs": [
    {
     "name": "stdout",
     "output_type": "stream",
     "text": [
      "Anos de ANO_OBITO ['_2019' '_2020' '_2021' '_2022' '_2010']\n",
      "Anos de ANO_PROXY ['_2022' '_2010']\n"
     ]
    }
   ],
   "source": [
    "# Verificar operação acima\n",
    "print(f'Anos de ANO_OBITO {dobr_merged_temp01['ANO_OBITO'].unique()}')\n",
    "print(f'Anos de ANO_PROXY {dobr_merged_temp01['ANO_PROXY'].unique()}')"
   ]
  },
  {
   "cell_type": "markdown",
   "metadata": {},
   "source": [
    "########## Este bloco de código a seguir retira o CAUSABAS ##########"
   ]
  },
  {
   "cell_type": "code",
   "execution_count": 94,
   "metadata": {
    "vscode": {
     "languageId": "shellscript"
    }
   },
   "outputs": [
    {
     "name": "stdout",
     "output_type": "stream",
     "text": [
      "Registros da tabela : 27923\n",
      "Total de óbitos : 2537888\n",
      "+----+-------------+-------------+--------------+------------+\n",
      "|    | CODMUNRES   | ANO_OBITO   | POP_MERGE    |   CONTADOR |\n",
      "|----+-------------+-------------+--------------+------------|\n",
      "|  0 | _110000     | _2010       | _2010_110000 |         20 |\n",
      "|  1 | _110000     | _2019       | _2022_110000 |          9 |\n",
      "|  2 | _110000     | _2020       | _2022_110000 |          7 |\n",
      "|  3 | _110000     | _2021       | _2022_110000 |          4 |\n",
      "|  4 | _110000     | _2022       | _2022_110000 |          6 |\n",
      "+----+-------------+-------------+--------------+------------+\n"
     ]
    }
   ],
   "source": [
    "# Agrupar por POP_MERGE e somar os registros, não contabilizando mais por CAUSABAS\n",
    "\n",
    "col_group= [\n",
    "            # 'CAUSABAS', \n",
    "            'CODMUNRES', 'ANO_OBITO','POP_MERGE']\n",
    "dobr_merged_temp02 = dobr_merged_temp01.groupby(col_group)['CAUSABAS'].count().reset_index()\n",
    "\n",
    "# Renomear o campo CAUSABAS para CONTADOR\n",
    "dobr_merged_temp02.rename(columns={'CAUSABAS':'CONTADOR'}, inplace=True)\n",
    "\n",
    "\n",
    "# mostrar dados gerais da tabela após transformações\n",
    "tab = dobr_merged_temp02\n",
    "print(f'Registros da tabela : {tab.shape[0]}')\n",
    "print(f'Total de óbitos : {tab.CONTADOR.sum()}')\n",
    "print(tabulate(tab.head(), headers='keys', tablefmt='psql'))"
   ]
  },
  {
   "cell_type": "code",
   "execution_count": 95,
   "metadata": {
    "vscode": {
     "languageId": "shellscript"
    }
   },
   "outputs": [
    {
     "data": {
      "text/plain": [
       "Index(['Ano', 'uf_co', 'UF', 'mun_cod_sim', 'mun_no', 'pop_total',\n",
       "       'pop_under74', 'POP_MERGE'],\n",
       "      dtype='object')"
      ]
     },
     "execution_count": 95,
     "metadata": {},
     "output_type": "execute_result"
    }
   ],
   "source": [
    "# Verificação dos nomes das colunas\n",
    "censo_pop_mun_4merge_temp01.columns"
   ]
  },
  {
   "cell_type": "code",
   "execution_count": 96,
   "metadata": {},
   "outputs": [
    {
     "name": "stdout",
     "output_type": "stream",
     "text": [
      "Registros da tabela : 27923\n",
      "Total de óbitos : 2537888\n",
      "+----+-------------+-------------+--------------+------------+---------------+------+----------+\n",
      "|    | CODMUNRES   | ANO_OBITO   | POP_MERGE    |   CONTADOR |   pop_under74 |   UF |   mun_no |\n",
      "|----+-------------+-------------+--------------+------------+---------------+------+----------|\n",
      "|  0 | _110000     | _2010       | _2010_110000 |         20 |           nan |  nan |      nan |\n",
      "|  1 | _110000     | _2019       | _2022_110000 |          9 |           nan |  nan |      nan |\n",
      "|  2 | _110000     | _2020       | _2022_110000 |          7 |           nan |  nan |      nan |\n",
      "|  3 | _110000     | _2021       | _2022_110000 |          4 |           nan |  nan |      nan |\n",
      "|  4 | _110000     | _2022       | _2022_110000 |          6 |           nan |  nan |      nan |\n",
      "+----+-------------+-------------+--------------+------------+---------------+------+----------+\n"
     ]
    }
   ],
   "source": [
    "# Definir campos de censo_pop para merge\n",
    "censo_pop_mun_4merge_temp02 = censo_pop_mun_4merge_temp01[['POP_MERGE','pop_under74','UF','mun_no']]\n",
    "\n",
    "# Realizar o merge dos dataframes\n",
    "dobr_merged_temp03 = pd.merge(dobr_merged_temp02, censo_pop_mun_4merge_temp02, left_on=['POP_MERGE'], right_on=['POP_MERGE'], how='left')\n",
    "\n",
    "# mostrar dados gerais da tabela após transformações\n",
    "tab = dobr_merged_temp03\n",
    "print(f'Registros da tabela : {tab.shape[0]}')\n",
    "print(f'Total de óbitos : {tab.CONTADOR.sum()}')\n",
    "print(tabulate(tab.head(), headers='keys', tablefmt='psql'))"
   ]
  },
  {
   "cell_type": "code",
   "execution_count": 97,
   "metadata": {},
   "outputs": [
    {
     "name": "stdout",
     "output_type": "stream",
     "text": [
      "Registros da tabela : 27817\n",
      "Total de óbitos : 2533528\n",
      "+----+-------------+-------------+--------------+------------+---------------+------+----------------------------+\n",
      "|    | CODMUNRES   | ANO_OBITO   | POP_MERGE    |   CONTADOR |   pop_under74 | UF   | mun_no                     |\n",
      "|----+-------------+-------------+--------------+------------+---------------+------+----------------------------|\n",
      "|  0 | _110001     | _2010       | _2010_110001 |         58 |         23948 | RO   | Alta Floresta D'Oeste (RO) |\n",
      "|  1 | _110001     | _2019       | _2022_110001 |         67 |         20742 | RO   | Alta Floresta D'Oeste (RO) |\n",
      "|  2 | _110001     | _2020       | _2022_110001 |         68 |         20742 | RO   | Alta Floresta D'Oeste (RO) |\n",
      "|  3 | _110001     | _2021       | _2022_110001 |         45 |         20742 | RO   | Alta Floresta D'Oeste (RO) |\n",
      "|  4 | _110001     | _2022       | _2022_110001 |         64 |         20742 | RO   | Alta Floresta D'Oeste (RO) |\n",
      "+----+-------------+-------------+--------------+------------+---------------+------+----------------------------+\n"
     ]
    }
   ],
   "source": [
    "# Filtrar registros onde pop_under74 não é nulo\n",
    "dobr_merged_temp04 = dobr_merged_temp03.dropna(subset=['pop_under74']).reset_index(drop=True)\n",
    "\n",
    "# mostrar dados gerais da tabela após transformações\n",
    "tab = dobr_merged_temp04\n",
    "print(f'Registros da tabela : {tab.shape[0]}')\n",
    "print(f'Total de óbitos : {tab.CONTADOR.sum()}')\n",
    "print(tabulate(tab.head(), headers='keys', tablefmt='psql'))"
   ]
  },
  {
   "cell_type": "markdown",
   "metadata": {},
   "source": [
    "##### Arquivo tratado final"
   ]
  },
  {
   "cell_type": "code",
   "execution_count": 98,
   "metadata": {},
   "outputs": [],
   "source": [
    "dobr_merged_temp04.to_parquet('files_clean/dobr_merged_v2.parquet')"
   ]
  },
  {
   "cell_type": "code",
   "execution_count": 100,
   "metadata": {
    "vscode": {
     "languageId": "powershell"
    }
   },
   "outputs": [
    {
     "name": "stdout",
     "output_type": "stream",
     "text": [
      "\u001b[33m ==>  O número de óbitos após merge com tabela de CIDs evitáveis era de 2537888 óbitos \u001b[0m\n",
      "\u001b[33m ==>  Foram excluídos, por apresentar problemas para carga de informações de município, 4360 óbitos \u001b[0m\n",
      "\u001b[33m ==>  O número de óbitos total após filtro de CID evitáveis e inclusão de população do censo é de 2533528 óbitos \u001b[0m\n"
     ]
    }
   ],
   "source": [
    "# Resultados\n",
    "\n",
    "obito_origin = dobr_merged_temp.CAUSABAS.count()\n",
    "obito_final = dobr_merged_temp04.CONTADOR.sum()\n",
    "dif = obito_origin - obito_final\n",
    "\n",
    "\n",
    "print_y(f\" O número de óbitos após merge com tabela de CIDs evitáveis era de {obito_origin} óbitos \")\n",
    "print_y(f\" Foram excluídos, por apresentar problemas para carga de informações de município, {dif} óbitos \")\n",
    "print_y(f\" O número de óbitos total após filtro de CID evitáveis e inclusão de população do censo é de {obito_final} óbitos \")\n",
    "\n",
    "\n",
    "# # Filtrar registros onde pop_under74 é null\n",
    "# dobr_merged_pop_nulos = dobr_merged_pop[dobr_merged_pop['pop_under74'].isnull()]\n",
    "\n",
    "# # Exibir os registros filtrados\n",
    "# dobr_merged_pop_nulos['obito_count'].sum()"
   ]
  },
  {
   "cell_type": "markdown",
   "metadata": {},
   "source": [
    "# Etapa 3 - Aplicação de Modelo do HEAT ao Bloco"
   ]
  },
  {
   "cell_type": "markdown",
   "metadata": {},
   "source": [
    "O modelo HEAT apresenta um framework bem rígido e objetivo para carga de dados.\n",
    "\n",
    "O dataset precisa estar organizado com os labels e de acordo com a definição presente no template.\n",
    "\n",
    "E depois precisa ser validado em planilha excel disponibilizada pela organização.\n",
    "\n",
    "Ajustes: com a identificação da população por sexo e raça, encontramos 37 registros com população 0. Tivemos que excluir estes registros (incluindo os óbitos) no momento da preparação do dataset do heat em razão do modelo não aceitar estes valores."
   ]
  },
  {
   "cell_type": "markdown",
   "metadata": {},
   "source": [
    "## Dataset 2 - BR/uf/Mun\n",
    "\n",
    "\n",
    "O primeiro dataset que iremos construir tem as seguintes características:\n",
    "\n",
    "* setting: Brasil\n",
    "* dimension: UF\n",
    "* subgroup: município\n",
    "\n",
    "Estas escolhas implicam em podermos disponibilizar ao usuário do HEAT a possibilidade de ver os municípios (dimensões) de maneira agregada por UF. \n"
   ]
  },
  {
   "cell_type": "code",
   "execution_count": 3,
   "metadata": {
    "vscode": {
     "languageId": "powershell"
    }
   },
   "outputs": [],
   "source": [
    "# Define the URL and the destination path\n",
    "url = \"https://srhdpeuwpubsa.blob.core.windows.net/whdh/HIDR/heat_plus_template_validation.xlsm\"\n",
    "destination_path = \"downloads_outros/heat_plus_template_validation.xlsm\"\n",
    "\n",
    "# Download the file\n",
    "response = requests.get(url)\n",
    "with open(destination_path, 'wb') as file:\n",
    "    file.write(response.content)\n",
    "\n",
    "# Note: Enabling macros programmatically is not recommended due to security risks.\n",
    "# Macros should be enabled manually in Excel settings."
   ]
  },
  {
   "cell_type": "code",
   "execution_count": 101,
   "metadata": {},
   "outputs": [
    {
     "name": "stdout",
     "output_type": "stream",
     "text": [
      "Registros da tabela : 27817\n",
      "Total de óbitos : 2533528\n",
      "+----+-------------+-------------+--------------+------------+---------------+------+----------------------------+\n",
      "|    | CODMUNRES   | ANO_OBITO   | POP_MERGE    |   CONTADOR |   pop_under74 | UF   | mun_no                     |\n",
      "|----+-------------+-------------+--------------+------------+---------------+------+----------------------------|\n",
      "|  0 | _110001     | _2010       | _2010_110001 |         58 |         23948 | RO   | Alta Floresta D'Oeste (RO) |\n",
      "|  1 | _110001     | _2019       | _2022_110001 |         67 |         20742 | RO   | Alta Floresta D'Oeste (RO) |\n",
      "|  2 | _110001     | _2020       | _2022_110001 |         68 |         20742 | RO   | Alta Floresta D'Oeste (RO) |\n",
      "|  3 | _110001     | _2021       | _2022_110001 |         45 |         20742 | RO   | Alta Floresta D'Oeste (RO) |\n",
      "|  4 | _110001     | _2022       | _2022_110001 |         64 |         20742 | RO   | Alta Floresta D'Oeste (RO) |\n",
      "+----+-------------+-------------+--------------+------------+---------------+------+----------------------------+\n"
     ]
    }
   ],
   "source": [
    "# Abrir arquivo final de DO após tratamento\n",
    "heatds_temp = pd.read_parquet('files_clean/dobr_merged_v2.parquet')\n",
    "\n",
    "# mostrar dados gerais da tabela após transformações\n",
    "tab = heatds_temp\n",
    "print(f'Registros da tabela : {tab.shape[0]}')\n",
    "print(f'Total de óbitos : {tab.CONTADOR.sum()}')\n",
    "print(tabulate(tab.head(), headers='keys', tablefmt='psql'))"
   ]
  },
  {
   "cell_type": "code",
   "execution_count": 38,
   "metadata": {
    "vscode": {
     "languageId": "ruby"
    }
   },
   "outputs": [],
   "source": [
    "# # Agregar os dados sem CID e gerar colunas de soma de obito_count e pop_under74\n",
    "# heat_semCID = heat_.groupby(['UF', 'mun_nome', 'CODMUNRES', 'SEXO', 'RACACOR', 'ANO']).agg({\n",
    "#     'obito_count': 'sum',\n",
    "#     'pop_under74': 'sum'\n",
    "# }).reset_index()"
   ]
  },
  {
   "cell_type": "code",
   "execution_count": 102,
   "metadata": {
    "vscode": {
     "languageId": "ruby"
    }
   },
   "outputs": [
    {
     "name": "stdout",
     "output_type": "stream",
     "text": [
      "Registros da tabela : 27817\n",
      "Total de óbitos : 2533528\n",
      "+----+-------------+-------------+--------------+------------+---------------+------+----------------------------+----------------+\n",
      "|    | CODMUNRES   | ANO_OBITO   | POP_MERGE    |   CONTADOR |   pop_under74 | UF   | mun_no                     |   mort_ind_mun |\n",
      "|----+-------------+-------------+--------------+------------+---------------+------+----------------------------+----------------|\n",
      "|  0 | _110001     | _2010       | _2010_110001 |         58 |         23948 | RO   | Alta Floresta D'Oeste (RO) |        242.191 |\n",
      "|  1 | _110001     | _2019       | _2022_110001 |         67 |         20742 | RO   | Alta Floresta D'Oeste (RO) |        323.016 |\n",
      "|  2 | _110001     | _2020       | _2022_110001 |         68 |         20742 | RO   | Alta Floresta D'Oeste (RO) |        327.837 |\n",
      "|  3 | _110001     | _2021       | _2022_110001 |         45 |         20742 | RO   | Alta Floresta D'Oeste (RO) |        216.951 |\n",
      "|  4 | _110001     | _2022       | _2022_110001 |         64 |         20742 | RO   | Alta Floresta D'Oeste (RO) |        308.553 |\n",
      "+----+-------------+-------------+--------------+------------+---------------+------+----------------------------+----------------+\n"
     ]
    }
   ],
   "source": [
    "# Gerar o indicador de mortalidade (por 100 mil habitantes) e exibir as primeiras linhas do DataFrame\n",
    "heatds_temp01 = heatds_temp.copy()\n",
    "\n",
    "heatds_temp01['mort_ind_mun'] = (heatds_temp01['CONTADOR']/heatds_temp01['pop_under74'])*100000\n",
    "\n",
    "# mostrar dados gerais da tabela após transformações\n",
    "tab = heatds_temp01\n",
    "print(f'Registros da tabela : {tab.shape[0]}')\n",
    "print(f'Total de óbitos : {tab.CONTADOR.sum()}')\n",
    "print(tabulate(tab.head(), headers='keys', tablefmt='psql'))"
   ]
  },
  {
   "cell_type": "code",
   "execution_count": 105,
   "metadata": {},
   "outputs": [
    {
     "name": "stdout",
     "output_type": "stream",
     "text": [
      "Número de valores infinitos em mort_ind_mun: 0\n",
      "Valores nulos em 'mort_ind_mun': 0\n"
     ]
    }
   ],
   "source": [
    "# Contar e gerar tabela de indicador de mortalidade infinitos [inf]\n",
    "registros_inf = heatds_temp01[np.isinf(heatds_temp01['mort_ind_mun'])]\n",
    "inf_count = np.isinf(heatds_temp01['mort_ind_mun']).sum()\n",
    "nulos_mort_ind_mun = heatds_temp01['mort_ind_mun'].isnull().sum()\n",
    "\n",
    "\n",
    "# Exibir os registros filtrados\n",
    "print(f\"Número de valores infinitos em mort_ind_mun: {inf_count}\")\n",
    "print(f\"Valores nulos em 'mort_ind_mun': {nulos_mort_ind_mun}\")\n",
    "\n",
    "\n",
    "\n",
    "# Exportar registros de indicador de mortalidade infinitos [inf]\n",
    "# registros_inf.to_csv('exportar/relatorio_reg_mort_ind_inf.csv')"
   ]
  },
  {
   "cell_type": "code",
   "execution_count": null,
   "metadata": {},
   "outputs": [],
   "source": [
    "# # Limpar a base de registros de indicador de mortalidade infinitos [inf]\n",
    "# heat_ds_treat2 = heat_ds_treat.copy()\n",
    "\n",
    "# # Substituir valores infinitos por NaN\n",
    "# heat_ds_treat2['mort_ind_mun'].replace([np.inf, -np.inf], np.nan, inplace=True)"
   ]
  },
  {
   "cell_type": "code",
   "execution_count": null,
   "metadata": {},
   "outputs": [],
   "source": [
    "# # Rodar se for necessário excluir valores nulos\n",
    "# heatds_temp02 = heatds_temp01.copy()\n",
    "\n",
    "# # Excluir registros com NaN na coluna mort_ind_mun\n",
    "# heatds_temp02.dropna(subset=['mort_ind_mun'], inplace=True)\n",
    "\n",
    "# # Mudar o nome da coluna mort_ind para mort_ind_mun\n",
    "# # heat_ds_treat2.rename(columns={'mort_ind':'mort_ind_mun'}, inplace=True)\n",
    "\n",
    "\n",
    "# # Verificar as primeiras linhas do DataFrame atualizado\n",
    "# heat_ds_treat1.head()"
   ]
  },
  {
   "cell_type": "code",
   "execution_count": 106,
   "metadata": {},
   "outputs": [
    {
     "data": {
      "text/html": [
       "<div>\n",
       "<style scoped>\n",
       "    .dataframe tbody tr th:only-of-type {\n",
       "        vertical-align: middle;\n",
       "    }\n",
       "\n",
       "    .dataframe tbody tr th {\n",
       "        vertical-align: top;\n",
       "    }\n",
       "\n",
       "    .dataframe thead th {\n",
       "        text-align: right;\n",
       "    }\n",
       "</style>\n",
       "<table border=\"1\" class=\"dataframe\">\n",
       "  <thead>\n",
       "    <tr style=\"text-align: right;\">\n",
       "      <th></th>\n",
       "      <th>CONTADOR</th>\n",
       "      <th>pop_under74</th>\n",
       "      <th>mort_ind_mun</th>\n",
       "    </tr>\n",
       "  </thead>\n",
       "  <tbody>\n",
       "    <tr>\n",
       "      <th>count</th>\n",
       "      <td>27817.000000</td>\n",
       "      <td>2.781700e+04</td>\n",
       "      <td>27817.000000</td>\n",
       "    </tr>\n",
       "    <tr>\n",
       "      <th>mean</th>\n",
       "      <td>91.078405</td>\n",
       "      <td>3.464735e+04</td>\n",
       "      <td>268.207663</td>\n",
       "    </tr>\n",
       "    <tr>\n",
       "      <th>std</th>\n",
       "      <td>510.470539</td>\n",
       "      <td>1.967627e+05</td>\n",
       "      <td>87.673481</td>\n",
       "    </tr>\n",
       "    <tr>\n",
       "      <th>min</th>\n",
       "      <td>1.000000</td>\n",
       "      <td>7.820000e+02</td>\n",
       "      <td>12.640627</td>\n",
       "    </tr>\n",
       "    <tr>\n",
       "      <th>25%</th>\n",
       "      <td>13.000000</td>\n",
       "      <td>4.978000e+03</td>\n",
       "      <td>211.782434</td>\n",
       "    </tr>\n",
       "    <tr>\n",
       "      <th>50%</th>\n",
       "      <td>27.000000</td>\n",
       "      <td>1.053200e+04</td>\n",
       "      <td>263.208494</td>\n",
       "    </tr>\n",
       "    <tr>\n",
       "      <th>75%</th>\n",
       "      <td>62.000000</td>\n",
       "      <td>2.335900e+04</td>\n",
       "      <td>317.028986</td>\n",
       "    </tr>\n",
       "    <tr>\n",
       "      <th>max</th>\n",
       "      <td>28299.000000</td>\n",
       "      <td>1.089676e+07</td>\n",
       "      <td>940.733772</td>\n",
       "    </tr>\n",
       "  </tbody>\n",
       "</table>\n",
       "</div>"
      ],
      "text/plain": [
       "           CONTADOR   pop_under74  mort_ind_mun\n",
       "count  27817.000000  2.781700e+04  27817.000000\n",
       "mean      91.078405  3.464735e+04    268.207663\n",
       "std      510.470539  1.967627e+05     87.673481\n",
       "min        1.000000  7.820000e+02     12.640627\n",
       "25%       13.000000  4.978000e+03    211.782434\n",
       "50%       27.000000  1.053200e+04    263.208494\n",
       "75%       62.000000  2.335900e+04    317.028986\n",
       "max    28299.000000  1.089676e+07    940.733772"
      ]
     },
     "execution_count": 106,
     "metadata": {},
     "output_type": "execute_result"
    }
   ],
   "source": [
    "# Verificar se existe valor infinito ou negativo na coluna mort_ind_mun\n",
    "heatds_temp01.describe()"
   ]
  },
  {
   "cell_type": "markdown",
   "metadata": {},
   "source": [
    "##### Agrupar por UF para gerar setting e setting-average\n",
    "\n",
    "De acordo com o template do HEAT, o setting average: \"must be consistent for the same combinantion of: setting, year, source and indicator\".\n",
    "\n",
    "Isto implica que os valores para cada setting (UF) não traz interferência nem da dimensão (município) e nem do subgrupo (sexo-raça-cor)."
   ]
  },
  {
   "cell_type": "code",
   "execution_count": null,
   "metadata": {
    "vscode": {
     "languageId": "ruby"
    }
   },
   "outputs": [],
   "source": [
    "# # Agrupar por 'UF', 'ANO', e calcular a média de 'mort_ind'\n",
    "# dobr_grouped_uf = heat_ds_treat2.groupby(['UF',\n",
    "#                                              'ANO_OBITO',\n",
    "#                                             #  'SEXO',\n",
    "#                                             #  'RACACOR'\n",
    "#                                              ]).agg({'CONTADOR': 'sum',\n",
    "#                                                     'pop_under74': 'sum',\n",
    "#                                                     'mort_ind_mun': 'mean'\n",
    "#                                                 }).reset_index()\n",
    "# dobr_grouped_uf.rename(columns={'mort_ind_mun': 'mort_ind_uf',\n",
    "#                                 'CONTADOR': 'obito_count_uf',\n",
    "#                                 'pop_under74': 'pop_under74_uf',\n",
    "#                                 }, inplace=True)\n",
    "\n",
    "\n",
    "# # Exibir as primeiras linhas do DataFrame resultante\n",
    "# dobr_grouped_uf.head()"
   ]
  },
  {
   "cell_type": "code",
   "execution_count": null,
   "metadata": {
    "vscode": {
     "languageId": "ruby"
    }
   },
   "outputs": [],
   "source": [
    "# dobr_grouped_uf.describe()"
   ]
  },
  {
   "cell_type": "code",
   "execution_count": null,
   "metadata": {
    "vscode": {
     "languageId": "ruby"
    }
   },
   "outputs": [],
   "source": [
    "# Salvar arquivo por UF para exportação\n",
    "# dobr_grouped_uf.to_excel('exportar/dobr_grouped_uf_v2.xlsx', index=False)"
   ]
  },
  {
   "cell_type": "code",
   "execution_count": null,
   "metadata": {
    "vscode": {
     "languageId": "ruby"
    }
   },
   "outputs": [],
   "source": [
    "# heat_ds_treat2.columns"
   ]
  },
  {
   "cell_type": "code",
   "execution_count": null,
   "metadata": {},
   "outputs": [],
   "source": [
    "# # Trazer dados por UF (setting e setting_average)\n",
    "\n",
    "# # Realizar o merge entre heat_ e uf_sett\n",
    "# heat_treat00 = pd.merge(heat_ds_treat2, dobr_grouped_uf, on=['UF',\n",
    "#                                                                 'ANO_OBITO',\n",
    "#                                                                 # 'SEXO',\n",
    "#                                                                 # 'RACACOR'\n",
    "#                                                                 ], how='left')\n",
    "\n",
    "# # Exibir as primeiras linhas do dataframe resultante\n",
    "# heat_treat00.head()"
   ]
  },
  {
   "cell_type": "code",
   "execution_count": null,
   "metadata": {},
   "outputs": [],
   "source": [
    "# # Teste de aplicação de setting_average (médias por UF)\n",
    "# filtered_data = heat_treat00[   (heat_treat00['ANO_OBITO'] == '_2022') &\n",
    "#                                 (heat_treat00['UF'] == 'AC') \n",
    "#                                 # & (heat_treat00['SEXO'] == '_1') &\n",
    "#                                 #(heat_treat00['RACACOR'] == '_4')\n",
    "#                               ]\n",
    "# filtered_data.head()"
   ]
  },
  {
   "cell_type": "code",
   "execution_count": null,
   "metadata": {},
   "outputs": [],
   "source": [
    "# heat_treat00.columns"
   ]
  },
  {
   "cell_type": "code",
   "execution_count": null,
   "metadata": {},
   "outputs": [],
   "source": [
    "# heat_treat00.pop_under74_uf.sum()"
   ]
  },
  {
   "cell_type": "code",
   "execution_count": null,
   "metadata": {},
   "outputs": [],
   "source": [
    "# obito_num = heat_treat00.CONTADOR.sum()\n",
    "# pop_under74 = heat_treat00.pop_under74.sum()\n",
    "\n",
    "# print(f\"\\033[33m ==> Número de mortes: {obito_num} \\033[0m\")\n",
    "# print(f\"\\033[33m ==> Número de população abaixo de 75 anos é de {pop_under74} \\033[0m\")  \n"
   ]
  },
  {
   "cell_type": "code",
   "execution_count": null,
   "metadata": {},
   "outputs": [],
   "source": [
    "# heat_template = row\n",
    "# heat_template"
   ]
  },
  {
   "cell_type": "markdown",
   "metadata": {},
   "source": [
    "##### Criar colunas do dataset"
   ]
  },
  {
   "cell_type": "code",
   "execution_count": 115,
   "metadata": {},
   "outputs": [
    {
     "name": "stdout",
     "output_type": "stream",
     "text": [
      "  ANO_OBITO  set_avg_BR\n",
      "0     _2010  257.615194\n",
      "1     _2019  258.919766\n",
      "2     _2020  256.542023\n",
      "3     _2021  266.310807\n",
      "4     _2022  274.720874\n"
     ]
    },
    {
     "name": "stderr",
     "output_type": "stream",
     "text": [
      "/tmp/ipykernel_4975/4059653304.py:8: DeprecationWarning: DataFrameGroupBy.apply operated on the grouping columns. This behavior is deprecated, and in a future version of pandas the grouping columns will be excluded from the operation. Either pass `include_groups=False` to exclude the groupings or explicitly select the grouping columns after groupby to silence this warning.\n",
      "  weighted_avg_per_year = heatds_temp01.groupby('ANO_OBITO').apply(weighted_avg).reset_index()\n"
     ]
    }
   ],
   "source": [
    "# Na média ponderada de mortalidade evitável, pegamos os valores de mortalidade para cada município e dividimos pela população, para conseguir o valor para o Brasil e por ano\n",
    "\n",
    "# Função para calcular a média ponderada\n",
    "def weighted_avg(group):\n",
    "    return np.average(group['mort_ind_mun'], weights=group['pop_under74'])\n",
    "\n",
    "# Agrupar os dados pelo ano e aplicar a função de média ponderada\n",
    "weighted_avg_per_year = heatds_temp01.groupby('ANO_OBITO').apply(weighted_avg).reset_index()\n",
    "\n",
    "# Renomear as colunas para melhor entendimento\n",
    "weighted_avg_per_year.columns = ['ANO_OBITO', 'set_avg_BR']\n",
    "\n",
    "# Exibir o resultado\n",
    "print(weighted_avg_per_year)"
   ]
  },
  {
   "cell_type": "code",
   "execution_count": 116,
   "metadata": {},
   "outputs": [
    {
     "name": "stdout",
     "output_type": "stream",
     "text": [
      "Registros da tabela : 27817\n",
      "Total de óbitos : 2533528\n",
      "+----+-------------+-------------+--------------+------------+---------------+------+----------------------------+----------------+--------------+\n",
      "|    | CODMUNRES   | ANO_OBITO   | POP_MERGE    |   CONTADOR |   pop_under74 | UF   | mun_no                     |   mort_ind_mun |   set_avg_BR |\n",
      "|----+-------------+-------------+--------------+------------+---------------+------+----------------------------+----------------+--------------|\n",
      "|  0 | _110001     | _2010       | _2010_110001 |         58 |         23948 | RO   | Alta Floresta D'Oeste (RO) |        242.191 |      257.615 |\n",
      "|  1 | _110001     | _2019       | _2022_110001 |         67 |         20742 | RO   | Alta Floresta D'Oeste (RO) |        323.016 |      258.92  |\n",
      "|  2 | _110001     | _2020       | _2022_110001 |         68 |         20742 | RO   | Alta Floresta D'Oeste (RO) |        327.837 |      256.542 |\n",
      "|  3 | _110001     | _2021       | _2022_110001 |         45 |         20742 | RO   | Alta Floresta D'Oeste (RO) |        216.951 |      266.311 |\n",
      "|  4 | _110001     | _2022       | _2022_110001 |         64 |         20742 | RO   | Alta Floresta D'Oeste (RO) |        308.553 |      274.721 |\n",
      "+----+-------------+-------------+--------------+------------+---------------+------+----------------------------+----------------+--------------+\n"
     ]
    }
   ],
   "source": [
    "# Realizar o merge entre heat_ds_treat2 e grouped_data usando a coluna ANO_OBITO\n",
    "heatds_temp02 = pd.merge(heatds_temp01, weighted_avg_per_year[['ANO_OBITO', 'set_avg_BR']], on='ANO_OBITO', how='left')\n",
    "\n",
    "# mostrar dados gerais da tabela após transformações\n",
    "tab = heatds_temp02\n",
    "print(f'Registros da tabela : {tab.shape[0]}')\n",
    "print(f'Total de óbitos : {tab.CONTADOR.sum()}')\n",
    "print(tabulate(tab.head(), headers='keys', tablefmt='psql'))"
   ]
  },
  {
   "cell_type": "code",
   "execution_count": 118,
   "metadata": {},
   "outputs": [
    {
     "name": "stdout",
     "output_type": "stream",
     "text": [
      "Registros da tabela : 27817\n",
      "Total de óbitos : 2533528\n",
      "+----+-------------+--------+--------------+------------+--------------+-------------+----------------------------+------------+-------------------+-----------+------------------+-----------------------------------------------------+----------------------+------------------------+-------------------+---------------------+------------------+----------------------+--------+------+---------+---------+--------+\n",
      "|    | CODMUNRES   |   date | POP_MERGE    |   CONTADOR |   population | dimension   | subgroup                   |   estimate |   setting_average | setting   | indicator_abbr   | indicator_name                                      | source               |   favourable_indicator |   indicator_scale |   ordered_dimension |   subgroup_order |   reference_subgroup | note   | se   | ci_lb   | ci_ub   | iso3   |\n",
      "|----+-------------+--------+--------------+------------+--------------+-------------+----------------------------+------------+-------------------+-----------+------------------+-----------------------------------------------------+----------------------+------------------------+-------------------+---------------------+------------------+----------------------+--------+------+---------+---------+--------|\n",
      "|  0 | _110001     |   2010 | _2010_110001 |         58 |        23948 | RO          | Alta Floresta D'Oeste (RO) |    242.191 |           257.615 | Brasil    | AVM              | Avoidable mortality (deaths per 100 000 population) | SIM/SUS & Censo/IBGE |                      0 |            100000 |                   0 |                0 |                    0 |        |      |         |         | BRA    |\n",
      "|  1 | _110001     |   2019 | _2022_110001 |         67 |        20742 | RO          | Alta Floresta D'Oeste (RO) |    323.016 |           258.92  | Brasil    | AVM              | Avoidable mortality (deaths per 100 000 population) | SIM/SUS & Censo/IBGE |                      0 |            100000 |                   0 |                0 |                    0 |        |      |         |         | BRA    |\n",
      "|  2 | _110001     |   2020 | _2022_110001 |         68 |        20742 | RO          | Alta Floresta D'Oeste (RO) |    327.837 |           256.542 | Brasil    | AVM              | Avoidable mortality (deaths per 100 000 population) | SIM/SUS & Censo/IBGE |                      0 |            100000 |                   0 |                0 |                    0 |        |      |         |         | BRA    |\n",
      "|  3 | _110001     |   2021 | _2022_110001 |         45 |        20742 | RO          | Alta Floresta D'Oeste (RO) |    216.951 |           266.311 | Brasil    | AVM              | Avoidable mortality (deaths per 100 000 population) | SIM/SUS & Censo/IBGE |                      0 |            100000 |                   0 |                0 |                    0 |        |      |         |         | BRA    |\n",
      "|  4 | _110001     |   2022 | _2022_110001 |         64 |        20742 | RO          | Alta Floresta D'Oeste (RO) |    308.553 |           274.721 | Brasil    | AVM              | Avoidable mortality (deaths per 100 000 population) | SIM/SUS & Censo/IBGE |                      0 |            100000 |                   0 |                0 |                    0 |        |      |         |         | BRA    |\n",
      "+----+-------------+--------+--------------+------------+--------------+-------------+----------------------------+------------+-------------------+-----------+------------------+-----------------------------------------------------+----------------------+------------------------+-------------------+---------------------+------------------+----------------------+--------+------+---------+---------+--------+\n"
     ]
    }
   ],
   "source": [
    "# Gerar colunas sem informação ou com informação padronizada\n",
    "# heat_treat01 = heat_semCID_clean # caso não seja agrupado por UF anteriormente\n",
    "heatds_temp03 = heatds_temp02.copy() # caso seja agrupado por UF anteriormente\n",
    "\n",
    "heatds_temp03['setting'] = 'Brasil'\n",
    "# heat_treat01['setting_average'] = set_avg_BR\n",
    "\n",
    "heatds_temp03['indicator_abbr'] = 'AVM'\n",
    "heatds_temp03['indicator_name'] = 'Avoidable mortality (deaths per 100 000 population)'\n",
    "heatds_temp03['source'] = 'SIM/SUS & Censo/IBGE'\n",
    "heatds_temp03['favourable_indicator'] = 0\n",
    "heatds_temp03['indicator_scale'] = 100000\n",
    "heatds_temp03['ordered_dimension'] = 0\n",
    "heatds_temp03['subgroup_order'] = 0\n",
    "heatds_temp03['reference_subgroup'] = 0\n",
    "heatds_temp03['note'] = ''\n",
    "heatds_temp03['se'] = ''\n",
    "heatds_temp03['ci_lb'] = ''\n",
    "heatds_temp03['ci_ub'] = ''\n",
    "heatds_temp03['iso3'] = 'BRA'\n",
    "\n",
    "# Renomear colunas de heat_treat01\n",
    "heatds_temp03 = heatds_temp03.rename(columns={\n",
    "    'ANO_OBITO':'date',\n",
    "    'pop_under74':'population',\n",
    "    'UF':'dimension',\n",
    "    'mun_no':'subgroup',\n",
    "    'mort_ind_mun':'estimate',\n",
    "    'set_avg_BR':'setting_average',\n",
    "    # 'mort_ind_uf':'setting_average'\n",
    "})\n",
    "\n",
    "# Ajustar coluna de ano\n",
    "heatds_temp03['date'] = heatds_temp03['date'].str.replace('_','').astype(int)\n",
    "\n",
    "\n",
    "# mostrar dados gerais da tabela após transformações\n",
    "tab = heatds_temp03\n",
    "print(f'Registros da tabela : {tab.shape[0]}')\n",
    "print(f'Total de óbitos : {tab.CONTADOR.sum()}')\n",
    "print(tabulate(tab.head(), headers='keys', tablefmt='psql'))\n"
   ]
  },
  {
   "cell_type": "code",
   "execution_count": 285,
   "metadata": {},
   "outputs": [],
   "source": [
    "# # Trazer labels para sexo e raçacor\n",
    "# heat_treat02 = heat_treat01.copy()\n",
    "\n",
    "# heat_treat02['SEXO'] = heat_treat02['SEXO'].map({\n",
    "#                                             '_1':'Homens',\n",
    "#                                             '_2':'Mulheres'\n",
    "#                                             })\n",
    "# heat_treat02['RACACOR'] = heat_treat02['RACACOR'].map({\n",
    "#                                             '_1':'Branca',\n",
    "#                                             '_2':'Preta',\n",
    "#                                             '_3':'Amarela',\n",
    "#                                             '_4':'Parda',\n",
    "#                                             '_5':'Indígena',\n",
    "#                                             '_9':'Sem declaração'\n",
    "#                                             })\n",
    "\n",
    "# heat_treat02['subgroup'] = heat_treat02['SEXO'] + ' - raça/cor '  +  heat_treat02['RACACOR']\n"
   ]
  },
  {
   "cell_type": "code",
   "execution_count": null,
   "metadata": {},
   "outputs": [],
   "source": [
    "# heat_treat02['subgroup'].unique()"
   ]
  },
  {
   "cell_type": "code",
   "execution_count": null,
   "metadata": {},
   "outputs": [],
   "source": [
    "# heat_treat02.columns"
   ]
  },
  {
   "cell_type": "code",
   "execution_count": 120,
   "metadata": {},
   "outputs": [],
   "source": [
    "# Define the order of columns\n",
    "column_order = [\n",
    "    'setting',\n",
    "    'date',\n",
    "    'source',\n",
    "    'indicator_abbr',\n",
    "    'indicator_name',\n",
    "    'dimension',\n",
    "    'subgroup',\n",
    "    'estimate',\n",
    "    'se',\n",
    "    'ci_lb',\n",
    "    'ci_ub',\n",
    "    'population',\n",
    "    'note',\n",
    "    'setting_average',\n",
    "    'iso3',\n",
    "    'favourable_indicator',\n",
    "    'indicator_scale',\n",
    "    'ordered_dimension',\n",
    "    'subgroup_order',\n",
    "    'reference_subgroup'\n",
    "    ]  \n",
    "\n",
    "\n",
    "# Reorder the columns in the DataFrame\n",
    "heatds_temp04 = heatds_temp03[column_order]\n"
   ]
  },
  {
   "cell_type": "code",
   "execution_count": 123,
   "metadata": {},
   "outputs": [
    {
     "name": "stdout",
     "output_type": "stream",
     "text": [
      "Registros da tabela : 27817\n",
      "+----+-----------+--------+----------------------+------------------+-----------------------------------------------------+-------------+----------------------------+------------+------+---------+---------+--------------+--------+-------------------+--------+------------------------+-------------------+---------------------+------------------+----------------------+\n",
      "|    | setting   |   date | source               | indicator_abbr   | indicator_name                                      | dimension   | subgroup                   |   estimate | se   | ci_lb   | ci_ub   |   population | note   |   setting_average | iso3   |   favourable_indicator |   indicator_scale |   ordered_dimension |   subgroup_order |   reference_subgroup |\n",
      "|----+-----------+--------+----------------------+------------------+-----------------------------------------------------+-------------+----------------------------+------------+------+---------+---------+--------------+--------+-------------------+--------+------------------------+-------------------+---------------------+------------------+----------------------|\n",
      "|  0 | Brasil    |   2010 | SIM/SUS & Censo/IBGE | AVM              | Avoidable mortality (deaths per 100 000 population) | RO          | Alta Floresta D'Oeste (RO) |        242 |      |         |         |        23948 |        |               257 | BRA    |                      0 |            100000 |                   0 |                0 |                    0 |\n",
      "|  1 | Brasil    |   2019 | SIM/SUS & Censo/IBGE | AVM              | Avoidable mortality (deaths per 100 000 population) | RO          | Alta Floresta D'Oeste (RO) |        323 |      |         |         |        20742 |        |               258 | BRA    |                      0 |            100000 |                   0 |                0 |                    0 |\n",
      "|  2 | Brasil    |   2020 | SIM/SUS & Censo/IBGE | AVM              | Avoidable mortality (deaths per 100 000 population) | RO          | Alta Floresta D'Oeste (RO) |        327 |      |         |         |        20742 |        |               256 | BRA    |                      0 |            100000 |                   0 |                0 |                    0 |\n",
      "|  3 | Brasil    |   2021 | SIM/SUS & Censo/IBGE | AVM              | Avoidable mortality (deaths per 100 000 population) | RO          | Alta Floresta D'Oeste (RO) |        216 |      |         |         |        20742 |        |               266 | BRA    |                      0 |            100000 |                   0 |                0 |                    0 |\n",
      "|  4 | Brasil    |   2022 | SIM/SUS & Censo/IBGE | AVM              | Avoidable mortality (deaths per 100 000 population) | RO          | Alta Floresta D'Oeste (RO) |        308 |      |         |         |        20742 |        |               274 | BRA    |                      0 |            100000 |                   0 |                0 |                    0 |\n",
      "+----+-----------+--------+----------------------+------------------+-----------------------------------------------------+-------------+----------------------------+------------+------+---------+---------+--------------+--------+-------------------+--------+------------------------+-------------------+---------------------+------------------+----------------------+\n"
     ]
    }
   ],
   "source": [
    "# Transformar estimate e setting_average em int\n",
    "heatds_temp05 = heatds_temp04.copy()\n",
    "\n",
    "heatds_temp05['estimate'] = heatds_temp05['estimate'].astype(int)\n",
    "heatds_temp05['setting_average'] = heatds_temp05['setting_average'].astype(int)\n",
    "\n",
    "# mostrar dados gerais da tabela após transformações\n",
    "tab = heatds_temp05\n",
    "print(f'Registros da tabela : {tab.shape[0]}')\n",
    "# print(f'Total de óbitos : {tab.CONTADOR.sum()}')\n",
    "print(tabulate(tab.head(), headers='keys', tablefmt='psql'))"
   ]
  },
  {
   "cell_type": "code",
   "execution_count": 124,
   "metadata": {},
   "outputs": [],
   "source": [
    "### Arquivo pronto para exportação\n",
    "heatds_temp05.to_excel('exportar/ds_4val_v2.xlsx', index=False)"
   ]
  },
  {
   "cell_type": "code",
   "execution_count": 4,
   "metadata": {},
   "outputs": [],
   "source": [
    "# Gerar arquivo dataset diretamente no arquivo de validação do HEAT\n",
    "\n",
    "# Carregar o arquivo original\n",
    "workbook = openpyxl.load_workbook('downloads_outros/heat_plus_template_validation.xlsm', keep_vba=True)\n",
    "\n",
    "# Apagar a aba 'template'\n",
    "if 'template' in workbook.sheetnames:\n",
    "    del workbook['template']\n",
    "\n",
    "# Carregar o arquivo que será copiado como nova aba\n",
    "workbook_to_copy = openpyxl.load_workbook('exportar/ds_4val_v2.xlsx')\n",
    "sheet_to_copy = workbook_to_copy.active\n",
    "\n",
    "# Copiar a aba para o workbook original\n",
    "new_sheet = workbook.create_sheet('template')\n",
    "\n",
    "for row in sheet_to_copy.iter_rows(values_only=True):\n",
    "    new_sheet.append(row)\n",
    "\n",
    "# Salvar o arquivo com o novo nome\n",
    "workbook.save('exportar/heat_plus_template_ds_4val_v2.xlsm')"
   ]
  },
  {
   "cell_type": "markdown",
   "metadata": {},
   "source": [
    "# Etapa 4 - Reunião de alinhamento - ajustes"
   ]
  },
  {
   "cell_type": "markdown",
   "metadata": {},
   "source": [
    "# Etapa 5 - Preparação para publicação de resultados"
   ]
  }
 ],
 "metadata": {
  "kernelspec": {
   "display_name": "Python 3",
   "language": "python",
   "name": "python3"
  },
  "language_info": {
   "codemirror_mode": {
    "name": "ipython",
    "version": 3
   },
   "file_extension": ".py",
   "mimetype": "text/x-python",
   "name": "python",
   "nbconvert_exporter": "python",
   "pygments_lexer": "ipython3",
   "version": "3.12.1"
  }
 },
 "nbformat": 4,
 "nbformat_minor": 2
}
