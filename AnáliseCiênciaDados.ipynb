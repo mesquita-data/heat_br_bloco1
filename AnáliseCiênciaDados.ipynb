{
 "cells": [
  {
   "cell_type": "markdown",
   "metadata": {},
   "source": [
    "## Análises de Dados comparativos"
   ]
  },
  {
   "cell_type": "markdown",
   "metadata": {},
   "source": [
    "### Biblioteca de data science"
   ]
  },
  {
   "cell_type": "code",
   "execution_count": 1,
   "metadata": {},
   "outputs": [
    {
     "ename": "ModuleNotFoundError",
     "evalue": "No module named 'matplotlib'",
     "output_type": "error",
     "traceback": [
      "\u001b[0;31m---------------------------------------------------------------------------\u001b[0m",
      "\u001b[0;31mModuleNotFoundError\u001b[0m                       Traceback (most recent call last)",
      "Cell \u001b[0;32mIn[1], line 2\u001b[0m\n\u001b[1;32m      1\u001b[0m \u001b[38;5;28;01mimport\u001b[39;00m\u001b[38;5;250m \u001b[39m\u001b[38;5;21;01mpandas\u001b[39;00m\u001b[38;5;250m \u001b[39m\u001b[38;5;28;01mas\u001b[39;00m\u001b[38;5;250m \u001b[39m\u001b[38;5;21;01mpd\u001b[39;00m\n\u001b[0;32m----> 2\u001b[0m \u001b[38;5;28;01mimport\u001b[39;00m\u001b[38;5;250m \u001b[39m\u001b[38;5;21;01mmatplotlib\u001b[39;00m\u001b[38;5;21;01m.\u001b[39;00m\u001b[38;5;21;01mpyplot\u001b[39;00m\u001b[38;5;250m \u001b[39m\u001b[38;5;28;01mas\u001b[39;00m\u001b[38;5;250m \u001b[39m\u001b[38;5;21;01mplt\u001b[39;00m\n\u001b[1;32m      3\u001b[0m \u001b[38;5;28;01mimport\u001b[39;00m\u001b[38;5;250m \u001b[39m\u001b[38;5;21;01mnumpy\u001b[39;00m\u001b[38;5;250m \u001b[39m\u001b[38;5;28;01mas\u001b[39;00m\u001b[38;5;250m \u001b[39m\u001b[38;5;21;01mnp\u001b[39;00m\n\u001b[1;32m      4\u001b[0m \u001b[38;5;28;01mimport\u001b[39;00m\u001b[38;5;250m \u001b[39m\u001b[38;5;21;01mseaborn\u001b[39;00m\u001b[38;5;250m \u001b[39m\u001b[38;5;28;01mas\u001b[39;00m\u001b[38;5;250m \u001b[39m\u001b[38;5;21;01msns\u001b[39;00m\n",
      "\u001b[0;31mModuleNotFoundError\u001b[0m: No module named 'matplotlib'"
     ]
    }
   ],
   "source": [
    "import pandas as pd\n",
    "import matplotlib.pyplot as plt\n",
    "import numpy as np\n",
    "import seaborn as sns\n",
    "import statsmodels.api as sm\n",
    "from scipy import stats # Para testes ANOVA, comparação entre médias\n",
    "from tabulate import tabulate"
   ]
  },
  {
   "cell_type": "code",
   "execution_count": 2,
   "metadata": {},
   "outputs": [
    {
     "name": "stdout",
     "output_type": "stream",
     "text": [
      "\u001b[33m ==> Este texto será impresso em amarelo!\u001b[0m\n",
      "Este em normal!\n"
     ]
    }
   ],
   "source": [
    "# Para organizar resultados, gerar prints em amarelo\n",
    "\n",
    "def print_y(text):\n",
    "  \"\"\"Imprime o texto fornecido na cor amarela.\n",
    "\n",
    "  Args:\n",
    "    text: O texto a ser impresso.\n",
    "  \"\"\"\n",
    "  print(f\"\\033[33m ==> {text}\\033[0m\")\n",
    "\n",
    "# Exemplo de uso:\n",
    "print_y(\"Este texto será impresso em amarelo!\")\n",
    "print(\"Este em normal!\")"
   ]
  },
  {
   "cell_type": "markdown",
   "metadata": {},
   "source": [
    "## Exercícios 16/01/2025"
   ]
  },
  {
   "cell_type": "code",
   "execution_count": 3,
   "metadata": {},
   "outputs": [
    {
     "data": {
      "text/html": [
       "<div>\n",
       "<style scoped>\n",
       "    .dataframe tbody tr th:only-of-type {\n",
       "        vertical-align: middle;\n",
       "    }\n",
       "\n",
       "    .dataframe tbody tr th {\n",
       "        vertical-align: top;\n",
       "    }\n",
       "\n",
       "    .dataframe thead th {\n",
       "        text-align: right;\n",
       "    }\n",
       "</style>\n",
       "<table border=\"1\" class=\"dataframe\">\n",
       "  <thead>\n",
       "    <tr style=\"text-align: right;\">\n",
       "      <th></th>\n",
       "      <th>setting</th>\n",
       "      <th>date</th>\n",
       "      <th>source</th>\n",
       "      <th>indicator_abbr</th>\n",
       "      <th>indicator_name</th>\n",
       "      <th>dimension</th>\n",
       "      <th>subgroup</th>\n",
       "      <th>estimate</th>\n",
       "      <th>se</th>\n",
       "      <th>ci_lb</th>\n",
       "      <th>ci_ub</th>\n",
       "      <th>population</th>\n",
       "      <th>note</th>\n",
       "      <th>setting_average</th>\n",
       "      <th>iso3</th>\n",
       "      <th>favourable_indicator</th>\n",
       "      <th>indicator_scale</th>\n",
       "      <th>ordered_dimension</th>\n",
       "      <th>subgroup_order</th>\n",
       "      <th>reference_subgroup</th>\n",
       "    </tr>\n",
       "  </thead>\n",
       "  <tbody>\n",
       "    <tr>\n",
       "      <th>0</th>\n",
       "      <td>Rondônia</td>\n",
       "      <td>2019</td>\n",
       "      <td>SIM/SUS &amp; Censo/IBGE</td>\n",
       "      <td>AVM</td>\n",
       "      <td>Avoidable mortality (deaths per 100 000 popula...</td>\n",
       "      <td>Alta Floresta D'Oeste (RO)</td>\n",
       "      <td>Homens - raça/cor Branca</td>\n",
       "      <td>471</td>\n",
       "      <td>NaN</td>\n",
       "      <td>NaN</td>\n",
       "      <td>NaN</td>\n",
       "      <td>3606.0</td>\n",
       "      <td>NaN</td>\n",
       "      <td>239</td>\n",
       "      <td>NaN</td>\n",
       "      <td>0</td>\n",
       "      <td>100000</td>\n",
       "      <td>0</td>\n",
       "      <td>0</td>\n",
       "      <td>0</td>\n",
       "    </tr>\n",
       "    <tr>\n",
       "      <th>1</th>\n",
       "      <td>Rondônia</td>\n",
       "      <td>2019</td>\n",
       "      <td>SIM/SUS &amp; Censo/IBGE</td>\n",
       "      <td>AVM</td>\n",
       "      <td>Avoidable mortality (deaths per 100 000 popula...</td>\n",
       "      <td>Alta Floresta D'Oeste (RO)</td>\n",
       "      <td>Homens - raça/cor Branca</td>\n",
       "      <td>471</td>\n",
       "      <td>NaN</td>\n",
       "      <td>NaN</td>\n",
       "      <td>NaN</td>\n",
       "      <td>3606.0</td>\n",
       "      <td>NaN</td>\n",
       "      <td>239</td>\n",
       "      <td>NaN</td>\n",
       "      <td>0</td>\n",
       "      <td>100000</td>\n",
       "      <td>0</td>\n",
       "      <td>0</td>\n",
       "      <td>0</td>\n",
       "    </tr>\n",
       "    <tr>\n",
       "      <th>2</th>\n",
       "      <td>Rondônia</td>\n",
       "      <td>2019</td>\n",
       "      <td>SIM/SUS &amp; Censo/IBGE</td>\n",
       "      <td>AVM</td>\n",
       "      <td>Avoidable mortality (deaths per 100 000 popula...</td>\n",
       "      <td>Alta Floresta D'Oeste (RO)</td>\n",
       "      <td>Homens - raça/cor Branca</td>\n",
       "      <td>471</td>\n",
       "      <td>NaN</td>\n",
       "      <td>NaN</td>\n",
       "      <td>NaN</td>\n",
       "      <td>3606.0</td>\n",
       "      <td>NaN</td>\n",
       "      <td>239</td>\n",
       "      <td>NaN</td>\n",
       "      <td>0</td>\n",
       "      <td>100000</td>\n",
       "      <td>0</td>\n",
       "      <td>0</td>\n",
       "      <td>0</td>\n",
       "    </tr>\n",
       "    <tr>\n",
       "      <th>3</th>\n",
       "      <td>Rondônia</td>\n",
       "      <td>2019</td>\n",
       "      <td>SIM/SUS &amp; Censo/IBGE</td>\n",
       "      <td>AVM</td>\n",
       "      <td>Avoidable mortality (deaths per 100 000 popula...</td>\n",
       "      <td>Alta Floresta D'Oeste (RO)</td>\n",
       "      <td>Homens - raça/cor Branca</td>\n",
       "      <td>471</td>\n",
       "      <td>NaN</td>\n",
       "      <td>NaN</td>\n",
       "      <td>NaN</td>\n",
       "      <td>3606.0</td>\n",
       "      <td>NaN</td>\n",
       "      <td>239</td>\n",
       "      <td>NaN</td>\n",
       "      <td>0</td>\n",
       "      <td>100000</td>\n",
       "      <td>0</td>\n",
       "      <td>0</td>\n",
       "      <td>0</td>\n",
       "    </tr>\n",
       "    <tr>\n",
       "      <th>4</th>\n",
       "      <td>Rondônia</td>\n",
       "      <td>2019</td>\n",
       "      <td>SIM/SUS &amp; Censo/IBGE</td>\n",
       "      <td>AVM</td>\n",
       "      <td>Avoidable mortality (deaths per 100 000 popula...</td>\n",
       "      <td>Alta Floresta D'Oeste (RO)</td>\n",
       "      <td>Homens - raça/cor Branca</td>\n",
       "      <td>471</td>\n",
       "      <td>NaN</td>\n",
       "      <td>NaN</td>\n",
       "      <td>NaN</td>\n",
       "      <td>3606.0</td>\n",
       "      <td>NaN</td>\n",
       "      <td>239</td>\n",
       "      <td>NaN</td>\n",
       "      <td>0</td>\n",
       "      <td>100000</td>\n",
       "      <td>0</td>\n",
       "      <td>0</td>\n",
       "      <td>0</td>\n",
       "    </tr>\n",
       "  </tbody>\n",
       "</table>\n",
       "</div>"
      ],
      "text/plain": [
       "    setting  date                source indicator_abbr  \\\n",
       "0  Rondônia  2019  SIM/SUS & Censo/IBGE            AVM   \n",
       "1  Rondônia  2019  SIM/SUS & Censo/IBGE            AVM   \n",
       "2  Rondônia  2019  SIM/SUS & Censo/IBGE            AVM   \n",
       "3  Rondônia  2019  SIM/SUS & Censo/IBGE            AVM   \n",
       "4  Rondônia  2019  SIM/SUS & Censo/IBGE            AVM   \n",
       "\n",
       "                                      indicator_name  \\\n",
       "0  Avoidable mortality (deaths per 100 000 popula...   \n",
       "1  Avoidable mortality (deaths per 100 000 popula...   \n",
       "2  Avoidable mortality (deaths per 100 000 popula...   \n",
       "3  Avoidable mortality (deaths per 100 000 popula...   \n",
       "4  Avoidable mortality (deaths per 100 000 popula...   \n",
       "\n",
       "                    dimension                  subgroup  estimate  se  ci_lb  \\\n",
       "0  Alta Floresta D'Oeste (RO)  Homens - raça/cor Branca       471 NaN    NaN   \n",
       "1  Alta Floresta D'Oeste (RO)  Homens - raça/cor Branca       471 NaN    NaN   \n",
       "2  Alta Floresta D'Oeste (RO)  Homens - raça/cor Branca       471 NaN    NaN   \n",
       "3  Alta Floresta D'Oeste (RO)  Homens - raça/cor Branca       471 NaN    NaN   \n",
       "4  Alta Floresta D'Oeste (RO)  Homens - raça/cor Branca       471 NaN    NaN   \n",
       "\n",
       "   ci_ub  population  note  setting_average  iso3  favourable_indicator  \\\n",
       "0    NaN      3606.0   NaN              239   NaN                     0   \n",
       "1    NaN      3606.0   NaN              239   NaN                     0   \n",
       "2    NaN      3606.0   NaN              239   NaN                     0   \n",
       "3    NaN      3606.0   NaN              239   NaN                     0   \n",
       "4    NaN      3606.0   NaN              239   NaN                     0   \n",
       "\n",
       "   indicator_scale  ordered_dimension  subgroup_order  reference_subgroup  \n",
       "0           100000                  0               0                   0  \n",
       "1           100000                  0               0                   0  \n",
       "2           100000                  0               0                   0  \n",
       "3           100000                  0               0                   0  \n",
       "4           100000                  0               0                   0  "
      ]
     },
     "execution_count": 3,
     "metadata": {},
     "output_type": "execute_result"
    }
   ],
   "source": [
    "ds1 = pd.read_csv('files_out/ds1_UF_mun_sexo&cor_10_19a22.csv')\n",
    "ds1.head()"
   ]
  },
  {
   "cell_type": "markdown",
   "metadata": {},
   "source": [
    "### Regressão linear"
   ]
  },
  {
   "cell_type": "code",
   "execution_count": 22,
   "metadata": {},
   "outputs": [
    {
     "ename": "",
     "evalue": "",
     "output_type": "error",
     "traceback": [
      "\u001b[1;31mThe Kernel crashed while executing code in the current cell or a previous cell. \n",
      "\u001b[1;31mPlease review the code in the cell(s) to identify a possible cause of the failure. \n",
      "\u001b[1;31mClick <a href='https://aka.ms/vscodeJupyterKernelCrash'>here</a> for more info. \n",
      "\u001b[1;31mView Jupyter <a href='command:jupyter.viewOutput'>log</a> for further details."
     ]
    }
   ],
   "source": [
    "import pandas as pd\n",
    "import statsmodels.api as sm\n",
    "\n",
    "# Carregar os dados\n",
    "df = ds1\n",
    "\n",
    "# Criar variáveis dummy para as variáveis categóricas\n",
    "df = pd.get_dummies(df, columns=['setting', 'dimension', 'subgroup'])\n",
    "\n",
    "# Modelar a regressão\n",
    "X = df.drop('estimate', axis=1)\n",
    "y = df['estimate']\n",
    "X = sm.add_constant(X)\n",
    "model = sm.OLS(y, X).fit()\n",
    "print(model.summary())"
   ]
  },
  {
   "cell_type": "markdown",
   "metadata": {},
   "source": [
    "### ANOVA"
   ]
  },
  {
   "cell_type": "code",
   "execution_count": 12,
   "metadata": {},
   "outputs": [
    {
     "name": "stdout",
     "output_type": "stream",
     "text": [
      "                  sum_sq         df          F  PR(>F)\n",
      "C(setting)  6.251699e+10       26.0  116.41687     0.0\n",
      "Residual    5.595544e+13  2709153.0        NaN     NaN\n",
      "                   sum_sq         df             F  PR(>F)\n",
      "C(subgroup)  7.419247e+12        9.0  45954.581817     0.0\n",
      "Residual     4.859871e+13  2709170.0           NaN     NaN\n"
     ]
    }
   ],
   "source": [
    "## Cada variável analisada por vez\n",
    "\n",
    "import pandas as pd\n",
    "import statsmodels.api as sm\n",
    "from statsmodels.formula.api import ols\n",
    "\n",
    "\n",
    "\n",
    "# Carregar os dados\n",
    "df = ds1\n",
    "# var_anova = df.setting\n",
    "\n",
    "# ANOVA para a variável UF\n",
    "model_uf = ols('estimate ~ C(setting)', data=df).fit()\n",
    "anova_table_uf = sm.stats.anova_lm(model_uf, typ=2)\n",
    "print(anova_table_uf)\n",
    "\n",
    "\n",
    "\n",
    "# ANOVA para a variável municipio\n",
    "model_municipio = ols('estimate ~ C(subgroup)', data=df).fit()\n",
    "anova_table_municipio = sm.stats.anova_lm(model_municipio, typ=2)\n",
    "print(anova_table_municipio)\n",
    "\n",
    "\n",
    "# ... e assim por diante para as outras variáveis"
   ]
  },
  {
   "cell_type": "code",
   "execution_count": 13,
   "metadata": {},
   "outputs": [
    {
     "ename": "MemoryError",
     "evalue": "Unable to allocate 112. GiB for an array with shape (2709180, 5570) and data type float64",
     "output_type": "error",
     "traceback": [
      "\u001b[0;31m---------------------------------------------------------------------------\u001b[0m",
      "\u001b[0;31mMemoryError\u001b[0m                               Traceback (most recent call last)",
      "Cell \u001b[0;32mIn[13], line 2\u001b[0m\n\u001b[1;32m      1\u001b[0m \u001b[38;5;66;03m# ANOVA para a variável municipio\u001b[39;00m\n\u001b[0;32m----> 2\u001b[0m model_municipio \u001b[38;5;241m=\u001b[39m \u001b[43mols\u001b[49m\u001b[43m(\u001b[49m\u001b[38;5;124;43m'\u001b[39;49m\u001b[38;5;124;43mestimate ~ C(dimension)\u001b[39;49m\u001b[38;5;124;43m'\u001b[39;49m\u001b[43m,\u001b[49m\u001b[43m \u001b[49m\u001b[43mdata\u001b[49m\u001b[38;5;241;43m=\u001b[39;49m\u001b[43mdf\u001b[49m\u001b[43m)\u001b[49m\u001b[38;5;241m.\u001b[39mfit()\n\u001b[1;32m      3\u001b[0m anova_table_municipio \u001b[38;5;241m=\u001b[39m sm\u001b[38;5;241m.\u001b[39mstats\u001b[38;5;241m.\u001b[39manova_lm(model_municipio, typ\u001b[38;5;241m=\u001b[39m\u001b[38;5;241m2\u001b[39m)\n\u001b[1;32m      4\u001b[0m \u001b[38;5;28mprint\u001b[39m(anova_table_municipio)\n",
      "File \u001b[0;32m~/.python/current/lib/python3.12/site-packages/statsmodels/base/model.py:203\u001b[0m, in \u001b[0;36mModel.from_formula\u001b[0;34m(cls, formula, data, subset, drop_cols, *args, **kwargs)\u001b[0m\n\u001b[1;32m    200\u001b[0m \u001b[38;5;28;01mif\u001b[39;00m missing \u001b[38;5;241m==\u001b[39m \u001b[38;5;124m'\u001b[39m\u001b[38;5;124mnone\u001b[39m\u001b[38;5;124m'\u001b[39m:  \u001b[38;5;66;03m# with patsy it's drop or raise. let's raise.\u001b[39;00m\n\u001b[1;32m    201\u001b[0m     missing \u001b[38;5;241m=\u001b[39m \u001b[38;5;124m'\u001b[39m\u001b[38;5;124mraise\u001b[39m\u001b[38;5;124m'\u001b[39m\n\u001b[0;32m--> 203\u001b[0m tmp \u001b[38;5;241m=\u001b[39m \u001b[43mhandle_formula_data\u001b[49m\u001b[43m(\u001b[49m\u001b[43mdata\u001b[49m\u001b[43m,\u001b[49m\u001b[43m \u001b[49m\u001b[38;5;28;43;01mNone\u001b[39;49;00m\u001b[43m,\u001b[49m\u001b[43m \u001b[49m\u001b[43mformula\u001b[49m\u001b[43m,\u001b[49m\u001b[43m \u001b[49m\u001b[43mdepth\u001b[49m\u001b[38;5;241;43m=\u001b[39;49m\u001b[43meval_env\u001b[49m\u001b[43m,\u001b[49m\n\u001b[1;32m    204\u001b[0m \u001b[43m                          \u001b[49m\u001b[43mmissing\u001b[49m\u001b[38;5;241;43m=\u001b[39;49m\u001b[43mmissing\u001b[49m\u001b[43m)\u001b[49m\n\u001b[1;32m    205\u001b[0m ((endog, exog), missing_idx, design_info) \u001b[38;5;241m=\u001b[39m tmp\n\u001b[1;32m    206\u001b[0m max_endog \u001b[38;5;241m=\u001b[39m \u001b[38;5;28mcls\u001b[39m\u001b[38;5;241m.\u001b[39m_formula_max_endog\n",
      "File \u001b[0;32m~/.python/current/lib/python3.12/site-packages/statsmodels/formula/formulatools.py:63\u001b[0m, in \u001b[0;36mhandle_formula_data\u001b[0;34m(Y, X, formula, depth, missing)\u001b[0m\n\u001b[1;32m     61\u001b[0m \u001b[38;5;28;01melse\u001b[39;00m:\n\u001b[1;32m     62\u001b[0m     \u001b[38;5;28;01mif\u001b[39;00m data_util\u001b[38;5;241m.\u001b[39m_is_using_pandas(Y, \u001b[38;5;28;01mNone\u001b[39;00m):\n\u001b[0;32m---> 63\u001b[0m         result \u001b[38;5;241m=\u001b[39m \u001b[43mdmatrices\u001b[49m\u001b[43m(\u001b[49m\u001b[43mformula\u001b[49m\u001b[43m,\u001b[49m\u001b[43m \u001b[49m\u001b[43mY\u001b[49m\u001b[43m,\u001b[49m\u001b[43m \u001b[49m\u001b[43mdepth\u001b[49m\u001b[43m,\u001b[49m\u001b[43m \u001b[49m\u001b[43mreturn_type\u001b[49m\u001b[38;5;241;43m=\u001b[39;49m\u001b[38;5;124;43m'\u001b[39;49m\u001b[38;5;124;43mdataframe\u001b[39;49m\u001b[38;5;124;43m'\u001b[39;49m\u001b[43m,\u001b[49m\n\u001b[1;32m     64\u001b[0m \u001b[43m                           \u001b[49m\u001b[43mNA_action\u001b[49m\u001b[38;5;241;43m=\u001b[39;49m\u001b[43mna_action\u001b[49m\u001b[43m)\u001b[49m\n\u001b[1;32m     65\u001b[0m     \u001b[38;5;28;01melse\u001b[39;00m:\n\u001b[1;32m     66\u001b[0m         result \u001b[38;5;241m=\u001b[39m dmatrices(formula, Y, depth, return_type\u001b[38;5;241m=\u001b[39m\u001b[38;5;124m'\u001b[39m\u001b[38;5;124mdataframe\u001b[39m\u001b[38;5;124m'\u001b[39m,\n\u001b[1;32m     67\u001b[0m                            NA_action\u001b[38;5;241m=\u001b[39mna_action)\n",
      "File \u001b[0;32m~/.python/current/lib/python3.12/site-packages/patsy/highlevel.py:319\u001b[0m, in \u001b[0;36mdmatrices\u001b[0;34m(formula_like, data, eval_env, NA_action, return_type)\u001b[0m\n\u001b[1;32m    309\u001b[0m \u001b[38;5;250m\u001b[39m\u001b[38;5;124;03m\"\"\"Construct two design matrices given a formula_like and data.\u001b[39;00m\n\u001b[1;32m    310\u001b[0m \n\u001b[1;32m    311\u001b[0m \u001b[38;5;124;03mThis function is identical to :func:`dmatrix`, except that it requires\u001b[39;00m\n\u001b[0;32m   (...)\u001b[0m\n\u001b[1;32m    316\u001b[0m \u001b[38;5;124;03mSee :func:`dmatrix` for details.\u001b[39;00m\n\u001b[1;32m    317\u001b[0m \u001b[38;5;124;03m\"\"\"\u001b[39;00m\n\u001b[1;32m    318\u001b[0m eval_env \u001b[38;5;241m=\u001b[39m EvalEnvironment\u001b[38;5;241m.\u001b[39mcapture(eval_env, reference\u001b[38;5;241m=\u001b[39m\u001b[38;5;241m1\u001b[39m)\n\u001b[0;32m--> 319\u001b[0m (lhs, rhs) \u001b[38;5;241m=\u001b[39m \u001b[43m_do_highlevel_design\u001b[49m\u001b[43m(\u001b[49m\n\u001b[1;32m    320\u001b[0m \u001b[43m    \u001b[49m\u001b[43mformula_like\u001b[49m\u001b[43m,\u001b[49m\u001b[43m \u001b[49m\u001b[43mdata\u001b[49m\u001b[43m,\u001b[49m\u001b[43m \u001b[49m\u001b[43meval_env\u001b[49m\u001b[43m,\u001b[49m\u001b[43m \u001b[49m\u001b[43mNA_action\u001b[49m\u001b[43m,\u001b[49m\u001b[43m \u001b[49m\u001b[43mreturn_type\u001b[49m\n\u001b[1;32m    321\u001b[0m \u001b[43m\u001b[49m\u001b[43m)\u001b[49m\n\u001b[1;32m    322\u001b[0m \u001b[38;5;28;01mif\u001b[39;00m lhs\u001b[38;5;241m.\u001b[39mshape[\u001b[38;5;241m1\u001b[39m] \u001b[38;5;241m==\u001b[39m \u001b[38;5;241m0\u001b[39m:\n\u001b[1;32m    323\u001b[0m     \u001b[38;5;28;01mraise\u001b[39;00m PatsyError(\u001b[38;5;124m\"\u001b[39m\u001b[38;5;124mmodel is missing required outcome variables\u001b[39m\u001b[38;5;124m\"\u001b[39m)\n",
      "File \u001b[0;32m~/.python/current/lib/python3.12/site-packages/patsy/highlevel.py:168\u001b[0m, in \u001b[0;36m_do_highlevel_design\u001b[0;34m(formula_like, data, eval_env, NA_action, return_type)\u001b[0m\n\u001b[1;32m    164\u001b[0m design_infos \u001b[38;5;241m=\u001b[39m _try_incr_builders(\n\u001b[1;32m    165\u001b[0m     formula_like, data_iter_maker, eval_env, NA_action\n\u001b[1;32m    166\u001b[0m )\n\u001b[1;32m    167\u001b[0m \u001b[38;5;28;01mif\u001b[39;00m design_infos \u001b[38;5;129;01mis\u001b[39;00m \u001b[38;5;129;01mnot\u001b[39;00m \u001b[38;5;28;01mNone\u001b[39;00m:\n\u001b[0;32m--> 168\u001b[0m     \u001b[38;5;28;01mreturn\u001b[39;00m \u001b[43mbuild_design_matrices\u001b[49m\u001b[43m(\u001b[49m\n\u001b[1;32m    169\u001b[0m \u001b[43m        \u001b[49m\u001b[43mdesign_infos\u001b[49m\u001b[43m,\u001b[49m\u001b[43m \u001b[49m\u001b[43mdata\u001b[49m\u001b[43m,\u001b[49m\u001b[43m \u001b[49m\u001b[43mNA_action\u001b[49m\u001b[38;5;241;43m=\u001b[39;49m\u001b[43mNA_action\u001b[49m\u001b[43m,\u001b[49m\u001b[43m \u001b[49m\u001b[43mreturn_type\u001b[49m\u001b[38;5;241;43m=\u001b[39;49m\u001b[43mreturn_type\u001b[49m\n\u001b[1;32m    170\u001b[0m \u001b[43m    \u001b[49m\u001b[43m)\u001b[49m\n\u001b[1;32m    171\u001b[0m \u001b[38;5;28;01melse\u001b[39;00m:\n\u001b[1;32m    172\u001b[0m     \u001b[38;5;66;03m# No builders, but maybe we can still get matrices\u001b[39;00m\n\u001b[1;32m    173\u001b[0m     \u001b[38;5;28;01mif\u001b[39;00m \u001b[38;5;28misinstance\u001b[39m(formula_like, \u001b[38;5;28mtuple\u001b[39m):\n",
      "File \u001b[0;32m~/.python/current/lib/python3.12/site-packages/patsy/build.py:995\u001b[0m, in \u001b[0;36mbuild_design_matrices\u001b[0;34m(design_infos, data, NA_action, return_type, dtype)\u001b[0m\n\u001b[1;32m    993\u001b[0m results \u001b[38;5;241m=\u001b[39m []\n\u001b[1;32m    994\u001b[0m \u001b[38;5;28;01mfor\u001b[39;00m design_info \u001b[38;5;129;01min\u001b[39;00m design_infos:\n\u001b[0;32m--> 995\u001b[0m     results\u001b[38;5;241m.\u001b[39mappend(\u001b[43m_build_design_matrix\u001b[49m\u001b[43m(\u001b[49m\u001b[43mdesign_info\u001b[49m\u001b[43m,\u001b[49m\u001b[43m \u001b[49m\u001b[43mfactor_info_to_values\u001b[49m\u001b[43m,\u001b[49m\u001b[43m \u001b[49m\u001b[43mdtype\u001b[49m\u001b[43m)\u001b[49m)\n\u001b[1;32m    996\u001b[0m matrices \u001b[38;5;241m=\u001b[39m []\n\u001b[1;32m    997\u001b[0m \u001b[38;5;28;01mfor\u001b[39;00m need_reshape, matrix \u001b[38;5;129;01min\u001b[39;00m results:\n",
      "File \u001b[0;32m~/.python/current/lib/python3.12/site-packages/patsy/build.py:822\u001b[0m, in \u001b[0;36m_build_design_matrix\u001b[0;34m(design_info, factor_info_to_values, dtype)\u001b[0m\n\u001b[1;32m    820\u001b[0m     need_reshape \u001b[38;5;241m=\u001b[39m \u001b[38;5;28;01mTrue\u001b[39;00m\n\u001b[1;32m    821\u001b[0m shape \u001b[38;5;241m=\u001b[39m (num_rows, \u001b[38;5;28mlen\u001b[39m(design_info\u001b[38;5;241m.\u001b[39mcolumn_names))\n\u001b[0;32m--> 822\u001b[0m m \u001b[38;5;241m=\u001b[39m DesignMatrix(\u001b[43mnp\u001b[49m\u001b[38;5;241;43m.\u001b[39;49m\u001b[43mempty\u001b[49m\u001b[43m(\u001b[49m\u001b[43mshape\u001b[49m\u001b[43m,\u001b[49m\u001b[43m \u001b[49m\u001b[43mdtype\u001b[49m\u001b[38;5;241;43m=\u001b[39;49m\u001b[43mdtype\u001b[49m\u001b[43m)\u001b[49m, design_info)\n\u001b[1;32m    823\u001b[0m start_column \u001b[38;5;241m=\u001b[39m \u001b[38;5;241m0\u001b[39m\n\u001b[1;32m    824\u001b[0m \u001b[38;5;28;01mfor\u001b[39;00m term, subterms \u001b[38;5;129;01min\u001b[39;00m design_info\u001b[38;5;241m.\u001b[39mterm_codings\u001b[38;5;241m.\u001b[39mitems():\n",
      "\u001b[0;31mMemoryError\u001b[0m: Unable to allocate 112. GiB for an array with shape (2709180, 5570) and data type float64"
     ]
    }
   ],
   "source": [
    "# ANOVA para a variável municipio\n",
    "model_municipio = ols('estimate ~ C(dimension)', data=df).fit()\n",
    "anova_table_municipio = sm.stats.anova_lm(model_municipio, typ=2)\n",
    "print(anova_table_municipio)"
   ]
  },
  {
   "cell_type": "code",
   "execution_count": 14,
   "metadata": {},
   "outputs": [
    {
     "name": "stdout",
     "output_type": "stream",
     "text": [
      "                   sum_sq         df             F  PR(>F)\n",
      "C(setting)   2.014148e+11       26.0    433.639711     0.0\n",
      "C(subgroup)  7.558145e+12        9.0  47009.288813     0.0\n",
      "Residual     4.839730e+13  2709144.0           NaN     NaN\n"
     ]
    }
   ],
   "source": [
    "# Todas as \n",
    "\n",
    "import pandas as pd\n",
    "import statsmodels.api as sm\n",
    "from statsmodels.formula.api import ols\n",
    "\n",
    "# Carregar os dados\n",
    "df = ds1\n",
    "\n",
    "# Modelar a ANOVA\n",
    "model = ols('estimate ~ C(setting) + C(subgroup)', data=df).fit()\n",
    "anova_table = sm.stats.anova_lm(model, typ=2)\n",
    "print(anova_table)"
   ]
  },
  {
   "cell_type": "markdown",
   "metadata": {},
   "source": [
    "### Gerar dados gerais de população"
   ]
  },
  {
   "cell_type": "code",
   "execution_count": null,
   "metadata": {},
   "outputs": [
    {
     "name": "stdout",
     "output_type": "stream",
     "text": [
      "Registro da tabela : 54\n",
      "Contagem de pop : 379903191\n",
      "+----+-------+----------+-------------+---------------+---------+\n",
      "|    |   Ano | uf_no    |   pop_total |   pop_under74 | uf_co   |\n",
      "|----+-------+----------+-------------+---------------+---------|\n",
      "|  0 |  2010 | Rondônia |     1562409 |       1537395 | _11     |\n",
      "|  1 |  2010 | Acre     |      733559 |        721559 | _12     |\n",
      "|  2 |  2010 | Amazonas |     3483985 |       3431598 | _13     |\n",
      "|  3 |  2010 | Roraima  |      450479 |        445050 | _14     |\n",
      "|  4 |  2010 | Pará     |     7581051 |       7450082 | _15     |\n",
      "+----+-------+----------+-------------+---------------+---------+\n"
     ]
    }
   ],
   "source": [
    "# Verificar população para 2022 under74\n",
    "df_pop_under_temp = pd.read_parquet('files__temp/AvoidMort_v4_censo_pop_uf.parquet')\n",
    "\n",
    "# mostrar dados gerais da tabela após transformações\n",
    "tab = df_pop_under_temp\n",
    "print(f'Registro da tabela : {tab.shape[0]}')\n",
    "print(f'Contagem de pop : {tab.pop_under74.sum()}')\n",
    "# print(f'Contagem de óbitos : {tab.CONTADOR.sum()}')\n",
    "print(tabulate(tab.head(), headers='keys', tablefmt='psql'))\n"
   ]
  },
  {
   "cell_type": "code",
   "execution_count": null,
   "metadata": {},
   "outputs": [
    {
     "name": "stdout",
     "output_type": "stream",
     "text": [
      "Registro da tabela : 27\n",
      "Contagem de pop : 194646423\n",
      "+----+-------+----------+-------------+---------------+---------+\n",
      "|    |   Ano | uf_no    |   pop_total |   pop_under74 | uf_co   |\n",
      "|----+-------+----------+-------------+---------------+---------|\n",
      "| 27 |  2022 | Rondônia |     1581196 |       1537185 | _11     |\n",
      "| 28 |  2022 | Acre     |      830018 |        810919 | _12     |\n",
      "| 29 |  2022 | Amazonas |     3941613 |       3861307 | _13     |\n",
      "| 30 |  2022 | Roraima  |      636707 |        626444 | _14     |\n",
      "| 31 |  2022 | Pará     |     8120131 |       7905418 | _15     |\n",
      "+----+-------+----------+-------------+---------------+---------+\n"
     ]
    }
   ],
   "source": [
    "\n",
    "df_pop_under_temp01 = df_pop_under_temp[df_pop_under_temp['Ano']=='2022']\n",
    "\n",
    "# mostrar dados gerais da tabela após transformações\n",
    "tab = df_pop_under_temp01\n",
    "popunder74_2022 = df_pop_under_temp01.pop_under74.sum()\n",
    "print(f'Registro da tabela : {tab.shape[0]}')\n",
    "print(f'Contagem de pop : {popunder74_2022}')\n",
    "# print(f'Contagem de óbitos : {tab.CONTADOR.sum()}')\n",
    "print(tabulate(tab.head(), headers='keys', tablefmt='psql'))"
   ]
  },
  {
   "cell_type": "markdown",
   "metadata": {},
   "source": [
    "# Medidas estatísticas básicas"
   ]
  },
  {
   "cell_type": "code",
   "execution_count": 3,
   "metadata": {},
   "outputs": [
    {
     "name": "stdout",
     "output_type": "stream",
     "text": [
      "<class 'pandas.core.frame.DataFrame'>\n",
      "RangeIndex: 2709180 entries, 0 to 2709179\n",
      "Data columns (total 20 columns):\n",
      " #   Column                Dtype  \n",
      "---  ------                -----  \n",
      " 0   setting               object \n",
      " 1   date                  int64  \n",
      " 2   source                object \n",
      " 3   indicator_abbr        object \n",
      " 4   indicator_name        object \n",
      " 5   dimension             object \n",
      " 6   subgroup              object \n",
      " 7   estimate              int64  \n",
      " 8   se                    float64\n",
      " 9   ci_lb                 float64\n",
      " 10  ci_ub                 float64\n",
      " 11  population            float64\n",
      " 12  note                  float64\n",
      " 13  setting_average       int64  \n",
      " 14  iso3                  float64\n",
      " 15  favourable_indicator  int64  \n",
      " 16  indicator_scale       int64  \n",
      " 17  ordered_dimension     int64  \n",
      " 18  subgroup_order        int64  \n",
      " 19  reference_subgroup    int64  \n",
      "dtypes: float64(6), int64(8), object(6)\n",
      "memory usage: 413.4+ MB\n"
     ]
    }
   ],
   "source": [
    "do_temp = pd.read_csv('files_out/ds1_UF_mun_sexo&cor_10_19a22.csv')\n",
    "do_temp.info()"
   ]
  },
  {
   "cell_type": "code",
   "execution_count": 11,
   "metadata": {},
   "outputs": [
    {
     "data": {
      "text/html": [
       "<div>\n",
       "<style scoped>\n",
       "    .dataframe tbody tr th:only-of-type {\n",
       "        vertical-align: middle;\n",
       "    }\n",
       "\n",
       "    .dataframe tbody tr th {\n",
       "        vertical-align: top;\n",
       "    }\n",
       "\n",
       "    .dataframe thead th {\n",
       "        text-align: right;\n",
       "    }\n",
       "</style>\n",
       "<table border=\"1\" class=\"dataframe\">\n",
       "  <thead>\n",
       "    <tr style=\"text-align: right;\">\n",
       "      <th></th>\n",
       "      <th>setting</th>\n",
       "      <th>date</th>\n",
       "      <th>source</th>\n",
       "      <th>indicator_abbr</th>\n",
       "      <th>indicator_name</th>\n",
       "      <th>dimension</th>\n",
       "      <th>subgroup</th>\n",
       "      <th>estimate</th>\n",
       "      <th>se</th>\n",
       "      <th>ci_lb</th>\n",
       "      <th>ci_ub</th>\n",
       "      <th>population</th>\n",
       "      <th>note</th>\n",
       "      <th>setting_average</th>\n",
       "      <th>iso3</th>\n",
       "      <th>favourable_indicator</th>\n",
       "      <th>indicator_scale</th>\n",
       "      <th>ordered_dimension</th>\n",
       "      <th>subgroup_order</th>\n",
       "      <th>reference_subgroup</th>\n",
       "    </tr>\n",
       "  </thead>\n",
       "  <tbody>\n",
       "    <tr>\n",
       "      <th>60</th>\n",
       "      <td>Rondônia</td>\n",
       "      <td>2022</td>\n",
       "      <td>SIM/SUS &amp; Censo/IBGE</td>\n",
       "      <td>AVM</td>\n",
       "      <td>Avoidable mortality (deaths per 100 000 popula...</td>\n",
       "      <td>Alta Floresta D'Oeste (RO)</td>\n",
       "      <td>Homens - raça/cor Branca</td>\n",
       "      <td>637</td>\n",
       "      <td>NaN</td>\n",
       "      <td>NaN</td>\n",
       "      <td>NaN</td>\n",
       "      <td>3606.0</td>\n",
       "      <td>NaN</td>\n",
       "      <td>278</td>\n",
       "      <td>NaN</td>\n",
       "      <td>0</td>\n",
       "      <td>100000</td>\n",
       "      <td>0</td>\n",
       "      <td>0</td>\n",
       "      <td>0</td>\n",
       "    </tr>\n",
       "    <tr>\n",
       "      <th>61</th>\n",
       "      <td>Rondônia</td>\n",
       "      <td>2022</td>\n",
       "      <td>SIM/SUS &amp; Censo/IBGE</td>\n",
       "      <td>AVM</td>\n",
       "      <td>Avoidable mortality (deaths per 100 000 popula...</td>\n",
       "      <td>Alta Floresta D'Oeste (RO)</td>\n",
       "      <td>Homens - raça/cor Branca</td>\n",
       "      <td>637</td>\n",
       "      <td>NaN</td>\n",
       "      <td>NaN</td>\n",
       "      <td>NaN</td>\n",
       "      <td>3606.0</td>\n",
       "      <td>NaN</td>\n",
       "      <td>278</td>\n",
       "      <td>NaN</td>\n",
       "      <td>0</td>\n",
       "      <td>100000</td>\n",
       "      <td>0</td>\n",
       "      <td>0</td>\n",
       "      <td>0</td>\n",
       "    </tr>\n",
       "    <tr>\n",
       "      <th>62</th>\n",
       "      <td>Rondônia</td>\n",
       "      <td>2022</td>\n",
       "      <td>SIM/SUS &amp; Censo/IBGE</td>\n",
       "      <td>AVM</td>\n",
       "      <td>Avoidable mortality (deaths per 100 000 popula...</td>\n",
       "      <td>Alta Floresta D'Oeste (RO)</td>\n",
       "      <td>Homens - raça/cor Branca</td>\n",
       "      <td>637</td>\n",
       "      <td>NaN</td>\n",
       "      <td>NaN</td>\n",
       "      <td>NaN</td>\n",
       "      <td>3606.0</td>\n",
       "      <td>NaN</td>\n",
       "      <td>278</td>\n",
       "      <td>NaN</td>\n",
       "      <td>0</td>\n",
       "      <td>100000</td>\n",
       "      <td>0</td>\n",
       "      <td>0</td>\n",
       "      <td>0</td>\n",
       "    </tr>\n",
       "    <tr>\n",
       "      <th>63</th>\n",
       "      <td>Rondônia</td>\n",
       "      <td>2022</td>\n",
       "      <td>SIM/SUS &amp; Censo/IBGE</td>\n",
       "      <td>AVM</td>\n",
       "      <td>Avoidable mortality (deaths per 100 000 popula...</td>\n",
       "      <td>Alta Floresta D'Oeste (RO)</td>\n",
       "      <td>Homens - raça/cor Branca</td>\n",
       "      <td>637</td>\n",
       "      <td>NaN</td>\n",
       "      <td>NaN</td>\n",
       "      <td>NaN</td>\n",
       "      <td>3606.0</td>\n",
       "      <td>NaN</td>\n",
       "      <td>278</td>\n",
       "      <td>NaN</td>\n",
       "      <td>0</td>\n",
       "      <td>100000</td>\n",
       "      <td>0</td>\n",
       "      <td>0</td>\n",
       "      <td>0</td>\n",
       "    </tr>\n",
       "    <tr>\n",
       "      <th>64</th>\n",
       "      <td>Rondônia</td>\n",
       "      <td>2022</td>\n",
       "      <td>SIM/SUS &amp; Censo/IBGE</td>\n",
       "      <td>AVM</td>\n",
       "      <td>Avoidable mortality (deaths per 100 000 popula...</td>\n",
       "      <td>Alta Floresta D'Oeste (RO)</td>\n",
       "      <td>Homens - raça/cor Branca</td>\n",
       "      <td>637</td>\n",
       "      <td>NaN</td>\n",
       "      <td>NaN</td>\n",
       "      <td>NaN</td>\n",
       "      <td>3606.0</td>\n",
       "      <td>NaN</td>\n",
       "      <td>278</td>\n",
       "      <td>NaN</td>\n",
       "      <td>0</td>\n",
       "      <td>100000</td>\n",
       "      <td>0</td>\n",
       "      <td>0</td>\n",
       "      <td>0</td>\n",
       "    </tr>\n",
       "  </tbody>\n",
       "</table>\n",
       "</div>"
      ],
      "text/plain": [
       "     setting  date                source indicator_abbr  \\\n",
       "60  Rondônia  2022  SIM/SUS & Censo/IBGE            AVM   \n",
       "61  Rondônia  2022  SIM/SUS & Censo/IBGE            AVM   \n",
       "62  Rondônia  2022  SIM/SUS & Censo/IBGE            AVM   \n",
       "63  Rondônia  2022  SIM/SUS & Censo/IBGE            AVM   \n",
       "64  Rondônia  2022  SIM/SUS & Censo/IBGE            AVM   \n",
       "\n",
       "                                       indicator_name  \\\n",
       "60  Avoidable mortality (deaths per 100 000 popula...   \n",
       "61  Avoidable mortality (deaths per 100 000 popula...   \n",
       "62  Avoidable mortality (deaths per 100 000 popula...   \n",
       "63  Avoidable mortality (deaths per 100 000 popula...   \n",
       "64  Avoidable mortality (deaths per 100 000 popula...   \n",
       "\n",
       "                     dimension                  subgroup  estimate  se  ci_lb  \\\n",
       "60  Alta Floresta D'Oeste (RO)  Homens - raça/cor Branca       637 NaN    NaN   \n",
       "61  Alta Floresta D'Oeste (RO)  Homens - raça/cor Branca       637 NaN    NaN   \n",
       "62  Alta Floresta D'Oeste (RO)  Homens - raça/cor Branca       637 NaN    NaN   \n",
       "63  Alta Floresta D'Oeste (RO)  Homens - raça/cor Branca       637 NaN    NaN   \n",
       "64  Alta Floresta D'Oeste (RO)  Homens - raça/cor Branca       637 NaN    NaN   \n",
       "\n",
       "    ci_ub  population  note  setting_average  iso3  favourable_indicator  \\\n",
       "60    NaN      3606.0   NaN              278   NaN                     0   \n",
       "61    NaN      3606.0   NaN              278   NaN                     0   \n",
       "62    NaN      3606.0   NaN              278   NaN                     0   \n",
       "63    NaN      3606.0   NaN              278   NaN                     0   \n",
       "64    NaN      3606.0   NaN              278   NaN                     0   \n",
       "\n",
       "    indicator_scale  ordered_dimension  subgroup_order  reference_subgroup  \n",
       "60           100000                  0               0                   0  \n",
       "61           100000                  0               0                   0  \n",
       "62           100000                  0               0                   0  \n",
       "63           100000                  0               0                   0  \n",
       "64           100000                  0               0                   0  "
      ]
     },
     "execution_count": 11,
     "metadata": {},
     "output_type": "execute_result"
    }
   ],
   "source": [
    "do_temp01 = do_temp.loc[do_temp['date']== 2022]\n",
    "\n",
    "do_temp01.head()"
   ]
  },
  {
   "cell_type": "code",
   "execution_count": 12,
   "metadata": {},
   "outputs": [
    {
     "data": {
      "text/plain": [
       "count    557860.000000\n",
       "mean        790.481483\n",
       "std        5055.084301\n",
       "min          15.000000\n",
       "25%         169.000000\n",
       "50%         277.000000\n",
       "75%         443.000000\n",
       "max      200000.000000\n",
       "Name: estimate, dtype: float64"
      ]
     },
     "execution_count": 12,
     "metadata": {},
     "output_type": "execute_result"
    }
   ],
   "source": [
    "do_temp01.estimate.describe()"
   ]
  },
  {
   "cell_type": "code",
   "execution_count": 18,
   "metadata": {},
   "outputs": [
    {
     "name": "stdout",
     "output_type": "stream",
     "text": [
      "date\n",
      "2010    2212.599281\n",
      "2019    4579.561050\n",
      "2020    5101.849756\n",
      "2021    4973.901134\n",
      "2022    5055.084301\n",
      "Name: estimate, dtype: float64\n"
     ]
    }
   ],
   "source": [
    "# Calcular o desvio padrão da coluna 'estimate' para cada ano\n",
    "std_estimates_per_year = do_temp.groupby('date')['estimate'].std()\n",
    "\n",
    "# Imprimir o resultado\n",
    "print(std_estimates_per_year)"
   ]
  },
  {
   "cell_type": "code",
   "execution_count": null,
   "metadata": {},
   "outputs": [],
   "source": []
  },
  {
   "cell_type": "code",
   "execution_count": null,
   "metadata": {},
   "outputs": [],
   "source": []
  },
  {
   "cell_type": "code",
   "execution_count": 19,
   "metadata": {},
   "outputs": [
    {
     "ename": "ValueError",
     "evalue": "could not convert string to float: 'Rondônia'",
     "output_type": "error",
     "traceback": [
      "\u001b[0;31m---------------------------------------------------------------------------\u001b[0m",
      "\u001b[0;31mValueError\u001b[0m                                Traceback (most recent call last)",
      "Cell \u001b[0;32mIn[19], line 2\u001b[0m\n\u001b[1;32m      1\u001b[0m \u001b[38;5;66;03m# Calcular a matriz de correlação\u001b[39;00m\n\u001b[0;32m----> 2\u001b[0m correlation_matrix \u001b[38;5;241m=\u001b[39m \u001b[43mdo_temp\u001b[49m\u001b[38;5;241;43m.\u001b[39;49m\u001b[43mcorr\u001b[49m\u001b[43m(\u001b[49m\u001b[43m)\u001b[49m\n\u001b[1;32m      4\u001b[0m \u001b[38;5;66;03m# Visualizar a matriz de correlação usando um heatmap\u001b[39;00m\n\u001b[1;32m      5\u001b[0m plt\u001b[38;5;241m.\u001b[39mfigure(figsize\u001b[38;5;241m=\u001b[39m(\u001b[38;5;241m12\u001b[39m, \u001b[38;5;241m8\u001b[39m))\n",
      "File \u001b[0;32m~/.local/lib/python3.12/site-packages/pandas/core/frame.py:11049\u001b[0m, in \u001b[0;36mDataFrame.corr\u001b[0;34m(self, method, min_periods, numeric_only)\u001b[0m\n\u001b[1;32m  11047\u001b[0m cols \u001b[38;5;241m=\u001b[39m data\u001b[38;5;241m.\u001b[39mcolumns\n\u001b[1;32m  11048\u001b[0m idx \u001b[38;5;241m=\u001b[39m cols\u001b[38;5;241m.\u001b[39mcopy()\n\u001b[0;32m> 11049\u001b[0m mat \u001b[38;5;241m=\u001b[39m \u001b[43mdata\u001b[49m\u001b[38;5;241;43m.\u001b[39;49m\u001b[43mto_numpy\u001b[49m\u001b[43m(\u001b[49m\u001b[43mdtype\u001b[49m\u001b[38;5;241;43m=\u001b[39;49m\u001b[38;5;28;43mfloat\u001b[39;49m\u001b[43m,\u001b[49m\u001b[43m \u001b[49m\u001b[43mna_value\u001b[49m\u001b[38;5;241;43m=\u001b[39;49m\u001b[43mnp\u001b[49m\u001b[38;5;241;43m.\u001b[39;49m\u001b[43mnan\u001b[49m\u001b[43m,\u001b[49m\u001b[43m \u001b[49m\u001b[43mcopy\u001b[49m\u001b[38;5;241;43m=\u001b[39;49m\u001b[38;5;28;43;01mFalse\u001b[39;49;00m\u001b[43m)\u001b[49m\n\u001b[1;32m  11051\u001b[0m \u001b[38;5;28;01mif\u001b[39;00m method \u001b[38;5;241m==\u001b[39m \u001b[38;5;124m\"\u001b[39m\u001b[38;5;124mpearson\u001b[39m\u001b[38;5;124m\"\u001b[39m:\n\u001b[1;32m  11052\u001b[0m     correl \u001b[38;5;241m=\u001b[39m libalgos\u001b[38;5;241m.\u001b[39mnancorr(mat, minp\u001b[38;5;241m=\u001b[39mmin_periods)\n",
      "File \u001b[0;32m~/.local/lib/python3.12/site-packages/pandas/core/frame.py:1993\u001b[0m, in \u001b[0;36mDataFrame.to_numpy\u001b[0;34m(self, dtype, copy, na_value)\u001b[0m\n\u001b[1;32m   1991\u001b[0m \u001b[38;5;28;01mif\u001b[39;00m dtype \u001b[38;5;129;01mis\u001b[39;00m \u001b[38;5;129;01mnot\u001b[39;00m \u001b[38;5;28;01mNone\u001b[39;00m:\n\u001b[1;32m   1992\u001b[0m     dtype \u001b[38;5;241m=\u001b[39m np\u001b[38;5;241m.\u001b[39mdtype(dtype)\n\u001b[0;32m-> 1993\u001b[0m result \u001b[38;5;241m=\u001b[39m \u001b[38;5;28;43mself\u001b[39;49m\u001b[38;5;241;43m.\u001b[39;49m\u001b[43m_mgr\u001b[49m\u001b[38;5;241;43m.\u001b[39;49m\u001b[43mas_array\u001b[49m\u001b[43m(\u001b[49m\u001b[43mdtype\u001b[49m\u001b[38;5;241;43m=\u001b[39;49m\u001b[43mdtype\u001b[49m\u001b[43m,\u001b[49m\u001b[43m \u001b[49m\u001b[43mcopy\u001b[49m\u001b[38;5;241;43m=\u001b[39;49m\u001b[43mcopy\u001b[49m\u001b[43m,\u001b[49m\u001b[43m \u001b[49m\u001b[43mna_value\u001b[49m\u001b[38;5;241;43m=\u001b[39;49m\u001b[43mna_value\u001b[49m\u001b[43m)\u001b[49m\n\u001b[1;32m   1994\u001b[0m \u001b[38;5;28;01mif\u001b[39;00m result\u001b[38;5;241m.\u001b[39mdtype \u001b[38;5;129;01mis\u001b[39;00m \u001b[38;5;129;01mnot\u001b[39;00m dtype:\n\u001b[1;32m   1995\u001b[0m     result \u001b[38;5;241m=\u001b[39m np\u001b[38;5;241m.\u001b[39masarray(result, dtype\u001b[38;5;241m=\u001b[39mdtype)\n",
      "File \u001b[0;32m~/.local/lib/python3.12/site-packages/pandas/core/internals/managers.py:1694\u001b[0m, in \u001b[0;36mBlockManager.as_array\u001b[0;34m(self, dtype, copy, na_value)\u001b[0m\n\u001b[1;32m   1692\u001b[0m         arr\u001b[38;5;241m.\u001b[39mflags\u001b[38;5;241m.\u001b[39mwriteable \u001b[38;5;241m=\u001b[39m \u001b[38;5;28;01mFalse\u001b[39;00m\n\u001b[1;32m   1693\u001b[0m \u001b[38;5;28;01melse\u001b[39;00m:\n\u001b[0;32m-> 1694\u001b[0m     arr \u001b[38;5;241m=\u001b[39m \u001b[38;5;28;43mself\u001b[39;49m\u001b[38;5;241;43m.\u001b[39;49m\u001b[43m_interleave\u001b[49m\u001b[43m(\u001b[49m\u001b[43mdtype\u001b[49m\u001b[38;5;241;43m=\u001b[39;49m\u001b[43mdtype\u001b[49m\u001b[43m,\u001b[49m\u001b[43m \u001b[49m\u001b[43mna_value\u001b[49m\u001b[38;5;241;43m=\u001b[39;49m\u001b[43mna_value\u001b[49m\u001b[43m)\u001b[49m\n\u001b[1;32m   1695\u001b[0m     \u001b[38;5;66;03m# The underlying data was copied within _interleave, so no need\u001b[39;00m\n\u001b[1;32m   1696\u001b[0m     \u001b[38;5;66;03m# to further copy if copy=True or setting na_value\u001b[39;00m\n\u001b[1;32m   1698\u001b[0m \u001b[38;5;28;01mif\u001b[39;00m na_value \u001b[38;5;129;01mis\u001b[39;00m lib\u001b[38;5;241m.\u001b[39mno_default:\n",
      "File \u001b[0;32m~/.local/lib/python3.12/site-packages/pandas/core/internals/managers.py:1753\u001b[0m, in \u001b[0;36mBlockManager._interleave\u001b[0;34m(self, dtype, na_value)\u001b[0m\n\u001b[1;32m   1751\u001b[0m     \u001b[38;5;28;01melse\u001b[39;00m:\n\u001b[1;32m   1752\u001b[0m         arr \u001b[38;5;241m=\u001b[39m blk\u001b[38;5;241m.\u001b[39mget_values(dtype)\n\u001b[0;32m-> 1753\u001b[0m     \u001b[43mresult\u001b[49m\u001b[43m[\u001b[49m\u001b[43mrl\u001b[49m\u001b[38;5;241;43m.\u001b[39;49m\u001b[43mindexer\u001b[49m\u001b[43m]\u001b[49m \u001b[38;5;241m=\u001b[39m arr\n\u001b[1;32m   1754\u001b[0m     itemmask[rl\u001b[38;5;241m.\u001b[39mindexer] \u001b[38;5;241m=\u001b[39m \u001b[38;5;241m1\u001b[39m\n\u001b[1;32m   1756\u001b[0m \u001b[38;5;28;01mif\u001b[39;00m \u001b[38;5;129;01mnot\u001b[39;00m itemmask\u001b[38;5;241m.\u001b[39mall():\n",
      "\u001b[0;31mValueError\u001b[0m: could not convert string to float: 'Rondônia'"
     ]
    }
   ],
   "source": [
    "# Calcular a matriz de correlação\n",
    "correlation_matrix = do_temp.corr()\n",
    "\n",
    "# Visualizar a matriz de correlação usando um heatmap\n",
    "plt.figure(figsize=(12, 8))\n",
    "sns.heatmap(correlation_matrix, annot=True, cmap='coolwarm', fmt='.2f')\n",
    "plt.title('Matriz de Correlação')\n",
    "plt.show()"
   ]
  },
  {
   "cell_type": "code",
   "execution_count": 7,
   "metadata": {},
   "outputs": [
    {
     "name": "stderr",
     "output_type": "stream",
     "text": [
      "/home/codespace/.local/lib/python3.12/site-packages/IPython/core/pylabtools.py:170: UserWarning: Creating legend with loc=\"best\" can be slow with large amounts of data.\n",
      "  fig.canvas.print_figure(bytes_io, **kw)\n"
     ]
    },
    {
     "data": {
      "image/png": "[encoded data removed]",
      "text/plain": [
       "<Figure size 1000x600 with 1 Axes>"
      ]
     },
     "metadata": {},
     "output_type": "display_data"
    }
   ],
   "source": [
    "plt.figure(figsize=(10, 6))\n",
    "sns.scatterplot(data=do_temp, x='date', y='estimate', hue='setting', alpha=0.6)\n",
    "plt.title('Dispersão dos Dados')\n",
    "plt.xlabel('Ano')\n",
    "plt.ylabel('Estimativa')\n",
    "plt.legend(title='Dimensão')\n",
    "plt.show()"
   ]
  },
  {
   "cell_type": "code",
   "execution_count": null,
   "metadata": {},
   "outputs": [],
   "source": []
  },
  {
   "cell_type": "code",
   "execution_count": null,
   "metadata": {},
   "outputs": [],
   "source": []
  },
  {
   "cell_type": "markdown",
   "metadata": {},
   "source": [
    "# Análises por dataset"
   ]
  },
  {
   "cell_type": "markdown",
   "metadata": {},
   "source": [
    "## Base por UF"
   ]
  },
  {
   "cell_type": "markdown",
   "metadata": {},
   "source": [
    "### Preparação do dataframe"
   ]
  },
  {
   "cell_type": "code",
   "execution_count": 187,
   "metadata": {},
   "outputs": [
    {
     "name": "stdout",
     "output_type": "stream",
     "text": [
      "<class 'pandas.core.frame.DataFrame'>\n",
      "RangeIndex: 47498 entries, 0 to 47497\n",
      "Data columns (total 7 columns):\n",
      " #   Column         Non-Null Count  Dtype \n",
      "---  ------         --------------  ----- \n",
      " 0   ANO_OBITO      47498 non-null  object\n",
      " 1   uf             47498 non-null  object\n",
      " 2   causes_deaths  47498 non-null  object\n",
      " 3   Sexo           47498 non-null  object\n",
      " 4   Cor ou raça    47498 non-null  object\n",
      " 5   pop_under74    47498 non-null  int64 \n",
      " 6   CONTADOR       47498 non-null  int64 \n",
      "dtypes: int64(2), object(5)\n",
      "memory usage: 2.5+ MB\n"
     ]
    }
   ],
   "source": [
    "do_temp = pd.read_parquet('files__temp/AvoidMort_v5_dobr_merged.parquet')\n",
    "do_temp.info()"
   ]
  },
  {
   "cell_type": "code",
   "execution_count": 188,
   "metadata": {},
   "outputs": [
    {
     "name": "stdout",
     "output_type": "stream",
     "text": [
      "Registro da tabela : 47498\n",
      "Contagem de óbitos : 4312347\n",
      "+----+-------------+----------+-------------------------------------------+--------+---------------+---------------+------------+\n",
      "|    |   ANO_OBITO | uf       | causes_deaths                             | Sexo   | Cor ou raça   |   pop_under74 |   CONTADOR |\n",
      "|----+-------------+----------+-------------------------------------------+--------+---------------+---------------+------------|\n",
      "|  0 |        2019 | Rondônia | Abscess of lung and mediastinum pyothorax | Homens | Branca        |        228640 |          1 |\n",
      "|  1 |        2019 | Rondônia | Accidental Injuries                       | Homens | Branca        |        228640 |         47 |\n",
      "|  2 |        2019 | Rondônia | Acute lower respiratory infections        | Homens | Branca        |        228640 |          1 |\n",
      "|  3 |        2019 | Rondônia | Acute pancreatitis                        | Homens | Branca        |        228640 |          3 |\n",
      "|  4 |        2019 | Rondônia | Alcohol-specific disorders and poisonings | Homens | Branca        |        228640 |         12 |\n",
      "+----+-------------+----------+-------------------------------------------+--------+---------------+---------------+------------+\n"
     ]
    }
   ],
   "source": [
    "# mostrar dados gerais da tabela\n",
    "tab = do_temp\n",
    "print(f'Registro da tabela : {tab.shape[0]}')\n",
    "print(f'Contagem de óbitos : {tab.CONTADOR.sum()}')\n",
    "print(tabulate(tab.head(), headers='keys', tablefmt='psql'))"
   ]
  },
  {
   "cell_type": "code",
   "execution_count": 189,
   "metadata": {},
   "outputs": [
    {
     "data": {
      "text/plain": [
       "array(['2019', '2020', '2021', '2022', '2010'], dtype=object)"
      ]
     },
     "execution_count": 189,
     "metadata": {},
     "output_type": "execute_result"
    }
   ],
   "source": [
    "do_temp.ANO_OBITO.unique()"
   ]
  },
  {
   "cell_type": "code",
   "execution_count": 190,
   "metadata": {},
   "outputs": [
    {
     "name": "stdout",
     "output_type": "stream",
     "text": [
      "Registro da tabela : 9898\n",
      "Contagem de óbitos : 860089\n",
      "+-----+-------------+----------+-------------------------------------------+--------+---------------+---------------+------------+\n",
      "|     |   ANO_OBITO | uf       | causes_deaths                             | Sexo   | Cor ou raça   |   pop_under74 |   CONTADOR |\n",
      "|-----+-------------+----------+-------------------------------------------+--------+---------------+---------------+------------|\n",
      "| 145 |        2022 | Rondônia | Abdominal hernia                          | Homens | Branca        |        228640 |          1 |\n",
      "| 146 |        2022 | Rondônia | Abscess of lung and mediastinum pyothorax | Homens | Branca        |        228640 |          2 |\n",
      "| 147 |        2022 | Rondônia | Accidental Injuries                       | Homens | Branca        |        228640 |         46 |\n",
      "| 148 |        2022 | Rondônia | Acute lower respiratory infections        | Homens | Branca        |        228640 |          2 |\n",
      "| 149 |        2022 | Rondônia | Acute pancreatitis                        | Homens | Branca        |        228640 |          5 |\n",
      "+-----+-------------+----------+-------------------------------------------+--------+---------------+---------------+------------+\n"
     ]
    }
   ],
   "source": [
    "# Filtrar o ano de 2022\n",
    "do_temp01 = do_temp.loc[do_temp['ANO_OBITO'] =='2022']\n",
    "\n",
    "# mostrar dados gerais da tabela após transformações\n",
    "tab = do_temp01\n",
    "print(f'Registro da tabela : {tab.shape[0]}')\n",
    "print(f'Contagem de óbitos : {tab.CONTADOR.sum()}')\n",
    "print(tabulate(tab.head(), headers='keys', tablefmt='psql'))"
   ]
  },
  {
   "cell_type": "code",
   "execution_count": 191,
   "metadata": {},
   "outputs": [
    {
     "name": "stdout",
     "output_type": "stream",
     "text": [
      "Registro da tabela : 9898\n",
      "Contagem de óbitos : 860089\n",
      "+-----+-------------+----------+-------------------------------------------+--------+---------------+---------------+------------+--------------+\n",
      "|     |   ANO_OBITO | uf       | causes_deaths                             | Sexo   | Cor ou raça   |   pop_under74 |   CONTADOR | avoid_flag   |\n",
      "|-----+-------------+----------+-------------------------------------------+--------+---------------+---------------+------------+--------------|\n",
      "| 145 |        2022 | Rondônia | Abdominal hernia                          | Homens | Branca        |        228640 |          1 | avoid        |\n",
      "| 146 |        2022 | Rondônia | Abscess of lung and mediastinum pyothorax | Homens | Branca        |        228640 |          2 | avoid        |\n",
      "| 147 |        2022 | Rondônia | Accidental Injuries                       | Homens | Branca        |        228640 |         46 | avoid        |\n",
      "| 148 |        2022 | Rondônia | Acute lower respiratory infections        | Homens | Branca        |        228640 |          2 | avoid        |\n",
      "| 149 |        2022 | Rondônia | Acute pancreatitis                        | Homens | Branca        |        228640 |          5 | avoid        |\n",
      "+-----+-------------+----------+-------------------------------------------+--------+---------------+---------------+------------+--------------+\n"
     ]
    }
   ],
   "source": [
    "do_temp02 = do_temp01.copy()\n",
    "\n",
    "# Incluir campo de flag de doença evitável ou não\n",
    "do_temp02['avoid_flag'] = np.where(do_temp02['causes_deaths'].str.startswith('causa não evitável'), 'not_avoid', 'avoid')\n",
    "\n",
    "# mostrar dados gerais da tabela após transformações\n",
    "tab = do_temp02\n",
    "print(f'Registro da tabela : {tab.shape[0]}')\n",
    "print(f'Contagem de óbitos : {tab.CONTADOR.sum()}')\n",
    "print(tabulate(tab.head(), headers='keys', tablefmt='psql'))"
   ]
  },
  {
   "cell_type": "code",
   "execution_count": 192,
   "metadata": {},
   "outputs": [
    {
     "name": "stdout",
     "output_type": "stream",
     "text": [
      "Registro da tabela : 9633\n",
      "Contagem de pop : 12108855399\n",
      "Contagem de óbitos : 525676\n",
      "+-----+-------------+----------+-------------------------------------------+--------+---------------+---------------+------------+--------------+\n",
      "|     |   ANO_OBITO | uf       | causes_deaths                             | Sexo   | Cor ou raça   |   pop_under74 |   CONTADOR | avoid_flag   |\n",
      "|-----+-------------+----------+-------------------------------------------+--------+---------------+---------------+------------+--------------|\n",
      "| 145 |        2022 | Rondônia | Abdominal hernia                          | Homens | Branca        |        228640 |          1 | avoid        |\n",
      "| 146 |        2022 | Rondônia | Abscess of lung and mediastinum pyothorax | Homens | Branca        |        228640 |          2 | avoid        |\n",
      "| 147 |        2022 | Rondônia | Accidental Injuries                       | Homens | Branca        |        228640 |         46 | avoid        |\n",
      "| 148 |        2022 | Rondônia | Acute lower respiratory infections        | Homens | Branca        |        228640 |          2 | avoid        |\n",
      "| 149 |        2022 | Rondônia | Acute pancreatitis                        | Homens | Branca        |        228640 |          5 | avoid        |\n",
      "+-----+-------------+----------+-------------------------------------------+--------+---------------+---------------+------------+--------------+\n"
     ]
    }
   ],
   "source": [
    "do_temp03 = do_temp02[do_temp02['avoid_flag'] == 'avoid']\n",
    "\n",
    "# mostrar dados gerais da tabela após transformações\n",
    "tab = do_temp03\n",
    "print(f'Registro da tabela : {tab.shape[0]}')\n",
    "print(f'Contagem de pop : {tab.pop_under74.sum()}')\n",
    "print(f'Contagem de óbitos : {tab.CONTADOR.sum()}')\n",
    "print(tabulate(tab.head(), headers='keys', tablefmt='psql'))"
   ]
  },
  {
   "cell_type": "code",
   "execution_count": 193,
   "metadata": {},
   "outputs": [
    {
     "name": "stdout",
     "output_type": "stream",
     "text": [
      "Registro da tabela : 269\n",
      "Contagem de pop : 194635294\n",
      "Contagem de óbitos : 525676\n",
      "+----+------+--------+---------------+------------+---------------+------------+\n",
      "|    | uf   | Sexo   | Cor ou raça   |   CONTADOR |   pop_under74 |   mort_ind |\n",
      "|----+------+--------+---------------+------------+---------------+------------|\n",
      "|  0 | Acre | Homens | Amarela       |          6 |           802 |    748.13  |\n",
      "|  1 | Acre | Homens | Branca        |        145 |         83918 |    172.788 |\n",
      "|  2 | Acre | Homens | Indígena      |         26 |         14524 |    179.014 |\n",
      "|  3 | Acre | Homens | Parda         |        896 |        268648 |    333.522 |\n",
      "|  4 | Acre | Homens | Preta         |         52 |         38401 |    135.413 |\n",
      "+----+------+--------+---------------+------------+---------------+------------+\n"
     ]
    }
   ],
   "source": [
    "# Agrupar por UF\n",
    "do_temp04 = do_temp03.groupby([\n",
    "                                   #       'Ano',\n",
    "                                         'uf',\n",
    "                                        #  'causes_deaths',\n",
    "                                         'Sexo',\n",
    "                                         'Cor ou raça',\n",
    "                                        #  'pop_under74',\n",
    "                                        #  'CONTADOR',\n",
    "                                        #  'mort_ind',\n",
    "                                   #       'avoid_flag'\n",
    "                                         ]\n",
    "                                        ).agg({'CONTADOR': 'sum',\n",
    "                                               'pop_under74': 'max'}\n",
    "                                               ).reset_index()\n",
    "\n",
    "do_temp04['mort_ind'] = (do_temp04['CONTADOR']/do_temp04['pop_under74'])*100000\n",
    "\n",
    "# mostrar dados gerais da tabela após transformações\n",
    "tab = do_temp04\n",
    "print(f'Registro da tabela : {tab.shape[0]}')\n",
    "print(f'Contagem de pop : {tab.pop_under74.sum()}')\n",
    "print(f'Contagem de óbitos : {tab.CONTADOR.sum()}')\n",
    "print(tabulate(tab.head(), headers='keys', tablefmt='psql'))"
   ]
  },
  {
   "cell_type": "markdown",
   "metadata": {},
   "source": [
    "### Dataframe Pronto"
   ]
  },
  {
   "cell_type": "code",
   "execution_count": 194,
   "metadata": {},
   "outputs": [
    {
     "name": "stdout",
     "output_type": "stream",
     "text": [
      "Registro da tabela : 269\n",
      "Contagem de pop : 194635294\n",
      "Contagem de óbitos : 525676\n",
      "+----+------+--------+---------------+------------+---------------+------------+\n",
      "|    | uf   | Sexo   | Cor ou raça   |   CONTADOR |   pop_under74 |   mort_ind |\n",
      "|----+------+--------+---------------+------------+---------------+------------|\n",
      "|  0 | Acre | Homens | Amarela       |          6 |           802 |    748.13  |\n",
      "|  1 | Acre | Homens | Branca        |        145 |         83918 |    172.788 |\n",
      "|  2 | Acre | Homens | Indígena      |         26 |         14524 |    179.014 |\n",
      "|  3 | Acre | Homens | Parda         |        896 |        268648 |    333.522 |\n",
      "|  4 | Acre | Homens | Preta         |         52 |         38401 |    135.413 |\n",
      "+----+------+--------+---------------+------------+---------------+------------+\n"
     ]
    }
   ],
   "source": [
    "# mostrar dados gerais da tabela após transformações\n",
    "tab = do_temp04\n",
    "print(f'Registro da tabela : {tab.shape[0]}')\n",
    "print(f'Contagem de pop : {tab.pop_under74.sum()}')\n",
    "print(f'Contagem de óbitos : {tab.CONTADOR.sum()}')\n",
    "print(tabulate(tab.head(), headers='keys', tablefmt='psql'))"
   ]
  },
  {
   "cell_type": "code",
   "execution_count": 195,
   "metadata": {},
   "outputs": [
    {
     "name": "stdout",
     "output_type": "stream",
     "text": [
      "Registro da tabela : 27\n",
      "Contagem de pop : 194635294\n",
      "Contagem de óbitos : 525676\n",
      "+----+----------+------------+---------------+---------------+\n",
      "|    | uf       |   CONTADOR |   pop_under74 |   mort_ind_uf |\n",
      "|----+----------+------------+---------------+---------------|\n",
      "|  0 | Acre     |       1691 |        810909 |       208.531 |\n",
      "|  1 | Alagoas  |       8753 |       3023813 |       289.469 |\n",
      "|  2 | Amapá    |       1718 |        719508 |       238.774 |\n",
      "|  3 | Amazonas |       9021 |       3861194 |       233.632 |\n",
      "|  4 | Bahia    |      36341 |      13527983 |       268.636 |\n",
      "+----+----------+------------+---------------+---------------+\n"
     ]
    }
   ],
   "source": [
    "# Excluir - só para teste\n",
    "# Agrupar por UF\n",
    "do_temp04_1 = do_temp04.groupby([\n",
    "                                   #       'Ano',\n",
    "                                        # 'CODMUNRES',   \n",
    "                                         'uf',\n",
    "                                        #  'causes_deaths',\n",
    "                                        #  'Sexo',\n",
    "                                        #  'Cor ou raça',\n",
    "                                        #  'pop_under74',\n",
    "                                        #  'CONTADOR',\n",
    "                                        #  'mort_ind',\n",
    "                                   #       'avoid_flag'\n",
    "\n",
    "                                         ]\n",
    "                                        ).agg({'CONTADOR': 'sum',\n",
    "                                               'pop_under74': 'sum'}\n",
    "                                               ).reset_index()\n",
    "\n",
    "do_temp04_1['mort_ind_uf'] = (do_temp04_1['CONTADOR']/do_temp04_1['pop_under74'])*100000\n",
    "\n",
    "# mostrar dados gerais da tabela após transformações\n",
    "tab = do_temp04_1\n",
    "print(f'Registro da tabela : {tab.shape[0]}')\n",
    "print(f'Contagem de pop : {tab.pop_under74.sum()}')\n",
    "print(f'Contagem de óbitos : {tab.CONTADOR.sum()}')\n",
    "print(tabulate(tab.head(), headers='keys', tablefmt='psql'))"
   ]
  },
  {
   "cell_type": "markdown",
   "metadata": {},
   "source": [
    "### UF - análise de variância (ANOVA)"
   ]
  },
  {
   "cell_type": "code",
   "execution_count": 197,
   "metadata": {},
   "outputs": [
    {
     "name": "stdout",
     "output_type": "stream",
     "text": [
      "P-valor: nan\n",
      "\u001b[33m ==> Não há evidência de diferença significativa entre as médias dos grupos.\u001b[0m\n"
     ]
    },
    {
     "name": "stderr",
     "output_type": "stream",
     "text": [
      "/home/codespace/.local/lib/python3.12/site-packages/scipy/stats/_axis_nan_policy.py:567: SmallSampleWarning: all input arrays have length 1.  f_oneway requires that at least one input has length greater than 1.\n",
      "  if is_too_small(samples, kwds):\n",
      "/tmp/ipykernel_2173/176855359.py:6: SmallSampleWarning: One or more sample arguments is too small; all returned values will be NaN. See documentation for sample size requirements.\n",
      "  f_stat, p_val = stats.f_oneway(*[group['mort_ind_uf'] for name, group in df.groupby('uf')])\n"
     ]
    }
   ],
   "source": [
    "# Criando um DataFrame com os dados\n",
    "\n",
    "df = do_temp04_1\n",
    "\n",
    "# Realizando a ANOVA e armazenando o p-valor\n",
    "f_stat, p_val = stats.f_oneway(*[group['mort_ind_uf'] for name, group in df.groupby('uf')])\n",
    "\n",
    "# Imprimindo o resultado\n",
    "print(\"P-valor:\", p_val)\n",
    "\n",
    "# Interpretação do resultado (exemplo)\n",
    "if p_val < 0.05:\n",
    "    print_y(\"Existe diferença significativa entre as médias dos grupos.\")\n",
    "else:\n",
    "    print_y(\"Não há evidência de diferença significativa entre as médias dos grupos.\")"
   ]
  },
  {
   "cell_type": "markdown",
   "metadata": {},
   "source": [
    "### Cor ou raça - análise de variância (ANOVA)"
   ]
  },
  {
   "cell_type": "code",
   "execution_count": 134,
   "metadata": {},
   "outputs": [
    {
     "name": "stdout",
     "output_type": "stream",
     "text": [
      "P-valor: 2.238488862238828e-18\n",
      "\u001b[33m ==> Existe diferença significativa entre as médias dos grupos.\u001b[0m\n"
     ]
    }
   ],
   "source": [
    "# Criando um DataFrame com os dados\n",
    "\n",
    "df = do_temp04\n",
    "\n",
    "# Realizando a ANOVA e armazenando o p-valor\n",
    "f_stat, p_val = stats.f_oneway(*[group['mort_ind'] for name, group in df.groupby('Cor ou raça')])\n",
    "\n",
    "# Imprimindo o resultado\n",
    "print(\"P-valor:\", p_val)\n",
    "\n",
    "# Interpretação do resultado (exemplo)\n",
    "if p_val < 0.05:\n",
    "    print_y(\"Existe diferença significativa entre as médias dos grupos.\")\n",
    "else:\n",
    "    print(\"Não há evidência de diferença significativa entre as médias dos grupos.\")"
   ]
  },
  {
   "cell_type": "markdown",
   "metadata": {},
   "source": [
    "### Sexo - análise de variãncia (t-student)"
   ]
  },
  {
   "cell_type": "code",
   "execution_count": 135,
   "metadata": {},
   "outputs": [
    {
     "name": "stdout",
     "output_type": "stream",
     "text": [
      "Estatística t: 7.843379348617597\n",
      "P-valor: 2.2896883820905516e-13\n",
      "\u001b[33m ==> Existe diferença significativa entre as médias dos grupos.\u001b[0m\n"
     ]
    }
   ],
   "source": [
    "\n",
    "# Criando um DataFrame com os dados\n",
    "df = do_temp04\n",
    "\n",
    "# Separando os dados em dois grupos\n",
    "grupo_A = df[df['Sexo'] == 'Homens']['mort_ind']\n",
    "grupo_B = df[df['Sexo'] == 'Mulheres']['mort_ind']\n",
    "\n",
    "# Realizando o teste t\n",
    "t_stat, p_val = stats.ttest_ind(grupo_A, grupo_B, equal_var=False)\n",
    "\n",
    "print(\"Estatística t:\", t_stat)\n",
    "print(\"P-valor:\", p_val)\n",
    "\n",
    "# Interpretando o resultado (exemplo)\n",
    "if p_val < 0.05:\n",
    "    print_y(\"Existe diferença significativa entre as médias dos grupos.\")\n",
    "else:\n",
    "    print(\"Não há evidência de diferença significativa entre as médias dos grupos.\")"
   ]
  },
  {
   "cell_type": "markdown",
   "metadata": {},
   "source": [
    "## Base por Município"
   ]
  },
  {
   "cell_type": "markdown",
   "metadata": {},
   "source": [
    "### Preparação do dataframe"
   ]
  },
  {
   "cell_type": "code",
   "execution_count": 176,
   "metadata": {},
   "outputs": [
    {
     "name": "stdout",
     "output_type": "stream",
     "text": [
      "<class 'pandas.core.frame.DataFrame'>\n",
      "RangeIndex: 472557 entries, 0 to 472556\n",
      "Data columns (total 8 columns):\n",
      " #   Column         Non-Null Count   Dtype  \n",
      "---  ------         --------------   -----  \n",
      " 0   CODMUNRES      472557 non-null  object \n",
      " 1   ANO_OBITO      472557 non-null  object \n",
      " 2   POP_MERGE      472557 non-null  object \n",
      " 3   causes_deaths  472557 non-null  object \n",
      " 4   CONTADOR       472557 non-null  int64  \n",
      " 5   pop_under74    472557 non-null  float64\n",
      " 6   UF             472557 non-null  object \n",
      " 7   mun_no         472557 non-null  object \n",
      "dtypes: float64(1), int64(1), object(6)\n",
      "memory usage: 28.8+ MB\n"
     ]
    }
   ],
   "source": [
    "dom_temp = pd.read_parquet('files__temp/AvoidMort_v4_dobr_merged.parquet')\n",
    "dom_temp.info()"
   ]
  },
  {
   "cell_type": "code",
   "execution_count": 177,
   "metadata": {},
   "outputs": [
    {
     "name": "stdout",
     "output_type": "stream",
     "text": [
      "Registro da tabela : 472557\n",
      "Contagem de pop : 39154073698.0\n",
      "Contagem de óbitos : 4440843\n",
      "+----+-------------+-------------+--------------+-------------------------------------------+------------+---------------+------+----------------------------+\n",
      "|    | CODMUNRES   | ANO_OBITO   | POP_MERGE    | causes_deaths                             |   CONTADOR |   pop_under74 | UF   | mun_no                     |\n",
      "|----+-------------+-------------+--------------+-------------------------------------------+------------+---------------+------+----------------------------|\n",
      "|  0 | _110001     | _2010       | _2010_110001 | Accidental Injuries                       |          1 |         23948 | RO   | Alta Floresta D'Oeste (RO) |\n",
      "|  1 | _110001     | _2010       | _2010_110001 | Alcohol-specific disorders and poisonings |          2 |         23948 | RO   | Alta Floresta D'Oeste (RO) |\n",
      "|  2 | _110001     | _2010       | _2010_110001 | Appendicitis                              |          1 |         23948 | RO   | Alta Floresta D'Oeste (RO) |\n",
      "|  3 | _110001     | _2010       | _2010_110001 | Assault                                   |          7 |         23948 | RO   | Alta Floresta D'Oeste (RO) |\n",
      "|  4 | _110001     | _2010       | _2010_110001 | Cerebrovascular diseases                  |          3 |         23948 | RO   | Alta Floresta D'Oeste (RO) |\n",
      "+----+-------------+-------------+--------------+-------------------------------------------+------------+---------------+------+----------------------------+\n"
     ]
    }
   ],
   "source": [
    "# mostrar dados gerais da tabela\n",
    "tab = dom_temp\n",
    "print(f'Registro da tabela : {tab.shape[0]}')\n",
    "print(f'Contagem de pop : {tab.pop_under74.sum()}')\n",
    "print(f'Contagem de óbitos : {tab.CONTADOR.sum()}')\n",
    "print(tabulate(tab.head(), headers='keys', tablefmt='psql'))"
   ]
  },
  {
   "cell_type": "code",
   "execution_count": 115,
   "metadata": {},
   "outputs": [
    {
     "name": "stdout",
     "output_type": "stream",
     "text": [
      "Registro da tabela : 99406\n",
      "Contagem de óbitos : 875522\n",
      "+----+-------------+-------------+--------------+-------------------------------------------+------------+---------------+------+----------------------------+\n",
      "|    | CODMUNRES   | ANO_OBITO   | POP_MERGE    | causes_deaths                             |   CONTADOR |   pop_under74 | UF   | mun_no                     |\n",
      "|----+-------------+-------------+--------------+-------------------------------------------+------------+---------------+------+----------------------------|\n",
      "| 80 | _110001     | _2022       | _2022_110001 | Accidental Injuries                       |          1 |         20742 | RO   | Alta Floresta D'Oeste (RO) |\n",
      "| 81 | _110001     | _2022       | _2022_110001 | Alcohol-specific disorders and poisonings |          1 |         20742 | RO   | Alta Floresta D'Oeste (RO) |\n",
      "| 82 | _110001     | _2022       | _2022_110001 | Assault                                   |          3 |         20742 | RO   | Alta Floresta D'Oeste (RO) |\n",
      "| 83 | _110001     | _2022       | _2022_110001 | Benign neoplasm                           |          1 |         20742 | RO   | Alta Floresta D'Oeste (RO) |\n",
      "| 84 | _110001     | _2022       | _2022_110001 | Cerebrovascular diseases                  |          9 |         20742 | RO   | Alta Floresta D'Oeste (RO) |\n",
      "+----+-------------+-------------+--------------+-------------------------------------------+------------+---------------+------+----------------------------+\n"
     ]
    }
   ],
   "source": [
    "# Filtrar o ano de 2022\n",
    "dom_temp01 = dom_temp.loc[dom_temp['ANO_OBITO'] =='_2022']\n",
    "\n",
    "# mostrar dados gerais da tabela após transformações\n",
    "tab = dom_temp01\n",
    "print(f'Registro da tabela : {tab.shape[0]}')\n",
    "print(f'Contagem de óbitos : {tab.CONTADOR.sum()}')\n",
    "print(tabulate(tab.head(), headers='keys', tablefmt='psql'))"
   ]
  },
  {
   "cell_type": "code",
   "execution_count": 175,
   "metadata": {},
   "outputs": [
    {
     "name": "stdout",
     "output_type": "stream",
     "text": [
      "Registro da tabela : 99406\n",
      "Contagem de óbitos : 875522\n",
      "+----+-------------+-------------+--------------+-------------------------------------------+------------+---------------+------+----------------------------+--------------+\n",
      "|    | CODMUNRES   | ANO_OBITO   | POP_MERGE    | causes_deaths                             |   CONTADOR |   pop_under74 | UF   | mun_no                     | avoid_flag   |\n",
      "|----+-------------+-------------+--------------+-------------------------------------------+------------+---------------+------+----------------------------+--------------|\n",
      "| 80 | _110001     | _2022       | _2022_110001 | Accidental Injuries                       |          1 |         20742 | RO   | Alta Floresta D'Oeste (RO) | avoid        |\n",
      "| 81 | _110001     | _2022       | _2022_110001 | Alcohol-specific disorders and poisonings |          1 |         20742 | RO   | Alta Floresta D'Oeste (RO) | avoid        |\n",
      "| 82 | _110001     | _2022       | _2022_110001 | Assault                                   |          3 |         20742 | RO   | Alta Floresta D'Oeste (RO) | avoid        |\n",
      "| 83 | _110001     | _2022       | _2022_110001 | Benign neoplasm                           |          1 |         20742 | RO   | Alta Floresta D'Oeste (RO) | avoid        |\n",
      "| 84 | _110001     | _2022       | _2022_110001 | Cerebrovascular diseases                  |          9 |         20742 | RO   | Alta Floresta D'Oeste (RO) | avoid        |\n",
      "+----+-------------+-------------+--------------+-------------------------------------------+------------+---------------+------+----------------------------+--------------+\n"
     ]
    }
   ],
   "source": [
    "dom_temp02 = dom_temp01.copy()\n",
    "\n",
    "# Incluir campo de flag de doença evitável ou não\n",
    "dom_temp02['avoid_flag'] = np.where(dom_temp02['causes_deaths'].str.startswith('causa não evitável'), 'not_avoid', 'avoid')\n",
    "\n",
    "# mostrar dados gerais da tabela após transformações\n",
    "tab = dom_temp02\n",
    "print(f'Registro da tabela : {tab.shape[0]}')\n",
    "print(f'Contagem de óbitos : {tab.CONTADOR.sum()}')\n",
    "print(tabulate(tab.head(), headers='keys', tablefmt='psql'))"
   ]
  },
  {
   "cell_type": "code",
   "execution_count": 174,
   "metadata": {},
   "outputs": [
    {
     "name": "stdout",
     "output_type": "stream",
     "text": [
      "Registro da tabela : 93853\n",
      "Contagem de pop : 7951778491.0\n",
      "Contagem de óbitos : 534729\n",
      "+----+-------------+-------------+--------------+-------------------------------------------+------------+---------------+------+----------------------------+--------------+\n",
      "|    | CODMUNRES   | ANO_OBITO   | POP_MERGE    | causes_deaths                             |   CONTADOR |   pop_under74 | UF   | mun_no                     | avoid_flag   |\n",
      "|----+-------------+-------------+--------------+-------------------------------------------+------------+---------------+------+----------------------------+--------------|\n",
      "| 80 | _110001     | _2022       | _2022_110001 | Accidental Injuries                       |          1 |         20742 | RO   | Alta Floresta D'Oeste (RO) | avoid        |\n",
      "| 81 | _110001     | _2022       | _2022_110001 | Alcohol-specific disorders and poisonings |          1 |         20742 | RO   | Alta Floresta D'Oeste (RO) | avoid        |\n",
      "| 82 | _110001     | _2022       | _2022_110001 | Assault                                   |          3 |         20742 | RO   | Alta Floresta D'Oeste (RO) | avoid        |\n",
      "| 83 | _110001     | _2022       | _2022_110001 | Benign neoplasm                           |          1 |         20742 | RO   | Alta Floresta D'Oeste (RO) | avoid        |\n",
      "| 84 | _110001     | _2022       | _2022_110001 | Cerebrovascular diseases                  |          9 |         20742 | RO   | Alta Floresta D'Oeste (RO) | avoid        |\n",
      "+----+-------------+-------------+--------------+-------------------------------------------+------------+---------------+------+----------------------------+--------------+\n"
     ]
    }
   ],
   "source": [
    "dom_temp03 = dom_temp02[dom_temp02['avoid_flag'] == 'avoid']\n",
    "\n",
    "# mostrar dados gerais da tabela após transformações\n",
    "tab = dom_temp03\n",
    "print(f'Registro da tabela : {tab.shape[0]}')\n",
    "print(f'Contagem de pop : {tab.pop_under74.sum()}')\n",
    "print(f'Contagem de óbitos : {tab.CONTADOR.sum()}')\n",
    "print(tabulate(tab.head(), headers='keys', tablefmt='psql'))"
   ]
  },
  {
   "cell_type": "code",
   "execution_count": 204,
   "metadata": {},
   "outputs": [],
   "source": [
    "dom_temp03['mort_ind'] = (dom_temp03['CONTADOR']/dom_temp03['pop_under74'])*100000\n"
   ]
  },
  {
   "cell_type": "code",
   "execution_count": null,
   "metadata": {},
   "outputs": [
    {
     "name": "stdout",
     "output_type": "stream",
     "text": [
      "Registro da tabela : 5569\n",
      "Contagem de pop : 194644474.0\n",
      "Contagem de óbitos : 534729\n",
      "+----+-------------+------+------------+---------------+------------+\n",
      "|    | CODMUNRES   | UF   |   CONTADOR |   pop_under74 |   mort_ind |\n",
      "|----+-------------+------+------------+---------------+------------|\n",
      "|  0 | _110001     | RO   |         64 |         20742 |    308.553 |\n",
      "|  1 | _110002     | RO   |        306 |         94271 |    324.596 |\n",
      "|  2 | _110003     | RO   |         13 |          5093 |    255.252 |\n",
      "|  3 | _110004     | RO   |        201 |         84146 |    238.871 |\n",
      "|  4 | _110005     | RO   |         39 |         15292 |    255.035 |\n",
      "+----+-------------+------+------------+---------------+------------+\n"
     ]
    }
   ],
   "source": [
    "# Agrupar por município\n",
    "dom_temp04_1 = dom_temp03.groupby([\n",
    "                                   #       'Ano',\n",
    "                                        'CODMUNRES',   \n",
    "                                         'UF',\n",
    "                                        #  'causes_deaths',\n",
    "                                        #  'Sexo',\n",
    "                                        #  'Cor ou raça',\n",
    "                                        #  'pop_under74',\n",
    "                                        #  'CONTADOR',\n",
    "                                        #  'mort_ind',\n",
    "                                   #       'avoid_flag'\n",
    "\n",
    "                                         ]\n",
    "                                        ).agg({'CONTADOR': 'sum',\n",
    "                                               'pop_under74': 'min'}\n",
    "                                               ).reset_index()\n",
    "\n",
    "\n",
    "\n",
    "dom_temp04_1['mort_ind'] = (dom_temp04_1['CONTADOR']/dom_temp04_1['pop_under74'])*100000\n",
    "\n",
    "# mostrar dados gerais da tabela após transformações\n",
    "tab = dom_temp04_1\n",
    "print(f'Registro da tabela : {tab.shape[0]}')\n",
    "print(f'Contagem de pop : {tab.pop_under74.sum()}')\n",
    "print(f'Contagem de óbitos : {tab.CONTADOR.sum()}')\n",
    "print(tabulate(tab.head(), headers='keys', tablefmt='psql'))"
   ]
  },
  {
   "cell_type": "markdown",
   "metadata": {},
   "source": [
    "### Dataframe Pronto"
   ]
  },
  {
   "cell_type": "code",
   "execution_count": 185,
   "metadata": {},
   "outputs": [
    {
     "name": "stdout",
     "output_type": "stream",
     "text": [
      "Registro da tabela : 5569\n",
      "Contagem de pop : 194644474.0\n",
      "Contagem de óbitos : 534729\n",
      "+----+-------------+------+------------+---------------+------------+\n",
      "|    | CODMUNRES   | UF   |   CONTADOR |   pop_under74 |   mort_ind |\n",
      "|----+-------------+------+------------+---------------+------------|\n",
      "|  0 | _110001     | RO   |         64 |         20742 |    308.553 |\n",
      "|  1 | _110002     | RO   |        306 |         94271 |    324.596 |\n",
      "|  2 | _110003     | RO   |         13 |          5093 |    255.252 |\n",
      "|  3 | _110004     | RO   |        201 |         84146 |    238.871 |\n",
      "|  4 | _110005     | RO   |         39 |         15292 |    255.035 |\n",
      "+----+-------------+------+------------+---------------+------------+\n"
     ]
    }
   ],
   "source": [
    "\n",
    "dom_temp04 = dom_temp04_1.copy()\n",
    "dom_temp04['mort_ind'] = (dom_temp04['CONTADOR']/dom_temp04['pop_under74'])*100000\n",
    "\n",
    "\n",
    "# mostrar dados gerais da tabela após transformações\n",
    "tab = dom_temp04\n",
    "print(f'Registro da tabela : {tab.shape[0]}')\n",
    "print(f'Contagem de pop : {tab.pop_under74.sum()}')\n",
    "print(f'Contagem de óbitos : {tab.CONTADOR.sum()}')\n",
    "print(tabulate(tab.head(), headers='keys', tablefmt='psql'))"
   ]
  },
  {
   "cell_type": "code",
   "execution_count": 3,
   "metadata": {},
   "outputs": [
    {
     "data": {
      "text/html": [
       "<div>\n",
       "<style scoped>\n",
       "    .dataframe tbody tr th:only-of-type {\n",
       "        vertical-align: middle;\n",
       "    }\n",
       "\n",
       "    .dataframe tbody tr th {\n",
       "        vertical-align: top;\n",
       "    }\n",
       "\n",
       "    .dataframe thead th {\n",
       "        text-align: right;\n",
       "    }\n",
       "</style>\n",
       "<table border=\"1\" class=\"dataframe\">\n",
       "  <thead>\n",
       "    <tr style=\"text-align: right;\">\n",
       "      <th></th>\n",
       "      <th>setting</th>\n",
       "      <th>date</th>\n",
       "      <th>source</th>\n",
       "      <th>indicator_abbr</th>\n",
       "      <th>indicator_name</th>\n",
       "      <th>dimension</th>\n",
       "      <th>subgroup</th>\n",
       "      <th>estimate</th>\n",
       "      <th>se</th>\n",
       "      <th>ci_lb</th>\n",
       "      <th>ci_ub</th>\n",
       "      <th>population</th>\n",
       "      <th>note</th>\n",
       "      <th>setting_average</th>\n",
       "      <th>iso3</th>\n",
       "      <th>favourable_indicator</th>\n",
       "      <th>indicator_scale</th>\n",
       "      <th>ordered_dimension</th>\n",
       "      <th>subgroup_order</th>\n",
       "      <th>reference_subgroup</th>\n",
       "    </tr>\n",
       "  </thead>\n",
       "  <tbody>\n",
       "    <tr>\n",
       "      <th>0</th>\n",
       "      <td>Rondônia</td>\n",
       "      <td>2019</td>\n",
       "      <td>SIM/SUS &amp; Censo/IBGE</td>\n",
       "      <td>AVM</td>\n",
       "      <td>Avoidable mortality (deaths per 100 000 popula...</td>\n",
       "      <td>Alta Floresta D'Oeste (RO)</td>\n",
       "      <td>Homens - raça/cor Branca</td>\n",
       "      <td>471</td>\n",
       "      <td>NaN</td>\n",
       "      <td>NaN</td>\n",
       "      <td>NaN</td>\n",
       "      <td>3606.0</td>\n",
       "      <td>NaN</td>\n",
       "      <td>239</td>\n",
       "      <td>NaN</td>\n",
       "      <td>0</td>\n",
       "      <td>100000</td>\n",
       "      <td>0</td>\n",
       "      <td>0</td>\n",
       "      <td>0</td>\n",
       "    </tr>\n",
       "    <tr>\n",
       "      <th>1</th>\n",
       "      <td>Rondônia</td>\n",
       "      <td>2019</td>\n",
       "      <td>SIM/SUS &amp; Censo/IBGE</td>\n",
       "      <td>AVM</td>\n",
       "      <td>Avoidable mortality (deaths per 100 000 popula...</td>\n",
       "      <td>Alta Floresta D'Oeste (RO)</td>\n",
       "      <td>Homens - raça/cor Branca</td>\n",
       "      <td>471</td>\n",
       "      <td>NaN</td>\n",
       "      <td>NaN</td>\n",
       "      <td>NaN</td>\n",
       "      <td>3606.0</td>\n",
       "      <td>NaN</td>\n",
       "      <td>239</td>\n",
       "      <td>NaN</td>\n",
       "      <td>0</td>\n",
       "      <td>100000</td>\n",
       "      <td>0</td>\n",
       "      <td>0</td>\n",
       "      <td>0</td>\n",
       "    </tr>\n",
       "    <tr>\n",
       "      <th>2</th>\n",
       "      <td>Rondônia</td>\n",
       "      <td>2019</td>\n",
       "      <td>SIM/SUS &amp; Censo/IBGE</td>\n",
       "      <td>AVM</td>\n",
       "      <td>Avoidable mortality (deaths per 100 000 popula...</td>\n",
       "      <td>Alta Floresta D'Oeste (RO)</td>\n",
       "      <td>Homens - raça/cor Branca</td>\n",
       "      <td>471</td>\n",
       "      <td>NaN</td>\n",
       "      <td>NaN</td>\n",
       "      <td>NaN</td>\n",
       "      <td>3606.0</td>\n",
       "      <td>NaN</td>\n",
       "      <td>239</td>\n",
       "      <td>NaN</td>\n",
       "      <td>0</td>\n",
       "      <td>100000</td>\n",
       "      <td>0</td>\n",
       "      <td>0</td>\n",
       "      <td>0</td>\n",
       "    </tr>\n",
       "    <tr>\n",
       "      <th>3</th>\n",
       "      <td>Rondônia</td>\n",
       "      <td>2019</td>\n",
       "      <td>SIM/SUS &amp; Censo/IBGE</td>\n",
       "      <td>AVM</td>\n",
       "      <td>Avoidable mortality (deaths per 100 000 popula...</td>\n",
       "      <td>Alta Floresta D'Oeste (RO)</td>\n",
       "      <td>Homens - raça/cor Branca</td>\n",
       "      <td>471</td>\n",
       "      <td>NaN</td>\n",
       "      <td>NaN</td>\n",
       "      <td>NaN</td>\n",
       "      <td>3606.0</td>\n",
       "      <td>NaN</td>\n",
       "      <td>239</td>\n",
       "      <td>NaN</td>\n",
       "      <td>0</td>\n",
       "      <td>100000</td>\n",
       "      <td>0</td>\n",
       "      <td>0</td>\n",
       "      <td>0</td>\n",
       "    </tr>\n",
       "    <tr>\n",
       "      <th>4</th>\n",
       "      <td>Rondônia</td>\n",
       "      <td>2019</td>\n",
       "      <td>SIM/SUS &amp; Censo/IBGE</td>\n",
       "      <td>AVM</td>\n",
       "      <td>Avoidable mortality (deaths per 100 000 popula...</td>\n",
       "      <td>Alta Floresta D'Oeste (RO)</td>\n",
       "      <td>Homens - raça/cor Branca</td>\n",
       "      <td>471</td>\n",
       "      <td>NaN</td>\n",
       "      <td>NaN</td>\n",
       "      <td>NaN</td>\n",
       "      <td>3606.0</td>\n",
       "      <td>NaN</td>\n",
       "      <td>239</td>\n",
       "      <td>NaN</td>\n",
       "      <td>0</td>\n",
       "      <td>100000</td>\n",
       "      <td>0</td>\n",
       "      <td>0</td>\n",
       "      <td>0</td>\n",
       "    </tr>\n",
       "  </tbody>\n",
       "</table>\n",
       "</div>"
      ],
      "text/plain": [
       "    setting  date                source indicator_abbr  \\\n",
       "0  Rondônia  2019  SIM/SUS & Censo/IBGE            AVM   \n",
       "1  Rondônia  2019  SIM/SUS & Censo/IBGE            AVM   \n",
       "2  Rondônia  2019  SIM/SUS & Censo/IBGE            AVM   \n",
       "3  Rondônia  2019  SIM/SUS & Censo/IBGE            AVM   \n",
       "4  Rondônia  2019  SIM/SUS & Censo/IBGE            AVM   \n",
       "\n",
       "                                      indicator_name  \\\n",
       "0  Avoidable mortality (deaths per 100 000 popula...   \n",
       "1  Avoidable mortality (deaths per 100 000 popula...   \n",
       "2  Avoidable mortality (deaths per 100 000 popula...   \n",
       "3  Avoidable mortality (deaths per 100 000 popula...   \n",
       "4  Avoidable mortality (deaths per 100 000 popula...   \n",
       "\n",
       "                    dimension                  subgroup  estimate  se  ci_lb  \\\n",
       "0  Alta Floresta D'Oeste (RO)  Homens - raça/cor Branca       471 NaN    NaN   \n",
       "1  Alta Floresta D'Oeste (RO)  Homens - raça/cor Branca       471 NaN    NaN   \n",
       "2  Alta Floresta D'Oeste (RO)  Homens - raça/cor Branca       471 NaN    NaN   \n",
       "3  Alta Floresta D'Oeste (RO)  Homens - raça/cor Branca       471 NaN    NaN   \n",
       "4  Alta Floresta D'Oeste (RO)  Homens - raça/cor Branca       471 NaN    NaN   \n",
       "\n",
       "   ci_ub  population  note  setting_average  iso3  favourable_indicator  \\\n",
       "0    NaN      3606.0   NaN              239   NaN                     0   \n",
       "1    NaN      3606.0   NaN              239   NaN                     0   \n",
       "2    NaN      3606.0   NaN              239   NaN                     0   \n",
       "3    NaN      3606.0   NaN              239   NaN                     0   \n",
       "4    NaN      3606.0   NaN              239   NaN                     0   \n",
       "\n",
       "   indicator_scale  ordered_dimension  subgroup_order  reference_subgroup  \n",
       "0           100000                  0               0                   0  \n",
       "1           100000                  0               0                   0  \n",
       "2           100000                  0               0                   0  \n",
       "3           100000                  0               0                   0  \n",
       "4           100000                  0               0                   0  "
      ]
     },
     "execution_count": 3,
     "metadata": {},
     "output_type": "execute_result"
    }
   ],
   "source": [
    "dom_temp = pd.read_csv('files_out/ds1_UF_mun_sexo&cor_10_19a22.csv')\n",
    "dom_temp.head()"
   ]
  },
  {
   "cell_type": "markdown",
   "metadata": {},
   "source": [
    "### Município - análise de variância (ANOVA)"
   ]
  },
  {
   "cell_type": "code",
   "execution_count": 18,
   "metadata": {},
   "outputs": [
    {
     "name": "stdout",
     "output_type": "stream",
     "text": [
      "P-valor: 0.0\n",
      "\u001b[33m ==> Existe diferença significativa entre as médias dos grupos.\u001b[0m\n"
     ]
    },
    {
     "name": "stderr",
     "output_type": "stream",
     "text": [
      "/home/codespace/.local/lib/python3.12/site-packages/scipy/stats/_axis_nan_policy.py:573: ConstantInputWarning: Each of the input arrays is constant; the F statistic is not defined or infinite\n",
      "  res = hypotest_fun_out(*samples, **kwds)\n"
     ]
    }
   ],
   "source": [
    "# Criando um DataFrame com os dados\n",
    "\n",
    "df = dom_temp[dom_temp['date']==2022]\n",
    "\n",
    "# Realizando a ANOVA e armazenando o p-valor\n",
    "f_stat, p_val = stats.f_oneway(*[group['setting_average'] for name, group in df.groupby('setting')])\n",
    "\n",
    "# Imprimindo o resultado\n",
    "print(\"P-valor:\", p_val)\n",
    "\n",
    "# Interpretação do resultado (exemplo)\n",
    "if p_val < 0.05:\n",
    "    print_y(\"Existe diferença significativa entre as médias dos grupos.\")\n",
    "else:\n",
    "    print(\"Não há evidência de diferença significativa entre as médias dos grupos.\")"
   ]
  },
  {
   "cell_type": "code",
   "execution_count": 19,
   "metadata": {},
   "outputs": [
    {
     "name": "stdout",
     "output_type": "stream",
     "text": [
      "P-valor: 0.0\n",
      "\u001b[33m ==> Existe diferença significativa entre as médias dos grupos.\u001b[0m\n"
     ]
    }
   ],
   "source": [
    "# Criando um DataFrame com os dados\n",
    "\n",
    "df = dom_temp[dom_temp['date']==2022]\n",
    "\n",
    "# Realizando a ANOVA e armazenando o p-valor\n",
    "f_stat, p_val = stats.f_oneway(*[group['estimate'] for name, group in df.groupby('dimension')])\n",
    "\n",
    "# Imprimindo o resultado\n",
    "print(\"P-valor:\", p_val)\n",
    "\n",
    "# Interpretação do resultado (exemplo)\n",
    "if p_val < 0.05:\n",
    "    print_y(\"Existe diferença significativa entre as médias dos grupos.\")\n",
    "else:\n",
    "    print(\"Não há evidência de diferença significativa entre as médias dos grupos.\")"
   ]
  },
  {
   "cell_type": "code",
   "execution_count": 15,
   "metadata": {},
   "outputs": [
    {
     "data": {
      "text/html": [
       "<div>\n",
       "<style scoped>\n",
       "    .dataframe tbody tr th:only-of-type {\n",
       "        vertical-align: middle;\n",
       "    }\n",
       "\n",
       "    .dataframe tbody tr th {\n",
       "        vertical-align: top;\n",
       "    }\n",
       "\n",
       "    .dataframe thead th {\n",
       "        text-align: right;\n",
       "    }\n",
       "</style>\n",
       "<table border=\"1\" class=\"dataframe\">\n",
       "  <thead>\n",
       "    <tr style=\"text-align: right;\">\n",
       "      <th></th>\n",
       "      <th>setting</th>\n",
       "      <th>setting_average</th>\n",
       "    </tr>\n",
       "  </thead>\n",
       "  <tbody>\n",
       "    <tr>\n",
       "      <th>0</th>\n",
       "      <td>Acre</td>\n",
       "      <td>216.0</td>\n",
       "    </tr>\n",
       "    <tr>\n",
       "      <th>1</th>\n",
       "      <td>Alagoas</td>\n",
       "      <td>296.0</td>\n",
       "    </tr>\n",
       "    <tr>\n",
       "      <th>2</th>\n",
       "      <td>Amapá</td>\n",
       "      <td>244.0</td>\n",
       "    </tr>\n",
       "    <tr>\n",
       "      <th>3</th>\n",
       "      <td>Amazonas</td>\n",
       "      <td>238.0</td>\n",
       "    </tr>\n",
       "    <tr>\n",
       "      <th>4</th>\n",
       "      <td>Bahia</td>\n",
       "      <td>273.0</td>\n",
       "    </tr>\n",
       "  </tbody>\n",
       "</table>\n",
       "</div>"
      ],
      "text/plain": [
       "    setting  setting_average\n",
       "0      Acre            216.0\n",
       "1   Alagoas            296.0\n",
       "2     Amapá            244.0\n",
       "3  Amazonas            238.0\n",
       "4     Bahia            273.0"
      ]
     },
     "execution_count": 15,
     "metadata": {},
     "output_type": "execute_result"
    }
   ],
   "source": [
    "dom_temp01 = dom_temp[dom_temp['date']==2022]\n",
    "# Agrupar por município\n",
    "dom_temp01_min = dom_temp01.groupby([\n",
    "                                   #       'Ano',\n",
    "                                        # 'CODMUNRES',   \n",
    "                                         'setting',\n",
    "                                        #  'causes_deaths',\n",
    "                                        #  'Sexo',\n",
    "                                        #  'Cor ou raça',\n",
    "                                        #  'pop_under74',\n",
    "                                        #  'CONTADOR',\n",
    "                                        #  'mort_ind',\n",
    "                                   #       'avoid_flag'\n",
    "\n",
    "                                         ]\n",
    "                                        ).agg({'setting_average': 'min'}\n",
    "                                               ).reset_index()\n",
    "\n",
    "# Agrupar por município\n",
    "dom_temp01_mean = dom_temp01.groupby([\n",
    "                                   #       'Ano',\n",
    "                                        # 'CODMUNRES',   \n",
    "                                         'setting',\n",
    "                                        #  'causes_deaths',\n",
    "                                        #  'Sexo',\n",
    "                                        #  'Cor ou raça',\n",
    "                                        #  'pop_under74',\n",
    "                                        #  'CONTADOR',\n",
    "                                        #  'mort_ind',\n",
    "                                   #       'avoid_flag'\n",
    "\n",
    "                                         ]\n",
    "                                        ).agg({'setting_average': 'mean'}\n",
    "                                               ).reset_index()\n",
    "\n",
    "dom_temp01_mean.head()"
   ]
  },
  {
   "cell_type": "code",
   "execution_count": 17,
   "metadata": {},
   "outputs": [
    {
     "data": {
      "text/html": [
       "<div>\n",
       "<style scoped>\n",
       "    .dataframe tbody tr th:only-of-type {\n",
       "        vertical-align: middle;\n",
       "    }\n",
       "\n",
       "    .dataframe tbody tr th {\n",
       "        vertical-align: top;\n",
       "    }\n",
       "\n",
       "    .dataframe thead th {\n",
       "        text-align: right;\n",
       "    }\n",
       "</style>\n",
       "<table border=\"1\" class=\"dataframe\">\n",
       "  <thead>\n",
       "    <tr style=\"text-align: right;\">\n",
       "      <th></th>\n",
       "      <th>setting</th>\n",
       "      <th>setting_average</th>\n",
       "    </tr>\n",
       "  </thead>\n",
       "  <tbody>\n",
       "    <tr>\n",
       "      <th>0</th>\n",
       "      <td>Acre</td>\n",
       "      <td>216</td>\n",
       "    </tr>\n",
       "    <tr>\n",
       "      <th>1</th>\n",
       "      <td>Alagoas</td>\n",
       "      <td>296</td>\n",
       "    </tr>\n",
       "    <tr>\n",
       "      <th>2</th>\n",
       "      <td>Amapá</td>\n",
       "      <td>244</td>\n",
       "    </tr>\n",
       "    <tr>\n",
       "      <th>3</th>\n",
       "      <td>Amazonas</td>\n",
       "      <td>238</td>\n",
       "    </tr>\n",
       "    <tr>\n",
       "      <th>4</th>\n",
       "      <td>Bahia</td>\n",
       "      <td>273</td>\n",
       "    </tr>\n",
       "  </tbody>\n",
       "</table>\n",
       "</div>"
      ],
      "text/plain": [
       "    setting  setting_average\n",
       "0      Acre              216\n",
       "1   Alagoas              296\n",
       "2     Amapá              244\n",
       "3  Amazonas              238\n",
       "4     Bahia              273"
      ]
     },
     "execution_count": 17,
     "metadata": {},
     "output_type": "execute_result"
    }
   ],
   "source": [
    "dom_temp01_min.head()"
   ]
  },
  {
   "cell_type": "code",
   "execution_count": 20,
   "metadata": {},
   "outputs": [
    {
     "name": "stdout",
     "output_type": "stream",
     "text": [
      "P-valor: nan\n",
      "Não há evidência de diferença significativa entre as médias dos grupos.\n"
     ]
    },
    {
     "name": "stderr",
     "output_type": "stream",
     "text": [
      "/home/codespace/.local/lib/python3.12/site-packages/scipy/stats/_axis_nan_policy.py:567: SmallSampleWarning: all input arrays have length 1.  f_oneway requires that at least one input has length greater than 1.\n",
      "  if is_too_small(samples, kwds):\n",
      "/tmp/ipykernel_39839/3614673345.py:6: SmallSampleWarning: One or more sample arguments is too small; all returned values will be NaN. See documentation for sample size requirements.\n",
      "  f_stat, p_val = stats.f_oneway(*[group['setting_average'] for name, group in df.groupby('setting')])\n"
     ]
    }
   ],
   "source": [
    "# Criando um DataFrame com os dados\n",
    "\n",
    "df = dom_temp01_min\n",
    "\n",
    "# Realizando a ANOVA e armazenando o p-valor\n",
    "f_stat, p_val = stats.f_oneway(*[group['setting_average'] for name, group in df.groupby('setting')])\n",
    "\n",
    "# Imprimindo o resultado\n",
    "print(\"P-valor:\", p_val)\n",
    "\n",
    "# Interpretação do resultado (exemplo)\n",
    "if p_val < 0.05:\n",
    "    print_y(\"Existe diferença significativa entre as médias dos grupos.\")\n",
    "else:\n",
    "    print(\"Não há evidência de diferença significativa entre as médias dos grupos.\")"
   ]
  },
  {
   "cell_type": "code",
   "execution_count": null,
   "metadata": {},
   "outputs": [],
   "source": [
    "\n",
    "dom_temp04_2['mort_ind'] = (dom_temp04_2['CONTADOR']/dom_temp04_2['pop_under74'])*100000\n",
    "\n",
    "# mostrar dados gerais da tabela após transformações\n",
    "tab = dom_temp04_2\n",
    "print(f'Registro da tabela : {tab.shape[0]}')\n",
    "print(f'Contagem de pop : {tab.pop_under74.sum()}')\n",
    "print(f'Contagem de óbitos : {tab.CONTADOR.sum()}')\n",
    "print(tabulate(tab.head(), headers='keys', tablefmt='psql'))"
   ]
  },
  {
   "cell_type": "markdown",
   "metadata": {},
   "source": [
    "### UF - análise de variância (ANOVA)"
   ]
  },
  {
   "cell_type": "code",
   "execution_count": 206,
   "metadata": {},
   "outputs": [
    {
     "name": "stdout",
     "output_type": "stream",
     "text": [
      "P-valor: 0.0\n",
      "\u001b[33m ==> Existe diferença significativa entre as médias dos grupos.\u001b[0m\n"
     ]
    }
   ],
   "source": [
    "# Criando um DataFrame com os dados\n",
    "\n",
    "df = dom_temp03\n",
    "\n",
    "# Realizando a ANOVA e armazenando o p-valor\n",
    "f_stat, p_val = stats.f_oneway(*[group['mort_ind'] for name, group in df.groupby('UF')])\n",
    "\n",
    "# Imprimindo o resultado\n",
    "print(\"P-valor:\", p_val)\n",
    "\n",
    "# Interpretação do resultado (exemplo)\n",
    "if p_val < 0.05:\n",
    "    print_y(\"Existe diferença significativa entre as médias dos grupos.\")\n",
    "else:\n",
    "    print(\"Não há evidência de diferença significativa entre as médias dos grupos.\")"
   ]
  },
  {
   "cell_type": "markdown",
   "metadata": {},
   "source": [
    "## Outros Módulos"
   ]
  },
  {
   "cell_type": "code",
   "execution_count": null,
   "metadata": {},
   "outputs": [],
   "source": [
    "import statsmodels.api as sm\n",
    "df1 = dobr\n",
    "var_cat = 'SEXO'\n",
    "valor = 'mort_ind'\n",
    "\n",
    "\n",
    "\n",
    "# Criando variáveis dummy para as categorias\n",
    "df = pd.get_dummies(df1, columns=[var_cat])\n",
    "\n",
    "# Modelo de regressão linear\n",
    "model = sm.OLS(df[valor], df[var_cat])\n",
    "results = model.fit()\n",
    "print(results.summary())"
   ]
  },
  {
   "cell_type": "code",
   "execution_count": null,
   "metadata": {},
   "outputs": [],
   "source": [
    "# ### Exemplo Completo para Análise de Catetorias\n",
    "# import pandas as pd\n",
    "# import seaborn as sns\n",
    "\n",
    "\n",
    "# # Análise exploratória\n",
    "# print(df.groupby('categoria')['valor'].describe())\n",
    "\n",
    "# # Visualização\n",
    "# sns.boxplot(x='categoria', y='valor', data=df)\n",
    "\n",
    "# # Teste ANOVA\n",
    "# from scipy import stats\n",
    "# grupos = df.groupby('categoria')['valor'].apply(list)\n",
    "# stats.f_oneway(*grupos)"
   ]
  },
  {
   "cell_type": "code",
   "execution_count": null,
   "metadata": {},
   "outputs": [],
   "source": [
    "### Exemplo Completo para Análise de Catetorias\n",
    "df = dobr\n",
    "var_cat = 'SEXO'\n",
    "valor = 'mort_ind'\n",
    "\n",
    "# Análise exploratória\n",
    "print(df.groupby(var_cat)[valor].describe())\n",
    "\n",
    "# Visualização\n",
    "sns.boxplot(x=var_cat, y=valor, data=df)\n",
    "\n",
    "# Teste ANOVA\n",
    "from scipy import stats\n",
    "grupos = dobr.groupby(var_cat)[valor].apply(list)\n",
    "stats.f_oneway(*grupos)"
   ]
  },
  {
   "cell_type": "code",
   "execution_count": null,
   "metadata": {},
   "outputs": [],
   "source": [
    "# Calcular ANOVA\n",
    "stats.f_oneway(valores_categoria1, valores_categoria2, ...)"
   ]
  },
  {
   "cell_type": "code",
   "execution_count": null,
   "metadata": {},
   "outputs": [],
   "source": [
    "#Ajustar um tamanho para o gráfico (1000x1000)\n",
    "plt.figure(figsize=(10, 10))\n",
    "\n",
    "#Matriz de correlação\n",
    "dataplot = sns.heatmap(dobr.corr(),\n",
    "                       annot=True,\n",
    "                       fmt='.1f') #annot são anotações e fmt a formatação dos valores"
   ]
  },
  {
   "cell_type": "markdown",
   "metadata": {},
   "source": [
    "### Exemplos do gemini"
   ]
  },
  {
   "cell_type": "code",
   "execution_count": 87,
   "metadata": {},
   "outputs": [
    {
     "name": "stdout",
     "output_type": "stream",
     "text": [
      "F-statistic: 28.000000000000036\n",
      "p-value: 0.0009063139874458697\n"
     ]
    }
   ],
   "source": [
    "import pandas as pd\n",
    "from scipy import stats\n",
    "\n",
    "# Criando um DataFrame com os dados\n",
    "data = {'Fertilizante': ['A', 'A', 'A', 'B', 'B', 'B', 'C', 'C', 'C'],\n",
    "        'Altura': [10, 12, 11, 15, 14, 16, 8, 9, 10]}\n",
    "df = pd.DataFrame(data)\n",
    "\n",
    "# Realizando a ANOVA\n",
    "f_statistic, p_value = stats.f_oneway(df['Altura'][df['Fertilizante'] == 'A'],\n",
    "                                   df['Altura'][df['Fertilizante'] == 'B'],\n",
    "                                   df['Altura'][df['Fertilizante'] == 'C'])\n",
    "\n",
    "# Imprimindo os resultados\n",
    "print('F-statistic:', f_statistic)\n",
    "print('p-value:', p_value)"
   ]
  }
 ],
 "metadata": {
  "kernelspec": {
   "display_name": "Python 3",
   "language": "python",
   "name": "python3"
  },
  "language_info": {
   "codemirror_mode": {
    "name": "ipython",
    "version": 3
   },
   "file_extension": ".py",
   "mimetype": "text/x-python",
   "name": "python",
   "nbconvert_exporter": "python",
   "pygments_lexer": "ipython3",
   "version": "3.undefined.undefined"
  }
 },
 "nbformat": 4,
 "nbformat_minor": 2
}
